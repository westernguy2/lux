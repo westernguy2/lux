{
 "cells": [
  {
   "cell_type": "code",
   "execution_count": 5,
   "metadata": {},
   "outputs": [],
   "source": [
    "import pandas as pd\n",
    "import numpy as np"
   ]
  },
  {
   "cell_type": "code",
   "execution_count": 10,
   "metadata": {},
   "outputs": [
    {
     "data": {
      "text/html": [
       "<div>\n",
       "<style scoped>\n",
       "    .dataframe tbody tr th:only-of-type {\n",
       "        vertical-align: middle;\n",
       "    }\n",
       "\n",
       "    .dataframe tbody tr th {\n",
       "        vertical-align: top;\n",
       "    }\n",
       "\n",
       "    .dataframe thead th {\n",
       "        text-align: right;\n",
       "    }\n",
       "</style>\n",
       "<table border=\"1\" class=\"dataframe\">\n",
       "  <thead>\n",
       "    <tr style=\"text-align: right;\">\n",
       "      <th></th>\n",
       "      <th>0</th>\n",
       "    </tr>\n",
       "  </thead>\n",
       "  <tbody>\n",
       "    <tr>\n",
       "      <th>0</th>\n",
       "      <td>__setattr__</td>\n",
       "    </tr>\n",
       "    <tr>\n",
       "      <th>1</th>\n",
       "      <td>__setattr__</td>\n",
       "    </tr>\n",
       "    <tr>\n",
       "      <th>2</th>\n",
       "      <td>__setattr__</td>\n",
       "    </tr>\n",
       "    <tr>\n",
       "      <th>3</th>\n",
       "      <td>__setattr__</td>\n",
       "    </tr>\n",
       "    <tr>\n",
       "      <th>4</th>\n",
       "      <td>__setattr__</td>\n",
       "    </tr>\n",
       "    <tr>\n",
       "      <th>...</th>\n",
       "      <td>...</td>\n",
       "    </tr>\n",
       "    <tr>\n",
       "      <th>303265</th>\n",
       "      <td>_info_axis</td>\n",
       "    </tr>\n",
       "    <tr>\n",
       "      <th>303266</th>\n",
       "      <td>__getattr__</td>\n",
       "    </tr>\n",
       "    <tr>\n",
       "      <th>303267</th>\n",
       "      <td>_info_axis</td>\n",
       "    </tr>\n",
       "    <tr>\n",
       "      <th>303268</th>\n",
       "      <td>__getattr__</td>\n",
       "    </tr>\n",
       "    <tr>\n",
       "      <th>303269</th>\n",
       "      <td>_info_axis</td>\n",
       "    </tr>\n",
       "  </tbody>\n",
       "</table>\n",
       "<p>303270 rows × 1 columns</p>\n",
       "</div>"
      ],
      "text/plain": [
       "                  0\n",
       "0       __setattr__\n",
       "1       __setattr__\n",
       "2       __setattr__\n",
       "3       __setattr__\n",
       "4       __setattr__\n",
       "...             ...\n",
       "303265   _info_axis\n",
       "303266  __getattr__\n",
       "303267   _info_axis\n",
       "303268  __getattr__\n",
       "303269   _info_axis\n",
       "\n",
       "[303270 rows x 1 columns]"
      ]
     },
     "execution_count": 10,
     "metadata": {},
     "output_type": "execute_result"
    }
   ],
   "source": [
    "df = pd.read_csv(\"test.txt\", header=None).iloc[:,0].to_frame()"
   ]
  },
  {
   "cell_type": "code",
   "execution_count": 35,
   "metadata": {},
   "outputs": [],
   "source": [
    "counts = df[0].value_counts().head(20)"
   ]
  },
  {
   "cell_type": "code",
   "execution_count": 36,
   "metadata": {},
   "outputs": [
    {
     "data": {
      "text/plain": [
       "<matplotlib.axes._subplots.AxesSubplot at 0x11ddcb3d0>"
      ]
     },
     "execution_count": 36,
     "metadata": {},
     "output_type": "execute_result"
    },
    {
     "data": {
      "image/png": "[encoded data removed]",
      "text/plain": [
       "<Figure size 432x288 with 1 Axes>"
      ]
     },
     "metadata": {
      "needs_background": "light"
     },
     "output_type": "display_data"
    }
   ],
   "source": [
    "sns.barplot(y=counts.index, x=counts)"
   ]
  },
  {
   "cell_type": "code",
   "execution_count": 37,
   "metadata": {},
   "outputs": [
    {
     "data": {
      "text/plain": [
       "__setattr__                102340\n",
       "__getattr__                 53039\n",
       "_info_axis                  38401\n",
       "__init__                    18398\n",
       "_get_axis_number            16324\n",
       "_get_axis                   12095\n",
       "_set_as_cached               6859\n",
       "__getitem__                  6703\n",
       "__finalize__                 6624\n",
       "_get_item_cache              6203\n",
       "_box_col_values              5551\n",
       "_validate_dtype              4648\n",
       "__len__                      4451\n",
       "_clear_item_cache            3055\n",
       "_constructor                 2049\n",
       "_get_block_manager_axis      1406\n",
       "_protect_consolidate         1349\n",
       "_consolidate_inplace         1343\n",
       "_ixs                         1315\n",
       "_ensure_valid_index           969\n",
       "Name: 0, dtype: int64"
      ]
     },
     "execution_count": 37,
     "metadata": {},
     "output_type": "execute_result"
    }
   ],
   "source": [
    "counts"
   ]
  },
  {
   "cell_type": "code",
   "execution_count": null,
   "metadata": {},
   "outputs": [],
   "source": []
  }
 ],
 "metadata": {
  "kernelspec": {
   "display_name": "Python 3",
   "language": "python",
   "name": "python3"
  },
  "language_info": {
   "codemirror_mode": {
    "name": "ipython",
    "version": 3
   },
   "file_extension": ".py",
   "mimetype": "text/x-python",
   "name": "python",
   "nbconvert_exporter": "python",
   "pygments_lexer": "ipython3",
   "version": "3.7.7"
  }
 },
 "nbformat": 4,
 "nbformat_minor": 2
}
