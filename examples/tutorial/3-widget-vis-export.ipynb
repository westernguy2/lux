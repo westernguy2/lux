{
 "cells": [
  {
   "cell_type": "code",
   "execution_count": 1,
   "metadata": {},
   "outputs": [],
   "source": [
    "import pandas as pd\n",
    "import lux"
   ]
  },
  {
   "cell_type": "markdown",
   "metadata": {},
   "source": [
    "In this tutorial, we look at the [Happy Planet Index](http://happyplanetindex.org/) dataset, which contains metrics related to well-being for 140 countries around the world. We demonstrate how you can select visualizations of interest and export them for further analysis. "
   ]
  },
  {
   "cell_type": "code",
   "execution_count": 2,
   "metadata": {},
   "outputs": [],
   "source": [
    "url = 'https://github.com/lux-org/lux-datasets/blob/master/data/hpi.csv?raw=true'\n",
    "df = pd.read_csv(url)\n",
    "df.default_display = \"lux\" # Set Lux as default display"
   ]
  },
  {
   "cell_type": "markdown",
   "metadata": {},
   "source": [
    "Note that for the convienience of this tutorial, we have set Lux as the default display so we don't have to Toggle from the Pandas table display everytime we print the dataframe."
   ]
  },
  {
   "cell_type": "markdown",
   "metadata": {},
   "source": [
    "### Exporting one or more visualizations from recommendation widget"
   ]
  },
  {
   "cell_type": "markdown",
   "metadata": {},
   "source": [
    "In Lux, you can click on visualizations of interest and export them into a separate widget for further processing."
   ]
  },
  {
   "cell_type": "code",
   "execution_count": 3,
   "metadata": {},
   "outputs": [
    {
     "data": {
      "application/vnd.jupyter.widget-view+json": {
       "model_id": "d728deb9f63747dcae8b2cea7db24760",
       "version_major": 2,
       "version_minor": 0
      },
      "text/plain": [
       "Button(description='Toggle Pandas/Lux', layout=Layout(top='5px', width='140px'), style=ButtonStyle())"
      ]
     },
     "metadata": {},
     "output_type": "display_data"
    },
    {
     "data": {
      "application/vnd.jupyter.widget-view+json": {
       "model_id": "5b7fb3955ea54bfb8ffa2d7384e72e6b",
       "version_major": 2,
       "version_minor": 0
      },
      "text/plain": [
       "Output()"
      ]
     },
     "metadata": {},
     "output_type": "display_data"
    },
    {
     "data": {
      "text/plain": []
     },
     "execution_count": 3,
     "metadata": {},
     "output_type": "execute_result"
    }
   ],
   "source": [
    "df"
   ]
  },
  {
   "cell_type": "markdown",
   "metadata": {},
   "source": [
    "<img src=\"https://github.com/lux-org/lux-resources/blob/master/doc_img/export-1.gif?raw=true\" width=700 alt=\"1) scroll through Correlation, then 2) click on any 3 visualization (let's say 2nd, 5th and something towards the end), then 3) click on the export button and make sure the blue message box show up\">"
   ]
  },
  {
   "cell_type": "code",
   "execution_count": 5,
   "metadata": {},
   "outputs": [
    {
     "data": {
      "application/vnd.jupyter.widget-view+json": {
       "model_id": "01d80a08f32f4c0da2d054b5cebacc25",
       "version_major": 2,
       "version_minor": 0
      },
      "text/plain": [
       "LuxWidget(recommendations=[{'action': 'Vis List', 'description': 'Shows a vis list defined by the intent', 'vs…"
      ]
     },
     "metadata": {},
     "output_type": "display_data"
    },
    {
     "data": {
      "text/plain": [
       "[<Vis  (x: InequalityOfOutcomes, y: HappyLifeYears) mark: scatter, score: 0.88 >]"
      ]
     },
     "execution_count": 5,
     "metadata": {},
     "output_type": "execute_result"
    }
   ],
   "source": [
    "bookmarked_charts = df.exported\n",
    "bookmarked_charts"
   ]
  },
  {
   "cell_type": "markdown",
   "metadata": {},
   "source": [
    "From the dataframe recommendations, the visualization showing the relationship between `GDPPerCapita` and `Footprint` is very interesting. In particular, there is an outlier with extremely high ecological footprint as well as high GDP per capita. So we click on this visualization and click on the export button."
   ]
  },
  {
   "cell_type": "code",
   "execution_count": 6,
   "metadata": {},
   "outputs": [
    {
     "data": {
      "application/vnd.jupyter.widget-view+json": {
       "model_id": "55a9189a128d4f809fea70aae4e990aa",
       "version_major": 2,
       "version_minor": 0
      },
      "text/plain": [
       "Button(description='Toggle Pandas/Lux', layout=Layout(top='5px', width='140px'), style=ButtonStyle())"
      ]
     },
     "metadata": {},
     "output_type": "display_data"
    },
    {
     "data": {
      "application/vnd.jupyter.widget-view+json": {
       "model_id": "dde0f4083cda4a9996deb2447c2cb794",
       "version_major": 2,
       "version_minor": 0
      },
      "text/plain": [
       "Output()"
      ]
     },
     "metadata": {},
     "output_type": "display_data"
    },
    {
     "data": {
      "text/plain": []
     },
     "execution_count": 6,
     "metadata": {},
     "output_type": "execute_result"
    }
   ],
   "source": [
    "df"
   ]
  },
  {
   "cell_type": "code",
   "execution_count": 7,
   "metadata": {},
   "outputs": [
    {
     "data": {
      "application/vnd.jupyter.widget-view+json": {
       "model_id": "65ae3841608c475cbfc78d43146cbe10",
       "version_major": 2,
       "version_minor": 0
      },
      "text/plain": [
       "LuxWidget(current_vis={'config': {'view': {'continuousWidth': 400, 'continuousHeight': 300}, 'axis': {'labelCo…"
      ]
     },
     "metadata": {},
     "output_type": "display_data"
    },
    {
     "data": {
      "text/plain": [
       "<Vis  ([<Clause  channel: x,\n",
       "         attribute: InequalityOfOutcomes,\n",
       "         data_model: measure,\n",
       "         data_type: quantitative,\n",
       "         bin_size: 0 >, <Clause  channel: y,\n",
       "         attribute: HappyLifeYears,\n",
       "         data_model: measure,\n",
       "         data_type: quantitative,\n",
       "         bin_size: 0 >]) mark: scatter, score: 0.8842824274882581 >"
      ]
     },
     "execution_count": 7,
     "metadata": {},
     "output_type": "execute_result"
    }
   ],
   "source": [
    "# Click on the GDPPerCapita v.s. Footprint vis and export it first before running this cell\n",
    "vis = df.exported[0]\n",
    "vis"
   ]
  },
  {
   "cell_type": "code",
   "execution_count": 8,
   "metadata": {},
   "outputs": [
    {
     "data": {
      "application/vnd.jupyter.widget-view+json": {
       "model_id": "07ae2e1fd73f435c9c4dbd6e37b1b2d0",
       "version_major": 2,
       "version_minor": 0
      },
      "text/plain": [
       "LuxWidget(current_vis={'config': {'view': {'continuousWidth': 400, 'continuousHeight': 300}, 'axis': {'labelCo…"
      ]
     },
     "metadata": {},
     "output_type": "display_data"
    },
    {
     "data": {
      "text/plain": [
       "<Vis  ([<Clause  channel: x,\n",
       "         attribute: InequalityOfOutcomes,\n",
       "         data_model: measure,\n",
       "         data_type: quantitative,\n",
       "         bin_size: 0 >, <Clause  channel: y,\n",
       "         attribute: HappyLifeYears,\n",
       "         data_model: measure,\n",
       "         data_type: quantitative,\n",
       "         bin_size: 0 >]) mark: scatter, score: 0.8842824274882581 >"
      ]
     },
     "execution_count": 8,
     "metadata": {},
     "output_type": "execute_result"
    }
   ],
   "source": [
    "vis"
   ]
  },
  {
   "cell_type": "markdown",
   "metadata": {},
   "source": [
    "### Setting Vis as the Updated Intent"
   ]
  },
  {
   "cell_type": "markdown",
   "metadata": {},
   "source": [
    "Often, we might be interested in other visualizations that is related to a visualization of interest and want to learn more. With the exported Vis, we can update the intent associated with dataframe to be based on the selected Vis to get more recommendations related to this visualization."
   ]
  },
  {
   "cell_type": "code",
   "execution_count": 9,
   "metadata": {},
   "outputs": [
    {
     "data": {
      "application/vnd.jupyter.widget-view+json": {
       "model_id": "4e2ef7c0b91243f899e4b064c89508b0",
       "version_major": 2,
       "version_minor": 0
      },
      "text/plain": [
       "Button(description='Toggle Pandas/Lux', layout=Layout(top='5px', width='140px'), style=ButtonStyle())"
      ]
     },
     "metadata": {},
     "output_type": "display_data"
    },
    {
     "data": {
      "application/vnd.jupyter.widget-view+json": {
       "model_id": "90e4cc82dd6f4d9d84270fc1bbcfaa7f",
       "version_major": 2,
       "version_minor": 0
      },
      "text/plain": [
       "Output()"
      ]
     },
     "metadata": {},
     "output_type": "display_data"
    },
    {
     "data": {
      "text/plain": []
     },
     "execution_count": 9,
     "metadata": {},
     "output_type": "execute_result"
    }
   ],
   "source": [
    "df.intent = vis\n",
    "df"
   ]
  },
  {
   "cell_type": "markdown",
   "metadata": {},
   "source": [
    "### Accessing Widget State"
   ]
  },
  {
   "cell_type": "markdown",
   "metadata": {},
   "source": [
    "We can access the set of recommendations generated for the dataframes via the properties `recommendation`."
   ]
  },
  {
   "cell_type": "code",
   "execution_count": 10,
   "metadata": {
    "scrolled": false
   },
   "outputs": [
    {
     "data": {
      "text/plain": [
       "{'Enhance': [<Vis  (x: InequalityOfOutcomes, y: HappyLifeYears, color: SubRegion) mark: scatter, score: 0.17 >,\n",
       "  <Vis  (x: InequalityOfOutcomes, y: HappyLifeYears, color: InequalityAdjustedWellbeing) mark: scatter, score: 0.10 >,\n",
       "  <Vis  (x: InequalityOfOutcomes, y: HappyLifeYears, color: HPIRank) mark: scatter, score: 0.10 >,\n",
       "  <Vis  (x: InequalityOfOutcomes, y: HappyLifeYears, color: AverageLifeExpectancy) mark: scatter, score: 0.10 >,\n",
       "  <Vis  (x: InequalityOfOutcomes, y: HappyLifeYears, color: Footprint) mark: scatter, score: 0.10 >,\n",
       "  <Vis  (x: InequalityOfOutcomes, y: HappyLifeYears, color: GDPPerCapita) mark: scatter, score: 0.10 >,\n",
       "  <Vis  (x: InequalityOfOutcomes, y: HappyLifeYears, color: HappyPlanetIndex) mark: scatter, score: 0.10 >,\n",
       "  <Vis  (x: InequalityOfOutcomes, y: HappyLifeYears, color: InequalityAdjustedLifeExpectancy) mark: scatter, score: 0.10 >,\n",
       "  <Vis  (x: InequalityOfOutcomes, y: HappyLifeYears, color: Population) mark: scatter, score: 0.10 >,\n",
       "  <Vis  (x: InequalityOfOutcomes, y: HappyLifeYears, color: AverageWellBeing) mark: scatter, score: 0.10 >],\n",
       " 'Filter': [<Vis  (x: InequalityOfOutcomes, y: HappyLifeYears  -- [SubRegion=Europe]                       ) mark: scatter, score: 0.91 >,\n",
       "  <Vis  (x: InequalityOfOutcomes, y: HappyLifeYears  -- [SubRegion=Asia Pacific]                 ) mark: scatter, score: 0.87 >,\n",
       "  <Vis  (x: InequalityOfOutcomes, y: HappyLifeYears  -- [SubRegion=Post-communist]               ) mark: scatter, score: 0.81 >,\n",
       "  <Vis  (x: InequalityOfOutcomes, y: HappyLifeYears  -- [SubRegion=Americas]                     ) mark: scatter, score: 0.79 >,\n",
       "  <Vis  (x: InequalityOfOutcomes, y: HappyLifeYears  -- [SubRegion=Middle East and North Africa] ) mark: scatter, score: 0.71 >,\n",
       "  <Vis  (x: InequalityOfOutcomes, y: HappyLifeYears  -- [SubRegion=Sub Saharan Africa]           ) mark: scatter, score: 0.64 >],\n",
       " 'Generalize': [<Vis  (x: BIN(HappyLifeYears)      , y: COUNT(Record)) mark: histogram, score: 1.00 >,\n",
       "  <Vis  (x: BIN(InequalityOfOutcomes), y: COUNT(Record)) mark: histogram, score: 1.00 >]}"
      ]
     },
     "execution_count": 10,
     "metadata": {},
     "output_type": "execute_result"
    }
   ],
   "source": [
    "df.recommendation"
   ]
  },
  {
   "cell_type": "markdown",
   "metadata": {},
   "source": [
    "The resulting output is a dictionary, keyed by the name of the recommendation category."
   ]
  },
  {
   "cell_type": "code",
   "execution_count": 11,
   "metadata": {
    "scrolled": false
   },
   "outputs": [
    {
     "data": {
      "application/vnd.jupyter.widget-view+json": {
       "model_id": "37be42d76662414b98224a16e6a49431",
       "version_major": 2,
       "version_minor": 0
      },
      "text/plain": [
       "LuxWidget(recommendations=[{'action': 'Vis List', 'description': 'Shows a vis list defined by the intent', 'vs…"
      ]
     },
     "metadata": {},
     "output_type": "display_data"
    },
    {
     "data": {
      "text/plain": [
       "[<Vis  (x: InequalityOfOutcomes, y: HappyLifeYears, color: SubRegion) mark: scatter, score: 0.17 >,\n",
       " <Vis  (x: InequalityOfOutcomes, y: HappyLifeYears, color: InequalityAdjustedWellbeing) mark: scatter, score: 0.10 >,\n",
       " <Vis  (x: InequalityOfOutcomes, y: HappyLifeYears, color: HPIRank) mark: scatter, score: 0.10 >,\n",
       " <Vis  (x: InequalityOfOutcomes, y: HappyLifeYears, color: AverageLifeExpectancy) mark: scatter, score: 0.10 >,\n",
       " <Vis  (x: InequalityOfOutcomes, y: HappyLifeYears, color: Footprint) mark: scatter, score: 0.10 >,\n",
       " <Vis  (x: InequalityOfOutcomes, y: HappyLifeYears, color: GDPPerCapita) mark: scatter, score: 0.10 >,\n",
       " <Vis  (x: InequalityOfOutcomes, y: HappyLifeYears, color: HappyPlanetIndex) mark: scatter, score: 0.10 >,\n",
       " <Vis  (x: InequalityOfOutcomes, y: HappyLifeYears, color: InequalityAdjustedLifeExpectancy) mark: scatter, score: 0.10 >,\n",
       " <Vis  (x: InequalityOfOutcomes, y: HappyLifeYears, color: Population) mark: scatter, score: 0.10 >,\n",
       " <Vis  (x: InequalityOfOutcomes, y: HappyLifeYears, color: AverageWellBeing) mark: scatter, score: 0.10 >]"
      ]
     },
     "execution_count": 11,
     "metadata": {},
     "output_type": "execute_result"
    }
   ],
   "source": [
    "df.recommendation[\"Enhance\"]"
   ]
  },
  {
   "cell_type": "markdown",
   "metadata": {},
   "source": [
    "You can also access the vis represented by the current intent via the property `current_vis`."
   ]
  },
  {
   "cell_type": "code",
   "execution_count": 12,
   "metadata": {},
   "outputs": [
    {
     "data": {
      "application/vnd.jupyter.widget-view+json": {
       "model_id": "174d23ee45144e5aa42a9d68afa0bb4e",
       "version_major": 2,
       "version_minor": 0
      },
      "text/plain": [
       "LuxWidget(recommendations=[{'action': 'Vis List', 'description': 'Shows a vis list defined by the intent', 'vs…"
      ]
     },
     "metadata": {},
     "output_type": "display_data"
    },
    {
     "data": {
      "text/plain": [
       "[<Vis  (x: InequalityOfOutcomes, y: HappyLifeYears) mark: scatter, score: 0.00 >]"
      ]
     },
     "execution_count": 12,
     "metadata": {},
     "output_type": "execute_result"
    }
   ],
   "source": [
    "df.current_vis"
   ]
  },
  {
   "cell_type": "markdown",
   "metadata": {},
   "source": [
    "### Exporting Visualizations as Code"
   ]
  },
  {
   "cell_type": "markdown",
   "metadata": {},
   "source": [
    "Let's revist our earlier recommendations by clearing the specified intent."
   ]
  },
  {
   "cell_type": "code",
   "execution_count": 13,
   "metadata": {},
   "outputs": [
    {
     "data": {
      "application/vnd.jupyter.widget-view+json": {
       "model_id": "35ae2306b30643daa7319a146cf3c88f",
       "version_major": 2,
       "version_minor": 0
      },
      "text/plain": [
       "Button(description='Toggle Pandas/Lux', layout=Layout(top='5px', width='140px'), style=ButtonStyle())"
      ]
     },
     "metadata": {},
     "output_type": "display_data"
    },
    {
     "data": {
      "application/vnd.jupyter.widget-view+json": {
       "model_id": "d8ce97bd8efa48e78d34a8c34d59fde6",
       "version_major": 2,
       "version_minor": 0
      },
      "text/plain": [
       "Output()"
      ]
     },
     "metadata": {},
     "output_type": "display_data"
    },
    {
     "data": {
      "text/plain": []
     },
     "execution_count": 13,
     "metadata": {},
     "output_type": "execute_result"
    }
   ],
   "source": [
    "df.clear_intent()\n",
    "df"
   ]
  },
  {
   "cell_type": "markdown",
   "metadata": {},
   "source": [
    "Looking at the Occurrence tab, we are interested in the bar chart distribution of country `SubRegion`."
   ]
  },
  {
   "cell_type": "code",
   "execution_count": 14,
   "metadata": {},
   "outputs": [
    {
     "data": {
      "application/vnd.jupyter.widget-view+json": {
       "model_id": "d5f31103a29148d5b822ab4c9bf0e1f9",
       "version_major": 2,
       "version_minor": 0
      },
      "text/plain": [
       "LuxWidget(current_vis={'config': {'view': {'continuousWidth': 400, 'continuousHeight': 300}, 'axis': {'labelCo…"
      ]
     },
     "metadata": {},
     "output_type": "display_data"
    },
    {
     "data": {
      "text/plain": [
       "<Vis  ([<Clause  channel: y,\n",
       "         attribute: SubRegion,\n",
       "         data_model: dimension,\n",
       "         data_type: nominal,\n",
       "         bin_size: 0 >, <Clause  channel: x,\n",
       "         attribute: Record,\n",
       "         aggregation: count,\n",
       "         data_model: measure,\n",
       "         data_type: quantitative,\n",
       "         bin_size: 0 >]) mark: bar, score: 0.05723459063631745 >"
      ]
     },
     "execution_count": 14,
     "metadata": {},
     "output_type": "execute_result"
    }
   ],
   "source": [
    "vis = df.recommendation[\"Occurrence\"][0]\n",
    "vis"
   ]
  },
  {
   "cell_type": "markdown",
   "metadata": {},
   "source": [
    "To allow further edits of visualizations, visualizations can be exported to code in [Altair](https://altair-viz.github.io/) or as [Vega-Lite](https://vega.github.io/vega-lite/) specification."
   ]
  },
  {
   "cell_type": "code",
   "execution_count": 15,
   "metadata": {},
   "outputs": [
    {
     "name": "stdout",
     "output_type": "stream",
     "text": [
      "import altair as alt\n",
      "visData = pd.DataFrame({'SubRegion': {0: 'Americas', 1: 'Asia Pacific', 2: 'Europe', 3: 'Middle East and North Africa', 4: 'Post-communist', 5: 'Sub Saharan Africa'}, 'Record': {0: 25, 1: 21, 2: 20, 3: 14, 4: 26, 5: 34}})\n",
      "\n",
      "chart = alt.Chart(visData).mark_bar().encode(\n",
      "    y = alt.Y('SubRegion', type= 'nominal', axis=alt.Axis(labelOverlap=True), sort ='-x'),\n",
      "    x = alt.X('Record', type= 'quantitative', title='Number of Records'),\n",
      ")\n",
      "chart = chart.configure_mark(tooltip=alt.TooltipContent('encoding')) # Setting tooltip as non-null\n",
      "\n",
      "chart = chart.configure_title(fontWeight=500,fontSize=13,font='Helvetica Neue')\n",
      "chart = chart.configure_axis(titleFontWeight=500,titleFontSize=11,titleFont='Helvetica Neue',\n",
      "\t\t\tlabelFontWeight=400,labelFontSize=8,labelFont='Helvetica Neue',labelColor='#505050')\n",
      "chart = chart.configure_legend(titleFontWeight=500,titleFontSize=10,titleFont='Helvetica Neue',\n",
      "\t\t\tlabelFontWeight=400,labelFontSize=8,labelFont='Helvetica Neue')\n",
      "chart = chart.properties(width=160,height=150)\n",
      "\n",
      "chart\n"
     ]
    }
   ],
   "source": [
    "print (vis.to_Altair())"
   ]
  },
  {
   "cell_type": "markdown",
   "metadata": {},
   "source": [
    "This can be copy-and-pasted back into a new notebook cell for further editing."
   ]
  },
  {
   "cell_type": "code",
   "execution_count": 16,
   "metadata": {},
   "outputs": [
    {
     "data": {
      "text/html": [
       "\n",
       "<div id=\"altair-viz-8bc3184166574bec81a8115cd26cf4c6\"></div>\n",
       "<script type=\"text/javascript\">\n",
       "  (function(spec, embedOpt){\n",
       "    let outputDiv = document.currentScript.previousElementSibling;\n",
       "    if (outputDiv.id !== \"altair-viz-8bc3184166574bec81a8115cd26cf4c6\") {\n",
       "      outputDiv = document.getElementById(\"altair-viz-8bc3184166574bec81a8115cd26cf4c6\");\n",
       "    }\n",
       "    const paths = {\n",
       "      \"vega\": \"https://cdn.jsdelivr.net/npm//vega@5?noext\",\n",
       "      \"vega-lib\": \"https://cdn.jsdelivr.net/npm//vega-lib?noext\",\n",
       "      \"vega-lite\": \"https://cdn.jsdelivr.net/npm//vega-lite@4.8.1?noext\",\n",
       "      \"vega-embed\": \"https://cdn.jsdelivr.net/npm//vega-embed@6?noext\",\n",
       "    };\n",
       "\n",
       "    function loadScript(lib) {\n",
       "      return new Promise(function(resolve, reject) {\n",
       "        var s = document.createElement('script');\n",
       "        s.src = paths[lib];\n",
       "        s.async = true;\n",
       "        s.onload = () => resolve(paths[lib]);\n",
       "        s.onerror = () => reject(`Error loading script: ${paths[lib]}`);\n",
       "        document.getElementsByTagName(\"head\")[0].appendChild(s);\n",
       "      });\n",
       "    }\n",
       "\n",
       "    function showError(err) {\n",
       "      outputDiv.innerHTML = `<div class=\"error\" style=\"color:red;\">${err}</div>`;\n",
       "      throw err;\n",
       "    }\n",
       "\n",
       "    function displayChart(vegaEmbed) {\n",
       "      vegaEmbed(outputDiv, spec, embedOpt)\n",
       "        .catch(err => showError(`Javascript Error: ${err.message}<br>This usually means there's a typo in your chart specification. See the javascript console for the full traceback.`));\n",
       "    }\n",
       "\n",
       "    if(typeof define === \"function\" && define.amd) {\n",
       "      requirejs.config({paths});\n",
       "      require([\"vega-embed\"], displayChart, err => showError(`Error loading script: ${err.message}`));\n",
       "    } else if (typeof vegaEmbed === \"function\") {\n",
       "      displayChart(vegaEmbed);\n",
       "    } else {\n",
       "      loadScript(\"vega\")\n",
       "        .then(() => loadScript(\"vega-lite\"))\n",
       "        .then(() => loadScript(\"vega-embed\"))\n",
       "        .catch(showError)\n",
       "        .then(() => displayChart(vegaEmbed));\n",
       "    }\n",
       "  })({\"config\": {\"view\": {\"continuousWidth\": 400, \"continuousHeight\": 300}, \"axis\": {\"labelColor\": \"#505050\", \"labelFont\": \"Helvetica Neue\", \"labelFontSize\": 8, \"labelFontWeight\": 400, \"titleFont\": \"Helvetica Neue\", \"titleFontSize\": 11, \"titleFontWeight\": 500}, \"legend\": {\"labelFont\": \"Helvetica Neue\", \"labelFontSize\": 8, \"labelFontWeight\": 400, \"titleFont\": \"Helvetica Neue\", \"titleFontSize\": 10, \"titleFontWeight\": 500}, \"mark\": {\"tooltip\": {\"content\": \"encoding\"}}, \"title\": {\"font\": \"Helvetica Neue\", \"fontSize\": 13, \"fontWeight\": 500}}, \"data\": {\"name\": \"data-3f114ecd602113b0575a92e1efb1cc84\"}, \"mark\": \"bar\", \"encoding\": {\"x\": {\"type\": \"quantitative\", \"field\": \"Record\", \"title\": \"Count of Record\"}, \"y\": {\"type\": \"nominal\", \"axis\": {\"labelOverlap\": true}, \"field\": \"SubRegion\", \"sort\": \"-x\"}}, \"height\": 150, \"width\": 160, \"$schema\": \"https://vega.github.io/schema/vega-lite/v4.8.1.json\", \"datasets\": {\"data-3f114ecd602113b0575a92e1efb1cc84\": [{\"SubRegion\": \"Americas\", \"Record\": 25}, {\"SubRegion\": \"Asia Pacific\", \"Record\": 21}, {\"SubRegion\": \"Europe\", \"Record\": 20}, {\"SubRegion\": \"Middle East and North Africa\", \"Record\": 14}, {\"SubRegion\": \"Post-communist\", \"Record\": 26}, {\"SubRegion\": \"Sub Saharan Africa\", \"Record\": 34}]}}, {\"mode\": \"vega-lite\"});\n",
       "</script>"
      ],
      "text/plain": [
       "alt.Chart(...)"
      ]
     },
     "execution_count": 16,
     "metadata": {},
     "output_type": "execute_result"
    }
   ],
   "source": [
    "import altair as alt\n",
    "visData = pd.DataFrame({'SubRegion': {0: 'Americas', 1: 'Asia Pacific', 2: 'Europe', 3: 'Middle East and North Africa', 4: 'Post-communist', 5: 'Sub Saharan Africa'}, 'Record': {0: 25, 1: 21, 2: 20, 3: 14, 4: 26, 5: 34}})\n",
    "\n",
    "chart = alt.Chart(visData).mark_bar().encode(\n",
    "    y = alt.Y('SubRegion', type= 'nominal', axis=alt.Axis(labelOverlap=True), sort ='-x'),\n",
    "    x = alt.X('Record', type= 'quantitative', title='Count of Record'),\n",
    ")\n",
    "chart = chart.configure_mark(tooltip=alt.TooltipContent('encoding')) # Setting tooltip as non-null\n",
    "chart = chart.configure_title(fontWeight=500,fontSize=13,font='Helvetica Neue')\n",
    "chart = chart.configure_axis(titleFontWeight=500,titleFontSize=11,titleFont='Helvetica Neue',\n",
    "\t\t\tlabelFontWeight=400,labelFontSize=8,labelFont='Helvetica Neue',labelColor='#505050')\n",
    "chart = chart.configure_legend(titleFontWeight=500,titleFontSize=10,titleFont='Helvetica Neue',\n",
    "\t\t\tlabelFontWeight=400,labelFontSize=8,labelFont='Helvetica Neue')\n",
    "chart = chart.properties(width=160,height=150)\n",
    "chart"
   ]
  },
  {
   "cell_type": "markdown",
   "metadata": {},
   "source": [
    "You can also export this as Vega-Lite specification and vis/edit the specification on [Vega Editor](https://vega.github.io/editor).\n",
    "\n"
   ]
  },
  {
   "cell_type": "code",
   "execution_count": null,
   "metadata": {
    "scrolled": true
   },
   "outputs": [],
   "source": [
    "print (vis.to_VegaLite())"
   ]
  },
  {
   "cell_type": "markdown",
   "metadata": {},
   "source": [
    "<img src=\"../../doc/source/img/export-13.png\" width=700 alt=\"add screenshot of what this looks like in Vega Editor\">"
   ]
  },
  {
   "cell_type": "markdown",
   "metadata": {},
   "source": [
    "Let's say now we are interested in the scatter plot of the `HPIRank` and `HappyPlanetIndex`."
   ]
  },
  {
   "cell_type": "code",
   "execution_count": 21,
   "metadata": {},
   "outputs": [],
   "source": [
    "vis = df.recommendation[\"Correlation\"][0]"
   ]
  },
  {
   "cell_type": "markdown",
   "metadata": {},
   "source": [
    "Since the dataset used to create the scatterplot is large, Lux infers the variable name used locally for the data, and uses that as the data in the printed code block."
   ]
  },
  {
   "cell_type": "code",
   "execution_count": 22,
   "metadata": {},
   "outputs": [
    {
     "name": "stdout",
     "output_type": "stream",
     "text": [
      "import altair as alt\n",
      "\n",
      "chart = alt.Chart(df).mark_circle().encode(\n",
      "    x=alt.X('HappyPlanetIndex',scale=alt.Scale(domain=(12.8, 44.7)),type='quantitative'),\n",
      "    y=alt.Y('HPIRank',scale=alt.Scale(domain=(1, 140)),type='quantitative')\n",
      ")\n",
      "chart = chart.configure_mark(tooltip=alt.TooltipContent('encoding')) # Setting tooltip as non-null\n",
      "chart = chart.interactive() # Enable Zooming and Panning\n",
      "\n",
      "chart = chart.configure_title(fontWeight=500,fontSize=13,font='Helvetica Neue')\n",
      "chart = chart.configure_axis(titleFontWeight=500,titleFontSize=11,titleFont='Helvetica Neue',\n",
      "\t\t\tlabelFontWeight=400,labelFontSize=8,labelFont='Helvetica Neue',labelColor='#505050')\n",
      "chart = chart.configure_legend(titleFontWeight=500,titleFontSize=10,titleFont='Helvetica Neue',\n",
      "\t\t\tlabelFontWeight=400,labelFontSize=8,labelFont='Helvetica Neue')\n",
      "chart = chart.properties(width=160,height=150)\n",
      "\n",
      "chart\n"
     ]
    }
   ],
   "source": [
    "print (vis.to_Altair())"
   ]
  },
  {
   "cell_type": "markdown",
   "metadata": {},
   "source": [
    "If we wanted to include the actual data in the returned codeblock, we would use `to_Altair(standalone=True)`"
   ]
  },
  {
   "cell_type": "code",
   "execution_count": 23,
   "metadata": {},
   "outputs": [
    {
     "name": "stdout",
     "output_type": "stream",
     "text": [
      "import altair as alt\n",
      "\n",
      "chart = alt.Chart(pd.DataFrame({'HappyPlanetIndex': {0: 20.2, 1: 36.8, 2: 33.3, 3: 35.2, 4: 25.7, 5: 21.2, 6: 30.5, 7: 38.4, 8: 21.7, 9: 23.7, 10: 33.8, 11: 13.4, 12: 28.6, 13: 23.3, 14: 25.3, 15: 16.6, 16: 34.3, 17: 20.4, 18: 17.9, 19: 15.6, 20: 25.6, 21: 16.7, 22: 23.9, 23: 12.8, 24: 31.7, 25: 25.7, 26: 40.7, 27: 23.1, 28: 44.7, 29: 14.4, 30: 30.2, 31: 30.7, 32: 27.3, 33: 32.7, 34: 16.4, 35: 30.3, 36: 37.0, 37: 23.8, 38: 35.6, 39: 17.9, 40: 26.7, 41: 31.3, 42: 30.4, 43: 17.5, 44: 31.1, 45: 29.8, 46: 21.4, 47: 23.6, 48: 34.2, 49: 15.9, 50: 28.6, 51: 27.2, 52: 16.8, 53: 26.4, 54: 31.1, 55: 29.2, 56: 35.7, 57: 24.0, 58: 26.5, 59: 30.0, 60: 28.8, 61: 28.1, 62: 36.9, 63: 28.3, 64: 19.1, 65: 24.2, 66: 33.1, 67: 17.1, 68: 21.9, 69: 16.7, 70: 22.2, 71: 21.0, 72: 13.2, 73: 23.4, 74: 22.1, 75: 30.3, 76: 29.0, 77: 18.0, 78: 27.4, 79: 40.7, 80: 14.3, 81: 25.1, 82: 32.7, 83: 23.7, 84: 24.7, 85: 21.6, 86: 30.5, 87: 35.3, 88: 31.3, 89: 38.7, 90: 16.8, 91: 22.2, 92: 36.8, 93: 21.1, 94: 31.5, 95: 34.5, 96: 39.5, 97: 23.3, 98: 34.6, 99: 35.0, 100: 27.5, 101: 24.8, 102: 18.8, 103: 28.8, 104: 18.7, 105: 19.6, 106: 21.9, 107: 29.0, 108: 15.3, 109: 28.2, 110: 24.6, 111: 15.9, 112: 24.8, 113: 36.0, 114: 33.8, 115: 25.4, 116: 15.5, 117: 28.0, 118: 34.3, 119: 19.1, 120: 34.2, 121: 22.1, 122: 37.3, 123: 13.2, 124: 15.7, 125: 26.2, 126: 26.4, 127: 14.6, 128: 19.4, 129: 26.4, 130: 31.9, 131: 20.7, 132: 36.1, 133: 29.1, 134: 40.6, 135: 33.6, 136: 40.3, 137: 22.8, 138: 25.2, 139: 22.1}, 'HPIRank': {0: 110, 1: 13, 2: 30, 3: 19, 4: 73, 5: 105, 6: 43, 7: 8, 8: 102, 9: 87, 10: 27, 11: 137, 12: 56, 13: 92, 14: 76, 15: 126, 16: 23, 17: 109, 18: 119, 19: 131, 20: 74, 21: 124, 22: 85, 23: 140, 24: 35, 25: 72, 26: 3, 27: 93, 28: 1, 29: 135, 30: 47, 31: 41, 32: 64, 33: 32, 34: 127, 35: 45, 36: 10, 37: 86, 38: 17, 39: 118, 40: 66, 41: 37, 42: 44, 43: 120, 44: 40, 45: 49, 46: 104, 47: 89, 48: 26, 49: 129, 50: 57, 51: 65, 52: 123, 53: 69, 54: 39, 55: 50, 56: 16, 57: 84, 58: 67, 59: 48, 60: 54, 61: 60, 62: 11, 63: 58, 64: 114, 65: 83, 66: 31, 67: 121, 68: 100, 69: 125, 70: 96, 71: 107, 72: 139, 73: 90, 74: 98, 75: 46, 76: 53, 77: 117, 78: 63, 79: 2, 80: 136, 81: 78, 82: 33, 83: 88, 84: 81, 85: 103, 86: 42, 87: 18, 88: 38, 89: 7, 90: 122, 91: 95, 92: 12, 93: 106, 94: 36, 95: 22, 96: 6, 97: 91, 98: 21, 99: 20, 100: 62, 101: 79, 102: 115, 103: 55, 104: 116, 105: 111, 106: 101, 107: 52, 108: 133, 109: 59, 110: 82, 111: 128, 112: 80, 113: 15, 114: 28, 115: 75, 116: 132, 117: 61, 118: 24, 119: 113, 120: 25, 121: 97, 122: 9, 123: 138, 124: 130, 125: 71, 126: 68, 127: 134, 128: 112, 129: 70, 130: 34, 131: 108, 132: 14, 133: 51, 134: 4, 135: 29, 136: 5, 137: 94, 138: 77, 139: 99}})).mark_circle().encode(\n",
      "    x=alt.X('HappyPlanetIndex',scale=alt.Scale(domain=(12.8, 44.7)),type='quantitative'),\n",
      "    y=alt.Y('HPIRank',scale=alt.Scale(domain=(1, 140)),type='quantitative')\n",
      ")\n",
      "chart = chart.configure_mark(tooltip=alt.TooltipContent('encoding')) # Setting tooltip as non-null\n",
      "chart = chart.interactive() # Enable Zooming and Panning\n",
      "\n",
      "chart = chart.configure_title(fontWeight=500,fontSize=13,font='Helvetica Neue')\n",
      "chart = chart.configure_axis(titleFontWeight=500,titleFontSize=11,titleFont='Helvetica Neue',\n",
      "\t\t\tlabelFontWeight=400,labelFontSize=8,labelFont='Helvetica Neue',labelColor='#505050')\n",
      "chart = chart.configure_legend(titleFontWeight=500,titleFontSize=10,titleFont='Helvetica Neue',\n",
      "\t\t\tlabelFontWeight=400,labelFontSize=8,labelFont='Helvetica Neue')\n",
      "chart = chart.properties(width=160,height=150)\n",
      "\n",
      "chart\n"
     ]
    }
   ],
   "source": [
    "print (vis.to_Altair(standalone=True))"
   ]
  },
  {
   "cell_type": "code",
   "execution_count": null,
   "metadata": {},
   "outputs": [],
   "source": []
  }
 ],
 "metadata": {
  "kernelspec": {
   "display_name": "Python 3",
   "language": "python",
   "name": "python3"
  },
  "language_info": {
   "codemirror_mode": {
    "name": "ipython",
    "version": 3
   },
   "file_extension": ".py",
   "mimetype": "text/x-python",
   "name": "python",
   "nbconvert_exporter": "python",
   "pygments_lexer": "ipython3",
   "version": "3.7.7"
  }
 },
 "nbformat": 4,
 "nbformat_minor": 4
}
