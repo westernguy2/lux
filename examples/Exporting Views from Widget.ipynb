{
 "cells": [
  {
   "cell_type": "code",
   "execution_count": null,
   "metadata": {
    "scrolled": true
   },
   "outputs": [],
   "source": [
    "cd .."
   ]
  },
  {
   "cell_type": "code",
   "execution_count": null,
   "metadata": {},
   "outputs": [],
   "source": [
    "import pandas as pd\n",
    "import lux"
   ]
  },
  {
   "cell_type": "markdown",
   "metadata": {},
   "source": [
    "In this tutorial, we look at the [Happy Planet Index](http://happyplanetindex.org/) dataset, which contains metrics related to well-being for 140 countries around the world. We demonstrate how you can select visualizations of interest and export them for further analysis. "
   ]
  },
  {
   "cell_type": "code",
   "execution_count": null,
   "metadata": {},
   "outputs": [],
   "source": [
    "df = pd.read_csv(\"lux/data/hpi.csv\")\n",
    "df.set_default_display(\"lux\") #set Lux as default view\n",
    "df"
   ]
  },
  {
   "cell_type": "markdown",
   "metadata": {},
   "source": [
    "### Exporting one or more visualizations from recommendation widget"
   ]
  },
  {
   "cell_type": "markdown",
   "metadata": {},
   "source": [
    "We can click on visualizations of interest and export them into a separate widget."
   ]
  },
  {
   "cell_type": "code",
   "execution_count": null,
   "metadata": {},
   "outputs": [],
   "source": [
    "bookmarked_charts = df.get_exported()\n",
    "bookmarked_charts"
   ]
  },
  {
   "cell_type": "markdown",
   "metadata": {},
   "source": [
    "From the dataframe recommendations, the visualization showing the relationship between `GDPPerCapita` and `Footprint` is very interesting. In particular, there is an outlier with extremely high ecological footprint as well as high GDP per capita. So we click on this visualization and click on the export button."
   ]
  },
  {
   "cell_type": "code",
   "execution_count": null,
   "metadata": {},
   "outputs": [],
   "source": [
    "df"
   ]
  },
  {
   "cell_type": "code",
   "execution_count": null,
   "metadata": {},
   "outputs": [],
   "source": [
    "view = df.get_exported()[0]\n",
    "view"
   ]
  },
  {
   "cell_type": "markdown",
   "metadata": {},
   "source": [
    "### Setting Views as Context"
   ]
  },
  {
   "cell_type": "markdown",
   "metadata": {},
   "source": [
    "Now that we have exported the view, we can set the new context of the dataframe to be the view to get more recommendations related to this visualization."
   ]
  },
  {
   "cell_type": "code",
   "execution_count": null,
   "metadata": {},
   "outputs": [],
   "source": [
    "df.set_context_as_view(view)\n",
    "df"
   ]
  },
  {
   "cell_type": "markdown",
   "metadata": {},
   "source": [
    "### Exporting Visualizations as Code"
   ]
  },
  {
   "cell_type": "markdown",
   "metadata": {},
   "source": [
    "Let's say that we are now interested in the bar chart distribution of country `SubRegion`."
   ]
  },
  {
   "cell_type": "code",
   "execution_count": null,
   "metadata": {},
   "outputs": [],
   "source": [
    "view = df.recommendation[\"Category\"][0]\n",
    "view"
   ]
  },
  {
   "cell_type": "markdown",
   "metadata": {},
   "source": [
    "To allow further edits of visualizations, views can be exported to code in [Altair](https://altair-viz.github.io/) or as [Vega-Lite](https://vega.github.io/vega-lite/) specification."
   ]
  },
  {
   "cell_type": "code",
   "execution_count": null,
   "metadata": {},
   "outputs": [],
   "source": [
    "print (view.to_Altair())"
   ]
  },
  {
   "cell_type": "code",
   "execution_count": null,
   "metadata": {},
   "outputs": [],
   "source": [
    "import altair as alt\n",
    "viewData = pd.DataFrame({'SubRegion': {0: 'Americas', 1: 'Asia Pacific', 2: 'Europe', 3: 'Middle East and North Africa', 4: 'Post-communist', 5: 'Sub Saharan Africa'}, 'Record': {0: 25, 1: 21, 2: 20, 3: 14, 4: 26, 5: 34}})\n",
    "\n",
    "chart = alt.Chart(viewData).mark_bar(size=12).encode(\n",
    "    y = alt.Y('SubRegion', type= 'nominal', axis=alt.Axis(labelOverlap=True), sort ='-x'),\n",
    "    x = alt.X('Record', type= 'quantitative', title='Count of Record'),\n",
    ")\n",
    "chart = chart.configure_mark(tooltip=alt.TooltipContent('encoding')) # Setting tooltip as non-null\n",
    "\n",
    "chart"
   ]
  },
  {
   "cell_type": "markdown",
   "metadata": {},
   "source": [
    "You can also export this as Vega-Lite specification and view/edit the specification on [Vega Editor](https://vega.github.io/editor).\n",
    "\n"
   ]
  },
  {
   "cell_type": "code",
   "execution_count": null,
   "metadata": {
    "scrolled": true
   },
   "outputs": [],
   "source": [
    "print (view.to_VegaLite())"
   ]
  },
  {
   "cell_type": "markdown",
   "metadata": {},
   "source": [
    "### Accessing Widget State"
   ]
  },
  {
   "cell_type": "markdown",
   "metadata": {},
   "source": [
    "We can access the set of recommendations generated for the dataframes via the properties `recommendation`."
   ]
  },
  {
   "cell_type": "code",
   "execution_count": null,
   "metadata": {
    "scrolled": true
   },
   "outputs": [],
   "source": [
    "df.recommendation"
   ]
  },
  {
   "cell_type": "markdown",
   "metadata": {},
   "source": [
    "The resulting output is a dictionary, keyed by the name of the recommendation category."
   ]
  },
  {
   "cell_type": "code",
   "execution_count": null,
   "metadata": {
    "scrolled": false
   },
   "outputs": [],
   "source": [
    "df.recommendation[\"Distribution\"]"
   ]
  },
  {
   "cell_type": "markdown",
   "metadata": {},
   "source": [
    "You can also access the view represented by the current context via the property `current_view`."
   ]
  },
  {
   "cell_type": "code",
   "execution_count": null,
   "metadata": {},
   "outputs": [],
   "source": [
    "df.current_view"
   ]
  }
 ],
 "metadata": {
  "history": [
   {
    "time": "2020-07-12T08:44:13.745Z",
    "type": "kernelReady"
   },
   {
    "code": "",
    "id": "5418b3d50f5345bfaf89e6d4499e6c37",
    "order_count": 0,
    "time": "2020-07-12T08:44:26.972Z",
    "type": "editCodeCell"
   },
   {
    "code": "%pylab inline",
    "id": "5418b3d50f5345bfaf89e6d4499e6c37",
    "order_count": 0,
    "time": "2020-07-12T08:44:31.375Z",
    "type": "executeCodeCell"
   },
   {
    "code": "",
    "id": "36317fa004f84755901fb751d5e7974b",
    "order_count": 1,
    "time": "2020-07-12T08:44:31.402Z",
    "type": "editCodeCell"
   },
   {
    "id": "5418b3d50f5345bfaf89e6d4499e6c37",
    "isPrintLuxDf": false,
    "isPrintPandasDf": false,
    "isPrintView": false,
    "isPrintViewCollection": false,
    "time": "2020-07-12T08:44:31.752Z",
    "type": "completeCodeCell"
   },
   {
    "code": "import pandas as pd\nimprot lux",
    "id": "36317fa004f84755901fb751d5e7974b",
    "order_count": 1,
    "time": "2020-07-12T08:44:41.516Z",
    "type": "executeCodeCell"
   },
   {
    "code": "",
    "id": "0bfebff7bbe9416b8dee55859d051ac1",
    "order_count": 2,
    "time": "2020-07-12T08:44:41.541Z",
    "type": "editCodeCell"
   },
   {
    "id": "36317fa004f84755901fb751d5e7974b",
    "isPrintLuxDf": false,
    "isPrintPandasDf": false,
    "isPrintView": false,
    "isPrintViewCollection": false,
    "time": "2020-07-12T08:44:41.549Z",
    "type": "completeCodeCell"
   },
   {
    "code": "import pandas as pd\nimprot lux",
    "id": "36317fa004f84755901fb751d5e7974b",
    "order_count": 1,
    "time": "2020-07-12T08:44:42.380Z",
    "type": "editCodeCell"
   },
   {
    "code": "import pandas as pd\nimport lux",
    "id": "36317fa004f84755901fb751d5e7974b",
    "order_count": 1,
    "time": "2020-07-12T08:44:46.664Z",
    "type": "executeCodeCell"
   },
   {
    "code": "",
    "id": "0bfebff7bbe9416b8dee55859d051ac1",
    "order_count": 2,
    "time": "2020-07-12T08:44:46.679Z",
    "type": "selectCodeCell"
   },
   {
    "id": "36317fa004f84755901fb751d5e7974b",
    "isPrintLuxDf": false,
    "isPrintPandasDf": false,
    "isPrintView": false,
    "isPrintViewCollection": false,
    "time": "2020-07-12T08:44:47.098Z",
    "type": "completeCodeCell"
   },
   {
    "code": "",
    "id": "0bfebff7bbe9416b8dee55859d051ac1",
    "order_count": 2,
    "time": "2020-07-12T08:44:47.124Z",
    "type": "editCodeCell"
   },
   {
    "code": "",
    "id": "0bfebff7bbe9416b8dee55859d051ac1",
    "order_count": 2,
    "time": "2020-07-12T08:44:49.736Z",
    "type": "editCodeCell"
   },
   {
    "code": "",
    "id": "0bfebff7bbe9416b8dee55859d051ac1",
    "order_count": 2,
    "time": "2020-07-12T08:45:31.563Z",
    "type": "editCodeCell"
   },
   {
    "code": "pd.read",
    "id": "0bfebff7bbe9416b8dee55859d051ac1",
    "order_count": 2,
    "time": "2020-07-12T08:45:41.550Z",
    "type": "editCodeCell"
   },
   {
    "code": "pd.read",
    "id": "0bfebff7bbe9416b8dee55859d051ac1",
    "order_count": 2,
    "time": "2020-07-12T08:45:46.110Z",
    "type": "editCodeCell"
   },
   {
    "code": "ls",
    "id": "0bfebff7bbe9416b8dee55859d051ac1",
    "order_count": 2,
    "time": "2020-07-12T08:45:50.470Z",
    "type": "executeCodeCell"
   },
   {
    "code": "",
    "id": "12a1be56c9ae4abab0a1f946bd40bc68",
    "order_count": 3,
    "time": "2020-07-12T08:45:50.495Z",
    "type": "editCodeCell"
   },
   {
    "id": "0bfebff7bbe9416b8dee55859d051ac1",
    "isPrintLuxDf": false,
    "isPrintPandasDf": false,
    "isPrintView": false,
    "isPrintViewCollection": false,
    "time": "2020-07-12T08:45:50.606Z",
    "type": "completeCodeCell"
   },
   {
    "code": "ls",
    "id": "0bfebff7bbe9416b8dee55859d051ac1",
    "order_count": 2,
    "time": "2020-07-12T08:45:51.495Z",
    "type": "selectCodeCell"
   },
   {
    "code": "ls",
    "id": "0bfebff7bbe9416b8dee55859d051ac1",
    "order_count": 2,
    "time": "2020-07-12T08:45:51.499Z",
    "type": "editCodeCell"
   },
   {
    "code": "ls",
    "id": "0bfebff7bbe9416b8dee55859d051ac1",
    "order_count": 2,
    "time": "2020-07-12T08:45:58.155Z",
    "type": "executeCodeCell"
   },
   {
    "code": "",
    "id": "12a1be56c9ae4abab0a1f946bd40bc68",
    "order_count": 3,
    "time": "2020-07-12T08:45:58.170Z",
    "type": "selectCodeCell"
   },
   {
    "id": "0bfebff7bbe9416b8dee55859d051ac1",
    "isPrintLuxDf": false,
    "isPrintPandasDf": false,
    "isPrintView": false,
    "isPrintViewCollection": false,
    "time": "2020-07-12T08:45:58.284Z",
    "type": "completeCodeCell"
   },
   {
    "code": "ls",
    "id": "0bfebff7bbe9416b8dee55859d051ac1",
    "order_count": 2,
    "time": "2020-07-12T08:45:59.527Z",
    "type": "selectCodeCell"
   },
   {
    "code": "ls",
    "id": "0bfebff7bbe9416b8dee55859d051ac1",
    "order_count": 2,
    "time": "2020-07-12T08:45:59.530Z",
    "type": "editCodeCell"
   },
   {
    "code": "ls ../../lux/",
    "id": "0bfebff7bbe9416b8dee55859d051ac1",
    "order_count": 2,
    "time": "2020-07-12T08:46:26.338Z",
    "type": "executeCodeCell"
   },
   {
    "code": "",
    "id": "12a1be56c9ae4abab0a1f946bd40bc68",
    "order_count": 3,
    "time": "2020-07-12T08:46:26.355Z",
    "type": "selectCodeCell"
   },
   {
    "id": "0bfebff7bbe9416b8dee55859d051ac1",
    "isPrintLuxDf": false,
    "isPrintPandasDf": false,
    "isPrintView": false,
    "isPrintViewCollection": false,
    "time": "2020-07-12T08:46:26.472Z",
    "type": "completeCodeCell"
   },
   {
    "code": "ls ../../lux/",
    "id": "0bfebff7bbe9416b8dee55859d051ac1",
    "order_count": 2,
    "time": "2020-07-12T08:46:33.077Z",
    "type": "selectCodeCell"
   },
   {
    "code": "ls ../../lux/",
    "id": "0bfebff7bbe9416b8dee55859d051ac1",
    "order_count": 2,
    "time": "2020-07-12T08:46:33.083Z",
    "type": "editCodeCell"
   },
   {
    "code": "ls ../lux/data",
    "id": "0bfebff7bbe9416b8dee55859d051ac1",
    "order_count": 2,
    "time": "2020-07-12T08:46:38.997Z",
    "type": "executeCodeCell"
   },
   {
    "code": "",
    "id": "12a1be56c9ae4abab0a1f946bd40bc68",
    "order_count": 3,
    "time": "2020-07-12T08:46:39.011Z",
    "type": "selectCodeCell"
   },
   {
    "id": "0bfebff7bbe9416b8dee55859d051ac1",
    "isPrintLuxDf": false,
    "isPrintPandasDf": false,
    "isPrintView": false,
    "isPrintViewCollection": false,
    "time": "2020-07-12T08:46:39.135Z",
    "type": "completeCodeCell"
   },
   {
    "code": "ls ../lux/data",
    "id": "0bfebff7bbe9416b8dee55859d051ac1",
    "order_count": 2,
    "time": "2020-07-12T08:46:42.010Z",
    "type": "selectCodeCell"
   },
   {
    "code": "ls ../lux/data",
    "id": "0bfebff7bbe9416b8dee55859d051ac1",
    "order_count": 2,
    "time": "2020-07-12T08:46:42.256Z",
    "type": "selectCodeCell"
   },
   {
    "code": "ls ../lux/data",
    "id": "0bfebff7bbe9416b8dee55859d051ac1",
    "order_count": 2,
    "time": "2020-07-12T08:46:43.422Z",
    "type": "selectCodeCell"
   },
   {
    "code": "ls ../lux/data",
    "id": "0bfebff7bbe9416b8dee55859d051ac1",
    "order_count": 2,
    "time": "2020-07-12T08:46:43.656Z",
    "type": "selectCodeCell"
   },
   {
    "code": "ls ../lux/data",
    "id": "0bfebff7bbe9416b8dee55859d051ac1",
    "order_count": 2,
    "time": "2020-07-12T08:46:45.217Z",
    "type": "selectCodeCell"
   },
   {
    "code": "ls ../lux/data",
    "id": "0bfebff7bbe9416b8dee55859d051ac1",
    "order_count": 2,
    "time": "2020-07-12T08:46:45.418Z",
    "type": "selectCodeCell"
   },
   {
    "code": "ls ../lux/data",
    "id": "0bfebff7bbe9416b8dee55859d051ac1",
    "order_count": 2,
    "time": "2020-07-12T08:46:47.391Z",
    "type": "selectCodeCell"
   },
   {
    "code": "",
    "id": "12a1be56c9ae4abab0a1f946bd40bc68",
    "order_count": 3,
    "time": "2020-07-12T08:46:48.048Z",
    "type": "selectCodeCell"
   },
   {
    "code": "",
    "id": "12a1be56c9ae4abab0a1f946bd40bc68",
    "order_count": 3,
    "time": "2020-07-12T08:46:48.052Z",
    "type": "editCodeCell"
   },
   {
    "code": "ls ../lux/data",
    "id": "0bfebff7bbe9416b8dee55859d051ac1",
    "order_count": 2,
    "time": "2020-07-12T08:47:10.418Z",
    "type": "selectCodeCell"
   },
   {
    "code": "ls ../lux/data",
    "id": "0bfebff7bbe9416b8dee55859d051ac1",
    "order_count": 2,
    "time": "2020-07-12T08:47:10.422Z",
    "type": "editCodeCell"
   },
   {
    "code": "pd.read_csv(\"communities.csv\")",
    "id": "12a1be56c9ae4abab0a1f946bd40bc68",
    "order_count": 3,
    "time": "2020-07-12T08:47:12.245Z",
    "type": "selectCodeCell"
   },
   {
    "code": "pd.read_csv(\"communities.csv\")",
    "id": "12a1be56c9ae4abab0a1f946bd40bc68",
    "order_count": 3,
    "time": "2020-07-12T08:47:12.248Z",
    "type": "editCodeCell"
   },
   {
    "code": "ls ../lux/data",
    "id": "0bfebff7bbe9416b8dee55859d051ac1",
    "order_count": 2,
    "time": "2020-07-12T08:47:17.108Z",
    "type": "selectCodeCell"
   },
   {
    "code": "ls ../lux/data",
    "id": "0bfebff7bbe9416b8dee55859d051ac1",
    "order_count": null,
    "time": "2020-07-12T08:47:17.306Z",
    "type": "deleteCodeCell"
   },
   {
    "code": "df = pd.read_csv(\"../lux/data/communities.csv\")",
    "id": "12a1be56c9ae4abab0a1f946bd40bc68",
    "order_count": 2,
    "time": "2020-07-12T08:47:18.265Z",
    "type": "selectCodeCell"
   },
   {
    "code": "df = pd.read_csv(\"../lux/data/communities.csv\")",
    "id": "12a1be56c9ae4abab0a1f946bd40bc68",
    "order_count": 2,
    "time": "2020-07-12T08:47:18.778Z",
    "type": "editCodeCell"
   },
   {
    "code": "df = pd.read_csv(\"../lux/data/communities.csv\")\ndf",
    "id": "12a1be56c9ae4abab0a1f946bd40bc68",
    "order_count": 2,
    "time": "2020-07-12T08:47:19.621Z",
    "type": "executeCodeCell"
   },
   {
    "code": "",
    "id": "15b9f8dc5d724cdca0dcd75116067e11",
    "order_count": 3,
    "time": "2020-07-12T08:47:19.646Z",
    "type": "editCodeCell"
   },
   {
    "code": "",
    "id": "15b9f8dc5d724cdca0dcd75116067e11",
    "order_count": 3,
    "time": "2020-07-12T08:47:25.482Z",
    "type": "selectCodeCell"
   },
   {
    "code": "",
    "id": "15b9f8dc5d724cdca0dcd75116067e11",
    "order_count": 3,
    "time": "2020-07-12T08:47:29.548Z",
    "type": "selectCodeCell"
   },
   {
    "code": "df = pd.read_csv(\"../lux/data/communities.csv\")\ndf",
    "id": "12a1be56c9ae4abab0a1f946bd40bc68",
    "order_count": 2,
    "time": "2020-07-12T08:47:31.498Z",
    "type": "selectCodeCell"
   },
   {
    "code": "df = pd.read_csv(\"../lux/data/communities.csv\")\ndf",
    "id": "12a1be56c9ae4abab0a1f946bd40bc68",
    "order_count": 2,
    "time": "2020-07-12T08:47:31.503Z",
    "type": "editCodeCell"
   },
   {
    "code": "df = pd.read_csv(\"../lux/data/communities.csv\")\ndf",
    "id": "12a1be56c9ae4abab0a1f946bd40bc68",
    "order_count": 2,
    "time": "2020-07-12T08:47:33.818Z",
    "type": "selectCodeCell"
   },
   {
    "code": "",
    "id": "15b9f8dc5d724cdca0dcd75116067e11",
    "order_count": 3,
    "time": "2020-07-12T08:47:34.367Z",
    "type": "selectCodeCell"
   },
   {
    "code": "",
    "id": "15b9f8dc5d724cdca0dcd75116067e11",
    "order_count": 3,
    "time": "2020-07-12T08:47:34.370Z",
    "type": "editCodeCell"
   },
   {
    "code": "",
    "id": "15b9f8dc5d724cdca0dcd75116067e11",
    "order_count": 3,
    "time": "2020-07-12T08:47:34.470Z",
    "type": "selectCodeCell"
   },
   {
    "code": "",
    "id": "15b9f8dc5d724cdca0dcd75116067e11",
    "order_count": 3,
    "time": "2020-07-12T08:48:19.341Z",
    "type": "editCodeCell"
   },
   {
    "code": "df = pd.read_csv(\"../lux/data/communities.csv\")\ndf",
    "id": "12a1be56c9ae4abab0a1f946bd40bc68",
    "order_count": 2,
    "time": "2020-07-12T08:48:22.059Z",
    "type": "selectCodeCell"
   },
   {
    "code": "df = pd.read_csv(\"../lux/data/communities.csv\")\ndf",
    "id": "12a1be56c9ae4abab0a1f946bd40bc68",
    "order_count": 2,
    "time": "2020-07-12T08:48:22.062Z",
    "type": "editCodeCell"
   },
   {
    "code": "df = pd.read_csv(\"../lux/data/communities.csv\")\ndf",
    "id": "12a1be56c9ae4abab0a1f946bd40bc68",
    "order_count": 2,
    "time": "2020-07-12T08:48:24.991Z",
    "type": "selectCodeCell"
   },
   {
    "code": "",
    "id": "04cb368d67e6431c8822941b731cb3d2",
    "order_count": 2,
    "time": "2020-07-12T08:48:25.085Z",
    "type": "selectCodeCell"
   },
   {
    "code": "",
    "id": "04cb368d67e6431c8822941b731cb3d2",
    "order_count": 2,
    "time": "2020-07-12T08:48:25.381Z",
    "type": "editCodeCell"
   },
   {
    "id": "12a1be56c9ae4abab0a1f946bd40bc68",
    "isPrintLuxDf": false,
    "isPrintPandasDf": true,
    "isPrintView": false,
    "isPrintViewCollection": false,
    "time": "2020-07-12T08:48:27.565Z",
    "type": "completeCodeCell"
   },
   {
    "code": "df = pd.read_csv(\"../lux/data/communities.csv\")\ndf",
    "id": "04cb368d67e6431c8822941b731cb3d2",
    "order_count": 2,
    "time": "2020-07-12T08:48:30.136Z",
    "type": "selectCodeCell"
   },
   {
    "code": "df = pd.read_csv(\"../lux/data/communities.csv\")\ndf",
    "id": "04cb368d67e6431c8822941b731cb3d2",
    "order_count": null,
    "time": "2020-07-12T08:48:30.749Z",
    "type": "deleteCodeCell"
   },
   {
    "code": "df = pd.read_csv(\"../lux/data/communities.csv\")\ndf",
    "id": "12a1be56c9ae4abab0a1f946bd40bc68",
    "order_count": 2,
    "time": "2020-07-12T08:48:31.652Z",
    "type": "selectCodeCell"
   },
   {
    "code": "",
    "id": "15b9f8dc5d724cdca0dcd75116067e11",
    "order_count": 3,
    "time": "2020-07-12T08:48:33.140Z",
    "type": "selectCodeCell"
   },
   {
    "code": "",
    "id": "15b9f8dc5d724cdca0dcd75116067e11",
    "order_count": 3,
    "time": "2020-07-12T08:48:33.144Z",
    "type": "editCodeCell"
   },
   {
    "code": "",
    "id": "15b9f8dc5d724cdca0dcd75116067e11",
    "order_count": 3,
    "time": "2020-07-12T08:48:33.799Z",
    "type": "selectCodeCell"
   },
   {
    "code": "",
    "id": "15b9f8dc5d724cdca0dcd75116067e11",
    "order_count": 3,
    "time": "2020-07-12T08:48:34.728Z",
    "type": "selectCodeCell"
   },
   {
    "code": "df = pd.read_csv(\"../lux/data/communities.csv\")\ndf",
    "id": "12a1be56c9ae4abab0a1f946bd40bc68",
    "order_count": 2,
    "time": "2020-07-12T08:48:35.567Z",
    "type": "selectCodeCell"
   },
   {
    "param": "",
    "time": "2020-07-12T08:48:35.639Z",
    "type": "initWidget"
   },
   {
    "param": "",
    "time": "2020-07-12T08:48:36.548Z",
    "type": "initWidget"
   },
   {
    "code": "df = pd.read_csv(\"../lux/data/communities.csv\")\ndf",
    "id": "12a1be56c9ae4abab0a1f946bd40bc68",
    "order_count": 2,
    "time": "2020-07-12T08:48:37.293Z",
    "type": "editCodeCell"
   },
   {
    "param": "Correlation",
    "time": "2020-07-12T08:48:39.594Z",
    "type": "startScroll"
   },
   {
    "param": "Correlation",
    "time": "2020-07-12T08:48:40.105Z",
    "type": "stopScroll"
   },
   {
    "param": "Correlation",
    "time": "2020-07-12T08:48:40.293Z",
    "type": "startScroll"
   },
   {
    "param": "Correlation",
    "time": "2020-07-12T08:48:40.905Z",
    "type": "stopScroll"
   },
   {
    "param": "Correlation",
    "time": "2020-07-12T08:48:40.943Z",
    "type": "startScroll"
   },
   {
    "param": "Correlation",
    "time": "2020-07-12T08:48:41.171Z",
    "type": "stopScroll"
   },
   {
    "code": "df = pd.read_csv(\"../lux/data/communities.csv\")\ndf",
    "id": "12a1be56c9ae4abab0a1f946bd40bc68",
    "order_count": 2,
    "time": "2020-07-12T08:48:44.946Z",
    "type": "selectCodeCell"
   },
   {
    "param": "Distribution",
    "time": "2020-07-12T08:48:44.948Z",
    "type": "switchTab"
   },
   {
    "code": "df = pd.read_csv(\"../lux/data/communities.csv\")\ndf",
    "id": "12a1be56c9ae4abab0a1f946bd40bc68",
    "order_count": 2,
    "time": "2020-07-12T08:48:47.222Z",
    "type": "selectCodeCell"
   },
   {
    "param": "Category",
    "time": "2020-07-12T08:48:47.224Z",
    "type": "switchTab"
   },
   {
    "param": "Category",
    "time": "2020-07-12T08:48:51.377Z",
    "type": "startScroll"
   },
   {
    "param": "Category",
    "time": "2020-07-12T08:48:51.873Z",
    "type": "stopScroll"
   },
   {
    "param": "Category",
    "time": "2020-07-12T08:48:53.977Z",
    "type": "startScroll"
   },
   {
    "param": "Category",
    "time": "2020-07-12T08:48:55.039Z",
    "type": "stopScroll"
   },
   {
    "param": "Category",
    "time": "2020-07-12T08:48:55.111Z",
    "type": "startScroll"
   },
   {
    "param": "Category",
    "time": "2020-07-12T08:48:55.272Z",
    "type": "stopScroll"
   },
   {
    "param": "Category",
    "time": "2020-07-12T08:48:59.159Z",
    "type": "startScroll"
   },
   {
    "param": "Category",
    "time": "2020-07-12T08:48:59.405Z",
    "type": "stopScroll"
   },
   {
    "param": "Category",
    "time": "2020-07-12T08:48:59.760Z",
    "type": "startScroll"
   },
   {
    "param": "Category",
    "time": "2020-07-12T08:48:59.822Z",
    "type": "stopScroll"
   },
   {
    "param": "Category",
    "time": "2020-07-12T08:49:00.093Z",
    "type": "startScroll"
   },
   {
    "param": "Category",
    "time": "2020-07-12T08:49:00.404Z",
    "type": "stopScroll"
   },
   {
    "param": "Category",
    "time": "2020-07-12T08:49:01.760Z",
    "type": "startScroll"
   },
   {
    "param": "Category",
    "time": "2020-07-12T08:49:01.822Z",
    "type": "stopScroll"
   },
   {
    "param": "Category",
    "time": "2020-07-12T08:49:07.894Z",
    "type": "startScroll"
   },
   {
    "param": "Category",
    "time": "2020-07-12T08:49:07.988Z",
    "type": "stopScroll"
   },
   {
    "param": "Category",
    "time": "2020-07-12T08:49:08.760Z",
    "type": "startScroll"
   },
   {
    "param": "Category",
    "time": "2020-07-12T08:49:09.637Z",
    "type": "stopScroll"
   },
   {
    "param": "Category",
    "time": "2020-07-12T08:49:10.310Z",
    "type": "startScroll"
   },
   {
    "param": "Category",
    "time": "2020-07-12T08:49:10.725Z",
    "type": "stopScroll"
   },
   {
    "code": "df = pd.read_csv(\"../lux/data/communities.csv\")\ndf",
    "id": "12a1be56c9ae4abab0a1f946bd40bc68",
    "order_count": 2,
    "time": "2020-07-12T08:49:15.572Z",
    "type": "editCodeCell"
   },
   {
    "code": "df = pd.read_csv(\"../lux/data/communities.csv\")\ndf",
    "id": "12a1be56c9ae4abab0a1f946bd40bc68",
    "order_count": 2,
    "time": "2020-07-12T08:49:55.700Z",
    "type": "editCodeCell"
   },
   {
    "code": "df = pd.read_csv(\"../lux/data/communities.csv\")\ndf",
    "id": "12a1be56c9ae4abab0a1f946bd40bc68",
    "order_count": 2,
    "time": "2020-07-12T08:50:00.273Z",
    "type": "editCodeCell"
   },
   {
    "code": "df = pd.read_csv(\"../lux/data/communities.csv\")\ndf",
    "id": "12a1be56c9ae4abab0a1f946bd40bc68",
    "order_count": 2,
    "time": "2020-07-12T08:50:38.433Z",
    "type": "editCodeCell"
   },
   {
    "code": "df = pd.read_csv(\"../lux/data/communities.csv\")\ndf",
    "id": "12a1be56c9ae4abab0a1f946bd40bc68",
    "order_count": 2,
    "time": "2020-07-12T08:50:42.225Z",
    "type": "selectCodeCell"
   },
   {
    "code": "df = pd.read_csv(\"../lux/data/Absenteeism_at_work.csv\")\ndf",
    "id": "12a1be56c9ae4abab0a1f946bd40bc68",
    "order_count": 2,
    "time": "2020-07-12T08:50:43.696Z",
    "type": "executeCodeCell"
   },
   {
    "code": "",
    "id": "15b9f8dc5d724cdca0dcd75116067e11",
    "order_count": 3,
    "time": "2020-07-12T08:50:43.712Z",
    "type": "selectCodeCell"
   },
   {
    "code": "",
    "id": "15b9f8dc5d724cdca0dcd75116067e11",
    "order_count": 3,
    "time": "2020-07-12T08:50:44.868Z",
    "type": "editCodeCell"
   },
   {
    "id": "12a1be56c9ae4abab0a1f946bd40bc68",
    "isPrintLuxDf": false,
    "isPrintPandasDf": true,
    "isPrintView": false,
    "isPrintViewCollection": false,
    "time": "2020-07-12T08:50:44.889Z",
    "type": "completeCodeCell"
   },
   {
    "code": "df = pd.read_csv(\"../lux/data/Absenteeism_at_work.csv\")\ndf",
    "id": "12a1be56c9ae4abab0a1f946bd40bc68",
    "order_count": 2,
    "time": "2020-07-12T08:50:46.779Z",
    "type": "selectCodeCell"
   },
   {
    "param": "",
    "time": "2020-07-12T08:50:46.811Z",
    "type": "initWidget"
   },
   {
    "param": "",
    "time": "2020-07-12T08:50:47.299Z",
    "type": "initWidget"
   },
   {
    "param": "Correlation",
    "time": "2020-07-12T08:50:49.640Z",
    "type": "startScroll"
   },
   {
    "param": "Correlation",
    "time": "2020-07-12T08:50:50.683Z",
    "type": "stopScroll"
   },
   {
    "code": "df = pd.read_csv(\"../lux/data/Absenteeism_at_work.csv\")\ndf",
    "id": "12a1be56c9ae4abab0a1f946bd40bc68",
    "order_count": 2,
    "time": "2020-07-12T08:50:51.804Z",
    "type": "selectCodeCell"
   },
   {
    "param": "Distribution",
    "time": "2020-07-12T08:50:51.807Z",
    "type": "switchTab"
   },
   {
    "code": "df = pd.read_csv(\"../lux/data/Absenteeism_at_work.csv\")\ndf",
    "id": "12a1be56c9ae4abab0a1f946bd40bc68",
    "order_count": 2,
    "time": "2020-07-12T08:50:54.857Z",
    "type": "selectCodeCell"
   },
   {
    "code": "",
    "id": "15b9f8dc5d724cdca0dcd75116067e11",
    "order_count": 3,
    "time": "2020-07-12T08:50:55.096Z",
    "type": "selectCodeCell"
   },
   {
    "code": "",
    "id": "15b9f8dc5d724cdca0dcd75116067e11",
    "order_count": 3,
    "time": "2020-07-12T08:50:55.100Z",
    "type": "editCodeCell"
   },
   {
    "code": "",
    "id": "15b9f8dc5d724cdca0dcd75116067e11",
    "order_count": 3,
    "time": "2020-07-12T08:50:55.192Z",
    "type": "selectCodeCell"
   },
   {
    "code": "",
    "id": "15b9f8dc5d724cdca0dcd75116067e11",
    "order_count": 3,
    "time": "2020-07-12T08:50:56.059Z",
    "type": "selectCodeCell"
   },
   {
    "code": "df = pd.read_csv(\"../lux/data/Absenteeism_at_work.csv\")\ndf",
    "id": "12a1be56c9ae4abab0a1f946bd40bc68",
    "order_count": 2,
    "time": "2020-07-12T08:50:57.699Z",
    "type": "selectCodeCell"
   },
   {
    "code": "",
    "id": "1d8c36d967cf4e87855438af20a18b70",
    "order_count": 2,
    "time": "2020-07-12T08:50:57.998Z",
    "type": "selectCodeCell"
   },
   {
    "code": "",
    "id": "1d8c36d967cf4e87855438af20a18b70",
    "order_count": 2,
    "time": "2020-07-12T08:50:58.157Z",
    "type": "editCodeCell"
   },
   {
    "code": "df = pd.read_csv(\"../lux/data/Absenteeism_at_work.csv\")\ndf",
    "id": "12a1be56c9ae4abab0a1f946bd40bc68",
    "order_count": 3,
    "time": "2020-07-12T08:51:29.180Z",
    "type": "selectCodeCell"
   },
   {
    "code": "df = pd.read_csv(\"../lux/data/Absenteeism_at_work.csv\")\ndf",
    "id": "12a1be56c9ae4abab0a1f946bd40bc68",
    "order_count": 3,
    "time": "2020-07-12T08:51:46.491Z",
    "type": "selectCodeCell"
   },
   {
    "code": "",
    "id": "b9f61004f10a41618d20649fd46b2fbe",
    "order_count": 4,
    "time": "2020-07-12T08:51:47.403Z",
    "type": "selectCodeCell"
   },
   {
    "code": "",
    "id": "b9f61004f10a41618d20649fd46b2fbe",
    "order_count": 4,
    "time": "2020-07-12T08:51:47.604Z",
    "type": "editCodeCell"
   },
   {
    "code": "len(df)",
    "id": "b9f61004f10a41618d20649fd46b2fbe",
    "order_count": 4,
    "time": "2020-07-12T08:51:48.858Z",
    "type": "executeCodeCell"
   },
   {
    "code": "",
    "id": "15b9f8dc5d724cdca0dcd75116067e11",
    "order_count": 5,
    "time": "2020-07-12T08:51:48.876Z",
    "type": "selectCodeCell"
   },
   {
    "id": "b9f61004f10a41618d20649fd46b2fbe",
    "isPrintLuxDf": false,
    "isPrintPandasDf": false,
    "isPrintView": false,
    "isPrintViewCollection": false,
    "time": "2020-07-12T08:51:48.885Z",
    "type": "completeCodeCell"
   },
   {
    "param": "Distribution",
    "time": "2020-07-12T08:51:51.440Z",
    "type": "startScroll"
   },
   {
    "param": "Distribution",
    "time": "2020-07-12T08:51:51.670Z",
    "type": "stopScroll"
   },
   {
    "param": "Distribution",
    "time": "2020-07-12T08:51:53.606Z",
    "type": "startScroll"
   },
   {
    "param": "Distribution",
    "time": "2020-07-12T08:51:54.537Z",
    "type": "stopScroll"
   },
   {
    "param": "Distribution",
    "time": "2020-07-12T08:51:54.872Z",
    "type": "startScroll"
   },
   {
    "param": "Distribution",
    "time": "2020-07-12T08:51:55.602Z",
    "type": "stopScroll"
   },
   {
    "param": "Distribution",
    "time": "2020-07-12T08:51:57.722Z",
    "type": "startScroll"
   },
   {
    "param": "Distribution",
    "time": "2020-07-12T08:51:58.519Z",
    "type": "stopScroll"
   },
   {
    "param": "Distribution",
    "time": "2020-07-12T08:51:59.956Z",
    "type": "startScroll"
   },
   {
    "param": "Distribution",
    "time": "2020-07-12T08:52:00.371Z",
    "type": "stopScroll"
   },
   {
    "code": "df = pd.read_csv(\"../lux/data/Absenteeism_at_work.csv\")\ndf",
    "id": "12a1be56c9ae4abab0a1f946bd40bc68",
    "order_count": 3,
    "time": "2020-07-12T08:52:01.325Z",
    "type": "selectCodeCell"
   },
   {
    "param": "Distribution",
    "time": "2020-07-12T08:52:01.957Z",
    "type": "startScroll"
   },
   {
    "param": "Distribution",
    "time": "2020-07-12T08:52:02.500Z",
    "type": "stopScroll"
   },
   {
    "param": "Distribution",
    "time": "2020-07-12T08:52:03.655Z",
    "type": "startScroll"
   },
   {
    "param": "Distribution",
    "time": "2020-07-12T08:52:03.986Z",
    "type": "stopScroll"
   },
   {
    "param": "Distribution",
    "time": "2020-07-12T08:52:04.688Z",
    "type": "startScroll"
   },
   {
    "param": "Distribution",
    "time": "2020-07-12T08:52:04.882Z",
    "type": "stopScroll"
   },
   {
    "code": "df = pd.read_csv(\"../lux/data/Absenteeism_at_work.csv\")\ndf",
    "id": "12a1be56c9ae4abab0a1f946bd40bc68",
    "order_count": 3,
    "time": "2020-07-12T08:52:23.631Z",
    "type": "selectCodeCell"
   },
   {
    "code": "df = pd.read_csv(\"../lux/data/Absenteeism_at_work.csv\")\ndf",
    "id": "12a1be56c9ae4abab0a1f946bd40bc68",
    "order_count": 3,
    "time": "2020-07-12T09:00:06.098Z",
    "type": "editCodeCell"
   },
   {
    "code": "df = pd.read_csv(\"../lux/data/hpi.csv\")\ndf",
    "id": "12a1be56c9ae4abab0a1f946bd40bc68",
    "order_count": 3,
    "time": "2020-07-12T09:00:08.445Z",
    "type": "executeCodeCell"
   },
   {
    "code": "len(df)",
    "id": "b9f61004f10a41618d20649fd46b2fbe",
    "order_count": 4,
    "time": "2020-07-12T09:00:08.463Z",
    "type": "selectCodeCell"
   },
   {
    "id": "12a1be56c9ae4abab0a1f946bd40bc68",
    "isPrintLuxDf": false,
    "isPrintPandasDf": true,
    "isPrintView": false,
    "isPrintViewCollection": false,
    "time": "2020-07-12T09:00:09.142Z",
    "type": "completeCodeCell"
   },
   {
    "code": "df = pd.read_csv(\"../lux/data/hpi.csv\")\ndf",
    "id": "12a1be56c9ae4abab0a1f946bd40bc68",
    "order_count": 3,
    "time": "2020-07-12T09:00:10.854Z",
    "type": "selectCodeCell"
   },
   {
    "param": "",
    "time": "2020-07-12T09:00:10.878Z",
    "type": "initWidget"
   },
   {
    "param": "",
    "time": "2020-07-12T09:00:11.208Z",
    "type": "initWidget"
   },
   {
    "param": "Correlation",
    "time": "2020-07-12T09:00:12.736Z",
    "type": "startScroll"
   },
   {
    "param": "Correlation",
    "time": "2020-07-12T09:00:13.347Z",
    "type": "stopScroll"
   },
   {
    "param": "Correlation",
    "time": "2020-07-12T09:00:13.686Z",
    "type": "startScroll"
   },
   {
    "param": "Correlation",
    "time": "2020-07-12T09:00:14.364Z",
    "type": "stopScroll"
   },
   {
    "code": "len(df)",
    "id": "b9f61004f10a41618d20649fd46b2fbe",
    "order_count": 4,
    "time": "2020-07-12T09:00:15.728Z",
    "type": "selectCodeCell"
   },
   {
    "code": "len(df)",
    "id": "b9f61004f10a41618d20649fd46b2fbe",
    "order_count": 4,
    "time": "2020-07-12T09:00:15.733Z",
    "type": "editCodeCell"
   },
   {
    "code": "We examine the [absenteeism dataset](https://archive.ics.uci.edu/ml/datasets/Absenteeism+at+work)",
    "id": "2b4ef2b4027f49a68a2486039b0d5fee",
    "order_count": 2,
    "time": "2020-07-12T09:00:17.952Z",
    "type": "selectMarkdownCell"
   },
   {
    "code": "We examine the [absenteeism dataset](https://archive.ics.uci.edu/ml/datasets/Absenteeism+at+work)",
    "id": "2b4ef2b4027f49a68a2486039b0d5fee",
    "order_count": 2,
    "time": "2020-07-12T09:00:18.150Z",
    "type": "selectMarkdownCell"
   },
   {
    "code": "We examine the [absenteeism dataset](https://archive.ics.uci.edu/ml/datasets/Absenteeism+at+work)",
    "id": "2b4ef2b4027f49a68a2486039b0d5fee",
    "order_count": 2,
    "time": "2020-07-12T09:00:19.339Z",
    "type": "editMarkdownCell"
   },
   {
    "code": "We examine the [absenteeism dataset](https://archive.ics.uci.edu/ml/datasets/Absenteeism+at+work)",
    "id": "2b4ef2b4027f49a68a2486039b0d5fee",
    "order_count": 2,
    "time": "2020-07-12T09:00:20.393Z",
    "type": "selectMarkdownCell"
   },
   {
    "code": "We examine the [Happy Planet Index](https://archive.ics.uci.edu/ml/datasets/Absenteeism+at+work)",
    "id": "2b4ef2b4027f49a68a2486039b0d5fee",
    "order_count": 2,
    "time": "2020-07-12T09:00:35.309Z",
    "type": "editMarkdownCell"
   },
   {
    "code": "We examine the [Happy Planet Index](https://archive.ics.uci.edu/ml/datasets/Absenteeism+at+work)",
    "id": "2b4ef2b4027f49a68a2486039b0d5fee",
    "order_count": 2,
    "time": "2020-07-12T09:00:35.441Z",
    "type": "selectMarkdownCell"
   },
   {
    "code": "df = pd.read_csv(\"../lux/data/hpi.csv\")\ndf",
    "id": "12a1be56c9ae4abab0a1f946bd40bc68",
    "order_count": 3,
    "time": "2020-07-12T09:00:42.513Z",
    "type": "selectCodeCell"
   },
   {
    "time": "2020-07-12T09:00:47.883Z",
    "type": "kernelReady"
   },
   {
    "code": "df = pd.read_csv(\"../lux/data/hpi.csv\")\ndf",
    "id": "12a1be56c9ae4abab0a1f946bd40bc68",
    "order_count": 3,
    "time": "2020-07-12T09:33:44.495Z",
    "type": "selectCodeCell"
   },
   {
    "param": "Distribution",
    "time": "2020-07-12T09:33:44.498Z",
    "type": "switchTab"
   },
   {
    "code": "df = pd.read_csv(\"../lux/data/hpi.csv\")\ndf",
    "id": "12a1be56c9ae4abab0a1f946bd40bc68",
    "order_count": 3,
    "time": "2020-07-12T09:33:46.118Z",
    "type": "selectCodeCell"
   },
   {
    "param": "Category",
    "time": "2020-07-12T09:33:46.120Z",
    "type": "switchTab"
   },
   {
    "code": "df = pd.read_csv(\"../lux/data/hpi.csv\")\ndf",
    "id": "12a1be56c9ae4abab0a1f946bd40bc68",
    "order_count": 3,
    "time": "2020-07-12T09:33:52.744Z",
    "type": "selectCodeCell"
   },
   {
    "code": "df = pd.read_csv(\"../lux/data/hpi.csv\")\ndf",
    "id": "12a1be56c9ae4abab0a1f946bd40bc68",
    "order_count": 3,
    "time": "2020-07-12T09:34:28.212Z",
    "type": "selectCodeCell"
   },
   {
    "param": {
     "index": 1,
     "tabTitle": "Category",
     "vis": {
      "$schema": "https://vega.github.io/schema/vega-lite/v4.8.1.json",
      "config": {
       "mark": {
        "tooltip": {
         "content": "encoding"
        }
       },
       "view": {
        "continuousHeight": 300,
        "continuousWidth": 400
       }
      },
      "data": {
       "name": "data-1b7033345d27ef8ca1a6a412e7b987b1"
      },
      "datasets": {
       "data-1b7033345d27ef8ca1a6a412e7b987b1": [
        {
         "Country": "Afghanistan",
         "Record": 1
        },
        {
         "Country": "Albania",
         "Record": 1
        },
        {
         "Country": "Algeria",
         "Record": 1
        },
        {
         "Country": "Argentina",
         "Record": 1
        },
        {
         "Country": "Armenia",
         "Record": 1
        },
        {
         "Country": "Australia",
         "Record": 1
        },
        {
         "Country": "Austria",
         "Record": 1
        },
        {
         "Country": "Bangladesh",
         "Record": 1
        },
        {
         "Country": "Belarus",
         "Record": 1
        },
        {
         "Country": "Belgium",
         "Record": 1
        },
        {
         "Country": "Belize",
         "Record": 1
        },
        {
         "Country": "Benin",
         "Record": 1
        },
        {
         "Country": "Bhutan",
         "Record": 1
        },
        {
         "Country": "Bolivia",
         "Record": 1
        },
        {
         "Country": "Bosnia and Herzegovina",
         "Record": 1
        },
        {
         "Country": "Botswana",
         "Record": 1
        },
        {
         "Country": "Brazil",
         "Record": 1
        },
        {
         "Country": "Bulgaria",
         "Record": 1
        },
        {
         "Country": "Burkina Faso",
         "Record": 1
        },
        {
         "Country": "Burundi",
         "Record": 1
        },
        {
         "Country": "Cambodia",
         "Record": 1
        },
        {
         "Country": "Cameroon",
         "Record": 1
        },
        {
         "Country": "Canada",
         "Record": 1
        },
        {
         "Country": "Chad",
         "Record": 1
        },
        {
         "Country": "Chile",
         "Record": 1
        },
        {
         "Country": "China",
         "Record": 1
        },
        {
         "Country": "Colombia",
         "Record": 1
        },
        {
         "Country": "Comoros",
         "Record": 1
        },
        {
         "Country": "Costa Rica",
         "Record": 1
        },
        {
         "Country": "Cote d'Ivoire",
         "Record": 1
        },
        {
         "Country": "Croatia",
         "Record": 1
        },
        {
         "Country": "Cyprus",
         "Record": 1
        },
        {
         "Country": "Czech Republic",
         "Record": 1
        },
        {
         "Country": "Denmark",
         "Record": 1
        },
        {
         "Country": "Djibouti",
         "Record": 1
        },
        {
         "Country": "Dominican Republic",
         "Record": 1
        },
        {
         "Country": "Ecuador",
         "Record": 1
        },
        {
         "Country": "Egypt",
         "Record": 1
        },
        {
         "Country": "El Salvador",
         "Record": 1
        },
        {
         "Country": "Estonia",
         "Record": 1
        },
        {
         "Country": "Ethiopia",
         "Record": 1
        },
        {
         "Country": "Finland",
         "Record": 1
        },
        {
         "Country": "France",
         "Record": 1
        },
        {
         "Country": "Gabon",
         "Record": 1
        },
        {
         "Country": "Georgia",
         "Record": 1
        },
        {
         "Country": "Germany",
         "Record": 1
        },
        {
         "Country": "Ghana",
         "Record": 1
        },
        {
         "Country": "Greece",
         "Record": 1
        },
        {
         "Country": "Guatemala",
         "Record": 1
        },
        {
         "Country": "Guinea",
         "Record": 1
        },
        {
         "Country": "Haiti",
         "Record": 1
        },
        {
         "Country": "Honduras",
         "Record": 1
        },
        {
         "Country": "Hong Kong",
         "Record": 1
        },
        {
         "Country": "Hungary",
         "Record": 1
        },
        {
         "Country": "Iceland",
         "Record": 1
        },
        {
         "Country": "India",
         "Record": 1
        },
        {
         "Country": "Indonesia",
         "Record": 1
        },
        {
         "Country": "Iran",
         "Record": 1
        },
        {
         "Country": "Iraq",
         "Record": 1
        },
        {
         "Country": "Ireland",
         "Record": 1
        },
        {
         "Country": "Israel",
         "Record": 1
        },
        {
         "Country": "Italy",
         "Record": 1
        },
        {
         "Country": "Jamaica",
         "Record": 1
        },
        {
         "Country": "Japan",
         "Record": 1
        },
        {
         "Country": "Kazakhstan",
         "Record": 1
        },
        {
         "Country": "Kenya",
         "Record": 1
        },
        {
         "Country": "Kyrgyzstan",
         "Record": 1
        },
        {
         "Country": "Latvia",
         "Record": 1
        },
        {
         "Country": "Lebanon",
         "Record": 1
        },
        {
         "Country": "Lesotho",
         "Record": 1
        },
        {
         "Country": "Liberia",
         "Record": 1
        },
        {
         "Country": "Lithuania",
         "Record": 1
        },
        {
         "Country": "Luxembourg",
         "Record": 1
        },
        {
         "Country": "Macedonia",
         "Record": 1
        },
        {
         "Country": "Malawi",
         "Record": 1
        },
        {
         "Country": "Malaysia",
         "Record": 1
        },
        {
         "Country": "Malta",
         "Record": 1
        },
        {
         "Country": "Mauritania",
         "Record": 1
        },
        {
         "Country": "Mauritius",
         "Record": 1
        },
        {
         "Country": "Mexico",
         "Record": 1
        },
        {
         "Country": "Mongolia",
         "Record": 1
        },
        {
         "Country": "Montenegro",
         "Record": 1
        },
        {
         "Country": "Morocco",
         "Record": 1
        },
        {
         "Country": "Mozambique",
         "Record": 1
        },
        {
         "Country": "Myanmar",
         "Record": 1
        },
        {
         "Country": "Namibia",
         "Record": 1
        },
        {
         "Country": "Nepal",
         "Record": 1
        },
        {
         "Country": "Netherlands",
         "Record": 1
        },
        {
         "Country": "New Zealand",
         "Record": 1
        },
        {
         "Country": "Nicaragua",
         "Record": 1
        },
        {
         "Country": "Niger",
         "Record": 1
        },
        {
         "Country": "Nigeria",
         "Record": 1
        },
        {
         "Country": "Norway",
         "Record": 1
        },
        {
         "Country": "Oman",
         "Record": 1
        },
        {
         "Country": "Pakistan",
         "Record": 1
        },
        {
         "Country": "Palestine",
         "Record": 1
        },
        {
         "Country": "Panama",
         "Record": 1
        },
        {
         "Country": "Paraguay",
         "Record": 1
        },
        {
         "Country": "Peru",
         "Record": 1
        },
        {
         "Country": "Philippines",
         "Record": 1
        },
        {
         "Country": "Poland",
         "Record": 1
        },
        {
         "Country": "Portugal",
         "Record": 1
        },
        {
         "Country": "Republic of Congo",
         "Record": 1
        },
        {
         "Country": "Romania",
         "Record": 1
        },
        {
         "Country": "Russia",
         "Record": 1
        },
        {
         "Country": "Rwanda",
         "Record": 1
        },
        {
         "Country": "Senegal",
         "Record": 1
        },
        {
         "Country": "Serbia",
         "Record": 1
        },
        {
         "Country": "Sierra Leone",
         "Record": 1
        },
        {
         "Country": "Slovakia",
         "Record": 1
        },
        {
         "Country": "Slovenia",
         "Record": 1
        },
        {
         "Country": "South Africa",
         "Record": 1
        },
        {
         "Country": "South Korea",
         "Record": 1
        },
        {
         "Country": "Spain",
         "Record": 1
        },
        {
         "Country": "Sri Lanka",
         "Record": 1
        },
        {
         "Country": "Suriname",
         "Record": 1
        },
        {
         "Country": "Swaziland",
         "Record": 1
        },
        {
         "Country": "Sweden",
         "Record": 1
        },
        {
         "Country": "Switzerland",
         "Record": 1
        },
        {
         "Country": "Syria",
         "Record": 1
        },
        {
         "Country": "Tajikistan",
         "Record": 1
        },
        {
         "Country": "Tanzania",
         "Record": 1
        },
        {
         "Country": "Thailand",
         "Record": 1
        },
        {
         "Country": "Togo",
         "Record": 1
        },
        {
         "Country": "Trinidad and Tobago",
         "Record": 1
        },
        {
         "Country": "Tunisia",
         "Record": 1
        },
        {
         "Country": "Turkey",
         "Record": 1
        },
        {
         "Country": "Turkmenistan",
         "Record": 1
        },
        {
         "Country": "Uganda",
         "Record": 1
        },
        {
         "Country": "Ukraine",
         "Record": 1
        },
        {
         "Country": "United Kingdom",
         "Record": 1
        },
        {
         "Country": "United States of America",
         "Record": 1
        },
        {
         "Country": "Uruguay",
         "Record": 1
        },
        {
         "Country": "Uzbekistan",
         "Record": 1
        },
        {
         "Country": "Vanuatu",
         "Record": 1
        },
        {
         "Country": "Venezuela",
         "Record": 1
        },
        {
         "Country": "Vietnam",
         "Record": 1
        },
        {
         "Country": "Yemen",
         "Record": 1
        },
        {
         "Country": "Zambia",
         "Record": 1
        },
        {
         "Country": "Zimbabwe",
         "Record": 1
        }
       ]
      },
      "encoding": {
       "x": {
        "field": "Record",
        "title": "Count of Record",
        "type": "quantitative"
       },
       "y": {
        "axis": {
         "labelOverlap": true
        },
        "field": "Country",
        "sort": "-x",
        "type": "nominal"
       }
      },
      "height": 150,
      "mark": "bar",
      "width": 160
     }
    },
    "time": "2020-07-12T09:34:28.215Z",
    "type": "clickVis"
   },
   {
    "code": "df = pd.read_csv(\"../lux/data/hpi.csv\")\ndf",
    "id": "12a1be56c9ae4abab0a1f946bd40bc68",
    "order_count": 3,
    "time": "2020-07-12T09:34:31.464Z",
    "type": "selectCodeCell"
   },
   {
    "param": "Correlation",
    "time": "2020-07-12T09:34:31.467Z",
    "type": "switchTab"
   },
   {
    "code": "df = pd.read_csv(\"../lux/data/hpi.csv\")\ndf",
    "id": "12a1be56c9ae4abab0a1f946bd40bc68",
    "order_count": 3,
    "time": "2020-07-12T09:34:37.395Z",
    "type": "selectCodeCell"
   },
   {
    "param": "Category",
    "time": "2020-07-12T09:34:37.397Z",
    "type": "switchTab"
   },
   {
    "code": "df = pd.read_csv(\"../lux/data/hpi.csv\")\ndf",
    "id": "12a1be56c9ae4abab0a1f946bd40bc68",
    "order_count": 3,
    "time": "2020-07-12T09:35:04.590Z",
    "type": "selectCodeCell"
   },
   {
    "param": {
     "index": 1,
     "tabTitle": "Category",
     "vis": {
      "$schema": "https://vega.github.io/schema/vega-lite/v4.8.1.json",
      "config": {
       "mark": {
        "tooltip": {
         "content": "encoding"
        }
       },
       "view": {
        "continuousHeight": 300,
        "continuousWidth": 400
       }
      },
      "data": {
       "name": "data-1b7033345d27ef8ca1a6a412e7b987b1"
      },
      "datasets": {
       "data-1b7033345d27ef8ca1a6a412e7b987b1": [
        {
         "Country": "Afghanistan",
         "Record": 1
        },
        {
         "Country": "Albania",
         "Record": 1
        },
        {
         "Country": "Algeria",
         "Record": 1
        },
        {
         "Country": "Argentina",
         "Record": 1
        },
        {
         "Country": "Armenia",
         "Record": 1
        },
        {
         "Country": "Australia",
         "Record": 1
        },
        {
         "Country": "Austria",
         "Record": 1
        },
        {
         "Country": "Bangladesh",
         "Record": 1
        },
        {
         "Country": "Belarus",
         "Record": 1
        },
        {
         "Country": "Belgium",
         "Record": 1
        },
        {
         "Country": "Belize",
         "Record": 1
        },
        {
         "Country": "Benin",
         "Record": 1
        },
        {
         "Country": "Bhutan",
         "Record": 1
        },
        {
         "Country": "Bolivia",
         "Record": 1
        },
        {
         "Country": "Bosnia and Herzegovina",
         "Record": 1
        },
        {
         "Country": "Botswana",
         "Record": 1
        },
        {
         "Country": "Brazil",
         "Record": 1
        },
        {
         "Country": "Bulgaria",
         "Record": 1
        },
        {
         "Country": "Burkina Faso",
         "Record": 1
        },
        {
         "Country": "Burundi",
         "Record": 1
        },
        {
         "Country": "Cambodia",
         "Record": 1
        },
        {
         "Country": "Cameroon",
         "Record": 1
        },
        {
         "Country": "Canada",
         "Record": 1
        },
        {
         "Country": "Chad",
         "Record": 1
        },
        {
         "Country": "Chile",
         "Record": 1
        },
        {
         "Country": "China",
         "Record": 1
        },
        {
         "Country": "Colombia",
         "Record": 1
        },
        {
         "Country": "Comoros",
         "Record": 1
        },
        {
         "Country": "Costa Rica",
         "Record": 1
        },
        {
         "Country": "Cote d'Ivoire",
         "Record": 1
        },
        {
         "Country": "Croatia",
         "Record": 1
        },
        {
         "Country": "Cyprus",
         "Record": 1
        },
        {
         "Country": "Czech Republic",
         "Record": 1
        },
        {
         "Country": "Denmark",
         "Record": 1
        },
        {
         "Country": "Djibouti",
         "Record": 1
        },
        {
         "Country": "Dominican Republic",
         "Record": 1
        },
        {
         "Country": "Ecuador",
         "Record": 1
        },
        {
         "Country": "Egypt",
         "Record": 1
        },
        {
         "Country": "El Salvador",
         "Record": 1
        },
        {
         "Country": "Estonia",
         "Record": 1
        },
        {
         "Country": "Ethiopia",
         "Record": 1
        },
        {
         "Country": "Finland",
         "Record": 1
        },
        {
         "Country": "France",
         "Record": 1
        },
        {
         "Country": "Gabon",
         "Record": 1
        },
        {
         "Country": "Georgia",
         "Record": 1
        },
        {
         "Country": "Germany",
         "Record": 1
        },
        {
         "Country": "Ghana",
         "Record": 1
        },
        {
         "Country": "Greece",
         "Record": 1
        },
        {
         "Country": "Guatemala",
         "Record": 1
        },
        {
         "Country": "Guinea",
         "Record": 1
        },
        {
         "Country": "Haiti",
         "Record": 1
        },
        {
         "Country": "Honduras",
         "Record": 1
        },
        {
         "Country": "Hong Kong",
         "Record": 1
        },
        {
         "Country": "Hungary",
         "Record": 1
        },
        {
         "Country": "Iceland",
         "Record": 1
        },
        {
         "Country": "India",
         "Record": 1
        },
        {
         "Country": "Indonesia",
         "Record": 1
        },
        {
         "Country": "Iran",
         "Record": 1
        },
        {
         "Country": "Iraq",
         "Record": 1
        },
        {
         "Country": "Ireland",
         "Record": 1
        },
        {
         "Country": "Israel",
         "Record": 1
        },
        {
         "Country": "Italy",
         "Record": 1
        },
        {
         "Country": "Jamaica",
         "Record": 1
        },
        {
         "Country": "Japan",
         "Record": 1
        },
        {
         "Country": "Kazakhstan",
         "Record": 1
        },
        {
         "Country": "Kenya",
         "Record": 1
        },
        {
         "Country": "Kyrgyzstan",
         "Record": 1
        },
        {
         "Country": "Latvia",
         "Record": 1
        },
        {
         "Country": "Lebanon",
         "Record": 1
        },
        {
         "Country": "Lesotho",
         "Record": 1
        },
        {
         "Country": "Liberia",
         "Record": 1
        },
        {
         "Country": "Lithuania",
         "Record": 1
        },
        {
         "Country": "Luxembourg",
         "Record": 1
        },
        {
         "Country": "Macedonia",
         "Record": 1
        },
        {
         "Country": "Malawi",
         "Record": 1
        },
        {
         "Country": "Malaysia",
         "Record": 1
        },
        {
         "Country": "Malta",
         "Record": 1
        },
        {
         "Country": "Mauritania",
         "Record": 1
        },
        {
         "Country": "Mauritius",
         "Record": 1
        },
        {
         "Country": "Mexico",
         "Record": 1
        },
        {
         "Country": "Mongolia",
         "Record": 1
        },
        {
         "Country": "Montenegro",
         "Record": 1
        },
        {
         "Country": "Morocco",
         "Record": 1
        },
        {
         "Country": "Mozambique",
         "Record": 1
        },
        {
         "Country": "Myanmar",
         "Record": 1
        },
        {
         "Country": "Namibia",
         "Record": 1
        },
        {
         "Country": "Nepal",
         "Record": 1
        },
        {
         "Country": "Netherlands",
         "Record": 1
        },
        {
         "Country": "New Zealand",
         "Record": 1
        },
        {
         "Country": "Nicaragua",
         "Record": 1
        },
        {
         "Country": "Niger",
         "Record": 1
        },
        {
         "Country": "Nigeria",
         "Record": 1
        },
        {
         "Country": "Norway",
         "Record": 1
        },
        {
         "Country": "Oman",
         "Record": 1
        },
        {
         "Country": "Pakistan",
         "Record": 1
        },
        {
         "Country": "Palestine",
         "Record": 1
        },
        {
         "Country": "Panama",
         "Record": 1
        },
        {
         "Country": "Paraguay",
         "Record": 1
        },
        {
         "Country": "Peru",
         "Record": 1
        },
        {
         "Country": "Philippines",
         "Record": 1
        },
        {
         "Country": "Poland",
         "Record": 1
        },
        {
         "Country": "Portugal",
         "Record": 1
        },
        {
         "Country": "Republic of Congo",
         "Record": 1
        },
        {
         "Country": "Romania",
         "Record": 1
        },
        {
         "Country": "Russia",
         "Record": 1
        },
        {
         "Country": "Rwanda",
         "Record": 1
        },
        {
         "Country": "Senegal",
         "Record": 1
        },
        {
         "Country": "Serbia",
         "Record": 1
        },
        {
         "Country": "Sierra Leone",
         "Record": 1
        },
        {
         "Country": "Slovakia",
         "Record": 1
        },
        {
         "Country": "Slovenia",
         "Record": 1
        },
        {
         "Country": "South Africa",
         "Record": 1
        },
        {
         "Country": "South Korea",
         "Record": 1
        },
        {
         "Country": "Spain",
         "Record": 1
        },
        {
         "Country": "Sri Lanka",
         "Record": 1
        },
        {
         "Country": "Suriname",
         "Record": 1
        },
        {
         "Country": "Swaziland",
         "Record": 1
        },
        {
         "Country": "Sweden",
         "Record": 1
        },
        {
         "Country": "Switzerland",
         "Record": 1
        },
        {
         "Country": "Syria",
         "Record": 1
        },
        {
         "Country": "Tajikistan",
         "Record": 1
        },
        {
         "Country": "Tanzania",
         "Record": 1
        },
        {
         "Country": "Thailand",
         "Record": 1
        },
        {
         "Country": "Togo",
         "Record": 1
        },
        {
         "Country": "Trinidad and Tobago",
         "Record": 1
        },
        {
         "Country": "Tunisia",
         "Record": 1
        },
        {
         "Country": "Turkey",
         "Record": 1
        },
        {
         "Country": "Turkmenistan",
         "Record": 1
        },
        {
         "Country": "Uganda",
         "Record": 1
        },
        {
         "Country": "Ukraine",
         "Record": 1
        },
        {
         "Country": "United Kingdom",
         "Record": 1
        },
        {
         "Country": "United States of America",
         "Record": 1
        },
        {
         "Country": "Uruguay",
         "Record": 1
        },
        {
         "Country": "Uzbekistan",
         "Record": 1
        },
        {
         "Country": "Vanuatu",
         "Record": 1
        },
        {
         "Country": "Venezuela",
         "Record": 1
        },
        {
         "Country": "Vietnam",
         "Record": 1
        },
        {
         "Country": "Yemen",
         "Record": 1
        },
        {
         "Country": "Zambia",
         "Record": 1
        },
        {
         "Country": "Zimbabwe",
         "Record": 1
        }
       ]
      },
      "encoding": {
       "x": {
        "field": "Record",
        "title": "Count of Record",
        "type": "quantitative"
       },
       "y": {
        "axis": {
         "labelOverlap": true
        },
        "field": "Country",
        "sort": "-x",
        "type": "nominal"
       }
      },
      "height": 150,
      "mark": "bar",
      "width": 160
     }
    },
    "time": "2020-07-12T09:35:04.598Z",
    "type": "unclickVis"
   },
   {
    "code": "df = pd.read_csv(\"../lux/data/hpi.csv\")\ndf",
    "id": "12a1be56c9ae4abab0a1f946bd40bc68",
    "order_count": 3,
    "time": "2020-07-12T09:35:16.632Z",
    "type": "selectCodeCell"
   },
   {
    "code": "df = pd.read_csv(\"../lux/data/hpi.csv\")\ndf",
    "id": "12a1be56c9ae4abab0a1f946bd40bc68",
    "order_count": 3,
    "time": "2020-07-12T09:35:49.339Z",
    "type": "selectCodeCell"
   },
   {
    "param": "Correlation",
    "time": "2020-07-12T09:35:49.341Z",
    "type": "switchTab"
   },
   {
    "param": "Correlation",
    "time": "2020-07-12T09:35:50.778Z",
    "type": "startScroll"
   },
   {
    "param": "Correlation",
    "time": "2020-07-12T09:35:51.655Z",
    "type": "stopScroll"
   },
   {
    "code": "len(df)",
    "id": "b9f61004f10a41618d20649fd46b2fbe",
    "order_count": 4,
    "time": "2020-07-12T09:35:54.284Z",
    "type": "selectCodeCell"
   },
   {
    "code": "len(df)",
    "id": "b9f61004f10a41618d20649fd46b2fbe",
    "order_count": 4,
    "time": "2020-07-12T09:35:54.289Z",
    "type": "editCodeCell"
   },
   {
    "param": "Correlation",
    "time": "2020-07-12T09:35:57.295Z",
    "type": "startScroll"
   },
   {
    "param": "Correlation",
    "time": "2020-07-12T09:35:57.872Z",
    "type": "stopScroll"
   },
   {
    "param": "Correlation",
    "time": "2020-07-12T09:35:59.678Z",
    "type": "startScroll"
   },
   {
    "param": "Correlation",
    "time": "2020-07-12T09:36:00.354Z",
    "type": "stopScroll"
   },
   {
    "param": "Correlation",
    "time": "2020-07-12T09:36:04.128Z",
    "type": "startScroll"
   },
   {
    "param": "Correlation",
    "time": "2020-07-12T09:36:04.292Z",
    "type": "stopScroll"
   },
   {
    "param": "Correlation",
    "time": "2020-07-12T09:36:04.495Z",
    "type": "startScroll"
   },
   {
    "param": "Correlation",
    "time": "2020-07-12T09:36:04.591Z",
    "type": "stopScroll"
   },
   {
    "param": "Correlation",
    "time": "2020-07-12T09:36:04.761Z",
    "type": "startScroll"
   },
   {
    "param": "Correlation",
    "time": "2020-07-12T09:36:05.139Z",
    "type": "stopScroll"
   },
   {
    "code": "df = pd.read_csv(\"../lux/data/hpi.csv\")\ndf",
    "id": "12a1be56c9ae4abab0a1f946bd40bc68",
    "order_count": 3,
    "time": "2020-07-12T09:36:05.946Z",
    "type": "selectCodeCell"
   },
   {
    "param": {
     "index": 10,
     "tabTitle": "Correlation",
     "vis": {
      "$schema": "https://vega.github.io/schema/vega-lite/v4.8.1.json",
      "config": {
       "mark": {
        "tooltip": {
         "content": "encoding"
        }
       },
       "view": {
        "continuousHeight": 300,
        "continuousWidth": 400
       }
      },
      "data": {
       "name": "data-cffbaddba8d2091d19631c8240894572"
      },
      "datasets": {
       "data-cffbaddba8d2091d19631c8240894572": [
        {
         "Footprint": 0.8,
         "GDPPerCapita": 691
        },
        {
         "Footprint": 2.2,
         "GDPPerCapita": 4247
        },
        {
         "Footprint": 2.1,
         "GDPPerCapita": 5584
        },
        {
         "Footprint": 3.1,
         "GDPPerCapita": 14357
        },
        {
         "Footprint": 2.2,
         "GDPPerCapita": 3566
        },
        {
         "Footprint": 9.3,
         "GDPPerCapita": 67646
        },
        {
         "Footprint": 6.1,
         "GDPPerCapita": 48324
        },
        {
         "Footprint": 0.7,
         "GDPPerCapita": 859
        },
        {
         "Footprint": 5.1,
         "GDPPerCapita": 6722
        },
        {
         "Footprint": 7.4,
         "GDPPerCapita": 44731
        },
        {
         "Footprint": 2.5,
         "GDPPerCapita": 4674
        },
        {
         "Footprint": 1.4,
         "GDPPerCapita": 808
        },
        {
         "Footprint": 2.3,
         "GDPPerCapita": 2452
        },
        {
         "Footprint": 3,
         "GDPPerCapita": 2645
        },
        {
         "Footprint": 3.1,
         "GDPPerCapita": 4495
        },
        {
         "Footprint": 3.8,
         "GDPPerCapita": 6936
        },
        {
         "Footprint": 3.1,
         "GDPPerCapita": 12157
        },
        {
         "Footprint": 3.3,
         "GDPPerCapita": 7333
        },
        {
         "Footprint": 1.2,
         "GDPPerCapita": 673
        },
        {
         "Footprint": 0.8,
         "GDPPerCapita": 244
        },
        {
         "Footprint": 1.2,
         "GDPPerCapita": 946
        },
        {
         "Footprint": 1.2,
         "GDPPerCapita": 1222
        },
        {
         "Footprint": 8.2,
         "GDPPerCapita": 52738
        },
        {
         "Footprint": 1.5,
         "GDPPerCapita": 973
        },
        {
         "Footprint": 4.4,
         "GDPPerCapita": 15253
        },
        {
         "Footprint": 3.4,
         "GDPPerCapita": 6265
        },
        {
         "Footprint": 1.9,
         "GDPPerCapita": 7885
        },
        {
         "Footprint": 1,
         "GDPPerCapita": 750
        },
        {
         "Footprint": 2.8,
         "GDPPerCapita": 9733
        },
        {
         "Footprint": 1.3,
         "GDPPerCapita": 1281
        },
        {
         "Footprint": 3.9,
         "GDPPerCapita": 13236
        },
        {
         "Footprint": 4.2,
         "GDPPerCapita": 28868
        },
        {
         "Footprint": 5.2,
         "GDPPerCapita": 19641
        },
        {
         "Footprint": 5.5,
         "GDPPerCapita": 57636
        },
        {
         "Footprint": 2.2,
         "GDPPerCapita": 1587
        },
        {
         "Footprint": 1.5,
         "GDPPerCapita": 5967
        },
        {
         "Footprint": 2.2,
         "GDPPerCapita": 5702
        },
        {
         "Footprint": 2.2,
         "GDPPerCapita": 3226
        },
        {
         "Footprint": 2.1,
         "GDPPerCapita": 3922
        },
        {
         "Footprint": 6.9,
         "GDPPerCapita": 17491
        },
        {
         "Footprint": 1,
         "GDPPerCapita": 470
        },
        {
         "Footprint": 5.9,
         "GDPPerCapita": 47416
        },
        {
         "Footprint": 5.1,
         "GDPPerCapita": 40850
        },
        {
         "Footprint": 2,
         "GDPPerCapita": 10642
        },
        {
         "Footprint": 1.6,
         "GDPPerCapita": 4143
        },
        {
         "Footprint": 5.3,
         "GDPPerCapita": 44011
        },
        {
         "Footprint": 2,
         "GDPPerCapita": 1642
        },
        {
         "Footprint": 4.4,
         "GDPPerCapita": 22243
        },
        {
         "Footprint": 1.9,
         "GDPPerCapita": 3279
        },
        {
         "Footprint": 1.4,
         "GDPPerCapita": 487
        },
        {
         "Footprint": 0.6,
         "GDPPerCapita": 767
        },
        {
         "Footprint": 1.7,
         "GDPPerCapita": 2395
        },
        {
         "Footprint": 8.8,
         "GDPPerCapita": 36708
        },
        {
         "Footprint": 2.9,
         "GDPPerCapita": 12820
        },
        {
         "Footprint": 6.4,
         "GDPPerCapita": 44259
        },
        {
         "Footprint": 1.2,
         "GDPPerCapita": 1450
        },
        {
         "Footprint": 1.6,
         "GDPPerCapita": 3701
        },
        {
         "Footprint": 2.8,
         "GDPPerCapita": 7711
        },
        {
         "Footprint": 1.9,
         "GDPPerCapita": 6649
        },
        {
         "Footprint": 5.6,
         "GDPPerCapita": 48977
        },
        {
         "Footprint": 6.2,
         "GDPPerCapita": 32819
        },
        {
         "Footprint": 4.6,
         "GDPPerCapita": 34844
        },
        {
         "Footprint": 1.9,
         "GDPPerCapita": 5446
        },
        {
         "Footprint": 5,
         "GDPPerCapita": 46679
        },
        {
         "Footprint": 5.6,
         "GDPPerCapita": 12120
        },
        {
         "Footprint": 1,
         "GDPPerCapita": 1185
        },
        {
         "Footprint": 1.9,
         "GDPPerCapita": 1178
        },
        {
         "Footprint": 6.3,
         "GDPPerCapita": 13775
        },
        {
         "Footprint": 3.8,
         "GDPPerCapita": 9729
        },
        {
         "Footprint": 1.7,
         "GDPPerCapita": 1159
        },
        {
         "Footprint": 1.2,
         "GDPPerCapita": 414
        },
        {
         "Footprint": 5.8,
         "GDPPerCapita": 14343
        },
        {
         "Footprint": 15.8,
         "GDPPerCapita": 105447
        },
        {
         "Footprint": 3.3,
         "GDPPerCapita": 4710
        },
        {
         "Footprint": 0.8,
         "GDPPerCapita": 270
        },
        {
         "Footprint": 3.7,
         "GDPPerCapita": 10835
        },
        {
         "Footprint": 4.4,
         "GDPPerCapita": 21176
        },
        {
         "Footprint": 2.5,
         "GDPPerCapita": 1283
        },
        {
         "Footprint": 3.5,
         "GDPPerCapita": 9114
        },
        {
         "Footprint": 2.9,
         "GDPPerCapita": 9703
        },
        {
         "Footprint": 6.1,
         "GDPPerCapita": 4377
        },
        {
         "Footprint": 3.8,
         "GDPPerCapita": 6587
        },
        {
         "Footprint": 1.7,
         "GDPPerCapita": 2931
        },
        {
         "Footprint": 0.9,
         "GDPPerCapita": 565
        },
        {
         "Footprint": 1.4,
         "GDPPerCapita": 1421
        },
        {
         "Footprint": 2.5,
         "GDPPerCapita": 5680
        },
        {
         "Footprint": 1,
         "GDPPerCapita": 685
        },
        {
         "Footprint": 5.3,
         "GDPPerCapita": 49475
        },
        {
         "Footprint": 5.6,
         "GDPPerCapita": 39505
        },
        {
         "Footprint": 1.4,
         "GDPPerCapita": 1780
        },
        {
         "Footprint": 1.6,
         "GDPPerCapita": 394
        },
        {
         "Footprint": 1.2,
         "GDPPerCapita": 2740
        },
        {
         "Footprint": 5,
         "GDPPerCapita": 101564
        },
        {
         "Footprint": 7.5,
         "GDPPerCapita": 21534
        },
        {
         "Footprint": 0.8,
         "GDPPerCapita": 1266
        },
        {
         "Footprint": 1.2,
         "GDPPerCapita": 2783
        },
        {
         "Footprint": 2.8,
         "GDPPerCapita": 10139
        },
        {
         "Footprint": 4.2,
         "GDPPerCapita": 3858
        },
        {
         "Footprint": 2.3,
         "GDPPerCapita": 6389
        },
        {
         "Footprint": 1.1,
         "GDPPerCapita": 2605
        },
        {
         "Footprint": 4.4,
         "GDPPerCapita": 13142
        },
        {
         "Footprint": 3.9,
         "GDPPerCapita": 20577
        },
        {
         "Footprint": 1.3,
         "GDPPerCapita": 3191
        },
        {
         "Footprint": 2.7,
         "GDPPerCapita": 8577
        },
        {
         "Footprint": 5.7,
         "GDPPerCapita": 14079
        },
        {
         "Footprint": 0.9,
         "GDPPerCapita": 667
        },
        {
         "Footprint": 1.2,
         "GDPPerCapita": 1019
        },
        {
         "Footprint": 2.7,
         "GDPPerCapita": 5659
        },
        {
         "Footprint": 1.2,
         "GDPPerCapita": 619
        },
        {
         "Footprint": 4.1,
         "GDPPerCapita": 17207
        },
        {
         "Footprint": 5.8,
         "GDPPerCapita": 22478
        },
        {
         "Footprint": 3.3,
         "GDPPerCapita": 7592
        },
        {
         "Footprint": 5.7,
         "GDPPerCapita": 24454
        },
        {
         "Footprint": 3.7,
         "GDPPerCapita": 28648
        },
        {
         "Footprint": 1.3,
         "GDPPerCapita": 3351
        },
        {
         "Footprint": 4.3,
         "GDPPerCapita": 9422
        },
        {
         "Footprint": 2,
         "GDPPerCapita": 3989
        },
        {
         "Footprint": 7.3,
         "GDPPerCapita": 57134
        },
        {
         "Footprint": 5.8,
         "GDPPerCapita": 83209
        },
        {
         "Footprint": 1.5,
         "GDPPerCapita": 2080
        },
        {
         "Footprint": 0.9,
         "GDPPerCapita": 962
        },
        {
         "Footprint": 1.3,
         "GDPPerCapita": 828
        },
        {
         "Footprint": 2.7,
         "GDPPerCapita": 5918
        },
        {
         "Footprint": 1.1,
         "GDPPerCapita": 580
        },
        {
         "Footprint": 7.9,
         "GDPPerCapita": 18322
        },
        {
         "Footprint": 2.3,
         "GDPPerCapita": 4188
        },
        {
         "Footprint": 3.3,
         "GDPPerCapita": 10646
        },
        {
         "Footprint": 5.5,
         "GDPPerCapita": 6798
        },
        {
         "Footprint": 1.2,
         "GDPPerCapita": 656
        },
        {
         "Footprint": 2.8,
         "GDPPerCapita": 3855
        },
        {
         "Footprint": 4.9,
         "GDPPerCapita": 41295
        },
        {
         "Footprint": 8.2,
         "GDPPerCapita": 51457
        },
        {
         "Footprint": 2.9,
         "GDPPerCapita": 15128
        },
        {
         "Footprint": 2.3,
         "GDPPerCapita": 1719
        },
        {
         "Footprint": 1.9,
         "GDPPerCapita": 3158
        },
        {
         "Footprint": 3.6,
         "GDPPerCapita": 12772
        },
        {
         "Footprint": 1.7,
         "GDPPerCapita": 1755
        },
        {
         "Footprint": 1,
         "GDPPerCapita": 1289
        },
        {
         "Footprint": 1,
         "GDPPerCapita": 1687
        },
        {
         "Footprint": 1.4,
         "GDPPerCapita": 851
        }
       ]
      },
      "encoding": {
       "x": {
        "field": "GDPPerCapita",
        "scale": {
         "domain": [
          244,
          105447
         ]
        },
        "type": "quantitative"
       },
       "y": {
        "field": "Footprint",
        "scale": {
         "domain": [
          0.6,
          15.8
         ]
        },
        "type": "quantitative"
       }
      },
      "height": 150,
      "mark": "circle",
      "selection": {
       "selector041": {
        "bind": "scales",
        "encodings": [
         "x",
         "y"
        ],
        "type": "interval"
       }
      },
      "width": 160
     }
    },
    "time": "2020-07-12T09:36:05.948Z",
    "type": "clickVis"
   },
   {
    "code": "df = pd.read_csv(\"../lux/data/hpi.csv\")\ndf",
    "id": "12a1be56c9ae4abab0a1f946bd40bc68",
    "order_count": 3,
    "time": "2020-07-12T09:36:07.475Z",
    "type": "selectCodeCell"
   },
   {
    "param": {
     "Category": [],
     "Correlation": [
      10
     ]
    },
    "time": "2020-07-12T09:36:07.476Z",
    "type": "exportBtnClick"
   },
   {
    "code": "df",
    "id": "b9f61004f10a41618d20649fd46b2fbe",
    "order_count": 4,
    "time": "2020-07-12T09:36:08.383Z",
    "type": "selectCodeCell"
   },
   {
    "code": "df",
    "id": "b9f61004f10a41618d20649fd46b2fbe",
    "order_count": 4,
    "time": "2020-07-12T09:36:08.387Z",
    "type": "editCodeCell"
   },
   {
    "code": "df",
    "id": "b9f61004f10a41618d20649fd46b2fbe",
    "order_count": 4,
    "time": "2020-07-12T09:36:17.733Z",
    "type": "editCodeCell"
   },
   {
    "code": "df = pd.read_csv(\"../lux/data/hpi.csv\")\ndf",
    "id": "12a1be56c9ae4abab0a1f946bd40bc68",
    "order_count": 3,
    "time": "2020-07-12T09:36:18.877Z",
    "type": "selectCodeCell"
   },
   {
    "code": "We examine the [Happy Planet Index](http://happyplanetindex.org/) dataset",
    "id": "2b4ef2b4027f49a68a2486039b0d5fee",
    "order_count": 2,
    "time": "2020-07-12T09:36:19.995Z",
    "type": "selectMarkdownCell"
   },
   {
    "code": "",
    "id": "4abacfa2099b4d43b0f01690c4ee1db5",
    "order_count": 2,
    "time": "2020-07-12T09:36:20.383Z",
    "type": "selectCodeCell"
   },
   {
    "code": "",
    "id": "4abacfa2099b4d43b0f01690c4ee1db5",
    "order_count": 2,
    "time": "2020-07-12T09:36:20.667Z",
    "type": "editCodeCell"
   },
   {
    "code": "Lux allows users to export selected visualizations from the widget. \n\nUsers can access the Current View and recommendations programmatically through: \n\ndf.current_view\ndf.recommendations\n\n\n- accessing program state: \n\t- df.recommendation\n\t- df.viewCollection\n- df.get_exported()\n\nTo code: \n- view.to",
    "id": "4abacfa2099b4d43b0f01690c4ee1db5",
    "order_count": 2,
    "time": "2020-07-12T09:36:21.857Z",
    "type": "selectCodeCell"
   },
   {
    "code": "Lux allows users to export selected visualizations from the widget. \n\nUsers can access the Current View and recommendations programmatically through: \n\ndf.current_view\ndf.recommendations\n\n\n- accessing program state: \n\t- df.recommendation\n\t- df.viewCollection\n- df.get_exported()\n\nTo code: \n- view.to",
    "id": "24ce8cdede1b42c0981c80834371139f",
    "order_count": 2,
    "time": "2020-07-12T09:36:23.302Z",
    "type": "editMarkdownCell"
   },
   {
    "code": "Lux allows users to export selected visualizations from the widget. \n\nUsers can access the Current View and recommendations programmatically through: \n\ndf.current_view\ndf.recommendations\n\n\n- accessing program state: \n\t- df.recommendation\n\t- df.viewCollection\n- df.get_exported()\n\nTo code: \n- view.to",
    "id": "24ce8cdede1b42c0981c80834371139f",
    "order_count": 2,
    "time": "2020-07-12T09:36:24.870Z",
    "type": "selectMarkdownCell"
   },
   {
    "code": "Lux allows users to export selected visualizations from the widget. \n\nUsers can access the Current View and recommendations programmatically through: \n\ndf.current_view\ndf.recommendations\n\n\n- accessing program state: \n\t- df.recommendation\n\t- df.viewCollection\n- df.get_exported()\n\nTo code: \n- view.to",
    "id": "24ce8cdede1b42c0981c80834371139f",
    "order_count": 2,
    "time": "2020-07-12T09:37:02.619Z",
    "type": "editMarkdownCell"
   },
   {
    "code": "Lux allows users to export selected visualizations from the widget. \n\nUsers can access the Current View and recommendations programmatically through: \n\ndf.current_view\ndf.recommendations\n\n\n- accessing program state: \n\t- df.recommendation\n\t- df.viewCollection\n- df.get_exported()\n\nTo code: \n- view.to",
    "id": "24ce8cdede1b42c0981c80834371139f",
    "order_count": 2,
    "time": "2020-07-12T09:37:05.019Z",
    "type": "selectMarkdownCell"
   },
   {
    "code": "Lux allows users to export selected visualizations from the widget. \n\nUsers can access the Current View and recommendations programmatically through: \n\ndf.current_view\ndf.recommendations\n\n\n- accessing program state: \n\t- df.recommendation\n\t- df.viewCollection\n- df.get_exported()\n\nTo code: \n- view.to",
    "id": "24ce8cdede1b42c0981c80834371139f",
    "order_count": 2,
    "time": "2020-07-12T09:37:07.874Z",
    "type": "selectMarkdownCell"
   },
   {
    "code": "In Lux, you can select visualizations of interest and export them as View objects or as their corresponding VegaLite or Altair code specification.\n\nUsers can access the Current View and recommendations programmatically through: \n\ndf.current_view\ndf.recommendations\n\n\n- accessing program state: \n\t- df.recommendation\n\t- df.viewCollection\n- df.get_exported()\n\nTo code: \n- view.to",
    "id": "24ce8cdede1b42c0981c80834371139f",
    "order_count": 2,
    "time": "2020-07-12T09:38:07.784Z",
    "type": "selectMarkdownCell"
   },
   {
    "code": "In Lux, you can select visualizations of interest and export them as View objects or as their corresponding VegaLite or Altair code specification.\n\nUsers can access the Current View and recommendations programmatically through: \n\ndf.current_view\ndf.recommendations\n\n\n- accessing program state: \n\t- df.recommendation\n\t- df.viewCollection\n- df.get_exported()\n\nTo code: \n- view.to",
    "id": "24ce8cdede1b42c0981c80834371139f",
    "order_count": 2,
    "time": "2020-07-12T09:38:08.021Z",
    "type": "selectMarkdownCell"
   },
   {
    "code": "In Lux, you can select visualizations of interest and export them as View objects or as their corresponding VegaLite or Altair code specification.\n\nUsers can access the Current View and recommendations programmatically through: \n\ndf.current_view\ndf.recommendations\n\n\n- accessing program state: \n\t- df.recommendation\n\t- df.viewCollection\n- df.get_exported()\n\nTo code: \n- view.to",
    "id": "24ce8cdede1b42c0981c80834371139f",
    "order_count": 2,
    "time": "2020-07-12T09:38:09.039Z",
    "type": "selectMarkdownCell"
   },
   {
    "code": "We examine the [Happy Planet Index](http://happyplanetindex.org/) dataset",
    "id": "2b4ef2b4027f49a68a2486039b0d5fee",
    "order_count": 3,
    "time": "2020-07-12T09:38:13.229Z",
    "type": "selectMarkdownCell"
   },
   {
    "code": "",
    "id": "15b9f8dc5d724cdca0dcd75116067e11",
    "order_count": 6,
    "time": "2020-07-12T09:38:15.706Z",
    "type": "selectCodeCell"
   },
   {
    "code": "",
    "id": "15b9f8dc5d724cdca0dcd75116067e11",
    "order_count": 6,
    "time": "2020-07-12T09:38:15.711Z",
    "type": "editCodeCell"
   },
   {
    "code": "",
    "id": "15b9f8dc5d724cdca0dcd75116067e11",
    "order_count": 6,
    "time": "2020-07-12T09:38:15.825Z",
    "type": "selectCodeCell"
   },
   {
    "code": "Users can access the Current View and recommendations programmatically through: \n\ndf.current_view\ndf.recommendations\n\n\n- accessing program state: \n\t- df.recommendation\n\t- df.viewCollection\n- df.get_exported()\n\nTo code: \n- view.to",
    "id": "23408ec1014b4f249d4042b68386c3b9",
    "order_count": 6,
    "time": "2020-07-12T09:38:17.704Z",
    "type": "editMarkdownCell"
   },
   {
    "param": "Correlation",
    "time": "2020-07-12T09:38:19.926Z",
    "type": "startScroll"
   },
   {
    "param": "Correlation",
    "time": "2020-07-12T09:38:20.671Z",
    "type": "stopScroll"
   },
   {
    "param": "Correlation",
    "time": "2020-07-12T09:38:20.691Z",
    "type": "startScroll"
   },
   {
    "param": "Correlation",
    "time": "2020-07-12T09:38:21.387Z",
    "type": "stopScroll"
   },
   {
    "param": "Correlation",
    "time": "2020-07-12T09:38:21.426Z",
    "type": "startScroll"
   },
   {
    "param": "Correlation",
    "time": "2020-07-12T09:38:21.670Z",
    "type": "stopScroll"
   },
   {
    "param": "Correlation",
    "time": "2020-07-12T09:38:23.043Z",
    "type": "startScroll"
   },
   {
    "param": "Correlation",
    "time": "2020-07-12T09:38:23.271Z",
    "type": "stopScroll"
   },
   {
    "param": "Correlation",
    "time": "2020-07-12T09:38:23.276Z",
    "type": "startScroll"
   },
   {
    "param": "Correlation",
    "time": "2020-07-12T09:38:23.371Z",
    "type": "stopScroll"
   },
   {
    "param": "Correlation",
    "time": "2020-07-12T09:38:23.724Z",
    "type": "startScroll"
   },
   {
    "param": "Correlation",
    "time": "2020-07-12T09:38:24.306Z",
    "type": "stopScroll"
   },
   {
    "param": "Correlation",
    "time": "2020-07-12T09:38:24.326Z",
    "type": "startScroll"
   },
   {
    "param": "Correlation",
    "time": "2020-07-12T09:38:25.003Z",
    "type": "stopScroll"
   },
   {
    "param": "Correlation",
    "time": "2020-07-12T09:38:25.008Z",
    "type": "startScroll"
   },
   {
    "param": "Correlation",
    "time": "2020-07-12T09:38:25.418Z",
    "type": "stopScroll"
   },
   {
    "param": "Correlation",
    "time": "2020-07-12T09:38:25.726Z",
    "type": "startScroll"
   },
   {
    "param": "Correlation",
    "time": "2020-07-12T09:38:25.921Z",
    "type": "stopScroll"
   },
   {
    "param": "Correlation",
    "time": "2020-07-12T09:38:27.292Z",
    "type": "startScroll"
   },
   {
    "param": "Correlation",
    "time": "2020-07-12T09:38:28.220Z",
    "type": "stopScroll"
   },
   {
    "param": "Correlation",
    "time": "2020-07-12T09:38:28.243Z",
    "type": "startScroll"
   },
   {
    "param": "Correlation",
    "time": "2020-07-12T09:38:28.585Z",
    "type": "stopScroll"
   },
   {
    "param": "Correlation",
    "time": "2020-07-12T09:38:29.925Z",
    "type": "startScroll"
   },
   {
    "param": "Correlation",
    "time": "2020-07-12T09:38:29.988Z",
    "type": "stopScroll"
   },
   {
    "param": "Correlation",
    "time": "2020-07-12T09:38:30.059Z",
    "type": "startScroll"
   },
   {
    "param": "Correlation",
    "time": "2020-07-12T09:38:30.135Z",
    "type": "stopScroll"
   },
   {
    "param": "Correlation",
    "time": "2020-07-12T09:38:31.308Z",
    "type": "startScroll"
   },
   {
    "param": "Correlation",
    "time": "2020-07-12T09:38:31.970Z",
    "type": "stopScroll"
   },
   {
    "param": "Correlation",
    "time": "2020-07-12T09:38:31.975Z",
    "type": "startScroll"
   },
   {
    "param": "Correlation",
    "time": "2020-07-12T09:38:32.302Z",
    "type": "stopScroll"
   },
   {
    "param": "Correlation",
    "time": "2020-07-12T09:38:32.575Z",
    "type": "startScroll"
   },
   {
    "param": "Correlation",
    "time": "2020-07-12T09:38:33.153Z",
    "type": "stopScroll"
   },
   {
    "param": "Correlation",
    "time": "2020-07-12T09:38:33.158Z",
    "type": "startScroll"
   },
   {
    "param": "Correlation",
    "time": "2020-07-12T09:38:33.472Z",
    "type": "stopScroll"
   },
   {
    "param": "Correlation",
    "time": "2020-07-12T09:38:34.776Z",
    "type": "startScroll"
   },
   {
    "param": "Correlation",
    "time": "2020-07-12T09:38:35.272Z",
    "type": "stopScroll"
   },
   {
    "param": "Correlation",
    "time": "2020-07-12T09:38:37.091Z",
    "type": "startScroll"
   },
   {
    "param": "Correlation",
    "time": "2020-07-12T09:38:37.205Z",
    "type": "stopScroll"
   },
   {
    "param": "Correlation",
    "time": "2020-07-12T09:38:38.224Z",
    "type": "startScroll"
   },
   {
    "param": "Correlation",
    "time": "2020-07-12T09:38:38.504Z",
    "type": "stopScroll"
   },
   {
    "param": "Correlation",
    "time": "2020-07-12T09:38:38.708Z",
    "type": "startScroll"
   },
   {
    "param": "Correlation",
    "time": "2020-07-12T09:38:39.157Z",
    "type": "stopScroll"
   },
   {
    "code": "We examine the [Happy Planet Index](http://happyplanetindex.org/) dataset",
    "id": "2b4ef2b4027f49a68a2486039b0d5fee",
    "order_count": 3,
    "time": "2020-07-12T09:38:40.851Z",
    "type": "selectMarkdownCell"
   },
   {
    "code": "We examine the [Happy Planet Index](http://happyplanetindex.org/) dataset",
    "id": "2b4ef2b4027f49a68a2486039b0d5fee",
    "order_count": 3,
    "time": "2020-07-12T09:38:41.036Z",
    "type": "selectMarkdownCell"
   },
   {
    "code": "We examine the [Happy Planet Index](http://happyplanetindex.org/) dataset",
    "id": "2b4ef2b4027f49a68a2486039b0d5fee",
    "order_count": 3,
    "time": "2020-07-12T09:38:42.275Z",
    "type": "editMarkdownCell"
   },
   {
    "code": "We examine the [Happy Planet Index](http://happyplanetindex.org/) dataset",
    "id": "2b4ef2b4027f49a68a2486039b0d5fee",
    "order_count": 3,
    "time": "2020-07-12T09:38:42.421Z",
    "type": "selectMarkdownCell"
   },
   {
    "code": "We examine the [Happy Planet Index](http://happyplanetindex.org/) dataset",
    "id": "2b4ef2b4027f49a68a2486039b0d5fee",
    "order_count": 3,
    "time": "2020-07-12T09:39:38.520Z",
    "type": "editMarkdownCell"
   },
   {
    "code": "df = pd.read_csv(\"../lux/data/hpi.csv\")\ndf",
    "id": "12a1be56c9ae4abab0a1f946bd40bc68",
    "order_count": 4,
    "time": "2020-07-12T09:39:38.562Z",
    "type": "selectCodeCell"
   },
   {
    "code": "df = pd.read_csv(\"../lux/data/hpi.csv\")\ndf",
    "id": "12a1be56c9ae4abab0a1f946bd40bc68",
    "order_count": 4,
    "time": "2020-07-12T09:39:38.569Z",
    "type": "editCodeCell"
   },
   {
    "code": "We examine the [Happy Planet Index](http://happyplanetindex.org/) dataset",
    "id": "2b4ef2b4027f49a68a2486039b0d5fee",
    "order_count": 3,
    "time": "2020-07-12T09:39:39.289Z",
    "type": "selectMarkdownCell"
   },
   {
    "code": "We examine the [Happy Planet Index](http://happyplanetindex.org/) dataset",
    "id": "2b4ef2b4027f49a68a2486039b0d5fee",
    "order_count": 3,
    "time": "2020-07-12T09:39:39.291Z",
    "type": "editMarkdownCell"
   },
   {
    "code": "We examine the [Happy Planet Index](http://happyplanetindex.org/) dataset",
    "id": "2b4ef2b4027f49a68a2486039b0d5fee",
    "order_count": 3,
    "time": "2020-07-12T09:39:39.381Z",
    "type": "selectMarkdownCell"
   },
   {
    "code": "",
    "id": "b99a014f4aac43b4842fde87e1ed3b85",
    "order_count": 4,
    "time": "2020-07-12T09:39:42.187Z",
    "type": "selectCodeCell"
   },
   {
    "code": "",
    "id": "b99a014f4aac43b4842fde87e1ed3b85",
    "order_count": 4,
    "time": "2020-07-12T09:39:42.417Z",
    "type": "editCodeCell"
   },
   {
    "code": "df",
    "id": "b99a014f4aac43b4842fde87e1ed3b85",
    "order_count": 4,
    "time": "2020-07-12T09:39:43.818Z",
    "type": "executeCodeCell"
   },
   {
    "code": "df = pd.read_csv(\"../lux/data/hpi.csv\")\ndf",
    "id": "12a1be56c9ae4abab0a1f946bd40bc68",
    "order_count": 5,
    "time": "2020-07-12T09:39:43.841Z",
    "type": "selectCodeCell"
   },
   {
    "code": "df",
    "id": "b99a014f4aac43b4842fde87e1ed3b85",
    "order_count": 4,
    "time": "2020-07-12T09:39:44.235Z",
    "type": "selectCodeCell"
   },
   {
    "id": "b99a014f4aac43b4842fde87e1ed3b85",
    "isPrintLuxDf": true,
    "isPrintPandasDf": false,
    "isPrintView": false,
    "isPrintViewCollection": false,
    "time": "2020-07-12T09:39:44.489Z",
    "type": "completeCodeCell"
   },
   {
    "param": "",
    "time": "2020-07-12T09:39:44.503Z",
    "type": "initWidget"
   },
   {
    "code": "df",
    "id": "b99a014f4aac43b4842fde87e1ed3b85",
    "order_count": 4,
    "time": "2020-07-12T09:39:44.846Z",
    "type": "editCodeCell"
   },
   {
    "param": "",
    "time": "2020-07-12T09:39:44.866Z",
    "type": "initWidget"
   },
   {
    "param": "pandas",
    "time": "2020-07-12T09:39:46.659Z",
    "type": "toggleBtnClick"
   },
   {
    "param": "pandas",
    "time": "2020-07-12T09:39:46.659Z",
    "type": "toggleBtnClick"
   },
   {
    "code": "df",
    "id": "b99a014f4aac43b4842fde87e1ed3b85",
    "order_count": 4,
    "time": "2020-07-12T09:39:46.666Z",
    "type": "selectCodeCell"
   },
   {
    "code": "df",
    "id": "b99a014f4aac43b4842fde87e1ed3b85",
    "order_count": 4,
    "time": "2020-07-12T09:39:47.834Z",
    "type": "editCodeCell"
   },
   {
    "code": "df[\"Country\"]",
    "id": "b99a014f4aac43b4842fde87e1ed3b85",
    "order_count": 4,
    "time": "2020-07-12T09:39:50.847Z",
    "type": "executeCodeCell"
   },
   {
    "code": "df = pd.read_csv(\"../lux/data/hpi.csv\")\ndf",
    "id": "12a1be56c9ae4abab0a1f946bd40bc68",
    "order_count": 5,
    "time": "2020-07-12T09:39:50.872Z",
    "type": "selectCodeCell"
   },
   {
    "id": "b99a014f4aac43b4842fde87e1ed3b85",
    "isPrintLuxDf": false,
    "isPrintPandasDf": false,
    "isPrintView": false,
    "isPrintViewCollection": false,
    "time": "2020-07-12T09:39:50.879Z",
    "type": "completeCodeCell"
   },
   {
    "code": "df",
    "id": "b9f61004f10a41618d20649fd46b2fbe",
    "order_count": 6,
    "time": "2020-07-12T09:39:51.533Z",
    "type": "selectCodeCell"
   },
   {
    "code": "df[\"Country\"]",
    "id": "b99a014f4aac43b4842fde87e1ed3b85",
    "order_count": 4,
    "time": "2020-07-12T09:39:54.201Z",
    "type": "selectCodeCell"
   },
   {
    "code": "df[\"Country\"]",
    "id": "b99a014f4aac43b4842fde87e1ed3b85",
    "order_count": 4,
    "time": "2020-07-12T09:39:54.205Z",
    "type": "editCodeCell"
   },
   {
    "code": "df",
    "id": "b99a014f4aac43b4842fde87e1ed3b85",
    "order_count": 4,
    "time": "2020-07-12T09:39:59.926Z",
    "type": "executeCodeCell"
   },
   {
    "code": "df = pd.read_csv(\"../lux/data/hpi.csv\")\ndf",
    "id": "12a1be56c9ae4abab0a1f946bd40bc68",
    "order_count": 5,
    "time": "2020-07-12T09:39:59.955Z",
    "type": "selectCodeCell"
   },
   {
    "id": "b99a014f4aac43b4842fde87e1ed3b85",
    "isPrintLuxDf": false,
    "isPrintPandasDf": true,
    "isPrintView": false,
    "isPrintViewCollection": false,
    "time": "2020-07-12T09:40:00.670Z",
    "type": "completeCodeCell"
   },
   {
    "code": "We examine the [Happy Planet Index](http://happyplanetindex.org/) dataset, which ",
    "id": "2b4ef2b4027f49a68a2486039b0d5fee",
    "order_count": 3,
    "time": "2020-07-12T09:40:02.419Z",
    "type": "selectMarkdownCell"
   },
   {
    "code": "We examine the [Happy Planet Index](http://happyplanetindex.org/) dataset, which ",
    "id": "2b4ef2b4027f49a68a2486039b0d5fee",
    "order_count": 3,
    "time": "2020-07-12T09:40:02.421Z",
    "type": "editMarkdownCell"
   },
   {
    "code": "We examine the [Happy Planet Index](http://happyplanetindex.org/) dataset, which ",
    "id": "2b4ef2b4027f49a68a2486039b0d5fee",
    "order_count": 3,
    "time": "2020-07-12T09:40:02.507Z",
    "type": "selectMarkdownCell"
   },
   {
    "code": "df",
    "id": "b99a014f4aac43b4842fde87e1ed3b85",
    "order_count": 4,
    "time": "2020-07-12T09:40:26.961Z",
    "type": "selectCodeCell"
   },
   {
    "code": "df",
    "id": "b99a014f4aac43b4842fde87e1ed3b85",
    "order_count": 4,
    "time": "2020-07-12T09:40:26.967Z",
    "type": "editCodeCell"
   },
   {
    "code": "We examine the [Happy Planet Index](http://happyplanetindex.org/) dataset, which contains nation-level metrics for ",
    "id": "2b4ef2b4027f49a68a2486039b0d5fee",
    "order_count": 3,
    "time": "2020-07-12T09:40:28.369Z",
    "type": "selectMarkdownCell"
   },
   {
    "code": "We examine the [Happy Planet Index](http://happyplanetindex.org/) dataset, which contains nation-level metrics for ",
    "id": "2b4ef2b4027f49a68a2486039b0d5fee",
    "order_count": 3,
    "time": "2020-07-12T09:40:28.370Z",
    "type": "editMarkdownCell"
   },
   {
    "code": "We examine the [Happy Planet Index](http://happyplanetindex.org/) dataset, which contains nation-level metrics for ",
    "id": "2b4ef2b4027f49a68a2486039b0d5fee",
    "order_count": 3,
    "time": "2020-07-12T09:40:28.481Z",
    "type": "selectMarkdownCell"
   },
   {
    "code": "We examine the [Happy Planet Index](http://happyplanetindex.org/) dataset, which contains nation-level metrics for well-being. ",
    "id": "2b4ef2b4027f49a68a2486039b0d5fee",
    "order_count": 3,
    "time": "2020-07-12T09:40:38.382Z",
    "type": "selectMarkdownCell"
   },
   {
    "code": "We examine the [Happy Planet Index](http://happyplanetindex.org/) dataset, which contains nation-level metrics for well-being. ",
    "id": "2b4ef2b4027f49a68a2486039b0d5fee",
    "order_count": 3,
    "time": "2020-07-12T09:40:38.588Z",
    "type": "selectMarkdownCell"
   },
   {
    "code": "We examine the [Happy Planet Index](http://happyplanetindex.org/) dataset, which contains nation-level metrics for well-being. ",
    "id": "2b4ef2b4027f49a68a2486039b0d5fee",
    "order_count": 3,
    "time": "2020-07-12T09:40:39.989Z",
    "type": "selectMarkdownCell"
   },
   {
    "code": "We examine the [Happy Planet Index](http://happyplanetindex.org/) dataset, which contains metrics for well-being. ",
    "id": "2b4ef2b4027f49a68a2486039b0d5fee",
    "order_count": 3,
    "time": "2020-07-12T09:40:46.965Z",
    "type": "selectMarkdownCell"
   },
   {
    "code": "df",
    "id": "b99a014f4aac43b4842fde87e1ed3b85",
    "order_count": 4,
    "time": "2020-07-12T09:40:54.706Z",
    "type": "selectCodeCell"
   },
   {
    "code": "df",
    "id": "b99a014f4aac43b4842fde87e1ed3b85",
    "order_count": 4,
    "time": "2020-07-12T09:40:54.713Z",
    "type": "editCodeCell"
   },
   {
    "code": "df",
    "id": "b99a014f4aac43b4842fde87e1ed3b85",
    "order_count": 4,
    "time": "2020-07-12T09:40:54.839Z",
    "type": "selectCodeCell"
   },
   {
    "code": "df",
    "id": "b99a014f4aac43b4842fde87e1ed3b85",
    "order_count": 4,
    "time": "2020-07-12T09:40:55.295Z",
    "type": "selectCodeCell"
   },
   {
    "code": "df[\"Country\"]",
    "id": "b99a014f4aac43b4842fde87e1ed3b85",
    "order_count": 4,
    "time": "2020-07-12T09:40:57.683Z",
    "type": "executeCodeCell"
   },
   {
    "code": "df = pd.read_csv(\"../lux/data/hpi.csv\")\ndf",
    "id": "12a1be56c9ae4abab0a1f946bd40bc68",
    "order_count": 5,
    "time": "2020-07-12T09:40:57.711Z",
    "type": "selectCodeCell"
   },
   {
    "id": "b99a014f4aac43b4842fde87e1ed3b85",
    "isPrintLuxDf": false,
    "isPrintPandasDf": false,
    "isPrintView": false,
    "isPrintViewCollection": false,
    "time": "2020-07-12T09:40:57.721Z",
    "type": "completeCodeCell"
   },
   {
    "code": "df[\"Country\"]",
    "id": "b99a014f4aac43b4842fde87e1ed3b85",
    "order_count": 4,
    "time": "2020-07-12T09:40:58.152Z",
    "type": "selectCodeCell"
   },
   {
    "code": "df[\"Country\"]",
    "id": "b99a014f4aac43b4842fde87e1ed3b85",
    "order_count": 4,
    "time": "2020-07-12T09:40:58.443Z",
    "type": "editCodeCell"
   },
   {
    "code": "len(df[\"Country\"].unique())",
    "id": "b99a014f4aac43b4842fde87e1ed3b85",
    "order_count": 4,
    "time": "2020-07-12T09:41:03.230Z",
    "type": "executeCodeCell"
   },
   {
    "code": "df = pd.read_csv(\"../lux/data/hpi.csv\")\ndf",
    "id": "12a1be56c9ae4abab0a1f946bd40bc68",
    "order_count": 5,
    "time": "2020-07-12T09:41:03.257Z",
    "type": "selectCodeCell"
   },
   {
    "id": "b99a014f4aac43b4842fde87e1ed3b85",
    "isPrintLuxDf": false,
    "isPrintPandasDf": false,
    "isPrintView": false,
    "isPrintViewCollection": false,
    "time": "2020-07-12T09:41:03.266Z",
    "type": "completeCodeCell"
   },
   {
    "code": "We examine the [Happy Planet Index](http://happyplanetindex.org/) dataset, which contains metrics related to well-being for . ",
    "id": "2b4ef2b4027f49a68a2486039b0d5fee",
    "order_count": 3,
    "time": "2020-07-12T09:41:04.564Z",
    "type": "selectMarkdownCell"
   },
   {
    "code": "We examine the [Happy Planet Index](http://happyplanetindex.org/) dataset, which contains metrics related to well-being for . ",
    "id": "2b4ef2b4027f49a68a2486039b0d5fee",
    "order_count": 3,
    "time": "2020-07-12T09:41:04.565Z",
    "type": "editMarkdownCell"
   },
   {
    "code": "We examine the [Happy Planet Index](http://happyplanetindex.org/) dataset, which contains metrics related to well-being for . ",
    "id": "2b4ef2b4027f49a68a2486039b0d5fee",
    "order_count": 3,
    "time": "2020-07-12T09:41:04.702Z",
    "type": "selectMarkdownCell"
   },
   {
    "code": "We examine the [Happy Planet Index](http://happyplanetindex.org/) dataset, which contains metrics related to well-being for . ",
    "id": "2b4ef2b4027f49a68a2486039b0d5fee",
    "order_count": 3,
    "time": "2020-07-12T09:41:05.143Z",
    "type": "selectMarkdownCell"
   },
   {
    "code": "We examine the [Happy Planet Index](http://happyplanetindex.org/) dataset, which contains metrics related to well-being for . ",
    "id": "2b4ef2b4027f49a68a2486039b0d5fee",
    "order_count": 3,
    "time": "2020-07-12T09:41:06.309Z",
    "type": "editMarkdownCell"
   },
   {
    "code": "We examine the [Happy Planet Index](http://happyplanetindex.org/) dataset, which contains metrics related to well-being for . ",
    "id": "2b4ef2b4027f49a68a2486039b0d5fee",
    "order_count": 3,
    "time": "2020-07-12T09:41:06.448Z",
    "type": "selectMarkdownCell"
   },
   {
    "code": "In Lux, you can select visualizations of interest and export them as View objects or as their corresponding VegaLite or Altair code specification.",
    "id": "24ce8cdede1b42c0981c80834371139f",
    "order_count": 2,
    "time": "2020-07-12T09:41:23.575Z",
    "type": "selectMarkdownCell"
   },
   {
    "code": "In this tutorial, we look at the [Happy Planet Index](http://happyplanetindex.org/) dataset, which contains metrics related to well-being for 140 countries around the world. ",
    "id": "2b4ef2b4027f49a68a2486039b0d5fee",
    "order_count": 3,
    "time": "2020-07-12T09:41:24.757Z",
    "type": "selectMarkdownCell"
   },
   {
    "code": "In this tutorial, we look at the [Happy Planet Index](http://happyplanetindex.org/) dataset, which contains metrics related to well-being for 140 countries around the world. ",
    "id": "2b4ef2b4027f49a68a2486039b0d5fee",
    "order_count": 3,
    "time": "2020-07-12T09:41:24.759Z",
    "type": "editMarkdownCell"
   },
   {
    "code": "In this tutorial, we look at the [Happy Planet Index](http://happyplanetindex.org/) dataset, which contains metrics related to well-being for 140 countries around the world. ",
    "id": "2b4ef2b4027f49a68a2486039b0d5fee",
    "order_count": 3,
    "time": "2020-07-12T09:41:24.880Z",
    "type": "selectMarkdownCell"
   },
   {
    "code": "In Lux, you can select visualizations of interest and export them as View objects or as their corresponding VegaLite or Altair code specification.",
    "id": "24ce8cdede1b42c0981c80834371139f",
    "order_count": 2,
    "time": "2020-07-12T09:41:26.614Z",
    "type": "selectMarkdownCell"
   },
   {
    "code": "In Lux, you can select visualizations of interest and export them as View objects or as their corresponding VegaLite or Altair code specification.",
    "id": "24ce8cdede1b42c0981c80834371139f",
    "order_count": 2,
    "time": "2020-07-12T09:41:29.339Z",
    "type": "selectMarkdownCell"
   },
   {
    "code": "In Lux, you can select visualizations of interest and export them as View objects or as their corresponding VegaLite or Altair code specification.",
    "id": "24ce8cdede1b42c0981c80834371139f",
    "order_count": 2,
    "time": "2020-07-12T09:41:29.542Z",
    "type": "selectMarkdownCell"
   },
   {
    "code": "In Lux, you can select visualizations of interest and export them as View objects or as their corresponding VegaLite or Altair code specification.",
    "id": "24ce8cdede1b42c0981c80834371139f",
    "order_count": 2,
    "time": "2020-07-12T09:41:31.896Z",
    "type": "selectMarkdownCell"
   },
   {
    "code": "In Lux, you can select visualizations of interest and export them as View objects or as their corresponding VegaLite or Altair code specification.",
    "id": "24ce8cdede1b42c0981c80834371139f",
    "order_count": 2,
    "time": "2020-07-12T09:41:31.898Z",
    "type": "editMarkdownCell"
   },
   {
    "code": "In Lux, you can select visualizations of interest and export them as View objects or as their corresponding VegaLite or Altair code specification.",
    "id": "24ce8cdede1b42c0981c80834371139f",
    "order_count": 2,
    "time": "2020-07-12T09:41:32.005Z",
    "type": "selectMarkdownCell"
   },
   {
    "code": "In this tutorial, we look at the [Happy Planet Index](http://happyplanetindex.org/) dataset, which contains metrics related to well-being for 140 countries around the world. ",
    "id": "2b4ef2b4027f49a68a2486039b0d5fee",
    "order_count": 3,
    "time": "2020-07-12T09:41:33.556Z",
    "type": "selectMarkdownCell"
   },
   {
    "code": "In this tutorial, we look at the [Happy Planet Index](http://happyplanetindex.org/) dataset, which contains metrics related to well-being for 140 countries around the world. ",
    "id": "2b4ef2b4027f49a68a2486039b0d5fee",
    "order_count": 3,
    "time": "2020-07-12T09:41:33.557Z",
    "type": "editMarkdownCell"
   },
   {
    "code": "In this tutorial, we look at the [Happy Planet Index](http://happyplanetindex.org/) dataset, which contains metrics related to well-being for 140 countries around the world. ",
    "id": "2b4ef2b4027f49a68a2486039b0d5fee",
    "order_count": 3,
    "time": "2020-07-12T09:41:33.670Z",
    "type": "selectMarkdownCell"
   },
   {
    "code": "",
    "id": "24ce8cdede1b42c0981c80834371139f",
    "order_count": 2,
    "time": "2020-07-12T09:41:36.437Z",
    "type": "selectMarkdownCell"
   },
   {
    "code": "",
    "id": "24ce8cdede1b42c0981c80834371139f",
    "order_count": null,
    "time": "2020-07-12T09:41:36.696Z",
    "type": "deleteMarkdownCell"
   },
   {
    "code": "In this tutorial, we look at the [Happy Planet Index](http://happyplanetindex.org/) dataset, which contains metrics related to well-being for 140 countries around the world. In Lux, you can select visualizations of interest and export them as View objects or as their corresponding VegaLite or Altair code specification.",
    "id": "2b4ef2b4027f49a68a2486039b0d5fee",
    "order_count": 2,
    "time": "2020-07-12T09:41:37.714Z",
    "type": "editMarkdownCell"
   },
   {
    "code": "In this tutorial, we look at the [Happy Planet Index](http://happyplanetindex.org/) dataset, which contains metrics related to well-being for 140 countries around the world. In Lux, you can select visualizations of interest and export them as View objects or as their corresponding VegaLite or Altair code specification.",
    "id": "2b4ef2b4027f49a68a2486039b0d5fee",
    "order_count": 2,
    "time": "2020-07-12T09:41:38.501Z",
    "type": "selectMarkdownCell"
   },
   {
    "code": "In this tutorial, we look at the [Happy Planet Index](http://happyplanetindex.org/) dataset, which contains metrics related to well-being for 140 countries around the world. Using this example dataset, we demonstrate how you can select visualizations of interest and export them as View objects or as their corresponding VegaLite or Altair code specification.",
    "id": "2b4ef2b4027f49a68a2486039b0d5fee",
    "order_count": 2,
    "time": "2020-07-12T09:41:51.682Z",
    "type": "selectMarkdownCell"
   },
   {
    "code": "In this tutorial, we look at the [Happy Planet Index](http://happyplanetindex.org/) dataset, which contains metrics related to well-being for 140 countries around the world. Using this example dataset, we demonstrate how you can select visualizations of interest and export them for further investigation.",
    "id": "2b4ef2b4027f49a68a2486039b0d5fee",
    "order_count": 2,
    "time": "2020-07-12T09:42:12.402Z",
    "type": "selectMarkdownCell"
   },
   {
    "code": "In this tutorial, we look at the [Happy Planet Index](http://happyplanetindex.org/) dataset, which contains metrics related to well-being for 140 countries around the world. Using this example dataset, we demonstrate how you can select visualizations of interest and export them for further investigation.",
    "id": "2b4ef2b4027f49a68a2486039b0d5fee",
    "order_count": 2,
    "time": "2020-07-12T09:42:12.683Z",
    "type": "selectMarkdownCell"
   },
   {
    "code": "In this tutorial, we look at the [Happy Planet Index](http://happyplanetindex.org/) dataset, which contains metrics related to well-being for 140 countries around the world. Using this example dataset, we demonstrate how you can select visualizations of interest and export them for further investigation.\n\nas View objects or as their corresponding VegaLite or Altair code specification",
    "id": "2b4ef2b4027f49a68a2486039b0d5fee",
    "order_count": 2,
    "time": "2020-07-12T09:42:17.112Z",
    "type": "selectMarkdownCell"
   },
   {
    "code": "In this tutorial, we look at the [Happy Planet Index](http://happyplanetindex.org/) dataset, which contains metrics related to well-being for 140 countries around the world. Using this example dataset, we demonstrate how you can select visualizations of interest and export them for further investigation.\n\nas View objects or as their corresponding VegaLite or Altair code specification",
    "id": "2b4ef2b4027f49a68a2486039b0d5fee",
    "order_count": 2,
    "time": "2020-07-12T09:42:17.219Z",
    "type": "selectMarkdownCell"
   },
   {
    "code": "In this tutorial, we look at the [Happy Planet Index](http://happyplanetindex.org/) dataset, which contains metrics related to well-being for 140 countries around the world. Using this example dataset, we demonstrate how you can select visualizations of interest and export them for further investigation.\n\nas View objects or as their corresponding VegaLite or Altair code specification",
    "id": "2b4ef2b4027f49a68a2486039b0d5fee",
    "order_count": 2,
    "time": "2020-07-12T09:42:17.318Z",
    "type": "selectMarkdownCell"
   },
   {
    "code": "In this tutorial, we look at the [Happy Planet Index](http://happyplanetindex.org/) dataset, which contains metrics related to well-being for 140 countries around the world. Using this example dataset, we demonstrate how you can select visualizations of interest and export them for further investigation.\n\nas View objects or as their corresponding VegaLite or Altair code specification",
    "id": "2b4ef2b4027f49a68a2486039b0d5fee",
    "order_count": 2,
    "time": "2020-07-12T09:42:23.016Z",
    "type": "selectMarkdownCell"
   },
   {
    "code": "In this tutorial, we look at the [Happy Planet Index](http://happyplanetindex.org/) dataset, which contains metrics related to well-being for 140 countries around the world. Using this example dataset, we demonstrate how you can select visualizations of interest and export them for further investigation.\n\nas View objects or as their corresponding VegaLite or Altair code specification",
    "id": "2b4ef2b4027f49a68a2486039b0d5fee",
    "order_count": 2,
    "time": "2020-07-12T09:42:35.225Z",
    "type": "selectMarkdownCell"
   },
   {
    "code": "In this tutorial, we look at the [Happy Planet Index](http://happyplanetindex.org/) dataset, which contains metrics related to well-being for 140 countries around the world. Using this example dataset, we demonstrate how you can select visualizations of interest and export them for further investigation.\n\nas View objects or as their corresponding VegaLite or Altair code specification",
    "id": "2b4ef2b4027f49a68a2486039b0d5fee",
    "order_count": 2,
    "time": "2020-07-12T09:42:41.696Z",
    "type": "selectMarkdownCell"
   },
   {
    "code": "In this tutorial, we look at the [Happy Planet Index](http://happyplanetindex.org/) dataset, which contains metrics related to well-being for 140 countries around the world. We demonstrate how you can select visualizations of interest and export them for further investigation.\n\nas View objects or as their corresponding VegaLite or Altair code specification",
    "id": "2b4ef2b4027f49a68a2486039b0d5fee",
    "order_count": 2,
    "time": "2020-07-12T09:42:44.059Z",
    "type": "selectMarkdownCell"
   },
   {
    "code": "In this tutorial, we look at the [Happy Planet Index](http://happyplanetindex.org/) dataset, which contains metrics related to well-being for 140 countries around the world. Using this example dataset, we demonstrate how you can select visualizations of interest and export them for further investigation.\n\nas View objects or as their corresponding VegaLite or Altair code specification",
    "id": "2b4ef2b4027f49a68a2486039b0d5fee",
    "order_count": 2,
    "time": "2020-07-12T09:42:47.090Z",
    "type": "selectMarkdownCell"
   },
   {
    "code": "In this tutorial, we look at the [Happy Planet Index](http://happyplanetindex.org/) dataset, which contains metrics related to well-being for 140 countries around the world. Using this example dataset, we demonstrate how you can select visualizations of interest and export them for further investigation.\n\nas View objects or as their corresponding VegaLite or Altair code specification",
    "id": "2b4ef2b4027f49a68a2486039b0d5fee",
    "order_count": 2,
    "time": "2020-07-12T09:42:50.576Z",
    "type": "selectMarkdownCell"
   },
   {
    "code": "In this tutorial, we look at the [Happy Planet Index](http://happyplanetindex.org/) dataset, which contains metrics related to well-being for 140 countries around the world. We demonstrate how you can select visualizations of interest and export them for further investigation.\n\nas View objects or as their corresponding VegaLite or Altair code specification",
    "id": "2b4ef2b4027f49a68a2486039b0d5fee",
    "order_count": 2,
    "time": "2020-07-12T09:42:51.610Z",
    "type": "selectMarkdownCell"
   },
   {
    "code": "In this tutorial, we look at the [Happy Planet Index](http://happyplanetindex.org/) dataset, which contains metrics related to well-being for 140 countries around the world. We demonstrate how you can select visualizations of interest and export them for further investigation.\n\nas View objects or as their corresponding VegaLite or Altair code specification",
    "id": "2b4ef2b4027f49a68a2486039b0d5fee",
    "order_count": 2,
    "time": "2020-07-12T09:43:03.401Z",
    "type": "editMarkdownCell"
   },
   {
    "code": "In this tutorial, we look at the [Happy Planet Index](http://happyplanetindex.org/) dataset, which contains metrics related to well-being for 140 countries around the world. We demonstrate how you can select visualizations of interest and export them for further investigation. In Lux, you can expo\nas View objects or as their corresponding VegaLite or Altair code specification",
    "id": "2b4ef2b4027f49a68a2486039b0d5fee",
    "order_count": 2,
    "time": "2020-07-12T09:43:22.528Z",
    "type": "selectMarkdownCell"
   },
   {
    "code": "len(df[\"Country\"].unique())",
    "id": "b99a014f4aac43b4842fde87e1ed3b85",
    "order_count": 3,
    "time": "2020-07-12T09:43:40.697Z",
    "type": "selectCodeCell"
   },
   {
    "code": "len(df[\"Country\"].unique())",
    "id": "b99a014f4aac43b4842fde87e1ed3b85",
    "order_count": null,
    "time": "2020-07-12T09:43:42.188Z",
    "type": "deleteCodeCell"
   },
   {
    "code": "df",
    "id": "b9f61004f10a41618d20649fd46b2fbe",
    "order_count": 4,
    "time": "2020-07-12T09:43:44.521Z",
    "type": "selectCodeCell"
   },
   {
    "code": "df",
    "id": "b9f61004f10a41618d20649fd46b2fbe",
    "order_count": 4,
    "time": "2020-07-12T09:43:44.526Z",
    "type": "editCodeCell"
   },
   {
    "code": "df",
    "id": "b9f61004f10a41618d20649fd46b2fbe",
    "order_count": 4,
    "time": "2020-07-12T09:43:45.286Z",
    "type": "selectCodeCell"
   },
   {
    "code": "",
    "id": "7cf06bc256c545f2957da7b2f92519a0",
    "order_count": 4,
    "time": "2020-07-12T09:43:45.460Z",
    "type": "selectCodeCell"
   },
   {
    "code": "",
    "id": "7cf06bc256c545f2957da7b2f92519a0",
    "order_count": 4,
    "time": "2020-07-12T09:43:45.660Z",
    "type": "editCodeCell"
   },
   {
    "code": "\nIn Lux, you can expo\nas View objects or as their corresponding VegaLite or Altair code specification",
    "id": "7cf06bc256c545f2957da7b2f92519a0",
    "order_count": 4,
    "time": "2020-07-12T09:43:46.850Z",
    "type": "selectCodeCell"
   },
   {
    "code": "Users can access the Current View and recommendations programmatically through: \n\ndf.current_view\ndf.recommendations\n\n\n- accessing program state: \n\t- df.recommendation\n\t- df.viewCollection\n- df.get_exported()\n\nTo code: \n- view.to",
    "id": "23408ec1014b4f249d4042b68386c3b9",
    "order_count": 6,
    "time": "2020-07-12T09:43:50.863Z",
    "type": "selectMarkdownCell"
   },
   {
    "code": "Users can access the Current View and recommendations programmatically through: \n\ndf.current_view\ndf.recommendations\n\n\n- accessing program state: \n\t- df.recommendation\n\t- df.viewCollection\n- df.get_exported()\n\nTo code: \n- view.to",
    "id": "23408ec1014b4f249d4042b68386c3b9",
    "order_count": 6,
    "time": "2020-07-12T09:43:50.864Z",
    "type": "editMarkdownCell"
   },
   {
    "code": "Users can access the Current View and recommendations programmatically through: \n\ndf.current_view\ndf.recommendations\n\n\n- accessing program state: \n\t- df.recommendation\n\t- df.viewCollection\n- df.get_exported()\n\nTo code: \n- view.to",
    "id": "23408ec1014b4f249d4042b68386c3b9",
    "order_count": 6,
    "time": "2020-07-12T09:43:51.039Z",
    "type": "selectMarkdownCell"
   },
   {
    "code": "In Lux, you can expo\nas View objects or as their corresponding VegaLite or Altair code specification",
    "id": "7cf06bc256c545f2957da7b2f92519a0",
    "order_count": 4,
    "time": "2020-07-12T09:43:56.763Z",
    "type": "selectCodeCell"
   },
   {
    "code": "",
    "id": "62f39efb6def4ff28a9fed53c57dd1ed",
    "order_count": 4,
    "time": "2020-07-12T09:43:57.059Z",
    "type": "selectCodeCell"
   },
   {
    "code": "",
    "id": "62f39efb6def4ff28a9fed53c57dd1ed",
    "order_count": 4,
    "time": "2020-07-12T09:43:57.235Z",
    "type": "editCodeCell"
   },
   {
    "code": "",
    "id": "6dcc52f92a55450884f0ac1742a7b312",
    "order_count": 4,
    "time": "2020-07-12T09:44:02.351Z",
    "type": "selectCodeCell"
   },
   {
    "code": "",
    "id": "6dcc52f92a55450884f0ac1742a7b312",
    "order_count": null,
    "time": "2020-07-12T09:44:03.621Z",
    "type": "deleteCodeCell"
   },
   {
    "code": "",
    "id": "8843bb0f9ad94e6e8033f5a4ed028d97",
    "order_count": 4,
    "time": "2020-07-12T09:44:04.740Z",
    "type": "selectCodeCell"
   },
   {
    "code": "",
    "id": "8843bb0f9ad94e6e8033f5a4ed028d97",
    "order_count": 4,
    "time": "2020-07-12T09:44:04.918Z",
    "type": "editCodeCell"
   },
   {
    "param": "Correlation",
    "time": "2020-07-12T09:44:21.140Z",
    "type": "startScroll"
   },
   {
    "param": "Correlation",
    "time": "2020-07-12T09:44:21.252Z",
    "type": "stopScroll"
   },
   {
    "param": "Correlation",
    "time": "2020-07-12T09:44:21.789Z",
    "type": "startScroll"
   },
   {
    "param": "Correlation",
    "time": "2020-07-12T09:44:22.401Z",
    "type": "stopScroll"
   },
   {
    "param": "Correlation",
    "time": "2020-07-12T09:44:22.438Z",
    "type": "startScroll"
   },
   {
    "param": "Correlation",
    "time": "2020-07-12T09:44:23.067Z",
    "type": "stopScroll"
   },
   {
    "param": "Correlation",
    "time": "2020-07-12T09:44:23.606Z",
    "type": "startScroll"
   },
   {
    "param": "Correlation",
    "time": "2020-07-12T09:44:23.917Z",
    "type": "stopScroll"
   },
   {
    "code": "df = pd.read_csv(\"../lux/data/hpi.csv\")\ndf",
    "id": "12a1be56c9ae4abab0a1f946bd40bc68",
    "order_count": 3,
    "time": "2020-07-12T09:44:25.145Z",
    "type": "selectCodeCell"
   },
   {
    "param": {
     "Category": [],
     "Correlation": [
      10
     ]
    },
    "time": "2020-07-12T09:44:25.147Z",
    "type": "exportBtnClick"
   },
   {
    "code": "df_get",
    "id": "8843bb0f9ad94e6e8033f5a4ed028d97",
    "order_count": 4,
    "time": "2020-07-12T09:44:26.452Z",
    "type": "selectCodeCell"
   },
   {
    "code": "df_get",
    "id": "8843bb0f9ad94e6e8033f5a4ed028d97",
    "order_count": 4,
    "time": "2020-07-12T09:44:26.457Z",
    "type": "editCodeCell"
   },
   {
    "code": "df_get",
    "id": "8843bb0f9ad94e6e8033f5a4ed028d97",
    "order_count": 4,
    "time": "2020-07-12T09:44:26.565Z",
    "type": "selectCodeCell"
   },
   {
    "code": "We find that the visualization showing the relationship between GDPPerCapita",
    "id": "8843bb0f9ad94e6e8033f5a4ed028d97",
    "order_count": 4,
    "time": "2020-07-12T09:45:05.169Z",
    "type": "selectCodeCell"
   },
   {
    "code": "The visualization showing the relationship between GDPPerCapita",
    "id": "8843bb0f9ad94e6e8033f5a4ed028d97",
    "order_count": 4,
    "time": "2020-07-12T09:45:09.018Z",
    "type": "selectCodeCell"
   },
   {
    "code": "df = pd.read_csv(\"../lux/data/hpi.csv\")\ndf",
    "id": "12a1be56c9ae4abab0a1f946bd40bc68",
    "order_count": 3,
    "time": "2020-07-12T09:45:20.889Z",
    "type": "selectCodeCell"
   },
   {
    "code": "df = pd.read_csv(\"../lux/data/hpi.csv\")\ndf",
    "id": "12a1be56c9ae4abab0a1f946bd40bc68",
    "order_count": 3,
    "time": "2020-07-12T09:45:21.406Z",
    "type": "selectCodeCell"
   },
   {
    "param": {
     "index": 10,
     "tabTitle": "Correlation",
     "vis": {
      "$schema": "https://vega.github.io/schema/vega-lite/v4.8.1.json",
      "config": {
       "mark": {
        "tooltip": {
         "content": "encoding"
        }
       },
       "view": {
        "continuousHeight": 300,
        "continuousWidth": 400
       }
      },
      "data": {
       "name": "data-cffbaddba8d2091d19631c8240894572"
      },
      "datasets": {
       "data-cffbaddba8d2091d19631c8240894572": [
        {
         "Footprint": 0.8,
         "GDPPerCapita": 691
        },
        {
         "Footprint": 2.2,
         "GDPPerCapita": 4247
        },
        {
         "Footprint": 2.1,
         "GDPPerCapita": 5584
        },
        {
         "Footprint": 3.1,
         "GDPPerCapita": 14357
        },
        {
         "Footprint": 2.2,
         "GDPPerCapita": 3566
        },
        {
         "Footprint": 9.3,
         "GDPPerCapita": 67646
        },
        {
         "Footprint": 6.1,
         "GDPPerCapita": 48324
        },
        {
         "Footprint": 0.7,
         "GDPPerCapita": 859
        },
        {
         "Footprint": 5.1,
         "GDPPerCapita": 6722
        },
        {
         "Footprint": 7.4,
         "GDPPerCapita": 44731
        },
        {
         "Footprint": 2.5,
         "GDPPerCapita": 4674
        },
        {
         "Footprint": 1.4,
         "GDPPerCapita": 808
        },
        {
         "Footprint": 2.3,
         "GDPPerCapita": 2452
        },
        {
         "Footprint": 3,
         "GDPPerCapita": 2645
        },
        {
         "Footprint": 3.1,
         "GDPPerCapita": 4495
        },
        {
         "Footprint": 3.8,
         "GDPPerCapita": 6936
        },
        {
         "Footprint": 3.1,
         "GDPPerCapita": 12157
        },
        {
         "Footprint": 3.3,
         "GDPPerCapita": 7333
        },
        {
         "Footprint": 1.2,
         "GDPPerCapita": 673
        },
        {
         "Footprint": 0.8,
         "GDPPerCapita": 244
        },
        {
         "Footprint": 1.2,
         "GDPPerCapita": 946
        },
        {
         "Footprint": 1.2,
         "GDPPerCapita": 1222
        },
        {
         "Footprint": 8.2,
         "GDPPerCapita": 52738
        },
        {
         "Footprint": 1.5,
         "GDPPerCapita": 973
        },
        {
         "Footprint": 4.4,
         "GDPPerCapita": 15253
        },
        {
         "Footprint": 3.4,
         "GDPPerCapita": 6265
        },
        {
         "Footprint": 1.9,
         "GDPPerCapita": 7885
        },
        {
         "Footprint": 1,
         "GDPPerCapita": 750
        },
        {
         "Footprint": 2.8,
         "GDPPerCapita": 9733
        },
        {
         "Footprint": 1.3,
         "GDPPerCapita": 1281
        },
        {
         "Footprint": 3.9,
         "GDPPerCapita": 13236
        },
        {
         "Footprint": 4.2,
         "GDPPerCapita": 28868
        },
        {
         "Footprint": 5.2,
         "GDPPerCapita": 19641
        },
        {
         "Footprint": 5.5,
         "GDPPerCapita": 57636
        },
        {
         "Footprint": 2.2,
         "GDPPerCapita": 1587
        },
        {
         "Footprint": 1.5,
         "GDPPerCapita": 5967
        },
        {
         "Footprint": 2.2,
         "GDPPerCapita": 5702
        },
        {
         "Footprint": 2.2,
         "GDPPerCapita": 3226
        },
        {
         "Footprint": 2.1,
         "GDPPerCapita": 3922
        },
        {
         "Footprint": 6.9,
         "GDPPerCapita": 17491
        },
        {
         "Footprint": 1,
         "GDPPerCapita": 470
        },
        {
         "Footprint": 5.9,
         "GDPPerCapita": 47416
        },
        {
         "Footprint": 5.1,
         "GDPPerCapita": 40850
        },
        {
         "Footprint": 2,
         "GDPPerCapita": 10642
        },
        {
         "Footprint": 1.6,
         "GDPPerCapita": 4143
        },
        {
         "Footprint": 5.3,
         "GDPPerCapita": 44011
        },
        {
         "Footprint": 2,
         "GDPPerCapita": 1642
        },
        {
         "Footprint": 4.4,
         "GDPPerCapita": 22243
        },
        {
         "Footprint": 1.9,
         "GDPPerCapita": 3279
        },
        {
         "Footprint": 1.4,
         "GDPPerCapita": 487
        },
        {
         "Footprint": 0.6,
         "GDPPerCapita": 767
        },
        {
         "Footprint": 1.7,
         "GDPPerCapita": 2395
        },
        {
         "Footprint": 8.8,
         "GDPPerCapita": 36708
        },
        {
         "Footprint": 2.9,
         "GDPPerCapita": 12820
        },
        {
         "Footprint": 6.4,
         "GDPPerCapita": 44259
        },
        {
         "Footprint": 1.2,
         "GDPPerCapita": 1450
        },
        {
         "Footprint": 1.6,
         "GDPPerCapita": 3701
        },
        {
         "Footprint": 2.8,
         "GDPPerCapita": 7711
        },
        {
         "Footprint": 1.9,
         "GDPPerCapita": 6649
        },
        {
         "Footprint": 5.6,
         "GDPPerCapita": 48977
        },
        {
         "Footprint": 6.2,
         "GDPPerCapita": 32819
        },
        {
         "Footprint": 4.6,
         "GDPPerCapita": 34844
        },
        {
         "Footprint": 1.9,
         "GDPPerCapita": 5446
        },
        {
         "Footprint": 5,
         "GDPPerCapita": 46679
        },
        {
         "Footprint": 5.6,
         "GDPPerCapita": 12120
        },
        {
         "Footprint": 1,
         "GDPPerCapita": 1185
        },
        {
         "Footprint": 1.9,
         "GDPPerCapita": 1178
        },
        {
         "Footprint": 6.3,
         "GDPPerCapita": 13775
        },
        {
         "Footprint": 3.8,
         "GDPPerCapita": 9729
        },
        {
         "Footprint": 1.7,
         "GDPPerCapita": 1159
        },
        {
         "Footprint": 1.2,
         "GDPPerCapita": 414
        },
        {
         "Footprint": 5.8,
         "GDPPerCapita": 14343
        },
        {
         "Footprint": 15.8,
         "GDPPerCapita": 105447
        },
        {
         "Footprint": 3.3,
         "GDPPerCapita": 4710
        },
        {
         "Footprint": 0.8,
         "GDPPerCapita": 270
        },
        {
         "Footprint": 3.7,
         "GDPPerCapita": 10835
        },
        {
         "Footprint": 4.4,
         "GDPPerCapita": 21176
        },
        {
         "Footprint": 2.5,
         "GDPPerCapita": 1283
        },
        {
         "Footprint": 3.5,
         "GDPPerCapita": 9114
        },
        {
         "Footprint": 2.9,
         "GDPPerCapita": 9703
        },
        {
         "Footprint": 6.1,
         "GDPPerCapita": 4377
        },
        {
         "Footprint": 3.8,
         "GDPPerCapita": 6587
        },
        {
         "Footprint": 1.7,
         "GDPPerCapita": 2931
        },
        {
         "Footprint": 0.9,
         "GDPPerCapita": 565
        },
        {
         "Footprint": 1.4,
         "GDPPerCapita": 1421
        },
        {
         "Footprint": 2.5,
         "GDPPerCapita": 5680
        },
        {
         "Footprint": 1,
         "GDPPerCapita": 685
        },
        {
         "Footprint": 5.3,
         "GDPPerCapita": 49475
        },
        {
         "Footprint": 5.6,
         "GDPPerCapita": 39505
        },
        {
         "Footprint": 1.4,
         "GDPPerCapita": 1780
        },
        {
         "Footprint": 1.6,
         "GDPPerCapita": 394
        },
        {
         "Footprint": 1.2,
         "GDPPerCapita": 2740
        },
        {
         "Footprint": 5,
         "GDPPerCapita": 101564
        },
        {
         "Footprint": 7.5,
         "GDPPerCapita": 21534
        },
        {
         "Footprint": 0.8,
         "GDPPerCapita": 1266
        },
        {
         "Footprint": 1.2,
         "GDPPerCapita": 2783
        },
        {
         "Footprint": 2.8,
         "GDPPerCapita": 10139
        },
        {
         "Footprint": 4.2,
         "GDPPerCapita": 3858
        },
        {
         "Footprint": 2.3,
         "GDPPerCapita": 6389
        },
        {
         "Footprint": 1.1,
         "GDPPerCapita": 2605
        },
        {
         "Footprint": 4.4,
         "GDPPerCapita": 13142
        },
        {
         "Footprint": 3.9,
         "GDPPerCapita": 20577
        },
        {
         "Footprint": 1.3,
         "GDPPerCapita": 3191
        },
        {
         "Footprint": 2.7,
         "GDPPerCapita": 8577
        },
        {
         "Footprint": 5.7,
         "GDPPerCapita": 14079
        },
        {
         "Footprint": 0.9,
         "GDPPerCapita": 667
        },
        {
         "Footprint": 1.2,
         "GDPPerCapita": 1019
        },
        {
         "Footprint": 2.7,
         "GDPPerCapita": 5659
        },
        {
         "Footprint": 1.2,
         "GDPPerCapita": 619
        },
        {
         "Footprint": 4.1,
         "GDPPerCapita": 17207
        },
        {
         "Footprint": 5.8,
         "GDPPerCapita": 22478
        },
        {
         "Footprint": 3.3,
         "GDPPerCapita": 7592
        },
        {
         "Footprint": 5.7,
         "GDPPerCapita": 24454
        },
        {
         "Footprint": 3.7,
         "GDPPerCapita": 28648
        },
        {
         "Footprint": 1.3,
         "GDPPerCapita": 3351
        },
        {
         "Footprint": 4.3,
         "GDPPerCapita": 9422
        },
        {
         "Footprint": 2,
         "GDPPerCapita": 3989
        },
        {
         "Footprint": 7.3,
         "GDPPerCapita": 57134
        },
        {
         "Footprint": 5.8,
         "GDPPerCapita": 83209
        },
        {
         "Footprint": 1.5,
         "GDPPerCapita": 2080
        },
        {
         "Footprint": 0.9,
         "GDPPerCapita": 962
        },
        {
         "Footprint": 1.3,
         "GDPPerCapita": 828
        },
        {
         "Footprint": 2.7,
         "GDPPerCapita": 5918
        },
        {
         "Footprint": 1.1,
         "GDPPerCapita": 580
        },
        {
         "Footprint": 7.9,
         "GDPPerCapita": 18322
        },
        {
         "Footprint": 2.3,
         "GDPPerCapita": 4188
        },
        {
         "Footprint": 3.3,
         "GDPPerCapita": 10646
        },
        {
         "Footprint": 5.5,
         "GDPPerCapita": 6798
        },
        {
         "Footprint": 1.2,
         "GDPPerCapita": 656
        },
        {
         "Footprint": 2.8,
         "GDPPerCapita": 3855
        },
        {
         "Footprint": 4.9,
         "GDPPerCapita": 41295
        },
        {
         "Footprint": 8.2,
         "GDPPerCapita": 51457
        },
        {
         "Footprint": 2.9,
         "GDPPerCapita": 15128
        },
        {
         "Footprint": 2.3,
         "GDPPerCapita": 1719
        },
        {
         "Footprint": 1.9,
         "GDPPerCapita": 3158
        },
        {
         "Footprint": 3.6,
         "GDPPerCapita": 12772
        },
        {
         "Footprint": 1.7,
         "GDPPerCapita": 1755
        },
        {
         "Footprint": 1,
         "GDPPerCapita": 1289
        },
        {
         "Footprint": 1,
         "GDPPerCapita": 1687
        },
        {
         "Footprint": 1.4,
         "GDPPerCapita": 851
        }
       ]
      },
      "encoding": {
       "x": {
        "field": "GDPPerCapita",
        "scale": {
         "domain": [
          244,
          105447
         ]
        },
        "type": "quantitative"
       },
       "y": {
        "field": "Footprint",
        "scale": {
         "domain": [
          0.6,
          15.8
         ]
        },
        "type": "quantitative"
       }
      },
      "height": 150,
      "mark": "circle",
      "selection": {
       "selector041": {
        "bind": "scales",
        "encodings": [
         "x",
         "y"
        ],
        "type": "interval"
       }
      },
      "width": 160
     }
    },
    "time": "2020-07-12T09:45:21.410Z",
    "type": "unclickVis"
   },
   {
    "code": "df = pd.read_csv(\"../lux/data/hpi.csv\")\ndf",
    "id": "12a1be56c9ae4abab0a1f946bd40bc68",
    "order_count": 3,
    "time": "2020-07-12T09:45:23.967Z",
    "type": "selectCodeCell"
   },
   {
    "param": {
     "index": 10,
     "tabTitle": "Correlation",
     "vis": {
      "$schema": "https://vega.github.io/schema/vega-lite/v4.8.1.json",
      "config": {
       "mark": {
        "tooltip": {
         "content": "encoding"
        }
       },
       "view": {
        "continuousHeight": 300,
        "continuousWidth": 400
       }
      },
      "data": {
       "name": "data-cffbaddba8d2091d19631c8240894572"
      },
      "datasets": {
       "data-cffbaddba8d2091d19631c8240894572": [
        {
         "Footprint": 0.8,
         "GDPPerCapita": 691
        },
        {
         "Footprint": 2.2,
         "GDPPerCapita": 4247
        },
        {
         "Footprint": 2.1,
         "GDPPerCapita": 5584
        },
        {
         "Footprint": 3.1,
         "GDPPerCapita": 14357
        },
        {
         "Footprint": 2.2,
         "GDPPerCapita": 3566
        },
        {
         "Footprint": 9.3,
         "GDPPerCapita": 67646
        },
        {
         "Footprint": 6.1,
         "GDPPerCapita": 48324
        },
        {
         "Footprint": 0.7,
         "GDPPerCapita": 859
        },
        {
         "Footprint": 5.1,
         "GDPPerCapita": 6722
        },
        {
         "Footprint": 7.4,
         "GDPPerCapita": 44731
        },
        {
         "Footprint": 2.5,
         "GDPPerCapita": 4674
        },
        {
         "Footprint": 1.4,
         "GDPPerCapita": 808
        },
        {
         "Footprint": 2.3,
         "GDPPerCapita": 2452
        },
        {
         "Footprint": 3,
         "GDPPerCapita": 2645
        },
        {
         "Footprint": 3.1,
         "GDPPerCapita": 4495
        },
        {
         "Footprint": 3.8,
         "GDPPerCapita": 6936
        },
        {
         "Footprint": 3.1,
         "GDPPerCapita": 12157
        },
        {
         "Footprint": 3.3,
         "GDPPerCapita": 7333
        },
        {
         "Footprint": 1.2,
         "GDPPerCapita": 673
        },
        {
         "Footprint": 0.8,
         "GDPPerCapita": 244
        },
        {
         "Footprint": 1.2,
         "GDPPerCapita": 946
        },
        {
         "Footprint": 1.2,
         "GDPPerCapita": 1222
        },
        {
         "Footprint": 8.2,
         "GDPPerCapita": 52738
        },
        {
         "Footprint": 1.5,
         "GDPPerCapita": 973
        },
        {
         "Footprint": 4.4,
         "GDPPerCapita": 15253
        },
        {
         "Footprint": 3.4,
         "GDPPerCapita": 6265
        },
        {
         "Footprint": 1.9,
         "GDPPerCapita": 7885
        },
        {
         "Footprint": 1,
         "GDPPerCapita": 750
        },
        {
         "Footprint": 2.8,
         "GDPPerCapita": 9733
        },
        {
         "Footprint": 1.3,
         "GDPPerCapita": 1281
        },
        {
         "Footprint": 3.9,
         "GDPPerCapita": 13236
        },
        {
         "Footprint": 4.2,
         "GDPPerCapita": 28868
        },
        {
         "Footprint": 5.2,
         "GDPPerCapita": 19641
        },
        {
         "Footprint": 5.5,
         "GDPPerCapita": 57636
        },
        {
         "Footprint": 2.2,
         "GDPPerCapita": 1587
        },
        {
         "Footprint": 1.5,
         "GDPPerCapita": 5967
        },
        {
         "Footprint": 2.2,
         "GDPPerCapita": 5702
        },
        {
         "Footprint": 2.2,
         "GDPPerCapita": 3226
        },
        {
         "Footprint": 2.1,
         "GDPPerCapita": 3922
        },
        {
         "Footprint": 6.9,
         "GDPPerCapita": 17491
        },
        {
         "Footprint": 1,
         "GDPPerCapita": 470
        },
        {
         "Footprint": 5.9,
         "GDPPerCapita": 47416
        },
        {
         "Footprint": 5.1,
         "GDPPerCapita": 40850
        },
        {
         "Footprint": 2,
         "GDPPerCapita": 10642
        },
        {
         "Footprint": 1.6,
         "GDPPerCapita": 4143
        },
        {
         "Footprint": 5.3,
         "GDPPerCapita": 44011
        },
        {
         "Footprint": 2,
         "GDPPerCapita": 1642
        },
        {
         "Footprint": 4.4,
         "GDPPerCapita": 22243
        },
        {
         "Footprint": 1.9,
         "GDPPerCapita": 3279
        },
        {
         "Footprint": 1.4,
         "GDPPerCapita": 487
        },
        {
         "Footprint": 0.6,
         "GDPPerCapita": 767
        },
        {
         "Footprint": 1.7,
         "GDPPerCapita": 2395
        },
        {
         "Footprint": 8.8,
         "GDPPerCapita": 36708
        },
        {
         "Footprint": 2.9,
         "GDPPerCapita": 12820
        },
        {
         "Footprint": 6.4,
         "GDPPerCapita": 44259
        },
        {
         "Footprint": 1.2,
         "GDPPerCapita": 1450
        },
        {
         "Footprint": 1.6,
         "GDPPerCapita": 3701
        },
        {
         "Footprint": 2.8,
         "GDPPerCapita": 7711
        },
        {
         "Footprint": 1.9,
         "GDPPerCapita": 6649
        },
        {
         "Footprint": 5.6,
         "GDPPerCapita": 48977
        },
        {
         "Footprint": 6.2,
         "GDPPerCapita": 32819
        },
        {
         "Footprint": 4.6,
         "GDPPerCapita": 34844
        },
        {
         "Footprint": 1.9,
         "GDPPerCapita": 5446
        },
        {
         "Footprint": 5,
         "GDPPerCapita": 46679
        },
        {
         "Footprint": 5.6,
         "GDPPerCapita": 12120
        },
        {
         "Footprint": 1,
         "GDPPerCapita": 1185
        },
        {
         "Footprint": 1.9,
         "GDPPerCapita": 1178
        },
        {
         "Footprint": 6.3,
         "GDPPerCapita": 13775
        },
        {
         "Footprint": 3.8,
         "GDPPerCapita": 9729
        },
        {
         "Footprint": 1.7,
         "GDPPerCapita": 1159
        },
        {
         "Footprint": 1.2,
         "GDPPerCapita": 414
        },
        {
         "Footprint": 5.8,
         "GDPPerCapita": 14343
        },
        {
         "Footprint": 15.8,
         "GDPPerCapita": 105447
        },
        {
         "Footprint": 3.3,
         "GDPPerCapita": 4710
        },
        {
         "Footprint": 0.8,
         "GDPPerCapita": 270
        },
        {
         "Footprint": 3.7,
         "GDPPerCapita": 10835
        },
        {
         "Footprint": 4.4,
         "GDPPerCapita": 21176
        },
        {
         "Footprint": 2.5,
         "GDPPerCapita": 1283
        },
        {
         "Footprint": 3.5,
         "GDPPerCapita": 9114
        },
        {
         "Footprint": 2.9,
         "GDPPerCapita": 9703
        },
        {
         "Footprint": 6.1,
         "GDPPerCapita": 4377
        },
        {
         "Footprint": 3.8,
         "GDPPerCapita": 6587
        },
        {
         "Footprint": 1.7,
         "GDPPerCapita": 2931
        },
        {
         "Footprint": 0.9,
         "GDPPerCapita": 565
        },
        {
         "Footprint": 1.4,
         "GDPPerCapita": 1421
        },
        {
         "Footprint": 2.5,
         "GDPPerCapita": 5680
        },
        {
         "Footprint": 1,
         "GDPPerCapita": 685
        },
        {
         "Footprint": 5.3,
         "GDPPerCapita": 49475
        },
        {
         "Footprint": 5.6,
         "GDPPerCapita": 39505
        },
        {
         "Footprint": 1.4,
         "GDPPerCapita": 1780
        },
        {
         "Footprint": 1.6,
         "GDPPerCapita": 394
        },
        {
         "Footprint": 1.2,
         "GDPPerCapita": 2740
        },
        {
         "Footprint": 5,
         "GDPPerCapita": 101564
        },
        {
         "Footprint": 7.5,
         "GDPPerCapita": 21534
        },
        {
         "Footprint": 0.8,
         "GDPPerCapita": 1266
        },
        {
         "Footprint": 1.2,
         "GDPPerCapita": 2783
        },
        {
         "Footprint": 2.8,
         "GDPPerCapita": 10139
        },
        {
         "Footprint": 4.2,
         "GDPPerCapita": 3858
        },
        {
         "Footprint": 2.3,
         "GDPPerCapita": 6389
        },
        {
         "Footprint": 1.1,
         "GDPPerCapita": 2605
        },
        {
         "Footprint": 4.4,
         "GDPPerCapita": 13142
        },
        {
         "Footprint": 3.9,
         "GDPPerCapita": 20577
        },
        {
         "Footprint": 1.3,
         "GDPPerCapita": 3191
        },
        {
         "Footprint": 2.7,
         "GDPPerCapita": 8577
        },
        {
         "Footprint": 5.7,
         "GDPPerCapita": 14079
        },
        {
         "Footprint": 0.9,
         "GDPPerCapita": 667
        },
        {
         "Footprint": 1.2,
         "GDPPerCapita": 1019
        },
        {
         "Footprint": 2.7,
         "GDPPerCapita": 5659
        },
        {
         "Footprint": 1.2,
         "GDPPerCapita": 619
        },
        {
         "Footprint": 4.1,
         "GDPPerCapita": 17207
        },
        {
         "Footprint": 5.8,
         "GDPPerCapita": 22478
        },
        {
         "Footprint": 3.3,
         "GDPPerCapita": 7592
        },
        {
         "Footprint": 5.7,
         "GDPPerCapita": 24454
        },
        {
         "Footprint": 3.7,
         "GDPPerCapita": 28648
        },
        {
         "Footprint": 1.3,
         "GDPPerCapita": 3351
        },
        {
         "Footprint": 4.3,
         "GDPPerCapita": 9422
        },
        {
         "Footprint": 2,
         "GDPPerCapita": 3989
        },
        {
         "Footprint": 7.3,
         "GDPPerCapita": 57134
        },
        {
         "Footprint": 5.8,
         "GDPPerCapita": 83209
        },
        {
         "Footprint": 1.5,
         "GDPPerCapita": 2080
        },
        {
         "Footprint": 0.9,
         "GDPPerCapita": 962
        },
        {
         "Footprint": 1.3,
         "GDPPerCapita": 828
        },
        {
         "Footprint": 2.7,
         "GDPPerCapita": 5918
        },
        {
         "Footprint": 1.1,
         "GDPPerCapita": 580
        },
        {
         "Footprint": 7.9,
         "GDPPerCapita": 18322
        },
        {
         "Footprint": 2.3,
         "GDPPerCapita": 4188
        },
        {
         "Footprint": 3.3,
         "GDPPerCapita": 10646
        },
        {
         "Footprint": 5.5,
         "GDPPerCapita": 6798
        },
        {
         "Footprint": 1.2,
         "GDPPerCapita": 656
        },
        {
         "Footprint": 2.8,
         "GDPPerCapita": 3855
        },
        {
         "Footprint": 4.9,
         "GDPPerCapita": 41295
        },
        {
         "Footprint": 8.2,
         "GDPPerCapita": 51457
        },
        {
         "Footprint": 2.9,
         "GDPPerCapita": 15128
        },
        {
         "Footprint": 2.3,
         "GDPPerCapita": 1719
        },
        {
         "Footprint": 1.9,
         "GDPPerCapita": 3158
        },
        {
         "Footprint": 3.6,
         "GDPPerCapita": 12772
        },
        {
         "Footprint": 1.7,
         "GDPPerCapita": 1755
        },
        {
         "Footprint": 1,
         "GDPPerCapita": 1289
        },
        {
         "Footprint": 1,
         "GDPPerCapita": 1687
        },
        {
         "Footprint": 1.4,
         "GDPPerCapita": 851
        }
       ]
      },
      "encoding": {
       "x": {
        "field": "GDPPerCapita",
        "scale": {
         "domain": [
          244,
          105447
         ]
        },
        "type": "quantitative"
       },
       "y": {
        "field": "Footprint",
        "scale": {
         "domain": [
          0.6,
          15.8
         ]
        },
        "type": "quantitative"
       }
      },
      "height": 150,
      "mark": "circle",
      "selection": {
       "selector041": {
        "bind": "scales",
        "encodings": [
         "x",
         "y"
        ],
        "type": "interval"
       }
      },
      "width": 160
     }
    },
    "time": "2020-07-12T09:45:23.974Z",
    "type": "clickVis"
   },
   {
    "code": "The visualization showing the relationship between `GDPPerCapita` and `Footprint` is very interesting,",
    "id": "8843bb0f9ad94e6e8033f5a4ed028d97",
    "order_count": 4,
    "time": "2020-07-12T09:45:28.546Z",
    "type": "selectCodeCell"
   },
   {
    "code": "The visualization showing the relationship between `GDPPerCapita` and `Footprint` is very interesting,",
    "id": "8843bb0f9ad94e6e8033f5a4ed028d97",
    "order_count": 4,
    "time": "2020-07-12T09:45:28.552Z",
    "type": "editCodeCell"
   },
   {
    "param": "Correlation",
    "time": "2020-07-12T09:46:04.656Z",
    "type": "startScroll"
   },
   {
    "param": "Correlation",
    "time": "2020-07-12T09:46:05.468Z",
    "type": "stopScroll"
   },
   {
    "param": "Correlation",
    "time": "2020-07-12T09:46:06.021Z",
    "type": "startScroll"
   },
   {
    "param": "Correlation",
    "time": "2020-07-12T09:46:06.299Z",
    "type": "stopScroll"
   },
   {
    "param": "Correlation",
    "time": "2020-07-12T09:46:07.672Z",
    "type": "startScroll"
   },
   {
    "param": "Correlation",
    "time": "2020-07-12T09:46:07.803Z",
    "type": "stopScroll"
   },
   {
    "param": "Correlation",
    "time": "2020-07-12T09:46:08.355Z",
    "type": "startScroll"
   },
   {
    "param": "Correlation",
    "time": "2020-07-12T09:46:08.768Z",
    "type": "stopScroll"
   },
   {
    "param": "Correlation",
    "time": "2020-07-12T09:46:08.938Z",
    "type": "startScroll"
   },
   {
    "param": "Correlation",
    "time": "2020-07-12T09:46:09.215Z",
    "type": "stopScroll"
   },
   {
    "param": "Correlation",
    "time": "2020-07-12T09:46:10.787Z",
    "type": "startScroll"
   },
   {
    "param": "Correlation",
    "time": "2020-07-12T09:46:11.516Z",
    "type": "stopScroll"
   },
   {
    "param": "Correlation",
    "time": "2020-07-12T09:46:11.605Z",
    "type": "startScroll"
   },
   {
    "param": "Correlation",
    "time": "2020-07-12T09:46:11.851Z",
    "type": "stopScroll"
   },
   {
    "param": "Correlation",
    "time": "2020-07-12T09:46:12.238Z",
    "type": "startScroll"
   },
   {
    "param": "Correlation",
    "time": "2020-07-12T09:46:12.432Z",
    "type": "stopScroll"
   },
   {
    "param": "Correlation",
    "time": "2020-07-12T09:46:13.238Z",
    "type": "startScroll"
   },
   {
    "param": "Correlation",
    "time": "2020-07-12T09:46:13.400Z",
    "type": "stopScroll"
   },
   {
    "param": "Correlation",
    "time": "2020-07-12T09:46:13.405Z",
    "type": "startScroll"
   },
   {
    "param": "Correlation",
    "time": "2020-07-12T09:46:13.983Z",
    "type": "stopScroll"
   },
   {
    "param": "Correlation",
    "time": "2020-07-12T09:46:14.188Z",
    "type": "startScroll"
   },
   {
    "param": "Correlation",
    "time": "2020-07-12T09:46:14.383Z",
    "type": "stopScroll"
   },
   {
    "param": "Correlation",
    "time": "2020-07-12T09:46:14.389Z",
    "type": "startScroll"
   },
   {
    "param": "Correlation",
    "time": "2020-07-12T09:46:14.936Z",
    "type": "stopScroll"
   },
   {
    "param": "Correlation",
    "time": "2020-07-12T09:46:15.704Z",
    "type": "startScroll"
   },
   {
    "param": "Correlation",
    "time": "2020-07-12T09:46:16.017Z",
    "type": "stopScroll"
   },
   {
    "param": "Correlation",
    "time": "2020-07-12T09:46:17.905Z",
    "type": "startScroll"
   },
   {
    "param": "Correlation",
    "time": "2020-07-12T09:46:18.550Z",
    "type": "stopScroll"
   },
   {
    "param": "Correlation",
    "time": "2020-07-12T09:46:19.521Z",
    "type": "startScroll"
   },
   {
    "param": "Correlation",
    "time": "2020-07-12T09:46:19.950Z",
    "type": "stopScroll"
   },
   {
    "param": "Correlation",
    "time": "2020-07-12T09:46:20.272Z",
    "type": "startScroll"
   },
   {
    "param": "Correlation",
    "time": "2020-07-12T09:46:20.952Z",
    "type": "stopScroll"
   },
   {
    "param": "Correlation",
    "time": "2020-07-12T09:46:20.988Z",
    "type": "startScroll"
   },
   {
    "param": "Correlation",
    "time": "2020-07-12T09:46:21.300Z",
    "type": "stopScroll"
   },
   {
    "param": "Correlation",
    "time": "2020-07-12T09:46:23.438Z",
    "type": "startScroll"
   },
   {
    "param": "Correlation",
    "time": "2020-07-12T09:46:23.768Z",
    "type": "stopScroll"
   },
   {
    "param": "Correlation",
    "time": "2020-07-12T09:46:24.254Z",
    "type": "startScroll"
   },
   {
    "param": "Correlation",
    "time": "2020-07-12T09:46:24.631Z",
    "type": "stopScroll"
   },
   {
    "code": "Accessing program state: \n\t- df.recommendation\n\t- df.viewCollection\n",
    "id": "62f39efb6def4ff28a9fed53c57dd1ed",
    "order_count": 5,
    "time": "2020-07-12T09:46:26.361Z",
    "type": "selectCodeCell"
   },
   {
    "code": "Accessing program state: \n\t- df.recommendation\n\t- df.viewCollection\n",
    "id": "62f39efb6def4ff28a9fed53c57dd1ed",
    "order_count": 5,
    "time": "2020-07-12T09:46:26.366Z",
    "type": "editCodeCell"
   },
   {
    "code": "df = pd.read_csv(\"../lux/data/hpi.csv\")\ndf",
    "id": "12a1be56c9ae4abab0a1f946bd40bc68",
    "order_count": 3,
    "time": "2020-07-12T09:46:31.805Z",
    "type": "selectCodeCell"
   },
   {
    "code": "",
    "id": "e08b5df7007549379d93828434e743b1",
    "order_count": 4,
    "time": "2020-07-12T09:46:32.439Z",
    "type": "selectCodeCell"
   },
   {
    "code": "",
    "id": "e08b5df7007549379d93828434e743b1",
    "order_count": 4,
    "time": "2020-07-12T09:46:32.658Z",
    "type": "editCodeCell"
   },
   {
    "code": "df.setContextAsView",
    "id": "e08b5df7007549379d93828434e743b1",
    "order_count": 4,
    "time": "2020-07-12T09:46:43.872Z",
    "type": "executeCodeCell"
   },
   {
    "code": "The visualization showing the relationship between `GDPPerCapita` and `Footprint` is very interesting. We find that there is an outlier with extremely high ecological footprint as well as ",
    "id": "8843bb0f9ad94e6e8033f5a4ed028d97",
    "order_count": 5,
    "time": "2020-07-12T09:46:43.896Z",
    "type": "selectCodeCell"
   },
   {
    "id": "e08b5df7007549379d93828434e743b1",
    "isPrintLuxDf": false,
    "isPrintPandasDf": false,
    "isPrintView": true,
    "isPrintViewCollection": false,
    "time": "2020-07-12T09:46:43.905Z",
    "type": "completeCodeCell"
   },
   {
    "code": "df.setContextAsView",
    "id": "e08b5df7007549379d93828434e743b1",
    "order_count": 4,
    "time": "2020-07-12T09:46:45.177Z",
    "type": "selectCodeCell"
   },
   {
    "code": "df.setContextAsView",
    "id": "e08b5df7007549379d93828434e743b1",
    "order_count": 4,
    "time": "2020-07-12T09:46:45.182Z",
    "type": "editCodeCell"
   },
   {
    "code": "df.setContextAsView",
    "id": "e08b5df7007549379d93828434e743b1",
    "order_count": 4,
    "time": "2020-07-12T09:47:12.306Z",
    "type": "editCodeCell"
   },
   {
    "code": "df.setContextAsView",
    "id": "e08b5df7007549379d93828434e743b1",
    "order_count": 4,
    "time": "2020-07-12T09:47:13.662Z",
    "type": "selectCodeCell"
   },
   {
    "code": "%pylab inline",
    "id": "5418b3d50f5345bfaf89e6d4499e6c37",
    "order_count": 0,
    "time": "2020-07-12T09:47:16.141Z",
    "type": "selectCodeCell"
   },
   {
    "code": "%pylab inline",
    "id": "5418b3d50f5345bfaf89e6d4499e6c37",
    "order_count": 0,
    "time": "2020-07-12T09:47:16.146Z",
    "type": "editCodeCell"
   },
   {
    "code": "%pylab inline",
    "id": "5418b3d50f5345bfaf89e6d4499e6c37",
    "order_count": 0,
    "time": "2020-07-12T09:47:16.817Z",
    "type": "selectCodeCell"
   },
   {
    "code": "",
    "id": "eb64dbe726c9440f8884b3f1484bab48",
    "order_count": 1,
    "time": "2020-07-12T09:47:17.374Z",
    "type": "selectCodeCell"
   },
   {
    "code": "",
    "id": "eb64dbe726c9440f8884b3f1484bab48",
    "order_count": 1,
    "time": "2020-07-12T09:47:17.671Z",
    "type": "editCodeCell"
   },
   {
    "code": "cd ..",
    "id": "eb64dbe726c9440f8884b3f1484bab48",
    "order_count": 1,
    "time": "2020-07-12T09:47:18.759Z",
    "type": "executeCodeCell"
   },
   {
    "code": "import pandas as pd\nimport lux",
    "id": "36317fa004f84755901fb751d5e7974b",
    "order_count": 2,
    "time": "2020-07-12T09:47:18.782Z",
    "type": "selectCodeCell"
   },
   {
    "id": "eb64dbe726c9440f8884b3f1484bab48",
    "isPrintLuxDf": false,
    "isPrintPandasDf": false,
    "isPrintView": false,
    "isPrintViewCollection": false,
    "time": "2020-07-12T09:47:18.797Z",
    "type": "completeCodeCell"
   },
   {
    "code": "import pandas as pd\nimport lux",
    "id": "36317fa004f84755901fb751d5e7974b",
    "order_count": 2,
    "time": "2020-07-12T09:47:20.447Z",
    "type": "executeCodeCell"
   },
   {
    "code": "In this tutorial, we look at the [Happy Planet Index](http://happyplanetindex.org/) dataset, which contains metrics related to well-being for 140 countries around the world. We demonstrate how you can select visualizations of interest and export them for further analysis. ",
    "id": "2b4ef2b4027f49a68a2486039b0d5fee",
    "order_count": 3,
    "time": "2020-07-12T09:47:20.453Z",
    "type": "selectMarkdownCell"
   },
   {
    "id": "36317fa004f84755901fb751d5e7974b",
    "isPrintLuxDf": false,
    "isPrintPandasDf": false,
    "isPrintView": false,
    "isPrintViewCollection": false,
    "time": "2020-07-12T09:47:20.459Z",
    "type": "completeCodeCell"
   },
   {
    "time": "2020-07-12T09:47:22.666Z",
    "type": "kernelRestart"
   },
   {
    "code": "df = pd.read_csv(\"../lux/data/hpi.csv\")\ndf",
    "id": "12a1be56c9ae4abab0a1f946bd40bc68",
    "order_count": 4,
    "time": "2020-07-12T09:47:24.291Z",
    "type": "selectCodeCell"
   },
   {
    "code": "df = pd.read_csv(\"../lux/data/hpi.csv\")\ndf",
    "id": "12a1be56c9ae4abab0a1f946bd40bc68",
    "order_count": 4,
    "time": "2020-07-12T09:47:24.300Z",
    "type": "editCodeCell"
   },
   {
    "time": "2020-07-12T09:47:25.222Z",
    "type": "kernelReady"
   },
   {
    "code": "df = pd.read_csv(\"../lux/data/hpi.csv\")\ndf",
    "id": "12a1be56c9ae4abab0a1f946bd40bc68",
    "order_count": 4,
    "time": "2020-07-12T09:47:25.785Z",
    "type": "selectCodeCell"
   },
   {
    "code": "%pylab inline",
    "id": "5418b3d50f5345bfaf89e6d4499e6c37",
    "order_count": 0,
    "time": "2020-07-12T09:47:27.429Z",
    "type": "selectCodeCell"
   },
   {
    "code": "%pylab inline",
    "id": "5418b3d50f5345bfaf89e6d4499e6c37",
    "order_count": 0,
    "time": "2020-07-12T09:47:27.433Z",
    "type": "editCodeCell"
   },
   {
    "code": "%pylab inline",
    "id": "5418b3d50f5345bfaf89e6d4499e6c37",
    "order_count": 0,
    "time": "2020-07-12T09:47:27.524Z",
    "type": "selectCodeCell"
   },
   {
    "code": "%pylab inline",
    "id": "5418b3d50f5345bfaf89e6d4499e6c37",
    "order_count": 0,
    "time": "2020-07-12T09:47:29.584Z",
    "type": "selectCodeCell"
   },
   {
    "code": "%pylab inline",
    "id": "5418b3d50f5345bfaf89e6d4499e6c37",
    "order_count": null,
    "time": "2020-07-12T09:47:29.786Z",
    "type": "deleteCodeCell"
   },
   {
    "code": "cd ..",
    "id": "eb64dbe726c9440f8884b3f1484bab48",
    "order_count": 0,
    "time": "2020-07-12T09:47:30.325Z",
    "type": "executeCodeCell"
   },
   {
    "code": "import pandas as pd\nimport lux",
    "id": "36317fa004f84755901fb751d5e7974b",
    "order_count": 1,
    "time": "2020-07-12T09:47:30.336Z",
    "type": "selectCodeCell"
   },
   {
    "id": "eb64dbe726c9440f8884b3f1484bab48",
    "isPrintLuxDf": false,
    "isPrintPandasDf": false,
    "isPrintView": false,
    "isPrintViewCollection": false,
    "time": "2020-07-12T09:47:30.345Z",
    "type": "completeCodeCell"
   },
   {
    "code": "import pandas as pd\nimport lux",
    "id": "36317fa004f84755901fb751d5e7974b",
    "order_count": 1,
    "time": "2020-07-12T09:47:30.987Z",
    "type": "executeCodeCell"
   },
   {
    "code": "In this tutorial, we look at the [Happy Planet Index](http://happyplanetindex.org/) dataset, which contains metrics related to well-being for 140 countries around the world. We demonstrate how you can select visualizations of interest and export them for further analysis. ",
    "id": "2b4ef2b4027f49a68a2486039b0d5fee",
    "order_count": 2,
    "time": "2020-07-12T09:47:30.992Z",
    "type": "selectMarkdownCell"
   },
   {
    "code": "df = pd.read_csv(\"lux/data/hpi.csv\")\ndf",
    "id": "12a1be56c9ae4abab0a1f946bd40bc68",
    "order_count": 3,
    "time": "2020-07-12T09:47:31.310Z",
    "type": "selectCodeCell"
   },
   {
    "id": "36317fa004f84755901fb751d5e7974b",
    "isPrintLuxDf": false,
    "isPrintPandasDf": false,
    "isPrintView": false,
    "isPrintViewCollection": false,
    "time": "2020-07-12T09:47:31.533Z",
    "type": "completeCodeCell"
   },
   {
    "code": "df = pd.read_csv(\"lux/data/hpi.csv\")\ndf",
    "id": "12a1be56c9ae4abab0a1f946bd40bc68",
    "order_count": 3,
    "time": "2020-07-12T09:47:31.648Z",
    "type": "executeCodeCell"
   },
   {
    "code": "df.setContextAsView",
    "id": "e08b5df7007549379d93828434e743b1",
    "order_count": 4,
    "time": "2020-07-12T09:47:31.659Z",
    "type": "selectCodeCell"
   },
   {
    "id": "12a1be56c9ae4abab0a1f946bd40bc68",
    "isPrintLuxDf": false,
    "isPrintPandasDf": true,
    "isPrintView": false,
    "isPrintViewCollection": false,
    "time": "2020-07-12T09:47:32.759Z",
    "type": "completeCodeCell"
   },
   {
    "code": "df = pd.read_csv(\"lux/data/hpi.csv\")\ndf",
    "id": "12a1be56c9ae4abab0a1f946bd40bc68",
    "order_count": 3,
    "time": "2020-07-12T09:47:34.265Z",
    "type": "selectCodeCell"
   },
   {
    "param": "",
    "time": "2020-07-12T09:47:34.292Z",
    "type": "initWidget"
   },
   {
    "param": "",
    "time": "2020-07-12T09:47:34.640Z",
    "type": "initWidget"
   },
   {
    "code": "df = pd.read_csv(\"lux/data/hpi.csv\")\ndf",
    "id": "12a1be56c9ae4abab0a1f946bd40bc68",
    "order_count": 3,
    "time": "2020-07-12T09:47:36.077Z",
    "type": "selectCodeCell"
   },
   {
    "param": "Distribution",
    "time": "2020-07-12T09:47:36.079Z",
    "type": "switchTab"
   },
   {
    "code": "df = pd.read_csv(\"lux/data/hpi.csv\")\ndf",
    "id": "12a1be56c9ae4abab0a1f946bd40bc68",
    "order_count": 3,
    "time": "2020-07-12T09:47:37.062Z",
    "type": "selectCodeCell"
   },
   {
    "param": "Category",
    "time": "2020-07-12T09:47:37.064Z",
    "type": "switchTab"
   },
   {
    "code": "df.setContextAsView",
    "id": "e08b5df7007549379d93828434e743b1",
    "order_count": 4,
    "time": "2020-07-12T09:47:39.116Z",
    "type": "selectCodeCell"
   },
   {
    "code": "df.setContextAsView",
    "id": "e08b5df7007549379d93828434e743b1",
    "order_count": 4,
    "time": "2020-07-12T09:47:40.219Z",
    "type": "editCodeCell"
   },
   {
    "code": "df.setContextAsView",
    "id": "e08b5df7007549379d93828434e743b1",
    "order_count": 4,
    "time": "2020-07-12T09:47:41.630Z",
    "type": "selectCodeCell"
   },
   {
    "code": "df.set_context_as_view",
    "id": "e08b5df7007549379d93828434e743b1",
    "order_count": 4,
    "time": "2020-07-12T09:47:45.386Z",
    "type": "executeCodeCell"
   },
   {
    "code": "The visualization showing the relationship between `GDPPerCapita` and `Footprint` is very interesting. We find that there is an outlier with extremely high ecological footprint as well as ",
    "id": "8843bb0f9ad94e6e8033f5a4ed028d97",
    "order_count": 5,
    "time": "2020-07-12T09:47:45.408Z",
    "type": "selectCodeCell"
   },
   {
    "id": "e08b5df7007549379d93828434e743b1",
    "isPrintLuxDf": false,
    "isPrintPandasDf": false,
    "isPrintView": false,
    "isPrintViewCollection": false,
    "time": "2020-07-12T09:47:45.417Z",
    "type": "completeCodeCell"
   },
   {
    "time": "2020-07-12T09:47:48.519Z",
    "type": "kernelReady"
   },
   {
    "code": "df.set_context_as_view",
    "id": "e08b5df7007549379d93828434e743b1",
    "order_count": 4,
    "time": "2020-07-12T10:13:49.084Z",
    "type": "selectCodeCell"
   },
   {
    "code": "df.set_context_as_view",
    "id": "e08b5df7007549379d93828434e743b1",
    "order_count": 4,
    "time": "2020-07-12T10:13:49.092Z",
    "type": "editCodeCell"
   },
   {
    "code": "df.set_context_as_view",
    "id": "e08b5df7007549379d93828434e743b1",
    "order_count": 4,
    "time": "2020-07-12T10:13:49.828Z",
    "type": "selectCodeCell"
   },
   {
    "code": "df.set_context_as_view",
    "id": "e08b5df7007549379d93828434e743b1",
    "order_count": 4,
    "time": "2020-07-12T10:13:50.305Z",
    "type": "selectCodeCell"
   },
   {
    "code": "df.set_context_as_view",
    "id": "e08b5df7007549379d93828434e743b1",
    "order_count": 4,
    "time": "2020-07-12T10:13:50.499Z",
    "type": "editCodeCell"
   },
   {
    "code": "df = pd.read_csv(\"lux/data/hpi.csv\")\ndf",
    "id": "12a1be56c9ae4abab0a1f946bd40bc68",
    "order_count": 3,
    "time": "2020-07-12T10:13:53.158Z",
    "type": "selectCodeCell"
   },
   {
    "code": "df = pd.read_csv(\"lux/data/hpi.csv\")\ndf",
    "id": "12a1be56c9ae4abab0a1f946bd40bc68",
    "order_count": 3,
    "time": "2020-07-12T10:13:55.859Z",
    "type": "editCodeCell"
   },
   {
    "code": "df = pd.read_csv(\"lux/data/hpi.csv\")\ndf",
    "id": "12a1be56c9ae4abab0a1f946bd40bc68",
    "order_count": 3,
    "time": "2020-07-12T10:13:57.386Z",
    "type": "selectCodeCell"
   },
   {
    "param": "Correlation",
    "time": "2020-07-12T10:13:57.387Z",
    "type": "switchTab"
   },
   {
    "param": "Correlation",
    "time": "2020-07-12T10:13:59.785Z",
    "type": "startScroll"
   },
   {
    "param": "Correlation",
    "time": "2020-07-12T10:14:00.380Z",
    "type": "stopScroll"
   },
   {
    "param": "Correlation",
    "time": "2020-07-12T10:14:00.401Z",
    "type": "startScroll"
   },
   {
    "param": "Correlation",
    "time": "2020-07-12T10:14:00.928Z",
    "type": "stopScroll"
   },
   {
    "param": "Correlation",
    "time": "2020-07-12T10:14:02.034Z",
    "type": "startScroll"
   },
   {
    "param": "Correlation",
    "time": "2020-07-12T10:14:02.848Z",
    "type": "stopScroll"
   },
   {
    "param": "Correlation",
    "time": "2020-07-12T10:14:04.301Z",
    "type": "startScroll"
   },
   {
    "param": "Correlation",
    "time": "2020-07-12T10:14:05.147Z",
    "type": "stopScroll"
   },
   {
    "param": "Correlation",
    "time": "2020-07-12T10:14:07.601Z",
    "type": "startScroll"
   },
   {
    "param": "Correlation",
    "time": "2020-07-12T10:14:07.728Z",
    "type": "stopScroll"
   },
   {
    "code": "df = pd.read_csv(\"lux/data/hpi.csv\")\ndf",
    "id": "12a1be56c9ae4abab0a1f946bd40bc68",
    "order_count": 3,
    "time": "2020-07-12T10:14:09.503Z",
    "type": "selectCodeCell"
   },
   {
    "param": {
     "index": 8,
     "tabTitle": "Correlation",
     "vis": {
      "$schema": "https://vega.github.io/schema/vega-lite/v4.8.1.json",
      "config": {
       "mark": {
        "tooltip": {
         "content": "encoding"
        }
       },
       "view": {
        "continuousHeight": 300,
        "continuousWidth": 400
       }
      },
      "data": {
       "name": "data-caaf6d5fc76c9da699cf4af72176cd09"
      },
      "datasets": {
       "data-caaf6d5fc76c9da699cf4af72176cd09": [
        {
         "AverageLifeExpectancy": 59.7,
         "HappyLifeYears": 12.4
        },
        {
         "AverageLifeExpectancy": 77.3,
         "HappyLifeYears": 34.4
        },
        {
         "AverageLifeExpectancy": 74.3,
         "HappyLifeYears": 30.5
        },
        {
         "AverageLifeExpectancy": 75.9,
         "HappyLifeYears": 40.2
        },
        {
         "AverageLifeExpectancy": 74.4,
         "HappyLifeYears": 24
        },
        {
         "AverageLifeExpectancy": 82.1,
         "HappyLifeYears": 53.1
        },
        {
         "AverageLifeExpectancy": 81,
         "HappyLifeYears": 54.4
        },
        {
         "AverageLifeExpectancy": 70.8,
         "HappyLifeYears": 23.3
        },
        {
         "AverageLifeExpectancy": 70.9,
         "HappyLifeYears": 34
        },
        {
         "AverageLifeExpectancy": 80.4,
         "HappyLifeYears": 49.5
        },
        {
         "AverageLifeExpectancy": 69.8,
         "HappyLifeYears": 34.2
        },
        {
         "AverageLifeExpectancy": 59.2,
         "HappyLifeYears": 9.9
        },
        {
         "AverageLifeExpectancy": 68.7,
         "HappyLifeYears": 27.4
        },
        {
         "AverageLifeExpectancy": 67.5,
         "HappyLifeYears": 25.6
        },
        {
         "AverageLifeExpectancy": 76.2,
         "HappyLifeYears": 28.6
        },
        {
         "AverageLifeExpectancy": 64.2,
         "HappyLifeYears": 21.3
        },
        {
         "AverageLifeExpectancy": 73.9,
         "HappyLifeYears": 39
        },
        {
         "AverageLifeExpectancy": 73.9,
         "HappyLifeYears": 24
        },
        {
         "AverageLifeExpectancy": 58,
         "HappyLifeYears": 12.6
        },
        {
         "AverageLifeExpectancy": 55.8,
         "HappyLifeYears": 9.5
        },
        {
         "AverageLifeExpectancy": 67.5,
         "HappyLifeYears": 18.2
        },
        {
         "AverageLifeExpectancy": 54.6,
         "HappyLifeYears": 11.6
        },
        {
         "AverageLifeExpectancy": 81.7,
         "HappyLifeYears": 53.9
        },
        {
         "AverageLifeExpectancy": 50.8,
         "HappyLifeYears": 9.6
        },
        {
         "AverageLifeExpectancy": 81.1,
         "HappyLifeYears": 44.7
        },
        {
         "AverageLifeExpectancy": 75.4,
         "HappyLifeYears": 30.6
        },
        {
         "AverageLifeExpectancy": 73.7,
         "HappyLifeYears": 35.1
        },
        {
         "AverageLifeExpectancy": 62.6,
         "HappyLifeYears": 15.4
        },
        {
         "AverageLifeExpectancy": 79.1,
         "HappyLifeYears": 48.2
        },
        {
         "AverageLifeExpectancy": 50.8,
         "HappyLifeYears": 10.3
        },
        {
         "AverageLifeExpectancy": 77,
         "HappyLifeYears": 39.6
        },
        {
         "AverageLifeExpectancy": 79.8,
         "HappyLifeYears": 42.3
        },
        {
         "AverageLifeExpectancy": 78.2,
         "HappyLifeYears": 43.4
        },
        {
         "AverageLifeExpectancy": 79.8,
         "HappyLifeYears": 54.4
        },
        {
         "AverageLifeExpectancy": 61.3,
         "HappyLifeYears": 15.1
        },
        {
         "AverageLifeExpectancy": 73.1,
         "HappyLifeYears": 23.7
        },
        {
         "AverageLifeExpectancy": 75.4,
         "HappyLifeYears": 34.3
        },
        {
         "AverageLifeExpectancy": 70.7,
         "HappyLifeYears": 21.8
        },
        {
         "AverageLifeExpectancy": 72.5,
         "HappyLifeYears": 32.2
        },
        {
         "AverageLifeExpectancy": 76.2,
         "HappyLifeYears": 35
        },
        {
         "AverageLifeExpectancy": 62.8,
         "HappyLifeYears": 17.8
        },
        {
         "AverageLifeExpectancy": 80.4,
         "HappyLifeYears": 54.6
        },
        {
         "AverageLifeExpectancy": 81.8,
         "HappyLifeYears": 48.1
        },
        {
         "AverageLifeExpectancy": 63.3,
         "HappyLifeYears": 15.4
        },
        {
         "AverageLifeExpectancy": 74.6,
         "HappyLifeYears": 24.7
        },
        {
         "AverageLifeExpectancy": 80.6,
         "HappyLifeYears": 48.2
        },
        {
         "AverageLifeExpectancy": 61,
         "HappyLifeYears": 18.8
        },
        {
         "AverageLifeExpectancy": 80.5,
         "HappyLifeYears": 33.3
        },
        {
         "AverageLifeExpectancy": 71.4,
         "HappyLifeYears": 29.6
        },
        {
         "AverageLifeExpectancy": 57.7,
         "HappyLifeYears": 11.8
        },
        {
         "AverageLifeExpectancy": 62.1,
         "HappyLifeYears": 16.5
        },
        {
         "AverageLifeExpectancy": 72.8,
         "HappyLifeYears": 22.1
        },
        {
         "AverageLifeExpectancy": 83.6,
         "HappyLifeYears": 40.1
        },
        {
         "AverageLifeExpectancy": 74.9,
         "HappyLifeYears": 28.7
        },
        {
         "AverageLifeExpectancy": 82.2,
         "HappyLifeYears": 58
        },
        {
         "AverageLifeExpectancy": 67.3,
         "HappyLifeYears": 20.4
        },
        {
         "AverageLifeExpectancy": 68.5,
         "HappyLifeYears": 28.4
        },
        {
         "AverageLifeExpectancy": 74.8,
         "HappyLifeYears": 25.4
        },
        {
         "AverageLifeExpectancy": 69,
         "HappyLifeYears": 22.8
        },
        {
         "AverageLifeExpectancy": 80.5,
         "HappyLifeYears": 50.3
        },
        {
         "AverageLifeExpectancy": 81.9,
         "HappyLifeYears": 52.5
        },
        {
         "AverageLifeExpectancy": 82.7,
         "HappyLifeYears": 41.1
        },
        {
         "AverageLifeExpectancy": 75.3,
         "HappyLifeYears": 31.9
        },
        {
         "AverageLifeExpectancy": 83.2,
         "HappyLifeYears": 44
        },
        {
         "AverageLifeExpectancy": 68.6,
         "HappyLifeYears": 31.7
        },
        {
         "AverageLifeExpectancy": 60.3,
         "HappyLifeYears": 16.2
        },
        {
         "AverageLifeExpectancy": 69.7,
         "HappyLifeYears": 28.7
        },
        {
         "AverageLifeExpectancy": 73.6,
         "HappyLifeYears": 31.2
        },
        {
         "AverageLifeExpectancy": 78.8,
         "HappyLifeYears": 28.2
        },
        {
         "AverageLifeExpectancy": 48.9,
         "HappyLifeYears": 13.4
        },
        {
         "AverageLifeExpectancy": 60.2,
         "HappyLifeYears": 15.7
        },
        {
         "AverageLifeExpectancy": 72.8,
         "HappyLifeYears": 36.4
        },
        {
         "AverageLifeExpectancy": 81.1,
         "HappyLifeYears": 51.7
        },
        {
         "AverageLifeExpectancy": 75.1,
         "HappyLifeYears": 27.2
        },
        {
         "AverageLifeExpectancy": 60.1,
         "HappyLifeYears": 13.7
        },
        {
         "AverageLifeExpectancy": 74.4,
         "HappyLifeYears": 38.3
        },
        {
         "AverageLifeExpectancy": 80.2,
         "HappyLifeYears": 40.8
        },
        {
         "AverageLifeExpectancy": 62.6,
         "HappyLifeYears": 18
        },
        {
         "AverageLifeExpectancy": 74,
         "HappyLifeYears": 33.1
        },
        {
         "AverageLifeExpectancy": 76.4,
         "HappyLifeYears": 44.3
        },
        {
         "AverageLifeExpectancy": 68.6,
         "HappyLifeYears": 25.3
        },
        {
         "AverageLifeExpectancy": 75.8,
         "HappyLifeYears": 32.1
        },
        {
         "AverageLifeExpectancy": 73.4,
         "HappyLifeYears": 26.7
        },
        {
         "AverageLifeExpectancy": 54.3,
         "HappyLifeYears": 15
        },
        {
         "AverageLifeExpectancy": 65.5,
         "HappyLifeYears": 18.8
        },
        {
         "AverageLifeExpectancy": 64,
         "HappyLifeYears": 21.3
        },
        {
         "AverageLifeExpectancy": 68.8,
         "HappyLifeYears": 20.2
        },
        {
         "AverageLifeExpectancy": 81.2,
         "HappyLifeYears": 57
        },
        {
         "AverageLifeExpectancy": 81.4,
         "HappyLifeYears": 52.7
        },
        {
         "AverageLifeExpectancy": 74.3,
         "HappyLifeYears": 29.2
        },
        {
         "AverageLifeExpectancy": 60,
         "HappyLifeYears": 13.1
        },
        {
         "AverageLifeExpectancy": 52.1,
         "HappyLifeYears": 15.5
        },
        {
         "AverageLifeExpectancy": 81.3,
         "HappyLifeYears": 57.1
        },
        {
         "AverageLifeExpectancy": 76.3,
         "HappyLifeYears": 44.5
        },
        {
         "AverageLifeExpectancy": 65.7,
         "HappyLifeYears": 19.5
        },
        {
         "AverageLifeExpectancy": 72.6,
         "HappyLifeYears": 24.5
        },
        {
         "AverageLifeExpectancy": 77.2,
         "HappyLifeYears": 42.1
        },
        {
         "AverageLifeExpectancy": 72.6,
         "HappyLifeYears": 31.8
        },
        {
         "AverageLifeExpectancy": 74.1,
         "HappyLifeYears": 32.9
        },
        {
         "AverageLifeExpectancy": 67.9,
         "HappyLifeYears": 24.1
        },
        {
         "AverageLifeExpectancy": 76.9,
         "HappyLifeYears": 39.2
        },
        {
         "AverageLifeExpectancy": 80.3,
         "HappyLifeYears": 32.3
        },
        {
         "AverageLifeExpectancy": 61,
         "HappyLifeYears": 13.6
        },
        {
         "AverageLifeExpectancy": 74.3,
         "HappyLifeYears": 30.1
        },
        {
         "AverageLifeExpectancy": 69.5,
         "HappyLifeYears": 31.7
        },
        {
         "AverageLifeExpectancy": 63.1,
         "HappyLifeYears": 12.4
        },
        {
         "AverageLifeExpectancy": 65.4,
         "HappyLifeYears": 15.5
        },
        {
         "AverageLifeExpectancy": 74.5,
         "HappyLifeYears": 30.3
        },
        {
         "AverageLifeExpectancy": 49.8,
         "HappyLifeYears": 10.8
        },
        {
         "AverageLifeExpectancy": 75.9,
         "HappyLifeYears": 37.9
        },
        {
         "AverageLifeExpectancy": 80,
         "HappyLifeYears": 42.6
        },
        {
         "AverageLifeExpectancy": 56.3,
         "HappyLifeYears": 18.5
        },
        {
         "AverageLifeExpectancy": 81.3,
         "HappyLifeYears": 42.2
        },
        {
         "AverageLifeExpectancy": 82.2,
         "HappyLifeYears": 45.3
        },
        {
         "AverageLifeExpectancy": 74.6,
         "HappyLifeYears": 24.9
        },
        {
         "AverageLifeExpectancy": 70.8,
         "HappyLifeYears": 35.2
        },
        {
         "AverageLifeExpectancy": 48.9,
         "HappyLifeYears": 13.6
        },
        {
         "AverageLifeExpectancy": 81.8,
         "HappyLifeYears": 57.4
        },
        {
         "AverageLifeExpectancy": 82.6,
         "HappyLifeYears": 59.3
        },
        {
         "AverageLifeExpectancy": 70.4,
         "HappyLifeYears": 14.7
        },
        {
         "AverageLifeExpectancy": 69,
         "HappyLifeYears": 22.2
        },
        {
         "AverageLifeExpectancy": 63.5,
         "HappyLifeYears": 16.2
        },
        {
         "AverageLifeExpectancy": 74.1,
         "HappyLifeYears": 38.6
        },
        {
         "AverageLifeExpectancy": 58.6,
         "HappyLifeYears": 9
        },
        {
         "AverageLifeExpectancy": 70.1,
         "HappyLifeYears": 34.4
        },
        {
         "AverageLifeExpectancy": 74.6,
         "HappyLifeYears": 25.2
        },
        {
         "AverageLifeExpectancy": 74.7,
         "HappyLifeYears": 31.2
        },
        {
         "AverageLifeExpectancy": 65.3,
         "HappyLifeYears": 24
        },
        {
         "AverageLifeExpectancy": 57.1,
         "HappyLifeYears": 13.8
        },
        {
         "AverageLifeExpectancy": 70.3,
         "HappyLifeYears": 28.3
        },
        {
         "AverageLifeExpectancy": 80.4,
         "HappyLifeYears": 49.1
        },
        {
         "AverageLifeExpectancy": 78.8,
         "HappyLifeYears": 46.8
        },
        {
         "AverageLifeExpectancy": 76.9,
         "HappyLifeYears": 39.4
        },
        {
         "AverageLifeExpectancy": 68.2,
         "HappyLifeYears": 27.9
        },
        {
         "AverageLifeExpectancy": 71.3,
         "HappyLifeYears": 34.9
        },
        {
         "AverageLifeExpectancy": 73.9,
         "HappyLifeYears": 41.5
        },
        {
         "AverageLifeExpectancy": 75.5,
         "HappyLifeYears": 32.8
        },
        {
         "AverageLifeExpectancy": 63.3,
         "HappyLifeYears": 15.2
        },
        {
         "AverageLifeExpectancy": 58.4,
         "HappyLifeYears": 16.7
        },
        {
         "AverageLifeExpectancy": 53.7,
         "HappyLifeYears": 16.4
        }
       ]
      },
      "encoding": {
       "x": {
        "field": "AverageLifeExpectancy",
        "scale": {
         "domain": [
          48.9,
          83.6
         ]
        },
        "type": "quantitative"
       },
       "y": {
        "field": "HappyLifeYears",
        "scale": {
         "domain": [
          9,
          59.3
         ]
        },
        "type": "quantitative"
       }
      },
      "height": 150,
      "mark": "circle",
      "selection": {
       "selector009": {
        "bind": "scales",
        "encodings": [
         "x",
         "y"
        ],
        "type": "interval"
       }
      },
      "width": 160
     }
    },
    "time": "2020-07-12T10:14:09.505Z",
    "type": "clickVis"
   },
   {
    "code": "df = pd.read_csv(\"lux/data/hpi.csv\")\ndf",
    "id": "12a1be56c9ae4abab0a1f946bd40bc68",
    "order_count": 3,
    "time": "2020-07-12T10:14:13.220Z",
    "type": "selectCodeCell"
   },
   {
    "param": {
     "index": 8,
     "tabTitle": "Correlation",
     "vis": {
      "$schema": "https://vega.github.io/schema/vega-lite/v4.8.1.json",
      "config": {
       "mark": {
        "tooltip": {
         "content": "encoding"
        }
       },
       "view": {
        "continuousHeight": 300,
        "continuousWidth": 400
       }
      },
      "data": {
       "name": "data-caaf6d5fc76c9da699cf4af72176cd09"
      },
      "datasets": {
       "data-caaf6d5fc76c9da699cf4af72176cd09": [
        {
         "AverageLifeExpectancy": 59.7,
         "HappyLifeYears": 12.4
        },
        {
         "AverageLifeExpectancy": 77.3,
         "HappyLifeYears": 34.4
        },
        {
         "AverageLifeExpectancy": 74.3,
         "HappyLifeYears": 30.5
        },
        {
         "AverageLifeExpectancy": 75.9,
         "HappyLifeYears": 40.2
        },
        {
         "AverageLifeExpectancy": 74.4,
         "HappyLifeYears": 24
        },
        {
         "AverageLifeExpectancy": 82.1,
         "HappyLifeYears": 53.1
        },
        {
         "AverageLifeExpectancy": 81,
         "HappyLifeYears": 54.4
        },
        {
         "AverageLifeExpectancy": 70.8,
         "HappyLifeYears": 23.3
        },
        {
         "AverageLifeExpectancy": 70.9,
         "HappyLifeYears": 34
        },
        {
         "AverageLifeExpectancy": 80.4,
         "HappyLifeYears": 49.5
        },
        {
         "AverageLifeExpectancy": 69.8,
         "HappyLifeYears": 34.2
        },
        {
         "AverageLifeExpectancy": 59.2,
         "HappyLifeYears": 9.9
        },
        {
         "AverageLifeExpectancy": 68.7,
         "HappyLifeYears": 27.4
        },
        {
         "AverageLifeExpectancy": 67.5,
         "HappyLifeYears": 25.6
        },
        {
         "AverageLifeExpectancy": 76.2,
         "HappyLifeYears": 28.6
        },
        {
         "AverageLifeExpectancy": 64.2,
         "HappyLifeYears": 21.3
        },
        {
         "AverageLifeExpectancy": 73.9,
         "HappyLifeYears": 39
        },
        {
         "AverageLifeExpectancy": 73.9,
         "HappyLifeYears": 24
        },
        {
         "AverageLifeExpectancy": 58,
         "HappyLifeYears": 12.6
        },
        {
         "AverageLifeExpectancy": 55.8,
         "HappyLifeYears": 9.5
        },
        {
         "AverageLifeExpectancy": 67.5,
         "HappyLifeYears": 18.2
        },
        {
         "AverageLifeExpectancy": 54.6,
         "HappyLifeYears": 11.6
        },
        {
         "AverageLifeExpectancy": 81.7,
         "HappyLifeYears": 53.9
        },
        {
         "AverageLifeExpectancy": 50.8,
         "HappyLifeYears": 9.6
        },
        {
         "AverageLifeExpectancy": 81.1,
         "HappyLifeYears": 44.7
        },
        {
         "AverageLifeExpectancy": 75.4,
         "HappyLifeYears": 30.6
        },
        {
         "AverageLifeExpectancy": 73.7,
         "HappyLifeYears": 35.1
        },
        {
         "AverageLifeExpectancy": 62.6,
         "HappyLifeYears": 15.4
        },
        {
         "AverageLifeExpectancy": 79.1,
         "HappyLifeYears": 48.2
        },
        {
         "AverageLifeExpectancy": 50.8,
         "HappyLifeYears": 10.3
        },
        {
         "AverageLifeExpectancy": 77,
         "HappyLifeYears": 39.6
        },
        {
         "AverageLifeExpectancy": 79.8,
         "HappyLifeYears": 42.3
        },
        {
         "AverageLifeExpectancy": 78.2,
         "HappyLifeYears": 43.4
        },
        {
         "AverageLifeExpectancy": 79.8,
         "HappyLifeYears": 54.4
        },
        {
         "AverageLifeExpectancy": 61.3,
         "HappyLifeYears": 15.1
        },
        {
         "AverageLifeExpectancy": 73.1,
         "HappyLifeYears": 23.7
        },
        {
         "AverageLifeExpectancy": 75.4,
         "HappyLifeYears": 34.3
        },
        {
         "AverageLifeExpectancy": 70.7,
         "HappyLifeYears": 21.8
        },
        {
         "AverageLifeExpectancy": 72.5,
         "HappyLifeYears": 32.2
        },
        {
         "AverageLifeExpectancy": 76.2,
         "HappyLifeYears": 35
        },
        {
         "AverageLifeExpectancy": 62.8,
         "HappyLifeYears": 17.8
        },
        {
         "AverageLifeExpectancy": 80.4,
         "HappyLifeYears": 54.6
        },
        {
         "AverageLifeExpectancy": 81.8,
         "HappyLifeYears": 48.1
        },
        {
         "AverageLifeExpectancy": 63.3,
         "HappyLifeYears": 15.4
        },
        {
         "AverageLifeExpectancy": 74.6,
         "HappyLifeYears": 24.7
        },
        {
         "AverageLifeExpectancy": 80.6,
         "HappyLifeYears": 48.2
        },
        {
         "AverageLifeExpectancy": 61,
         "HappyLifeYears": 18.8
        },
        {
         "AverageLifeExpectancy": 80.5,
         "HappyLifeYears": 33.3
        },
        {
         "AverageLifeExpectancy": 71.4,
         "HappyLifeYears": 29.6
        },
        {
         "AverageLifeExpectancy": 57.7,
         "HappyLifeYears": 11.8
        },
        {
         "AverageLifeExpectancy": 62.1,
         "HappyLifeYears": 16.5
        },
        {
         "AverageLifeExpectancy": 72.8,
         "HappyLifeYears": 22.1
        },
        {
         "AverageLifeExpectancy": 83.6,
         "HappyLifeYears": 40.1
        },
        {
         "AverageLifeExpectancy": 74.9,
         "HappyLifeYears": 28.7
        },
        {
         "AverageLifeExpectancy": 82.2,
         "HappyLifeYears": 58
        },
        {
         "AverageLifeExpectancy": 67.3,
         "HappyLifeYears": 20.4
        },
        {
         "AverageLifeExpectancy": 68.5,
         "HappyLifeYears": 28.4
        },
        {
         "AverageLifeExpectancy": 74.8,
         "HappyLifeYears": 25.4
        },
        {
         "AverageLifeExpectancy": 69,
         "HappyLifeYears": 22.8
        },
        {
         "AverageLifeExpectancy": 80.5,
         "HappyLifeYears": 50.3
        },
        {
         "AverageLifeExpectancy": 81.9,
         "HappyLifeYears": 52.5
        },
        {
         "AverageLifeExpectancy": 82.7,
         "HappyLifeYears": 41.1
        },
        {
         "AverageLifeExpectancy": 75.3,
         "HappyLifeYears": 31.9
        },
        {
         "AverageLifeExpectancy": 83.2,
         "HappyLifeYears": 44
        },
        {
         "AverageLifeExpectancy": 68.6,
         "HappyLifeYears": 31.7
        },
        {
         "AverageLifeExpectancy": 60.3,
         "HappyLifeYears": 16.2
        },
        {
         "AverageLifeExpectancy": 69.7,
         "HappyLifeYears": 28.7
        },
        {
         "AverageLifeExpectancy": 73.6,
         "HappyLifeYears": 31.2
        },
        {
         "AverageLifeExpectancy": 78.8,
         "HappyLifeYears": 28.2
        },
        {
         "AverageLifeExpectancy": 48.9,
         "HappyLifeYears": 13.4
        },
        {
         "AverageLifeExpectancy": 60.2,
         "HappyLifeYears": 15.7
        },
        {
         "AverageLifeExpectancy": 72.8,
         "HappyLifeYears": 36.4
        },
        {
         "AverageLifeExpectancy": 81.1,
         "HappyLifeYears": 51.7
        },
        {
         "AverageLifeExpectancy": 75.1,
         "HappyLifeYears": 27.2
        },
        {
         "AverageLifeExpectancy": 60.1,
         "HappyLifeYears": 13.7
        },
        {
         "AverageLifeExpectancy": 74.4,
         "HappyLifeYears": 38.3
        },
        {
         "AverageLifeExpectancy": 80.2,
         "HappyLifeYears": 40.8
        },
        {
         "AverageLifeExpectancy": 62.6,
         "HappyLifeYears": 18
        },
        {
         "AverageLifeExpectancy": 74,
         "HappyLifeYears": 33.1
        },
        {
         "AverageLifeExpectancy": 76.4,
         "HappyLifeYears": 44.3
        },
        {
         "AverageLifeExpectancy": 68.6,
         "HappyLifeYears": 25.3
        },
        {
         "AverageLifeExpectancy": 75.8,
         "HappyLifeYears": 32.1
        },
        {
         "AverageLifeExpectancy": 73.4,
         "HappyLifeYears": 26.7
        },
        {
         "AverageLifeExpectancy": 54.3,
         "HappyLifeYears": 15
        },
        {
         "AverageLifeExpectancy": 65.5,
         "HappyLifeYears": 18.8
        },
        {
         "AverageLifeExpectancy": 64,
         "HappyLifeYears": 21.3
        },
        {
         "AverageLifeExpectancy": 68.8,
         "HappyLifeYears": 20.2
        },
        {
         "AverageLifeExpectancy": 81.2,
         "HappyLifeYears": 57
        },
        {
         "AverageLifeExpectancy": 81.4,
         "HappyLifeYears": 52.7
        },
        {
         "AverageLifeExpectancy": 74.3,
         "HappyLifeYears": 29.2
        },
        {
         "AverageLifeExpectancy": 60,
         "HappyLifeYears": 13.1
        },
        {
         "AverageLifeExpectancy": 52.1,
         "HappyLifeYears": 15.5
        },
        {
         "AverageLifeExpectancy": 81.3,
         "HappyLifeYears": 57.1
        },
        {
         "AverageLifeExpectancy": 76.3,
         "HappyLifeYears": 44.5
        },
        {
         "AverageLifeExpectancy": 65.7,
         "HappyLifeYears": 19.5
        },
        {
         "AverageLifeExpectancy": 72.6,
         "HappyLifeYears": 24.5
        },
        {
         "AverageLifeExpectancy": 77.2,
         "HappyLifeYears": 42.1
        },
        {
         "AverageLifeExpectancy": 72.6,
         "HappyLifeYears": 31.8
        },
        {
         "AverageLifeExpectancy": 74.1,
         "HappyLifeYears": 32.9
        },
        {
         "AverageLifeExpectancy": 67.9,
         "HappyLifeYears": 24.1
        },
        {
         "AverageLifeExpectancy": 76.9,
         "HappyLifeYears": 39.2
        },
        {
         "AverageLifeExpectancy": 80.3,
         "HappyLifeYears": 32.3
        },
        {
         "AverageLifeExpectancy": 61,
         "HappyLifeYears": 13.6
        },
        {
         "AverageLifeExpectancy": 74.3,
         "HappyLifeYears": 30.1
        },
        {
         "AverageLifeExpectancy": 69.5,
         "HappyLifeYears": 31.7
        },
        {
         "AverageLifeExpectancy": 63.1,
         "HappyLifeYears": 12.4
        },
        {
         "AverageLifeExpectancy": 65.4,
         "HappyLifeYears": 15.5
        },
        {
         "AverageLifeExpectancy": 74.5,
         "HappyLifeYears": 30.3
        },
        {
         "AverageLifeExpectancy": 49.8,
         "HappyLifeYears": 10.8
        },
        {
         "AverageLifeExpectancy": 75.9,
         "HappyLifeYears": 37.9
        },
        {
         "AverageLifeExpectancy": 80,
         "HappyLifeYears": 42.6
        },
        {
         "AverageLifeExpectancy": 56.3,
         "HappyLifeYears": 18.5
        },
        {
         "AverageLifeExpectancy": 81.3,
         "HappyLifeYears": 42.2
        },
        {
         "AverageLifeExpectancy": 82.2,
         "HappyLifeYears": 45.3
        },
        {
         "AverageLifeExpectancy": 74.6,
         "HappyLifeYears": 24.9
        },
        {
         "AverageLifeExpectancy": 70.8,
         "HappyLifeYears": 35.2
        },
        {
         "AverageLifeExpectancy": 48.9,
         "HappyLifeYears": 13.6
        },
        {
         "AverageLifeExpectancy": 81.8,
         "HappyLifeYears": 57.4
        },
        {
         "AverageLifeExpectancy": 82.6,
         "HappyLifeYears": 59.3
        },
        {
         "AverageLifeExpectancy": 70.4,
         "HappyLifeYears": 14.7
        },
        {
         "AverageLifeExpectancy": 69,
         "HappyLifeYears": 22.2
        },
        {
         "AverageLifeExpectancy": 63.5,
         "HappyLifeYears": 16.2
        },
        {
         "AverageLifeExpectancy": 74.1,
         "HappyLifeYears": 38.6
        },
        {
         "AverageLifeExpectancy": 58.6,
         "HappyLifeYears": 9
        },
        {
         "AverageLifeExpectancy": 70.1,
         "HappyLifeYears": 34.4
        },
        {
         "AverageLifeExpectancy": 74.6,
         "HappyLifeYears": 25.2
        },
        {
         "AverageLifeExpectancy": 74.7,
         "HappyLifeYears": 31.2
        },
        {
         "AverageLifeExpectancy": 65.3,
         "HappyLifeYears": 24
        },
        {
         "AverageLifeExpectancy": 57.1,
         "HappyLifeYears": 13.8
        },
        {
         "AverageLifeExpectancy": 70.3,
         "HappyLifeYears": 28.3
        },
        {
         "AverageLifeExpectancy": 80.4,
         "HappyLifeYears": 49.1
        },
        {
         "AverageLifeExpectancy": 78.8,
         "HappyLifeYears": 46.8
        },
        {
         "AverageLifeExpectancy": 76.9,
         "HappyLifeYears": 39.4
        },
        {
         "AverageLifeExpectancy": 68.2,
         "HappyLifeYears": 27.9
        },
        {
         "AverageLifeExpectancy": 71.3,
         "HappyLifeYears": 34.9
        },
        {
         "AverageLifeExpectancy": 73.9,
         "HappyLifeYears": 41.5
        },
        {
         "AverageLifeExpectancy": 75.5,
         "HappyLifeYears": 32.8
        },
        {
         "AverageLifeExpectancy": 63.3,
         "HappyLifeYears": 15.2
        },
        {
         "AverageLifeExpectancy": 58.4,
         "HappyLifeYears": 16.7
        },
        {
         "AverageLifeExpectancy": 53.7,
         "HappyLifeYears": 16.4
        }
       ]
      },
      "encoding": {
       "x": {
        "field": "AverageLifeExpectancy",
        "scale": {
         "domain": [
          48.9,
          83.6
         ]
        },
        "type": "quantitative"
       },
       "y": {
        "field": "HappyLifeYears",
        "scale": {
         "domain": [
          9,
          59.3
         ]
        },
        "type": "quantitative"
       }
      },
      "height": 150,
      "mark": "circle",
      "selection": {
       "selector009": {
        "bind": "scales",
        "encodings": [
         "x",
         "y"
        ],
        "type": "interval"
       }
      },
      "width": 160
     }
    },
    "time": "2020-07-12T10:14:13.222Z",
    "type": "unclickVis"
   },
   {
    "param": "Correlation",
    "time": "2020-07-12T10:14:13.669Z",
    "type": "startScroll"
   },
   {
    "param": "Correlation",
    "time": "2020-07-12T10:14:14.380Z",
    "type": "stopScroll"
   },
   {
    "param": "Correlation",
    "time": "2020-07-12T10:14:14.417Z",
    "type": "startScroll"
   },
   {
    "param": "Correlation",
    "time": "2020-07-12T10:14:14.913Z",
    "type": "stopScroll"
   },
   {
    "code": "df = pd.read_csv(\"lux/data/hpi.csv\")\ndf",
    "id": "12a1be56c9ae4abab0a1f946bd40bc68",
    "order_count": 3,
    "time": "2020-07-12T10:14:15.703Z",
    "type": "selectCodeCell"
   },
   {
    "param": {
     "index": 10,
     "tabTitle": "Correlation",
     "vis": {
      "$schema": "https://vega.github.io/schema/vega-lite/v4.8.1.json",
      "config": {
       "mark": {
        "tooltip": {
         "content": "encoding"
        }
       },
       "view": {
        "continuousHeight": 300,
        "continuousWidth": 400
       }
      },
      "data": {
       "name": "data-cffbaddba8d2091d19631c8240894572"
      },
      "datasets": {
       "data-cffbaddba8d2091d19631c8240894572": [
        {
         "Footprint": 0.8,
         "GDPPerCapita": 691
        },
        {
         "Footprint": 2.2,
         "GDPPerCapita": 4247
        },
        {
         "Footprint": 2.1,
         "GDPPerCapita": 5584
        },
        {
         "Footprint": 3.1,
         "GDPPerCapita": 14357
        },
        {
         "Footprint": 2.2,
         "GDPPerCapita": 3566
        },
        {
         "Footprint": 9.3,
         "GDPPerCapita": 67646
        },
        {
         "Footprint": 6.1,
         "GDPPerCapita": 48324
        },
        {
         "Footprint": 0.7,
         "GDPPerCapita": 859
        },
        {
         "Footprint": 5.1,
         "GDPPerCapita": 6722
        },
        {
         "Footprint": 7.4,
         "GDPPerCapita": 44731
        },
        {
         "Footprint": 2.5,
         "GDPPerCapita": 4674
        },
        {
         "Footprint": 1.4,
         "GDPPerCapita": 808
        },
        {
         "Footprint": 2.3,
         "GDPPerCapita": 2452
        },
        {
         "Footprint": 3,
         "GDPPerCapita": 2645
        },
        {
         "Footprint": 3.1,
         "GDPPerCapita": 4495
        },
        {
         "Footprint": 3.8,
         "GDPPerCapita": 6936
        },
        {
         "Footprint": 3.1,
         "GDPPerCapita": 12157
        },
        {
         "Footprint": 3.3,
         "GDPPerCapita": 7333
        },
        {
         "Footprint": 1.2,
         "GDPPerCapita": 673
        },
        {
         "Footprint": 0.8,
         "GDPPerCapita": 244
        },
        {
         "Footprint": 1.2,
         "GDPPerCapita": 946
        },
        {
         "Footprint": 1.2,
         "GDPPerCapita": 1222
        },
        {
         "Footprint": 8.2,
         "GDPPerCapita": 52738
        },
        {
         "Footprint": 1.5,
         "GDPPerCapita": 973
        },
        {
         "Footprint": 4.4,
         "GDPPerCapita": 15253
        },
        {
         "Footprint": 3.4,
         "GDPPerCapita": 6265
        },
        {
         "Footprint": 1.9,
         "GDPPerCapita": 7885
        },
        {
         "Footprint": 1,
         "GDPPerCapita": 750
        },
        {
         "Footprint": 2.8,
         "GDPPerCapita": 9733
        },
        {
         "Footprint": 1.3,
         "GDPPerCapita": 1281
        },
        {
         "Footprint": 3.9,
         "GDPPerCapita": 13236
        },
        {
         "Footprint": 4.2,
         "GDPPerCapita": 28868
        },
        {
         "Footprint": 5.2,
         "GDPPerCapita": 19641
        },
        {
         "Footprint": 5.5,
         "GDPPerCapita": 57636
        },
        {
         "Footprint": 2.2,
         "GDPPerCapita": 1587
        },
        {
         "Footprint": 1.5,
         "GDPPerCapita": 5967
        },
        {
         "Footprint": 2.2,
         "GDPPerCapita": 5702
        },
        {
         "Footprint": 2.2,
         "GDPPerCapita": 3226
        },
        {
         "Footprint": 2.1,
         "GDPPerCapita": 3922
        },
        {
         "Footprint": 6.9,
         "GDPPerCapita": 17491
        },
        {
         "Footprint": 1,
         "GDPPerCapita": 470
        },
        {
         "Footprint": 5.9,
         "GDPPerCapita": 47416
        },
        {
         "Footprint": 5.1,
         "GDPPerCapita": 40850
        },
        {
         "Footprint": 2,
         "GDPPerCapita": 10642
        },
        {
         "Footprint": 1.6,
         "GDPPerCapita": 4143
        },
        {
         "Footprint": 5.3,
         "GDPPerCapita": 44011
        },
        {
         "Footprint": 2,
         "GDPPerCapita": 1642
        },
        {
         "Footprint": 4.4,
         "GDPPerCapita": 22243
        },
        {
         "Footprint": 1.9,
         "GDPPerCapita": 3279
        },
        {
         "Footprint": 1.4,
         "GDPPerCapita": 487
        },
        {
         "Footprint": 0.6,
         "GDPPerCapita": 767
        },
        {
         "Footprint": 1.7,
         "GDPPerCapita": 2395
        },
        {
         "Footprint": 8.8,
         "GDPPerCapita": 36708
        },
        {
         "Footprint": 2.9,
         "GDPPerCapita": 12820
        },
        {
         "Footprint": 6.4,
         "GDPPerCapita": 44259
        },
        {
         "Footprint": 1.2,
         "GDPPerCapita": 1450
        },
        {
         "Footprint": 1.6,
         "GDPPerCapita": 3701
        },
        {
         "Footprint": 2.8,
         "GDPPerCapita": 7711
        },
        {
         "Footprint": 1.9,
         "GDPPerCapita": 6649
        },
        {
         "Footprint": 5.6,
         "GDPPerCapita": 48977
        },
        {
         "Footprint": 6.2,
         "GDPPerCapita": 32819
        },
        {
         "Footprint": 4.6,
         "GDPPerCapita": 34844
        },
        {
         "Footprint": 1.9,
         "GDPPerCapita": 5446
        },
        {
         "Footprint": 5,
         "GDPPerCapita": 46679
        },
        {
         "Footprint": 5.6,
         "GDPPerCapita": 12120
        },
        {
         "Footprint": 1,
         "GDPPerCapita": 1185
        },
        {
         "Footprint": 1.9,
         "GDPPerCapita": 1178
        },
        {
         "Footprint": 6.3,
         "GDPPerCapita": 13775
        },
        {
         "Footprint": 3.8,
         "GDPPerCapita": 9729
        },
        {
         "Footprint": 1.7,
         "GDPPerCapita": 1159
        },
        {
         "Footprint": 1.2,
         "GDPPerCapita": 414
        },
        {
         "Footprint": 5.8,
         "GDPPerCapita": 14343
        },
        {
         "Footprint": 15.8,
         "GDPPerCapita": 105447
        },
        {
         "Footprint": 3.3,
         "GDPPerCapita": 4710
        },
        {
         "Footprint": 0.8,
         "GDPPerCapita": 270
        },
        {
         "Footprint": 3.7,
         "GDPPerCapita": 10835
        },
        {
         "Footprint": 4.4,
         "GDPPerCapita": 21176
        },
        {
         "Footprint": 2.5,
         "GDPPerCapita": 1283
        },
        {
         "Footprint": 3.5,
         "GDPPerCapita": 9114
        },
        {
         "Footprint": 2.9,
         "GDPPerCapita": 9703
        },
        {
         "Footprint": 6.1,
         "GDPPerCapita": 4377
        },
        {
         "Footprint": 3.8,
         "GDPPerCapita": 6587
        },
        {
         "Footprint": 1.7,
         "GDPPerCapita": 2931
        },
        {
         "Footprint": 0.9,
         "GDPPerCapita": 565
        },
        {
         "Footprint": 1.4,
         "GDPPerCapita": 1421
        },
        {
         "Footprint": 2.5,
         "GDPPerCapita": 5680
        },
        {
         "Footprint": 1,
         "GDPPerCapita": 685
        },
        {
         "Footprint": 5.3,
         "GDPPerCapita": 49475
        },
        {
         "Footprint": 5.6,
         "GDPPerCapita": 39505
        },
        {
         "Footprint": 1.4,
         "GDPPerCapita": 1780
        },
        {
         "Footprint": 1.6,
         "GDPPerCapita": 394
        },
        {
         "Footprint": 1.2,
         "GDPPerCapita": 2740
        },
        {
         "Footprint": 5,
         "GDPPerCapita": 101564
        },
        {
         "Footprint": 7.5,
         "GDPPerCapita": 21534
        },
        {
         "Footprint": 0.8,
         "GDPPerCapita": 1266
        },
        {
         "Footprint": 1.2,
         "GDPPerCapita": 2783
        },
        {
         "Footprint": 2.8,
         "GDPPerCapita": 10139
        },
        {
         "Footprint": 4.2,
         "GDPPerCapita": 3858
        },
        {
         "Footprint": 2.3,
         "GDPPerCapita": 6389
        },
        {
         "Footprint": 1.1,
         "GDPPerCapita": 2605
        },
        {
         "Footprint": 4.4,
         "GDPPerCapita": 13142
        },
        {
         "Footprint": 3.9,
         "GDPPerCapita": 20577
        },
        {
         "Footprint": 1.3,
         "GDPPerCapita": 3191
        },
        {
         "Footprint": 2.7,
         "GDPPerCapita": 8577
        },
        {
         "Footprint": 5.7,
         "GDPPerCapita": 14079
        },
        {
         "Footprint": 0.9,
         "GDPPerCapita": 667
        },
        {
         "Footprint": 1.2,
         "GDPPerCapita": 1019
        },
        {
         "Footprint": 2.7,
         "GDPPerCapita": 5659
        },
        {
         "Footprint": 1.2,
         "GDPPerCapita": 619
        },
        {
         "Footprint": 4.1,
         "GDPPerCapita": 17207
        },
        {
         "Footprint": 5.8,
         "GDPPerCapita": 22478
        },
        {
         "Footprint": 3.3,
         "GDPPerCapita": 7592
        },
        {
         "Footprint": 5.7,
         "GDPPerCapita": 24454
        },
        {
         "Footprint": 3.7,
         "GDPPerCapita": 28648
        },
        {
         "Footprint": 1.3,
         "GDPPerCapita": 3351
        },
        {
         "Footprint": 4.3,
         "GDPPerCapita": 9422
        },
        {
         "Footprint": 2,
         "GDPPerCapita": 3989
        },
        {
         "Footprint": 7.3,
         "GDPPerCapita": 57134
        },
        {
         "Footprint": 5.8,
         "GDPPerCapita": 83209
        },
        {
         "Footprint": 1.5,
         "GDPPerCapita": 2080
        },
        {
         "Footprint": 0.9,
         "GDPPerCapita": 962
        },
        {
         "Footprint": 1.3,
         "GDPPerCapita": 828
        },
        {
         "Footprint": 2.7,
         "GDPPerCapita": 5918
        },
        {
         "Footprint": 1.1,
         "GDPPerCapita": 580
        },
        {
         "Footprint": 7.9,
         "GDPPerCapita": 18322
        },
        {
         "Footprint": 2.3,
         "GDPPerCapita": 4188
        },
        {
         "Footprint": 3.3,
         "GDPPerCapita": 10646
        },
        {
         "Footprint": 5.5,
         "GDPPerCapita": 6798
        },
        {
         "Footprint": 1.2,
         "GDPPerCapita": 656
        },
        {
         "Footprint": 2.8,
         "GDPPerCapita": 3855
        },
        {
         "Footprint": 4.9,
         "GDPPerCapita": 41295
        },
        {
         "Footprint": 8.2,
         "GDPPerCapita": 51457
        },
        {
         "Footprint": 2.9,
         "GDPPerCapita": 15128
        },
        {
         "Footprint": 2.3,
         "GDPPerCapita": 1719
        },
        {
         "Footprint": 1.9,
         "GDPPerCapita": 3158
        },
        {
         "Footprint": 3.6,
         "GDPPerCapita": 12772
        },
        {
         "Footprint": 1.7,
         "GDPPerCapita": 1755
        },
        {
         "Footprint": 1,
         "GDPPerCapita": 1289
        },
        {
         "Footprint": 1,
         "GDPPerCapita": 1687
        },
        {
         "Footprint": 1.4,
         "GDPPerCapita": 851
        }
       ]
      },
      "encoding": {
       "x": {
        "field": "Footprint",
        "scale": {
         "domain": [
          0.6,
          15.8
         ]
        },
        "type": "quantitative"
       },
       "y": {
        "field": "GDPPerCapita",
        "scale": {
         "domain": [
          244,
          105447
         ]
        },
        "type": "quantitative"
       }
      },
      "height": 150,
      "mark": "circle",
      "selection": {
       "selector011": {
        "bind": "scales",
        "encodings": [
         "x",
         "y"
        ],
        "type": "interval"
       }
      },
      "width": 160
     }
    },
    "time": "2020-07-12T10:14:15.705Z",
    "type": "clickVis"
   },
   {
    "code": "df = pd.read_csv(\"lux/data/hpi.csv\")\ndf",
    "id": "12a1be56c9ae4abab0a1f946bd40bc68",
    "order_count": 3,
    "time": "2020-07-12T10:14:17.691Z",
    "type": "selectCodeCell"
   },
   {
    "param": {
     "Correlation": [
      10,
      8,
      6
     ]
    },
    "time": "2020-07-12T10:14:17.693Z",
    "type": "exportBtnClick"
   },
   {
    "code": "The visualization showing the relationship between `GDPPerCapita` and `Footprint` is very interesting. We find that there is an outlier with extremely high ecological footprint as well as ",
    "id": "8843bb0f9ad94e6e8033f5a4ed028d97",
    "order_count": 5,
    "time": "2020-07-12T10:14:19.619Z",
    "type": "selectCodeCell"
   },
   {
    "code": "The visualization showing the relationship between `GDPPerCapita` and `Footprint` is very interesting. We find that there is an outlier with extremely high ecological footprint as well as ",
    "id": "8843bb0f9ad94e6e8033f5a4ed028d97",
    "order_count": 5,
    "time": "2020-07-12T10:14:19.625Z",
    "type": "editCodeCell"
   },
   {
    "code": "The visualization showing the relationship between `GDPPerCapita` and `Footprint` is very interesting. We find that there is an outlier with extremely high ecological footprint as well as ",
    "id": "668eb7fb960e451eb57c681baf3de28f",
    "order_count": 4,
    "time": "2020-07-12T10:14:22.848Z",
    "type": "selectMarkdownCell"
   },
   {
    "code": "The visualization showing the relationship between `GDPPerCapita` and `Footprint` is very interesting. We find that there is an outlier with extremely high ecological footprint as well as ",
    "id": "668eb7fb960e451eb57c681baf3de28f",
    "order_count": 4,
    "time": "2020-07-12T10:14:25.402Z",
    "type": "editMarkdownCell"
   },
   {
    "code": "The visualization showing the relationship between `GDPPerCapita` and `Footprint` is very interesting. We find that there is an outlier with extremely high ecological footprint as well as ",
    "id": "668eb7fb960e451eb57c681baf3de28f",
    "order_count": 4,
    "time": "2020-07-12T10:14:25.590Z",
    "type": "selectMarkdownCell"
   },
   {
    "param": "Correlation",
    "time": "2020-07-12T10:14:29.735Z",
    "type": "startScroll"
   },
   {
    "param": "Correlation",
    "time": "2020-07-12T10:14:30.599Z",
    "type": "stopScroll"
   },
   {
    "param": "Correlation",
    "time": "2020-07-12T10:14:30.783Z",
    "type": "startScroll"
   },
   {
    "param": "Correlation",
    "time": "2020-07-12T10:14:30.896Z",
    "type": "stopScroll"
   },
   {
    "param": "Correlation",
    "time": "2020-07-12T10:14:30.918Z",
    "type": "startScroll"
   },
   {
    "param": "Correlation",
    "time": "2020-07-12T10:14:30.980Z",
    "type": "stopScroll"
   },
   {
    "param": "Correlation",
    "time": "2020-07-12T10:14:31.101Z",
    "type": "startScroll"
   },
   {
    "param": "Correlation",
    "time": "2020-07-12T10:14:31.781Z",
    "type": "stopScroll"
   },
   {
    "param": "Correlation",
    "time": "2020-07-12T10:14:32.017Z",
    "type": "startScroll"
   },
   {
    "param": "Correlation",
    "time": "2020-07-12T10:14:32.899Z",
    "type": "stopScroll"
   },
   {
    "param": "Correlation",
    "time": "2020-07-12T10:14:33.018Z",
    "type": "startScroll"
   },
   {
    "param": "Correlation",
    "time": "2020-07-12T10:14:33.879Z",
    "type": "stopScroll"
   },
   {
    "code": "df.set_context_as_view",
    "id": "e08b5df7007549379d93828434e743b1",
    "order_count": 5,
    "time": "2020-07-12T10:15:09.274Z",
    "type": "selectCodeCell"
   },
   {
    "code": "The visualization showing the relationship between `GDPPerCapita` and `Footprint` is very interesting. We find that there is an outlier with extremely high ecological footprint as well as high GDP per capita. So we click on this visualization and click on the export button.",
    "id": "668eb7fb960e451eb57c681baf3de28f",
    "order_count": 4,
    "time": "2020-07-12T10:15:10.971Z",
    "type": "selectMarkdownCell"
   },
   {
    "code": "df.set_context_as_view",
    "id": "e08b5df7007549379d93828434e743b1",
    "order_count": 5,
    "time": "2020-07-12T10:15:15.429Z",
    "type": "selectCodeCell"
   },
   {
    "code": "df.set_context_as_view",
    "id": "e08b5df7007549379d93828434e743b1",
    "order_count": 5,
    "time": "2020-07-12T10:15:15.433Z",
    "type": "editCodeCell"
   },
   {
    "code": "df.set_context_as_view()",
    "id": "e08b5df7007549379d93828434e743b1",
    "order_count": 5,
    "time": "2020-07-12T10:15:18.143Z",
    "type": "selectCodeCell"
   },
   {
    "code": "",
    "id": "186e1ccd2ef446cfac8da8d98b1a122c",
    "order_count": 5,
    "time": "2020-07-12T10:15:18.314Z",
    "type": "selectCodeCell"
   },
   {
    "code": "",
    "id": "186e1ccd2ef446cfac8da8d98b1a122c",
    "order_count": 5,
    "time": "2020-07-12T10:15:18.473Z",
    "type": "editCodeCell"
   },
   {
    "time": "2020-07-12T10:15:32.148Z",
    "type": "kernelReady"
   },
   {
    "code": "view = df.get_exported()",
    "id": "186e1ccd2ef446cfac8da8d98b1a122c",
    "order_count": 5,
    "time": "2020-07-12T13:20:39.317Z",
    "type": "editCodeCell"
   },
   {
    "code": "view = df.get_exported()",
    "id": "186e1ccd2ef446cfac8da8d98b1a122c",
    "order_count": 5,
    "time": "2020-07-12T13:20:43.921Z",
    "type": "selectCodeCell"
   },
   {
    "code": "view = df.get_exported()[0]",
    "id": "186e1ccd2ef446cfac8da8d98b1a122c",
    "order_count": 5,
    "time": "2020-07-12T13:21:32.500Z",
    "type": "executeCodeCell"
   },
   {
    "code": "df.set_context_as_view()",
    "id": "e08b5df7007549379d93828434e743b1",
    "order_count": 6,
    "time": "2020-07-12T13:21:32.523Z",
    "type": "selectCodeCell"
   },
   {
    "id": "186e1ccd2ef446cfac8da8d98b1a122c",
    "isPrintLuxDf": false,
    "isPrintPandasDf": false,
    "isPrintView": false,
    "isPrintViewCollection": false,
    "time": "2020-07-12T13:21:32.593Z",
    "type": "completeCodeCell"
   },
   {
    "code": "",
    "id": "841f21f8eeb74df8b5d801d60a8acd94",
    "order_count": 6,
    "time": "2020-07-12T13:21:33.309Z",
    "type": "selectCodeCell"
   },
   {
    "code": "",
    "id": "841f21f8eeb74df8b5d801d60a8acd94",
    "order_count": 6,
    "time": "2020-07-12T13:21:33.380Z",
    "type": "editCodeCell"
   },
   {
    "code": "view",
    "id": "841f21f8eeb74df8b5d801d60a8acd94",
    "order_count": 6,
    "time": "2020-07-12T13:21:34.478Z",
    "type": "executeCodeCell"
   },
   {
    "code": "df.set_context_as_view()",
    "id": "e08b5df7007549379d93828434e743b1",
    "order_count": 7,
    "time": "2020-07-12T13:21:34.500Z",
    "type": "selectCodeCell"
   },
   {
    "id": "841f21f8eeb74df8b5d801d60a8acd94",
    "isPrintLuxDf": false,
    "isPrintPandasDf": false,
    "isPrintView": true,
    "isPrintViewCollection": false,
    "time": "2020-07-12T13:21:34.598Z",
    "type": "completeCodeCell"
   },
   {
    "param": "",
    "time": "2020-07-12T13:21:34.609Z",
    "type": "initWidget"
   },
   {
    "code": "view = df.get_exported()[0]",
    "id": "186e1ccd2ef446cfac8da8d98b1a122c",
    "order_count": 5,
    "time": "2020-07-12T13:21:36.197Z",
    "type": "selectCodeCell"
   },
   {
    "code": "view = df.get_exported()[0]",
    "id": "186e1ccd2ef446cfac8da8d98b1a122c",
    "order_count": 5,
    "time": "2020-07-12T13:21:36.202Z",
    "type": "editCodeCell"
   },
   {
    "code": "view = df.get_exported()[0]",
    "id": "186e1ccd2ef446cfac8da8d98b1a122c",
    "order_count": 5,
    "time": "2020-07-12T13:21:36.367Z",
    "type": "selectCodeCell"
   },
   {
    "code": "view",
    "id": "841f21f8eeb74df8b5d801d60a8acd94",
    "order_count": null,
    "time": "2020-07-12T13:21:39.507Z",
    "type": "deleteCodeCell"
   },
   {
    "code": "view = df.get_exported()[0]\n\nview",
    "id": "186e1ccd2ef446cfac8da8d98b1a122c",
    "order_count": 5,
    "time": "2020-07-12T13:21:39.887Z",
    "type": "editCodeCell"
   },
   {
    "code": "The visualization showing the relationship between `GDPPerCapita` and `Footprint` is very interesting. We find that there is an outlier with extremely high ecological footprint as well as high GDP per capita. So we click on this visualization and click on the export button.",
    "id": "668eb7fb960e451eb57c681baf3de28f",
    "order_count": 4,
    "time": "2020-07-12T13:21:40.586Z",
    "type": "editMarkdownCell"
   },
   {
    "code": "view = df.get_exported()[0]\n\nview",
    "id": "186e1ccd2ef446cfac8da8d98b1a122c",
    "order_count": 5,
    "time": "2020-07-12T13:21:41.570Z",
    "type": "selectCodeCell"
   },
   {
    "code": "view = df.get_exported()[0]\n\nview",
    "id": "186e1ccd2ef446cfac8da8d98b1a122c",
    "order_count": 5,
    "time": "2020-07-12T13:21:42.040Z",
    "type": "editCodeCell"
   },
   {
    "code": "view = df.get_exported()[0]\nview",
    "id": "186e1ccd2ef446cfac8da8d98b1a122c",
    "order_count": 5,
    "time": "2020-07-12T13:21:43.341Z",
    "type": "executeCodeCell"
   },
   {
    "code": "df.set_context_as_view()",
    "id": "e08b5df7007549379d93828434e743b1",
    "order_count": 6,
    "time": "2020-07-12T13:21:43.365Z",
    "type": "selectCodeCell"
   },
   {
    "id": "186e1ccd2ef446cfac8da8d98b1a122c",
    "isPrintLuxDf": false,
    "isPrintPandasDf": false,
    "isPrintView": true,
    "isPrintViewCollection": false,
    "time": "2020-07-12T13:21:43.384Z",
    "type": "completeCodeCell"
   },
   {
    "param": "",
    "time": "2020-07-12T13:21:43.391Z",
    "type": "initWidget"
   },
   {
    "code": "df.set_context_as_view()",
    "id": "e08b5df7007549379d93828434e743b1",
    "order_count": 6,
    "time": "2020-07-12T13:21:47.203Z",
    "type": "editCodeCell"
   },
   {
    "code": "df.set_context_as_view()",
    "id": "e08b5df7007549379d93828434e743b1",
    "order_count": 6,
    "time": "2020-07-12T13:21:47.336Z",
    "type": "selectCodeCell"
   },
   {
    "param": "Correlation",
    "time": "2020-07-12T13:22:07.411Z",
    "type": "startScroll"
   },
   {
    "param": "Correlation",
    "time": "2020-07-12T13:22:08.373Z",
    "type": "stopScroll"
   },
   {
    "param": "Correlation",
    "time": "2020-07-12T13:22:09.877Z",
    "type": "startScroll"
   },
   {
    "param": "Correlation",
    "time": "2020-07-12T13:22:10.826Z",
    "type": "stopScroll"
   },
   {
    "param": "Correlation",
    "time": "2020-07-12T13:22:10.844Z",
    "type": "startScroll"
   },
   {
    "param": "Correlation",
    "time": "2020-07-12T13:22:11.891Z",
    "type": "stopScroll"
   },
   {
    "param": "Correlation",
    "time": "2020-07-12T13:22:13.528Z",
    "type": "startScroll"
   },
   {
    "param": "Correlation",
    "time": "2020-07-12T13:22:13.875Z",
    "type": "stopScroll"
   },
   {
    "code": "view = df.get_exported()[0]\nview",
    "id": "186e1ccd2ef446cfac8da8d98b1a122c",
    "order_count": 5,
    "time": "2020-07-12T13:22:18.944Z",
    "type": "selectCodeCell"
   },
   {
    "code": "view = df.get_exported()[0]\nview",
    "id": "186e1ccd2ef446cfac8da8d98b1a122c",
    "order_count": 5,
    "time": "2020-07-12T13:22:18.948Z",
    "type": "editCodeCell"
   },
   {
    "code": "view = df.get_exported()[0]\nview",
    "id": "186e1ccd2ef446cfac8da8d98b1a122c",
    "order_count": 5,
    "time": "2020-07-12T13:22:42.497Z",
    "type": "editCodeCell"
   },
   {
    "code": "df.set_context_as_view(view)",
    "id": "e08b5df7007549379d93828434e743b1",
    "order_count": 6,
    "time": "2020-07-12T13:22:42.917Z",
    "type": "selectCodeCell"
   },
   {
    "code": "df.set_context_as_view(view)",
    "id": "e08b5df7007549379d93828434e743b1",
    "order_count": 6,
    "time": "2020-07-12T13:22:42.922Z",
    "type": "editCodeCell"
   },
   {
    "code": "df.set_context_as_view(view)",
    "id": "e08b5df7007549379d93828434e743b1",
    "order_count": 6,
    "time": "2020-07-12T13:22:43.465Z",
    "type": "executeCodeCell"
   },
   {
    "code": "Accessing program state: \n\t- df.recommendation\n\t- df.viewCollection\n- df.",
    "id": "62f39efb6def4ff28a9fed53c57dd1ed",
    "order_count": 7,
    "time": "2020-07-12T13:22:43.498Z",
    "type": "selectCodeCell"
   },
   {
    "id": "e08b5df7007549379d93828434e743b1",
    "isPrintLuxDf": false,
    "isPrintPandasDf": false,
    "isPrintView": false,
    "isPrintViewCollection": false,
    "time": "2020-07-12T13:22:43.506Z",
    "type": "completeCodeCell"
   },
   {
    "code": "view = df.get_exported()[0]\nview",
    "id": "186e1ccd2ef446cfac8da8d98b1a122c",
    "order_count": 5,
    "time": "2020-07-12T13:23:06.634Z",
    "type": "selectCodeCell"
   },
   {
    "code": "df = pd.read_csv(\"lux/data/hpi.csv\")\ndf",
    "id": "12a1be56c9ae4abab0a1f946bd40bc68",
    "order_count": 3,
    "time": "2020-07-12T13:23:08.782Z",
    "type": "selectCodeCell"
   },
   {
    "code": "The visualization showing the relationship between `GDPPerCapita` and `Footprint` is very interesting. We find that there is an outlier with extremely high ecological footprint as well as high GDP per capita. So we click on this visualization and click on the export button.",
    "id": "668eb7fb960e451eb57c681baf3de28f",
    "order_count": 4,
    "time": "2020-07-12T13:23:09.891Z",
    "type": "selectMarkdownCell"
   },
   {
    "code": "df = pd.read_csv(\"lux/data/hpi.csv\")\ndf",
    "id": "12a1be56c9ae4abab0a1f946bd40bc68",
    "order_count": 3,
    "time": "2020-07-12T13:23:26.478Z",
    "type": "selectCodeCell"
   },
   {
    "param": {
     "index": 8,
     "tabTitle": "Correlation",
     "vis": {
      "$schema": "https://vega.github.io/schema/vega-lite/v4.8.1.json",
      "config": {
       "mark": {
        "tooltip": {
         "content": "encoding"
        }
       },
       "view": {
        "continuousHeight": 300,
        "continuousWidth": 400
       }
      },
      "data": {
       "name": "data-caaf6d5fc76c9da699cf4af72176cd09"
      },
      "datasets": {
       "data-caaf6d5fc76c9da699cf4af72176cd09": [
        {
         "AverageLifeExpectancy": 59.7,
         "HappyLifeYears": 12.4
        },
        {
         "AverageLifeExpectancy": 77.3,
         "HappyLifeYears": 34.4
        },
        {
         "AverageLifeExpectancy": 74.3,
         "HappyLifeYears": 30.5
        },
        {
         "AverageLifeExpectancy": 75.9,
         "HappyLifeYears": 40.2
        },
        {
         "AverageLifeExpectancy": 74.4,
         "HappyLifeYears": 24
        },
        {
         "AverageLifeExpectancy": 82.1,
         "HappyLifeYears": 53.1
        },
        {
         "AverageLifeExpectancy": 81,
         "HappyLifeYears": 54.4
        },
        {
         "AverageLifeExpectancy": 70.8,
         "HappyLifeYears": 23.3
        },
        {
         "AverageLifeExpectancy": 70.9,
         "HappyLifeYears": 34
        },
        {
         "AverageLifeExpectancy": 80.4,
         "HappyLifeYears": 49.5
        },
        {
         "AverageLifeExpectancy": 69.8,
         "HappyLifeYears": 34.2
        },
        {
         "AverageLifeExpectancy": 59.2,
         "HappyLifeYears": 9.9
        },
        {
         "AverageLifeExpectancy": 68.7,
         "HappyLifeYears": 27.4
        },
        {
         "AverageLifeExpectancy": 67.5,
         "HappyLifeYears": 25.6
        },
        {
         "AverageLifeExpectancy": 76.2,
         "HappyLifeYears": 28.6
        },
        {
         "AverageLifeExpectancy": 64.2,
         "HappyLifeYears": 21.3
        },
        {
         "AverageLifeExpectancy": 73.9,
         "HappyLifeYears": 39
        },
        {
         "AverageLifeExpectancy": 73.9,
         "HappyLifeYears": 24
        },
        {
         "AverageLifeExpectancy": 58,
         "HappyLifeYears": 12.6
        },
        {
         "AverageLifeExpectancy": 55.8,
         "HappyLifeYears": 9.5
        },
        {
         "AverageLifeExpectancy": 67.5,
         "HappyLifeYears": 18.2
        },
        {
         "AverageLifeExpectancy": 54.6,
         "HappyLifeYears": 11.6
        },
        {
         "AverageLifeExpectancy": 81.7,
         "HappyLifeYears": 53.9
        },
        {
         "AverageLifeExpectancy": 50.8,
         "HappyLifeYears": 9.6
        },
        {
         "AverageLifeExpectancy": 81.1,
         "HappyLifeYears": 44.7
        },
        {
         "AverageLifeExpectancy": 75.4,
         "HappyLifeYears": 30.6
        },
        {
         "AverageLifeExpectancy": 73.7,
         "HappyLifeYears": 35.1
        },
        {
         "AverageLifeExpectancy": 62.6,
         "HappyLifeYears": 15.4
        },
        {
         "AverageLifeExpectancy": 79.1,
         "HappyLifeYears": 48.2
        },
        {
         "AverageLifeExpectancy": 50.8,
         "HappyLifeYears": 10.3
        },
        {
         "AverageLifeExpectancy": 77,
         "HappyLifeYears": 39.6
        },
        {
         "AverageLifeExpectancy": 79.8,
         "HappyLifeYears": 42.3
        },
        {
         "AverageLifeExpectancy": 78.2,
         "HappyLifeYears": 43.4
        },
        {
         "AverageLifeExpectancy": 79.8,
         "HappyLifeYears": 54.4
        },
        {
         "AverageLifeExpectancy": 61.3,
         "HappyLifeYears": 15.1
        },
        {
         "AverageLifeExpectancy": 73.1,
         "HappyLifeYears": 23.7
        },
        {
         "AverageLifeExpectancy": 75.4,
         "HappyLifeYears": 34.3
        },
        {
         "AverageLifeExpectancy": 70.7,
         "HappyLifeYears": 21.8
        },
        {
         "AverageLifeExpectancy": 72.5,
         "HappyLifeYears": 32.2
        },
        {
         "AverageLifeExpectancy": 76.2,
         "HappyLifeYears": 35
        },
        {
         "AverageLifeExpectancy": 62.8,
         "HappyLifeYears": 17.8
        },
        {
         "AverageLifeExpectancy": 80.4,
         "HappyLifeYears": 54.6
        },
        {
         "AverageLifeExpectancy": 81.8,
         "HappyLifeYears": 48.1
        },
        {
         "AverageLifeExpectancy": 63.3,
         "HappyLifeYears": 15.4
        },
        {
         "AverageLifeExpectancy": 74.6,
         "HappyLifeYears": 24.7
        },
        {
         "AverageLifeExpectancy": 80.6,
         "HappyLifeYears": 48.2
        },
        {
         "AverageLifeExpectancy": 61,
         "HappyLifeYears": 18.8
        },
        {
         "AverageLifeExpectancy": 80.5,
         "HappyLifeYears": 33.3
        },
        {
         "AverageLifeExpectancy": 71.4,
         "HappyLifeYears": 29.6
        },
        {
         "AverageLifeExpectancy": 57.7,
         "HappyLifeYears": 11.8
        },
        {
         "AverageLifeExpectancy": 62.1,
         "HappyLifeYears": 16.5
        },
        {
         "AverageLifeExpectancy": 72.8,
         "HappyLifeYears": 22.1
        },
        {
         "AverageLifeExpectancy": 83.6,
         "HappyLifeYears": 40.1
        },
        {
         "AverageLifeExpectancy": 74.9,
         "HappyLifeYears": 28.7
        },
        {
         "AverageLifeExpectancy": 82.2,
         "HappyLifeYears": 58
        },
        {
         "AverageLifeExpectancy": 67.3,
         "HappyLifeYears": 20.4
        },
        {
         "AverageLifeExpectancy": 68.5,
         "HappyLifeYears": 28.4
        },
        {
         "AverageLifeExpectancy": 74.8,
         "HappyLifeYears": 25.4
        },
        {
         "AverageLifeExpectancy": 69,
         "HappyLifeYears": 22.8
        },
        {
         "AverageLifeExpectancy": 80.5,
         "HappyLifeYears": 50.3
        },
        {
         "AverageLifeExpectancy": 81.9,
         "HappyLifeYears": 52.5
        },
        {
         "AverageLifeExpectancy": 82.7,
         "HappyLifeYears": 41.1
        },
        {
         "AverageLifeExpectancy": 75.3,
         "HappyLifeYears": 31.9
        },
        {
         "AverageLifeExpectancy": 83.2,
         "HappyLifeYears": 44
        },
        {
         "AverageLifeExpectancy": 68.6,
         "HappyLifeYears": 31.7
        },
        {
         "AverageLifeExpectancy": 60.3,
         "HappyLifeYears": 16.2
        },
        {
         "AverageLifeExpectancy": 69.7,
         "HappyLifeYears": 28.7
        },
        {
         "AverageLifeExpectancy": 73.6,
         "HappyLifeYears": 31.2
        },
        {
         "AverageLifeExpectancy": 78.8,
         "HappyLifeYears": 28.2
        },
        {
         "AverageLifeExpectancy": 48.9,
         "HappyLifeYears": 13.4
        },
        {
         "AverageLifeExpectancy": 60.2,
         "HappyLifeYears": 15.7
        },
        {
         "AverageLifeExpectancy": 72.8,
         "HappyLifeYears": 36.4
        },
        {
         "AverageLifeExpectancy": 81.1,
         "HappyLifeYears": 51.7
        },
        {
         "AverageLifeExpectancy": 75.1,
         "HappyLifeYears": 27.2
        },
        {
         "AverageLifeExpectancy": 60.1,
         "HappyLifeYears": 13.7
        },
        {
         "AverageLifeExpectancy": 74.4,
         "HappyLifeYears": 38.3
        },
        {
         "AverageLifeExpectancy": 80.2,
         "HappyLifeYears": 40.8
        },
        {
         "AverageLifeExpectancy": 62.6,
         "HappyLifeYears": 18
        },
        {
         "AverageLifeExpectancy": 74,
         "HappyLifeYears": 33.1
        },
        {
         "AverageLifeExpectancy": 76.4,
         "HappyLifeYears": 44.3
        },
        {
         "AverageLifeExpectancy": 68.6,
         "HappyLifeYears": 25.3
        },
        {
         "AverageLifeExpectancy": 75.8,
         "HappyLifeYears": 32.1
        },
        {
         "AverageLifeExpectancy": 73.4,
         "HappyLifeYears": 26.7
        },
        {
         "AverageLifeExpectancy": 54.3,
         "HappyLifeYears": 15
        },
        {
         "AverageLifeExpectancy": 65.5,
         "HappyLifeYears": 18.8
        },
        {
         "AverageLifeExpectancy": 64,
         "HappyLifeYears": 21.3
        },
        {
         "AverageLifeExpectancy": 68.8,
         "HappyLifeYears": 20.2
        },
        {
         "AverageLifeExpectancy": 81.2,
         "HappyLifeYears": 57
        },
        {
         "AverageLifeExpectancy": 81.4,
         "HappyLifeYears": 52.7
        },
        {
         "AverageLifeExpectancy": 74.3,
         "HappyLifeYears": 29.2
        },
        {
         "AverageLifeExpectancy": 60,
         "HappyLifeYears": 13.1
        },
        {
         "AverageLifeExpectancy": 52.1,
         "HappyLifeYears": 15.5
        },
        {
         "AverageLifeExpectancy": 81.3,
         "HappyLifeYears": 57.1
        },
        {
         "AverageLifeExpectancy": 76.3,
         "HappyLifeYears": 44.5
        },
        {
         "AverageLifeExpectancy": 65.7,
         "HappyLifeYears": 19.5
        },
        {
         "AverageLifeExpectancy": 72.6,
         "HappyLifeYears": 24.5
        },
        {
         "AverageLifeExpectancy": 77.2,
         "HappyLifeYears": 42.1
        },
        {
         "AverageLifeExpectancy": 72.6,
         "HappyLifeYears": 31.8
        },
        {
         "AverageLifeExpectancy": 74.1,
         "HappyLifeYears": 32.9
        },
        {
         "AverageLifeExpectancy": 67.9,
         "HappyLifeYears": 24.1
        },
        {
         "AverageLifeExpectancy": 76.9,
         "HappyLifeYears": 39.2
        },
        {
         "AverageLifeExpectancy": 80.3,
         "HappyLifeYears": 32.3
        },
        {
         "AverageLifeExpectancy": 61,
         "HappyLifeYears": 13.6
        },
        {
         "AverageLifeExpectancy": 74.3,
         "HappyLifeYears": 30.1
        },
        {
         "AverageLifeExpectancy": 69.5,
         "HappyLifeYears": 31.7
        },
        {
         "AverageLifeExpectancy": 63.1,
         "HappyLifeYears": 12.4
        },
        {
         "AverageLifeExpectancy": 65.4,
         "HappyLifeYears": 15.5
        },
        {
         "AverageLifeExpectancy": 74.5,
         "HappyLifeYears": 30.3
        },
        {
         "AverageLifeExpectancy": 49.8,
         "HappyLifeYears": 10.8
        },
        {
         "AverageLifeExpectancy": 75.9,
         "HappyLifeYears": 37.9
        },
        {
         "AverageLifeExpectancy": 80,
         "HappyLifeYears": 42.6
        },
        {
         "AverageLifeExpectancy": 56.3,
         "HappyLifeYears": 18.5
        },
        {
         "AverageLifeExpectancy": 81.3,
         "HappyLifeYears": 42.2
        },
        {
         "AverageLifeExpectancy": 82.2,
         "HappyLifeYears": 45.3
        },
        {
         "AverageLifeExpectancy": 74.6,
         "HappyLifeYears": 24.9
        },
        {
         "AverageLifeExpectancy": 70.8,
         "HappyLifeYears": 35.2
        },
        {
         "AverageLifeExpectancy": 48.9,
         "HappyLifeYears": 13.6
        },
        {
         "AverageLifeExpectancy": 81.8,
         "HappyLifeYears": 57.4
        },
        {
         "AverageLifeExpectancy": 82.6,
         "HappyLifeYears": 59.3
        },
        {
         "AverageLifeExpectancy": 70.4,
         "HappyLifeYears": 14.7
        },
        {
         "AverageLifeExpectancy": 69,
         "HappyLifeYears": 22.2
        },
        {
         "AverageLifeExpectancy": 63.5,
         "HappyLifeYears": 16.2
        },
        {
         "AverageLifeExpectancy": 74.1,
         "HappyLifeYears": 38.6
        },
        {
         "AverageLifeExpectancy": 58.6,
         "HappyLifeYears": 9
        },
        {
         "AverageLifeExpectancy": 70.1,
         "HappyLifeYears": 34.4
        },
        {
         "AverageLifeExpectancy": 74.6,
         "HappyLifeYears": 25.2
        },
        {
         "AverageLifeExpectancy": 74.7,
         "HappyLifeYears": 31.2
        },
        {
         "AverageLifeExpectancy": 65.3,
         "HappyLifeYears": 24
        },
        {
         "AverageLifeExpectancy": 57.1,
         "HappyLifeYears": 13.8
        },
        {
         "AverageLifeExpectancy": 70.3,
         "HappyLifeYears": 28.3
        },
        {
         "AverageLifeExpectancy": 80.4,
         "HappyLifeYears": 49.1
        },
        {
         "AverageLifeExpectancy": 78.8,
         "HappyLifeYears": 46.8
        },
        {
         "AverageLifeExpectancy": 76.9,
         "HappyLifeYears": 39.4
        },
        {
         "AverageLifeExpectancy": 68.2,
         "HappyLifeYears": 27.9
        },
        {
         "AverageLifeExpectancy": 71.3,
         "HappyLifeYears": 34.9
        },
        {
         "AverageLifeExpectancy": 73.9,
         "HappyLifeYears": 41.5
        },
        {
         "AverageLifeExpectancy": 75.5,
         "HappyLifeYears": 32.8
        },
        {
         "AverageLifeExpectancy": 63.3,
         "HappyLifeYears": 15.2
        },
        {
         "AverageLifeExpectancy": 58.4,
         "HappyLifeYears": 16.7
        },
        {
         "AverageLifeExpectancy": 53.7,
         "HappyLifeYears": 16.4
        }
       ]
      },
      "encoding": {
       "x": {
        "field": "AverageLifeExpectancy",
        "scale": {
         "domain": [
          48.9,
          83.6
         ]
        },
        "type": "quantitative"
       },
       "y": {
        "field": "HappyLifeYears",
        "scale": {
         "domain": [
          9,
          59.3
         ]
        },
        "type": "quantitative"
       }
      },
      "height": 150,
      "mark": "circle",
      "selection": {
       "selector009": {
        "bind": "scales",
        "encodings": [
         "x",
         "y"
        ],
        "type": "interval"
       }
      },
      "width": 160
     }
    },
    "time": "2020-07-12T13:23:26.480Z",
    "type": "clickVis"
   },
   {
    "param": "Correlation",
    "time": "2020-07-12T13:23:28.526Z",
    "type": "startScroll"
   },
   {
    "param": "Correlation",
    "time": "2020-07-12T13:23:29.054Z",
    "type": "stopScroll"
   },
   {
    "code": "df = pd.read_csv(\"lux/data/hpi.csv\")\ndf",
    "id": "12a1be56c9ae4abab0a1f946bd40bc68",
    "order_count": 3,
    "time": "2020-07-12T13:23:29.375Z",
    "type": "selectCodeCell"
   },
   {
    "param": {
     "index": 6,
     "tabTitle": "Correlation",
     "vis": {
      "$schema": "https://vega.github.io/schema/vega-lite/v4.8.1.json",
      "config": {
       "mark": {
        "tooltip": {
         "content": "encoding"
        }
       },
       "view": {
        "continuousHeight": 300,
        "continuousWidth": 400
       }
      },
      "data": {
       "name": "data-7d98a1e100faf7b4540e3962dfb45fe5"
      },
      "datasets": {
       "data-7d98a1e100faf7b4540e3962dfb45fe5": [
        {
         "AverageLifeExpectancy": 59.7,
         "InequalityOfOutcomes": 0.43
        },
        {
         "AverageLifeExpectancy": 77.3,
         "InequalityOfOutcomes": 0.17
        },
        {
         "AverageLifeExpectancy": 74.3,
         "InequalityOfOutcomes": 0.24
        },
        {
         "AverageLifeExpectancy": 75.9,
         "InequalityOfOutcomes": 0.16
        },
        {
         "AverageLifeExpectancy": 74.4,
         "InequalityOfOutcomes": 0.22
        },
        {
         "AverageLifeExpectancy": 82.1,
         "InequalityOfOutcomes": 0.08
        },
        {
         "AverageLifeExpectancy": 81,
         "InequalityOfOutcomes": 0.07
        },
        {
         "AverageLifeExpectancy": 70.8,
         "InequalityOfOutcomes": 0.27
        },
        {
         "AverageLifeExpectancy": 70.9,
         "InequalityOfOutcomes": 0.13
        },
        {
         "AverageLifeExpectancy": 80.4,
         "InequalityOfOutcomes": 0.09
        },
        {
         "AverageLifeExpectancy": 69.8,
         "InequalityOfOutcomes": 0.18
        },
        {
         "AverageLifeExpectancy": 59.2,
         "InequalityOfOutcomes": 0.44
        },
        {
         "AverageLifeExpectancy": 68.7,
         "InequalityOfOutcomes": 0.27
        },
        {
         "AverageLifeExpectancy": 67.5,
         "InequalityOfOutcomes": 0.35000000000000003
        },
        {
         "AverageLifeExpectancy": 76.2,
         "InequalityOfOutcomes": 0.19
        },
        {
         "AverageLifeExpectancy": 64.2,
         "InequalityOfOutcomes": 0.28
        },
        {
         "AverageLifeExpectancy": 73.9,
         "InequalityOfOutcomes": 0.22
        },
        {
         "AverageLifeExpectancy": 73.9,
         "InequalityOfOutcomes": 0.19
        },
        {
         "AverageLifeExpectancy": 58,
         "InequalityOfOutcomes": 0.43
        },
        {
         "AverageLifeExpectancy": 55.8,
         "InequalityOfOutcomes": 0.48
        },
        {
         "AverageLifeExpectancy": 67.5,
         "InequalityOfOutcomes": 0.28
        },
        {
         "AverageLifeExpectancy": 54.6,
         "InequalityOfOutcomes": 0.47
        },
        {
         "AverageLifeExpectancy": 81.7,
         "InequalityOfOutcomes": 0.09
        },
        {
         "AverageLifeExpectancy": 50.8,
         "InequalityOfOutcomes": 0.51
        },
        {
         "AverageLifeExpectancy": 81.1,
         "InequalityOfOutcomes": 0.14
        },
        {
         "AverageLifeExpectancy": 75.4,
         "InequalityOfOutcomes": 0.17
        },
        {
         "AverageLifeExpectancy": 73.7,
         "InequalityOfOutcomes": 0.24
        },
        {
         "AverageLifeExpectancy": 62.6,
         "InequalityOfOutcomes": 0.36
        },
        {
         "AverageLifeExpectancy": 79.1,
         "InequalityOfOutcomes": 0.15
        },
        {
         "AverageLifeExpectancy": 50.8,
         "InequalityOfOutcomes": 0.45
        },
        {
         "AverageLifeExpectancy": 77,
         "InequalityOfOutcomes": 0.12
        },
        {
         "AverageLifeExpectancy": 79.8,
         "InequalityOfOutcomes": 0.12
        },
        {
         "AverageLifeExpectancy": 78.2,
         "InequalityOfOutcomes": 0.09
        },
        {
         "AverageLifeExpectancy": 79.8,
         "InequalityOfOutcomes": 0.07
        },
        {
         "AverageLifeExpectancy": 61.3,
         "InequalityOfOutcomes": 0.42
        },
        {
         "AverageLifeExpectancy": 73.1,
         "InequalityOfOutcomes": 0.3
        },
        {
         "AverageLifeExpectancy": 75.4,
         "InequalityOfOutcomes": 0.22
        },
        {
         "AverageLifeExpectancy": 70.7,
         "InequalityOfOutcomes": 0.23
        },
        {
         "AverageLifeExpectancy": 72.5,
         "InequalityOfOutcomes": 0.22
        },
        {
         "AverageLifeExpectancy": 76.2,
         "InequalityOfOutcomes": 0.12
        },
        {
         "AverageLifeExpectancy": 62.8,
         "InequalityOfOutcomes": 0.36
        },
        {
         "AverageLifeExpectancy": 80.4,
         "InequalityOfOutcomes": 0.06
        },
        {
         "AverageLifeExpectancy": 81.8,
         "InequalityOfOutcomes": 0.09
        },
        {
         "AverageLifeExpectancy": 63.3,
         "InequalityOfOutcomes": 0.36
        },
        {
         "AverageLifeExpectancy": 74.6,
         "InequalityOfOutcomes": 0.2
        },
        {
         "AverageLifeExpectancy": 80.6,
         "InequalityOfOutcomes": 0.08
        },
        {
         "AverageLifeExpectancy": 61,
         "InequalityOfOutcomes": 0.38
        },
        {
         "AverageLifeExpectancy": 80.5,
         "InequalityOfOutcomes": 0.16
        },
        {
         "AverageLifeExpectancy": 71.4,
         "InequalityOfOutcomes": 0.27
        },
        {
         "AverageLifeExpectancy": 57.7,
         "InequalityOfOutcomes": 0.42
        },
        {
         "AverageLifeExpectancy": 62.1,
         "InequalityOfOutcomes": 0.37
        },
        {
         "AverageLifeExpectancy": 72.8,
         "InequalityOfOutcomes": 0.31
        },
        {
         "AverageLifeExpectancy": 83.6,
         "InequalityOfOutcomes": 0.1
        },
        {
         "AverageLifeExpectancy": 74.9,
         "InequalityOfOutcomes": 0.15
        },
        {
         "AverageLifeExpectancy": 82.2,
         "InequalityOfOutcomes": 0.05
        },
        {
         "AverageLifeExpectancy": 67.3,
         "InequalityOfOutcomes": 0.31
        },
        {
         "AverageLifeExpectancy": 68.5,
         "InequalityOfOutcomes": 0.21
        },
        {
         "AverageLifeExpectancy": 74.8,
         "InequalityOfOutcomes": 0.23
        },
        {
         "AverageLifeExpectancy": 69,
         "InequalityOfOutcomes": 0.27
        },
        {
         "AverageLifeExpectancy": 80.5,
         "InequalityOfOutcomes": 0.08
        },
        {
         "AverageLifeExpectancy": 81.9,
         "InequalityOfOutcomes": 0.08
        },
        {
         "AverageLifeExpectancy": 82.7,
         "InequalityOfOutcomes": 0.12
        },
        {
         "AverageLifeExpectancy": 75.3,
         "InequalityOfOutcomes": 0.21
        },
        {
         "AverageLifeExpectancy": 83.2,
         "InequalityOfOutcomes": 0.09
        },
        {
         "AverageLifeExpectancy": 68.6,
         "InequalityOfOutcomes": 0.18
        },
        {
         "AverageLifeExpectancy": 60.3,
         "InequalityOfOutcomes": 0.38
        },
        {
         "AverageLifeExpectancy": 69.7,
         "InequalityOfOutcomes": 0.18
        },
        {
         "AverageLifeExpectancy": 73.6,
         "InequalityOfOutcomes": 0.14
        },
        {
         "AverageLifeExpectancy": 78.8,
         "InequalityOfOutcomes": 0.19
        },
        {
         "AverageLifeExpectancy": 48.9,
         "InequalityOfOutcomes": 0.42
        },
        {
         "AverageLifeExpectancy": 60.2,
         "InequalityOfOutcomes": 0.38
        },
        {
         "AverageLifeExpectancy": 72.8,
         "InequalityOfOutcomes": 0.11
        },
        {
         "AverageLifeExpectancy": 81.1,
         "InequalityOfOutcomes": 0.07
        },
        {
         "AverageLifeExpectancy": 75.1,
         "InequalityOfOutcomes": 0.18
        },
        {
         "AverageLifeExpectancy": 60.1,
         "InequalityOfOutcomes": 0.45
        },
        {
         "AverageLifeExpectancy": 74.4,
         "InequalityOfOutcomes": 0.1
        },
        {
         "AverageLifeExpectancy": 80.2,
         "InequalityOfOutcomes": 0.13
        },
        {
         "AverageLifeExpectancy": 62.6,
         "InequalityOfOutcomes": 0.37
        },
        {
         "AverageLifeExpectancy": 74,
         "InequalityOfOutcomes": 0.17
        },
        {
         "AverageLifeExpectancy": 76.4,
         "InequalityOfOutcomes": 0.19
        },
        {
         "AverageLifeExpectancy": 68.6,
         "InequalityOfOutcomes": 0.22
        },
        {
         "AverageLifeExpectancy": 75.8,
         "InequalityOfOutcomes": 0.16
        },
        {
         "AverageLifeExpectancy": 73.4,
         "InequalityOfOutcomes": 0.25
        },
        {
         "AverageLifeExpectancy": 54.3,
         "InequalityOfOutcomes": 0.43
        },
        {
         "AverageLifeExpectancy": 65.5,
         "InequalityOfOutcomes": 0.32
        },
        {
         "AverageLifeExpectancy": 64,
         "InequalityOfOutcomes": 0.26
        },
        {
         "AverageLifeExpectancy": 68.8,
         "InequalityOfOutcomes": 0.27
        },
        {
         "AverageLifeExpectancy": 81.2,
         "InequalityOfOutcomes": 0.04
        },
        {
         "AverageLifeExpectancy": 81.4,
         "InequalityOfOutcomes": 0.08
        },
        {
         "AverageLifeExpectancy": 74.3,
         "InequalityOfOutcomes": 0.25
        },
        {
         "AverageLifeExpectancy": 60,
         "InequalityOfOutcomes": 0.4
        },
        {
         "AverageLifeExpectancy": 52.1,
         "InequalityOfOutcomes": 0.44
        },
        {
         "AverageLifeExpectancy": 81.3,
         "InequalityOfOutcomes": 0.07
        },
        {
         "AverageLifeExpectancy": 76.3,
         "InequalityOfOutcomes": 0.13
        },
        {
         "AverageLifeExpectancy": 65.7,
         "InequalityOfOutcomes": 0.4
        },
        {
         "AverageLifeExpectancy": 72.6,
         "InequalityOfOutcomes": 0.24
        },
        {
         "AverageLifeExpectancy": 77.2,
         "InequalityOfOutcomes": 0.19
        },
        {
         "AverageLifeExpectancy": 72.6,
         "InequalityOfOutcomes": 0.22
        },
        {
         "AverageLifeExpectancy": 74.1,
         "InequalityOfOutcomes": 0.21
        },
        {
         "AverageLifeExpectancy": 67.9,
         "InequalityOfOutcomes": 0.26
        },
        {
         "AverageLifeExpectancy": 76.9,
         "InequalityOfOutcomes": 0.11
        },
        {
         "AverageLifeExpectancy": 80.3,
         "InequalityOfOutcomes": 0.16
        },
        {
         "AverageLifeExpectancy": 61,
         "InequalityOfOutcomes": 0.4
        },
        {
         "AverageLifeExpectancy": 74.3,
         "InequalityOfOutcomes": 0.19
        },
        {
         "AverageLifeExpectancy": 69.5,
         "InequalityOfOutcomes": 0.16
        },
        {
         "AverageLifeExpectancy": 63.1,
         "InequalityOfOutcomes": 0.37
        },
        {
         "AverageLifeExpectancy": 65.4,
         "InequalityOfOutcomes": 0.33
        },
        {
         "AverageLifeExpectancy": 74.5,
         "InequalityOfOutcomes": 0.19
        },
        {
         "AverageLifeExpectancy": 49.8,
         "InequalityOfOutcomes": 0.5
        },
        {
         "AverageLifeExpectancy": 75.9,
         "InequalityOfOutcomes": 0.13
        },
        {
         "AverageLifeExpectancy": 80,
         "InequalityOfOutcomes": 0.1
        },
        {
         "AverageLifeExpectancy": 56.3,
         "InequalityOfOutcomes": 0.33
        },
        {
         "AverageLifeExpectancy": 81.3,
         "InequalityOfOutcomes": 0.11
        },
        {
         "AverageLifeExpectancy": 82.2,
         "InequalityOfOutcomes": 0.1
        },
        {
         "AverageLifeExpectancy": 74.6,
         "InequalityOfOutcomes": 0.17
        },
        {
         "AverageLifeExpectancy": 70.8,
         "InequalityOfOutcomes": 0.19
        },
        {
         "AverageLifeExpectancy": 48.9,
         "InequalityOfOutcomes": 0.41
        },
        {
         "AverageLifeExpectancy": 81.8,
         "InequalityOfOutcomes": 0.06
        },
        {
         "AverageLifeExpectancy": 82.6,
         "InequalityOfOutcomes": 0.06
        },
        {
         "AverageLifeExpectancy": 70.4,
         "InequalityOfOutcomes": 0.3
        },
        {
         "AverageLifeExpectancy": 69,
         "InequalityOfOutcomes": 0.26
        },
        {
         "AverageLifeExpectancy": 63.5,
         "InequalityOfOutcomes": 0.33
        },
        {
         "AverageLifeExpectancy": 74.1,
         "InequalityOfOutcomes": 0.15
        },
        {
         "AverageLifeExpectancy": 58.6,
         "InequalityOfOutcomes": 0.43
        },
        {
         "AverageLifeExpectancy": 70.1,
         "InequalityOfOutcomes": 0.21
        },
        {
         "AverageLifeExpectancy": 74.6,
         "InequalityOfOutcomes": 0.22
        },
        {
         "AverageLifeExpectancy": 74.7,
         "InequalityOfOutcomes": 0.19
        },
        {
         "AverageLifeExpectancy": 65.3,
         "InequalityOfOutcomes": 0.31
        },
        {
         "AverageLifeExpectancy": 57.1,
         "InequalityOfOutcomes": 0.41
        },
        {
         "AverageLifeExpectancy": 70.3,
         "InequalityOfOutcomes": 0.17
        },
        {
         "AverageLifeExpectancy": 80.4,
         "InequalityOfOutcomes": 0.09
        },
        {
         "AverageLifeExpectancy": 78.8,
         "InequalityOfOutcomes": 0.13
        },
        {
         "AverageLifeExpectancy": 76.9,
         "InequalityOfOutcomes": 0.18
        },
        {
         "AverageLifeExpectancy": 68.2,
         "InequalityOfOutcomes": 0.3
        },
        {
         "AverageLifeExpectancy": 71.3,
         "InequalityOfOutcomes": 0.22
        },
        {
         "AverageLifeExpectancy": 73.9,
         "InequalityOfOutcomes": 0.19
        },
        {
         "AverageLifeExpectancy": 75.5,
         "InequalityOfOutcomes": 0.19
        },
        {
         "AverageLifeExpectancy": 63.3,
         "InequalityOfOutcomes": 0.39
        },
        {
         "AverageLifeExpectancy": 58.4,
         "InequalityOfOutcomes": 0.41
        },
        {
         "AverageLifeExpectancy": 53.7,
         "InequalityOfOutcomes": 0.37
        }
       ]
      },
      "encoding": {
       "x": {
        "field": "AverageLifeExpectancy",
        "scale": {
         "domain": [
          48.9,
          83.6
         ]
        },
        "type": "quantitative"
       },
       "y": {
        "field": "InequalityOfOutcomes",
        "scale": {
         "domain": [
          0.04,
          0.51
         ]
        },
        "type": "quantitative"
       }
      },
      "height": 150,
      "mark": "circle",
      "selection": {
       "selector007": {
        "bind": "scales",
        "encodings": [
         "x",
         "y"
        ],
        "type": "interval"
       }
      },
      "width": 160
     }
    },
    "time": "2020-07-12T13:23:29.377Z",
    "type": "clickVis"
   },
   {
    "code": "df = pd.read_csv(\"lux/data/hpi.csv\")\ndf",
    "id": "12a1be56c9ae4abab0a1f946bd40bc68",
    "order_count": 3,
    "time": "2020-07-12T13:23:30.618Z",
    "type": "selectCodeCell"
   },
   {
    "code": "",
    "id": "6f24e677da8c42159d2a4e2d071b9b84",
    "order_count": 4,
    "time": "2020-07-12T13:23:31.416Z",
    "type": "selectCodeCell"
   },
   {
    "code": "",
    "id": "6f24e677da8c42159d2a4e2d071b9b84",
    "order_count": 4,
    "time": "2020-07-12T13:23:31.680Z",
    "type": "editCodeCell"
   },
   {
    "code": "We can click on visualizations of interest and export them into a separate widget,",
    "id": "f3f9136301e54bd19eac8eb55f9cc158",
    "order_count": 4,
    "time": "2020-07-12T13:24:13.432Z",
    "type": "editMarkdownCell"
   },
   {
    "code": "We can click on visualizations of interest and export them into a separate widget,",
    "id": "f3f9136301e54bd19eac8eb55f9cc158",
    "order_count": 4,
    "time": "2020-07-12T13:24:13.574Z",
    "type": "selectMarkdownCell"
   },
   {
    "code": "We can click on visualizations of interest and export them into a separate widget,",
    "id": "f3f9136301e54bd19eac8eb55f9cc158",
    "order_count": 4,
    "time": "2020-07-12T13:24:14.073Z",
    "type": "selectMarkdownCell"
   },
   {
    "code": "We can click on visualizations of interest and export them into a separate widget,",
    "id": "f3f9136301e54bd19eac8eb55f9cc158",
    "order_count": 4,
    "time": "2020-07-12T13:24:14.425Z",
    "type": "editMarkdownCell"
   },
   {
    "code": "We can click on visualizations of interest and export them into a separate widget,",
    "id": "f3f9136301e54bd19eac8eb55f9cc158",
    "order_count": 4,
    "time": "2020-07-12T13:24:14.539Z",
    "type": "selectMarkdownCell"
   },
   {
    "code": "The visualization showing the relationship between `GDPPerCapita` and `Footprint` is very interesting. We find that there is an outlier with extremely high ecological footprint as well as high GDP per capita. So we click on this visualization and click on the export button.",
    "id": "668eb7fb960e451eb57c681baf3de28f",
    "order_count": 5,
    "time": "2020-07-12T13:24:15.762Z",
    "type": "selectMarkdownCell"
   },
   {
    "code": "",
    "id": "a0843739aae2474e95eae3e889cd58c8",
    "order_count": 5,
    "time": "2020-07-12T13:24:16.522Z",
    "type": "selectCodeCell"
   },
   {
    "code": "",
    "id": "a0843739aae2474e95eae3e889cd58c8",
    "order_count": 5,
    "time": "2020-07-12T13:24:16.742Z",
    "type": "editCodeCell"
   },
   {
    "code": "df = pd.read_csv(\"lux/data/hpi.csv\")\ndf",
    "id": "12a1be56c9ae4abab0a1f946bd40bc68",
    "order_count": 3,
    "time": "2020-07-12T13:24:19.645Z",
    "type": "selectCodeCell"
   },
   {
    "param": {
     "Correlation": [
      10,
      8,
      6
     ]
    },
    "time": "2020-07-12T13:24:19.646Z",
    "type": "exportBtnClick"
   },
   {
    "code": "",
    "id": "a0843739aae2474e95eae3e889cd58c8",
    "order_count": 5,
    "time": "2020-07-12T13:24:20.425Z",
    "type": "selectCodeCell"
   },
   {
    "code": "",
    "id": "a0843739aae2474e95eae3e889cd58c8",
    "order_count": 5,
    "time": "2020-07-12T13:24:20.431Z",
    "type": "editCodeCell"
   },
   {
    "code": "bookmarked_vis = df.get_exported()",
    "id": "a0843739aae2474e95eae3e889cd58c8",
    "order_count": 5,
    "time": "2020-07-12T13:24:36.735Z",
    "type": "executeCodeCell"
   },
   {
    "code": "The visualization showing the relationship between `GDPPerCapita` and `Footprint` is very interesting. We find that there is an outlier with extremely high ecological footprint as well as high GDP per capita. So we click on this visualization and click on the export button.",
    "id": "668eb7fb960e451eb57c681baf3de28f",
    "order_count": 6,
    "time": "2020-07-12T13:24:36.753Z",
    "type": "selectMarkdownCell"
   },
   {
    "id": "a0843739aae2474e95eae3e889cd58c8",
    "isPrintLuxDf": false,
    "isPrintPandasDf": false,
    "isPrintView": false,
    "isPrintViewCollection": false,
    "time": "2020-07-12T13:24:36.761Z",
    "type": "completeCodeCell"
   },
   {
    "code": "",
    "id": "32d243318ca14d408607ae4546416585",
    "order_count": 6,
    "time": "2020-07-12T13:24:37.341Z",
    "type": "selectCodeCell"
   },
   {
    "code": "",
    "id": "32d243318ca14d408607ae4546416585",
    "order_count": 6,
    "time": "2020-07-12T13:24:37.526Z",
    "type": "editCodeCell"
   },
   {
    "code": "bookmarked_vis = df.get_exported()",
    "id": "a0843739aae2474e95eae3e889cd58c8",
    "order_count": 5,
    "time": "2020-07-12T13:24:41.857Z",
    "type": "selectCodeCell"
   },
   {
    "code": "bookmarked_vis",
    "id": "32d243318ca14d408607ae4546416585",
    "order_count": null,
    "time": "2020-07-12T13:24:42.449Z",
    "type": "deleteCodeCell"
   },
   {
    "code": "bookmarked_vis = df.get_exported()\n\nbookmarked_vis",
    "id": "a0843739aae2474e95eae3e889cd58c8",
    "order_count": 5,
    "time": "2020-07-12T13:24:42.799Z",
    "type": "editCodeCell"
   },
   {
    "code": "bookmarked_vis = df.get_exported()\nbookmarked_vis",
    "id": "a0843739aae2474e95eae3e889cd58c8",
    "order_count": 5,
    "time": "2020-07-12T13:24:43.976Z",
    "type": "executeCodeCell"
   },
   {
    "code": "The visualization showing the relationship between `GDPPerCapita` and `Footprint` is very interesting. We find that there is an outlier with extremely high ecological footprint as well as high GDP per capita. So we click on this visualization and click on the export button.",
    "id": "668eb7fb960e451eb57c681baf3de28f",
    "order_count": 6,
    "time": "2020-07-12T13:24:43.992Z",
    "type": "selectMarkdownCell"
   },
   {
    "id": "a0843739aae2474e95eae3e889cd58c8",
    "isPrintLuxDf": false,
    "isPrintPandasDf": false,
    "isPrintView": true,
    "isPrintViewCollection": false,
    "time": "2020-07-12T13:24:44.029Z",
    "type": "completeCodeCell"
   },
   {
    "param": "",
    "time": "2020-07-12T13:24:44.045Z",
    "type": "initWidget"
   },
   {
    "code": "df = pd.read_csv(\"lux/data/hpi.csv\")\ndf",
    "id": "12a1be56c9ae4abab0a1f946bd40bc68",
    "order_count": 3,
    "time": "2020-07-12T13:24:49.667Z",
    "type": "selectCodeCell"
   },
   {
    "code": "df = pd.read_csv(\"lux/data/hpi.csv\")\ndf",
    "id": "12a1be56c9ae4abab0a1f946bd40bc68",
    "order_count": 3,
    "time": "2020-07-12T13:24:50.469Z",
    "type": "executeCodeCell"
   },
   {
    "code": "We can click on visualizations of interest and export them into a separate widget.",
    "id": "f3f9136301e54bd19eac8eb55f9cc158",
    "order_count": 4,
    "time": "2020-07-12T13:24:50.474Z",
    "type": "selectMarkdownCell"
   },
   {
    "id": "12a1be56c9ae4abab0a1f946bd40bc68",
    "isPrintLuxDf": false,
    "isPrintPandasDf": true,
    "isPrintView": false,
    "isPrintViewCollection": false,
    "time": "2020-07-12T13:24:51.402Z",
    "type": "completeCodeCell"
   },
   {
    "code": "df = pd.read_csv(\"lux/data/hpi.csv\")\ndf",
    "id": "12a1be56c9ae4abab0a1f946bd40bc68",
    "order_count": 3,
    "time": "2020-07-12T13:24:52.868Z",
    "type": "selectCodeCell"
   },
   {
    "param": "",
    "time": "2020-07-12T13:24:52.891Z",
    "type": "initWidget"
   },
   {
    "param": "",
    "time": "2020-07-12T13:24:53.174Z",
    "type": "initWidget"
   },
   {
    "param": "Correlation",
    "time": "2020-07-12T13:24:56.164Z",
    "type": "startScroll"
   },
   {
    "param": "Correlation",
    "time": "2020-07-12T13:24:56.737Z",
    "type": "stopScroll"
   },
   {
    "code": "df = pd.read_csv(\"lux/data/hpi.csv\")\ndf",
    "id": "12a1be56c9ae4abab0a1f946bd40bc68",
    "order_count": 3,
    "time": "2020-07-12T13:24:57.125Z",
    "type": "selectCodeCell"
   },
   {
    "param": {
     "index": 5,
     "tabTitle": "Correlation",
     "vis": {
      "$schema": "https://vega.github.io/schema/vega-lite/v4.8.1.json",
      "config": {
       "mark": {
        "tooltip": {
         "content": "encoding"
        }
       },
       "view": {
        "continuousHeight": 300,
        "continuousWidth": 400
       }
      },
      "data": {
       "name": "data-67baee460e1421049495c5fd7e512436"
      },
      "datasets": {
       "data-67baee460e1421049495c5fd7e512436": [
        {
         "AverageWellBeing": 3.8,
         "HappyLifeYears": 12.4
        },
        {
         "AverageWellBeing": 5.5,
         "HappyLifeYears": 34.4
        },
        {
         "AverageWellBeing": 5.6,
         "HappyLifeYears": 30.5
        },
        {
         "AverageWellBeing": 6.5,
         "HappyLifeYears": 40.2
        },
        {
         "AverageWellBeing": 4.3,
         "HappyLifeYears": 24
        },
        {
         "AverageWellBeing": 7.2,
         "HappyLifeYears": 53.1
        },
        {
         "AverageWellBeing": 7.4,
         "HappyLifeYears": 54.4
        },
        {
         "AverageWellBeing": 4.7,
         "HappyLifeYears": 23.3
        },
        {
         "AverageWellBeing": 5.7,
         "HappyLifeYears": 34
        },
        {
         "AverageWellBeing": 6.9,
         "HappyLifeYears": 49.5
        },
        {
         "AverageWellBeing": 6.1,
         "HappyLifeYears": 34.2
        },
        {
         "AverageWellBeing": 3.2,
         "HappyLifeYears": 9.9
        },
        {
         "AverageWellBeing": 5.6,
         "HappyLifeYears": 27.4
        },
        {
         "AverageWellBeing": 6,
         "HappyLifeYears": 25.6
        },
        {
         "AverageWellBeing": 4.8,
         "HappyLifeYears": 28.6
        },
        {
         "AverageWellBeing": 4.8,
         "HappyLifeYears": 21.3
        },
        {
         "AverageWellBeing": 6.9,
         "HappyLifeYears": 39
        },
        {
         "AverageWellBeing": 4.2,
         "HappyLifeYears": 24
        },
        {
         "AverageWellBeing": 4,
         "HappyLifeYears": 12.6
        },
        {
         "AverageWellBeing": 3.4,
         "HappyLifeYears": 9.5
        },
        {
         "AverageWellBeing": 3.9,
         "HappyLifeYears": 18.2
        },
        {
         "AverageWellBeing": 4.2,
         "HappyLifeYears": 11.6
        },
        {
         "AverageWellBeing": 7.4,
         "HappyLifeYears": 53.9
        },
        {
         "AverageWellBeing": 4,
         "HappyLifeYears": 9.6
        },
        {
         "AverageWellBeing": 6.6,
         "HappyLifeYears": 44.7
        },
        {
         "AverageWellBeing": 5.1,
         "HappyLifeYears": 30.6
        },
        {
         "AverageWellBeing": 6.4,
         "HappyLifeYears": 35.1
        },
        {
         "AverageWellBeing": 4,
         "HappyLifeYears": 15.4
        },
        {
         "AverageWellBeing": 7.3,
         "HappyLifeYears": 48.2
        },
        {
         "AverageWellBeing": 3.8,
         "HappyLifeYears": 10.3
        },
        {
         "AverageWellBeing": 6,
         "HappyLifeYears": 39.6
        },
        {
         "AverageWellBeing": 6.2,
         "HappyLifeYears": 42.3
        },
        {
         "AverageWellBeing": 6.3,
         "HappyLifeYears": 43.4
        },
        {
         "AverageWellBeing": 7.5,
         "HappyLifeYears": 54.4
        },
        {
         "AverageWellBeing": 4.4,
         "HappyLifeYears": 15.1
        },
        {
         "AverageWellBeing": 4.8,
         "HappyLifeYears": 23.7
        },
        {
         "AverageWellBeing": 6,
         "HappyLifeYears": 34.3
        },
        {
         "AverageWellBeing": 4.2,
         "HappyLifeYears": 21.8
        },
        {
         "AverageWellBeing": 5.9,
         "HappyLifeYears": 32.2
        },
        {
         "AverageWellBeing": 5.4,
         "HappyLifeYears": 35
        },
        {
         "AverageWellBeing": 4.6,
         "HappyLifeYears": 17.8
        },
        {
         "AverageWellBeing": 7.4,
         "HappyLifeYears": 54.6
        },
        {
         "AverageWellBeing": 6.6,
         "HappyLifeYears": 48.1
        },
        {
         "AverageWellBeing": 4,
         "HappyLifeYears": 15.4
        },
        {
         "AverageWellBeing": 4.3,
         "HappyLifeYears": 24.7
        },
        {
         "AverageWellBeing": 6.7,
         "HappyLifeYears": 48.2
        },
        {
         "AverageWellBeing": 5.1,
         "HappyLifeYears": 18.8
        },
        {
         "AverageWellBeing": 5.1,
         "HappyLifeYears": 33.3
        },
        {
         "AverageWellBeing": 5.9,
         "HappyLifeYears": 29.6
        },
        {
         "AverageWellBeing": 3.7,
         "HappyLifeYears": 11.8
        },
        {
         "AverageWellBeing": 4.4,
         "HappyLifeYears": 16.5
        },
        {
         "AverageWellBeing": 4.6,
         "HappyLifeYears": 22.1
        },
        {
         "AverageWellBeing": 5.5,
         "HappyLifeYears": 40.1
        },
        {
         "AverageWellBeing": 4.7,
         "HappyLifeYears": 28.7
        },
        {
         "AverageWellBeing": 7.6,
         "HappyLifeYears": 58
        },
        {
         "AverageWellBeing": 4.6,
         "HappyLifeYears": 20.4
        },
        {
         "AverageWellBeing": 5.4,
         "HappyLifeYears": 28.4
        },
        {
         "AverageWellBeing": 4.6,
         "HappyLifeYears": 25.4
        },
        {
         "AverageWellBeing": 4.7,
         "HappyLifeYears": 22.8
        },
        {
         "AverageWellBeing": 7,
         "HappyLifeYears": 50.3
        },
        {
         "AverageWellBeing": 7.1,
         "HappyLifeYears": 52.5
        },
        {
         "AverageWellBeing": 5.8,
         "HappyLifeYears": 41.1
        },
        {
         "AverageWellBeing": 5.6,
         "HappyLifeYears": 31.9
        },
        {
         "AverageWellBeing": 6,
         "HappyLifeYears": 44
        },
        {
         "AverageWellBeing": 5.8,
         "HappyLifeYears": 31.7
        },
        {
         "AverageWellBeing": 4.5,
         "HappyLifeYears": 16.2
        },
        {
         "AverageWellBeing": 5.2,
         "HappyLifeYears": 28.7
        },
        {
         "AverageWellBeing": 5.1,
         "HappyLifeYears": 31.2
        },
        {
         "AverageWellBeing": 4.6,
         "HappyLifeYears": 28.2
        },
        {
         "AverageWellBeing": 4.9,
         "HappyLifeYears": 13.4
        },
        {
         "AverageWellBeing": 4.4,
         "HappyLifeYears": 15.7
        },
        {
         "AverageWellBeing": 5.8,
         "HappyLifeYears": 36.4
        },
        {
         "AverageWellBeing": 7,
         "HappyLifeYears": 51.7
        },
        {
         "AverageWellBeing": 4.6,
         "HappyLifeYears": 27.2
        },
        {
         "AverageWellBeing": 4.3,
         "HappyLifeYears": 13.7
        },
        {
         "AverageWellBeing": 5.9,
         "HappyLifeYears": 38.3
        },
        {
         "AverageWellBeing": 6,
         "HappyLifeYears": 40.8
        },
        {
         "AverageWellBeing": 4.7,
         "HappyLifeYears": 18
        },
        {
         "AverageWellBeing": 5.5,
         "HappyLifeYears": 33.1
        },
        {
         "AverageWellBeing": 7.3,
         "HappyLifeYears": 44.3
        },
        {
         "AverageWellBeing": 4.9,
         "HappyLifeYears": 25.3
        },
        {
         "AverageWellBeing": 5.2,
         "HappyLifeYears": 32.1
        },
        {
         "AverageWellBeing": 5,
         "HappyLifeYears": 26.7
        },
        {
         "AverageWellBeing": 5,
         "HappyLifeYears": 15
        },
        {
         "AverageWellBeing": 4.4,
         "HappyLifeYears": 18.8
        },
        {
         "AverageWellBeing": 4.7,
         "HappyLifeYears": 21.3
        },
        {
         "AverageWellBeing": 4.2,
         "HappyLifeYears": 20.2
        },
        {
         "AverageWellBeing": 7.5,
         "HappyLifeYears": 57
        },
        {
         "AverageWellBeing": 7.2,
         "HappyLifeYears": 52.7
        },
        {
         "AverageWellBeing": 5.4,
         "HappyLifeYears": 29.2
        },
        {
         "AverageWellBeing": 3.8,
         "HappyLifeYears": 13.1
        },
        {
         "AverageWellBeing": 5.5,
         "HappyLifeYears": 15.5
        },
        {
         "AverageWellBeing": 7.7,
         "HappyLifeYears": 57.1
        },
        {
         "AverageWellBeing": 6.9,
         "HappyLifeYears": 44.5
        },
        {
         "AverageWellBeing": 5.1,
         "HappyLifeYears": 19.5
        },
        {
         "AverageWellBeing": 4.6,
         "HappyLifeYears": 24.5
        },
        {
         "AverageWellBeing": 6.9,
         "HappyLifeYears": 42.1
        },
        {
         "AverageWellBeing": 5.8,
         "HappyLifeYears": 31.8
        },
        {
         "AverageWellBeing": 5.8,
         "HappyLifeYears": 32.9
        },
        {
         "AverageWellBeing": 5,
         "HappyLifeYears": 24.1
        },
        {
         "AverageWellBeing": 5.9,
         "HappyLifeYears": 39.2
        },
        {
         "AverageWellBeing": 5,
         "HappyLifeYears": 32.3
        },
        {
         "AverageWellBeing": 3.9,
         "HappyLifeYears": 13.6
        },
        {
         "AverageWellBeing": 5.2,
         "HappyLifeYears": 30.1
        },
        {
         "AverageWellBeing": 5.6,
         "HappyLifeYears": 31.7
        },
        {
         "AverageWellBeing": 3.3,
         "HappyLifeYears": 12.4
        },
        {
         "AverageWellBeing": 3.7,
         "HappyLifeYears": 15.5
        },
        {
         "AverageWellBeing": 5.2,
         "HappyLifeYears": 30.3
        },
        {
         "AverageWellBeing": 4.5,
         "HappyLifeYears": 10.8
        },
        {
         "AverageWellBeing": 5.9,
         "HappyLifeYears": 37.9
        },
        {
         "AverageWellBeing": 6.1,
         "HappyLifeYears": 42.6
        },
        {
         "AverageWellBeing": 5.1,
         "HappyLifeYears": 18.5
        },
        {
         "AverageWellBeing": 6,
         "HappyLifeYears": 42.2
        },
        {
         "AverageWellBeing": 6.3,
         "HappyLifeYears": 45.3
        },
        {
         "AverageWellBeing": 4.2,
         "HappyLifeYears": 24.9
        },
        {
         "AverageWellBeing": 6.3,
         "HappyLifeYears": 35.2
        },
        {
         "AverageWellBeing": 4.9,
         "HappyLifeYears": 13.6
        },
        {
         "AverageWellBeing": 7.6,
         "HappyLifeYears": 57.4
        },
        {
         "AverageWellBeing": 7.8,
         "HappyLifeYears": 59.3
        },
        {
         "AverageWellBeing": 3.2,
         "HappyLifeYears": 14.7
        },
        {
         "AverageWellBeing": 4.5,
         "HappyLifeYears": 22.2
        },
        {
         "AverageWellBeing": 4,
         "HappyLifeYears": 16.2
        },
        {
         "AverageWellBeing": 6.3,
         "HappyLifeYears": 38.6
        },
        {
         "AverageWellBeing": 2.9,
         "HappyLifeYears": 9
        },
        {
         "AverageWellBeing": 6.4,
         "HappyLifeYears": 34.4
        },
        {
         "AverageWellBeing": 4.5,
         "HappyLifeYears": 25.2
        },
        {
         "AverageWellBeing": 5.3,
         "HappyLifeYears": 31.2
        },
        {
         "AverageWellBeing": 5.5,
         "HappyLifeYears": 24
        },
        {
         "AverageWellBeing": 4.3,
         "HappyLifeYears": 13.8
        },
        {
         "AverageWellBeing": 5,
         "HappyLifeYears": 28.3
        },
        {
         "AverageWellBeing": 6.9,
         "HappyLifeYears": 49.1
        },
        {
         "AverageWellBeing": 7,
         "HappyLifeYears": 46.8
        },
        {
         "AverageWellBeing": 6.4,
         "HappyLifeYears": 39.4
        },
        {
         "AverageWellBeing": 6,
         "HappyLifeYears": 27.9
        },
        {
         "AverageWellBeing": 6.5,
         "HappyLifeYears": 34.9
        },
        {
         "AverageWellBeing": 7.1,
         "HappyLifeYears": 41.5
        },
        {
         "AverageWellBeing": 5.5,
         "HappyLifeYears": 32.8
        },
        {
         "AverageWellBeing": 4.1,
         "HappyLifeYears": 15.2
        },
        {
         "AverageWellBeing": 5,
         "HappyLifeYears": 16.7
        },
        {
         "AverageWellBeing": 5,
         "HappyLifeYears": 16.4
        }
       ]
      },
      "encoding": {
       "x": {
        "field": "AverageWellBeing",
        "scale": {
         "domain": [
          2.9,
          7.8
         ]
        },
        "type": "quantitative"
       },
       "y": {
        "field": "HappyLifeYears",
        "scale": {
         "domain": [
          9,
          59.3
         ]
        },
        "type": "quantitative"
       }
      },
      "height": 150,
      "mark": "circle",
      "selection": {
       "selector024": {
        "bind": "scales",
        "encodings": [
         "x",
         "y"
        ],
        "type": "interval"
       }
      },
      "width": 160
     }
    },
    "time": "2020-07-12T13:24:57.127Z",
    "type": "clickVis"
   },
   {
    "param": "Correlation",
    "time": "2020-07-12T13:24:58.109Z",
    "type": "startScroll"
   },
   {
    "param": "Correlation",
    "time": "2020-07-12T13:24:58.702Z",
    "type": "stopScroll"
   },
   {
    "code": "df = pd.read_csv(\"lux/data/hpi.csv\")\ndf",
    "id": "12a1be56c9ae4abab0a1f946bd40bc68",
    "order_count": 3,
    "time": "2020-07-12T13:24:59.086Z",
    "type": "selectCodeCell"
   },
   {
    "param": {
     "index": 9,
     "tabTitle": "Correlation",
     "vis": {
      "$schema": "https://vega.github.io/schema/vega-lite/v4.8.1.json",
      "config": {
       "mark": {
        "tooltip": {
         "content": "encoding"
        }
       },
       "view": {
        "continuousHeight": 300,
        "continuousWidth": 400
       }
      },
      "data": {
       "name": "data-3cfc0abbb45fe051a7c7743190d1fe5f"
      },
      "datasets": {
       "data-3cfc0abbb45fe051a7c7743190d1fe5f": [
        {
         "HappyLifeYears": 12.4,
         "InequalityAdjustedLifeExpectancy": 38.3
        },
        {
         "HappyLifeYears": 34.4,
         "InequalityAdjustedLifeExpectancy": 69.7
        },
        {
         "HappyLifeYears": 30.5,
         "InequalityAdjustedLifeExpectancy": 60.5
        },
        {
         "HappyLifeYears": 40.2,
         "InequalityAdjustedLifeExpectancy": 68.3
        },
        {
         "HappyLifeYears": 24,
         "InequalityAdjustedLifeExpectancy": 66.9
        },
        {
         "HappyLifeYears": 53.1,
         "InequalityAdjustedLifeExpectancy": 78.6
        },
        {
         "HappyLifeYears": 54.4,
         "InequalityAdjustedLifeExpectancy": 78
        },
        {
         "HappyLifeYears": 23.3,
         "InequalityAdjustedLifeExpectancy": 56.6
        },
        {
         "HappyLifeYears": 34,
         "InequalityAdjustedLifeExpectancy": 66.7
        },
        {
         "HappyLifeYears": 49.5,
         "InequalityAdjustedLifeExpectancy": 77.2
        },
        {
         "HappyLifeYears": 34.2,
         "InequalityAdjustedLifeExpectancy": 61.7
        },
        {
         "HappyLifeYears": 9.9,
         "InequalityAdjustedLifeExpectancy": 37.3
        },
        {
         "HappyLifeYears": 27.4,
         "InequalityAdjustedLifeExpectancy": 54.5
        },
        {
         "HappyLifeYears": 25.6,
         "InequalityAdjustedLifeExpectancy": 47.9
        },
        {
         "HappyLifeYears": 28.6,
         "InequalityAdjustedLifeExpectancy": 71.1
        },
        {
         "HappyLifeYears": 21.3,
         "InequalityAdjustedLifeExpectancy": 50.8
        },
        {
         "HappyLifeYears": 39,
         "InequalityAdjustedLifeExpectancy": 63.3
        },
        {
         "HappyLifeYears": 24,
         "InequalityAdjustedLifeExpectancy": 68.1
        },
        {
         "HappyLifeYears": 12.6,
         "InequalityAdjustedLifeExpectancy": 36.5
        },
        {
         "HappyLifeYears": 9.5,
         "InequalityAdjustedLifeExpectancy": 33
        },
        {
         "HappyLifeYears": 18.2,
         "InequalityAdjustedLifeExpectancy": 54.2
        },
        {
         "HappyLifeYears": 11.6,
         "InequalityAdjustedLifeExpectancy": 33.1
        },
        {
         "HappyLifeYears": 53.9,
         "InequalityAdjustedLifeExpectancy": 77.8
        },
        {
         "HappyLifeYears": 9.6,
         "InequalityAdjustedLifeExpectancy": 27.3
        },
        {
         "HappyLifeYears": 44.7,
         "InequalityAdjustedLifeExpectancy": 74.9
        },
        {
         "HappyLifeYears": 30.6,
         "InequalityAdjustedLifeExpectancy": 68.6
        },
        {
         "HappyLifeYears": 35.1,
         "InequalityAdjustedLifeExpectancy": 63.1
        },
        {
         "HappyLifeYears": 15.4,
         "InequalityAdjustedLifeExpectancy": 43.3
        },
        {
         "HappyLifeYears": 48.2,
         "InequalityAdjustedLifeExpectancy": 72.6
        },
        {
         "HappyLifeYears": 10.3,
         "InequalityAdjustedLifeExpectancy": 30.6
        },
        {
         "HappyLifeYears": 39.6,
         "InequalityAdjustedLifeExpectancy": 73.5
        },
        {
         "HappyLifeYears": 42.3,
         "InequalityAdjustedLifeExpectancy": 76.6
        },
        {
         "HappyLifeYears": 43.4,
         "InequalityAdjustedLifeExpectancy": 75.5
        },
        {
         "HappyLifeYears": 54.4,
         "InequalityAdjustedLifeExpectancy": 76.8
        },
        {
         "HappyLifeYears": 15.1,
         "InequalityAdjustedLifeExpectancy": 41.4
        },
        {
         "HappyLifeYears": 23.7,
         "InequalityAdjustedLifeExpectancy": 60.8
        },
        {
         "HappyLifeYears": 34.3,
         "InequalityAdjustedLifeExpectancy": 64.1
        },
        {
         "HappyLifeYears": 21.8,
         "InequalityAdjustedLifeExpectancy": 61.3
        },
        {
         "HappyLifeYears": 32.2,
         "InequalityAdjustedLifeExpectancy": 62.5
        },
        {
         "HappyLifeYears": 35,
         "InequalityAdjustedLifeExpectancy": 72.6
        },
        {
         "HappyLifeYears": 17.8,
         "InequalityAdjustedLifeExpectancy": 43.8
        },
        {
         "HappyLifeYears": 54.6,
         "InequalityAdjustedLifeExpectancy": 77.6
        },
        {
         "HappyLifeYears": 48.1,
         "InequalityAdjustedLifeExpectancy": 78.5
        },
        {
         "HappyLifeYears": 15.4,
         "InequalityAdjustedLifeExpectancy": 45.8
        },
        {
         "HappyLifeYears": 24.7,
         "InequalityAdjustedLifeExpectancy": 66.9
        },
        {
         "HappyLifeYears": 48.2,
         "InequalityAdjustedLifeExpectancy": 77.6
        },
        {
         "HappyLifeYears": 18.8,
         "InequalityAdjustedLifeExpectancy": 42.2
        },
        {
         "HappyLifeYears": 33.3,
         "InequalityAdjustedLifeExpectancy": 77.6
        },
        {
         "HappyLifeYears": 29.6,
         "InequalityAdjustedLifeExpectancy": 59.2
        },
        {
         "HappyLifeYears": 11.8,
         "InequalityAdjustedLifeExpectancy": 37.2
        },
        {
         "HappyLifeYears": 16.5,
         "InequalityAdjustedLifeExpectancy": 42.9
        },
        {
         "HappyLifeYears": 22.1,
         "InequalityAdjustedLifeExpectancy": 58.5
        },
        {
         "HappyLifeYears": 40.1,
         "InequalityAdjustedLifeExpectancy": 81.3
        },
        {
         "HappyLifeYears": 28.7,
         "InequalityAdjustedLifeExpectancy": 70.9
        },
        {
         "HappyLifeYears": 58,
         "InequalityAdjustedLifeExpectancy": 79.8
        },
        {
         "HappyLifeYears": 20.4,
         "InequalityAdjustedLifeExpectancy": 51.1
        },
        {
         "HappyLifeYears": 28.4,
         "InequalityAdjustedLifeExpectancy": 57.2
        },
        {
         "HappyLifeYears": 25.4,
         "InequalityAdjustedLifeExpectancy": 66.9
        },
        {
         "HappyLifeYears": 22.8,
         "InequalityAdjustedLifeExpectancy": 55.6
        },
        {
         "HappyLifeYears": 50.3,
         "InequalityAdjustedLifeExpectancy": 77.5
        },
        {
         "HappyLifeYears": 52.5,
         "InequalityAdjustedLifeExpectancy": 78.7
        },
        {
         "HappyLifeYears": 41.1,
         "InequalityAdjustedLifeExpectancy": 80.2
        },
        {
         "HappyLifeYears": 31.9,
         "InequalityAdjustedLifeExpectancy": 66.3
        },
        {
         "HappyLifeYears": 44,
         "InequalityAdjustedLifeExpectancy": 80.6
        },
        {
         "HappyLifeYears": 31.7,
         "InequalityAdjustedLifeExpectancy": 60.7
        },
        {
         "HappyLifeYears": 16.2,
         "InequalityAdjustedLifeExpectancy": 41
        },
        {
         "HappyLifeYears": 28.7,
         "InequalityAdjustedLifeExpectancy": 60.2
        },
        {
         "HappyLifeYears": 31.2,
         "InequalityAdjustedLifeExpectancy": 68.7
        },
        {
         "HappyLifeYears": 28.2,
         "InequalityAdjustedLifeExpectancy": 73.1
        },
        {
         "HappyLifeYears": 13.4,
         "InequalityAdjustedLifeExpectancy": 32.6
        },
        {
         "HappyLifeYears": 15.7,
         "InequalityAdjustedLifeExpectancy": 40.3
        },
        {
         "HappyLifeYears": 36.4,
         "InequalityAdjustedLifeExpectancy": 68.8
        },
        {
         "HappyLifeYears": 51.7,
         "InequalityAdjustedLifeExpectancy": 79
        },
        {
         "HappyLifeYears": 27.2,
         "InequalityAdjustedLifeExpectancy": 69.4
        },
        {
         "HappyLifeYears": 13.7,
         "InequalityAdjustedLifeExpectancy": 40.4
        },
        {
         "HappyLifeYears": 38.3,
         "InequalityAdjustedLifeExpectancy": 69.5
        },
        {
         "HappyLifeYears": 40.8,
         "InequalityAdjustedLifeExpectancy": 76.6
        },
        {
         "HappyLifeYears": 18,
         "InequalityAdjustedLifeExpectancy": 41.5
        },
        {
         "HappyLifeYears": 33.1,
         "InequalityAdjustedLifeExpectancy": 66.7
        },
        {
         "HappyLifeYears": 44.3,
         "InequalityAdjustedLifeExpectancy": 66.3
        },
        {
         "HappyLifeYears": 25.3,
         "InequalityAdjustedLifeExpectancy": 56.9
        },
        {
         "HappyLifeYears": 32.1,
         "InequalityAdjustedLifeExpectancy": 71.8
        },
        {
         "HappyLifeYears": 26.7,
         "InequalityAdjustedLifeExpectancy": 61.6
        },
        {
         "HappyLifeYears": 15,
         "InequalityAdjustedLifeExpectancy": 34.5
        },
        {
         "HappyLifeYears": 18.8,
         "InequalityAdjustedLifeExpectancy": 48.4
        },
        {
         "HappyLifeYears": 21.3,
         "InequalityAdjustedLifeExpectancy": 50.1
        },
        {
         "HappyLifeYears": 20.2,
         "InequalityAdjustedLifeExpectancy": 55.3
        },
        {
         "HappyLifeYears": 57,
         "InequalityAdjustedLifeExpectancy": 78.2
        },
        {
         "HappyLifeYears": 52.7,
         "InequalityAdjustedLifeExpectancy": 77.7
        },
        {
         "HappyLifeYears": 29.2,
         "InequalityAdjustedLifeExpectancy": 63.4
        },
        {
         "HappyLifeYears": 13.1,
         "InequalityAdjustedLifeExpectancy": 38.9
        },
        {
         "HappyLifeYears": 15.5,
         "InequalityAdjustedLifeExpectancy": 30.9
        },
        {
         "HappyLifeYears": 57.1,
         "InequalityAdjustedLifeExpectancy": 78.6
        },
        {
         "HappyLifeYears": 44.5,
         "InequalityAdjustedLifeExpectancy": 70.9
        },
        {
         "HappyLifeYears": 19.5,
         "InequalityAdjustedLifeExpectancy": 44.1
        },
        {
         "HappyLifeYears": 24.5,
         "InequalityAdjustedLifeExpectancy": 62.6
        },
        {
         "HappyLifeYears": 42.1,
         "InequalityAdjustedLifeExpectancy": 68.3
        },
        {
         "HappyLifeYears": 31.8,
         "InequalityAdjustedLifeExpectancy": 59.4
        },
        {
         "HappyLifeYears": 32.9,
         "InequalityAdjustedLifeExpectancy": 63.5
        },
        {
         "HappyLifeYears": 24.1,
         "InequalityAdjustedLifeExpectancy": 56.9
        },
        {
         "HappyLifeYears": 39.2,
         "InequalityAdjustedLifeExpectancy": 72.9
        },
        {
         "HappyLifeYears": 32.3,
         "InequalityAdjustedLifeExpectancy": 77.2
        },
        {
         "HappyLifeYears": 13.6,
         "InequalityAdjustedLifeExpectancy": 42
        },
        {
         "HappyLifeYears": 30.1,
         "InequalityAdjustedLifeExpectancy": 68.1
        },
        {
         "HappyLifeYears": 31.7,
         "InequalityAdjustedLifeExpectancy": 63.4
        },
        {
         "HappyLifeYears": 12.4,
         "InequalityAdjustedLifeExpectancy": 44.3
        },
        {
         "HappyLifeYears": 15.5,
         "InequalityAdjustedLifeExpectancy": 49.1
        },
        {
         "HappyLifeYears": 30.3,
         "InequalityAdjustedLifeExpectancy": 68.6
        },
        {
         "HappyLifeYears": 10.8,
         "InequalityAdjustedLifeExpectancy": 28.2
        },
        {
         "HappyLifeYears": 37.9,
         "InequalityAdjustedLifeExpectancy": 71.9
        },
        {
         "HappyLifeYears": 42.6,
         "InequalityAdjustedLifeExpectancy": 77.1
        },
        {
         "HappyLifeYears": 18.5,
         "InequalityAdjustedLifeExpectancy": 41.8
        },
        {
         "HappyLifeYears": 42.2,
         "InequalityAdjustedLifeExpectancy": 78.3
        },
        {
         "HappyLifeYears": 45.3,
         "InequalityAdjustedLifeExpectancy": 79.3
        },
        {
         "HappyLifeYears": 24.9,
         "InequalityAdjustedLifeExpectancy": 68.6
        },
        {
         "HappyLifeYears": 35.2,
         "InequalityAdjustedLifeExpectancy": 61.2
        },
        {
         "HappyLifeYears": 13.6,
         "InequalityAdjustedLifeExpectancy": 31.8
        },
        {
         "HappyLifeYears": 57.4,
         "InequalityAdjustedLifeExpectancy": 79.1
        },
        {
         "HappyLifeYears": 59.3,
         "InequalityAdjustedLifeExpectancy": 79.4
        },
        {
         "HappyLifeYears": 14.7,
         "InequalityAdjustedLifeExpectancy": 60.2
        },
        {
         "HappyLifeYears": 22.2,
         "InequalityAdjustedLifeExpectancy": 53
        },
        {
         "HappyLifeYears": 16.2,
         "InequalityAdjustedLifeExpectancy": 47.7
        },
        {
         "HappyLifeYears": 38.6,
         "InequalityAdjustedLifeExpectancy": 66.3
        },
        {
         "HappyLifeYears": 9,
         "InequalityAdjustedLifeExpectancy": 39.6
        },
        {
         "HappyLifeYears": 34.4,
         "InequalityAdjustedLifeExpectancy": 58.4
        },
        {
         "HappyLifeYears": 25.2,
         "InequalityAdjustedLifeExpectancy": 65.5
        },
        {
         "HappyLifeYears": 31.2,
         "InequalityAdjustedLifeExpectancy": 66.2
        },
        {
         "HappyLifeYears": 24,
         "InequalityAdjustedLifeExpectancy": 48.3
        },
        {
         "HappyLifeYears": 13.8,
         "InequalityAdjustedLifeExpectancy": 36.8
        },
        {
         "HappyLifeYears": 28.3,
         "InequalityAdjustedLifeExpectancy": 64.2
        },
        {
         "HappyLifeYears": 49.1,
         "InequalityAdjustedLifeExpectancy": 76.8
        },
        {
         "HappyLifeYears": 46.8,
         "InequalityAdjustedLifeExpectancy": 74
        },
        {
         "HappyLifeYears": 39.4,
         "InequalityAdjustedLifeExpectancy": 69.6
        },
        {
         "HappyLifeYears": 27.9,
         "InequalityAdjustedLifeExpectancy": 51.6
        },
        {
         "HappyLifeYears": 34.9,
         "InequalityAdjustedLifeExpectancy": 60.3
        },
        {
         "HappyLifeYears": 41.5,
         "InequalityAdjustedLifeExpectancy": 65.5
        },
        {
         "HappyLifeYears": 32.8,
         "InequalityAdjustedLifeExpectancy": 64.8
        },
        {
         "HappyLifeYears": 15.2,
         "InequalityAdjustedLifeExpectancy": 44.7
        },
        {
         "HappyLifeYears": 16.7,
         "InequalityAdjustedLifeExpectancy": 38.7
        },
        {
         "HappyLifeYears": 16.4,
         "InequalityAdjustedLifeExpectancy": 36.9
        }
       ]
      },
      "encoding": {
       "x": {
        "field": "InequalityAdjustedLifeExpectancy",
        "scale": {
         "domain": [
          27.3,
          81.3
         ]
        },
        "type": "quantitative"
       },
       "y": {
        "field": "HappyLifeYears",
        "scale": {
         "domain": [
          9,
          59.3
         ]
        },
        "type": "quantitative"
       }
      },
      "height": 150,
      "mark": "circle",
      "selection": {
       "selector028": {
        "bind": "scales",
        "encodings": [
         "x",
         "y"
        ],
        "type": "interval"
       }
      },
      "width": 160
     }
    },
    "time": "2020-07-12T13:24:59.087Z",
    "type": "clickVis"
   },
   {
    "code": "df = pd.read_csv(\"lux/data/hpi.csv\")\ndf",
    "id": "12a1be56c9ae4abab0a1f946bd40bc68",
    "order_count": 3,
    "time": "2020-07-12T13:25:00.336Z",
    "type": "selectCodeCell"
   },
   {
    "param": {
     "index": 10,
     "tabTitle": "Correlation",
     "vis": {
      "$schema": "https://vega.github.io/schema/vega-lite/v4.8.1.json",
      "config": {
       "mark": {
        "tooltip": {
         "content": "encoding"
        }
       },
       "view": {
        "continuousHeight": 300,
        "continuousWidth": 400
       }
      },
      "data": {
       "name": "data-cffbaddba8d2091d19631c8240894572"
      },
      "datasets": {
       "data-cffbaddba8d2091d19631c8240894572": [
        {
         "Footprint": 0.8,
         "GDPPerCapita": 691
        },
        {
         "Footprint": 2.2,
         "GDPPerCapita": 4247
        },
        {
         "Footprint": 2.1,
         "GDPPerCapita": 5584
        },
        {
         "Footprint": 3.1,
         "GDPPerCapita": 14357
        },
        {
         "Footprint": 2.2,
         "GDPPerCapita": 3566
        },
        {
         "Footprint": 9.3,
         "GDPPerCapita": 67646
        },
        {
         "Footprint": 6.1,
         "GDPPerCapita": 48324
        },
        {
         "Footprint": 0.7,
         "GDPPerCapita": 859
        },
        {
         "Footprint": 5.1,
         "GDPPerCapita": 6722
        },
        {
         "Footprint": 7.4,
         "GDPPerCapita": 44731
        },
        {
         "Footprint": 2.5,
         "GDPPerCapita": 4674
        },
        {
         "Footprint": 1.4,
         "GDPPerCapita": 808
        },
        {
         "Footprint": 2.3,
         "GDPPerCapita": 2452
        },
        {
         "Footprint": 3,
         "GDPPerCapita": 2645
        },
        {
         "Footprint": 3.1,
         "GDPPerCapita": 4495
        },
        {
         "Footprint": 3.8,
         "GDPPerCapita": 6936
        },
        {
         "Footprint": 3.1,
         "GDPPerCapita": 12157
        },
        {
         "Footprint": 3.3,
         "GDPPerCapita": 7333
        },
        {
         "Footprint": 1.2,
         "GDPPerCapita": 673
        },
        {
         "Footprint": 0.8,
         "GDPPerCapita": 244
        },
        {
         "Footprint": 1.2,
         "GDPPerCapita": 946
        },
        {
         "Footprint": 1.2,
         "GDPPerCapita": 1222
        },
        {
         "Footprint": 8.2,
         "GDPPerCapita": 52738
        },
        {
         "Footprint": 1.5,
         "GDPPerCapita": 973
        },
        {
         "Footprint": 4.4,
         "GDPPerCapita": 15253
        },
        {
         "Footprint": 3.4,
         "GDPPerCapita": 6265
        },
        {
         "Footprint": 1.9,
         "GDPPerCapita": 7885
        },
        {
         "Footprint": 1,
         "GDPPerCapita": 750
        },
        {
         "Footprint": 2.8,
         "GDPPerCapita": 9733
        },
        {
         "Footprint": 1.3,
         "GDPPerCapita": 1281
        },
        {
         "Footprint": 3.9,
         "GDPPerCapita": 13236
        },
        {
         "Footprint": 4.2,
         "GDPPerCapita": 28868
        },
        {
         "Footprint": 5.2,
         "GDPPerCapita": 19641
        },
        {
         "Footprint": 5.5,
         "GDPPerCapita": 57636
        },
        {
         "Footprint": 2.2,
         "GDPPerCapita": 1587
        },
        {
         "Footprint": 1.5,
         "GDPPerCapita": 5967
        },
        {
         "Footprint": 2.2,
         "GDPPerCapita": 5702
        },
        {
         "Footprint": 2.2,
         "GDPPerCapita": 3226
        },
        {
         "Footprint": 2.1,
         "GDPPerCapita": 3922
        },
        {
         "Footprint": 6.9,
         "GDPPerCapita": 17491
        },
        {
         "Footprint": 1,
         "GDPPerCapita": 470
        },
        {
         "Footprint": 5.9,
         "GDPPerCapita": 47416
        },
        {
         "Footprint": 5.1,
         "GDPPerCapita": 40850
        },
        {
         "Footprint": 2,
         "GDPPerCapita": 10642
        },
        {
         "Footprint": 1.6,
         "GDPPerCapita": 4143
        },
        {
         "Footprint": 5.3,
         "GDPPerCapita": 44011
        },
        {
         "Footprint": 2,
         "GDPPerCapita": 1642
        },
        {
         "Footprint": 4.4,
         "GDPPerCapita": 22243
        },
        {
         "Footprint": 1.9,
         "GDPPerCapita": 3279
        },
        {
         "Footprint": 1.4,
         "GDPPerCapita": 487
        },
        {
         "Footprint": 0.6,
         "GDPPerCapita": 767
        },
        {
         "Footprint": 1.7,
         "GDPPerCapita": 2395
        },
        {
         "Footprint": 8.8,
         "GDPPerCapita": 36708
        },
        {
         "Footprint": 2.9,
         "GDPPerCapita": 12820
        },
        {
         "Footprint": 6.4,
         "GDPPerCapita": 44259
        },
        {
         "Footprint": 1.2,
         "GDPPerCapita": 1450
        },
        {
         "Footprint": 1.6,
         "GDPPerCapita": 3701
        },
        {
         "Footprint": 2.8,
         "GDPPerCapita": 7711
        },
        {
         "Footprint": 1.9,
         "GDPPerCapita": 6649
        },
        {
         "Footprint": 5.6,
         "GDPPerCapita": 48977
        },
        {
         "Footprint": 6.2,
         "GDPPerCapita": 32819
        },
        {
         "Footprint": 4.6,
         "GDPPerCapita": 34844
        },
        {
         "Footprint": 1.9,
         "GDPPerCapita": 5446
        },
        {
         "Footprint": 5,
         "GDPPerCapita": 46679
        },
        {
         "Footprint": 5.6,
         "GDPPerCapita": 12120
        },
        {
         "Footprint": 1,
         "GDPPerCapita": 1185
        },
        {
         "Footprint": 1.9,
         "GDPPerCapita": 1178
        },
        {
         "Footprint": 6.3,
         "GDPPerCapita": 13775
        },
        {
         "Footprint": 3.8,
         "GDPPerCapita": 9729
        },
        {
         "Footprint": 1.7,
         "GDPPerCapita": 1159
        },
        {
         "Footprint": 1.2,
         "GDPPerCapita": 414
        },
        {
         "Footprint": 5.8,
         "GDPPerCapita": 14343
        },
        {
         "Footprint": 15.8,
         "GDPPerCapita": 105447
        },
        {
         "Footprint": 3.3,
         "GDPPerCapita": 4710
        },
        {
         "Footprint": 0.8,
         "GDPPerCapita": 270
        },
        {
         "Footprint": 3.7,
         "GDPPerCapita": 10835
        },
        {
         "Footprint": 4.4,
         "GDPPerCapita": 21176
        },
        {
         "Footprint": 2.5,
         "GDPPerCapita": 1283
        },
        {
         "Footprint": 3.5,
         "GDPPerCapita": 9114
        },
        {
         "Footprint": 2.9,
         "GDPPerCapita": 9703
        },
        {
         "Footprint": 6.1,
         "GDPPerCapita": 4377
        },
        {
         "Footprint": 3.8,
         "GDPPerCapita": 6587
        },
        {
         "Footprint": 1.7,
         "GDPPerCapita": 2931
        },
        {
         "Footprint": 0.9,
         "GDPPerCapita": 565
        },
        {
         "Footprint": 1.4,
         "GDPPerCapita": 1421
        },
        {
         "Footprint": 2.5,
         "GDPPerCapita": 5680
        },
        {
         "Footprint": 1,
         "GDPPerCapita": 685
        },
        {
         "Footprint": 5.3,
         "GDPPerCapita": 49475
        },
        {
         "Footprint": 5.6,
         "GDPPerCapita": 39505
        },
        {
         "Footprint": 1.4,
         "GDPPerCapita": 1780
        },
        {
         "Footprint": 1.6,
         "GDPPerCapita": 394
        },
        {
         "Footprint": 1.2,
         "GDPPerCapita": 2740
        },
        {
         "Footprint": 5,
         "GDPPerCapita": 101564
        },
        {
         "Footprint": 7.5,
         "GDPPerCapita": 21534
        },
        {
         "Footprint": 0.8,
         "GDPPerCapita": 1266
        },
        {
         "Footprint": 1.2,
         "GDPPerCapita": 2783
        },
        {
         "Footprint": 2.8,
         "GDPPerCapita": 10139
        },
        {
         "Footprint": 4.2,
         "GDPPerCapita": 3858
        },
        {
         "Footprint": 2.3,
         "GDPPerCapita": 6389
        },
        {
         "Footprint": 1.1,
         "GDPPerCapita": 2605
        },
        {
         "Footprint": 4.4,
         "GDPPerCapita": 13142
        },
        {
         "Footprint": 3.9,
         "GDPPerCapita": 20577
        },
        {
         "Footprint": 1.3,
         "GDPPerCapita": 3191
        },
        {
         "Footprint": 2.7,
         "GDPPerCapita": 8577
        },
        {
         "Footprint": 5.7,
         "GDPPerCapita": 14079
        },
        {
         "Footprint": 0.9,
         "GDPPerCapita": 667
        },
        {
         "Footprint": 1.2,
         "GDPPerCapita": 1019
        },
        {
         "Footprint": 2.7,
         "GDPPerCapita": 5659
        },
        {
         "Footprint": 1.2,
         "GDPPerCapita": 619
        },
        {
         "Footprint": 4.1,
         "GDPPerCapita": 17207
        },
        {
         "Footprint": 5.8,
         "GDPPerCapita": 22478
        },
        {
         "Footprint": 3.3,
         "GDPPerCapita": 7592
        },
        {
         "Footprint": 5.7,
         "GDPPerCapita": 24454
        },
        {
         "Footprint": 3.7,
         "GDPPerCapita": 28648
        },
        {
         "Footprint": 1.3,
         "GDPPerCapita": 3351
        },
        {
         "Footprint": 4.3,
         "GDPPerCapita": 9422
        },
        {
         "Footprint": 2,
         "GDPPerCapita": 3989
        },
        {
         "Footprint": 7.3,
         "GDPPerCapita": 57134
        },
        {
         "Footprint": 5.8,
         "GDPPerCapita": 83209
        },
        {
         "Footprint": 1.5,
         "GDPPerCapita": 2080
        },
        {
         "Footprint": 0.9,
         "GDPPerCapita": 962
        },
        {
         "Footprint": 1.3,
         "GDPPerCapita": 828
        },
        {
         "Footprint": 2.7,
         "GDPPerCapita": 5918
        },
        {
         "Footprint": 1.1,
         "GDPPerCapita": 580
        },
        {
         "Footprint": 7.9,
         "GDPPerCapita": 18322
        },
        {
         "Footprint": 2.3,
         "GDPPerCapita": 4188
        },
        {
         "Footprint": 3.3,
         "GDPPerCapita": 10646
        },
        {
         "Footprint": 5.5,
         "GDPPerCapita": 6798
        },
        {
         "Footprint": 1.2,
         "GDPPerCapita": 656
        },
        {
         "Footprint": 2.8,
         "GDPPerCapita": 3855
        },
        {
         "Footprint": 4.9,
         "GDPPerCapita": 41295
        },
        {
         "Footprint": 8.2,
         "GDPPerCapita": 51457
        },
        {
         "Footprint": 2.9,
         "GDPPerCapita": 15128
        },
        {
         "Footprint": 2.3,
         "GDPPerCapita": 1719
        },
        {
         "Footprint": 1.9,
         "GDPPerCapita": 3158
        },
        {
         "Footprint": 3.6,
         "GDPPerCapita": 12772
        },
        {
         "Footprint": 1.7,
         "GDPPerCapita": 1755
        },
        {
         "Footprint": 1,
         "GDPPerCapita": 1289
        },
        {
         "Footprint": 1,
         "GDPPerCapita": 1687
        },
        {
         "Footprint": 1.4,
         "GDPPerCapita": 851
        }
       ]
      },
      "encoding": {
       "x": {
        "field": "Footprint",
        "scale": {
         "domain": [
          0.6,
          15.8
         ]
        },
        "type": "quantitative"
       },
       "y": {
        "field": "GDPPerCapita",
        "scale": {
         "domain": [
          244,
          105447
         ]
        },
        "type": "quantitative"
       }
      },
      "height": 150,
      "mark": "circle",
      "selection": {
       "selector029": {
        "bind": "scales",
        "encodings": [
         "x",
         "y"
        ],
        "type": "interval"
       }
      },
      "width": 160
     }
    },
    "time": "2020-07-12T13:25:00.338Z",
    "type": "clickVis"
   },
   {
    "code": "df = pd.read_csv(\"lux/data/hpi.csv\")\ndf",
    "id": "12a1be56c9ae4abab0a1f946bd40bc68",
    "order_count": 3,
    "time": "2020-07-12T13:25:01.085Z",
    "type": "selectCodeCell"
   },
   {
    "param": {
     "Correlation": [
      5,
      9,
      10
     ]
    },
    "time": "2020-07-12T13:25:01.087Z",
    "type": "exportBtnClick"
   },
   {
    "code": "bookmarked_vis = df.get_exported()\nbookmarked_vis",
    "id": "a0843739aae2474e95eae3e889cd58c8",
    "order_count": 5,
    "time": "2020-07-12T13:25:02.978Z",
    "type": "selectCodeCell"
   },
   {
    "code": "bookmarked_vis = df.get_exported()\nbookmarked_vis",
    "id": "a0843739aae2474e95eae3e889cd58c8",
    "order_count": 5,
    "time": "2020-07-12T13:25:02.984Z",
    "type": "editCodeCell"
   },
   {
    "code": "bookmarked_vis = df.get_exported()\nbookmarked_vis",
    "id": "a0843739aae2474e95eae3e889cd58c8",
    "order_count": 5,
    "time": "2020-07-12T13:25:03.062Z",
    "type": "selectCodeCell"
   },
   {
    "code": "bookmarked_vis = df.get_exported()\nbookmarked_vis",
    "id": "a0843739aae2474e95eae3e889cd58c8",
    "order_count": 5,
    "time": "2020-07-12T13:25:03.437Z",
    "type": "executeCodeCell"
   },
   {
    "code": "The visualization showing the relationship between `GDPPerCapita` and `Footprint` is very interesting. We find that there is an outlier with extremely high ecological footprint as well as high GDP per capita. So we click on this visualization and click on the export button.",
    "id": "668eb7fb960e451eb57c681baf3de28f",
    "order_count": 6,
    "time": "2020-07-12T13:25:03.454Z",
    "type": "selectMarkdownCell"
   },
   {
    "id": "a0843739aae2474e95eae3e889cd58c8",
    "isPrintLuxDf": false,
    "isPrintPandasDf": false,
    "isPrintView": true,
    "isPrintViewCollection": false,
    "time": "2020-07-12T13:25:03.515Z",
    "type": "completeCodeCell"
   },
   {
    "param": "",
    "time": "2020-07-12T13:25:03.522Z",
    "type": "initWidget"
   },
   {
    "code": "bookmarked_vis = df.get_exported()\nbookmarked_vis",
    "id": "a0843739aae2474e95eae3e889cd58c8",
    "order_count": 5,
    "time": "2020-07-12T13:25:05.735Z",
    "type": "selectCodeCell"
   },
   {
    "code": "bookmarked_vis = df.get_exported()\nbookmarked_vis",
    "id": "a0843739aae2474e95eae3e889cd58c8",
    "order_count": 5,
    "time": "2020-07-12T13:25:09.153Z",
    "type": "selectCodeCell"
   },
   {
    "param": {
     "index": 2,
     "tabTitle": "View Collection",
     "vis": {
      "$schema": "https://vega.github.io/schema/vega-lite/v4.8.1.json",
      "config": {
       "mark": {
        "tooltip": {
         "content": "encoding"
        }
       },
       "view": {
        "continuousHeight": 300,
        "continuousWidth": 400
       }
      },
      "data": {
       "name": "data-cffbaddba8d2091d19631c8240894572"
      },
      "datasets": {
       "data-cffbaddba8d2091d19631c8240894572": [
        {
         "Footprint": 0.8,
         "GDPPerCapita": 691
        },
        {
         "Footprint": 2.2,
         "GDPPerCapita": 4247
        },
        {
         "Footprint": 2.1,
         "GDPPerCapita": 5584
        },
        {
         "Footprint": 3.1,
         "GDPPerCapita": 14357
        },
        {
         "Footprint": 2.2,
         "GDPPerCapita": 3566
        },
        {
         "Footprint": 9.3,
         "GDPPerCapita": 67646
        },
        {
         "Footprint": 6.1,
         "GDPPerCapita": 48324
        },
        {
         "Footprint": 0.7,
         "GDPPerCapita": 859
        },
        {
         "Footprint": 5.1,
         "GDPPerCapita": 6722
        },
        {
         "Footprint": 7.4,
         "GDPPerCapita": 44731
        },
        {
         "Footprint": 2.5,
         "GDPPerCapita": 4674
        },
        {
         "Footprint": 1.4,
         "GDPPerCapita": 808
        },
        {
         "Footprint": 2.3,
         "GDPPerCapita": 2452
        },
        {
         "Footprint": 3,
         "GDPPerCapita": 2645
        },
        {
         "Footprint": 3.1,
         "GDPPerCapita": 4495
        },
        {
         "Footprint": 3.8,
         "GDPPerCapita": 6936
        },
        {
         "Footprint": 3.1,
         "GDPPerCapita": 12157
        },
        {
         "Footprint": 3.3,
         "GDPPerCapita": 7333
        },
        {
         "Footprint": 1.2,
         "GDPPerCapita": 673
        },
        {
         "Footprint": 0.8,
         "GDPPerCapita": 244
        },
        {
         "Footprint": 1.2,
         "GDPPerCapita": 946
        },
        {
         "Footprint": 1.2,
         "GDPPerCapita": 1222
        },
        {
         "Footprint": 8.2,
         "GDPPerCapita": 52738
        },
        {
         "Footprint": 1.5,
         "GDPPerCapita": 973
        },
        {
         "Footprint": 4.4,
         "GDPPerCapita": 15253
        },
        {
         "Footprint": 3.4,
         "GDPPerCapita": 6265
        },
        {
         "Footprint": 1.9,
         "GDPPerCapita": 7885
        },
        {
         "Footprint": 1,
         "GDPPerCapita": 750
        },
        {
         "Footprint": 2.8,
         "GDPPerCapita": 9733
        },
        {
         "Footprint": 1.3,
         "GDPPerCapita": 1281
        },
        {
         "Footprint": 3.9,
         "GDPPerCapita": 13236
        },
        {
         "Footprint": 4.2,
         "GDPPerCapita": 28868
        },
        {
         "Footprint": 5.2,
         "GDPPerCapita": 19641
        },
        {
         "Footprint": 5.5,
         "GDPPerCapita": 57636
        },
        {
         "Footprint": 2.2,
         "GDPPerCapita": 1587
        },
        {
         "Footprint": 1.5,
         "GDPPerCapita": 5967
        },
        {
         "Footprint": 2.2,
         "GDPPerCapita": 5702
        },
        {
         "Footprint": 2.2,
         "GDPPerCapita": 3226
        },
        {
         "Footprint": 2.1,
         "GDPPerCapita": 3922
        },
        {
         "Footprint": 6.9,
         "GDPPerCapita": 17491
        },
        {
         "Footprint": 1,
         "GDPPerCapita": 470
        },
        {
         "Footprint": 5.9,
         "GDPPerCapita": 47416
        },
        {
         "Footprint": 5.1,
         "GDPPerCapita": 40850
        },
        {
         "Footprint": 2,
         "GDPPerCapita": 10642
        },
        {
         "Footprint": 1.6,
         "GDPPerCapita": 4143
        },
        {
         "Footprint": 5.3,
         "GDPPerCapita": 44011
        },
        {
         "Footprint": 2,
         "GDPPerCapita": 1642
        },
        {
         "Footprint": 4.4,
         "GDPPerCapita": 22243
        },
        {
         "Footprint": 1.9,
         "GDPPerCapita": 3279
        },
        {
         "Footprint": 1.4,
         "GDPPerCapita": 487
        },
        {
         "Footprint": 0.6,
         "GDPPerCapita": 767
        },
        {
         "Footprint": 1.7,
         "GDPPerCapita": 2395
        },
        {
         "Footprint": 8.8,
         "GDPPerCapita": 36708
        },
        {
         "Footprint": 2.9,
         "GDPPerCapita": 12820
        },
        {
         "Footprint": 6.4,
         "GDPPerCapita": 44259
        },
        {
         "Footprint": 1.2,
         "GDPPerCapita": 1450
        },
        {
         "Footprint": 1.6,
         "GDPPerCapita": 3701
        },
        {
         "Footprint": 2.8,
         "GDPPerCapita": 7711
        },
        {
         "Footprint": 1.9,
         "GDPPerCapita": 6649
        },
        {
         "Footprint": 5.6,
         "GDPPerCapita": 48977
        },
        {
         "Footprint": 6.2,
         "GDPPerCapita": 32819
        },
        {
         "Footprint": 4.6,
         "GDPPerCapita": 34844
        },
        {
         "Footprint": 1.9,
         "GDPPerCapita": 5446
        },
        {
         "Footprint": 5,
         "GDPPerCapita": 46679
        },
        {
         "Footprint": 5.6,
         "GDPPerCapita": 12120
        },
        {
         "Footprint": 1,
         "GDPPerCapita": 1185
        },
        {
         "Footprint": 1.9,
         "GDPPerCapita": 1178
        },
        {
         "Footprint": 6.3,
         "GDPPerCapita": 13775
        },
        {
         "Footprint": 3.8,
         "GDPPerCapita": 9729
        },
        {
         "Footprint": 1.7,
         "GDPPerCapita": 1159
        },
        {
         "Footprint": 1.2,
         "GDPPerCapita": 414
        },
        {
         "Footprint": 5.8,
         "GDPPerCapita": 14343
        },
        {
         "Footprint": 15.8,
         "GDPPerCapita": 105447
        },
        {
         "Footprint": 3.3,
         "GDPPerCapita": 4710
        },
        {
         "Footprint": 0.8,
         "GDPPerCapita": 270
        },
        {
         "Footprint": 3.7,
         "GDPPerCapita": 10835
        },
        {
         "Footprint": 4.4,
         "GDPPerCapita": 21176
        },
        {
         "Footprint": 2.5,
         "GDPPerCapita": 1283
        },
        {
         "Footprint": 3.5,
         "GDPPerCapita": 9114
        },
        {
         "Footprint": 2.9,
         "GDPPerCapita": 9703
        },
        {
         "Footprint": 6.1,
         "GDPPerCapita": 4377
        },
        {
         "Footprint": 3.8,
         "GDPPerCapita": 6587
        },
        {
         "Footprint": 1.7,
         "GDPPerCapita": 2931
        },
        {
         "Footprint": 0.9,
         "GDPPerCapita": 565
        },
        {
         "Footprint": 1.4,
         "GDPPerCapita": 1421
        },
        {
         "Footprint": 2.5,
         "GDPPerCapita": 5680
        },
        {
         "Footprint": 1,
         "GDPPerCapita": 685
        },
        {
         "Footprint": 5.3,
         "GDPPerCapita": 49475
        },
        {
         "Footprint": 5.6,
         "GDPPerCapita": 39505
        },
        {
         "Footprint": 1.4,
         "GDPPerCapita": 1780
        },
        {
         "Footprint": 1.6,
         "GDPPerCapita": 394
        },
        {
         "Footprint": 1.2,
         "GDPPerCapita": 2740
        },
        {
         "Footprint": 5,
         "GDPPerCapita": 101564
        },
        {
         "Footprint": 7.5,
         "GDPPerCapita": 21534
        },
        {
         "Footprint": 0.8,
         "GDPPerCapita": 1266
        },
        {
         "Footprint": 1.2,
         "GDPPerCapita": 2783
        },
        {
         "Footprint": 2.8,
         "GDPPerCapita": 10139
        },
        {
         "Footprint": 4.2,
         "GDPPerCapita": 3858
        },
        {
         "Footprint": 2.3,
         "GDPPerCapita": 6389
        },
        {
         "Footprint": 1.1,
         "GDPPerCapita": 2605
        },
        {
         "Footprint": 4.4,
         "GDPPerCapita": 13142
        },
        {
         "Footprint": 3.9,
         "GDPPerCapita": 20577
        },
        {
         "Footprint": 1.3,
         "GDPPerCapita": 3191
        },
        {
         "Footprint": 2.7,
         "GDPPerCapita": 8577
        },
        {
         "Footprint": 5.7,
         "GDPPerCapita": 14079
        },
        {
         "Footprint": 0.9,
         "GDPPerCapita": 667
        },
        {
         "Footprint": 1.2,
         "GDPPerCapita": 1019
        },
        {
         "Footprint": 2.7,
         "GDPPerCapita": 5659
        },
        {
         "Footprint": 1.2,
         "GDPPerCapita": 619
        },
        {
         "Footprint": 4.1,
         "GDPPerCapita": 17207
        },
        {
         "Footprint": 5.8,
         "GDPPerCapita": 22478
        },
        {
         "Footprint": 3.3,
         "GDPPerCapita": 7592
        },
        {
         "Footprint": 5.7,
         "GDPPerCapita": 24454
        },
        {
         "Footprint": 3.7,
         "GDPPerCapita": 28648
        },
        {
         "Footprint": 1.3,
         "GDPPerCapita": 3351
        },
        {
         "Footprint": 4.3,
         "GDPPerCapita": 9422
        },
        {
         "Footprint": 2,
         "GDPPerCapita": 3989
        },
        {
         "Footprint": 7.3,
         "GDPPerCapita": 57134
        },
        {
         "Footprint": 5.8,
         "GDPPerCapita": 83209
        },
        {
         "Footprint": 1.5,
         "GDPPerCapita": 2080
        },
        {
         "Footprint": 0.9,
         "GDPPerCapita": 962
        },
        {
         "Footprint": 1.3,
         "GDPPerCapita": 828
        },
        {
         "Footprint": 2.7,
         "GDPPerCapita": 5918
        },
        {
         "Footprint": 1.1,
         "GDPPerCapita": 580
        },
        {
         "Footprint": 7.9,
         "GDPPerCapita": 18322
        },
        {
         "Footprint": 2.3,
         "GDPPerCapita": 4188
        },
        {
         "Footprint": 3.3,
         "GDPPerCapita": 10646
        },
        {
         "Footprint": 5.5,
         "GDPPerCapita": 6798
        },
        {
         "Footprint": 1.2,
         "GDPPerCapita": 656
        },
        {
         "Footprint": 2.8,
         "GDPPerCapita": 3855
        },
        {
         "Footprint": 4.9,
         "GDPPerCapita": 41295
        },
        {
         "Footprint": 8.2,
         "GDPPerCapita": 51457
        },
        {
         "Footprint": 2.9,
         "GDPPerCapita": 15128
        },
        {
         "Footprint": 2.3,
         "GDPPerCapita": 1719
        },
        {
         "Footprint": 1.9,
         "GDPPerCapita": 3158
        },
        {
         "Footprint": 3.6,
         "GDPPerCapita": 12772
        },
        {
         "Footprint": 1.7,
         "GDPPerCapita": 1755
        },
        {
         "Footprint": 1,
         "GDPPerCapita": 1289
        },
        {
         "Footprint": 1,
         "GDPPerCapita": 1687
        },
        {
         "Footprint": 1.4,
         "GDPPerCapita": 851
        }
       ]
      },
      "encoding": {
       "x": {
        "field": "Footprint",
        "scale": {
         "domain": [
          0.6,
          15.8
         ]
        },
        "type": "quantitative"
       },
       "y": {
        "field": "GDPPerCapita",
        "scale": {
         "domain": [
          244,
          105447
         ]
        },
        "type": "quantitative"
       }
      },
      "height": 150,
      "mark": "circle",
      "selection": {
       "selector036": {
        "bind": "scales",
        "encodings": [
         "x",
         "y"
        ],
        "type": "interval"
       }
      },
      "width": 160
     }
    },
    "time": "2020-07-12T13:25:09.155Z",
    "type": "clickVis"
   },
   {
    "code": "bookmarked_vis = df.get_exported()\nbookmarked_vis",
    "id": "a0843739aae2474e95eae3e889cd58c8",
    "order_count": 5,
    "time": "2020-07-12T13:25:10.419Z",
    "type": "selectCodeCell"
   },
   {
    "param": {
     "View Collection": [
      2
     ]
    },
    "time": "2020-07-12T13:25:10.420Z",
    "type": "exportBtnClick"
   },
   {
    "code": "view = df.get_exported()[0]\nview",
    "id": "186e1ccd2ef446cfac8da8d98b1a122c",
    "order_count": 7,
    "time": "2020-07-12T13:25:11.825Z",
    "type": "selectCodeCell"
   },
   {
    "code": "view = df.get_exported()[0]\nview",
    "id": "186e1ccd2ef446cfac8da8d98b1a122c",
    "order_count": 7,
    "time": "2020-07-12T13:25:11.831Z",
    "type": "editCodeCell"
   },
   {
    "code": "view = df.get_exported()[0]\nview",
    "id": "186e1ccd2ef446cfac8da8d98b1a122c",
    "order_count": 7,
    "time": "2020-07-12T13:25:12.643Z",
    "type": "executeCodeCell"
   },
   {
    "code": "df.set_context_as_view(view)",
    "id": "e08b5df7007549379d93828434e743b1",
    "order_count": 8,
    "time": "2020-07-12T13:25:12.668Z",
    "type": "selectCodeCell"
   },
   {
    "id": "186e1ccd2ef446cfac8da8d98b1a122c",
    "isPrintLuxDf": false,
    "isPrintPandasDf": false,
    "isPrintView": true,
    "isPrintViewCollection": false,
    "time": "2020-07-12T13:25:12.686Z",
    "type": "completeCodeCell"
   },
   {
    "param": "",
    "time": "2020-07-12T13:25:12.690Z",
    "type": "initWidget"
   },
   {
    "code": "The visualization showing the relationship between `GDPPerCapita` and `Footprint` is very interesting. We find that there is an outlier with extremely high ecological footprint as well as high GDP per capita. So we click on this visualization and click on the export button.",
    "id": "668eb7fb960e451eb57c681baf3de28f",
    "order_count": 6,
    "time": "2020-07-12T13:25:24.698Z",
    "type": "selectMarkdownCell"
   },
   {
    "code": "The visualization showing the relationship between `GDPPerCapita` and `Footprint` is very interesting. We find that there is an outlier with extremely high ecological footprint as well as high GDP per capita. So we click on this visualization and click on the export button.",
    "id": "668eb7fb960e451eb57c681baf3de28f",
    "order_count": 6,
    "time": "2020-07-12T13:25:24.898Z",
    "type": "selectMarkdownCell"
   },
   {
    "code": "The visualization showing the relationship between `GDPPerCapita` and `Footprint` is very interesting. We find that there is an outlier with extremely high ecological footprint as well as high GDP per capita. So we click on this visualization and click on the export button.",
    "id": "668eb7fb960e451eb57c681baf3de28f",
    "order_count": 6,
    "time": "2020-07-12T13:25:25.730Z",
    "type": "editMarkdownCell"
   },
   {
    "code": "The visualization showing the relationship between `GDPPerCapita` and `Footprint` is very interesting. We find that there is an outlier with extremely high ecological footprint as well as high GDP per capita. So we click on this visualization and click on the export button.",
    "id": "668eb7fb960e451eb57c681baf3de28f",
    "order_count": 6,
    "time": "2020-07-12T13:25:25.922Z",
    "type": "selectMarkdownCell"
   },
   {
    "code": "From the recommended visualizationsThe visualization showing the relationship between `GDPPerCapita` and `Footprint` is very interesting. We find that there is an outlier with extremely high ecological footprint as well as high GDP per capita. So we click on this visualization and click on the export button.",
    "id": "668eb7fb960e451eb57c681baf3de28f",
    "order_count": 6,
    "time": "2020-07-12T13:25:45.680Z",
    "type": "selectMarkdownCell"
   },
   {
    "code": "view = df.get_exported()[0]\nview",
    "id": "186e1ccd2ef446cfac8da8d98b1a122c",
    "order_count": 7,
    "time": "2020-07-12T13:25:56.117Z",
    "type": "selectCodeCell"
   },
   {
    "code": "From the dataframe recommendations, the visualization showing the relationship between `GDPPerCapita` and `Footprint` is very interesting. We find that there is an outlier with extremely high ecological footprint as well as high GDP per capita. So we click on this visualization and click on the export button.",
    "id": "668eb7fb960e451eb57c681baf3de28f",
    "order_count": 6,
    "time": "2020-07-12T13:26:00.164Z",
    "type": "selectMarkdownCell"
   },
   {
    "code": "From the dataframe recommendations, the visualization showing the relationship between `GDPPerCapita` and `Footprint` is very interesting. We find that there is an outlier with extremely high ecological footprint as well as high GDP per capita. So we click on this visualization and click on the export button.",
    "id": "668eb7fb960e451eb57c681baf3de28f",
    "order_count": 6,
    "time": "2020-07-12T13:26:00.391Z",
    "type": "selectMarkdownCell"
   },
   {
    "code": "From the dataframe recommendations, the visualization showing the relationship between `GDPPerCapita` and `Footprint` is very interesting. We find that there is an outlier with extremely high ecological footprint as well as high GDP per capita. So we click on this visualization and click on the export button.",
    "id": "668eb7fb960e451eb57c681baf3de28f",
    "order_count": 6,
    "time": "2020-07-12T13:26:02.244Z",
    "type": "editMarkdownCell"
   },
   {
    "code": "From the dataframe recommendations, the visualization showing the relationship between `GDPPerCapita` and `Footprint` is very interesting. We find that there is an outlier with extremely high ecological footprint as well as high GDP per capita. So we click on this visualization and click on the export button.",
    "id": "668eb7fb960e451eb57c681baf3de28f",
    "order_count": 6,
    "time": "2020-07-12T13:26:03.733Z",
    "type": "selectMarkdownCell"
   },
   {
    "code": "view = df.get_exported()[0]\nview",
    "id": "186e1ccd2ef446cfac8da8d98b1a122c",
    "order_count": 7,
    "time": "2020-07-12T13:26:07.042Z",
    "type": "selectCodeCell"
   },
   {
    "time": "2020-07-12T13:26:31.889Z",
    "type": "kernelReady"
   },
   {
    "code": "view = df.get_exported()[0]\nview",
    "id": "186e1ccd2ef446cfac8da8d98b1a122c",
    "order_count": 7,
    "time": "2020-07-12T13:28:43.877Z",
    "type": "editCodeCell"
   },
   {
    "code": "view = df.get_exported()[0]\nview",
    "id": "186e1ccd2ef446cfac8da8d98b1a122c",
    "order_count": 7,
    "time": "2020-07-12T13:28:44.868Z",
    "type": "executeCodeCell"
   },
   {
    "code": "df.set_context_as_view(view)",
    "id": "e08b5df7007549379d93828434e743b1",
    "order_count": 8,
    "time": "2020-07-12T13:28:44.889Z",
    "type": "selectCodeCell"
   },
   {
    "id": "186e1ccd2ef446cfac8da8d98b1a122c",
    "isPrintLuxDf": false,
    "isPrintPandasDf": false,
    "isPrintView": true,
    "isPrintViewCollection": false,
    "time": "2020-07-12T13:28:44.916Z",
    "type": "completeCodeCell"
   },
   {
    "param": "",
    "time": "2020-07-12T13:28:44.927Z",
    "type": "initWidget"
   },
   {
    "code": "",
    "id": "a808821efbbb4c598a7f78c221e25416",
    "order_count": 8,
    "time": "2020-07-12T13:29:00.898Z",
    "type": "selectCodeCell"
   },
   {
    "code": "",
    "id": "a808821efbbb4c598a7f78c221e25416",
    "order_count": 8,
    "time": "2020-07-12T13:29:01.129Z",
    "type": "editCodeCell"
   },
   {
    "code": "From the dataframe recommendations, the visualization showing the relationship between `GDPPerCapita` and `Footprint` is very interesting. In particular, there is an outlier with extremely high ecological footprint as well as high GDP per capita. So we click on this visualization and click on the export button.",
    "id": "668eb7fb960e451eb57c681baf3de28f",
    "order_count": 6,
    "time": "2020-07-12T13:29:03.010Z",
    "type": "selectMarkdownCell"
   },
   {
    "code": "From the dataframe recommendations, the visualization showing the relationship between `GDPPerCapita` and `Footprint` is very interesting. In particular, there is an outlier with extremely high ecological footprint as well as high GDP per capita. So we click on this visualization and click on the export button.",
    "id": "668eb7fb960e451eb57c681baf3de28f",
    "order_count": 6,
    "time": "2020-07-12T13:29:03.537Z",
    "type": "selectMarkdownCell"
   },
   {
    "code": "From the dataframe recommendations, the visualization showing the relationship between `GDPPerCapita` and `Footprint` is very interesting. In particular, there is an outlier with extremely high ecological footprint as well as high GDP per capita. So we click on this visualization and click on the export button.",
    "id": "668eb7fb960e451eb57c681baf3de28f",
    "order_count": 6,
    "time": "2020-07-12T13:29:04.271Z",
    "type": "selectMarkdownCell"
   },
   {
    "code": "From the dataframe recommendations, the visualization showing the relationship between `GDPPerCapita` and `Footprint` is very interesting. In particular, there is an outlier with extremely high ecological footprint as well as high GDP per capita. So we click on this visualization and click on the export button.",
    "id": "668eb7fb960e451eb57c681baf3de28f",
    "order_count": 6,
    "time": "2020-07-12T13:29:04.965Z",
    "type": "selectMarkdownCell"
   },
   {
    "code": "From the dataframe recommendations, the visualization showing the relationship between `GDPPerCapita` and `Footprint` is very interesting. In particular, there is an outlier with extremely high ecological footprint as well as high GDP per capita. So we click on this visualization and click on the export button.",
    "id": "668eb7fb960e451eb57c681baf3de28f",
    "order_count": 6,
    "time": "2020-07-12T13:29:05.453Z",
    "type": "selectMarkdownCell"
   },
   {
    "code": "",
    "id": "a808821efbbb4c598a7f78c221e25416",
    "order_count": 8,
    "time": "2020-07-12T13:29:06.979Z",
    "type": "selectCodeCell"
   },
   {
    "code": "",
    "id": "a808821efbbb4c598a7f78c221e25416",
    "order_count": 8,
    "time": "2020-07-12T13:29:06.985Z",
    "type": "editCodeCell"
   },
   {
    "code": "",
    "id": "a808821efbbb4c598a7f78c221e25416",
    "order_count": 8,
    "time": "2020-07-12T13:29:07.153Z",
    "type": "selectCodeCell"
   },
   {
    "code": "",
    "id": "d32ae31d14954f8b88711fbb89056866",
    "order_count": 8,
    "time": "2020-07-12T13:29:11.436Z",
    "type": "editMarkdownCell"
   },
   {
    "code": "df.set_context_as_view(view)",
    "id": "e08b5df7007549379d93828434e743b1",
    "order_count": 9,
    "time": "2020-07-12T13:29:18.444Z",
    "type": "selectCodeCell"
   },
   {
    "code": "df.set_context_as_view(view)",
    "id": "e08b5df7007549379d93828434e743b1",
    "order_count": 9,
    "time": "2020-07-12T13:29:18.449Z",
    "type": "editCodeCell"
   },
   {
    "code": "df.set_context_as_view(view)",
    "id": "e08b5df7007549379d93828434e743b1",
    "order_count": 9,
    "time": "2020-07-12T13:29:18.897Z",
    "type": "executeCodeCell"
   },
   {
    "code": "Accessing program state: \n\t- df.recommendation\n\t- df.viewCollection\n- df.",
    "id": "62f39efb6def4ff28a9fed53c57dd1ed",
    "order_count": 10,
    "time": "2020-07-12T13:29:18.923Z",
    "type": "selectCodeCell"
   },
   {
    "id": "e08b5df7007549379d93828434e743b1",
    "isPrintLuxDf": false,
    "isPrintPandasDf": false,
    "isPrintView": false,
    "isPrintViewCollection": false,
    "time": "2020-07-12T13:29:18.929Z",
    "type": "completeCodeCell"
   },
   {
    "code": "df.set_context_as_view(view)",
    "id": "e08b5df7007549379d93828434e743b1",
    "order_count": 9,
    "time": "2020-07-12T13:29:19.717Z",
    "type": "selectCodeCell"
   },
   {
    "code": "df.set_context_as_view(view)",
    "id": "e08b5df7007549379d93828434e743b1",
    "order_count": 9,
    "time": "2020-07-12T13:29:19.722Z",
    "type": "editCodeCell"
   },
   {
    "code": "df.set_context_as_view(view)\ndf",
    "id": "e08b5df7007549379d93828434e743b1",
    "order_count": 9,
    "time": "2020-07-12T13:29:20.766Z",
    "type": "executeCodeCell"
   },
   {
    "code": "Accessing program state: \n\t- df.recommendation\n\t- df.viewCollection\n- df.",
    "id": "62f39efb6def4ff28a9fed53c57dd1ed",
    "order_count": 10,
    "time": "2020-07-12T13:29:20.792Z",
    "type": "selectCodeCell"
   },
   {
    "id": "e08b5df7007549379d93828434e743b1",
    "isPrintLuxDf": false,
    "isPrintPandasDf": true,
    "isPrintView": false,
    "isPrintViewCollection": false,
    "time": "2020-07-12T13:29:21.314Z",
    "type": "completeCodeCell"
   },
   {
    "code": "df.set_context_as_view(view)\ndf",
    "id": "e08b5df7007549379d93828434e743b1",
    "order_count": 9,
    "time": "2020-07-12T13:29:22.724Z",
    "type": "selectCodeCell"
   },
   {
    "param": "",
    "time": "2020-07-12T13:29:22.747Z",
    "type": "initWidget"
   },
   {
    "param": "",
    "time": "2020-07-12T13:29:23.052Z",
    "type": "initWidget"
   },
   {
    "param": "Enhance",
    "time": "2020-07-12T13:29:25.426Z",
    "type": "startScroll"
   },
   {
    "param": "Enhance",
    "time": "2020-07-12T13:29:25.922Z",
    "type": "stopScroll"
   },
   {
    "param": "Enhance",
    "time": "2020-07-12T13:29:26.660Z",
    "type": "startScroll"
   },
   {
    "param": "Enhance",
    "time": "2020-07-12T13:29:27.287Z",
    "type": "stopScroll"
   },
   {
    "param": "Enhance",
    "time": "2020-07-12T13:29:27.326Z",
    "type": "startScroll"
   },
   {
    "param": "Enhance",
    "time": "2020-07-12T13:29:28.020Z",
    "type": "stopScroll"
   },
   {
    "param": "Enhance",
    "time": "2020-07-12T13:29:28.976Z",
    "type": "startScroll"
   },
   {
    "param": "Enhance",
    "time": "2020-07-12T13:29:29.204Z",
    "type": "stopScroll"
   },
   {
    "param": "Enhance",
    "time": "2020-07-12T13:29:29.493Z",
    "type": "startScroll"
   },
   {
    "param": "Enhance",
    "time": "2020-07-12T13:29:29.737Z",
    "type": "stopScroll"
   },
   {
    "param": "Enhance",
    "time": "2020-07-12T13:29:30.325Z",
    "type": "startScroll"
   },
   {
    "param": "Enhance",
    "time": "2020-07-12T13:29:30.871Z",
    "type": "stopScroll"
   },
   {
    "param": "Enhance",
    "time": "2020-07-12T13:29:30.909Z",
    "type": "startScroll"
   },
   {
    "param": "Enhance",
    "time": "2020-07-12T13:29:31.288Z",
    "type": "stopScroll"
   },
   {
    "code": "df.set_context_as_view(view)\ndf",
    "id": "e08b5df7007549379d93828434e743b1",
    "order_count": 9,
    "time": "2020-07-12T13:29:33.733Z",
    "type": "selectCodeCell"
   },
   {
    "param": "Filter",
    "time": "2020-07-12T13:29:33.736Z",
    "type": "switchTab"
   },
   {
    "code": "df.set_context_as_view(view)\ndf",
    "id": "e08b5df7007549379d93828434e743b1",
    "order_count": 9,
    "time": "2020-07-12T13:29:34.675Z",
    "type": "selectCodeCell"
   },
   {
    "param": "Generalize",
    "time": "2020-07-12T13:29:34.677Z",
    "type": "switchTab"
   },
   {
    "code": "df.set_context_as_view(view)\ndf",
    "id": "e08b5df7007549379d93828434e743b1",
    "order_count": 9,
    "time": "2020-07-12T13:29:38.738Z",
    "type": "selectCodeCell"
   },
   {
    "code": "View",
    "id": "d32ae31d14954f8b88711fbb89056866",
    "order_count": 8,
    "time": "2020-07-12T13:29:39.245Z",
    "type": "selectMarkdownCell"
   },
   {
    "code": "View",
    "id": "d32ae31d14954f8b88711fbb89056866",
    "order_count": 8,
    "time": "2020-07-12T13:29:39.248Z",
    "type": "editMarkdownCell"
   },
   {
    "code": "View",
    "id": "d32ae31d14954f8b88711fbb89056866",
    "order_count": 8,
    "time": "2020-07-12T13:29:39.400Z",
    "type": "selectMarkdownCell"
   },
   {
    "code": "Now that we have exported a view, we can set the new context of the dataframe to be the view",
    "id": "d32ae31d14954f8b88711fbb89056866",
    "order_count": 8,
    "time": "2020-07-12T13:30:31.654Z",
    "type": "editMarkdownCell"
   },
   {
    "code": "Now that we have exported a view, we can set the new context of the dataframe to be the view",
    "id": "d32ae31d14954f8b88711fbb89056866",
    "order_count": 8,
    "time": "2020-07-12T13:30:31.790Z",
    "type": "selectMarkdownCell"
   },
   {
    "code": "df.set_context_as_view(view)\ndf",
    "id": "e08b5df7007549379d93828434e743b1",
    "order_count": 9,
    "time": "2020-07-12T13:30:45.266Z",
    "type": "selectCodeCell"
   },
   {
    "code": "Accessing program state: \n\t- df.recommendation\n\t- df.viewCollection\n- df.",
    "id": "62f39efb6def4ff28a9fed53c57dd1ed",
    "order_count": 10,
    "time": "2020-07-12T13:30:49.178Z",
    "type": "selectCodeCell"
   },
   {
    "code": "",
    "id": "f9a9dea3e44649209951c3eb5e9bc37c",
    "order_count": 10,
    "time": "2020-07-12T13:30:49.373Z",
    "type": "selectCodeCell"
   },
   {
    "code": "",
    "id": "f9a9dea3e44649209951c3eb5e9bc37c",
    "order_count": 10,
    "time": "2020-07-12T13:30:49.803Z",
    "type": "editCodeCell"
   },
   {
    "code": "Now that we have exported the view, we can set the new context of the dataframe to be the view to get more recommendations related to this visualization.",
    "id": "d32ae31d14954f8b88711fbb89056866",
    "order_count": 8,
    "time": "2020-07-12T13:30:59.080Z",
    "type": "selectMarkdownCell"
   },
   {
    "code": "",
    "id": "967b25d681ca4232ac086725bc1a9b9b",
    "order_count": 8,
    "time": "2020-07-12T13:31:00.000Z",
    "type": "selectCodeCell"
   },
   {
    "code": "",
    "id": "967b25d681ca4232ac086725bc1a9b9b",
    "order_count": 8,
    "time": "2020-07-12T13:31:00.150Z",
    "type": "editCodeCell"
   },
   {
    "code": "Now that we have exported the view, we can set the new context of the dataframe to be the view to get more recommendations related to this visualization.",
    "id": "d32ae31d14954f8b88711fbb89056866",
    "order_count": 9,
    "time": "2020-07-12T13:31:12.105Z",
    "type": "selectMarkdownCell"
   },
   {
    "code": "In this tutorial, we look at the [Happy Planet Index](http://happyplanetindex.org/) dataset, which contains metrics related to well-being for 140 countries around the world. We demonstrate how you can select visualizations of interest and export them for further analysis. ",
    "id": "2b4ef2b4027f49a68a2486039b0d5fee",
    "order_count": 2,
    "time": "2020-07-12T13:31:16.014Z",
    "type": "selectMarkdownCell"
   },
   {
    "code": "df = pd.read_csv(\"lux/data/hpi.csv\")\ndf",
    "id": "12a1be56c9ae4abab0a1f946bd40bc68",
    "order_count": 3,
    "time": "2020-07-12T13:31:17.474Z",
    "type": "selectCodeCell"
   },
   {
    "code": "",
    "id": "a1b859361a4e48a3bbf4a62370b754de",
    "order_count": 3,
    "time": "2020-07-12T13:31:17.733Z",
    "type": "selectCodeCell"
   },
   {
    "code": "",
    "id": "a1b859361a4e48a3bbf4a62370b754de",
    "order_count": null,
    "time": "2020-07-12T13:31:19.082Z",
    "type": "deleteCodeCell"
   },
   {
    "code": "We can click on visualizations of interest and export them into a separate widget.",
    "id": "f3f9136301e54bd19eac8eb55f9cc158",
    "order_count": 4,
    "time": "2020-07-12T13:31:20.638Z",
    "type": "selectMarkdownCell"
   },
   {
    "code": "",
    "id": "2e014b4f2c094b4082236f9cfd9ceb94",
    "order_count": 4,
    "time": "2020-07-12T13:31:20.985Z",
    "type": "selectCodeCell"
   },
   {
    "code": "",
    "id": "2e014b4f2c094b4082236f9cfd9ceb94",
    "order_count": 4,
    "time": "2020-07-12T13:31:21.183Z",
    "type": "editCodeCell"
   },
   {
    "code": "Exporting Views as ",
    "id": "2e014b4f2c094b4082236f9cfd9ceb94",
    "order_count": 4,
    "time": "2020-07-12T13:31:44.585Z",
    "type": "selectCodeCell"
   },
   {
    "code": "Exporting visualizations as Programmatic Objects",
    "id": "2e014b4f2c094b4082236f9cfd9ceb94",
    "order_count": 4,
    "time": "2020-07-12T13:32:06.341Z",
    "type": "selectCodeCell"
   },
   {
    "code": "We can click on visualizations of interest and export them into a separate widget.",
    "id": "f3f9136301e54bd19eac8eb55f9cc158",
    "order_count": 5,
    "time": "2020-07-12T13:32:18.359Z",
    "type": "selectMarkdownCell"
   },
   {
    "time": "2020-07-12T13:32:25.431Z",
    "type": "kernelReady"
   },
   {
    "code": "We can click on visualizations of interest and export them into a separate widget.",
    "id": "f3f9136301e54bd19eac8eb55f9cc158",
    "order_count": 5,
    "time": "2020-07-12T13:34:58.655Z",
    "type": "selectMarkdownCell"
   },
   {
    "code": "bookmarked_vis = df.get_exported()\nbookmarked_vis",
    "id": "a0843739aae2474e95eae3e889cd58c8",
    "order_count": 6,
    "time": "2020-07-12T13:35:05.552Z",
    "type": "selectCodeCell"
   },
   {
    "code": "From the dataframe recommendations, the visualization showing the relationship between `GDPPerCapita` and `Footprint` is very interesting. In particular, there is an outlier with extremely high ecological footprint as well as high GDP per capita. So we click on this visualization and click on the export button.",
    "id": "668eb7fb960e451eb57c681baf3de28f",
    "order_count": 7,
    "time": "2020-07-12T13:35:07.463Z",
    "type": "selectMarkdownCell"
   },
   {
    "code": "view = df.get_exported()[0]\nview",
    "id": "186e1ccd2ef446cfac8da8d98b1a122c",
    "order_count": 8,
    "time": "2020-07-12T13:35:08.199Z",
    "type": "selectCodeCell"
   },
   {
    "code": "view = df.get_exported()[0]\nview",
    "id": "186e1ccd2ef446cfac8da8d98b1a122c",
    "order_count": 8,
    "time": "2020-07-12T13:35:10.508Z",
    "type": "executeCodeCell"
   },
   {
    "code": "### Setting Views as Context",
    "id": "433a4a78ea7e48c8983408162854d502",
    "order_count": 9,
    "time": "2020-07-12T13:35:10.515Z",
    "type": "selectMarkdownCell"
   },
   {
    "id": "186e1ccd2ef446cfac8da8d98b1a122c",
    "isPrintLuxDf": false,
    "isPrintPandasDf": false,
    "isPrintView": false,
    "isPrintViewCollection": false,
    "time": "2020-07-12T13:35:10.648Z",
    "type": "completeCodeCell"
   },
   {
    "code": "From the dataframe recommendations, the visualization showing the relationship between `GDPPerCapita` and `Footprint` is very interesting. In particular, there is an outlier with extremely high ecological footprint as well as high GDP per capita. So we click on this visualization and click on the export button.",
    "id": "668eb7fb960e451eb57c681baf3de28f",
    "order_count": 7,
    "time": "2020-07-12T13:35:17.931Z",
    "type": "selectMarkdownCell"
   },
   {
    "time": "2020-07-12T13:35:24.338Z",
    "type": "kernelRestart"
   },
   {
    "code": "cd ..",
    "id": "eb64dbe726c9440f8884b3f1484bab48",
    "order_count": 0,
    "time": "2020-07-12T13:35:25.546Z",
    "type": "selectCodeCell"
   },
   {
    "code": "cd ..",
    "id": "eb64dbe726c9440f8884b3f1484bab48",
    "order_count": 0,
    "time": "2020-07-12T13:35:25.551Z",
    "type": "editCodeCell"
   },
   {
    "code": "cd ..",
    "id": "eb64dbe726c9440f8884b3f1484bab48",
    "order_count": 0,
    "time": "2020-07-12T13:35:25.908Z",
    "type": "executeCodeCell"
   },
   {
    "code": "import pandas as pd\nimport lux",
    "id": "36317fa004f84755901fb751d5e7974b",
    "order_count": 1,
    "time": "2020-07-12T13:35:25.930Z",
    "type": "selectCodeCell"
   },
   {
    "id": "eb64dbe726c9440f8884b3f1484bab48",
    "isPrintLuxDf": false,
    "isPrintPandasDf": false,
    "isPrintView": false,
    "isPrintViewCollection": false,
    "time": "2020-07-12T13:35:25.974Z",
    "type": "completeCodeCell"
   },
   {
    "time": "2020-07-12T13:35:25.977Z",
    "type": "kernelReady"
   },
   {
    "time": "2020-07-12T13:35:25.980Z",
    "type": "kernelReady"
   },
   {
    "code": "import pandas as pd\nimport lux",
    "id": "36317fa004f84755901fb751d5e7974b",
    "order_count": 1,
    "time": "2020-07-12T13:35:26.084Z",
    "type": "executeCodeCell"
   },
   {
    "code": "In this tutorial, we look at the [Happy Planet Index](http://happyplanetindex.org/) dataset, which contains metrics related to well-being for 140 countries around the world. We demonstrate how you can select visualizations of interest and export them for further analysis. ",
    "id": "2b4ef2b4027f49a68a2486039b0d5fee",
    "order_count": 2,
    "time": "2020-07-12T13:35:26.091Z",
    "type": "selectMarkdownCell"
   },
   {
    "code": "df = pd.read_csv(\"lux/data/hpi.csv\")\ndf",
    "id": "12a1be56c9ae4abab0a1f946bd40bc68",
    "order_count": 3,
    "time": "2020-07-12T13:35:26.259Z",
    "type": "selectCodeCell"
   },
   {
    "code": "df = pd.read_csv(\"lux/data/hpi.csv\")\ndf",
    "id": "12a1be56c9ae4abab0a1f946bd40bc68",
    "order_count": 3,
    "time": "2020-07-12T13:35:26.404Z",
    "type": "executeCodeCell"
   },
   {
    "code": "### Exporting one or more visualizations from recommendation widget",
    "id": "8e6114c3d53f46c9b0497f0fb8f18f08",
    "order_count": 4,
    "time": "2020-07-12T13:35:26.409Z",
    "type": "selectMarkdownCell"
   },
   {
    "id": "36317fa004f84755901fb751d5e7974b",
    "isPrintLuxDf": false,
    "isPrintPandasDf": false,
    "isPrintView": false,
    "isPrintViewCollection": false,
    "time": "2020-07-12T13:35:26.677Z",
    "type": "completeCodeCell"
   },
   {
    "code": "We can click on visualizations of interest and export them into a separate widget.",
    "id": "f3f9136301e54bd19eac8eb55f9cc158",
    "order_count": 5,
    "time": "2020-07-12T13:35:26.808Z",
    "type": "selectMarkdownCell"
   },
   {
    "code": "bookmarked_vis = df.get_exported()\nbookmarked_vis",
    "id": "a0843739aae2474e95eae3e889cd58c8",
    "order_count": 6,
    "time": "2020-07-12T13:35:27.191Z",
    "type": "selectCodeCell"
   },
   {
    "code": "bookmarked_vis = df.get_exported()\nbookmarked_vis",
    "id": "a0843739aae2474e95eae3e889cd58c8",
    "order_count": 6,
    "time": "2020-07-12T13:35:27.594Z",
    "type": "executeCodeCell"
   },
   {
    "code": "From the dataframe recommendations, the visualization showing the relationship between `GDPPerCapita` and `Footprint` is very interesting. In particular, there is an outlier with extremely high ecological footprint as well as high GDP per capita. So we click on this visualization and click on the export button.",
    "id": "668eb7fb960e451eb57c681baf3de28f",
    "order_count": 7,
    "time": "2020-07-12T13:35:27.598Z",
    "type": "selectMarkdownCell"
   },
   {
    "id": "12a1be56c9ae4abab0a1f946bd40bc68",
    "isPrintLuxDf": false,
    "isPrintPandasDf": true,
    "isPrintView": false,
    "isPrintViewCollection": false,
    "time": "2020-07-12T13:35:27.812Z",
    "type": "completeCodeCell"
   },
   {
    "id": "a0843739aae2474e95eae3e889cd58c8",
    "isPrintLuxDf": false,
    "isPrintPandasDf": false,
    "isPrintView": false,
    "isPrintViewCollection": false,
    "time": "2020-07-12T13:35:27.827Z",
    "type": "completeCodeCell"
   },
   {
    "code": "df = pd.read_csv(\"lux/data/hpi.csv\")\ndf",
    "id": "12a1be56c9ae4abab0a1f946bd40bc68",
    "order_count": 3,
    "time": "2020-07-12T13:35:29.568Z",
    "type": "selectCodeCell"
   },
   {
    "param": "",
    "time": "2020-07-12T13:35:29.597Z",
    "type": "initWidget"
   },
   {
    "param": "",
    "time": "2020-07-12T13:35:29.933Z",
    "type": "initWidget"
   },
   {
    "code": "df = pd.read_csv(\"lux/data/hpi.csv\")\ndf",
    "id": "12a1be56c9ae4abab0a1f946bd40bc68",
    "order_count": 3,
    "time": "2020-07-12T13:35:31.916Z",
    "type": "selectCodeCell"
   },
   {
    "param": {
     "index": 1,
     "tabTitle": "Correlation",
     "vis": {
      "$schema": "https://vega.github.io/schema/vega-lite/v4.8.1.json",
      "config": {
       "mark": {
        "tooltip": {
         "content": "encoding"
        }
       },
       "view": {
        "continuousHeight": 300,
        "continuousWidth": 400
       }
      },
      "data": {
       "name": "data-c5bd87549771a1474928380fe42ed676"
      },
      "datasets": {
       "data-c5bd87549771a1474928380fe42ed676": [
        {
         "AverageWellBeing": 3.8,
         "InequalityAdjustedWellbeing": 3.4
        },
        {
         "AverageWellBeing": 5.5,
         "InequalityAdjustedWellbeing": 5.1
        },
        {
         "AverageWellBeing": 5.6,
         "InequalityAdjustedWellbeing": 5.2
        },
        {
         "AverageWellBeing": 6.5,
         "InequalityAdjustedWellbeing": 6
        },
        {
         "AverageWellBeing": 4.3,
         "InequalityAdjustedWellbeing": 3.7
        },
        {
         "AverageWellBeing": 7.2,
         "InequalityAdjustedWellbeing": 6.9
        },
        {
         "AverageWellBeing": 7.4,
         "InequalityAdjustedWellbeing": 7.1
        },
        {
         "AverageWellBeing": 4.7,
         "InequalityAdjustedWellbeing": 4.3
        },
        {
         "AverageWellBeing": 5.7,
         "InequalityAdjustedWellbeing": 5.3
        },
        {
         "AverageWellBeing": 6.9,
         "InequalityAdjustedWellbeing": 6.6
        },
        {
         "AverageWellBeing": 6.1,
         "InequalityAdjustedWellbeing": 5.7
        },
        {
         "AverageWellBeing": 3.2,
         "InequalityAdjustedWellbeing": 2.8
        },
        {
         "AverageWellBeing": 5.6,
         "InequalityAdjustedWellbeing": 5.2
        },
        {
         "AverageWellBeing": 6,
         "InequalityAdjustedWellbeing": 5.5
        },
        {
         "AverageWellBeing": 4.8,
         "InequalityAdjustedWellbeing": 4.2
        },
        {
         "AverageWellBeing": 4.8,
         "InequalityAdjustedWellbeing": 4.3
        },
        {
         "AverageWellBeing": 6.9,
         "InequalityAdjustedWellbeing": 6.3
        },
        {
         "AverageWellBeing": 4.2,
         "InequalityAdjustedWellbeing": 3.7
        },
        {
         "AverageWellBeing": 4,
         "InequalityAdjustedWellbeing": 3.6
        },
        {
         "AverageWellBeing": 3.4,
         "InequalityAdjustedWellbeing": 3
        },
        {
         "AverageWellBeing": 3.9,
         "InequalityAdjustedWellbeing": 3.5
        },
        {
         "AverageWellBeing": 4.2,
         "InequalityAdjustedWellbeing": 3.7
        },
        {
         "AverageWellBeing": 7.4,
         "InequalityAdjustedWellbeing": 7.1
        },
        {
         "AverageWellBeing": 4,
         "InequalityAdjustedWellbeing": 3.7
        },
        {
         "AverageWellBeing": 6.6,
         "InequalityAdjustedWellbeing": 6.1
        },
        {
         "AverageWellBeing": 5.1,
         "InequalityAdjustedWellbeing": 4.6
        },
        {
         "AverageWellBeing": 6.4,
         "InequalityAdjustedWellbeing": 5.7
        },
        {
         "AverageWellBeing": 4,
         "InequalityAdjustedWellbeing": 3.7
        },
        {
         "AverageWellBeing": 7.3,
         "InequalityAdjustedWellbeing": 6.8
        },
        {
         "AverageWellBeing": 3.8,
         "InequalityAdjustedWellbeing": 3.5
        },
        {
         "AverageWellBeing": 6,
         "InequalityAdjustedWellbeing": 5.5
        },
        {
         "AverageWellBeing": 6.2,
         "InequalityAdjustedWellbeing": 5.7
        },
        {
         "AverageWellBeing": 6.3,
         "InequalityAdjustedWellbeing": 5.9
        },
        {
         "AverageWellBeing": 7.5,
         "InequalityAdjustedWellbeing": 7.2
        },
        {
         "AverageWellBeing": 4.4,
         "InequalityAdjustedWellbeing": 3.8
        },
        {
         "AverageWellBeing": 4.8,
         "InequalityAdjustedWellbeing": 4.1
        },
        {
         "AverageWellBeing": 6,
         "InequalityAdjustedWellbeing": 5.5
        },
        {
         "AverageWellBeing": 4.2,
         "InequalityAdjustedWellbeing": 3.7
        },
        {
         "AverageWellBeing": 5.9,
         "InequalityAdjustedWellbeing": 5.3
        },
        {
         "AverageWellBeing": 5.4,
         "InequalityAdjustedWellbeing": 5
        },
        {
         "AverageWellBeing": 4.6,
         "InequalityAdjustedWellbeing": 4.2
        },
        {
         "AverageWellBeing": 7.4,
         "InequalityAdjustedWellbeing": 7.2
        },
        {
         "AverageWellBeing": 6.6,
         "InequalityAdjustedWellbeing": 6.3
        },
        {
         "AverageWellBeing": 4,
         "InequalityAdjustedWellbeing": 3.5
        },
        {
         "AverageWellBeing": 4.3,
         "InequalityAdjustedWellbeing": 3.8
        },
        {
         "AverageWellBeing": 6.7,
         "InequalityAdjustedWellbeing": 6.4
        },
        {
         "AverageWellBeing": 5.1,
         "InequalityAdjustedWellbeing": 4.6
        },
        {
         "AverageWellBeing": 5.1,
         "InequalityAdjustedWellbeing": 4.5
        },
        {
         "AverageWellBeing": 5.9,
         "InequalityAdjustedWellbeing": 5.2
        },
        {
         "AverageWellBeing": 3.7,
         "InequalityAdjustedWellbeing": 3.3
        },
        {
         "AverageWellBeing": 4.4,
         "InequalityAdjustedWellbeing": 4
        },
        {
         "AverageWellBeing": 4.6,
         "InequalityAdjustedWellbeing": 3.9
        },
        {
         "AverageWellBeing": 5.5,
         "InequalityAdjustedWellbeing": 5.1
        },
        {
         "AverageWellBeing": 4.7,
         "InequalityAdjustedWellbeing": 4.2
        },
        {
         "AverageWellBeing": 7.6,
         "InequalityAdjustedWellbeing": 7.4
        },
        {
         "AverageWellBeing": 4.6,
         "InequalityAdjustedWellbeing": 4.2
        },
        {
         "AverageWellBeing": 5.4,
         "InequalityAdjustedWellbeing": 5.1
        },
        {
         "AverageWellBeing": 4.6,
         "InequalityAdjustedWellbeing": 4
        },
        {
         "AverageWellBeing": 4.7,
         "InequalityAdjustedWellbeing": 4.3
        },
        {
         "AverageWellBeing": 7,
         "InequalityAdjustedWellbeing": 6.7
        },
        {
         "AverageWellBeing": 7.1,
         "InequalityAdjustedWellbeing": 6.8
        },
        {
         "AverageWellBeing": 5.8,
         "InequalityAdjustedWellbeing": 5.3
        },
        {
         "AverageWellBeing": 5.6,
         "InequalityAdjustedWellbeing": 5
        },
        {
         "AverageWellBeing": 6,
         "InequalityAdjustedWellbeing": 5.6
        },
        {
         "AverageWellBeing": 5.8,
         "InequalityAdjustedWellbeing": 5.4
        },
        {
         "AverageWellBeing": 4.5,
         "InequalityAdjustedWellbeing": 4.1
        },
        {
         "AverageWellBeing": 5.2,
         "InequalityAdjustedWellbeing": 4.9
        },
        {
         "AverageWellBeing": 5.1,
         "InequalityAdjustedWellbeing": 4.7
        },
        {
         "AverageWellBeing": 4.6,
         "InequalityAdjustedWellbeing": 4
        },
        {
         "AverageWellBeing": 4.9,
         "InequalityAdjustedWellbeing": 4.3
        },
        {
         "AverageWellBeing": 4.4,
         "InequalityAdjustedWellbeing": 4.1
        },
        {
         "AverageWellBeing": 5.8,
         "InequalityAdjustedWellbeing": 5.4
        },
        {
         "AverageWellBeing": 7,
         "InequalityAdjustedWellbeing": 6.7
        },
        {
         "AverageWellBeing": 4.6,
         "InequalityAdjustedWellbeing": 4.1
        },
        {
         "AverageWellBeing": 4.3,
         "InequalityAdjustedWellbeing": 3.5
        },
        {
         "AverageWellBeing": 5.9,
         "InequalityAdjustedWellbeing": 5.7
        },
        {
         "AverageWellBeing": 6,
         "InequalityAdjustedWellbeing": 5.5
        },
        {
         "AverageWellBeing": 4.7,
         "InequalityAdjustedWellbeing": 4.5
        },
        {
         "AverageWellBeing": 5.5,
         "InequalityAdjustedWellbeing": 5.1
        },
        {
         "AverageWellBeing": 7.3,
         "InequalityAdjustedWellbeing": 6.8
        },
        {
         "AverageWellBeing": 4.9,
         "InequalityAdjustedWellbeing": 4.6
        },
        {
         "AverageWellBeing": 5.2,
         "InequalityAdjustedWellbeing": 4.6
        },
        {
         "AverageWellBeing": 5,
         "InequalityAdjustedWellbeing": 4.5
        },
        {
         "AverageWellBeing": 5,
         "InequalityAdjustedWellbeing": 4.5
        },
        {
         "AverageWellBeing": 4.4,
         "InequalityAdjustedWellbeing": 4
        },
        {
         "AverageWellBeing": 4.7,
         "InequalityAdjustedWellbeing": 4.4
        },
        {
         "AverageWellBeing": 4.2,
         "InequalityAdjustedWellbeing": 3.8
        },
        {
         "AverageWellBeing": 7.5,
         "InequalityAdjustedWellbeing": 7.5
        },
        {
         "AverageWellBeing": 7.2,
         "InequalityAdjustedWellbeing": 6.9
        },
        {
         "AverageWellBeing": 5.4,
         "InequalityAdjustedWellbeing": 4.8
        },
        {
         "AverageWellBeing": 3.8,
         "InequalityAdjustedWellbeing": 3.5
        },
        {
         "AverageWellBeing": 5.5,
         "InequalityAdjustedWellbeing": 5.2
        },
        {
         "AverageWellBeing": 7.7,
         "InequalityAdjustedWellbeing": 7.4
        },
        {
         "AverageWellBeing": 6.9,
         "InequalityAdjustedWellbeing": 6.4
        },
        {
         "AverageWellBeing": 5.1,
         "InequalityAdjustedWellbeing": 4.6
        },
        {
         "AverageWellBeing": 4.6,
         "InequalityAdjustedWellbeing": 4.1
        },
        {
         "AverageWellBeing": 6.9,
         "InequalityAdjustedWellbeing": 6.3
        },
        {
         "AverageWellBeing": 5.8,
         "InequalityAdjustedWellbeing": 5.5
        },
        {
         "AverageWellBeing": 5.8,
         "InequalityAdjustedWellbeing": 5.3
        },
        {
         "AverageWellBeing": 5,
         "InequalityAdjustedWellbeing": 4.4
        },
        {
         "AverageWellBeing": 5.9,
         "InequalityAdjustedWellbeing": 5.5
        },
        {
         "AverageWellBeing": 5,
         "InequalityAdjustedWellbeing": 4.3
        },
        {
         "AverageWellBeing": 3.9,
         "InequalityAdjustedWellbeing": 3.4
        },
        {
         "AverageWellBeing": 5.2,
         "InequalityAdjustedWellbeing": 4.6
        },
        {
         "AverageWellBeing": 5.6,
         "InequalityAdjustedWellbeing": 5.2
        },
        {
         "AverageWellBeing": 3.3,
         "InequalityAdjustedWellbeing": 3
        },
        {
         "AverageWellBeing": 3.7,
         "InequalityAdjustedWellbeing": 3.3
        },
        {
         "AverageWellBeing": 5.2,
         "InequalityAdjustedWellbeing": 4.6
        },
        {
         "AverageWellBeing": 4.5,
         "InequalityAdjustedWellbeing": 4
        },
        {
         "AverageWellBeing": 5.9,
         "InequalityAdjustedWellbeing": 5.4
        },
        {
         "AverageWellBeing": 6.1,
         "InequalityAdjustedWellbeing": 5.7
        },
        {
         "AverageWellBeing": 5.1,
         "InequalityAdjustedWellbeing": 4.6
        },
        {
         "AverageWellBeing": 6,
         "InequalityAdjustedWellbeing": 5.5
        },
        {
         "AverageWellBeing": 6.3,
         "InequalityAdjustedWellbeing": 5.9
        },
        {
         "AverageWellBeing": 4.2,
         "InequalityAdjustedWellbeing": 3.8
        },
        {
         "AverageWellBeing": 6.3,
         "InequalityAdjustedWellbeing": 5.9
        },
        {
         "AverageWellBeing": 4.9,
         "InequalityAdjustedWellbeing": 4.4
        },
        {
         "AverageWellBeing": 7.6,
         "InequalityAdjustedWellbeing": 7.4
        },
        {
         "AverageWellBeing": 7.8,
         "InequalityAdjustedWellbeing": 7.6
        },
        {
         "AverageWellBeing": 3.2,
         "InequalityAdjustedWellbeing": 2.6
        },
        {
         "AverageWellBeing": 4.5,
         "InequalityAdjustedWellbeing": 4.3
        },
        {
         "AverageWellBeing": 4,
         "InequalityAdjustedWellbeing": 3.6
        },
        {
         "AverageWellBeing": 6.3,
         "InequalityAdjustedWellbeing": 6
        },
        {
         "AverageWellBeing": 2.9,
         "InequalityAdjustedWellbeing": 2.4
        },
        {
         "AverageWellBeing": 6.4,
         "InequalityAdjustedWellbeing": 6
        },
        {
         "AverageWellBeing": 4.5,
         "InequalityAdjustedWellbeing": 4
        },
        {
         "AverageWellBeing": 5.3,
         "InequalityAdjustedWellbeing": 4.9
        },
        {
         "AverageWellBeing": 5.5,
         "InequalityAdjustedWellbeing": 5.1
        },
        {
         "AverageWellBeing": 4.3,
         "InequalityAdjustedWellbeing": 3.9
        },
        {
         "AverageWellBeing": 5,
         "InequalityAdjustedWellbeing": 4.6
        },
        {
         "AverageWellBeing": 6.9,
         "InequalityAdjustedWellbeing": 6.6
        },
        {
         "AverageWellBeing": 7,
         "InequalityAdjustedWellbeing": 6.5
        },
        {
         "AverageWellBeing": 6.4,
         "InequalityAdjustedWellbeing": 5.8
        },
        {
         "AverageWellBeing": 6,
         "InequalityAdjustedWellbeing": 5.6
        },
        {
         "AverageWellBeing": 6.5,
         "InequalityAdjustedWellbeing": 5.9
        },
        {
         "AverageWellBeing": 7.1,
         "InequalityAdjustedWellbeing": 6.5
        },
        {
         "AverageWellBeing": 5.5,
         "InequalityAdjustedWellbeing": 5.2
        },
        {
         "AverageWellBeing": 4.1,
         "InequalityAdjustedWellbeing": 3.6
        },
        {
         "AverageWellBeing": 5,
         "InequalityAdjustedWellbeing": 4.5
        },
        {
         "AverageWellBeing": 5,
         "InequalityAdjustedWellbeing": 4.6
        }
       ]
      },
      "encoding": {
       "x": {
        "field": "InequalityAdjustedWellbeing",
        "scale": {
         "domain": [
          2.4,
          7.6
         ]
        },
        "type": "quantitative"
       },
       "y": {
        "field": "AverageWellBeing",
        "scale": {
         "domain": [
          2.9,
          7.8
         ]
        },
        "type": "quantitative"
       }
      },
      "height": 150,
      "mark": "circle",
      "selection": {
       "selector002": {
        "bind": "scales",
        "encodings": [
         "x",
         "y"
        ],
        "type": "interval"
       }
      },
      "width": 160
     }
    },
    "time": "2020-07-12T13:35:31.919Z",
    "type": "clickVis"
   },
   {
    "code": "df = pd.read_csv(\"lux/data/hpi.csv\")\ndf",
    "id": "12a1be56c9ae4abab0a1f946bd40bc68",
    "order_count": 3,
    "time": "2020-07-12T13:35:32.447Z",
    "type": "selectCodeCell"
   },
   {
    "param": {
     "index": 3,
     "tabTitle": "Correlation",
     "vis": {
      "$schema": "https://vega.github.io/schema/vega-lite/v4.8.1.json",
      "config": {
       "mark": {
        "tooltip": {
         "content": "encoding"
        }
       },
       "view": {
        "continuousHeight": 300,
        "continuousWidth": 400
       }
      },
      "data": {
       "name": "data-e7e34cde487c40c25a204bd11a5f13b1"
      },
      "datasets": {
       "data-e7e34cde487c40c25a204bd11a5f13b1": [
        {
         "InequalityAdjustedLifeExpectancy": 38.3,
         "InequalityOfOutcomes": 0.43
        },
        {
         "InequalityAdjustedLifeExpectancy": 69.7,
         "InequalityOfOutcomes": 0.17
        },
        {
         "InequalityAdjustedLifeExpectancy": 60.5,
         "InequalityOfOutcomes": 0.24
        },
        {
         "InequalityAdjustedLifeExpectancy": 68.3,
         "InequalityOfOutcomes": 0.16
        },
        {
         "InequalityAdjustedLifeExpectancy": 66.9,
         "InequalityOfOutcomes": 0.22
        },
        {
         "InequalityAdjustedLifeExpectancy": 78.6,
         "InequalityOfOutcomes": 0.08
        },
        {
         "InequalityAdjustedLifeExpectancy": 78,
         "InequalityOfOutcomes": 0.07
        },
        {
         "InequalityAdjustedLifeExpectancy": 56.6,
         "InequalityOfOutcomes": 0.27
        },
        {
         "InequalityAdjustedLifeExpectancy": 66.7,
         "InequalityOfOutcomes": 0.13
        },
        {
         "InequalityAdjustedLifeExpectancy": 77.2,
         "InequalityOfOutcomes": 0.09
        },
        {
         "InequalityAdjustedLifeExpectancy": 61.7,
         "InequalityOfOutcomes": 0.18
        },
        {
         "InequalityAdjustedLifeExpectancy": 37.3,
         "InequalityOfOutcomes": 0.44
        },
        {
         "InequalityAdjustedLifeExpectancy": 54.5,
         "InequalityOfOutcomes": 0.27
        },
        {
         "InequalityAdjustedLifeExpectancy": 47.9,
         "InequalityOfOutcomes": 0.35000000000000003
        },
        {
         "InequalityAdjustedLifeExpectancy": 71.1,
         "InequalityOfOutcomes": 0.19
        },
        {
         "InequalityAdjustedLifeExpectancy": 50.8,
         "InequalityOfOutcomes": 0.28
        },
        {
         "InequalityAdjustedLifeExpectancy": 63.3,
         "InequalityOfOutcomes": 0.22
        },
        {
         "InequalityAdjustedLifeExpectancy": 68.1,
         "InequalityOfOutcomes": 0.19
        },
        {
         "InequalityAdjustedLifeExpectancy": 36.5,
         "InequalityOfOutcomes": 0.43
        },
        {
         "InequalityAdjustedLifeExpectancy": 33,
         "InequalityOfOutcomes": 0.48
        },
        {
         "InequalityAdjustedLifeExpectancy": 54.2,
         "InequalityOfOutcomes": 0.28
        },
        {
         "InequalityAdjustedLifeExpectancy": 33.1,
         "InequalityOfOutcomes": 0.47
        },
        {
         "InequalityAdjustedLifeExpectancy": 77.8,
         "InequalityOfOutcomes": 0.09
        },
        {
         "InequalityAdjustedLifeExpectancy": 27.3,
         "InequalityOfOutcomes": 0.51
        },
        {
         "InequalityAdjustedLifeExpectancy": 74.9,
         "InequalityOfOutcomes": 0.14
        },
        {
         "InequalityAdjustedLifeExpectancy": 68.6,
         "InequalityOfOutcomes": 0.17
        },
        {
         "InequalityAdjustedLifeExpectancy": 63.1,
         "InequalityOfOutcomes": 0.24
        },
        {
         "InequalityAdjustedLifeExpectancy": 43.3,
         "InequalityOfOutcomes": 0.36
        },
        {
         "InequalityAdjustedLifeExpectancy": 72.6,
         "InequalityOfOutcomes": 0.15
        },
        {
         "InequalityAdjustedLifeExpectancy": 30.6,
         "InequalityOfOutcomes": 0.45
        },
        {
         "InequalityAdjustedLifeExpectancy": 73.5,
         "InequalityOfOutcomes": 0.12
        },
        {
         "InequalityAdjustedLifeExpectancy": 76.6,
         "InequalityOfOutcomes": 0.12
        },
        {
         "InequalityAdjustedLifeExpectancy": 75.5,
         "InequalityOfOutcomes": 0.09
        },
        {
         "InequalityAdjustedLifeExpectancy": 76.8,
         "InequalityOfOutcomes": 0.07
        },
        {
         "InequalityAdjustedLifeExpectancy": 41.4,
         "InequalityOfOutcomes": 0.42
        },
        {
         "InequalityAdjustedLifeExpectancy": 60.8,
         "InequalityOfOutcomes": 0.3
        },
        {
         "InequalityAdjustedLifeExpectancy": 64.1,
         "InequalityOfOutcomes": 0.22
        },
        {
         "InequalityAdjustedLifeExpectancy": 61.3,
         "InequalityOfOutcomes": 0.23
        },
        {
         "InequalityAdjustedLifeExpectancy": 62.5,
         "InequalityOfOutcomes": 0.22
        },
        {
         "InequalityAdjustedLifeExpectancy": 72.6,
         "InequalityOfOutcomes": 0.12
        },
        {
         "InequalityAdjustedLifeExpectancy": 43.8,
         "InequalityOfOutcomes": 0.36
        },
        {
         "InequalityAdjustedLifeExpectancy": 77.6,
         "InequalityOfOutcomes": 0.06
        },
        {
         "InequalityAdjustedLifeExpectancy": 78.5,
         "InequalityOfOutcomes": 0.09
        },
        {
         "InequalityAdjustedLifeExpectancy": 45.8,
         "InequalityOfOutcomes": 0.36
        },
        {
         "InequalityAdjustedLifeExpectancy": 66.9,
         "InequalityOfOutcomes": 0.2
        },
        {
         "InequalityAdjustedLifeExpectancy": 77.6,
         "InequalityOfOutcomes": 0.08
        },
        {
         "InequalityAdjustedLifeExpectancy": 42.2,
         "InequalityOfOutcomes": 0.38
        },
        {
         "InequalityAdjustedLifeExpectancy": 77.6,
         "InequalityOfOutcomes": 0.16
        },
        {
         "InequalityAdjustedLifeExpectancy": 59.2,
         "InequalityOfOutcomes": 0.27
        },
        {
         "InequalityAdjustedLifeExpectancy": 37.2,
         "InequalityOfOutcomes": 0.42
        },
        {
         "InequalityAdjustedLifeExpectancy": 42.9,
         "InequalityOfOutcomes": 0.37
        },
        {
         "InequalityAdjustedLifeExpectancy": 58.5,
         "InequalityOfOutcomes": 0.31
        },
        {
         "InequalityAdjustedLifeExpectancy": 81.3,
         "InequalityOfOutcomes": 0.1
        },
        {
         "InequalityAdjustedLifeExpectancy": 70.9,
         "InequalityOfOutcomes": 0.15
        },
        {
         "InequalityAdjustedLifeExpectancy": 79.8,
         "InequalityOfOutcomes": 0.05
        },
        {
         "InequalityAdjustedLifeExpectancy": 51.1,
         "InequalityOfOutcomes": 0.31
        },
        {
         "InequalityAdjustedLifeExpectancy": 57.2,
         "InequalityOfOutcomes": 0.21
        },
        {
         "InequalityAdjustedLifeExpectancy": 66.9,
         "InequalityOfOutcomes": 0.23
        },
        {
         "InequalityAdjustedLifeExpectancy": 55.6,
         "InequalityOfOutcomes": 0.27
        },
        {
         "InequalityAdjustedLifeExpectancy": 77.5,
         "InequalityOfOutcomes": 0.08
        },
        {
         "InequalityAdjustedLifeExpectancy": 78.7,
         "InequalityOfOutcomes": 0.08
        },
        {
         "InequalityAdjustedLifeExpectancy": 80.2,
         "InequalityOfOutcomes": 0.12
        },
        {
         "InequalityAdjustedLifeExpectancy": 66.3,
         "InequalityOfOutcomes": 0.21
        },
        {
         "InequalityAdjustedLifeExpectancy": 80.6,
         "InequalityOfOutcomes": 0.09
        },
        {
         "InequalityAdjustedLifeExpectancy": 60.7,
         "InequalityOfOutcomes": 0.18
        },
        {
         "InequalityAdjustedLifeExpectancy": 41,
         "InequalityOfOutcomes": 0.38
        },
        {
         "InequalityAdjustedLifeExpectancy": 60.2,
         "InequalityOfOutcomes": 0.18
        },
        {
         "InequalityAdjustedLifeExpectancy": 68.7,
         "InequalityOfOutcomes": 0.14
        },
        {
         "InequalityAdjustedLifeExpectancy": 73.1,
         "InequalityOfOutcomes": 0.19
        },
        {
         "InequalityAdjustedLifeExpectancy": 32.6,
         "InequalityOfOutcomes": 0.42
        },
        {
         "InequalityAdjustedLifeExpectancy": 40.3,
         "InequalityOfOutcomes": 0.38
        },
        {
         "InequalityAdjustedLifeExpectancy": 68.8,
         "InequalityOfOutcomes": 0.11
        },
        {
         "InequalityAdjustedLifeExpectancy": 79,
         "InequalityOfOutcomes": 0.07
        },
        {
         "InequalityAdjustedLifeExpectancy": 69.4,
         "InequalityOfOutcomes": 0.18
        },
        {
         "InequalityAdjustedLifeExpectancy": 40.4,
         "InequalityOfOutcomes": 0.45
        },
        {
         "InequalityAdjustedLifeExpectancy": 69.5,
         "InequalityOfOutcomes": 0.1
        },
        {
         "InequalityAdjustedLifeExpectancy": 76.6,
         "InequalityOfOutcomes": 0.13
        },
        {
         "InequalityAdjustedLifeExpectancy": 41.5,
         "InequalityOfOutcomes": 0.37
        },
        {
         "InequalityAdjustedLifeExpectancy": 66.7,
         "InequalityOfOutcomes": 0.17
        },
        {
         "InequalityAdjustedLifeExpectancy": 66.3,
         "InequalityOfOutcomes": 0.19
        },
        {
         "InequalityAdjustedLifeExpectancy": 56.9,
         "InequalityOfOutcomes": 0.22
        },
        {
         "InequalityAdjustedLifeExpectancy": 71.8,
         "InequalityOfOutcomes": 0.16
        },
        {
         "InequalityAdjustedLifeExpectancy": 61.6,
         "InequalityOfOutcomes": 0.25
        },
        {
         "InequalityAdjustedLifeExpectancy": 34.5,
         "InequalityOfOutcomes": 0.43
        },
        {
         "InequalityAdjustedLifeExpectancy": 48.4,
         "InequalityOfOutcomes": 0.32
        },
        {
         "InequalityAdjustedLifeExpectancy": 50.1,
         "InequalityOfOutcomes": 0.26
        },
        {
         "InequalityAdjustedLifeExpectancy": 55.3,
         "InequalityOfOutcomes": 0.27
        },
        {
         "InequalityAdjustedLifeExpectancy": 78.2,
         "InequalityOfOutcomes": 0.04
        },
        {
         "InequalityAdjustedLifeExpectancy": 77.7,
         "InequalityOfOutcomes": 0.08
        },
        {
         "InequalityAdjustedLifeExpectancy": 63.4,
         "InequalityOfOutcomes": 0.25
        },
        {
         "InequalityAdjustedLifeExpectancy": 38.9,
         "InequalityOfOutcomes": 0.4
        },
        {
         "InequalityAdjustedLifeExpectancy": 30.9,
         "InequalityOfOutcomes": 0.44
        },
        {
         "InequalityAdjustedLifeExpectancy": 78.6,
         "InequalityOfOutcomes": 0.07
        },
        {
         "InequalityAdjustedLifeExpectancy": 70.9,
         "InequalityOfOutcomes": 0.13
        },
        {
         "InequalityAdjustedLifeExpectancy": 44.1,
         "InequalityOfOutcomes": 0.4
        },
        {
         "InequalityAdjustedLifeExpectancy": 62.6,
         "InequalityOfOutcomes": 0.24
        },
        {
         "InequalityAdjustedLifeExpectancy": 68.3,
         "InequalityOfOutcomes": 0.19
        },
        {
         "InequalityAdjustedLifeExpectancy": 59.4,
         "InequalityOfOutcomes": 0.22
        },
        {
         "InequalityAdjustedLifeExpectancy": 63.5,
         "InequalityOfOutcomes": 0.21
        },
        {
         "InequalityAdjustedLifeExpectancy": 56.9,
         "InequalityOfOutcomes": 0.26
        },
        {
         "InequalityAdjustedLifeExpectancy": 72.9,
         "InequalityOfOutcomes": 0.11
        },
        {
         "InequalityAdjustedLifeExpectancy": 77.2,
         "InequalityOfOutcomes": 0.16
        },
        {
         "InequalityAdjustedLifeExpectancy": 42,
         "InequalityOfOutcomes": 0.4
        },
        {
         "InequalityAdjustedLifeExpectancy": 68.1,
         "InequalityOfOutcomes": 0.19
        },
        {
         "InequalityAdjustedLifeExpectancy": 63.4,
         "InequalityOfOutcomes": 0.16
        },
        {
         "InequalityAdjustedLifeExpectancy": 44.3,
         "InequalityOfOutcomes": 0.37
        },
        {
         "InequalityAdjustedLifeExpectancy": 49.1,
         "InequalityOfOutcomes": 0.33
        },
        {
         "InequalityAdjustedLifeExpectancy": 68.6,
         "InequalityOfOutcomes": 0.19
        },
        {
         "InequalityAdjustedLifeExpectancy": 28.2,
         "InequalityOfOutcomes": 0.5
        },
        {
         "InequalityAdjustedLifeExpectancy": 71.9,
         "InequalityOfOutcomes": 0.13
        },
        {
         "InequalityAdjustedLifeExpectancy": 77.1,
         "InequalityOfOutcomes": 0.1
        },
        {
         "InequalityAdjustedLifeExpectancy": 41.8,
         "InequalityOfOutcomes": 0.33
        },
        {
         "InequalityAdjustedLifeExpectancy": 78.3,
         "InequalityOfOutcomes": 0.11
        },
        {
         "InequalityAdjustedLifeExpectancy": 79.3,
         "InequalityOfOutcomes": 0.1
        },
        {
         "InequalityAdjustedLifeExpectancy": 68.6,
         "InequalityOfOutcomes": 0.17
        },
        {
         "InequalityAdjustedLifeExpectancy": 61.2,
         "InequalityOfOutcomes": 0.19
        },
        {
         "InequalityAdjustedLifeExpectancy": 31.8,
         "InequalityOfOutcomes": 0.41
        },
        {
         "InequalityAdjustedLifeExpectancy": 79.1,
         "InequalityOfOutcomes": 0.06
        },
        {
         "InequalityAdjustedLifeExpectancy": 79.4,
         "InequalityOfOutcomes": 0.06
        },
        {
         "InequalityAdjustedLifeExpectancy": 60.2,
         "InequalityOfOutcomes": 0.3
        },
        {
         "InequalityAdjustedLifeExpectancy": 53,
         "InequalityOfOutcomes": 0.26
        },
        {
         "InequalityAdjustedLifeExpectancy": 47.7,
         "InequalityOfOutcomes": 0.33
        },
        {
         "InequalityAdjustedLifeExpectancy": 66.3,
         "InequalityOfOutcomes": 0.15
        },
        {
         "InequalityAdjustedLifeExpectancy": 39.6,
         "InequalityOfOutcomes": 0.43
        },
        {
         "InequalityAdjustedLifeExpectancy": 58.4,
         "InequalityOfOutcomes": 0.21
        },
        {
         "InequalityAdjustedLifeExpectancy": 65.5,
         "InequalityOfOutcomes": 0.22
        },
        {
         "InequalityAdjustedLifeExpectancy": 66.2,
         "InequalityOfOutcomes": 0.19
        },
        {
         "InequalityAdjustedLifeExpectancy": 48.3,
         "InequalityOfOutcomes": 0.31
        },
        {
         "InequalityAdjustedLifeExpectancy": 36.8,
         "InequalityOfOutcomes": 0.41
        },
        {
         "InequalityAdjustedLifeExpectancy": 64.2,
         "InequalityOfOutcomes": 0.17
        },
        {
         "InequalityAdjustedLifeExpectancy": 76.8,
         "InequalityOfOutcomes": 0.09
        },
        {
         "InequalityAdjustedLifeExpectancy": 74,
         "InequalityOfOutcomes": 0.13
        },
        {
         "InequalityAdjustedLifeExpectancy": 69.6,
         "InequalityOfOutcomes": 0.18
        },
        {
         "InequalityAdjustedLifeExpectancy": 51.6,
         "InequalityOfOutcomes": 0.3
        },
        {
         "InequalityAdjustedLifeExpectancy": 60.3,
         "InequalityOfOutcomes": 0.22
        },
        {
         "InequalityAdjustedLifeExpectancy": 65.5,
         "InequalityOfOutcomes": 0.19
        },
        {
         "InequalityAdjustedLifeExpectancy": 64.8,
         "InequalityOfOutcomes": 0.19
        },
        {
         "InequalityAdjustedLifeExpectancy": 44.7,
         "InequalityOfOutcomes": 0.39
        },
        {
         "InequalityAdjustedLifeExpectancy": 38.7,
         "InequalityOfOutcomes": 0.41
        },
        {
         "InequalityAdjustedLifeExpectancy": 36.9,
         "InequalityOfOutcomes": 0.37
        }
       ]
      },
      "encoding": {
       "x": {
        "field": "InequalityOfOutcomes",
        "scale": {
         "domain": [
          0.04,
          0.51
         ]
        },
        "type": "quantitative"
       },
       "y": {
        "field": "InequalityAdjustedLifeExpectancy",
        "scale": {
         "domain": [
          27.3,
          81.3
         ]
        },
        "type": "quantitative"
       }
      },
      "height": 150,
      "mark": "circle",
      "selection": {
       "selector004": {
        "bind": "scales",
        "encodings": [
         "x",
         "y"
        ],
        "type": "interval"
       }
      },
      "width": 160
     }
    },
    "time": "2020-07-12T13:35:32.449Z",
    "type": "clickVis"
   },
   {
    "code": "df = pd.read_csv(\"lux/data/hpi.csv\")\ndf",
    "id": "12a1be56c9ae4abab0a1f946bd40bc68",
    "order_count": 3,
    "time": "2020-07-12T13:35:33.141Z",
    "type": "selectCodeCell"
   },
   {
    "param": {
     "index": 2,
     "tabTitle": "Correlation",
     "vis": {
      "$schema": "https://vega.github.io/schema/vega-lite/v4.8.1.json",
      "config": {
       "mark": {
        "tooltip": {
         "content": "encoding"
        }
       },
       "view": {
        "continuousHeight": 300,
        "continuousWidth": 400
       }
      },
      "data": {
       "name": "data-1dbc478f1621a81afe9776f917f39e67"
      },
      "datasets": {
       "data-1dbc478f1621a81afe9776f917f39e67": [
        {
         "AverageLifeExpectancy": 59.7,
         "InequalityAdjustedLifeExpectancy": 38.3
        },
        {
         "AverageLifeExpectancy": 77.3,
         "InequalityAdjustedLifeExpectancy": 69.7
        },
        {
         "AverageLifeExpectancy": 74.3,
         "InequalityAdjustedLifeExpectancy": 60.5
        },
        {
         "AverageLifeExpectancy": 75.9,
         "InequalityAdjustedLifeExpectancy": 68.3
        },
        {
         "AverageLifeExpectancy": 74.4,
         "InequalityAdjustedLifeExpectancy": 66.9
        },
        {
         "AverageLifeExpectancy": 82.1,
         "InequalityAdjustedLifeExpectancy": 78.6
        },
        {
         "AverageLifeExpectancy": 81,
         "InequalityAdjustedLifeExpectancy": 78
        },
        {
         "AverageLifeExpectancy": 70.8,
         "InequalityAdjustedLifeExpectancy": 56.6
        },
        {
         "AverageLifeExpectancy": 70.9,
         "InequalityAdjustedLifeExpectancy": 66.7
        },
        {
         "AverageLifeExpectancy": 80.4,
         "InequalityAdjustedLifeExpectancy": 77.2
        },
        {
         "AverageLifeExpectancy": 69.8,
         "InequalityAdjustedLifeExpectancy": 61.7
        },
        {
         "AverageLifeExpectancy": 59.2,
         "InequalityAdjustedLifeExpectancy": 37.3
        },
        {
         "AverageLifeExpectancy": 68.7,
         "InequalityAdjustedLifeExpectancy": 54.5
        },
        {
         "AverageLifeExpectancy": 67.5,
         "InequalityAdjustedLifeExpectancy": 47.9
        },
        {
         "AverageLifeExpectancy": 76.2,
         "InequalityAdjustedLifeExpectancy": 71.1
        },
        {
         "AverageLifeExpectancy": 64.2,
         "InequalityAdjustedLifeExpectancy": 50.8
        },
        {
         "AverageLifeExpectancy": 73.9,
         "InequalityAdjustedLifeExpectancy": 63.3
        },
        {
         "AverageLifeExpectancy": 73.9,
         "InequalityAdjustedLifeExpectancy": 68.1
        },
        {
         "AverageLifeExpectancy": 58,
         "InequalityAdjustedLifeExpectancy": 36.5
        },
        {
         "AverageLifeExpectancy": 55.8,
         "InequalityAdjustedLifeExpectancy": 33
        },
        {
         "AverageLifeExpectancy": 67.5,
         "InequalityAdjustedLifeExpectancy": 54.2
        },
        {
         "AverageLifeExpectancy": 54.6,
         "InequalityAdjustedLifeExpectancy": 33.1
        },
        {
         "AverageLifeExpectancy": 81.7,
         "InequalityAdjustedLifeExpectancy": 77.8
        },
        {
         "AverageLifeExpectancy": 50.8,
         "InequalityAdjustedLifeExpectancy": 27.3
        },
        {
         "AverageLifeExpectancy": 81.1,
         "InequalityAdjustedLifeExpectancy": 74.9
        },
        {
         "AverageLifeExpectancy": 75.4,
         "InequalityAdjustedLifeExpectancy": 68.6
        },
        {
         "AverageLifeExpectancy": 73.7,
         "InequalityAdjustedLifeExpectancy": 63.1
        },
        {
         "AverageLifeExpectancy": 62.6,
         "InequalityAdjustedLifeExpectancy": 43.3
        },
        {
         "AverageLifeExpectancy": 79.1,
         "InequalityAdjustedLifeExpectancy": 72.6
        },
        {
         "AverageLifeExpectancy": 50.8,
         "InequalityAdjustedLifeExpectancy": 30.6
        },
        {
         "AverageLifeExpectancy": 77,
         "InequalityAdjustedLifeExpectancy": 73.5
        },
        {
         "AverageLifeExpectancy": 79.8,
         "InequalityAdjustedLifeExpectancy": 76.6
        },
        {
         "AverageLifeExpectancy": 78.2,
         "InequalityAdjustedLifeExpectancy": 75.5
        },
        {
         "AverageLifeExpectancy": 79.8,
         "InequalityAdjustedLifeExpectancy": 76.8
        },
        {
         "AverageLifeExpectancy": 61.3,
         "InequalityAdjustedLifeExpectancy": 41.4
        },
        {
         "AverageLifeExpectancy": 73.1,
         "InequalityAdjustedLifeExpectancy": 60.8
        },
        {
         "AverageLifeExpectancy": 75.4,
         "InequalityAdjustedLifeExpectancy": 64.1
        },
        {
         "AverageLifeExpectancy": 70.7,
         "InequalityAdjustedLifeExpectancy": 61.3
        },
        {
         "AverageLifeExpectancy": 72.5,
         "InequalityAdjustedLifeExpectancy": 62.5
        },
        {
         "AverageLifeExpectancy": 76.2,
         "InequalityAdjustedLifeExpectancy": 72.6
        },
        {
         "AverageLifeExpectancy": 62.8,
         "InequalityAdjustedLifeExpectancy": 43.8
        },
        {
         "AverageLifeExpectancy": 80.4,
         "InequalityAdjustedLifeExpectancy": 77.6
        },
        {
         "AverageLifeExpectancy": 81.8,
         "InequalityAdjustedLifeExpectancy": 78.5
        },
        {
         "AverageLifeExpectancy": 63.3,
         "InequalityAdjustedLifeExpectancy": 45.8
        },
        {
         "AverageLifeExpectancy": 74.6,
         "InequalityAdjustedLifeExpectancy": 66.9
        },
        {
         "AverageLifeExpectancy": 80.6,
         "InequalityAdjustedLifeExpectancy": 77.6
        },
        {
         "AverageLifeExpectancy": 61,
         "InequalityAdjustedLifeExpectancy": 42.2
        },
        {
         "AverageLifeExpectancy": 80.5,
         "InequalityAdjustedLifeExpectancy": 77.6
        },
        {
         "AverageLifeExpectancy": 71.4,
         "InequalityAdjustedLifeExpectancy": 59.2
        },
        {
         "AverageLifeExpectancy": 57.7,
         "InequalityAdjustedLifeExpectancy": 37.2
        },
        {
         "AverageLifeExpectancy": 62.1,
         "InequalityAdjustedLifeExpectancy": 42.9
        },
        {
         "AverageLifeExpectancy": 72.8,
         "InequalityAdjustedLifeExpectancy": 58.5
        },
        {
         "AverageLifeExpectancy": 83.6,
         "InequalityAdjustedLifeExpectancy": 81.3
        },
        {
         "AverageLifeExpectancy": 74.9,
         "InequalityAdjustedLifeExpectancy": 70.9
        },
        {
         "AverageLifeExpectancy": 82.2,
         "InequalityAdjustedLifeExpectancy": 79.8
        },
        {
         "AverageLifeExpectancy": 67.3,
         "InequalityAdjustedLifeExpectancy": 51.1
        },
        {
         "AverageLifeExpectancy": 68.5,
         "InequalityAdjustedLifeExpectancy": 57.2
        },
        {
         "AverageLifeExpectancy": 74.8,
         "InequalityAdjustedLifeExpectancy": 66.9
        },
        {
         "AverageLifeExpectancy": 69,
         "InequalityAdjustedLifeExpectancy": 55.6
        },
        {
         "AverageLifeExpectancy": 80.5,
         "InequalityAdjustedLifeExpectancy": 77.5
        },
        {
         "AverageLifeExpectancy": 81.9,
         "InequalityAdjustedLifeExpectancy": 78.7
        },
        {
         "AverageLifeExpectancy": 82.7,
         "InequalityAdjustedLifeExpectancy": 80.2
        },
        {
         "AverageLifeExpectancy": 75.3,
         "InequalityAdjustedLifeExpectancy": 66.3
        },
        {
         "AverageLifeExpectancy": 83.2,
         "InequalityAdjustedLifeExpectancy": 80.6
        },
        {
         "AverageLifeExpectancy": 68.6,
         "InequalityAdjustedLifeExpectancy": 60.7
        },
        {
         "AverageLifeExpectancy": 60.3,
         "InequalityAdjustedLifeExpectancy": 41
        },
        {
         "AverageLifeExpectancy": 69.7,
         "InequalityAdjustedLifeExpectancy": 60.2
        },
        {
         "AverageLifeExpectancy": 73.6,
         "InequalityAdjustedLifeExpectancy": 68.7
        },
        {
         "AverageLifeExpectancy": 78.8,
         "InequalityAdjustedLifeExpectancy": 73.1
        },
        {
         "AverageLifeExpectancy": 48.9,
         "InequalityAdjustedLifeExpectancy": 32.6
        },
        {
         "AverageLifeExpectancy": 60.2,
         "InequalityAdjustedLifeExpectancy": 40.3
        },
        {
         "AverageLifeExpectancy": 72.8,
         "InequalityAdjustedLifeExpectancy": 68.8
        },
        {
         "AverageLifeExpectancy": 81.1,
         "InequalityAdjustedLifeExpectancy": 79
        },
        {
         "AverageLifeExpectancy": 75.1,
         "InequalityAdjustedLifeExpectancy": 69.4
        },
        {
         "AverageLifeExpectancy": 60.1,
         "InequalityAdjustedLifeExpectancy": 40.4
        },
        {
         "AverageLifeExpectancy": 74.4,
         "InequalityAdjustedLifeExpectancy": 69.5
        },
        {
         "AverageLifeExpectancy": 80.2,
         "InequalityAdjustedLifeExpectancy": 76.6
        },
        {
         "AverageLifeExpectancy": 62.6,
         "InequalityAdjustedLifeExpectancy": 41.5
        },
        {
         "AverageLifeExpectancy": 74,
         "InequalityAdjustedLifeExpectancy": 66.7
        },
        {
         "AverageLifeExpectancy": 76.4,
         "InequalityAdjustedLifeExpectancy": 66.3
        },
        {
         "AverageLifeExpectancy": 68.6,
         "InequalityAdjustedLifeExpectancy": 56.9
        },
        {
         "AverageLifeExpectancy": 75.8,
         "InequalityAdjustedLifeExpectancy": 71.8
        },
        {
         "AverageLifeExpectancy": 73.4,
         "InequalityAdjustedLifeExpectancy": 61.6
        },
        {
         "AverageLifeExpectancy": 54.3,
         "InequalityAdjustedLifeExpectancy": 34.5
        },
        {
         "AverageLifeExpectancy": 65.5,
         "InequalityAdjustedLifeExpectancy": 48.4
        },
        {
         "AverageLifeExpectancy": 64,
         "InequalityAdjustedLifeExpectancy": 50.1
        },
        {
         "AverageLifeExpectancy": 68.8,
         "InequalityAdjustedLifeExpectancy": 55.3
        },
        {
         "AverageLifeExpectancy": 81.2,
         "InequalityAdjustedLifeExpectancy": 78.2
        },
        {
         "AverageLifeExpectancy": 81.4,
         "InequalityAdjustedLifeExpectancy": 77.7
        },
        {
         "AverageLifeExpectancy": 74.3,
         "InequalityAdjustedLifeExpectancy": 63.4
        },
        {
         "AverageLifeExpectancy": 60,
         "InequalityAdjustedLifeExpectancy": 38.9
        },
        {
         "AverageLifeExpectancy": 52.1,
         "InequalityAdjustedLifeExpectancy": 30.9
        },
        {
         "AverageLifeExpectancy": 81.3,
         "InequalityAdjustedLifeExpectancy": 78.6
        },
        {
         "AverageLifeExpectancy": 76.3,
         "InequalityAdjustedLifeExpectancy": 70.9
        },
        {
         "AverageLifeExpectancy": 65.7,
         "InequalityAdjustedLifeExpectancy": 44.1
        },
        {
         "AverageLifeExpectancy": 72.6,
         "InequalityAdjustedLifeExpectancy": 62.6
        },
        {
         "AverageLifeExpectancy": 77.2,
         "InequalityAdjustedLifeExpectancy": 68.3
        },
        {
         "AverageLifeExpectancy": 72.6,
         "InequalityAdjustedLifeExpectancy": 59.4
        },
        {
         "AverageLifeExpectancy": 74.1,
         "InequalityAdjustedLifeExpectancy": 63.5
        },
        {
         "AverageLifeExpectancy": 67.9,
         "InequalityAdjustedLifeExpectancy": 56.9
        },
        {
         "AverageLifeExpectancy": 76.9,
         "InequalityAdjustedLifeExpectancy": 72.9
        },
        {
         "AverageLifeExpectancy": 80.3,
         "InequalityAdjustedLifeExpectancy": 77.2
        },
        {
         "AverageLifeExpectancy": 61,
         "InequalityAdjustedLifeExpectancy": 42
        },
        {
         "AverageLifeExpectancy": 74.3,
         "InequalityAdjustedLifeExpectancy": 68.1
        },
        {
         "AverageLifeExpectancy": 69.5,
         "InequalityAdjustedLifeExpectancy": 63.4
        },
        {
         "AverageLifeExpectancy": 63.1,
         "InequalityAdjustedLifeExpectancy": 44.3
        },
        {
         "AverageLifeExpectancy": 65.4,
         "InequalityAdjustedLifeExpectancy": 49.1
        },
        {
         "AverageLifeExpectancy": 74.5,
         "InequalityAdjustedLifeExpectancy": 68.6
        },
        {
         "AverageLifeExpectancy": 49.8,
         "InequalityAdjustedLifeExpectancy": 28.2
        },
        {
         "AverageLifeExpectancy": 75.9,
         "InequalityAdjustedLifeExpectancy": 71.9
        },
        {
         "AverageLifeExpectancy": 80,
         "InequalityAdjustedLifeExpectancy": 77.1
        },
        {
         "AverageLifeExpectancy": 56.3,
         "InequalityAdjustedLifeExpectancy": 41.8
        },
        {
         "AverageLifeExpectancy": 81.3,
         "InequalityAdjustedLifeExpectancy": 78.3
        },
        {
         "AverageLifeExpectancy": 82.2,
         "InequalityAdjustedLifeExpectancy": 79.3
        },
        {
         "AverageLifeExpectancy": 74.6,
         "InequalityAdjustedLifeExpectancy": 68.6
        },
        {
         "AverageLifeExpectancy": 70.8,
         "InequalityAdjustedLifeExpectancy": 61.2
        },
        {
         "AverageLifeExpectancy": 48.9,
         "InequalityAdjustedLifeExpectancy": 31.8
        },
        {
         "AverageLifeExpectancy": 81.8,
         "InequalityAdjustedLifeExpectancy": 79.1
        },
        {
         "AverageLifeExpectancy": 82.6,
         "InequalityAdjustedLifeExpectancy": 79.4
        },
        {
         "AverageLifeExpectancy": 70.4,
         "InequalityAdjustedLifeExpectancy": 60.2
        },
        {
         "AverageLifeExpectancy": 69,
         "InequalityAdjustedLifeExpectancy": 53
        },
        {
         "AverageLifeExpectancy": 63.5,
         "InequalityAdjustedLifeExpectancy": 47.7
        },
        {
         "AverageLifeExpectancy": 74.1,
         "InequalityAdjustedLifeExpectancy": 66.3
        },
        {
         "AverageLifeExpectancy": 58.6,
         "InequalityAdjustedLifeExpectancy": 39.6
        },
        {
         "AverageLifeExpectancy": 70.1,
         "InequalityAdjustedLifeExpectancy": 58.4
        },
        {
         "AverageLifeExpectancy": 74.6,
         "InequalityAdjustedLifeExpectancy": 65.5
        },
        {
         "AverageLifeExpectancy": 74.7,
         "InequalityAdjustedLifeExpectancy": 66.2
        },
        {
         "AverageLifeExpectancy": 65.3,
         "InequalityAdjustedLifeExpectancy": 48.3
        },
        {
         "AverageLifeExpectancy": 57.1,
         "InequalityAdjustedLifeExpectancy": 36.8
        },
        {
         "AverageLifeExpectancy": 70.3,
         "InequalityAdjustedLifeExpectancy": 64.2
        },
        {
         "AverageLifeExpectancy": 80.4,
         "InequalityAdjustedLifeExpectancy": 76.8
        },
        {
         "AverageLifeExpectancy": 78.8,
         "InequalityAdjustedLifeExpectancy": 74
        },
        {
         "AverageLifeExpectancy": 76.9,
         "InequalityAdjustedLifeExpectancy": 69.6
        },
        {
         "AverageLifeExpectancy": 68.2,
         "InequalityAdjustedLifeExpectancy": 51.6
        },
        {
         "AverageLifeExpectancy": 71.3,
         "InequalityAdjustedLifeExpectancy": 60.3
        },
        {
         "AverageLifeExpectancy": 73.9,
         "InequalityAdjustedLifeExpectancy": 65.5
        },
        {
         "AverageLifeExpectancy": 75.5,
         "InequalityAdjustedLifeExpectancy": 64.8
        },
        {
         "AverageLifeExpectancy": 63.3,
         "InequalityAdjustedLifeExpectancy": 44.7
        },
        {
         "AverageLifeExpectancy": 58.4,
         "InequalityAdjustedLifeExpectancy": 38.7
        },
        {
         "AverageLifeExpectancy": 53.7,
         "InequalityAdjustedLifeExpectancy": 36.9
        }
       ]
      },
      "encoding": {
       "x": {
        "field": "AverageLifeExpectancy",
        "scale": {
         "domain": [
          48.9,
          83.6
         ]
        },
        "type": "quantitative"
       },
       "y": {
        "field": "InequalityAdjustedLifeExpectancy",
        "scale": {
         "domain": [
          27.3,
          81.3
         ]
        },
        "type": "quantitative"
       }
      },
      "height": 150,
      "mark": "circle",
      "selection": {
       "selector003": {
        "bind": "scales",
        "encodings": [
         "x",
         "y"
        ],
        "type": "interval"
       }
      },
      "width": 160
     }
    },
    "time": "2020-07-12T13:35:33.143Z",
    "type": "clickVis"
   },
   {
    "code": "df = pd.read_csv(\"lux/data/hpi.csv\")\ndf",
    "id": "12a1be56c9ae4abab0a1f946bd40bc68",
    "order_count": 3,
    "time": "2020-07-12T13:35:34.162Z",
    "type": "selectCodeCell"
   },
   {
    "param": {
     "Correlation": [
      1,
      3,
      2
     ]
    },
    "time": "2020-07-12T13:35:34.163Z",
    "type": "exportBtnClick"
   },
   {
    "code": "### Exporting one or more visualizations from recommendation widget",
    "id": "8e6114c3d53f46c9b0497f0fb8f18f08",
    "order_count": 4,
    "time": "2020-07-12T13:35:36.910Z",
    "type": "selectMarkdownCell"
   },
   {
    "code": "We can click on visualizations of interest and export them into a separate widget.",
    "id": "f3f9136301e54bd19eac8eb55f9cc158",
    "order_count": 5,
    "time": "2020-07-12T13:35:37.377Z",
    "type": "selectMarkdownCell"
   },
   {
    "code": "bookmarked_vis = df.get_exported()\nbookmarked_vis",
    "id": "a0843739aae2474e95eae3e889cd58c8",
    "order_count": 6,
    "time": "2020-07-12T13:35:37.593Z",
    "type": "selectCodeCell"
   },
   {
    "code": "bookmarked_vis = df.get_exported()\nbookmarked_vis",
    "id": "a0843739aae2474e95eae3e889cd58c8",
    "order_count": 6,
    "time": "2020-07-12T13:35:37.954Z",
    "type": "executeCodeCell"
   },
   {
    "code": "From the dataframe recommendations, the visualization showing the relationship between `GDPPerCapita` and `Footprint` is very interesting. In particular, there is an outlier with extremely high ecological footprint as well as high GDP per capita. So we click on this visualization and click on the export button.",
    "id": "668eb7fb960e451eb57c681baf3de28f",
    "order_count": 7,
    "time": "2020-07-12T13:35:37.960Z",
    "type": "selectMarkdownCell"
   },
   {
    "id": "a0843739aae2474e95eae3e889cd58c8",
    "isPrintLuxDf": false,
    "isPrintPandasDf": false,
    "isPrintView": true,
    "isPrintViewCollection": false,
    "time": "2020-07-12T13:35:38.028Z",
    "type": "completeCodeCell"
   },
   {
    "param": "",
    "time": "2020-07-12T13:35:38.035Z",
    "type": "initWidget"
   },
   {
    "code": "From the dataframe recommendations, the visualization showing the relationship between `GDPPerCapita` and `Footprint` is very interesting. In particular, there is an outlier with extremely high ecological footprint as well as high GDP per capita. So we click on this visualization and click on the export button.",
    "id": "668eb7fb960e451eb57c681baf3de28f",
    "order_count": 7,
    "time": "2020-07-12T13:35:41.039Z",
    "type": "selectMarkdownCell"
   },
   {
    "code": "view = df.get_exported()[0]\nview",
    "id": "186e1ccd2ef446cfac8da8d98b1a122c",
    "order_count": 8,
    "time": "2020-07-12T13:35:41.544Z",
    "type": "selectCodeCell"
   },
   {
    "code": "view = df.get_exported()[0]\nview",
    "id": "186e1ccd2ef446cfac8da8d98b1a122c",
    "order_count": 8,
    "time": "2020-07-12T13:35:42.239Z",
    "type": "executeCodeCell"
   },
   {
    "code": "### Setting Views as Context",
    "id": "433a4a78ea7e48c8983408162854d502",
    "order_count": 9,
    "time": "2020-07-12T13:35:42.245Z",
    "type": "selectMarkdownCell"
   },
   {
    "id": "186e1ccd2ef446cfac8da8d98b1a122c",
    "isPrintLuxDf": false,
    "isPrintPandasDf": false,
    "isPrintView": true,
    "isPrintViewCollection": false,
    "time": "2020-07-12T13:35:42.275Z",
    "type": "completeCodeCell"
   },
   {
    "param": "",
    "time": "2020-07-12T13:35:42.282Z",
    "type": "initWidget"
   },
   {
    "code": "view = df.get_exported()[0]\nview",
    "id": "186e1ccd2ef446cfac8da8d98b1a122c",
    "order_count": 8,
    "time": "2020-07-12T13:35:43.986Z",
    "type": "selectCodeCell"
   },
   {
    "code": "### Setting Views as Context",
    "id": "433a4a78ea7e48c8983408162854d502",
    "order_count": 9,
    "time": "2020-07-12T13:35:50.148Z",
    "type": "selectMarkdownCell"
   },
   {
    "code": "Now that we have exported the view, we can set the new context of the dataframe to be the view to get more recommendations related to this visualization.",
    "id": "d32ae31d14954f8b88711fbb89056866",
    "order_count": 10,
    "time": "2020-07-12T13:35:51.060Z",
    "type": "selectMarkdownCell"
   },
   {
    "code": "df.set_context_as_view(view)\ndf",
    "id": "e08b5df7007549379d93828434e743b1",
    "order_count": 11,
    "time": "2020-07-12T13:35:51.459Z",
    "type": "selectCodeCell"
   },
   {
    "code": "df.set_context_as_view(view)\ndf",
    "id": "e08b5df7007549379d93828434e743b1",
    "order_count": 11,
    "time": "2020-07-12T13:35:53.002Z",
    "type": "executeCodeCell"
   },
   {
    "code": "",
    "id": "f9a9dea3e44649209951c3eb5e9bc37c",
    "order_count": 12,
    "time": "2020-07-12T13:35:53.014Z",
    "type": "selectCodeCell"
   },
   {
    "id": "e08b5df7007549379d93828434e743b1",
    "isPrintLuxDf": false,
    "isPrintPandasDf": true,
    "isPrintView": false,
    "isPrintViewCollection": false,
    "time": "2020-07-12T13:35:53.516Z",
    "type": "completeCodeCell"
   },
   {
    "code": "view = df.get_exported()[0]\nview",
    "id": "186e1ccd2ef446cfac8da8d98b1a122c",
    "order_count": 8,
    "time": "2020-07-12T13:35:58.242Z",
    "type": "selectCodeCell"
   },
   {
    "code": "",
    "id": "67a5374ba1594f8a96f71e1f4c6145a1",
    "order_count": 8,
    "time": "2020-07-12T13:35:58.378Z",
    "type": "selectCodeCell"
   },
   {
    "code": "",
    "id": "67a5374ba1594f8a96f71e1f4c6145a1",
    "order_count": 8,
    "time": "2020-07-12T13:35:58.677Z",
    "type": "editCodeCell"
   },
   {
    "time": "2020-07-12T13:36:02.255Z",
    "type": "kernelRestart"
   },
   {
    "time": "2020-07-12T13:36:02.395Z",
    "type": "kernelRestart"
   },
   {
    "time": "2020-07-12T13:36:02.537Z",
    "type": "kernelRestart"
   },
   {
    "code": "cd ..",
    "id": "eb64dbe726c9440f8884b3f1484bab48",
    "order_count": 0,
    "time": "2020-07-12T13:36:03.806Z",
    "type": "selectCodeCell"
   },
   {
    "code": "cd ..",
    "id": "eb64dbe726c9440f8884b3f1484bab48",
    "order_count": 0,
    "time": "2020-07-12T13:36:03.811Z",
    "type": "editCodeCell"
   },
   {
    "code": "cd ..",
    "id": "eb64dbe726c9440f8884b3f1484bab48",
    "order_count": 0,
    "time": "2020-07-12T13:36:03.913Z",
    "type": "selectCodeCell"
   },
   {
    "code": "cd ..",
    "id": "eb64dbe726c9440f8884b3f1484bab48",
    "order_count": 0,
    "time": "2020-07-12T13:36:04.176Z",
    "type": "executeCodeCell"
   },
   {
    "code": "import pandas as pd\nimport lux",
    "id": "36317fa004f84755901fb751d5e7974b",
    "order_count": 1,
    "time": "2020-07-12T13:36:04.198Z",
    "type": "selectCodeCell"
   },
   {
    "time": "2020-07-12T13:36:04.330Z",
    "type": "kernelReady"
   },
   {
    "time": "2020-07-12T13:36:04.334Z",
    "type": "kernelReady"
   },
   {
    "code": "import pandas as pd\nimport lux",
    "id": "36317fa004f84755901fb751d5e7974b",
    "order_count": 1,
    "time": "2020-07-12T13:36:04.338Z",
    "type": "executeCodeCell"
   },
   {
    "code": "In this tutorial, we look at the [Happy Planet Index](http://happyplanetindex.org/) dataset, which contains metrics related to well-being for 140 countries around the world. We demonstrate how you can select visualizations of interest and export them for further analysis. ",
    "id": "2b4ef2b4027f49a68a2486039b0d5fee",
    "order_count": 2,
    "time": "2020-07-12T13:36:04.344Z",
    "type": "selectMarkdownCell"
   },
   {
    "code": "df = pd.read_csv(\"lux/data/hpi.csv\")\ndf",
    "id": "12a1be56c9ae4abab0a1f946bd40bc68",
    "order_count": 3,
    "time": "2020-07-12T13:36:04.513Z",
    "type": "selectCodeCell"
   },
   {
    "id": "36317fa004f84755901fb751d5e7974b",
    "isPrintLuxDf": false,
    "isPrintPandasDf": false,
    "isPrintView": false,
    "isPrintViewCollection": false,
    "time": "2020-07-12T13:36:04.660Z",
    "type": "completeCodeCell"
   },
   {
    "time": "2020-07-12T13:36:04.673Z",
    "type": "kernelReady"
   },
   {
    "code": "df = pd.read_csv(\"lux/data/hpi.csv\")\ndf",
    "id": "12a1be56c9ae4abab0a1f946bd40bc68",
    "order_count": 3,
    "time": "2020-07-12T13:36:04.677Z",
    "type": "executeCodeCell"
   },
   {
    "code": "### Exporting one or more visualizations from recommendation widget",
    "id": "8e6114c3d53f46c9b0497f0fb8f18f08",
    "order_count": 4,
    "time": "2020-07-12T13:36:04.682Z",
    "type": "selectMarkdownCell"
   },
   {
    "code": "We can click on visualizations of interest and export them into a separate widget.",
    "id": "f3f9136301e54bd19eac8eb55f9cc158",
    "order_count": 5,
    "time": "2020-07-12T13:36:05.119Z",
    "type": "selectMarkdownCell"
   },
   {
    "code": "bookmarked_vis = df.get_exported()\nbookmarked_vis",
    "id": "a0843739aae2474e95eae3e889cd58c8",
    "order_count": 6,
    "time": "2020-07-12T13:36:05.549Z",
    "type": "selectCodeCell"
   },
   {
    "id": "12a1be56c9ae4abab0a1f946bd40bc68",
    "isPrintLuxDf": false,
    "isPrintPandasDf": true,
    "isPrintView": false,
    "isPrintViewCollection": false,
    "time": "2020-07-12T13:36:05.622Z",
    "type": "completeCodeCell"
   },
   {
    "code": "bookmarked_vis = df.get_exported()\nbookmarked_vis",
    "id": "a0843739aae2474e95eae3e889cd58c8",
    "order_count": 6,
    "time": "2020-07-12T13:36:06.035Z",
    "type": "executeCodeCell"
   },
   {
    "code": "From the dataframe recommendations, the visualization showing the relationship between `GDPPerCapita` and `Footprint` is very interesting. In particular, there is an outlier with extremely high ecological footprint as well as high GDP per capita. So we click on this visualization and click on the export button.",
    "id": "668eb7fb960e451eb57c681baf3de28f",
    "order_count": 7,
    "time": "2020-07-12T13:36:06.042Z",
    "type": "selectMarkdownCell"
   },
   {
    "id": "a0843739aae2474e95eae3e889cd58c8",
    "isPrintLuxDf": false,
    "isPrintPandasDf": false,
    "isPrintView": false,
    "isPrintViewCollection": false,
    "time": "2020-07-12T13:36:06.056Z",
    "type": "completeCodeCell"
   },
   {
    "code": "df = pd.read_csv(\"lux/data/hpi.csv\")\ndf",
    "id": "12a1be56c9ae4abab0a1f946bd40bc68",
    "order_count": 3,
    "time": "2020-07-12T13:36:08.658Z",
    "type": "selectCodeCell"
   },
   {
    "time": "2020-07-12T13:36:10.899Z",
    "type": "kernelRestart"
   },
   {
    "time": "2020-07-12T13:36:11.655Z",
    "type": "kernelReady"
   },
   {
    "time": "2020-07-12T13:36:11.659Z",
    "type": "kernelReady"
   },
   {
    "code": "cd ..",
    "id": "eb64dbe726c9440f8884b3f1484bab48",
    "order_count": 0,
    "time": "2020-07-12T13:36:12.201Z",
    "type": "selectCodeCell"
   },
   {
    "code": "cd ..",
    "id": "eb64dbe726c9440f8884b3f1484bab48",
    "order_count": 0,
    "time": "2020-07-12T13:36:12.207Z",
    "type": "editCodeCell"
   },
   {
    "code": "cd ..",
    "id": "eb64dbe726c9440f8884b3f1484bab48",
    "order_count": 0,
    "time": "2020-07-12T13:36:12.659Z",
    "type": "executeCodeCell"
   },
   {
    "code": "import pandas as pd\nimport lux",
    "id": "36317fa004f84755901fb751d5e7974b",
    "order_count": 1,
    "time": "2020-07-12T13:36:12.685Z",
    "type": "selectCodeCell"
   },
   {
    "id": "eb64dbe726c9440f8884b3f1484bab48",
    "isPrintLuxDf": false,
    "isPrintPandasDf": false,
    "isPrintView": false,
    "isPrintViewCollection": false,
    "time": "2020-07-12T13:36:12.690Z",
    "type": "completeCodeCell"
   },
   {
    "id": "eb64dbe726c9440f8884b3f1484bab48",
    "isPrintLuxDf": false,
    "isPrintPandasDf": false,
    "isPrintView": false,
    "isPrintViewCollection": false,
    "time": "2020-07-12T13:36:12.691Z",
    "type": "completeCodeCell"
   },
   {
    "code": "import pandas as pd\nimport lux",
    "id": "36317fa004f84755901fb751d5e7974b",
    "order_count": 1,
    "time": "2020-07-12T13:36:12.922Z",
    "type": "executeCodeCell"
   },
   {
    "code": "In this tutorial, we look at the [Happy Planet Index](http://happyplanetindex.org/) dataset, which contains metrics related to well-being for 140 countries around the world. We demonstrate how you can select visualizations of interest and export them for further analysis. ",
    "id": "2b4ef2b4027f49a68a2486039b0d5fee",
    "order_count": 2,
    "time": "2020-07-12T13:36:12.927Z",
    "type": "selectMarkdownCell"
   },
   {
    "id": "36317fa004f84755901fb751d5e7974b",
    "isPrintLuxDf": false,
    "isPrintPandasDf": false,
    "isPrintView": false,
    "isPrintViewCollection": false,
    "time": "2020-07-12T13:36:13.234Z",
    "type": "completeCodeCell"
   },
   {
    "code": "df = pd.read_csv(\"lux/data/hpi.csv\")\ndf",
    "id": "12a1be56c9ae4abab0a1f946bd40bc68",
    "order_count": 3,
    "time": "2020-07-12T13:36:13.253Z",
    "type": "selectCodeCell"
   },
   {
    "code": "df = pd.read_csv(\"lux/data/hpi.csv\")\ndf",
    "id": "12a1be56c9ae4abab0a1f946bd40bc68",
    "order_count": 3,
    "time": "2020-07-12T13:36:13.643Z",
    "type": "executeCodeCell"
   },
   {
    "code": "### Exporting one or more visualizations from recommendation widget",
    "id": "8e6114c3d53f46c9b0497f0fb8f18f08",
    "order_count": 4,
    "time": "2020-07-12T13:36:13.651Z",
    "type": "selectMarkdownCell"
   },
   {
    "id": "12a1be56c9ae4abab0a1f946bd40bc68",
    "isPrintLuxDf": false,
    "isPrintPandasDf": true,
    "isPrintView": false,
    "isPrintViewCollection": false,
    "time": "2020-07-12T13:36:14.639Z",
    "type": "completeCodeCell"
   },
   {
    "code": "df = pd.read_csv(\"lux/data/hpi.csv\")\ndf",
    "id": "12a1be56c9ae4abab0a1f946bd40bc68",
    "order_count": 3,
    "time": "2020-07-12T13:36:15.241Z",
    "type": "selectCodeCell"
   },
   {
    "param": "",
    "time": "2020-07-12T13:36:15.270Z",
    "type": "initWidget"
   },
   {
    "param": "",
    "time": "2020-07-12T13:36:15.566Z",
    "type": "initWidget"
   },
   {
    "code": "df = pd.read_csv(\"lux/data/hpi.csv\")\ndf",
    "id": "12a1be56c9ae4abab0a1f946bd40bc68",
    "order_count": 3,
    "time": "2020-07-12T13:36:18.775Z",
    "type": "selectCodeCell"
   },
   {
    "param": "Distribution",
    "time": "2020-07-12T13:36:18.778Z",
    "type": "switchTab"
   },
   {
    "code": "df = pd.read_csv(\"lux/data/hpi.csv\")\ndf",
    "id": "12a1be56c9ae4abab0a1f946bd40bc68",
    "order_count": 3,
    "time": "2020-07-12T13:36:19.947Z",
    "type": "selectCodeCell"
   },
   {
    "param": "Category",
    "time": "2020-07-12T13:36:19.949Z",
    "type": "switchTab"
   },
   {
    "code": "df = pd.read_csv(\"lux/data/hpi.csv\")\ndf",
    "id": "12a1be56c9ae4abab0a1f946bd40bc68",
    "order_count": 3,
    "time": "2020-07-12T13:36:21.653Z",
    "type": "selectCodeCell"
   },
   {
    "param": "Correlation",
    "time": "2020-07-12T13:36:21.654Z",
    "type": "switchTab"
   },
   {
    "code": "df = pd.read_csv(\"lux/data/hpi.csv\")\ndf",
    "id": "12a1be56c9ae4abab0a1f946bd40bc68",
    "order_count": 3,
    "time": "2020-07-12T13:36:22.323Z",
    "type": "selectCodeCell"
   },
   {
    "param": {
     "index": 1,
     "tabTitle": "Correlation",
     "vis": {
      "$schema": "https://vega.github.io/schema/vega-lite/v4.8.1.json",
      "config": {
       "mark": {
        "tooltip": {
         "content": "encoding"
        }
       },
       "view": {
        "continuousHeight": 300,
        "continuousWidth": 400
       }
      },
      "data": {
       "name": "data-c5bd87549771a1474928380fe42ed676"
      },
      "datasets": {
       "data-c5bd87549771a1474928380fe42ed676": [
        {
         "AverageWellBeing": 3.8,
         "InequalityAdjustedWellbeing": 3.4
        },
        {
         "AverageWellBeing": 5.5,
         "InequalityAdjustedWellbeing": 5.1
        },
        {
         "AverageWellBeing": 5.6,
         "InequalityAdjustedWellbeing": 5.2
        },
        {
         "AverageWellBeing": 6.5,
         "InequalityAdjustedWellbeing": 6
        },
        {
         "AverageWellBeing": 4.3,
         "InequalityAdjustedWellbeing": 3.7
        },
        {
         "AverageWellBeing": 7.2,
         "InequalityAdjustedWellbeing": 6.9
        },
        {
         "AverageWellBeing": 7.4,
         "InequalityAdjustedWellbeing": 7.1
        },
        {
         "AverageWellBeing": 4.7,
         "InequalityAdjustedWellbeing": 4.3
        },
        {
         "AverageWellBeing": 5.7,
         "InequalityAdjustedWellbeing": 5.3
        },
        {
         "AverageWellBeing": 6.9,
         "InequalityAdjustedWellbeing": 6.6
        },
        {
         "AverageWellBeing": 6.1,
         "InequalityAdjustedWellbeing": 5.7
        },
        {
         "AverageWellBeing": 3.2,
         "InequalityAdjustedWellbeing": 2.8
        },
        {
         "AverageWellBeing": 5.6,
         "InequalityAdjustedWellbeing": 5.2
        },
        {
         "AverageWellBeing": 6,
         "InequalityAdjustedWellbeing": 5.5
        },
        {
         "AverageWellBeing": 4.8,
         "InequalityAdjustedWellbeing": 4.2
        },
        {
         "AverageWellBeing": 4.8,
         "InequalityAdjustedWellbeing": 4.3
        },
        {
         "AverageWellBeing": 6.9,
         "InequalityAdjustedWellbeing": 6.3
        },
        {
         "AverageWellBeing": 4.2,
         "InequalityAdjustedWellbeing": 3.7
        },
        {
         "AverageWellBeing": 4,
         "InequalityAdjustedWellbeing": 3.6
        },
        {
         "AverageWellBeing": 3.4,
         "InequalityAdjustedWellbeing": 3
        },
        {
         "AverageWellBeing": 3.9,
         "InequalityAdjustedWellbeing": 3.5
        },
        {
         "AverageWellBeing": 4.2,
         "InequalityAdjustedWellbeing": 3.7
        },
        {
         "AverageWellBeing": 7.4,
         "InequalityAdjustedWellbeing": 7.1
        },
        {
         "AverageWellBeing": 4,
         "InequalityAdjustedWellbeing": 3.7
        },
        {
         "AverageWellBeing": 6.6,
         "InequalityAdjustedWellbeing": 6.1
        },
        {
         "AverageWellBeing": 5.1,
         "InequalityAdjustedWellbeing": 4.6
        },
        {
         "AverageWellBeing": 6.4,
         "InequalityAdjustedWellbeing": 5.7
        },
        {
         "AverageWellBeing": 4,
         "InequalityAdjustedWellbeing": 3.7
        },
        {
         "AverageWellBeing": 7.3,
         "InequalityAdjustedWellbeing": 6.8
        },
        {
         "AverageWellBeing": 3.8,
         "InequalityAdjustedWellbeing": 3.5
        },
        {
         "AverageWellBeing": 6,
         "InequalityAdjustedWellbeing": 5.5
        },
        {
         "AverageWellBeing": 6.2,
         "InequalityAdjustedWellbeing": 5.7
        },
        {
         "AverageWellBeing": 6.3,
         "InequalityAdjustedWellbeing": 5.9
        },
        {
         "AverageWellBeing": 7.5,
         "InequalityAdjustedWellbeing": 7.2
        },
        {
         "AverageWellBeing": 4.4,
         "InequalityAdjustedWellbeing": 3.8
        },
        {
         "AverageWellBeing": 4.8,
         "InequalityAdjustedWellbeing": 4.1
        },
        {
         "AverageWellBeing": 6,
         "InequalityAdjustedWellbeing": 5.5
        },
        {
         "AverageWellBeing": 4.2,
         "InequalityAdjustedWellbeing": 3.7
        },
        {
         "AverageWellBeing": 5.9,
         "InequalityAdjustedWellbeing": 5.3
        },
        {
         "AverageWellBeing": 5.4,
         "InequalityAdjustedWellbeing": 5
        },
        {
         "AverageWellBeing": 4.6,
         "InequalityAdjustedWellbeing": 4.2
        },
        {
         "AverageWellBeing": 7.4,
         "InequalityAdjustedWellbeing": 7.2
        },
        {
         "AverageWellBeing": 6.6,
         "InequalityAdjustedWellbeing": 6.3
        },
        {
         "AverageWellBeing": 4,
         "InequalityAdjustedWellbeing": 3.5
        },
        {
         "AverageWellBeing": 4.3,
         "InequalityAdjustedWellbeing": 3.8
        },
        {
         "AverageWellBeing": 6.7,
         "InequalityAdjustedWellbeing": 6.4
        },
        {
         "AverageWellBeing": 5.1,
         "InequalityAdjustedWellbeing": 4.6
        },
        {
         "AverageWellBeing": 5.1,
         "InequalityAdjustedWellbeing": 4.5
        },
        {
         "AverageWellBeing": 5.9,
         "InequalityAdjustedWellbeing": 5.2
        },
        {
         "AverageWellBeing": 3.7,
         "InequalityAdjustedWellbeing": 3.3
        },
        {
         "AverageWellBeing": 4.4,
         "InequalityAdjustedWellbeing": 4
        },
        {
         "AverageWellBeing": 4.6,
         "InequalityAdjustedWellbeing": 3.9
        },
        {
         "AverageWellBeing": 5.5,
         "InequalityAdjustedWellbeing": 5.1
        },
        {
         "AverageWellBeing": 4.7,
         "InequalityAdjustedWellbeing": 4.2
        },
        {
         "AverageWellBeing": 7.6,
         "InequalityAdjustedWellbeing": 7.4
        },
        {
         "AverageWellBeing": 4.6,
         "InequalityAdjustedWellbeing": 4.2
        },
        {
         "AverageWellBeing": 5.4,
         "InequalityAdjustedWellbeing": 5.1
        },
        {
         "AverageWellBeing": 4.6,
         "InequalityAdjustedWellbeing": 4
        },
        {
         "AverageWellBeing": 4.7,
         "InequalityAdjustedWellbeing": 4.3
        },
        {
         "AverageWellBeing": 7,
         "InequalityAdjustedWellbeing": 6.7
        },
        {
         "AverageWellBeing": 7.1,
         "InequalityAdjustedWellbeing": 6.8
        },
        {
         "AverageWellBeing": 5.8,
         "InequalityAdjustedWellbeing": 5.3
        },
        {
         "AverageWellBeing": 5.6,
         "InequalityAdjustedWellbeing": 5
        },
        {
         "AverageWellBeing": 6,
         "InequalityAdjustedWellbeing": 5.6
        },
        {
         "AverageWellBeing": 5.8,
         "InequalityAdjustedWellbeing": 5.4
        },
        {
         "AverageWellBeing": 4.5,
         "InequalityAdjustedWellbeing": 4.1
        },
        {
         "AverageWellBeing": 5.2,
         "InequalityAdjustedWellbeing": 4.9
        },
        {
         "AverageWellBeing": 5.1,
         "InequalityAdjustedWellbeing": 4.7
        },
        {
         "AverageWellBeing": 4.6,
         "InequalityAdjustedWellbeing": 4
        },
        {
         "AverageWellBeing": 4.9,
         "InequalityAdjustedWellbeing": 4.3
        },
        {
         "AverageWellBeing": 4.4,
         "InequalityAdjustedWellbeing": 4.1
        },
        {
         "AverageWellBeing": 5.8,
         "InequalityAdjustedWellbeing": 5.4
        },
        {
         "AverageWellBeing": 7,
         "InequalityAdjustedWellbeing": 6.7
        },
        {
         "AverageWellBeing": 4.6,
         "InequalityAdjustedWellbeing": 4.1
        },
        {
         "AverageWellBeing": 4.3,
         "InequalityAdjustedWellbeing": 3.5
        },
        {
         "AverageWellBeing": 5.9,
         "InequalityAdjustedWellbeing": 5.7
        },
        {
         "AverageWellBeing": 6,
         "InequalityAdjustedWellbeing": 5.5
        },
        {
         "AverageWellBeing": 4.7,
         "InequalityAdjustedWellbeing": 4.5
        },
        {
         "AverageWellBeing": 5.5,
         "InequalityAdjustedWellbeing": 5.1
        },
        {
         "AverageWellBeing": 7.3,
         "InequalityAdjustedWellbeing": 6.8
        },
        {
         "AverageWellBeing": 4.9,
         "InequalityAdjustedWellbeing": 4.6
        },
        {
         "AverageWellBeing": 5.2,
         "InequalityAdjustedWellbeing": 4.6
        },
        {
         "AverageWellBeing": 5,
         "InequalityAdjustedWellbeing": 4.5
        },
        {
         "AverageWellBeing": 5,
         "InequalityAdjustedWellbeing": 4.5
        },
        {
         "AverageWellBeing": 4.4,
         "InequalityAdjustedWellbeing": 4
        },
        {
         "AverageWellBeing": 4.7,
         "InequalityAdjustedWellbeing": 4.4
        },
        {
         "AverageWellBeing": 4.2,
         "InequalityAdjustedWellbeing": 3.8
        },
        {
         "AverageWellBeing": 7.5,
         "InequalityAdjustedWellbeing": 7.5
        },
        {
         "AverageWellBeing": 7.2,
         "InequalityAdjustedWellbeing": 6.9
        },
        {
         "AverageWellBeing": 5.4,
         "InequalityAdjustedWellbeing": 4.8
        },
        {
         "AverageWellBeing": 3.8,
         "InequalityAdjustedWellbeing": 3.5
        },
        {
         "AverageWellBeing": 5.5,
         "InequalityAdjustedWellbeing": 5.2
        },
        {
         "AverageWellBeing": 7.7,
         "InequalityAdjustedWellbeing": 7.4
        },
        {
         "AverageWellBeing": 6.9,
         "InequalityAdjustedWellbeing": 6.4
        },
        {
         "AverageWellBeing": 5.1,
         "InequalityAdjustedWellbeing": 4.6
        },
        {
         "AverageWellBeing": 4.6,
         "InequalityAdjustedWellbeing": 4.1
        },
        {
         "AverageWellBeing": 6.9,
         "InequalityAdjustedWellbeing": 6.3
        },
        {
         "AverageWellBeing": 5.8,
         "InequalityAdjustedWellbeing": 5.5
        },
        {
         "AverageWellBeing": 5.8,
         "InequalityAdjustedWellbeing": 5.3
        },
        {
         "AverageWellBeing": 5,
         "InequalityAdjustedWellbeing": 4.4
        },
        {
         "AverageWellBeing": 5.9,
         "InequalityAdjustedWellbeing": 5.5
        },
        {
         "AverageWellBeing": 5,
         "InequalityAdjustedWellbeing": 4.3
        },
        {
         "AverageWellBeing": 3.9,
         "InequalityAdjustedWellbeing": 3.4
        },
        {
         "AverageWellBeing": 5.2,
         "InequalityAdjustedWellbeing": 4.6
        },
        {
         "AverageWellBeing": 5.6,
         "InequalityAdjustedWellbeing": 5.2
        },
        {
         "AverageWellBeing": 3.3,
         "InequalityAdjustedWellbeing": 3
        },
        {
         "AverageWellBeing": 3.7,
         "InequalityAdjustedWellbeing": 3.3
        },
        {
         "AverageWellBeing": 5.2,
         "InequalityAdjustedWellbeing": 4.6
        },
        {
         "AverageWellBeing": 4.5,
         "InequalityAdjustedWellbeing": 4
        },
        {
         "AverageWellBeing": 5.9,
         "InequalityAdjustedWellbeing": 5.4
        },
        {
         "AverageWellBeing": 6.1,
         "InequalityAdjustedWellbeing": 5.7
        },
        {
         "AverageWellBeing": 5.1,
         "InequalityAdjustedWellbeing": 4.6
        },
        {
         "AverageWellBeing": 6,
         "InequalityAdjustedWellbeing": 5.5
        },
        {
         "AverageWellBeing": 6.3,
         "InequalityAdjustedWellbeing": 5.9
        },
        {
         "AverageWellBeing": 4.2,
         "InequalityAdjustedWellbeing": 3.8
        },
        {
         "AverageWellBeing": 6.3,
         "InequalityAdjustedWellbeing": 5.9
        },
        {
         "AverageWellBeing": 4.9,
         "InequalityAdjustedWellbeing": 4.4
        },
        {
         "AverageWellBeing": 7.6,
         "InequalityAdjustedWellbeing": 7.4
        },
        {
         "AverageWellBeing": 7.8,
         "InequalityAdjustedWellbeing": 7.6
        },
        {
         "AverageWellBeing": 3.2,
         "InequalityAdjustedWellbeing": 2.6
        },
        {
         "AverageWellBeing": 4.5,
         "InequalityAdjustedWellbeing": 4.3
        },
        {
         "AverageWellBeing": 4,
         "InequalityAdjustedWellbeing": 3.6
        },
        {
         "AverageWellBeing": 6.3,
         "InequalityAdjustedWellbeing": 6
        },
        {
         "AverageWellBeing": 2.9,
         "InequalityAdjustedWellbeing": 2.4
        },
        {
         "AverageWellBeing": 6.4,
         "InequalityAdjustedWellbeing": 6
        },
        {
         "AverageWellBeing": 4.5,
         "InequalityAdjustedWellbeing": 4
        },
        {
         "AverageWellBeing": 5.3,
         "InequalityAdjustedWellbeing": 4.9
        },
        {
         "AverageWellBeing": 5.5,
         "InequalityAdjustedWellbeing": 5.1
        },
        {
         "AverageWellBeing": 4.3,
         "InequalityAdjustedWellbeing": 3.9
        },
        {
         "AverageWellBeing": 5,
         "InequalityAdjustedWellbeing": 4.6
        },
        {
         "AverageWellBeing": 6.9,
         "InequalityAdjustedWellbeing": 6.6
        },
        {
         "AverageWellBeing": 7,
         "InequalityAdjustedWellbeing": 6.5
        },
        {
         "AverageWellBeing": 6.4,
         "InequalityAdjustedWellbeing": 5.8
        },
        {
         "AverageWellBeing": 6,
         "InequalityAdjustedWellbeing": 5.6
        },
        {
         "AverageWellBeing": 6.5,
         "InequalityAdjustedWellbeing": 5.9
        },
        {
         "AverageWellBeing": 7.1,
         "InequalityAdjustedWellbeing": 6.5
        },
        {
         "AverageWellBeing": 5.5,
         "InequalityAdjustedWellbeing": 5.2
        },
        {
         "AverageWellBeing": 4.1,
         "InequalityAdjustedWellbeing": 3.6
        },
        {
         "AverageWellBeing": 5,
         "InequalityAdjustedWellbeing": 4.5
        },
        {
         "AverageWellBeing": 5,
         "InequalityAdjustedWellbeing": 4.6
        }
       ]
      },
      "encoding": {
       "x": {
        "field": "InequalityAdjustedWellbeing",
        "scale": {
         "domain": [
          2.4,
          7.6
         ]
        },
        "type": "quantitative"
       },
       "y": {
        "field": "AverageWellBeing",
        "scale": {
         "domain": [
          2.9,
          7.8
         ]
        },
        "type": "quantitative"
       }
      },
      "height": 150,
      "mark": "circle",
      "selection": {
       "selector002": {
        "bind": "scales",
        "encodings": [
         "x",
         "y"
        ],
        "type": "interval"
       }
      },
      "width": 160
     }
    },
    "time": "2020-07-12T13:36:22.325Z",
    "type": "clickVis"
   },
   {
    "code": "df = pd.read_csv(\"lux/data/hpi.csv\")\ndf",
    "id": "12a1be56c9ae4abab0a1f946bd40bc68",
    "order_count": 3,
    "time": "2020-07-12T13:36:22.949Z",
    "type": "selectCodeCell"
   },
   {
    "code": "df = pd.read_csv(\"lux/data/hpi.csv\")\ndf",
    "id": "12a1be56c9ae4abab0a1f946bd40bc68",
    "order_count": 3,
    "time": "2020-07-12T13:36:23.568Z",
    "type": "selectCodeCell"
   },
   {
    "param": {
     "index": 2,
     "tabTitle": "Correlation",
     "vis": {
      "$schema": "https://vega.github.io/schema/vega-lite/v4.8.1.json",
      "config": {
       "mark": {
        "tooltip": {
         "content": "encoding"
        }
       },
       "view": {
        "continuousHeight": 300,
        "continuousWidth": 400
       }
      },
      "data": {
       "name": "data-1dbc478f1621a81afe9776f917f39e67"
      },
      "datasets": {
       "data-1dbc478f1621a81afe9776f917f39e67": [
        {
         "AverageLifeExpectancy": 59.7,
         "InequalityAdjustedLifeExpectancy": 38.3
        },
        {
         "AverageLifeExpectancy": 77.3,
         "InequalityAdjustedLifeExpectancy": 69.7
        },
        {
         "AverageLifeExpectancy": 74.3,
         "InequalityAdjustedLifeExpectancy": 60.5
        },
        {
         "AverageLifeExpectancy": 75.9,
         "InequalityAdjustedLifeExpectancy": 68.3
        },
        {
         "AverageLifeExpectancy": 74.4,
         "InequalityAdjustedLifeExpectancy": 66.9
        },
        {
         "AverageLifeExpectancy": 82.1,
         "InequalityAdjustedLifeExpectancy": 78.6
        },
        {
         "AverageLifeExpectancy": 81,
         "InequalityAdjustedLifeExpectancy": 78
        },
        {
         "AverageLifeExpectancy": 70.8,
         "InequalityAdjustedLifeExpectancy": 56.6
        },
        {
         "AverageLifeExpectancy": 70.9,
         "InequalityAdjustedLifeExpectancy": 66.7
        },
        {
         "AverageLifeExpectancy": 80.4,
         "InequalityAdjustedLifeExpectancy": 77.2
        },
        {
         "AverageLifeExpectancy": 69.8,
         "InequalityAdjustedLifeExpectancy": 61.7
        },
        {
         "AverageLifeExpectancy": 59.2,
         "InequalityAdjustedLifeExpectancy": 37.3
        },
        {
         "AverageLifeExpectancy": 68.7,
         "InequalityAdjustedLifeExpectancy": 54.5
        },
        {
         "AverageLifeExpectancy": 67.5,
         "InequalityAdjustedLifeExpectancy": 47.9
        },
        {
         "AverageLifeExpectancy": 76.2,
         "InequalityAdjustedLifeExpectancy": 71.1
        },
        {
         "AverageLifeExpectancy": 64.2,
         "InequalityAdjustedLifeExpectancy": 50.8
        },
        {
         "AverageLifeExpectancy": 73.9,
         "InequalityAdjustedLifeExpectancy": 63.3
        },
        {
         "AverageLifeExpectancy": 73.9,
         "InequalityAdjustedLifeExpectancy": 68.1
        },
        {
         "AverageLifeExpectancy": 58,
         "InequalityAdjustedLifeExpectancy": 36.5
        },
        {
         "AverageLifeExpectancy": 55.8,
         "InequalityAdjustedLifeExpectancy": 33
        },
        {
         "AverageLifeExpectancy": 67.5,
         "InequalityAdjustedLifeExpectancy": 54.2
        },
        {
         "AverageLifeExpectancy": 54.6,
         "InequalityAdjustedLifeExpectancy": 33.1
        },
        {
         "AverageLifeExpectancy": 81.7,
         "InequalityAdjustedLifeExpectancy": 77.8
        },
        {
         "AverageLifeExpectancy": 50.8,
         "InequalityAdjustedLifeExpectancy": 27.3
        },
        {
         "AverageLifeExpectancy": 81.1,
         "InequalityAdjustedLifeExpectancy": 74.9
        },
        {
         "AverageLifeExpectancy": 75.4,
         "InequalityAdjustedLifeExpectancy": 68.6
        },
        {
         "AverageLifeExpectancy": 73.7,
         "InequalityAdjustedLifeExpectancy": 63.1
        },
        {
         "AverageLifeExpectancy": 62.6,
         "InequalityAdjustedLifeExpectancy": 43.3
        },
        {
         "AverageLifeExpectancy": 79.1,
         "InequalityAdjustedLifeExpectancy": 72.6
        },
        {
         "AverageLifeExpectancy": 50.8,
         "InequalityAdjustedLifeExpectancy": 30.6
        },
        {
         "AverageLifeExpectancy": 77,
         "InequalityAdjustedLifeExpectancy": 73.5
        },
        {
         "AverageLifeExpectancy": 79.8,
         "InequalityAdjustedLifeExpectancy": 76.6
        },
        {
         "AverageLifeExpectancy": 78.2,
         "InequalityAdjustedLifeExpectancy": 75.5
        },
        {
         "AverageLifeExpectancy": 79.8,
         "InequalityAdjustedLifeExpectancy": 76.8
        },
        {
         "AverageLifeExpectancy": 61.3,
         "InequalityAdjustedLifeExpectancy": 41.4
        },
        {
         "AverageLifeExpectancy": 73.1,
         "InequalityAdjustedLifeExpectancy": 60.8
        },
        {
         "AverageLifeExpectancy": 75.4,
         "InequalityAdjustedLifeExpectancy": 64.1
        },
        {
         "AverageLifeExpectancy": 70.7,
         "InequalityAdjustedLifeExpectancy": 61.3
        },
        {
         "AverageLifeExpectancy": 72.5,
         "InequalityAdjustedLifeExpectancy": 62.5
        },
        {
         "AverageLifeExpectancy": 76.2,
         "InequalityAdjustedLifeExpectancy": 72.6
        },
        {
         "AverageLifeExpectancy": 62.8,
         "InequalityAdjustedLifeExpectancy": 43.8
        },
        {
         "AverageLifeExpectancy": 80.4,
         "InequalityAdjustedLifeExpectancy": 77.6
        },
        {
         "AverageLifeExpectancy": 81.8,
         "InequalityAdjustedLifeExpectancy": 78.5
        },
        {
         "AverageLifeExpectancy": 63.3,
         "InequalityAdjustedLifeExpectancy": 45.8
        },
        {
         "AverageLifeExpectancy": 74.6,
         "InequalityAdjustedLifeExpectancy": 66.9
        },
        {
         "AverageLifeExpectancy": 80.6,
         "InequalityAdjustedLifeExpectancy": 77.6
        },
        {
         "AverageLifeExpectancy": 61,
         "InequalityAdjustedLifeExpectancy": 42.2
        },
        {
         "AverageLifeExpectancy": 80.5,
         "InequalityAdjustedLifeExpectancy": 77.6
        },
        {
         "AverageLifeExpectancy": 71.4,
         "InequalityAdjustedLifeExpectancy": 59.2
        },
        {
         "AverageLifeExpectancy": 57.7,
         "InequalityAdjustedLifeExpectancy": 37.2
        },
        {
         "AverageLifeExpectancy": 62.1,
         "InequalityAdjustedLifeExpectancy": 42.9
        },
        {
         "AverageLifeExpectancy": 72.8,
         "InequalityAdjustedLifeExpectancy": 58.5
        },
        {
         "AverageLifeExpectancy": 83.6,
         "InequalityAdjustedLifeExpectancy": 81.3
        },
        {
         "AverageLifeExpectancy": 74.9,
         "InequalityAdjustedLifeExpectancy": 70.9
        },
        {
         "AverageLifeExpectancy": 82.2,
         "InequalityAdjustedLifeExpectancy": 79.8
        },
        {
         "AverageLifeExpectancy": 67.3,
         "InequalityAdjustedLifeExpectancy": 51.1
        },
        {
         "AverageLifeExpectancy": 68.5,
         "InequalityAdjustedLifeExpectancy": 57.2
        },
        {
         "AverageLifeExpectancy": 74.8,
         "InequalityAdjustedLifeExpectancy": 66.9
        },
        {
         "AverageLifeExpectancy": 69,
         "InequalityAdjustedLifeExpectancy": 55.6
        },
        {
         "AverageLifeExpectancy": 80.5,
         "InequalityAdjustedLifeExpectancy": 77.5
        },
        {
         "AverageLifeExpectancy": 81.9,
         "InequalityAdjustedLifeExpectancy": 78.7
        },
        {
         "AverageLifeExpectancy": 82.7,
         "InequalityAdjustedLifeExpectancy": 80.2
        },
        {
         "AverageLifeExpectancy": 75.3,
         "InequalityAdjustedLifeExpectancy": 66.3
        },
        {
         "AverageLifeExpectancy": 83.2,
         "InequalityAdjustedLifeExpectancy": 80.6
        },
        {
         "AverageLifeExpectancy": 68.6,
         "InequalityAdjustedLifeExpectancy": 60.7
        },
        {
         "AverageLifeExpectancy": 60.3,
         "InequalityAdjustedLifeExpectancy": 41
        },
        {
         "AverageLifeExpectancy": 69.7,
         "InequalityAdjustedLifeExpectancy": 60.2
        },
        {
         "AverageLifeExpectancy": 73.6,
         "InequalityAdjustedLifeExpectancy": 68.7
        },
        {
         "AverageLifeExpectancy": 78.8,
         "InequalityAdjustedLifeExpectancy": 73.1
        },
        {
         "AverageLifeExpectancy": 48.9,
         "InequalityAdjustedLifeExpectancy": 32.6
        },
        {
         "AverageLifeExpectancy": 60.2,
         "InequalityAdjustedLifeExpectancy": 40.3
        },
        {
         "AverageLifeExpectancy": 72.8,
         "InequalityAdjustedLifeExpectancy": 68.8
        },
        {
         "AverageLifeExpectancy": 81.1,
         "InequalityAdjustedLifeExpectancy": 79
        },
        {
         "AverageLifeExpectancy": 75.1,
         "InequalityAdjustedLifeExpectancy": 69.4
        },
        {
         "AverageLifeExpectancy": 60.1,
         "InequalityAdjustedLifeExpectancy": 40.4
        },
        {
         "AverageLifeExpectancy": 74.4,
         "InequalityAdjustedLifeExpectancy": 69.5
        },
        {
         "AverageLifeExpectancy": 80.2,
         "InequalityAdjustedLifeExpectancy": 76.6
        },
        {
         "AverageLifeExpectancy": 62.6,
         "InequalityAdjustedLifeExpectancy": 41.5
        },
        {
         "AverageLifeExpectancy": 74,
         "InequalityAdjustedLifeExpectancy": 66.7
        },
        {
         "AverageLifeExpectancy": 76.4,
         "InequalityAdjustedLifeExpectancy": 66.3
        },
        {
         "AverageLifeExpectancy": 68.6,
         "InequalityAdjustedLifeExpectancy": 56.9
        },
        {
         "AverageLifeExpectancy": 75.8,
         "InequalityAdjustedLifeExpectancy": 71.8
        },
        {
         "AverageLifeExpectancy": 73.4,
         "InequalityAdjustedLifeExpectancy": 61.6
        },
        {
         "AverageLifeExpectancy": 54.3,
         "InequalityAdjustedLifeExpectancy": 34.5
        },
        {
         "AverageLifeExpectancy": 65.5,
         "InequalityAdjustedLifeExpectancy": 48.4
        },
        {
         "AverageLifeExpectancy": 64,
         "InequalityAdjustedLifeExpectancy": 50.1
        },
        {
         "AverageLifeExpectancy": 68.8,
         "InequalityAdjustedLifeExpectancy": 55.3
        },
        {
         "AverageLifeExpectancy": 81.2,
         "InequalityAdjustedLifeExpectancy": 78.2
        },
        {
         "AverageLifeExpectancy": 81.4,
         "InequalityAdjustedLifeExpectancy": 77.7
        },
        {
         "AverageLifeExpectancy": 74.3,
         "InequalityAdjustedLifeExpectancy": 63.4
        },
        {
         "AverageLifeExpectancy": 60,
         "InequalityAdjustedLifeExpectancy": 38.9
        },
        {
         "AverageLifeExpectancy": 52.1,
         "InequalityAdjustedLifeExpectancy": 30.9
        },
        {
         "AverageLifeExpectancy": 81.3,
         "InequalityAdjustedLifeExpectancy": 78.6
        },
        {
         "AverageLifeExpectancy": 76.3,
         "InequalityAdjustedLifeExpectancy": 70.9
        },
        {
         "AverageLifeExpectancy": 65.7,
         "InequalityAdjustedLifeExpectancy": 44.1
        },
        {
         "AverageLifeExpectancy": 72.6,
         "InequalityAdjustedLifeExpectancy": 62.6
        },
        {
         "AverageLifeExpectancy": 77.2,
         "InequalityAdjustedLifeExpectancy": 68.3
        },
        {
         "AverageLifeExpectancy": 72.6,
         "InequalityAdjustedLifeExpectancy": 59.4
        },
        {
         "AverageLifeExpectancy": 74.1,
         "InequalityAdjustedLifeExpectancy": 63.5
        },
        {
         "AverageLifeExpectancy": 67.9,
         "InequalityAdjustedLifeExpectancy": 56.9
        },
        {
         "AverageLifeExpectancy": 76.9,
         "InequalityAdjustedLifeExpectancy": 72.9
        },
        {
         "AverageLifeExpectancy": 80.3,
         "InequalityAdjustedLifeExpectancy": 77.2
        },
        {
         "AverageLifeExpectancy": 61,
         "InequalityAdjustedLifeExpectancy": 42
        },
        {
         "AverageLifeExpectancy": 74.3,
         "InequalityAdjustedLifeExpectancy": 68.1
        },
        {
         "AverageLifeExpectancy": 69.5,
         "InequalityAdjustedLifeExpectancy": 63.4
        },
        {
         "AverageLifeExpectancy": 63.1,
         "InequalityAdjustedLifeExpectancy": 44.3
        },
        {
         "AverageLifeExpectancy": 65.4,
         "InequalityAdjustedLifeExpectancy": 49.1
        },
        {
         "AverageLifeExpectancy": 74.5,
         "InequalityAdjustedLifeExpectancy": 68.6
        },
        {
         "AverageLifeExpectancy": 49.8,
         "InequalityAdjustedLifeExpectancy": 28.2
        },
        {
         "AverageLifeExpectancy": 75.9,
         "InequalityAdjustedLifeExpectancy": 71.9
        },
        {
         "AverageLifeExpectancy": 80,
         "InequalityAdjustedLifeExpectancy": 77.1
        },
        {
         "AverageLifeExpectancy": 56.3,
         "InequalityAdjustedLifeExpectancy": 41.8
        },
        {
         "AverageLifeExpectancy": 81.3,
         "InequalityAdjustedLifeExpectancy": 78.3
        },
        {
         "AverageLifeExpectancy": 82.2,
         "InequalityAdjustedLifeExpectancy": 79.3
        },
        {
         "AverageLifeExpectancy": 74.6,
         "InequalityAdjustedLifeExpectancy": 68.6
        },
        {
         "AverageLifeExpectancy": 70.8,
         "InequalityAdjustedLifeExpectancy": 61.2
        },
        {
         "AverageLifeExpectancy": 48.9,
         "InequalityAdjustedLifeExpectancy": 31.8
        },
        {
         "AverageLifeExpectancy": 81.8,
         "InequalityAdjustedLifeExpectancy": 79.1
        },
        {
         "AverageLifeExpectancy": 82.6,
         "InequalityAdjustedLifeExpectancy": 79.4
        },
        {
         "AverageLifeExpectancy": 70.4,
         "InequalityAdjustedLifeExpectancy": 60.2
        },
        {
         "AverageLifeExpectancy": 69,
         "InequalityAdjustedLifeExpectancy": 53
        },
        {
         "AverageLifeExpectancy": 63.5,
         "InequalityAdjustedLifeExpectancy": 47.7
        },
        {
         "AverageLifeExpectancy": 74.1,
         "InequalityAdjustedLifeExpectancy": 66.3
        },
        {
         "AverageLifeExpectancy": 58.6,
         "InequalityAdjustedLifeExpectancy": 39.6
        },
        {
         "AverageLifeExpectancy": 70.1,
         "InequalityAdjustedLifeExpectancy": 58.4
        },
        {
         "AverageLifeExpectancy": 74.6,
         "InequalityAdjustedLifeExpectancy": 65.5
        },
        {
         "AverageLifeExpectancy": 74.7,
         "InequalityAdjustedLifeExpectancy": 66.2
        },
        {
         "AverageLifeExpectancy": 65.3,
         "InequalityAdjustedLifeExpectancy": 48.3
        },
        {
         "AverageLifeExpectancy": 57.1,
         "InequalityAdjustedLifeExpectancy": 36.8
        },
        {
         "AverageLifeExpectancy": 70.3,
         "InequalityAdjustedLifeExpectancy": 64.2
        },
        {
         "AverageLifeExpectancy": 80.4,
         "InequalityAdjustedLifeExpectancy": 76.8
        },
        {
         "AverageLifeExpectancy": 78.8,
         "InequalityAdjustedLifeExpectancy": 74
        },
        {
         "AverageLifeExpectancy": 76.9,
         "InequalityAdjustedLifeExpectancy": 69.6
        },
        {
         "AverageLifeExpectancy": 68.2,
         "InequalityAdjustedLifeExpectancy": 51.6
        },
        {
         "AverageLifeExpectancy": 71.3,
         "InequalityAdjustedLifeExpectancy": 60.3
        },
        {
         "AverageLifeExpectancy": 73.9,
         "InequalityAdjustedLifeExpectancy": 65.5
        },
        {
         "AverageLifeExpectancy": 75.5,
         "InequalityAdjustedLifeExpectancy": 64.8
        },
        {
         "AverageLifeExpectancy": 63.3,
         "InequalityAdjustedLifeExpectancy": 44.7
        },
        {
         "AverageLifeExpectancy": 58.4,
         "InequalityAdjustedLifeExpectancy": 38.7
        },
        {
         "AverageLifeExpectancy": 53.7,
         "InequalityAdjustedLifeExpectancy": 36.9
        }
       ]
      },
      "encoding": {
       "x": {
        "field": "AverageLifeExpectancy",
        "scale": {
         "domain": [
          48.9,
          83.6
         ]
        },
        "type": "quantitative"
       },
       "y": {
        "field": "InequalityAdjustedLifeExpectancy",
        "scale": {
         "domain": [
          27.3,
          81.3
         ]
        },
        "type": "quantitative"
       }
      },
      "height": 150,
      "mark": "circle",
      "selection": {
       "selector003": {
        "bind": "scales",
        "encodings": [
         "x",
         "y"
        ],
        "type": "interval"
       }
      },
      "width": 160
     }
    },
    "time": "2020-07-12T13:36:23.570Z",
    "type": "clickVis"
   },
   {
    "code": "df = pd.read_csv(\"lux/data/hpi.csv\")\ndf",
    "id": "12a1be56c9ae4abab0a1f946bd40bc68",
    "order_count": 3,
    "time": "2020-07-12T13:36:23.986Z",
    "type": "selectCodeCell"
   },
   {
    "param": {
     "index": 3,
     "tabTitle": "Correlation",
     "vis": {
      "$schema": "https://vega.github.io/schema/vega-lite/v4.8.1.json",
      "config": {
       "mark": {
        "tooltip": {
         "content": "encoding"
        }
       },
       "view": {
        "continuousHeight": 300,
        "continuousWidth": 400
       }
      },
      "data": {
       "name": "data-e7e34cde487c40c25a204bd11a5f13b1"
      },
      "datasets": {
       "data-e7e34cde487c40c25a204bd11a5f13b1": [
        {
         "InequalityAdjustedLifeExpectancy": 38.3,
         "InequalityOfOutcomes": 0.43
        },
        {
         "InequalityAdjustedLifeExpectancy": 69.7,
         "InequalityOfOutcomes": 0.17
        },
        {
         "InequalityAdjustedLifeExpectancy": 60.5,
         "InequalityOfOutcomes": 0.24
        },
        {
         "InequalityAdjustedLifeExpectancy": 68.3,
         "InequalityOfOutcomes": 0.16
        },
        {
         "InequalityAdjustedLifeExpectancy": 66.9,
         "InequalityOfOutcomes": 0.22
        },
        {
         "InequalityAdjustedLifeExpectancy": 78.6,
         "InequalityOfOutcomes": 0.08
        },
        {
         "InequalityAdjustedLifeExpectancy": 78,
         "InequalityOfOutcomes": 0.07
        },
        {
         "InequalityAdjustedLifeExpectancy": 56.6,
         "InequalityOfOutcomes": 0.27
        },
        {
         "InequalityAdjustedLifeExpectancy": 66.7,
         "InequalityOfOutcomes": 0.13
        },
        {
         "InequalityAdjustedLifeExpectancy": 77.2,
         "InequalityOfOutcomes": 0.09
        },
        {
         "InequalityAdjustedLifeExpectancy": 61.7,
         "InequalityOfOutcomes": 0.18
        },
        {
         "InequalityAdjustedLifeExpectancy": 37.3,
         "InequalityOfOutcomes": 0.44
        },
        {
         "InequalityAdjustedLifeExpectancy": 54.5,
         "InequalityOfOutcomes": 0.27
        },
        {
         "InequalityAdjustedLifeExpectancy": 47.9,
         "InequalityOfOutcomes": 0.35000000000000003
        },
        {
         "InequalityAdjustedLifeExpectancy": 71.1,
         "InequalityOfOutcomes": 0.19
        },
        {
         "InequalityAdjustedLifeExpectancy": 50.8,
         "InequalityOfOutcomes": 0.28
        },
        {
         "InequalityAdjustedLifeExpectancy": 63.3,
         "InequalityOfOutcomes": 0.22
        },
        {
         "InequalityAdjustedLifeExpectancy": 68.1,
         "InequalityOfOutcomes": 0.19
        },
        {
         "InequalityAdjustedLifeExpectancy": 36.5,
         "InequalityOfOutcomes": 0.43
        },
        {
         "InequalityAdjustedLifeExpectancy": 33,
         "InequalityOfOutcomes": 0.48
        },
        {
         "InequalityAdjustedLifeExpectancy": 54.2,
         "InequalityOfOutcomes": 0.28
        },
        {
         "InequalityAdjustedLifeExpectancy": 33.1,
         "InequalityOfOutcomes": 0.47
        },
        {
         "InequalityAdjustedLifeExpectancy": 77.8,
         "InequalityOfOutcomes": 0.09
        },
        {
         "InequalityAdjustedLifeExpectancy": 27.3,
         "InequalityOfOutcomes": 0.51
        },
        {
         "InequalityAdjustedLifeExpectancy": 74.9,
         "InequalityOfOutcomes": 0.14
        },
        {
         "InequalityAdjustedLifeExpectancy": 68.6,
         "InequalityOfOutcomes": 0.17
        },
        {
         "InequalityAdjustedLifeExpectancy": 63.1,
         "InequalityOfOutcomes": 0.24
        },
        {
         "InequalityAdjustedLifeExpectancy": 43.3,
         "InequalityOfOutcomes": 0.36
        },
        {
         "InequalityAdjustedLifeExpectancy": 72.6,
         "InequalityOfOutcomes": 0.15
        },
        {
         "InequalityAdjustedLifeExpectancy": 30.6,
         "InequalityOfOutcomes": 0.45
        },
        {
         "InequalityAdjustedLifeExpectancy": 73.5,
         "InequalityOfOutcomes": 0.12
        },
        {
         "InequalityAdjustedLifeExpectancy": 76.6,
         "InequalityOfOutcomes": 0.12
        },
        {
         "InequalityAdjustedLifeExpectancy": 75.5,
         "InequalityOfOutcomes": 0.09
        },
        {
         "InequalityAdjustedLifeExpectancy": 76.8,
         "InequalityOfOutcomes": 0.07
        },
        {
         "InequalityAdjustedLifeExpectancy": 41.4,
         "InequalityOfOutcomes": 0.42
        },
        {
         "InequalityAdjustedLifeExpectancy": 60.8,
         "InequalityOfOutcomes": 0.3
        },
        {
         "InequalityAdjustedLifeExpectancy": 64.1,
         "InequalityOfOutcomes": 0.22
        },
        {
         "InequalityAdjustedLifeExpectancy": 61.3,
         "InequalityOfOutcomes": 0.23
        },
        {
         "InequalityAdjustedLifeExpectancy": 62.5,
         "InequalityOfOutcomes": 0.22
        },
        {
         "InequalityAdjustedLifeExpectancy": 72.6,
         "InequalityOfOutcomes": 0.12
        },
        {
         "InequalityAdjustedLifeExpectancy": 43.8,
         "InequalityOfOutcomes": 0.36
        },
        {
         "InequalityAdjustedLifeExpectancy": 77.6,
         "InequalityOfOutcomes": 0.06
        },
        {
         "InequalityAdjustedLifeExpectancy": 78.5,
         "InequalityOfOutcomes": 0.09
        },
        {
         "InequalityAdjustedLifeExpectancy": 45.8,
         "InequalityOfOutcomes": 0.36
        },
        {
         "InequalityAdjustedLifeExpectancy": 66.9,
         "InequalityOfOutcomes": 0.2
        },
        {
         "InequalityAdjustedLifeExpectancy": 77.6,
         "InequalityOfOutcomes": 0.08
        },
        {
         "InequalityAdjustedLifeExpectancy": 42.2,
         "InequalityOfOutcomes": 0.38
        },
        {
         "InequalityAdjustedLifeExpectancy": 77.6,
         "InequalityOfOutcomes": 0.16
        },
        {
         "InequalityAdjustedLifeExpectancy": 59.2,
         "InequalityOfOutcomes": 0.27
        },
        {
         "InequalityAdjustedLifeExpectancy": 37.2,
         "InequalityOfOutcomes": 0.42
        },
        {
         "InequalityAdjustedLifeExpectancy": 42.9,
         "InequalityOfOutcomes": 0.37
        },
        {
         "InequalityAdjustedLifeExpectancy": 58.5,
         "InequalityOfOutcomes": 0.31
        },
        {
         "InequalityAdjustedLifeExpectancy": 81.3,
         "InequalityOfOutcomes": 0.1
        },
        {
         "InequalityAdjustedLifeExpectancy": 70.9,
         "InequalityOfOutcomes": 0.15
        },
        {
         "InequalityAdjustedLifeExpectancy": 79.8,
         "InequalityOfOutcomes": 0.05
        },
        {
         "InequalityAdjustedLifeExpectancy": 51.1,
         "InequalityOfOutcomes": 0.31
        },
        {
         "InequalityAdjustedLifeExpectancy": 57.2,
         "InequalityOfOutcomes": 0.21
        },
        {
         "InequalityAdjustedLifeExpectancy": 66.9,
         "InequalityOfOutcomes": 0.23
        },
        {
         "InequalityAdjustedLifeExpectancy": 55.6,
         "InequalityOfOutcomes": 0.27
        },
        {
         "InequalityAdjustedLifeExpectancy": 77.5,
         "InequalityOfOutcomes": 0.08
        },
        {
         "InequalityAdjustedLifeExpectancy": 78.7,
         "InequalityOfOutcomes": 0.08
        },
        {
         "InequalityAdjustedLifeExpectancy": 80.2,
         "InequalityOfOutcomes": 0.12
        },
        {
         "InequalityAdjustedLifeExpectancy": 66.3,
         "InequalityOfOutcomes": 0.21
        },
        {
         "InequalityAdjustedLifeExpectancy": 80.6,
         "InequalityOfOutcomes": 0.09
        },
        {
         "InequalityAdjustedLifeExpectancy": 60.7,
         "InequalityOfOutcomes": 0.18
        },
        {
         "InequalityAdjustedLifeExpectancy": 41,
         "InequalityOfOutcomes": 0.38
        },
        {
         "InequalityAdjustedLifeExpectancy": 60.2,
         "InequalityOfOutcomes": 0.18
        },
        {
         "InequalityAdjustedLifeExpectancy": 68.7,
         "InequalityOfOutcomes": 0.14
        },
        {
         "InequalityAdjustedLifeExpectancy": 73.1,
         "InequalityOfOutcomes": 0.19
        },
        {
         "InequalityAdjustedLifeExpectancy": 32.6,
         "InequalityOfOutcomes": 0.42
        },
        {
         "InequalityAdjustedLifeExpectancy": 40.3,
         "InequalityOfOutcomes": 0.38
        },
        {
         "InequalityAdjustedLifeExpectancy": 68.8,
         "InequalityOfOutcomes": 0.11
        },
        {
         "InequalityAdjustedLifeExpectancy": 79,
         "InequalityOfOutcomes": 0.07
        },
        {
         "InequalityAdjustedLifeExpectancy": 69.4,
         "InequalityOfOutcomes": 0.18
        },
        {
         "InequalityAdjustedLifeExpectancy": 40.4,
         "InequalityOfOutcomes": 0.45
        },
        {
         "InequalityAdjustedLifeExpectancy": 69.5,
         "InequalityOfOutcomes": 0.1
        },
        {
         "InequalityAdjustedLifeExpectancy": 76.6,
         "InequalityOfOutcomes": 0.13
        },
        {
         "InequalityAdjustedLifeExpectancy": 41.5,
         "InequalityOfOutcomes": 0.37
        },
        {
         "InequalityAdjustedLifeExpectancy": 66.7,
         "InequalityOfOutcomes": 0.17
        },
        {
         "InequalityAdjustedLifeExpectancy": 66.3,
         "InequalityOfOutcomes": 0.19
        },
        {
         "InequalityAdjustedLifeExpectancy": 56.9,
         "InequalityOfOutcomes": 0.22
        },
        {
         "InequalityAdjustedLifeExpectancy": 71.8,
         "InequalityOfOutcomes": 0.16
        },
        {
         "InequalityAdjustedLifeExpectancy": 61.6,
         "InequalityOfOutcomes": 0.25
        },
        {
         "InequalityAdjustedLifeExpectancy": 34.5,
         "InequalityOfOutcomes": 0.43
        },
        {
         "InequalityAdjustedLifeExpectancy": 48.4,
         "InequalityOfOutcomes": 0.32
        },
        {
         "InequalityAdjustedLifeExpectancy": 50.1,
         "InequalityOfOutcomes": 0.26
        },
        {
         "InequalityAdjustedLifeExpectancy": 55.3,
         "InequalityOfOutcomes": 0.27
        },
        {
         "InequalityAdjustedLifeExpectancy": 78.2,
         "InequalityOfOutcomes": 0.04
        },
        {
         "InequalityAdjustedLifeExpectancy": 77.7,
         "InequalityOfOutcomes": 0.08
        },
        {
         "InequalityAdjustedLifeExpectancy": 63.4,
         "InequalityOfOutcomes": 0.25
        },
        {
         "InequalityAdjustedLifeExpectancy": 38.9,
         "InequalityOfOutcomes": 0.4
        },
        {
         "InequalityAdjustedLifeExpectancy": 30.9,
         "InequalityOfOutcomes": 0.44
        },
        {
         "InequalityAdjustedLifeExpectancy": 78.6,
         "InequalityOfOutcomes": 0.07
        },
        {
         "InequalityAdjustedLifeExpectancy": 70.9,
         "InequalityOfOutcomes": 0.13
        },
        {
         "InequalityAdjustedLifeExpectancy": 44.1,
         "InequalityOfOutcomes": 0.4
        },
        {
         "InequalityAdjustedLifeExpectancy": 62.6,
         "InequalityOfOutcomes": 0.24
        },
        {
         "InequalityAdjustedLifeExpectancy": 68.3,
         "InequalityOfOutcomes": 0.19
        },
        {
         "InequalityAdjustedLifeExpectancy": 59.4,
         "InequalityOfOutcomes": 0.22
        },
        {
         "InequalityAdjustedLifeExpectancy": 63.5,
         "InequalityOfOutcomes": 0.21
        },
        {
         "InequalityAdjustedLifeExpectancy": 56.9,
         "InequalityOfOutcomes": 0.26
        },
        {
         "InequalityAdjustedLifeExpectancy": 72.9,
         "InequalityOfOutcomes": 0.11
        },
        {
         "InequalityAdjustedLifeExpectancy": 77.2,
         "InequalityOfOutcomes": 0.16
        },
        {
         "InequalityAdjustedLifeExpectancy": 42,
         "InequalityOfOutcomes": 0.4
        },
        {
         "InequalityAdjustedLifeExpectancy": 68.1,
         "InequalityOfOutcomes": 0.19
        },
        {
         "InequalityAdjustedLifeExpectancy": 63.4,
         "InequalityOfOutcomes": 0.16
        },
        {
         "InequalityAdjustedLifeExpectancy": 44.3,
         "InequalityOfOutcomes": 0.37
        },
        {
         "InequalityAdjustedLifeExpectancy": 49.1,
         "InequalityOfOutcomes": 0.33
        },
        {
         "InequalityAdjustedLifeExpectancy": 68.6,
         "InequalityOfOutcomes": 0.19
        },
        {
         "InequalityAdjustedLifeExpectancy": 28.2,
         "InequalityOfOutcomes": 0.5
        },
        {
         "InequalityAdjustedLifeExpectancy": 71.9,
         "InequalityOfOutcomes": 0.13
        },
        {
         "InequalityAdjustedLifeExpectancy": 77.1,
         "InequalityOfOutcomes": 0.1
        },
        {
         "InequalityAdjustedLifeExpectancy": 41.8,
         "InequalityOfOutcomes": 0.33
        },
        {
         "InequalityAdjustedLifeExpectancy": 78.3,
         "InequalityOfOutcomes": 0.11
        },
        {
         "InequalityAdjustedLifeExpectancy": 79.3,
         "InequalityOfOutcomes": 0.1
        },
        {
         "InequalityAdjustedLifeExpectancy": 68.6,
         "InequalityOfOutcomes": 0.17
        },
        {
         "InequalityAdjustedLifeExpectancy": 61.2,
         "InequalityOfOutcomes": 0.19
        },
        {
         "InequalityAdjustedLifeExpectancy": 31.8,
         "InequalityOfOutcomes": 0.41
        },
        {
         "InequalityAdjustedLifeExpectancy": 79.1,
         "InequalityOfOutcomes": 0.06
        },
        {
         "InequalityAdjustedLifeExpectancy": 79.4,
         "InequalityOfOutcomes": 0.06
        },
        {
         "InequalityAdjustedLifeExpectancy": 60.2,
         "InequalityOfOutcomes": 0.3
        },
        {
         "InequalityAdjustedLifeExpectancy": 53,
         "InequalityOfOutcomes": 0.26
        },
        {
         "InequalityAdjustedLifeExpectancy": 47.7,
         "InequalityOfOutcomes": 0.33
        },
        {
         "InequalityAdjustedLifeExpectancy": 66.3,
         "InequalityOfOutcomes": 0.15
        },
        {
         "InequalityAdjustedLifeExpectancy": 39.6,
         "InequalityOfOutcomes": 0.43
        },
        {
         "InequalityAdjustedLifeExpectancy": 58.4,
         "InequalityOfOutcomes": 0.21
        },
        {
         "InequalityAdjustedLifeExpectancy": 65.5,
         "InequalityOfOutcomes": 0.22
        },
        {
         "InequalityAdjustedLifeExpectancy": 66.2,
         "InequalityOfOutcomes": 0.19
        },
        {
         "InequalityAdjustedLifeExpectancy": 48.3,
         "InequalityOfOutcomes": 0.31
        },
        {
         "InequalityAdjustedLifeExpectancy": 36.8,
         "InequalityOfOutcomes": 0.41
        },
        {
         "InequalityAdjustedLifeExpectancy": 64.2,
         "InequalityOfOutcomes": 0.17
        },
        {
         "InequalityAdjustedLifeExpectancy": 76.8,
         "InequalityOfOutcomes": 0.09
        },
        {
         "InequalityAdjustedLifeExpectancy": 74,
         "InequalityOfOutcomes": 0.13
        },
        {
         "InequalityAdjustedLifeExpectancy": 69.6,
         "InequalityOfOutcomes": 0.18
        },
        {
         "InequalityAdjustedLifeExpectancy": 51.6,
         "InequalityOfOutcomes": 0.3
        },
        {
         "InequalityAdjustedLifeExpectancy": 60.3,
         "InequalityOfOutcomes": 0.22
        },
        {
         "InequalityAdjustedLifeExpectancy": 65.5,
         "InequalityOfOutcomes": 0.19
        },
        {
         "InequalityAdjustedLifeExpectancy": 64.8,
         "InequalityOfOutcomes": 0.19
        },
        {
         "InequalityAdjustedLifeExpectancy": 44.7,
         "InequalityOfOutcomes": 0.39
        },
        {
         "InequalityAdjustedLifeExpectancy": 38.7,
         "InequalityOfOutcomes": 0.41
        },
        {
         "InequalityAdjustedLifeExpectancy": 36.9,
         "InequalityOfOutcomes": 0.37
        }
       ]
      },
      "encoding": {
       "x": {
        "field": "InequalityAdjustedLifeExpectancy",
        "scale": {
         "domain": [
          27.3,
          81.3
         ]
        },
        "type": "quantitative"
       },
       "y": {
        "field": "InequalityOfOutcomes",
        "scale": {
         "domain": [
          0.04,
          0.51
         ]
        },
        "type": "quantitative"
       }
      },
      "height": 150,
      "mark": "circle",
      "selection": {
       "selector004": {
        "bind": "scales",
        "encodings": [
         "x",
         "y"
        ],
        "type": "interval"
       }
      },
      "width": 160
     }
    },
    "time": "2020-07-12T13:36:23.987Z",
    "type": "clickVis"
   },
   {
    "code": "df = pd.read_csv(\"lux/data/hpi.csv\")\ndf",
    "id": "12a1be56c9ae4abab0a1f946bd40bc68",
    "order_count": 3,
    "time": "2020-07-12T13:36:25.058Z",
    "type": "selectCodeCell"
   },
   {
    "param": {
     "Correlation": [
      1,
      2,
      3
     ]
    },
    "time": "2020-07-12T13:36:25.060Z",
    "type": "exportBtnClick"
   },
   {
    "code": "We can click on visualizations of interest and export them into a separate widget.",
    "id": "f3f9136301e54bd19eac8eb55f9cc158",
    "order_count": 5,
    "time": "2020-07-12T13:36:27.356Z",
    "type": "selectMarkdownCell"
   },
   {
    "code": "bookmarked_vis = df.get_exported()\nbookmarked_vis",
    "id": "a0843739aae2474e95eae3e889cd58c8",
    "order_count": 6,
    "time": "2020-07-12T13:36:27.676Z",
    "type": "selectCodeCell"
   },
   {
    "code": "bookmarked_vis = df.get_exported()\nbookmarked_vis",
    "id": "a0843739aae2474e95eae3e889cd58c8",
    "order_count": 6,
    "time": "2020-07-12T13:36:28.057Z",
    "type": "executeCodeCell"
   },
   {
    "code": "From the dataframe recommendations, the visualization showing the relationship between `GDPPerCapita` and `Footprint` is very interesting. In particular, there is an outlier with extremely high ecological footprint as well as high GDP per capita. So we click on this visualization and click on the export button.",
    "id": "668eb7fb960e451eb57c681baf3de28f",
    "order_count": 7,
    "time": "2020-07-12T13:36:28.062Z",
    "type": "selectMarkdownCell"
   },
   {
    "id": "a0843739aae2474e95eae3e889cd58c8",
    "isPrintLuxDf": false,
    "isPrintPandasDf": false,
    "isPrintView": true,
    "isPrintViewCollection": false,
    "time": "2020-07-12T13:36:28.130Z",
    "type": "completeCodeCell"
   },
   {
    "param": "",
    "time": "2020-07-12T13:36:28.143Z",
    "type": "initWidget"
   },
   {
    "code": "df",
    "id": "67a5374ba1594f8a96f71e1f4c6145a1",
    "order_count": 8,
    "time": "2020-07-12T13:36:30.710Z",
    "type": "selectCodeCell"
   },
   {
    "code": "df",
    "id": "67a5374ba1594f8a96f71e1f4c6145a1",
    "order_count": 8,
    "time": "2020-07-12T13:36:31.032Z",
    "type": "executeCodeCell"
   },
   {
    "code": "view = df.get_exported()[0]\nview",
    "id": "186e1ccd2ef446cfac8da8d98b1a122c",
    "order_count": 9,
    "time": "2020-07-12T13:36:31.046Z",
    "type": "selectCodeCell"
   },
   {
    "id": "67a5374ba1594f8a96f71e1f4c6145a1",
    "isPrintLuxDf": false,
    "isPrintPandasDf": true,
    "isPrintView": false,
    "isPrintViewCollection": false,
    "time": "2020-07-12T13:36:31.731Z",
    "type": "completeCodeCell"
   },
   {
    "code": "df",
    "id": "67a5374ba1594f8a96f71e1f4c6145a1",
    "order_count": 8,
    "time": "2020-07-12T13:36:33.088Z",
    "type": "selectCodeCell"
   },
   {
    "param": "",
    "time": "2020-07-12T13:36:33.116Z",
    "type": "initWidget"
   },
   {
    "param": "",
    "time": "2020-07-12T13:36:33.362Z",
    "type": "initWidget"
   },
   {
    "code": "df = pd.read_csv(\"lux/data/hpi.csv\")\ndf",
    "id": "12a1be56c9ae4abab0a1f946bd40bc68",
    "order_count": 3,
    "time": "2020-07-12T13:36:41.363Z",
    "type": "selectCodeCell"
   },
   {
    "code": "df = pd.read_csv(\"lux/data/hpi.csv\")\ndf",
    "id": "12a1be56c9ae4abab0a1f946bd40bc68",
    "order_count": 3,
    "time": "2020-07-12T13:36:41.371Z",
    "type": "editCodeCell"
   },
   {
    "code": "In this tutorial, we look at the [Happy Planet Index](http://happyplanetindex.org/) dataset, which contains metrics related to well-being for 140 countries around the world. We demonstrate how you can select visualizations of interest and export them for further analysis. ",
    "id": "2b4ef2b4027f49a68a2486039b0d5fee",
    "order_count": 2,
    "time": "2020-07-12T13:36:50.943Z",
    "type": "selectMarkdownCell"
   },
   {
    "code": "",
    "id": "7ec31656313b41e48f22d3fc9703025e",
    "order_count": 2,
    "time": "2020-07-12T13:36:51.286Z",
    "type": "selectCodeCell"
   },
   {
    "code": "",
    "id": "7ec31656313b41e48f22d3fc9703025e",
    "order_count": 2,
    "time": "2020-07-12T13:36:52.084Z",
    "type": "editCodeCell"
   },
   {
    "code": "",
    "id": "7ec31656313b41e48f22d3fc9703025e",
    "order_count": 2,
    "time": "2020-07-12T13:37:03.020Z",
    "type": "selectCodeCell"
   },
   {
    "code": "",
    "id": "7ec31656313b41e48f22d3fc9703025e",
    "order_count": null,
    "time": "2020-07-12T13:37:03.268Z",
    "type": "deleteCodeCell"
   },
   {
    "code": "df = pd.read_csv(\"lux/data/hpi.csv\")\ndf.set_\ndf",
    "id": "12a1be56c9ae4abab0a1f946bd40bc68",
    "order_count": 3,
    "time": "2020-07-12T13:37:04.032Z",
    "type": "selectCodeCell"
   },
   {
    "code": "df = pd.read_csv(\"lux/data/hpi.csv\")\ndf.set_\ndf",
    "id": "12a1be56c9ae4abab0a1f946bd40bc68",
    "order_count": 3,
    "time": "2020-07-12T13:37:04.041Z",
    "type": "editCodeCell"
   },
   {
    "time": "2020-07-12T13:37:33.365Z",
    "type": "kernelReady"
   },
   {
    "code": "df = pd.read_csv(\"lux/data/hpi.csv\")\ndf.set_default_display(\"lux\") #set Lux as default view\ndf",
    "id": "12a1be56c9ae4abab0a1f946bd40bc68",
    "order_count": 3,
    "time": "2020-07-12T13:45:48.058Z",
    "type": "editCodeCell"
   },
   {
    "code": "df",
    "id": "67a5374ba1594f8a96f71e1f4c6145a1",
    "order_count": 8,
    "time": "2020-07-12T13:45:55.930Z",
    "type": "selectCodeCell"
   },
   {
    "code": "df",
    "id": "67a5374ba1594f8a96f71e1f4c6145a1",
    "order_count": 8,
    "time": "2020-07-12T13:45:55.938Z",
    "type": "editCodeCell"
   },
   {
    "code": "df",
    "id": "67a5374ba1594f8a96f71e1f4c6145a1",
    "order_count": 8,
    "time": "2020-07-12T13:45:57.733Z",
    "type": "selectCodeCell"
   },
   {
    "code": "From the dataframe recommendations, the visualization showing the relationship between `GDPPerCapita` and `Footprint` is very interesting. In particular, there is an outlier with extremely high ecological footprint as well as high GDP per capita. So we click on this visualization and click on the export button.",
    "id": "668eb7fb960e451eb57c681baf3de28f",
    "order_count": 7,
    "time": "2020-07-12T13:45:59.210Z",
    "type": "selectMarkdownCell"
   },
   {
    "code": "### Exporting one or more visualizations from recommendation widget",
    "id": "8e6114c3d53f46c9b0497f0fb8f18f08",
    "order_count": 4,
    "time": "2020-07-12T13:46:10.254Z",
    "type": "selectMarkdownCell"
   },
   {
    "code": "",
    "id": "d7feb3ee68fa4d8789f7129ae610a687",
    "order_count": 4,
    "time": "2020-07-12T13:46:12.265Z",
    "type": "selectCodeCell"
   },
   {
    "code": "",
    "id": "d7feb3ee68fa4d8789f7129ae610a687",
    "order_count": 4,
    "time": "2020-07-12T13:46:12.467Z",
    "type": "editCodeCell"
   },
   {
    "code": "### Exporting one or more visualizations from recommendation widget",
    "id": "8e6114c3d53f46c9b0497f0fb8f18f08",
    "order_count": 5,
    "time": "2020-07-12T13:46:21.870Z",
    "type": "selectMarkdownCell"
   },
   {
    "code": "Accessing program state: \n\t- df.recommendation\n\t- df.viewCollection\n- df.",
    "id": "62f39efb6def4ff28a9fed53c57dd1ed",
    "order_count": 15,
    "time": "2020-07-12T13:46:25.220Z",
    "type": "selectCodeCell"
   },
   {
    "code": "Accessing program state: \n\t- df.recommendation\n\t- df.viewCollection\n- df.",
    "id": "62f39efb6def4ff28a9fed53c57dd1ed",
    "order_count": 15,
    "time": "2020-07-12T13:46:25.227Z",
    "type": "editCodeCell"
   },
   {
    "code": "### Exporting one or more visualizations from recommendation widget",
    "id": "8e6114c3d53f46c9b0497f0fb8f18f08",
    "order_count": 5,
    "time": "2020-07-12T13:46:33.609Z",
    "type": "selectMarkdownCell"
   },
   {
    "code": "",
    "id": "0ab559dddbad4a67b04e6e216ac41364",
    "order_count": 5,
    "time": "2020-07-12T13:46:33.781Z",
    "type": "selectCodeCell"
   },
   {
    "code": "",
    "id": "0ab559dddbad4a67b04e6e216ac41364",
    "order_count": 5,
    "time": "2020-07-12T13:46:34.048Z",
    "type": "editCodeCell"
   },
   {
    "code": "\t- df.recommendation\n\t- df.viewCollection",
    "id": "0ab559dddbad4a67b04e6e216ac41364",
    "order_count": 5,
    "time": "2020-07-12T13:46:35.796Z",
    "type": "selectCodeCell"
   },
   {
    "code": "",
    "id": "57a7464be4bf4af0919af22a51c7a440",
    "order_count": 5,
    "time": "2020-07-12T13:46:35.892Z",
    "type": "selectCodeCell"
   },
   {
    "code": "",
    "id": "57a7464be4bf4af0919af22a51c7a440",
    "order_count": 5,
    "time": "2020-07-12T13:46:36.057Z",
    "type": "editCodeCell"
   },
   {
    "code": "We can access the recommendations for ",
    "id": "57a7464be4bf4af0919af22a51c7a440",
    "order_count": 5,
    "time": "2020-07-12T13:46:49.396Z",
    "type": "selectCodeCell"
   },
   {
    "code": "We can access the set of recommendations generated for the ",
    "id": "20b4991bc4bf421b89dd9b878a439aa9",
    "order_count": 5,
    "time": "2020-07-12T13:47:03.119Z",
    "type": "editMarkdownCell"
   },
   {
    "code": "\t- df.recommendation\n\t- df.viewCollection",
    "id": "0ab559dddbad4a67b04e6e216ac41364",
    "order_count": 6,
    "time": "2020-07-12T13:47:04.267Z",
    "type": "selectCodeCell"
   },
   {
    "code": "",
    "id": "441873581378413e82d31899069d949a",
    "order_count": 6,
    "time": "2020-07-12T13:47:04.676Z",
    "type": "selectCodeCell"
   },
   {
    "code": "",
    "id": "441873581378413e82d31899069d949a",
    "order_count": 6,
    "time": "2020-07-12T13:47:04.738Z",
    "type": "editCodeCell"
   },
   {
    "code": "df.recommendations",
    "id": "441873581378413e82d31899069d949a",
    "order_count": 6,
    "time": "2020-07-12T13:47:08.553Z",
    "type": "executeCodeCell"
   },
   {
    "code": "\t- df.recommendation\n\t- df.viewCollection",
    "id": "0ab559dddbad4a67b04e6e216ac41364",
    "order_count": 7,
    "time": "2020-07-12T13:47:08.586Z",
    "type": "selectCodeCell"
   },
   {
    "id": "441873581378413e82d31899069d949a",
    "isPrintLuxDf": false,
    "isPrintPandasDf": false,
    "isPrintView": false,
    "isPrintViewCollection": false,
    "time": "2020-07-12T13:47:08.704Z",
    "type": "completeCodeCell"
   },
   {
    "code": "df.recommendations",
    "id": "441873581378413e82d31899069d949a",
    "order_count": 6,
    "time": "2020-07-12T13:47:10.113Z",
    "type": "selectCodeCell"
   },
   {
    "code": "df.recommendations",
    "id": "441873581378413e82d31899069d949a",
    "order_count": 6,
    "time": "2020-07-12T13:47:10.119Z",
    "type": "editCodeCell"
   },
   {
    "code": "df.recommendation",
    "id": "441873581378413e82d31899069d949a",
    "order_count": 6,
    "time": "2020-07-12T13:47:10.719Z",
    "type": "executeCodeCell"
   },
   {
    "code": "\t- df.recommendation\n\t- df.viewCollection",
    "id": "0ab559dddbad4a67b04e6e216ac41364",
    "order_count": 7,
    "time": "2020-07-12T13:47:10.751Z",
    "type": "selectCodeCell"
   },
   {
    "id": "441873581378413e82d31899069d949a",
    "isPrintLuxDf": false,
    "isPrintPandasDf": false,
    "isPrintView": true,
    "isPrintViewCollection": false,
    "time": "2020-07-12T13:47:10.764Z",
    "type": "completeCodeCell"
   },
   {
    "code": "We can access the set of recommendations generated for the ",
    "id": "20b4991bc4bf421b89dd9b878a439aa9",
    "order_count": 5,
    "time": "2020-07-12T13:47:14.843Z",
    "type": "selectMarkdownCell"
   },
   {
    "code": "We can access the set of recommendations generated for the ",
    "id": "20b4991bc4bf421b89dd9b878a439aa9",
    "order_count": 5,
    "time": "2020-07-12T13:47:15.427Z",
    "type": "selectMarkdownCell"
   },
   {
    "code": "We can access the set of recommendations generated for the ",
    "id": "20b4991bc4bf421b89dd9b878a439aa9",
    "order_count": 5,
    "time": "2020-07-12T13:47:15.602Z",
    "type": "selectMarkdownCell"
   },
   {
    "code": "We can access the set of recommendations generated for the ",
    "id": "20b4991bc4bf421b89dd9b878a439aa9",
    "order_count": 5,
    "time": "2020-07-12T13:47:16.607Z",
    "type": "editMarkdownCell"
   },
   {
    "code": "We can access the set of recommendations generated for the ",
    "id": "20b4991bc4bf421b89dd9b878a439aa9",
    "order_count": 5,
    "time": "2020-07-12T13:47:16.746Z",
    "type": "selectMarkdownCell"
   },
   {
    "code": "We can access the set of recommendations generated for the recommendations",
    "id": "20b4991bc4bf421b89dd9b878a439aa9",
    "order_count": 5,
    "time": "2020-07-12T13:47:34.339Z",
    "type": "selectMarkdownCell"
   },
   {
    "code": "df.recommendation",
    "id": "441873581378413e82d31899069d949a",
    "order_count": 6,
    "time": "2020-07-12T13:47:49.346Z",
    "type": "selectCodeCell"
   },
   {
    "code": "df.recommendation",
    "id": "441873581378413e82d31899069d949a",
    "order_count": 6,
    "time": "2020-07-12T13:47:50.000Z",
    "type": "executeCodeCell"
   },
   {
    "code": "\t- df.recommendation\n\t- df.viewCollection",
    "id": "0ab559dddbad4a67b04e6e216ac41364",
    "order_count": 7,
    "time": "2020-07-12T13:47:50.016Z",
    "type": "selectCodeCell"
   },
   {
    "id": "441873581378413e82d31899069d949a",
    "isPrintLuxDf": false,
    "isPrintPandasDf": false,
    "isPrintView": true,
    "isPrintViewCollection": false,
    "time": "2020-07-12T13:47:50.036Z",
    "type": "completeCodeCell"
   },
   {
    "code": "df.recommendation",
    "id": "441873581378413e82d31899069d949a",
    "order_count": 6,
    "time": "2020-07-12T13:47:52.630Z",
    "type": "selectCodeCell"
   },
   {
    "code": "",
    "id": "812475092c5e40bc95ce01334b6681ef",
    "order_count": 7,
    "time": "2020-07-12T13:47:53.234Z",
    "type": "selectCodeCell"
   },
   {
    "code": "",
    "id": "812475092c5e40bc95ce01334b6681ef",
    "order_count": 7,
    "time": "2020-07-12T13:47:53.446Z",
    "type": "editCodeCell"
   },
   {
    "code": "df[\"Distribution\"]",
    "id": "812475092c5e40bc95ce01334b6681ef",
    "order_count": 7,
    "time": "2020-07-12T13:48:01.764Z",
    "type": "executeCodeCell"
   },
   {
    "code": "\t- df.recommendation\n\t- df.viewCollection",
    "id": "0ab559dddbad4a67b04e6e216ac41364",
    "order_count": 8,
    "time": "2020-07-12T13:48:01.799Z",
    "type": "selectCodeCell"
   },
   {
    "id": "812475092c5e40bc95ce01334b6681ef",
    "isPrintLuxDf": false,
    "isPrintPandasDf": false,
    "isPrintView": false,
    "isPrintViewCollection": false,
    "time": "2020-07-12T13:48:01.814Z",
    "type": "completeCodeCell"
   },
   {
    "code": "df[\"Distribution\"]",
    "id": "812475092c5e40bc95ce01334b6681ef",
    "order_count": 7,
    "time": "2020-07-12T13:48:04.063Z",
    "type": "selectCodeCell"
   },
   {
    "code": "df[\"Distribution\"]",
    "id": "812475092c5e40bc95ce01334b6681ef",
    "order_count": 7,
    "time": "2020-07-12T13:48:04.068Z",
    "type": "editCodeCell"
   },
   {
    "code": "df.recommendations[\"Distribution\"]",
    "id": "812475092c5e40bc95ce01334b6681ef",
    "order_count": 7,
    "time": "2020-07-12T13:48:06.539Z",
    "type": "executeCodeCell"
   },
   {
    "code": "\t- df.recommendation\n\t- df.viewCollection",
    "id": "0ab559dddbad4a67b04e6e216ac41364",
    "order_count": 8,
    "time": "2020-07-12T13:48:06.572Z",
    "type": "selectCodeCell"
   },
   {
    "id": "812475092c5e40bc95ce01334b6681ef",
    "isPrintLuxDf": false,
    "isPrintPandasDf": false,
    "isPrintView": false,
    "isPrintViewCollection": false,
    "time": "2020-07-12T13:48:06.585Z",
    "type": "completeCodeCell"
   },
   {
    "code": "df.recommendations[\"Distribution\"]",
    "id": "812475092c5e40bc95ce01334b6681ef",
    "order_count": 7,
    "time": "2020-07-12T13:48:08.578Z",
    "type": "selectCodeCell"
   },
   {
    "code": "df.recommendations[\"Distribution\"]",
    "id": "812475092c5e40bc95ce01334b6681ef",
    "order_count": 7,
    "time": "2020-07-12T13:48:08.582Z",
    "type": "editCodeCell"
   },
   {
    "code": "df.recommendation[\"Distribution\"]",
    "id": "812475092c5e40bc95ce01334b6681ef",
    "order_count": 7,
    "time": "2020-07-12T13:48:09.234Z",
    "type": "executeCodeCell"
   },
   {
    "code": "\t- df.recommendation\n\t- df.viewCollection",
    "id": "0ab559dddbad4a67b04e6e216ac41364",
    "order_count": 8,
    "time": "2020-07-12T13:48:09.267Z",
    "type": "selectCodeCell"
   },
   {
    "id": "812475092c5e40bc95ce01334b6681ef",
    "isPrintLuxDf": false,
    "isPrintPandasDf": false,
    "isPrintView": true,
    "isPrintViewCollection": false,
    "time": "2020-07-12T13:48:09.399Z",
    "type": "completeCodeCell"
   },
   {
    "param": "",
    "time": "2020-07-12T13:48:09.422Z",
    "type": "initWidget"
   },
   {
    "code": "df.recommendation[\"Distribution\"]",
    "id": "812475092c5e40bc95ce01334b6681ef",
    "order_count": 7,
    "time": "2020-07-12T13:48:11.260Z",
    "type": "selectCodeCell"
   },
   {
    "code": "",
    "id": "055d96dfbc5f4a66ab4f77e7ab11910e",
    "order_count": 7,
    "time": "2020-07-12T13:48:11.540Z",
    "type": "selectCodeCell"
   },
   {
    "code": "",
    "id": "055d96dfbc5f4a66ab4f77e7ab11910e",
    "order_count": 7,
    "time": "2020-07-12T13:48:11.713Z",
    "type": "editCodeCell"
   },
   {
    "code": "The resulting output is a dictionary, keyed by the name of the recommendation category.",
    "id": "055d96dfbc5f4a66ab4f77e7ab11910e",
    "order_count": 7,
    "time": "2020-07-12T13:48:55.127Z",
    "type": "executeCodeCell"
   },
   {
    "code": "df.recommendation[\"Distribution\"]",
    "id": "812475092c5e40bc95ce01334b6681ef",
    "order_count": 8,
    "time": "2020-07-12T13:48:55.169Z",
    "type": "selectCodeCell"
   },
   {
    "id": "055d96dfbc5f4a66ab4f77e7ab11910e",
    "isPrintLuxDf": false,
    "isPrintPandasDf": false,
    "isPrintView": false,
    "isPrintViewCollection": false,
    "time": "2020-07-12T13:48:55.184Z",
    "type": "completeCodeCell"
   },
   {
    "code": "The resulting output is a dictionary, keyed by the name of the recommendation category.",
    "id": "055d96dfbc5f4a66ab4f77e7ab11910e",
    "order_count": 7,
    "time": "2020-07-12T13:48:56.289Z",
    "type": "selectCodeCell"
   },
   {
    "code": "df.recommendation[\"Distribution\"]",
    "id": "812475092c5e40bc95ce01334b6681ef",
    "order_count": 8,
    "time": "2020-07-12T13:48:57.460Z",
    "type": "selectCodeCell"
   },
   {
    "code": "\t- df.recommendation\n\t- df.viewCollection",
    "id": "0ab559dddbad4a67b04e6e216ac41364",
    "order_count": 9,
    "time": "2020-07-12T13:49:00.201Z",
    "type": "selectCodeCell"
   },
   {
    "code": "\t- df.recommendation\n\t- df.viewCollection",
    "id": "0ab559dddbad4a67b04e6e216ac41364",
    "order_count": 9,
    "time": "2020-07-12T13:49:00.208Z",
    "type": "editCodeCell"
   },
   {
    "code": "You can also access the current con",
    "id": "0ab559dddbad4a67b04e6e216ac41364",
    "order_count": 9,
    "time": "2020-07-12T13:49:18.560Z",
    "type": "selectCodeCell"
   },
   {
    "code": "### Exporting one or more visualizations from recommendation widget",
    "id": "8e6114c3d53f46c9b0497f0fb8f18f08",
    "order_count": 10,
    "time": "2020-07-12T13:49:37.199Z",
    "type": "selectMarkdownCell"
   },
   {
    "code": "",
    "id": "d484539e4d094a5087ce070512dc05d6",
    "order_count": 10,
    "time": "2020-07-12T13:49:37.583Z",
    "type": "selectCodeCell"
   },
   {
    "code": "",
    "id": "d484539e4d094a5087ce070512dc05d6",
    "order_count": 10,
    "time": "2020-07-12T13:49:37.674Z",
    "type": "editCodeCell"
   },
   {
    "code": "df.current_view_to_JSON",
    "id": "d484539e4d094a5087ce070512dc05d6",
    "order_count": 10,
    "time": "2020-07-12T13:49:42.853Z",
    "type": "selectCodeCell"
   },
   {
    "code": "df.current_view",
    "id": "d484539e4d094a5087ce070512dc05d6",
    "order_count": 10,
    "time": "2020-07-12T13:49:43.470Z",
    "type": "executeCodeCell"
   },
   {
    "code": "### Exporting one or more visualizations from recommendation widget",
    "id": "8e6114c3d53f46c9b0497f0fb8f18f08",
    "order_count": 11,
    "time": "2020-07-12T13:49:43.498Z",
    "type": "selectMarkdownCell"
   },
   {
    "id": "d484539e4d094a5087ce070512dc05d6",
    "isPrintLuxDf": false,
    "isPrintPandasDf": false,
    "isPrintView": false,
    "isPrintViewCollection": false,
    "time": "2020-07-12T13:49:43.510Z",
    "type": "completeCodeCell"
   },
   {
    "code": "df.current_view",
    "id": "d484539e4d094a5087ce070512dc05d6",
    "order_count": 10,
    "time": "2020-07-12T13:49:45.597Z",
    "type": "selectCodeCell"
   },
   {
    "code": "### Accessing Widget State",
    "id": "c930f0a57524480d9a71843dd5a4c6a4",
    "order_count": 4,
    "time": "2020-07-12T13:49:48.755Z",
    "type": "selectMarkdownCell"
   },
   {
    "code": "### Accessing Widget State",
    "id": "c930f0a57524480d9a71843dd5a4c6a4",
    "order_count": 5,
    "time": "2020-07-12T13:49:53.187Z",
    "type": "selectMarkdownCell"
   },
   {
    "code": "### Accessing Widget State",
    "id": "c930f0a57524480d9a71843dd5a4c6a4",
    "order_count": 6,
    "time": "2020-07-12T13:49:53.656Z",
    "type": "selectMarkdownCell"
   },
   {
    "code": "### Accessing Widget State",
    "id": "c930f0a57524480d9a71843dd5a4c6a4",
    "order_count": 7,
    "time": "2020-07-12T13:49:54.021Z",
    "type": "selectMarkdownCell"
   },
   {
    "code": "### Accessing Widget State",
    "id": "c930f0a57524480d9a71843dd5a4c6a4",
    "order_count": 8,
    "time": "2020-07-12T13:49:54.374Z",
    "type": "selectMarkdownCell"
   },
   {
    "code": "### Accessing Widget State",
    "id": "c930f0a57524480d9a71843dd5a4c6a4",
    "order_count": 9,
    "time": "2020-07-12T13:49:54.636Z",
    "type": "selectMarkdownCell"
   },
   {
    "code": "### Accessing Widget State",
    "id": "c930f0a57524480d9a71843dd5a4c6a4",
    "order_count": 10,
    "time": "2020-07-12T13:49:55.030Z",
    "type": "selectMarkdownCell"
   },
   {
    "code": "### Accessing Widget State",
    "id": "c930f0a57524480d9a71843dd5a4c6a4",
    "order_count": 11,
    "time": "2020-07-12T13:49:55.828Z",
    "type": "selectMarkdownCell"
   },
   {
    "code": "### Accessing Widget State",
    "id": "c930f0a57524480d9a71843dd5a4c6a4",
    "order_count": 12,
    "time": "2020-07-12T13:49:56.826Z",
    "type": "selectMarkdownCell"
   },
   {
    "code": "### Accessing Widget State",
    "id": "c930f0a57524480d9a71843dd5a4c6a4",
    "order_count": 13,
    "time": "2020-07-12T13:49:57.283Z",
    "type": "selectMarkdownCell"
   },
   {
    "code": "### Accessing Widget State",
    "id": "c930f0a57524480d9a71843dd5a4c6a4",
    "order_count": 14,
    "time": "2020-07-12T13:49:58.522Z",
    "type": "selectMarkdownCell"
   },
   {
    "code": "### Accessing Widget State",
    "id": "c930f0a57524480d9a71843dd5a4c6a4",
    "order_count": 13,
    "time": "2020-07-12T13:50:00.408Z",
    "type": "selectMarkdownCell"
   },
   {
    "code": "",
    "id": "f9a9dea3e44649209951c3eb5e9bc37c",
    "order_count": 20,
    "time": "2020-07-12T13:50:04.927Z",
    "type": "selectCodeCell"
   },
   {
    "code": "",
    "id": "f9a9dea3e44649209951c3eb5e9bc37c",
    "order_count": 20,
    "time": "2020-07-12T13:50:04.937Z",
    "type": "editCodeCell"
   },
   {
    "code": "",
    "id": "f9a9dea3e44649209951c3eb5e9bc37c",
    "order_count": 20,
    "time": "2020-07-12T13:50:05.027Z",
    "type": "selectCodeCell"
   },
   {
    "code": "",
    "id": "f9a9dea3e44649209951c3eb5e9bc37c",
    "order_count": 20,
    "time": "2020-07-12T13:50:05.836Z",
    "type": "selectCodeCell"
   },
   {
    "code": "",
    "id": "f9a9dea3e44649209951c3eb5e9bc37c",
    "order_count": null,
    "time": "2020-07-12T13:50:06.077Z",
    "type": "deleteCodeCell"
   },
   {
    "code": "Accessing program state: \n\t- df.recommendation\n\t- df.viewCollection\n- df.",
    "id": "62f39efb6def4ff28a9fed53c57dd1ed",
    "order_count": null,
    "time": "2020-07-12T13:50:06.608Z",
    "type": "deleteCodeCell"
   },
   {
    "code": "In Lux, you can expo\nas View objects or as their corresponding VegaLite or Altair code specification",
    "id": "7cf06bc256c545f2957da7b2f92519a0",
    "order_count": 20,
    "time": "2020-07-12T13:50:08.279Z",
    "type": "editCodeCell"
   },
   {
    "code": "df",
    "id": "b9f61004f10a41618d20649fd46b2fbe",
    "order_count": 21,
    "time": "2020-07-12T13:50:10.012Z",
    "type": "selectCodeCell"
   },
   {
    "code": "df",
    "id": "b9f61004f10a41618d20649fd46b2fbe",
    "order_count": null,
    "time": "2020-07-12T13:50:12.012Z",
    "type": "deleteCodeCell"
   },
   {
    "code": "",
    "id": "7cf06bc256c545f2957da7b2f92519a0",
    "order_count": 20,
    "time": "2020-07-12T13:50:13.990Z",
    "type": "selectCodeCell"
   },
   {
    "code": "",
    "id": "7cf06bc256c545f2957da7b2f92519a0",
    "order_count": null,
    "time": "2020-07-12T13:50:14.208Z",
    "type": "deleteCodeCell"
   },
   {
    "code": "### Accessing Widget State",
    "id": "c930f0a57524480d9a71843dd5a4c6a4",
    "order_count": 13,
    "time": "2020-07-12T13:50:16.786Z",
    "type": "selectMarkdownCell"
   },
   {
    "code": "",
    "id": "1eedc53f98f24410b696df7c7197d2ab",
    "order_count": 13,
    "time": "2020-07-12T13:50:17.170Z",
    "type": "selectCodeCell"
   },
   {
    "code": "",
    "id": "1eedc53f98f24410b696df7c7197d2ab",
    "order_count": 13,
    "time": "2020-07-12T13:50:17.329Z",
    "type": "editCodeCell"
   },
   {
    "code": "In Lux, you can expo\nas View objects or as their corresponding VegaLite or Altair code specification",
    "id": "1eedc53f98f24410b696df7c7197d2ab",
    "order_count": 13,
    "time": "2020-07-12T13:50:23.189Z",
    "type": "selectCodeCell"
   },
   {
    "code": "",
    "id": "cc96b827c83340c4adf1f0edf8d46f78",
    "order_count": 13,
    "time": "2020-07-12T13:50:23.990Z",
    "type": "selectCodeCell"
   },
   {
    "code": "",
    "id": "cc96b827c83340c4adf1f0edf8d46f78",
    "order_count": 13,
    "time": "2020-07-12T13:50:24.342Z",
    "type": "editCodeCell"
   },
   {
    "time": "2020-07-12T13:50:48.934Z",
    "type": "kernelReady"
   },
   {
    "code": "Exporting ",
    "id": "cc96b827c83340c4adf1f0edf8d46f78",
    "order_count": 13,
    "time": "2020-07-12T13:54:51.017Z",
    "type": "editCodeCell"
   },
   {
    "code": "Exporting ",
    "id": "cc96b827c83340c4adf1f0edf8d46f78",
    "order_count": 13,
    "time": "2020-07-12T13:54:52.595Z",
    "type": "selectCodeCell"
   },
   {
    "code": "### Exporting ",
    "id": "2deba987e70b465f8da4bbdc2d56adea",
    "order_count": 13,
    "time": "2020-07-12T13:54:55.501Z",
    "type": "editMarkdownCell"
   },
   {
    "code": "### Exporting ",
    "id": "2deba987e70b465f8da4bbdc2d56adea",
    "order_count": 13,
    "time": "2020-07-12T13:54:59.530Z",
    "type": "selectMarkdownCell"
   },
   {
    "code": "",
    "id": "56ac9ddfe1024fd996db8a4df34ab77a",
    "order_count": 14,
    "time": "2020-07-12T13:55:00.691Z",
    "type": "selectCodeCell"
   },
   {
    "code": "",
    "id": "56ac9ddfe1024fd996db8a4df34ab77a",
    "order_count": 14,
    "time": "2020-07-12T13:55:00.939Z",
    "type": "editCodeCell"
   },
   {
    "code": "In Lux, you can expo\nas View objects or as their corresponding VegaLite or Altair code specification",
    "id": "56ac9ddfe1024fd996db8a4df34ab77a",
    "order_count": null,
    "time": "2020-07-12T13:55:04.030Z",
    "type": "deleteCodeCell"
   },
   {
    "code": "### Exporting ",
    "id": "2deba987e70b465f8da4bbdc2d56adea",
    "order_count": 13,
    "time": "2020-07-12T13:55:05.066Z",
    "type": "selectMarkdownCell"
   },
   {
    "code": "### Exporting ",
    "id": "2deba987e70b465f8da4bbdc2d56adea",
    "order_count": 13,
    "time": "2020-07-12T13:55:05.068Z",
    "type": "editMarkdownCell"
   },
   {
    "code": "### Exporting ",
    "id": "2deba987e70b465f8da4bbdc2d56adea",
    "order_count": 13,
    "time": "2020-07-12T13:55:05.210Z",
    "type": "selectMarkdownCell"
   },
   {
    "param": "lux",
    "time": "2020-07-12T13:55:10.373Z",
    "type": "toggleBtnClick"
   },
   {
    "param": "lux",
    "time": "2020-07-12T13:55:10.378Z",
    "type": "toggleBtnClick"
   },
   {
    "param": "lux",
    "time": "2020-07-12T13:55:10.378Z",
    "type": "toggleBtnClick"
   },
   {
    "param": "lux",
    "time": "2020-07-12T13:55:10.378Z",
    "type": "toggleBtnClick"
   },
   {
    "param": "lux",
    "time": "2020-07-12T13:55:10.378Z",
    "type": "toggleBtnClick"
   },
   {
    "param": "lux",
    "time": "2020-07-12T13:55:10.378Z",
    "type": "toggleBtnClick"
   },
   {
    "code": "df.set_context_as_view(view)\ndf",
    "id": "e08b5df7007549379d93828434e743b1",
    "order_count": 12,
    "time": "2020-07-12T13:55:10.388Z",
    "type": "selectCodeCell"
   },
   {
    "code": "### Exporting visualiza",
    "id": "2deba987e70b465f8da4bbdc2d56adea",
    "order_count": 13,
    "time": "2020-07-12T13:55:14.547Z",
    "type": "selectMarkdownCell"
   },
   {
    "code": "### Exporting visualiza",
    "id": "2deba987e70b465f8da4bbdc2d56adea",
    "order_count": 13,
    "time": "2020-07-12T13:55:14.550Z",
    "type": "editMarkdownCell"
   },
   {
    "code": "### Exporting visualiza",
    "id": "2deba987e70b465f8da4bbdc2d56adea",
    "order_count": 13,
    "time": "2020-07-12T13:55:15.866Z",
    "type": "selectMarkdownCell"
   },
   {
    "time": "2020-07-12T13:55:43.895Z",
    "type": "kernelReady"
   },
   {
    "code": "### Exporting visualization ",
    "id": "2deba987e70b465f8da4bbdc2d56adea",
    "order_count": 13,
    "time": "2020-07-12T13:58:30.344Z",
    "type": "editMarkdownCell"
   },
   {
    "time": "2020-07-12T13:58:52.608Z",
    "type": "kernelReady"
   },
   {
    "code": "### Exporting visualization ",
    "id": "2deba987e70b465f8da4bbdc2d56adea",
    "order_count": 13,
    "time": "2020-07-12T13:59:42.262Z",
    "type": "editMarkdownCell"
   },
   {
    "code": "In Lux, you can expo\nas View objects or as their corresponding VegaLite or Altair code specification",
    "id": "1eedc53f98f24410b696df7c7197d2ab",
    "order_count": 14,
    "time": "2020-07-12T13:59:51.049Z",
    "type": "selectCodeCell"
   },
   {
    "code": "",
    "id": "6e307f1d840d4448b1f23af063960c2b",
    "order_count": 14,
    "time": "2020-07-12T13:59:52.073Z",
    "type": "selectCodeCell"
   },
   {
    "code": "",
    "id": "6e307f1d840d4448b1f23af063960c2b",
    "order_count": 14,
    "time": "2020-07-12T13:59:52.721Z",
    "type": "editCodeCell"
   },
   {
    "code": "view",
    "id": "6e307f1d840d4448b1f23af063960c2b",
    "order_count": 14,
    "time": "2020-07-12T13:59:54.940Z",
    "type": "executeCodeCell"
   },
   {
    "code": "In Lux, you can expo\nas View objects or as their corresponding VegaLite or Altair code specification",
    "id": "1eedc53f98f24410b696df7c7197d2ab",
    "order_count": 15,
    "time": "2020-07-12T13:59:54.976Z",
    "type": "selectCodeCell"
   },
   {
    "id": "6e307f1d840d4448b1f23af063960c2b",
    "isPrintLuxDf": false,
    "isPrintPandasDf": false,
    "isPrintView": false,
    "isPrintViewCollection": false,
    "time": "2020-07-12T13:59:54.984Z",
    "type": "completeCodeCell"
   },
   {
    "code": "view",
    "id": "6e307f1d840d4448b1f23af063960c2b",
    "order_count": 14,
    "time": "2020-07-12T13:59:58.601Z",
    "type": "selectCodeCell"
   },
   {
    "code": "view",
    "id": "6e307f1d840d4448b1f23af063960c2b",
    "order_count": 14,
    "time": "2020-07-12T13:59:58.606Z",
    "type": "editCodeCell"
   },
   {
    "code": "view = df.get_exported()[0]\nview",
    "id": "186e1ccd2ef446cfac8da8d98b1a122c",
    "order_count": 9,
    "time": "2020-07-12T14:00:06.422Z",
    "type": "selectCodeCell"
   },
   {
    "code": "view = df.get_exported()[0]\nview",
    "id": "186e1ccd2ef446cfac8da8d98b1a122c",
    "order_count": 9,
    "time": "2020-07-12T14:00:06.427Z",
    "type": "editCodeCell"
   },
   {
    "code": "view = df.get_exported()[0]\nview",
    "id": "186e1ccd2ef446cfac8da8d98b1a122c",
    "order_count": 9,
    "time": "2020-07-12T14:00:06.770Z",
    "type": "executeCodeCell"
   },
   {
    "code": "### Setting Views as Context",
    "id": "433a4a78ea7e48c8983408162854d502",
    "order_count": 10,
    "time": "2020-07-12T14:00:06.795Z",
    "type": "selectMarkdownCell"
   },
   {
    "id": "186e1ccd2ef446cfac8da8d98b1a122c",
    "isPrintLuxDf": false,
    "isPrintPandasDf": false,
    "isPrintView": false,
    "isPrintViewCollection": false,
    "time": "2020-07-12T14:00:06.814Z",
    "type": "completeCodeCell"
   },
   {
    "code": "import pandas as pd\nimport lux",
    "id": "36317fa004f84755901fb751d5e7974b",
    "order_count": 1,
    "time": "2020-07-12T14:00:09.316Z",
    "type": "selectCodeCell"
   },
   {
    "time": "2020-07-12T14:00:11.243Z",
    "type": "kernelRestart"
   },
   {
    "code": "cd ..",
    "id": "eb64dbe726c9440f8884b3f1484bab48",
    "order_count": 0,
    "time": "2020-07-12T14:00:11.785Z",
    "type": "selectCodeCell"
   },
   {
    "code": "cd ..",
    "id": "eb64dbe726c9440f8884b3f1484bab48",
    "order_count": 0,
    "time": "2020-07-12T14:00:11.793Z",
    "type": "editCodeCell"
   },
   {
    "code": "cd ..",
    "id": "eb64dbe726c9440f8884b3f1484bab48",
    "order_count": 0,
    "time": "2020-07-12T14:00:12.133Z",
    "type": "executeCodeCell"
   },
   {
    "code": "import pandas as pd\nimport lux",
    "id": "36317fa004f84755901fb751d5e7974b",
    "order_count": 1,
    "time": "2020-07-12T14:00:12.176Z",
    "type": "selectCodeCell"
   },
   {
    "code": "import pandas as pd\nimport lux",
    "id": "36317fa004f84755901fb751d5e7974b",
    "order_count": 1,
    "time": "2020-07-12T14:00:12.299Z",
    "type": "executeCodeCell"
   },
   {
    "code": "In this tutorial, we look at the [Happy Planet Index](http://happyplanetindex.org/) dataset, which contains metrics related to well-being for 140 countries around the world. We demonstrate how you can select visualizations of interest and export them for further analysis. ",
    "id": "2b4ef2b4027f49a68a2486039b0d5fee",
    "order_count": 2,
    "time": "2020-07-12T14:00:12.309Z",
    "type": "selectMarkdownCell"
   },
   {
    "code": "df = pd.read_csv(\"lux/data/hpi.csv\")\ndf.set_default_display(\"lux\") #set Lux as default view\ndf",
    "id": "12a1be56c9ae4abab0a1f946bd40bc68",
    "order_count": 3,
    "time": "2020-07-12T14:00:12.510Z",
    "type": "selectCodeCell"
   },
   {
    "code": "df = pd.read_csv(\"lux/data/hpi.csv\")\ndf.set_default_display(\"lux\") #set Lux as default view\ndf",
    "id": "12a1be56c9ae4abab0a1f946bd40bc68",
    "order_count": 3,
    "time": "2020-07-12T14:00:12.943Z",
    "type": "executeCodeCell"
   },
   {
    "code": "### Exporting one or more visualizations from recommendation widget",
    "id": "8e6114c3d53f46c9b0497f0fb8f18f08",
    "order_count": 4,
    "time": "2020-07-12T14:00:12.948Z",
    "type": "selectMarkdownCell"
   },
   {
    "id": "eb64dbe726c9440f8884b3f1484bab48",
    "isPrintLuxDf": false,
    "isPrintPandasDf": false,
    "isPrintView": false,
    "isPrintViewCollection": false,
    "time": "2020-07-12T14:00:13.196Z",
    "type": "completeCodeCell"
   },
   {
    "id": "36317fa004f84755901fb751d5e7974b",
    "isPrintLuxDf": false,
    "isPrintPandasDf": false,
    "isPrintView": false,
    "isPrintViewCollection": false,
    "time": "2020-07-12T14:00:13.539Z",
    "type": "completeCodeCell"
   },
   {
    "code": "We can click on visualizations of interest and export them into a separate widget.",
    "id": "f3f9136301e54bd19eac8eb55f9cc158",
    "order_count": 5,
    "time": "2020-07-12T14:00:14.244Z",
    "type": "selectMarkdownCell"
   },
   {
    "time": "2020-07-12T14:00:14.446Z",
    "type": "kernelReady"
   },
   {
    "id": "12a1be56c9ae4abab0a1f946bd40bc68",
    "isPrintLuxDf": true,
    "isPrintPandasDf": false,
    "isPrintView": false,
    "isPrintViewCollection": false,
    "time": "2020-07-12T14:00:14.456Z",
    "type": "completeCodeCell"
   },
   {
    "param": "",
    "time": "2020-07-12T14:00:14.481Z",
    "type": "initWidget"
   },
   {
    "param": "",
    "time": "2020-07-12T14:00:14.821Z",
    "type": "initWidget"
   },
   {
    "code": "df = pd.read_csv(\"lux/data/hpi.csv\")\ndf.set_default_display(\"lux\") #set Lux as default view\ndf",
    "id": "12a1be56c9ae4abab0a1f946bd40bc68",
    "order_count": 3,
    "time": "2020-07-12T14:00:16.445Z",
    "type": "selectCodeCell"
   },
   {
    "param": {
     "index": 1,
     "tabTitle": "Correlation",
     "vis": {
      "$schema": "https://vega.github.io/schema/vega-lite/v4.8.1.json",
      "config": {
       "mark": {
        "tooltip": {
         "content": "encoding"
        }
       },
       "view": {
        "continuousHeight": 300,
        "continuousWidth": 400
       }
      },
      "data": {
       "name": "data-c5bd87549771a1474928380fe42ed676"
      },
      "datasets": {
       "data-c5bd87549771a1474928380fe42ed676": [
        {
         "AverageWellBeing": 3.8,
         "InequalityAdjustedWellbeing": 3.4
        },
        {
         "AverageWellBeing": 5.5,
         "InequalityAdjustedWellbeing": 5.1
        },
        {
         "AverageWellBeing": 5.6,
         "InequalityAdjustedWellbeing": 5.2
        },
        {
         "AverageWellBeing": 6.5,
         "InequalityAdjustedWellbeing": 6
        },
        {
         "AverageWellBeing": 4.3,
         "InequalityAdjustedWellbeing": 3.7
        },
        {
         "AverageWellBeing": 7.2,
         "InequalityAdjustedWellbeing": 6.9
        },
        {
         "AverageWellBeing": 7.4,
         "InequalityAdjustedWellbeing": 7.1
        },
        {
         "AverageWellBeing": 4.7,
         "InequalityAdjustedWellbeing": 4.3
        },
        {
         "AverageWellBeing": 5.7,
         "InequalityAdjustedWellbeing": 5.3
        },
        {
         "AverageWellBeing": 6.9,
         "InequalityAdjustedWellbeing": 6.6
        },
        {
         "AverageWellBeing": 6.1,
         "InequalityAdjustedWellbeing": 5.7
        },
        {
         "AverageWellBeing": 3.2,
         "InequalityAdjustedWellbeing": 2.8
        },
        {
         "AverageWellBeing": 5.6,
         "InequalityAdjustedWellbeing": 5.2
        },
        {
         "AverageWellBeing": 6,
         "InequalityAdjustedWellbeing": 5.5
        },
        {
         "AverageWellBeing": 4.8,
         "InequalityAdjustedWellbeing": 4.2
        },
        {
         "AverageWellBeing": 4.8,
         "InequalityAdjustedWellbeing": 4.3
        },
        {
         "AverageWellBeing": 6.9,
         "InequalityAdjustedWellbeing": 6.3
        },
        {
         "AverageWellBeing": 4.2,
         "InequalityAdjustedWellbeing": 3.7
        },
        {
         "AverageWellBeing": 4,
         "InequalityAdjustedWellbeing": 3.6
        },
        {
         "AverageWellBeing": 3.4,
         "InequalityAdjustedWellbeing": 3
        },
        {
         "AverageWellBeing": 3.9,
         "InequalityAdjustedWellbeing": 3.5
        },
        {
         "AverageWellBeing": 4.2,
         "InequalityAdjustedWellbeing": 3.7
        },
        {
         "AverageWellBeing": 7.4,
         "InequalityAdjustedWellbeing": 7.1
        },
        {
         "AverageWellBeing": 4,
         "InequalityAdjustedWellbeing": 3.7
        },
        {
         "AverageWellBeing": 6.6,
         "InequalityAdjustedWellbeing": 6.1
        },
        {
         "AverageWellBeing": 5.1,
         "InequalityAdjustedWellbeing": 4.6
        },
        {
         "AverageWellBeing": 6.4,
         "InequalityAdjustedWellbeing": 5.7
        },
        {
         "AverageWellBeing": 4,
         "InequalityAdjustedWellbeing": 3.7
        },
        {
         "AverageWellBeing": 7.3,
         "InequalityAdjustedWellbeing": 6.8
        },
        {
         "AverageWellBeing": 3.8,
         "InequalityAdjustedWellbeing": 3.5
        },
        {
         "AverageWellBeing": 6,
         "InequalityAdjustedWellbeing": 5.5
        },
        {
         "AverageWellBeing": 6.2,
         "InequalityAdjustedWellbeing": 5.7
        },
        {
         "AverageWellBeing": 6.3,
         "InequalityAdjustedWellbeing": 5.9
        },
        {
         "AverageWellBeing": 7.5,
         "InequalityAdjustedWellbeing": 7.2
        },
        {
         "AverageWellBeing": 4.4,
         "InequalityAdjustedWellbeing": 3.8
        },
        {
         "AverageWellBeing": 4.8,
         "InequalityAdjustedWellbeing": 4.1
        },
        {
         "AverageWellBeing": 6,
         "InequalityAdjustedWellbeing": 5.5
        },
        {
         "AverageWellBeing": 4.2,
         "InequalityAdjustedWellbeing": 3.7
        },
        {
         "AverageWellBeing": 5.9,
         "InequalityAdjustedWellbeing": 5.3
        },
        {
         "AverageWellBeing": 5.4,
         "InequalityAdjustedWellbeing": 5
        },
        {
         "AverageWellBeing": 4.6,
         "InequalityAdjustedWellbeing": 4.2
        },
        {
         "AverageWellBeing": 7.4,
         "InequalityAdjustedWellbeing": 7.2
        },
        {
         "AverageWellBeing": 6.6,
         "InequalityAdjustedWellbeing": 6.3
        },
        {
         "AverageWellBeing": 4,
         "InequalityAdjustedWellbeing": 3.5
        },
        {
         "AverageWellBeing": 4.3,
         "InequalityAdjustedWellbeing": 3.8
        },
        {
         "AverageWellBeing": 6.7,
         "InequalityAdjustedWellbeing": 6.4
        },
        {
         "AverageWellBeing": 5.1,
         "InequalityAdjustedWellbeing": 4.6
        },
        {
         "AverageWellBeing": 5.1,
         "InequalityAdjustedWellbeing": 4.5
        },
        {
         "AverageWellBeing": 5.9,
         "InequalityAdjustedWellbeing": 5.2
        },
        {
         "AverageWellBeing": 3.7,
         "InequalityAdjustedWellbeing": 3.3
        },
        {
         "AverageWellBeing": 4.4,
         "InequalityAdjustedWellbeing": 4
        },
        {
         "AverageWellBeing": 4.6,
         "InequalityAdjustedWellbeing": 3.9
        },
        {
         "AverageWellBeing": 5.5,
         "InequalityAdjustedWellbeing": 5.1
        },
        {
         "AverageWellBeing": 4.7,
         "InequalityAdjustedWellbeing": 4.2
        },
        {
         "AverageWellBeing": 7.6,
         "InequalityAdjustedWellbeing": 7.4
        },
        {
         "AverageWellBeing": 4.6,
         "InequalityAdjustedWellbeing": 4.2
        },
        {
         "AverageWellBeing": 5.4,
         "InequalityAdjustedWellbeing": 5.1
        },
        {
         "AverageWellBeing": 4.6,
         "InequalityAdjustedWellbeing": 4
        },
        {
         "AverageWellBeing": 4.7,
         "InequalityAdjustedWellbeing": 4.3
        },
        {
         "AverageWellBeing": 7,
         "InequalityAdjustedWellbeing": 6.7
        },
        {
         "AverageWellBeing": 7.1,
         "InequalityAdjustedWellbeing": 6.8
        },
        {
         "AverageWellBeing": 5.8,
         "InequalityAdjustedWellbeing": 5.3
        },
        {
         "AverageWellBeing": 5.6,
         "InequalityAdjustedWellbeing": 5
        },
        {
         "AverageWellBeing": 6,
         "InequalityAdjustedWellbeing": 5.6
        },
        {
         "AverageWellBeing": 5.8,
         "InequalityAdjustedWellbeing": 5.4
        },
        {
         "AverageWellBeing": 4.5,
         "InequalityAdjustedWellbeing": 4.1
        },
        {
         "AverageWellBeing": 5.2,
         "InequalityAdjustedWellbeing": 4.9
        },
        {
         "AverageWellBeing": 5.1,
         "InequalityAdjustedWellbeing": 4.7
        },
        {
         "AverageWellBeing": 4.6,
         "InequalityAdjustedWellbeing": 4
        },
        {
         "AverageWellBeing": 4.9,
         "InequalityAdjustedWellbeing": 4.3
        },
        {
         "AverageWellBeing": 4.4,
         "InequalityAdjustedWellbeing": 4.1
        },
        {
         "AverageWellBeing": 5.8,
         "InequalityAdjustedWellbeing": 5.4
        },
        {
         "AverageWellBeing": 7,
         "InequalityAdjustedWellbeing": 6.7
        },
        {
         "AverageWellBeing": 4.6,
         "InequalityAdjustedWellbeing": 4.1
        },
        {
         "AverageWellBeing": 4.3,
         "InequalityAdjustedWellbeing": 3.5
        },
        {
         "AverageWellBeing": 5.9,
         "InequalityAdjustedWellbeing": 5.7
        },
        {
         "AverageWellBeing": 6,
         "InequalityAdjustedWellbeing": 5.5
        },
        {
         "AverageWellBeing": 4.7,
         "InequalityAdjustedWellbeing": 4.5
        },
        {
         "AverageWellBeing": 5.5,
         "InequalityAdjustedWellbeing": 5.1
        },
        {
         "AverageWellBeing": 7.3,
         "InequalityAdjustedWellbeing": 6.8
        },
        {
         "AverageWellBeing": 4.9,
         "InequalityAdjustedWellbeing": 4.6
        },
        {
         "AverageWellBeing": 5.2,
         "InequalityAdjustedWellbeing": 4.6
        },
        {
         "AverageWellBeing": 5,
         "InequalityAdjustedWellbeing": 4.5
        },
        {
         "AverageWellBeing": 5,
         "InequalityAdjustedWellbeing": 4.5
        },
        {
         "AverageWellBeing": 4.4,
         "InequalityAdjustedWellbeing": 4
        },
        {
         "AverageWellBeing": 4.7,
         "InequalityAdjustedWellbeing": 4.4
        },
        {
         "AverageWellBeing": 4.2,
         "InequalityAdjustedWellbeing": 3.8
        },
        {
         "AverageWellBeing": 7.5,
         "InequalityAdjustedWellbeing": 7.5
        },
        {
         "AverageWellBeing": 7.2,
         "InequalityAdjustedWellbeing": 6.9
        },
        {
         "AverageWellBeing": 5.4,
         "InequalityAdjustedWellbeing": 4.8
        },
        {
         "AverageWellBeing": 3.8,
         "InequalityAdjustedWellbeing": 3.5
        },
        {
         "AverageWellBeing": 5.5,
         "InequalityAdjustedWellbeing": 5.2
        },
        {
         "AverageWellBeing": 7.7,
         "InequalityAdjustedWellbeing": 7.4
        },
        {
         "AverageWellBeing": 6.9,
         "InequalityAdjustedWellbeing": 6.4
        },
        {
         "AverageWellBeing": 5.1,
         "InequalityAdjustedWellbeing": 4.6
        },
        {
         "AverageWellBeing": 4.6,
         "InequalityAdjustedWellbeing": 4.1
        },
        {
         "AverageWellBeing": 6.9,
         "InequalityAdjustedWellbeing": 6.3
        },
        {
         "AverageWellBeing": 5.8,
         "InequalityAdjustedWellbeing": 5.5
        },
        {
         "AverageWellBeing": 5.8,
         "InequalityAdjustedWellbeing": 5.3
        },
        {
         "AverageWellBeing": 5,
         "InequalityAdjustedWellbeing": 4.4
        },
        {
         "AverageWellBeing": 5.9,
         "InequalityAdjustedWellbeing": 5.5
        },
        {
         "AverageWellBeing": 5,
         "InequalityAdjustedWellbeing": 4.3
        },
        {
         "AverageWellBeing": 3.9,
         "InequalityAdjustedWellbeing": 3.4
        },
        {
         "AverageWellBeing": 5.2,
         "InequalityAdjustedWellbeing": 4.6
        },
        {
         "AverageWellBeing": 5.6,
         "InequalityAdjustedWellbeing": 5.2
        },
        {
         "AverageWellBeing": 3.3,
         "InequalityAdjustedWellbeing": 3
        },
        {
         "AverageWellBeing": 3.7,
         "InequalityAdjustedWellbeing": 3.3
        },
        {
         "AverageWellBeing": 5.2,
         "InequalityAdjustedWellbeing": 4.6
        },
        {
         "AverageWellBeing": 4.5,
         "InequalityAdjustedWellbeing": 4
        },
        {
         "AverageWellBeing": 5.9,
         "InequalityAdjustedWellbeing": 5.4
        },
        {
         "AverageWellBeing": 6.1,
         "InequalityAdjustedWellbeing": 5.7
        },
        {
         "AverageWellBeing": 5.1,
         "InequalityAdjustedWellbeing": 4.6
        },
        {
         "AverageWellBeing": 6,
         "InequalityAdjustedWellbeing": 5.5
        },
        {
         "AverageWellBeing": 6.3,
         "InequalityAdjustedWellbeing": 5.9
        },
        {
         "AverageWellBeing": 4.2,
         "InequalityAdjustedWellbeing": 3.8
        },
        {
         "AverageWellBeing": 6.3,
         "InequalityAdjustedWellbeing": 5.9
        },
        {
         "AverageWellBeing": 4.9,
         "InequalityAdjustedWellbeing": 4.4
        },
        {
         "AverageWellBeing": 7.6,
         "InequalityAdjustedWellbeing": 7.4
        },
        {
         "AverageWellBeing": 7.8,
         "InequalityAdjustedWellbeing": 7.6
        },
        {
         "AverageWellBeing": 3.2,
         "InequalityAdjustedWellbeing": 2.6
        },
        {
         "AverageWellBeing": 4.5,
         "InequalityAdjustedWellbeing": 4.3
        },
        {
         "AverageWellBeing": 4,
         "InequalityAdjustedWellbeing": 3.6
        },
        {
         "AverageWellBeing": 6.3,
         "InequalityAdjustedWellbeing": 6
        },
        {
         "AverageWellBeing": 2.9,
         "InequalityAdjustedWellbeing": 2.4
        },
        {
         "AverageWellBeing": 6.4,
         "InequalityAdjustedWellbeing": 6
        },
        {
         "AverageWellBeing": 4.5,
         "InequalityAdjustedWellbeing": 4
        },
        {
         "AverageWellBeing": 5.3,
         "InequalityAdjustedWellbeing": 4.9
        },
        {
         "AverageWellBeing": 5.5,
         "InequalityAdjustedWellbeing": 5.1
        },
        {
         "AverageWellBeing": 4.3,
         "InequalityAdjustedWellbeing": 3.9
        },
        {
         "AverageWellBeing": 5,
         "InequalityAdjustedWellbeing": 4.6
        },
        {
         "AverageWellBeing": 6.9,
         "InequalityAdjustedWellbeing": 6.6
        },
        {
         "AverageWellBeing": 7,
         "InequalityAdjustedWellbeing": 6.5
        },
        {
         "AverageWellBeing": 6.4,
         "InequalityAdjustedWellbeing": 5.8
        },
        {
         "AverageWellBeing": 6,
         "InequalityAdjustedWellbeing": 5.6
        },
        {
         "AverageWellBeing": 6.5,
         "InequalityAdjustedWellbeing": 5.9
        },
        {
         "AverageWellBeing": 7.1,
         "InequalityAdjustedWellbeing": 6.5
        },
        {
         "AverageWellBeing": 5.5,
         "InequalityAdjustedWellbeing": 5.2
        },
        {
         "AverageWellBeing": 4.1,
         "InequalityAdjustedWellbeing": 3.6
        },
        {
         "AverageWellBeing": 5,
         "InequalityAdjustedWellbeing": 4.5
        },
        {
         "AverageWellBeing": 5,
         "InequalityAdjustedWellbeing": 4.6
        }
       ]
      },
      "encoding": {
       "x": {
        "field": "AverageWellBeing",
        "scale": {
         "domain": [
          2.9,
          7.8
         ]
        },
        "type": "quantitative"
       },
       "y": {
        "field": "InequalityAdjustedWellbeing",
        "scale": {
         "domain": [
          2.4,
          7.6
         ]
        },
        "type": "quantitative"
       }
      },
      "height": 150,
      "mark": "circle",
      "selection": {
       "selector002": {
        "bind": "scales",
        "encodings": [
         "x",
         "y"
        ],
        "type": "interval"
       }
      },
      "width": 160
     }
    },
    "time": "2020-07-12T14:00:16.447Z",
    "type": "clickVis"
   },
   {
    "code": "df = pd.read_csv(\"lux/data/hpi.csv\")\ndf.set_default_display(\"lux\") #set Lux as default view\ndf",
    "id": "12a1be56c9ae4abab0a1f946bd40bc68",
    "order_count": 3,
    "time": "2020-07-12T14:00:17.067Z",
    "type": "selectCodeCell"
   },
   {
    "param": {
     "index": 2,
     "tabTitle": "Correlation",
     "vis": {
      "$schema": "https://vega.github.io/schema/vega-lite/v4.8.1.json",
      "config": {
       "mark": {
        "tooltip": {
         "content": "encoding"
        }
       },
       "view": {
        "continuousHeight": 300,
        "continuousWidth": 400
       }
      },
      "data": {
       "name": "data-1dbc478f1621a81afe9776f917f39e67"
      },
      "datasets": {
       "data-1dbc478f1621a81afe9776f917f39e67": [
        {
         "AverageLifeExpectancy": 59.7,
         "InequalityAdjustedLifeExpectancy": 38.3
        },
        {
         "AverageLifeExpectancy": 77.3,
         "InequalityAdjustedLifeExpectancy": 69.7
        },
        {
         "AverageLifeExpectancy": 74.3,
         "InequalityAdjustedLifeExpectancy": 60.5
        },
        {
         "AverageLifeExpectancy": 75.9,
         "InequalityAdjustedLifeExpectancy": 68.3
        },
        {
         "AverageLifeExpectancy": 74.4,
         "InequalityAdjustedLifeExpectancy": 66.9
        },
        {
         "AverageLifeExpectancy": 82.1,
         "InequalityAdjustedLifeExpectancy": 78.6
        },
        {
         "AverageLifeExpectancy": 81,
         "InequalityAdjustedLifeExpectancy": 78
        },
        {
         "AverageLifeExpectancy": 70.8,
         "InequalityAdjustedLifeExpectancy": 56.6
        },
        {
         "AverageLifeExpectancy": 70.9,
         "InequalityAdjustedLifeExpectancy": 66.7
        },
        {
         "AverageLifeExpectancy": 80.4,
         "InequalityAdjustedLifeExpectancy": 77.2
        },
        {
         "AverageLifeExpectancy": 69.8,
         "InequalityAdjustedLifeExpectancy": 61.7
        },
        {
         "AverageLifeExpectancy": 59.2,
         "InequalityAdjustedLifeExpectancy": 37.3
        },
        {
         "AverageLifeExpectancy": 68.7,
         "InequalityAdjustedLifeExpectancy": 54.5
        },
        {
         "AverageLifeExpectancy": 67.5,
         "InequalityAdjustedLifeExpectancy": 47.9
        },
        {
         "AverageLifeExpectancy": 76.2,
         "InequalityAdjustedLifeExpectancy": 71.1
        },
        {
         "AverageLifeExpectancy": 64.2,
         "InequalityAdjustedLifeExpectancy": 50.8
        },
        {
         "AverageLifeExpectancy": 73.9,
         "InequalityAdjustedLifeExpectancy": 63.3
        },
        {
         "AverageLifeExpectancy": 73.9,
         "InequalityAdjustedLifeExpectancy": 68.1
        },
        {
         "AverageLifeExpectancy": 58,
         "InequalityAdjustedLifeExpectancy": 36.5
        },
        {
         "AverageLifeExpectancy": 55.8,
         "InequalityAdjustedLifeExpectancy": 33
        },
        {
         "AverageLifeExpectancy": 67.5,
         "InequalityAdjustedLifeExpectancy": 54.2
        },
        {
         "AverageLifeExpectancy": 54.6,
         "InequalityAdjustedLifeExpectancy": 33.1
        },
        {
         "AverageLifeExpectancy": 81.7,
         "InequalityAdjustedLifeExpectancy": 77.8
        },
        {
         "AverageLifeExpectancy": 50.8,
         "InequalityAdjustedLifeExpectancy": 27.3
        },
        {
         "AverageLifeExpectancy": 81.1,
         "InequalityAdjustedLifeExpectancy": 74.9
        },
        {
         "AverageLifeExpectancy": 75.4,
         "InequalityAdjustedLifeExpectancy": 68.6
        },
        {
         "AverageLifeExpectancy": 73.7,
         "InequalityAdjustedLifeExpectancy": 63.1
        },
        {
         "AverageLifeExpectancy": 62.6,
         "InequalityAdjustedLifeExpectancy": 43.3
        },
        {
         "AverageLifeExpectancy": 79.1,
         "InequalityAdjustedLifeExpectancy": 72.6
        },
        {
         "AverageLifeExpectancy": 50.8,
         "InequalityAdjustedLifeExpectancy": 30.6
        },
        {
         "AverageLifeExpectancy": 77,
         "InequalityAdjustedLifeExpectancy": 73.5
        },
        {
         "AverageLifeExpectancy": 79.8,
         "InequalityAdjustedLifeExpectancy": 76.6
        },
        {
         "AverageLifeExpectancy": 78.2,
         "InequalityAdjustedLifeExpectancy": 75.5
        },
        {
         "AverageLifeExpectancy": 79.8,
         "InequalityAdjustedLifeExpectancy": 76.8
        },
        {
         "AverageLifeExpectancy": 61.3,
         "InequalityAdjustedLifeExpectancy": 41.4
        },
        {
         "AverageLifeExpectancy": 73.1,
         "InequalityAdjustedLifeExpectancy": 60.8
        },
        {
         "AverageLifeExpectancy": 75.4,
         "InequalityAdjustedLifeExpectancy": 64.1
        },
        {
         "AverageLifeExpectancy": 70.7,
         "InequalityAdjustedLifeExpectancy": 61.3
        },
        {
         "AverageLifeExpectancy": 72.5,
         "InequalityAdjustedLifeExpectancy": 62.5
        },
        {
         "AverageLifeExpectancy": 76.2,
         "InequalityAdjustedLifeExpectancy": 72.6
        },
        {
         "AverageLifeExpectancy": 62.8,
         "InequalityAdjustedLifeExpectancy": 43.8
        },
        {
         "AverageLifeExpectancy": 80.4,
         "InequalityAdjustedLifeExpectancy": 77.6
        },
        {
         "AverageLifeExpectancy": 81.8,
         "InequalityAdjustedLifeExpectancy": 78.5
        },
        {
         "AverageLifeExpectancy": 63.3,
         "InequalityAdjustedLifeExpectancy": 45.8
        },
        {
         "AverageLifeExpectancy": 74.6,
         "InequalityAdjustedLifeExpectancy": 66.9
        },
        {
         "AverageLifeExpectancy": 80.6,
         "InequalityAdjustedLifeExpectancy": 77.6
        },
        {
         "AverageLifeExpectancy": 61,
         "InequalityAdjustedLifeExpectancy": 42.2
        },
        {
         "AverageLifeExpectancy": 80.5,
         "InequalityAdjustedLifeExpectancy": 77.6
        },
        {
         "AverageLifeExpectancy": 71.4,
         "InequalityAdjustedLifeExpectancy": 59.2
        },
        {
         "AverageLifeExpectancy": 57.7,
         "InequalityAdjustedLifeExpectancy": 37.2
        },
        {
         "AverageLifeExpectancy": 62.1,
         "InequalityAdjustedLifeExpectancy": 42.9
        },
        {
         "AverageLifeExpectancy": 72.8,
         "InequalityAdjustedLifeExpectancy": 58.5
        },
        {
         "AverageLifeExpectancy": 83.6,
         "InequalityAdjustedLifeExpectancy": 81.3
        },
        {
         "AverageLifeExpectancy": 74.9,
         "InequalityAdjustedLifeExpectancy": 70.9
        },
        {
         "AverageLifeExpectancy": 82.2,
         "InequalityAdjustedLifeExpectancy": 79.8
        },
        {
         "AverageLifeExpectancy": 67.3,
         "InequalityAdjustedLifeExpectancy": 51.1
        },
        {
         "AverageLifeExpectancy": 68.5,
         "InequalityAdjustedLifeExpectancy": 57.2
        },
        {
         "AverageLifeExpectancy": 74.8,
         "InequalityAdjustedLifeExpectancy": 66.9
        },
        {
         "AverageLifeExpectancy": 69,
         "InequalityAdjustedLifeExpectancy": 55.6
        },
        {
         "AverageLifeExpectancy": 80.5,
         "InequalityAdjustedLifeExpectancy": 77.5
        },
        {
         "AverageLifeExpectancy": 81.9,
         "InequalityAdjustedLifeExpectancy": 78.7
        },
        {
         "AverageLifeExpectancy": 82.7,
         "InequalityAdjustedLifeExpectancy": 80.2
        },
        {
         "AverageLifeExpectancy": 75.3,
         "InequalityAdjustedLifeExpectancy": 66.3
        },
        {
         "AverageLifeExpectancy": 83.2,
         "InequalityAdjustedLifeExpectancy": 80.6
        },
        {
         "AverageLifeExpectancy": 68.6,
         "InequalityAdjustedLifeExpectancy": 60.7
        },
        {
         "AverageLifeExpectancy": 60.3,
         "InequalityAdjustedLifeExpectancy": 41
        },
        {
         "AverageLifeExpectancy": 69.7,
         "InequalityAdjustedLifeExpectancy": 60.2
        },
        {
         "AverageLifeExpectancy": 73.6,
         "InequalityAdjustedLifeExpectancy": 68.7
        },
        {
         "AverageLifeExpectancy": 78.8,
         "InequalityAdjustedLifeExpectancy": 73.1
        },
        {
         "AverageLifeExpectancy": 48.9,
         "InequalityAdjustedLifeExpectancy": 32.6
        },
        {
         "AverageLifeExpectancy": 60.2,
         "InequalityAdjustedLifeExpectancy": 40.3
        },
        {
         "AverageLifeExpectancy": 72.8,
         "InequalityAdjustedLifeExpectancy": 68.8
        },
        {
         "AverageLifeExpectancy": 81.1,
         "InequalityAdjustedLifeExpectancy": 79
        },
        {
         "AverageLifeExpectancy": 75.1,
         "InequalityAdjustedLifeExpectancy": 69.4
        },
        {
         "AverageLifeExpectancy": 60.1,
         "InequalityAdjustedLifeExpectancy": 40.4
        },
        {
         "AverageLifeExpectancy": 74.4,
         "InequalityAdjustedLifeExpectancy": 69.5
        },
        {
         "AverageLifeExpectancy": 80.2,
         "InequalityAdjustedLifeExpectancy": 76.6
        },
        {
         "AverageLifeExpectancy": 62.6,
         "InequalityAdjustedLifeExpectancy": 41.5
        },
        {
         "AverageLifeExpectancy": 74,
         "InequalityAdjustedLifeExpectancy": 66.7
        },
        {
         "AverageLifeExpectancy": 76.4,
         "InequalityAdjustedLifeExpectancy": 66.3
        },
        {
         "AverageLifeExpectancy": 68.6,
         "InequalityAdjustedLifeExpectancy": 56.9
        },
        {
         "AverageLifeExpectancy": 75.8,
         "InequalityAdjustedLifeExpectancy": 71.8
        },
        {
         "AverageLifeExpectancy": 73.4,
         "InequalityAdjustedLifeExpectancy": 61.6
        },
        {
         "AverageLifeExpectancy": 54.3,
         "InequalityAdjustedLifeExpectancy": 34.5
        },
        {
         "AverageLifeExpectancy": 65.5,
         "InequalityAdjustedLifeExpectancy": 48.4
        },
        {
         "AverageLifeExpectancy": 64,
         "InequalityAdjustedLifeExpectancy": 50.1
        },
        {
         "AverageLifeExpectancy": 68.8,
         "InequalityAdjustedLifeExpectancy": 55.3
        },
        {
         "AverageLifeExpectancy": 81.2,
         "InequalityAdjustedLifeExpectancy": 78.2
        },
        {
         "AverageLifeExpectancy": 81.4,
         "InequalityAdjustedLifeExpectancy": 77.7
        },
        {
         "AverageLifeExpectancy": 74.3,
         "InequalityAdjustedLifeExpectancy": 63.4
        },
        {
         "AverageLifeExpectancy": 60,
         "InequalityAdjustedLifeExpectancy": 38.9
        },
        {
         "AverageLifeExpectancy": 52.1,
         "InequalityAdjustedLifeExpectancy": 30.9
        },
        {
         "AverageLifeExpectancy": 81.3,
         "InequalityAdjustedLifeExpectancy": 78.6
        },
        {
         "AverageLifeExpectancy": 76.3,
         "InequalityAdjustedLifeExpectancy": 70.9
        },
        {
         "AverageLifeExpectancy": 65.7,
         "InequalityAdjustedLifeExpectancy": 44.1
        },
        {
         "AverageLifeExpectancy": 72.6,
         "InequalityAdjustedLifeExpectancy": 62.6
        },
        {
         "AverageLifeExpectancy": 77.2,
         "InequalityAdjustedLifeExpectancy": 68.3
        },
        {
         "AverageLifeExpectancy": 72.6,
         "InequalityAdjustedLifeExpectancy": 59.4
        },
        {
         "AverageLifeExpectancy": 74.1,
         "InequalityAdjustedLifeExpectancy": 63.5
        },
        {
         "AverageLifeExpectancy": 67.9,
         "InequalityAdjustedLifeExpectancy": 56.9
        },
        {
         "AverageLifeExpectancy": 76.9,
         "InequalityAdjustedLifeExpectancy": 72.9
        },
        {
         "AverageLifeExpectancy": 80.3,
         "InequalityAdjustedLifeExpectancy": 77.2
        },
        {
         "AverageLifeExpectancy": 61,
         "InequalityAdjustedLifeExpectancy": 42
        },
        {
         "AverageLifeExpectancy": 74.3,
         "InequalityAdjustedLifeExpectancy": 68.1
        },
        {
         "AverageLifeExpectancy": 69.5,
         "InequalityAdjustedLifeExpectancy": 63.4
        },
        {
         "AverageLifeExpectancy": 63.1,
         "InequalityAdjustedLifeExpectancy": 44.3
        },
        {
         "AverageLifeExpectancy": 65.4,
         "InequalityAdjustedLifeExpectancy": 49.1
        },
        {
         "AverageLifeExpectancy": 74.5,
         "InequalityAdjustedLifeExpectancy": 68.6
        },
        {
         "AverageLifeExpectancy": 49.8,
         "InequalityAdjustedLifeExpectancy": 28.2
        },
        {
         "AverageLifeExpectancy": 75.9,
         "InequalityAdjustedLifeExpectancy": 71.9
        },
        {
         "AverageLifeExpectancy": 80,
         "InequalityAdjustedLifeExpectancy": 77.1
        },
        {
         "AverageLifeExpectancy": 56.3,
         "InequalityAdjustedLifeExpectancy": 41.8
        },
        {
         "AverageLifeExpectancy": 81.3,
         "InequalityAdjustedLifeExpectancy": 78.3
        },
        {
         "AverageLifeExpectancy": 82.2,
         "InequalityAdjustedLifeExpectancy": 79.3
        },
        {
         "AverageLifeExpectancy": 74.6,
         "InequalityAdjustedLifeExpectancy": 68.6
        },
        {
         "AverageLifeExpectancy": 70.8,
         "InequalityAdjustedLifeExpectancy": 61.2
        },
        {
         "AverageLifeExpectancy": 48.9,
         "InequalityAdjustedLifeExpectancy": 31.8
        },
        {
         "AverageLifeExpectancy": 81.8,
         "InequalityAdjustedLifeExpectancy": 79.1
        },
        {
         "AverageLifeExpectancy": 82.6,
         "InequalityAdjustedLifeExpectancy": 79.4
        },
        {
         "AverageLifeExpectancy": 70.4,
         "InequalityAdjustedLifeExpectancy": 60.2
        },
        {
         "AverageLifeExpectancy": 69,
         "InequalityAdjustedLifeExpectancy": 53
        },
        {
         "AverageLifeExpectancy": 63.5,
         "InequalityAdjustedLifeExpectancy": 47.7
        },
        {
         "AverageLifeExpectancy": 74.1,
         "InequalityAdjustedLifeExpectancy": 66.3
        },
        {
         "AverageLifeExpectancy": 58.6,
         "InequalityAdjustedLifeExpectancy": 39.6
        },
        {
         "AverageLifeExpectancy": 70.1,
         "InequalityAdjustedLifeExpectancy": 58.4
        },
        {
         "AverageLifeExpectancy": 74.6,
         "InequalityAdjustedLifeExpectancy": 65.5
        },
        {
         "AverageLifeExpectancy": 74.7,
         "InequalityAdjustedLifeExpectancy": 66.2
        },
        {
         "AverageLifeExpectancy": 65.3,
         "InequalityAdjustedLifeExpectancy": 48.3
        },
        {
         "AverageLifeExpectancy": 57.1,
         "InequalityAdjustedLifeExpectancy": 36.8
        },
        {
         "AverageLifeExpectancy": 70.3,
         "InequalityAdjustedLifeExpectancy": 64.2
        },
        {
         "AverageLifeExpectancy": 80.4,
         "InequalityAdjustedLifeExpectancy": 76.8
        },
        {
         "AverageLifeExpectancy": 78.8,
         "InequalityAdjustedLifeExpectancy": 74
        },
        {
         "AverageLifeExpectancy": 76.9,
         "InequalityAdjustedLifeExpectancy": 69.6
        },
        {
         "AverageLifeExpectancy": 68.2,
         "InequalityAdjustedLifeExpectancy": 51.6
        },
        {
         "AverageLifeExpectancy": 71.3,
         "InequalityAdjustedLifeExpectancy": 60.3
        },
        {
         "AverageLifeExpectancy": 73.9,
         "InequalityAdjustedLifeExpectancy": 65.5
        },
        {
         "AverageLifeExpectancy": 75.5,
         "InequalityAdjustedLifeExpectancy": 64.8
        },
        {
         "AverageLifeExpectancy": 63.3,
         "InequalityAdjustedLifeExpectancy": 44.7
        },
        {
         "AverageLifeExpectancy": 58.4,
         "InequalityAdjustedLifeExpectancy": 38.7
        },
        {
         "AverageLifeExpectancy": 53.7,
         "InequalityAdjustedLifeExpectancy": 36.9
        }
       ]
      },
      "encoding": {
       "x": {
        "field": "AverageLifeExpectancy",
        "scale": {
         "domain": [
          48.9,
          83.6
         ]
        },
        "type": "quantitative"
       },
       "y": {
        "field": "InequalityAdjustedLifeExpectancy",
        "scale": {
         "domain": [
          27.3,
          81.3
         ]
        },
        "type": "quantitative"
       }
      },
      "height": 150,
      "mark": "circle",
      "selection": {
       "selector003": {
        "bind": "scales",
        "encodings": [
         "x",
         "y"
        ],
        "type": "interval"
       }
      },
      "width": 160
     }
    },
    "time": "2020-07-12T14:00:17.069Z",
    "type": "clickVis"
   },
   {
    "code": "df = pd.read_csv(\"lux/data/hpi.csv\")\ndf.set_default_display(\"lux\") #set Lux as default view\ndf",
    "id": "12a1be56c9ae4abab0a1f946bd40bc68",
    "order_count": 3,
    "time": "2020-07-12T14:00:17.589Z",
    "type": "selectCodeCell"
   },
   {
    "param": {
     "index": 3,
     "tabTitle": "Correlation",
     "vis": {
      "$schema": "https://vega.github.io/schema/vega-lite/v4.8.1.json",
      "config": {
       "mark": {
        "tooltip": {
         "content": "encoding"
        }
       },
       "view": {
        "continuousHeight": 300,
        "continuousWidth": 400
       }
      },
      "data": {
       "name": "data-e7e34cde487c40c25a204bd11a5f13b1"
      },
      "datasets": {
       "data-e7e34cde487c40c25a204bd11a5f13b1": [
        {
         "InequalityAdjustedLifeExpectancy": 38.3,
         "InequalityOfOutcomes": 0.43
        },
        {
         "InequalityAdjustedLifeExpectancy": 69.7,
         "InequalityOfOutcomes": 0.17
        },
        {
         "InequalityAdjustedLifeExpectancy": 60.5,
         "InequalityOfOutcomes": 0.24
        },
        {
         "InequalityAdjustedLifeExpectancy": 68.3,
         "InequalityOfOutcomes": 0.16
        },
        {
         "InequalityAdjustedLifeExpectancy": 66.9,
         "InequalityOfOutcomes": 0.22
        },
        {
         "InequalityAdjustedLifeExpectancy": 78.6,
         "InequalityOfOutcomes": 0.08
        },
        {
         "InequalityAdjustedLifeExpectancy": 78,
         "InequalityOfOutcomes": 0.07
        },
        {
         "InequalityAdjustedLifeExpectancy": 56.6,
         "InequalityOfOutcomes": 0.27
        },
        {
         "InequalityAdjustedLifeExpectancy": 66.7,
         "InequalityOfOutcomes": 0.13
        },
        {
         "InequalityAdjustedLifeExpectancy": 77.2,
         "InequalityOfOutcomes": 0.09
        },
        {
         "InequalityAdjustedLifeExpectancy": 61.7,
         "InequalityOfOutcomes": 0.18
        },
        {
         "InequalityAdjustedLifeExpectancy": 37.3,
         "InequalityOfOutcomes": 0.44
        },
        {
         "InequalityAdjustedLifeExpectancy": 54.5,
         "InequalityOfOutcomes": 0.27
        },
        {
         "InequalityAdjustedLifeExpectancy": 47.9,
         "InequalityOfOutcomes": 0.35000000000000003
        },
        {
         "InequalityAdjustedLifeExpectancy": 71.1,
         "InequalityOfOutcomes": 0.19
        },
        {
         "InequalityAdjustedLifeExpectancy": 50.8,
         "InequalityOfOutcomes": 0.28
        },
        {
         "InequalityAdjustedLifeExpectancy": 63.3,
         "InequalityOfOutcomes": 0.22
        },
        {
         "InequalityAdjustedLifeExpectancy": 68.1,
         "InequalityOfOutcomes": 0.19
        },
        {
         "InequalityAdjustedLifeExpectancy": 36.5,
         "InequalityOfOutcomes": 0.43
        },
        {
         "InequalityAdjustedLifeExpectancy": 33,
         "InequalityOfOutcomes": 0.48
        },
        {
         "InequalityAdjustedLifeExpectancy": 54.2,
         "InequalityOfOutcomes": 0.28
        },
        {
         "InequalityAdjustedLifeExpectancy": 33.1,
         "InequalityOfOutcomes": 0.47
        },
        {
         "InequalityAdjustedLifeExpectancy": 77.8,
         "InequalityOfOutcomes": 0.09
        },
        {
         "InequalityAdjustedLifeExpectancy": 27.3,
         "InequalityOfOutcomes": 0.51
        },
        {
         "InequalityAdjustedLifeExpectancy": 74.9,
         "InequalityOfOutcomes": 0.14
        },
        {
         "InequalityAdjustedLifeExpectancy": 68.6,
         "InequalityOfOutcomes": 0.17
        },
        {
         "InequalityAdjustedLifeExpectancy": 63.1,
         "InequalityOfOutcomes": 0.24
        },
        {
         "InequalityAdjustedLifeExpectancy": 43.3,
         "InequalityOfOutcomes": 0.36
        },
        {
         "InequalityAdjustedLifeExpectancy": 72.6,
         "InequalityOfOutcomes": 0.15
        },
        {
         "InequalityAdjustedLifeExpectancy": 30.6,
         "InequalityOfOutcomes": 0.45
        },
        {
         "InequalityAdjustedLifeExpectancy": 73.5,
         "InequalityOfOutcomes": 0.12
        },
        {
         "InequalityAdjustedLifeExpectancy": 76.6,
         "InequalityOfOutcomes": 0.12
        },
        {
         "InequalityAdjustedLifeExpectancy": 75.5,
         "InequalityOfOutcomes": 0.09
        },
        {
         "InequalityAdjustedLifeExpectancy": 76.8,
         "InequalityOfOutcomes": 0.07
        },
        {
         "InequalityAdjustedLifeExpectancy": 41.4,
         "InequalityOfOutcomes": 0.42
        },
        {
         "InequalityAdjustedLifeExpectancy": 60.8,
         "InequalityOfOutcomes": 0.3
        },
        {
         "InequalityAdjustedLifeExpectancy": 64.1,
         "InequalityOfOutcomes": 0.22
        },
        {
         "InequalityAdjustedLifeExpectancy": 61.3,
         "InequalityOfOutcomes": 0.23
        },
        {
         "InequalityAdjustedLifeExpectancy": 62.5,
         "InequalityOfOutcomes": 0.22
        },
        {
         "InequalityAdjustedLifeExpectancy": 72.6,
         "InequalityOfOutcomes": 0.12
        },
        {
         "InequalityAdjustedLifeExpectancy": 43.8,
         "InequalityOfOutcomes": 0.36
        },
        {
         "InequalityAdjustedLifeExpectancy": 77.6,
         "InequalityOfOutcomes": 0.06
        },
        {
         "InequalityAdjustedLifeExpectancy": 78.5,
         "InequalityOfOutcomes": 0.09
        },
        {
         "InequalityAdjustedLifeExpectancy": 45.8,
         "InequalityOfOutcomes": 0.36
        },
        {
         "InequalityAdjustedLifeExpectancy": 66.9,
         "InequalityOfOutcomes": 0.2
        },
        {
         "InequalityAdjustedLifeExpectancy": 77.6,
         "InequalityOfOutcomes": 0.08
        },
        {
         "InequalityAdjustedLifeExpectancy": 42.2,
         "InequalityOfOutcomes": 0.38
        },
        {
         "InequalityAdjustedLifeExpectancy": 77.6,
         "InequalityOfOutcomes": 0.16
        },
        {
         "InequalityAdjustedLifeExpectancy": 59.2,
         "InequalityOfOutcomes": 0.27
        },
        {
         "InequalityAdjustedLifeExpectancy": 37.2,
         "InequalityOfOutcomes": 0.42
        },
        {
         "InequalityAdjustedLifeExpectancy": 42.9,
         "InequalityOfOutcomes": 0.37
        },
        {
         "InequalityAdjustedLifeExpectancy": 58.5,
         "InequalityOfOutcomes": 0.31
        },
        {
         "InequalityAdjustedLifeExpectancy": 81.3,
         "InequalityOfOutcomes": 0.1
        },
        {
         "InequalityAdjustedLifeExpectancy": 70.9,
         "InequalityOfOutcomes": 0.15
        },
        {
         "InequalityAdjustedLifeExpectancy": 79.8,
         "InequalityOfOutcomes": 0.05
        },
        {
         "InequalityAdjustedLifeExpectancy": 51.1,
         "InequalityOfOutcomes": 0.31
        },
        {
         "InequalityAdjustedLifeExpectancy": 57.2,
         "InequalityOfOutcomes": 0.21
        },
        {
         "InequalityAdjustedLifeExpectancy": 66.9,
         "InequalityOfOutcomes": 0.23
        },
        {
         "InequalityAdjustedLifeExpectancy": 55.6,
         "InequalityOfOutcomes": 0.27
        },
        {
         "InequalityAdjustedLifeExpectancy": 77.5,
         "InequalityOfOutcomes": 0.08
        },
        {
         "InequalityAdjustedLifeExpectancy": 78.7,
         "InequalityOfOutcomes": 0.08
        },
        {
         "InequalityAdjustedLifeExpectancy": 80.2,
         "InequalityOfOutcomes": 0.12
        },
        {
         "InequalityAdjustedLifeExpectancy": 66.3,
         "InequalityOfOutcomes": 0.21
        },
        {
         "InequalityAdjustedLifeExpectancy": 80.6,
         "InequalityOfOutcomes": 0.09
        },
        {
         "InequalityAdjustedLifeExpectancy": 60.7,
         "InequalityOfOutcomes": 0.18
        },
        {
         "InequalityAdjustedLifeExpectancy": 41,
         "InequalityOfOutcomes": 0.38
        },
        {
         "InequalityAdjustedLifeExpectancy": 60.2,
         "InequalityOfOutcomes": 0.18
        },
        {
         "InequalityAdjustedLifeExpectancy": 68.7,
         "InequalityOfOutcomes": 0.14
        },
        {
         "InequalityAdjustedLifeExpectancy": 73.1,
         "InequalityOfOutcomes": 0.19
        },
        {
         "InequalityAdjustedLifeExpectancy": 32.6,
         "InequalityOfOutcomes": 0.42
        },
        {
         "InequalityAdjustedLifeExpectancy": 40.3,
         "InequalityOfOutcomes": 0.38
        },
        {
         "InequalityAdjustedLifeExpectancy": 68.8,
         "InequalityOfOutcomes": 0.11
        },
        {
         "InequalityAdjustedLifeExpectancy": 79,
         "InequalityOfOutcomes": 0.07
        },
        {
         "InequalityAdjustedLifeExpectancy": 69.4,
         "InequalityOfOutcomes": 0.18
        },
        {
         "InequalityAdjustedLifeExpectancy": 40.4,
         "InequalityOfOutcomes": 0.45
        },
        {
         "InequalityAdjustedLifeExpectancy": 69.5,
         "InequalityOfOutcomes": 0.1
        },
        {
         "InequalityAdjustedLifeExpectancy": 76.6,
         "InequalityOfOutcomes": 0.13
        },
        {
         "InequalityAdjustedLifeExpectancy": 41.5,
         "InequalityOfOutcomes": 0.37
        },
        {
         "InequalityAdjustedLifeExpectancy": 66.7,
         "InequalityOfOutcomes": 0.17
        },
        {
         "InequalityAdjustedLifeExpectancy": 66.3,
         "InequalityOfOutcomes": 0.19
        },
        {
         "InequalityAdjustedLifeExpectancy": 56.9,
         "InequalityOfOutcomes": 0.22
        },
        {
         "InequalityAdjustedLifeExpectancy": 71.8,
         "InequalityOfOutcomes": 0.16
        },
        {
         "InequalityAdjustedLifeExpectancy": 61.6,
         "InequalityOfOutcomes": 0.25
        },
        {
         "InequalityAdjustedLifeExpectancy": 34.5,
         "InequalityOfOutcomes": 0.43
        },
        {
         "InequalityAdjustedLifeExpectancy": 48.4,
         "InequalityOfOutcomes": 0.32
        },
        {
         "InequalityAdjustedLifeExpectancy": 50.1,
         "InequalityOfOutcomes": 0.26
        },
        {
         "InequalityAdjustedLifeExpectancy": 55.3,
         "InequalityOfOutcomes": 0.27
        },
        {
         "InequalityAdjustedLifeExpectancy": 78.2,
         "InequalityOfOutcomes": 0.04
        },
        {
         "InequalityAdjustedLifeExpectancy": 77.7,
         "InequalityOfOutcomes": 0.08
        },
        {
         "InequalityAdjustedLifeExpectancy": 63.4,
         "InequalityOfOutcomes": 0.25
        },
        {
         "InequalityAdjustedLifeExpectancy": 38.9,
         "InequalityOfOutcomes": 0.4
        },
        {
         "InequalityAdjustedLifeExpectancy": 30.9,
         "InequalityOfOutcomes": 0.44
        },
        {
         "InequalityAdjustedLifeExpectancy": 78.6,
         "InequalityOfOutcomes": 0.07
        },
        {
         "InequalityAdjustedLifeExpectancy": 70.9,
         "InequalityOfOutcomes": 0.13
        },
        {
         "InequalityAdjustedLifeExpectancy": 44.1,
         "InequalityOfOutcomes": 0.4
        },
        {
         "InequalityAdjustedLifeExpectancy": 62.6,
         "InequalityOfOutcomes": 0.24
        },
        {
         "InequalityAdjustedLifeExpectancy": 68.3,
         "InequalityOfOutcomes": 0.19
        },
        {
         "InequalityAdjustedLifeExpectancy": 59.4,
         "InequalityOfOutcomes": 0.22
        },
        {
         "InequalityAdjustedLifeExpectancy": 63.5,
         "InequalityOfOutcomes": 0.21
        },
        {
         "InequalityAdjustedLifeExpectancy": 56.9,
         "InequalityOfOutcomes": 0.26
        },
        {
         "InequalityAdjustedLifeExpectancy": 72.9,
         "InequalityOfOutcomes": 0.11
        },
        {
         "InequalityAdjustedLifeExpectancy": 77.2,
         "InequalityOfOutcomes": 0.16
        },
        {
         "InequalityAdjustedLifeExpectancy": 42,
         "InequalityOfOutcomes": 0.4
        },
        {
         "InequalityAdjustedLifeExpectancy": 68.1,
         "InequalityOfOutcomes": 0.19
        },
        {
         "InequalityAdjustedLifeExpectancy": 63.4,
         "InequalityOfOutcomes": 0.16
        },
        {
         "InequalityAdjustedLifeExpectancy": 44.3,
         "InequalityOfOutcomes": 0.37
        },
        {
         "InequalityAdjustedLifeExpectancy": 49.1,
         "InequalityOfOutcomes": 0.33
        },
        {
         "InequalityAdjustedLifeExpectancy": 68.6,
         "InequalityOfOutcomes": 0.19
        },
        {
         "InequalityAdjustedLifeExpectancy": 28.2,
         "InequalityOfOutcomes": 0.5
        },
        {
         "InequalityAdjustedLifeExpectancy": 71.9,
         "InequalityOfOutcomes": 0.13
        },
        {
         "InequalityAdjustedLifeExpectancy": 77.1,
         "InequalityOfOutcomes": 0.1
        },
        {
         "InequalityAdjustedLifeExpectancy": 41.8,
         "InequalityOfOutcomes": 0.33
        },
        {
         "InequalityAdjustedLifeExpectancy": 78.3,
         "InequalityOfOutcomes": 0.11
        },
        {
         "InequalityAdjustedLifeExpectancy": 79.3,
         "InequalityOfOutcomes": 0.1
        },
        {
         "InequalityAdjustedLifeExpectancy": 68.6,
         "InequalityOfOutcomes": 0.17
        },
        {
         "InequalityAdjustedLifeExpectancy": 61.2,
         "InequalityOfOutcomes": 0.19
        },
        {
         "InequalityAdjustedLifeExpectancy": 31.8,
         "InequalityOfOutcomes": 0.41
        },
        {
         "InequalityAdjustedLifeExpectancy": 79.1,
         "InequalityOfOutcomes": 0.06
        },
        {
         "InequalityAdjustedLifeExpectancy": 79.4,
         "InequalityOfOutcomes": 0.06
        },
        {
         "InequalityAdjustedLifeExpectancy": 60.2,
         "InequalityOfOutcomes": 0.3
        },
        {
         "InequalityAdjustedLifeExpectancy": 53,
         "InequalityOfOutcomes": 0.26
        },
        {
         "InequalityAdjustedLifeExpectancy": 47.7,
         "InequalityOfOutcomes": 0.33
        },
        {
         "InequalityAdjustedLifeExpectancy": 66.3,
         "InequalityOfOutcomes": 0.15
        },
        {
         "InequalityAdjustedLifeExpectancy": 39.6,
         "InequalityOfOutcomes": 0.43
        },
        {
         "InequalityAdjustedLifeExpectancy": 58.4,
         "InequalityOfOutcomes": 0.21
        },
        {
         "InequalityAdjustedLifeExpectancy": 65.5,
         "InequalityOfOutcomes": 0.22
        },
        {
         "InequalityAdjustedLifeExpectancy": 66.2,
         "InequalityOfOutcomes": 0.19
        },
        {
         "InequalityAdjustedLifeExpectancy": 48.3,
         "InequalityOfOutcomes": 0.31
        },
        {
         "InequalityAdjustedLifeExpectancy": 36.8,
         "InequalityOfOutcomes": 0.41
        },
        {
         "InequalityAdjustedLifeExpectancy": 64.2,
         "InequalityOfOutcomes": 0.17
        },
        {
         "InequalityAdjustedLifeExpectancy": 76.8,
         "InequalityOfOutcomes": 0.09
        },
        {
         "InequalityAdjustedLifeExpectancy": 74,
         "InequalityOfOutcomes": 0.13
        },
        {
         "InequalityAdjustedLifeExpectancy": 69.6,
         "InequalityOfOutcomes": 0.18
        },
        {
         "InequalityAdjustedLifeExpectancy": 51.6,
         "InequalityOfOutcomes": 0.3
        },
        {
         "InequalityAdjustedLifeExpectancy": 60.3,
         "InequalityOfOutcomes": 0.22
        },
        {
         "InequalityAdjustedLifeExpectancy": 65.5,
         "InequalityOfOutcomes": 0.19
        },
        {
         "InequalityAdjustedLifeExpectancy": 64.8,
         "InequalityOfOutcomes": 0.19
        },
        {
         "InequalityAdjustedLifeExpectancy": 44.7,
         "InequalityOfOutcomes": 0.39
        },
        {
         "InequalityAdjustedLifeExpectancy": 38.7,
         "InequalityOfOutcomes": 0.41
        },
        {
         "InequalityAdjustedLifeExpectancy": 36.9,
         "InequalityOfOutcomes": 0.37
        }
       ]
      },
      "encoding": {
       "x": {
        "field": "InequalityOfOutcomes",
        "scale": {
         "domain": [
          0.04,
          0.51
         ]
        },
        "type": "quantitative"
       },
       "y": {
        "field": "InequalityAdjustedLifeExpectancy",
        "scale": {
         "domain": [
          27.3,
          81.3
         ]
        },
        "type": "quantitative"
       }
      },
      "height": 150,
      "mark": "circle",
      "selection": {
       "selector004": {
        "bind": "scales",
        "encodings": [
         "x",
         "y"
        ],
        "type": "interval"
       }
      },
      "width": 160
     }
    },
    "time": "2020-07-12T14:00:17.591Z",
    "type": "clickVis"
   },
   {
    "code": "df = pd.read_csv(\"lux/data/hpi.csv\")\ndf.set_default_display(\"lux\") #set Lux as default view\ndf",
    "id": "12a1be56c9ae4abab0a1f946bd40bc68",
    "order_count": 3,
    "time": "2020-07-12T14:00:18.928Z",
    "type": "selectCodeCell"
   },
   {
    "param": {
     "Correlation": [
      1,
      2,
      3
     ]
    },
    "time": "2020-07-12T14:00:18.929Z",
    "type": "exportBtnClick"
   },
   {
    "code": "We can click on visualizations of interest and export them into a separate widget.",
    "id": "f3f9136301e54bd19eac8eb55f9cc158",
    "order_count": 5,
    "time": "2020-07-12T14:00:20.708Z",
    "type": "selectMarkdownCell"
   },
   {
    "code": "bookmarked_vis = df.get_exported()\nbookmarked_vis",
    "id": "a0843739aae2474e95eae3e889cd58c8",
    "order_count": 6,
    "time": "2020-07-12T14:00:21.152Z",
    "type": "selectCodeCell"
   },
   {
    "code": "bookmarked_vis = df.get_exported()\nbookmarked_vis",
    "id": "a0843739aae2474e95eae3e889cd58c8",
    "order_count": 6,
    "time": "2020-07-12T14:00:21.727Z",
    "type": "executeCodeCell"
   },
   {
    "code": "From the dataframe recommendations, the visualization showing the relationship between `GDPPerCapita` and `Footprint` is very interesting. In particular, there is an outlier with extremely high ecological footprint as well as high GDP per capita. So we click on this visualization and click on the export button.",
    "id": "668eb7fb960e451eb57c681baf3de28f",
    "order_count": 7,
    "time": "2020-07-12T14:00:21.734Z",
    "type": "selectMarkdownCell"
   },
   {
    "id": "a0843739aae2474e95eae3e889cd58c8",
    "isPrintLuxDf": false,
    "isPrintPandasDf": false,
    "isPrintView": true,
    "isPrintViewCollection": false,
    "time": "2020-07-12T14:00:21.802Z",
    "type": "completeCodeCell"
   },
   {
    "param": "",
    "time": "2020-07-12T14:00:21.818Z",
    "type": "initWidget"
   },
   {
    "code": "From the dataframe recommendations, the visualization showing the relationship between `GDPPerCapita` and `Footprint` is very interesting. In particular, there is an outlier with extremely high ecological footprint as well as high GDP per capita. So we click on this visualization and click on the export button.",
    "id": "668eb7fb960e451eb57c681baf3de28f",
    "order_count": 7,
    "time": "2020-07-12T14:00:23.863Z",
    "type": "selectMarkdownCell"
   },
   {
    "code": "df",
    "id": "67a5374ba1594f8a96f71e1f4c6145a1",
    "order_count": 8,
    "time": "2020-07-12T14:00:24.527Z",
    "type": "selectCodeCell"
   },
   {
    "code": "df",
    "id": "67a5374ba1594f8a96f71e1f4c6145a1",
    "order_count": 8,
    "time": "2020-07-12T14:00:24.793Z",
    "type": "executeCodeCell"
   },
   {
    "code": "view = df.get_exported()[0]\nview",
    "id": "186e1ccd2ef446cfac8da8d98b1a122c",
    "order_count": 9,
    "time": "2020-07-12T14:00:24.806Z",
    "type": "selectCodeCell"
   },
   {
    "id": "67a5374ba1594f8a96f71e1f4c6145a1",
    "isPrintLuxDf": true,
    "isPrintPandasDf": false,
    "isPrintView": false,
    "isPrintViewCollection": false,
    "time": "2020-07-12T14:00:25.468Z",
    "type": "completeCodeCell"
   },
   {
    "param": "",
    "time": "2020-07-12T14:00:25.488Z",
    "type": "initWidget"
   },
   {
    "param": "",
    "time": "2020-07-12T14:00:25.684Z",
    "type": "initWidget"
   },
   {
    "param": "Correlation",
    "time": "2020-07-12T14:00:28.077Z",
    "type": "startScroll"
   },
   {
    "param": "Correlation",
    "time": "2020-07-12T14:00:28.632Z",
    "type": "stopScroll"
   },
   {
    "param": "Correlation",
    "time": "2020-07-12T14:00:28.670Z",
    "type": "startScroll"
   },
   {
    "param": "Correlation",
    "time": "2020-07-12T14:00:29.298Z",
    "type": "stopScroll"
   },
   {
    "param": "Correlation",
    "time": "2020-07-12T14:00:29.354Z",
    "type": "startScroll"
   },
   {
    "param": "Correlation",
    "time": "2020-07-12T14:00:30.131Z",
    "type": "stopScroll"
   },
   {
    "param": "Correlation",
    "time": "2020-07-12T14:00:30.137Z",
    "type": "startScroll"
   },
   {
    "param": "Correlation",
    "time": "2020-07-12T14:00:31.119Z",
    "type": "stopScroll"
   },
   {
    "param": "Correlation",
    "time": "2020-07-12T14:00:31.470Z",
    "type": "startScroll"
   },
   {
    "param": "Correlation",
    "time": "2020-07-12T14:00:31.849Z",
    "type": "stopScroll"
   },
   {
    "code": "df",
    "id": "67a5374ba1594f8a96f71e1f4c6145a1",
    "order_count": 8,
    "time": "2020-07-12T14:00:32.262Z",
    "type": "selectCodeCell"
   },
   {
    "param": {
     "index": 10,
     "tabTitle": "Correlation",
     "vis": {
      "$schema": "https://vega.github.io/schema/vega-lite/v4.8.1.json",
      "config": {
       "mark": {
        "tooltip": {
         "content": "encoding"
        }
       },
       "view": {
        "continuousHeight": 300,
        "continuousWidth": 400
       }
      },
      "data": {
       "name": "data-cffbaddba8d2091d19631c8240894572"
      },
      "datasets": {
       "data-cffbaddba8d2091d19631c8240894572": [
        {
         "Footprint": 0.8,
         "GDPPerCapita": 691
        },
        {
         "Footprint": 2.2,
         "GDPPerCapita": 4247
        },
        {
         "Footprint": 2.1,
         "GDPPerCapita": 5584
        },
        {
         "Footprint": 3.1,
         "GDPPerCapita": 14357
        },
        {
         "Footprint": 2.2,
         "GDPPerCapita": 3566
        },
        {
         "Footprint": 9.3,
         "GDPPerCapita": 67646
        },
        {
         "Footprint": 6.1,
         "GDPPerCapita": 48324
        },
        {
         "Footprint": 0.7,
         "GDPPerCapita": 859
        },
        {
         "Footprint": 5.1,
         "GDPPerCapita": 6722
        },
        {
         "Footprint": 7.4,
         "GDPPerCapita": 44731
        },
        {
         "Footprint": 2.5,
         "GDPPerCapita": 4674
        },
        {
         "Footprint": 1.4,
         "GDPPerCapita": 808
        },
        {
         "Footprint": 2.3,
         "GDPPerCapita": 2452
        },
        {
         "Footprint": 3,
         "GDPPerCapita": 2645
        },
        {
         "Footprint": 3.1,
         "GDPPerCapita": 4495
        },
        {
         "Footprint": 3.8,
         "GDPPerCapita": 6936
        },
        {
         "Footprint": 3.1,
         "GDPPerCapita": 12157
        },
        {
         "Footprint": 3.3,
         "GDPPerCapita": 7333
        },
        {
         "Footprint": 1.2,
         "GDPPerCapita": 673
        },
        {
         "Footprint": 0.8,
         "GDPPerCapita": 244
        },
        {
         "Footprint": 1.2,
         "GDPPerCapita": 946
        },
        {
         "Footprint": 1.2,
         "GDPPerCapita": 1222
        },
        {
         "Footprint": 8.2,
         "GDPPerCapita": 52738
        },
        {
         "Footprint": 1.5,
         "GDPPerCapita": 973
        },
        {
         "Footprint": 4.4,
         "GDPPerCapita": 15253
        },
        {
         "Footprint": 3.4,
         "GDPPerCapita": 6265
        },
        {
         "Footprint": 1.9,
         "GDPPerCapita": 7885
        },
        {
         "Footprint": 1,
         "GDPPerCapita": 750
        },
        {
         "Footprint": 2.8,
         "GDPPerCapita": 9733
        },
        {
         "Footprint": 1.3,
         "GDPPerCapita": 1281
        },
        {
         "Footprint": 3.9,
         "GDPPerCapita": 13236
        },
        {
         "Footprint": 4.2,
         "GDPPerCapita": 28868
        },
        {
         "Footprint": 5.2,
         "GDPPerCapita": 19641
        },
        {
         "Footprint": 5.5,
         "GDPPerCapita": 57636
        },
        {
         "Footprint": 2.2,
         "GDPPerCapita": 1587
        },
        {
         "Footprint": 1.5,
         "GDPPerCapita": 5967
        },
        {
         "Footprint": 2.2,
         "GDPPerCapita": 5702
        },
        {
         "Footprint": 2.2,
         "GDPPerCapita": 3226
        },
        {
         "Footprint": 2.1,
         "GDPPerCapita": 3922
        },
        {
         "Footprint": 6.9,
         "GDPPerCapita": 17491
        },
        {
         "Footprint": 1,
         "GDPPerCapita": 470
        },
        {
         "Footprint": 5.9,
         "GDPPerCapita": 47416
        },
        {
         "Footprint": 5.1,
         "GDPPerCapita": 40850
        },
        {
         "Footprint": 2,
         "GDPPerCapita": 10642
        },
        {
         "Footprint": 1.6,
         "GDPPerCapita": 4143
        },
        {
         "Footprint": 5.3,
         "GDPPerCapita": 44011
        },
        {
         "Footprint": 2,
         "GDPPerCapita": 1642
        },
        {
         "Footprint": 4.4,
         "GDPPerCapita": 22243
        },
        {
         "Footprint": 1.9,
         "GDPPerCapita": 3279
        },
        {
         "Footprint": 1.4,
         "GDPPerCapita": 487
        },
        {
         "Footprint": 0.6,
         "GDPPerCapita": 767
        },
        {
         "Footprint": 1.7,
         "GDPPerCapita": 2395
        },
        {
         "Footprint": 8.8,
         "GDPPerCapita": 36708
        },
        {
         "Footprint": 2.9,
         "GDPPerCapita": 12820
        },
        {
         "Footprint": 6.4,
         "GDPPerCapita": 44259
        },
        {
         "Footprint": 1.2,
         "GDPPerCapita": 1450
        },
        {
         "Footprint": 1.6,
         "GDPPerCapita": 3701
        },
        {
         "Footprint": 2.8,
         "GDPPerCapita": 7711
        },
        {
         "Footprint": 1.9,
         "GDPPerCapita": 6649
        },
        {
         "Footprint": 5.6,
         "GDPPerCapita": 48977
        },
        {
         "Footprint": 6.2,
         "GDPPerCapita": 32819
        },
        {
         "Footprint": 4.6,
         "GDPPerCapita": 34844
        },
        {
         "Footprint": 1.9,
         "GDPPerCapita": 5446
        },
        {
         "Footprint": 5,
         "GDPPerCapita": 46679
        },
        {
         "Footprint": 5.6,
         "GDPPerCapita": 12120
        },
        {
         "Footprint": 1,
         "GDPPerCapita": 1185
        },
        {
         "Footprint": 1.9,
         "GDPPerCapita": 1178
        },
        {
         "Footprint": 6.3,
         "GDPPerCapita": 13775
        },
        {
         "Footprint": 3.8,
         "GDPPerCapita": 9729
        },
        {
         "Footprint": 1.7,
         "GDPPerCapita": 1159
        },
        {
         "Footprint": 1.2,
         "GDPPerCapita": 414
        },
        {
         "Footprint": 5.8,
         "GDPPerCapita": 14343
        },
        {
         "Footprint": 15.8,
         "GDPPerCapita": 105447
        },
        {
         "Footprint": 3.3,
         "GDPPerCapita": 4710
        },
        {
         "Footprint": 0.8,
         "GDPPerCapita": 270
        },
        {
         "Footprint": 3.7,
         "GDPPerCapita": 10835
        },
        {
         "Footprint": 4.4,
         "GDPPerCapita": 21176
        },
        {
         "Footprint": 2.5,
         "GDPPerCapita": 1283
        },
        {
         "Footprint": 3.5,
         "GDPPerCapita": 9114
        },
        {
         "Footprint": 2.9,
         "GDPPerCapita": 9703
        },
        {
         "Footprint": 6.1,
         "GDPPerCapita": 4377
        },
        {
         "Footprint": 3.8,
         "GDPPerCapita": 6587
        },
        {
         "Footprint": 1.7,
         "GDPPerCapita": 2931
        },
        {
         "Footprint": 0.9,
         "GDPPerCapita": 565
        },
        {
         "Footprint": 1.4,
         "GDPPerCapita": 1421
        },
        {
         "Footprint": 2.5,
         "GDPPerCapita": 5680
        },
        {
         "Footprint": 1,
         "GDPPerCapita": 685
        },
        {
         "Footprint": 5.3,
         "GDPPerCapita": 49475
        },
        {
         "Footprint": 5.6,
         "GDPPerCapita": 39505
        },
        {
         "Footprint": 1.4,
         "GDPPerCapita": 1780
        },
        {
         "Footprint": 1.6,
         "GDPPerCapita": 394
        },
        {
         "Footprint": 1.2,
         "GDPPerCapita": 2740
        },
        {
         "Footprint": 5,
         "GDPPerCapita": 101564
        },
        {
         "Footprint": 7.5,
         "GDPPerCapita": 21534
        },
        {
         "Footprint": 0.8,
         "GDPPerCapita": 1266
        },
        {
         "Footprint": 1.2,
         "GDPPerCapita": 2783
        },
        {
         "Footprint": 2.8,
         "GDPPerCapita": 10139
        },
        {
         "Footprint": 4.2,
         "GDPPerCapita": 3858
        },
        {
         "Footprint": 2.3,
         "GDPPerCapita": 6389
        },
        {
         "Footprint": 1.1,
         "GDPPerCapita": 2605
        },
        {
         "Footprint": 4.4,
         "GDPPerCapita": 13142
        },
        {
         "Footprint": 3.9,
         "GDPPerCapita": 20577
        },
        {
         "Footprint": 1.3,
         "GDPPerCapita": 3191
        },
        {
         "Footprint": 2.7,
         "GDPPerCapita": 8577
        },
        {
         "Footprint": 5.7,
         "GDPPerCapita": 14079
        },
        {
         "Footprint": 0.9,
         "GDPPerCapita": 667
        },
        {
         "Footprint": 1.2,
         "GDPPerCapita": 1019
        },
        {
         "Footprint": 2.7,
         "GDPPerCapita": 5659
        },
        {
         "Footprint": 1.2,
         "GDPPerCapita": 619
        },
        {
         "Footprint": 4.1,
         "GDPPerCapita": 17207
        },
        {
         "Footprint": 5.8,
         "GDPPerCapita": 22478
        },
        {
         "Footprint": 3.3,
         "GDPPerCapita": 7592
        },
        {
         "Footprint": 5.7,
         "GDPPerCapita": 24454
        },
        {
         "Footprint": 3.7,
         "GDPPerCapita": 28648
        },
        {
         "Footprint": 1.3,
         "GDPPerCapita": 3351
        },
        {
         "Footprint": 4.3,
         "GDPPerCapita": 9422
        },
        {
         "Footprint": 2,
         "GDPPerCapita": 3989
        },
        {
         "Footprint": 7.3,
         "GDPPerCapita": 57134
        },
        {
         "Footprint": 5.8,
         "GDPPerCapita": 83209
        },
        {
         "Footprint": 1.5,
         "GDPPerCapita": 2080
        },
        {
         "Footprint": 0.9,
         "GDPPerCapita": 962
        },
        {
         "Footprint": 1.3,
         "GDPPerCapita": 828
        },
        {
         "Footprint": 2.7,
         "GDPPerCapita": 5918
        },
        {
         "Footprint": 1.1,
         "GDPPerCapita": 580
        },
        {
         "Footprint": 7.9,
         "GDPPerCapita": 18322
        },
        {
         "Footprint": 2.3,
         "GDPPerCapita": 4188
        },
        {
         "Footprint": 3.3,
         "GDPPerCapita": 10646
        },
        {
         "Footprint": 5.5,
         "GDPPerCapita": 6798
        },
        {
         "Footprint": 1.2,
         "GDPPerCapita": 656
        },
        {
         "Footprint": 2.8,
         "GDPPerCapita": 3855
        },
        {
         "Footprint": 4.9,
         "GDPPerCapita": 41295
        },
        {
         "Footprint": 8.2,
         "GDPPerCapita": 51457
        },
        {
         "Footprint": 2.9,
         "GDPPerCapita": 15128
        },
        {
         "Footprint": 2.3,
         "GDPPerCapita": 1719
        },
        {
         "Footprint": 1.9,
         "GDPPerCapita": 3158
        },
        {
         "Footprint": 3.6,
         "GDPPerCapita": 12772
        },
        {
         "Footprint": 1.7,
         "GDPPerCapita": 1755
        },
        {
         "Footprint": 1,
         "GDPPerCapita": 1289
        },
        {
         "Footprint": 1,
         "GDPPerCapita": 1687
        },
        {
         "Footprint": 1.4,
         "GDPPerCapita": 851
        }
       ]
      },
      "encoding": {
       "x": {
        "field": "GDPPerCapita",
        "scale": {
         "domain": [
          244,
          105447
         ]
        },
        "type": "quantitative"
       },
       "y": {
        "field": "Footprint",
        "scale": {
         "domain": [
          0.6,
          15.8
         ]
        },
        "type": "quantitative"
       }
      },
      "height": 150,
      "mark": "circle",
      "selection": {
       "selector029": {
        "bind": "scales",
        "encodings": [
         "x",
         "y"
        ],
        "type": "interval"
       }
      },
      "width": 160
     }
    },
    "time": "2020-07-12T14:00:32.263Z",
    "type": "clickVis"
   },
   {
    "code": "df",
    "id": "67a5374ba1594f8a96f71e1f4c6145a1",
    "order_count": 8,
    "time": "2020-07-12T14:00:33.378Z",
    "type": "selectCodeCell"
   },
   {
    "param": {
     "Correlation": [
      10
     ]
    },
    "time": "2020-07-12T14:00:33.380Z",
    "type": "exportBtnClick"
   },
   {
    "code": "view = df.get_exported()[0]\nview",
    "id": "186e1ccd2ef446cfac8da8d98b1a122c",
    "order_count": 9,
    "time": "2020-07-12T14:00:35.472Z",
    "type": "selectCodeCell"
   },
   {
    "code": "view = df.get_exported()[0]\nview",
    "id": "186e1ccd2ef446cfac8da8d98b1a122c",
    "order_count": 9,
    "time": "2020-07-12T14:00:35.862Z",
    "type": "executeCodeCell"
   },
   {
    "code": "### Setting Views as Context",
    "id": "433a4a78ea7e48c8983408162854d502",
    "order_count": 10,
    "time": "2020-07-12T14:00:35.869Z",
    "type": "selectMarkdownCell"
   },
   {
    "id": "186e1ccd2ef446cfac8da8d98b1a122c",
    "isPrintLuxDf": false,
    "isPrintPandasDf": false,
    "isPrintView": true,
    "isPrintViewCollection": false,
    "time": "2020-07-12T14:00:35.903Z",
    "type": "completeCodeCell"
   },
   {
    "param": "",
    "time": "2020-07-12T14:00:35.918Z",
    "type": "initWidget"
   },
   {
    "code": "Now that we have exported the view, we can set the new context of the dataframe to be the view to get more recommendations related to this visualization.",
    "id": "d32ae31d14954f8b88711fbb89056866",
    "order_count": 11,
    "time": "2020-07-12T14:00:37.149Z",
    "type": "selectMarkdownCell"
   },
   {
    "code": "df.set_context_as_view(view)\ndf",
    "id": "e08b5df7007549379d93828434e743b1",
    "order_count": 12,
    "time": "2020-07-12T14:00:37.889Z",
    "type": "selectCodeCell"
   },
   {
    "code": "df.set_context_as_view(view)\ndf",
    "id": "e08b5df7007549379d93828434e743b1",
    "order_count": 12,
    "time": "2020-07-12T14:00:38.409Z",
    "type": "executeCodeCell"
   },
   {
    "code": "### Exporting visualization as Code",
    "id": "2deba987e70b465f8da4bbdc2d56adea",
    "order_count": 13,
    "time": "2020-07-12T14:00:38.418Z",
    "type": "selectMarkdownCell"
   },
   {
    "id": "e08b5df7007549379d93828434e743b1",
    "isPrintLuxDf": true,
    "isPrintPandasDf": false,
    "isPrintView": false,
    "isPrintViewCollection": false,
    "time": "2020-07-12T14:00:38.930Z",
    "type": "completeCodeCell"
   },
   {
    "param": "",
    "time": "2020-07-12T14:00:38.941Z",
    "type": "initWidget"
   },
   {
    "param": "",
    "time": "2020-07-12T14:00:39.126Z",
    "type": "initWidget"
   },
   {
    "code": "",
    "id": "6e307f1d840d4448b1f23af063960c2b",
    "order_count": 14,
    "time": "2020-07-12T14:00:44.048Z",
    "type": "selectCodeCell"
   },
   {
    "code": "",
    "id": "6e307f1d840d4448b1f23af063960c2b",
    "order_count": 14,
    "time": "2020-07-12T14:00:44.417Z",
    "type": "editCodeCell"
   },
   {
    "code": "view.to_Altair()",
    "id": "6e307f1d840d4448b1f23af063960c2b",
    "order_count": 14,
    "time": "2020-07-12T14:00:56.960Z",
    "type": "executeCodeCell"
   },
   {
    "code": "In Lux, you can expo\nas View objects or as their corresponding VegaLite or Altair code specification",
    "id": "1eedc53f98f24410b696df7c7197d2ab",
    "order_count": 15,
    "time": "2020-07-12T14:00:56.996Z",
    "type": "selectCodeCell"
   },
   {
    "id": "6e307f1d840d4448b1f23af063960c2b",
    "isPrintLuxDf": false,
    "isPrintPandasDf": false,
    "isPrintView": false,
    "isPrintViewCollection": false,
    "time": "2020-07-12T14:00:57.008Z",
    "type": "completeCodeCell"
   },
   {
    "code": "view.to_Altair()",
    "id": "6e307f1d840d4448b1f23af063960c2b",
    "order_count": 14,
    "time": "2020-07-12T14:00:59.062Z",
    "type": "selectCodeCell"
   },
   {
    "code": "view.to_Altair()",
    "id": "6e307f1d840d4448b1f23af063960c2b",
    "order_count": 14,
    "time": "2020-07-12T14:00:59.068Z",
    "type": "editCodeCell"
   },
   {
    "code": "print (view.to_Altair())",
    "id": "6e307f1d840d4448b1f23af063960c2b",
    "order_count": 14,
    "time": "2020-07-12T14:01:02.098Z",
    "type": "executeCodeCell"
   },
   {
    "code": "In Lux, you can expo\nas View objects or as their corresponding VegaLite or Altair code specification",
    "id": "1eedc53f98f24410b696df7c7197d2ab",
    "order_count": 15,
    "time": "2020-07-12T14:01:02.134Z",
    "type": "selectCodeCell"
   },
   {
    "id": "6e307f1d840d4448b1f23af063960c2b",
    "isPrintLuxDf": false,
    "isPrintPandasDf": false,
    "isPrintView": false,
    "isPrintViewCollection": false,
    "time": "2020-07-12T14:01:02.145Z",
    "type": "completeCodeCell"
   },
   {
    "code": "print (view.to_Altair())",
    "id": "6e307f1d840d4448b1f23af063960c2b",
    "order_count": 14,
    "time": "2020-07-12T14:01:05.037Z",
    "type": "selectCodeCell"
   },
   {
    "code": "In Lux, you can expo\nas View objects or as their corresponding VegaLite or Altair code specification",
    "id": "1eedc53f98f24410b696df7c7197d2ab",
    "order_count": 15,
    "time": "2020-07-12T14:01:05.499Z",
    "type": "selectCodeCell"
   },
   {
    "code": "In Lux, you can expo\nas View objects or as their corresponding VegaLite or Altair code specification",
    "id": "1eedc53f98f24410b696df7c7197d2ab",
    "order_count": 15,
    "time": "2020-07-12T14:01:05.505Z",
    "type": "editCodeCell"
   },
   {
    "code": "import altair as alt\n\nchart = alt.Chart(df).mark_circle().encode(\n    x=alt.X('GDPPerCapita',scale=alt.Scale(domain=(244, 105447)),type='quantitative'),\n    y=alt.Y('Footprint',scale=alt.Scale(domain=(0.6, 15.8)),type='quantitative')\n)\nchart = chart.configure_mark(tooltip=alt.TooltipContent('encoding')) # Setting tooltip as non-null\nchart = chart.interactive() # Enable Zooming and Panning\n\nchart",
    "id": "1eedc53f98f24410b696df7c7197d2ab",
    "order_count": 15,
    "time": "2020-07-12T14:01:07.204Z",
    "type": "executeCodeCell"
   },
   {
    "code": "### Accessing Widget State",
    "id": "c930f0a57524480d9a71843dd5a4c6a4",
    "order_count": 16,
    "time": "2020-07-12T14:01:07.234Z",
    "type": "selectMarkdownCell"
   },
   {
    "id": "1eedc53f98f24410b696df7c7197d2ab",
    "isPrintLuxDf": false,
    "isPrintPandasDf": false,
    "isPrintView": false,
    "isPrintViewCollection": false,
    "time": "2020-07-12T14:01:07.372Z",
    "type": "completeCodeCell"
   },
   {
    "code": "import altair as alt\n\nchart = alt.Chart(df).mark_circle().encode(\n    x=alt.X('GDPPerCapita',scale=alt.Scale(domain=(244, 105447)),type='quantitative'),\n    y=alt.Y('Footprint',scale=alt.Scale(domain=(0.6, 15.8)),type='quantitative')\n)\nchart = chart.configure_mark(tooltip=alt.TooltipContent('encoding')) # Setting tooltip as non-null\nchart = chart.interactive() # Enable Zooming and Panning\n\nchart",
    "id": "1eedc53f98f24410b696df7c7197d2ab",
    "order_count": 15,
    "time": "2020-07-12T14:01:11.750Z",
    "type": "selectCodeCell"
   },
   {
    "code": "",
    "id": "019355ee3924488a8e0d43bff478b10b",
    "order_count": 16,
    "time": "2020-07-12T14:01:13.256Z",
    "type": "selectCodeCell"
   },
   {
    "code": "",
    "id": "019355ee3924488a8e0d43bff478b10b",
    "order_count": 16,
    "time": "2020-07-12T14:01:13.668Z",
    "type": "editCodeCell"
   },
   {
    "code": "print (view.to_Altair())",
    "id": "6e307f1d840d4448b1f23af063960c2b",
    "order_count": 14,
    "time": "2020-07-12T14:01:17.536Z",
    "type": "selectCodeCell"
   },
   {
    "code": "print (view.to_Altair())",
    "id": "6e307f1d840d4448b1f23af063960c2b",
    "order_count": 14,
    "time": "2020-07-12T14:01:17.542Z",
    "type": "editCodeCell"
   },
   {
    "code": "import altair as alt\n\nchart = alt.Chart(df).mark_circle().encode(\n    x=alt.X('GDPPerCapita',scale=alt.Scale(domain=(244, 105447)),type='quantitative'),\n    y=alt.Y('Footprint',scale=alt.Scale(domain=(0.6, 15.8)),type='quantitative')\n)\nchart = chart.configure_mark(tooltip=alt.TooltipContent('encoding')) # Setting tooltip as non-null\nchart = chart.interactive() # Enable Zooming and Panning\n\nchart",
    "id": "019355ee3924488a8e0d43bff478b10b",
    "order_count": 16,
    "time": "2020-07-12T14:01:19.363Z",
    "type": "selectCodeCell"
   },
   {
    "code": "import altair as alt\n\nchart = alt.Chart(df).mark_circle().encode(\n    x=alt.X('GDPPerCapita',scale=alt.Scale(domain=(244, 105447)),type='quantitative'),\n    y=alt.Y('Footprint',scale=alt.Scale(domain=(0.6, 15.8)),type='quantitative')\n)\nchart = chart.configure_mark(tooltip=alt.TooltipContent('encoding')) # Setting tooltip as non-null\nchart = chart.interactive() # Enable Zooming and Panning\n\nchart",
    "id": "019355ee3924488a8e0d43bff478b10b",
    "order_count": 16,
    "time": "2020-07-12T14:01:19.370Z",
    "type": "editCodeCell"
   },
   {
    "code": "print (view.to_Altair())",
    "id": "019355ee3924488a8e0d43bff478b10b",
    "order_count": 16,
    "time": "2020-07-12T14:01:21.216Z",
    "type": "selectCodeCell"
   },
   {
    "code": "",
    "id": "22434fac350e44ee82b25c1ebaa95b77",
    "order_count": 16,
    "time": "2020-07-12T14:01:21.388Z",
    "type": "selectCodeCell"
   },
   {
    "code": "",
    "id": "22434fac350e44ee82b25c1ebaa95b77",
    "order_count": 16,
    "time": "2020-07-12T14:01:21.621Z",
    "type": "editCodeCell"
   },
   {
    "code": "import altair as alt\n\nchart = alt.Chart(df).mark_circle().encode(\n    x=alt.X('GDPPerCapita',scale=alt.Scale(domain=(244, 105447)),type='quantitative'),\n    y=alt.Y('Footprint',scale=alt.Scale(domain=(0.6, 15.8)),type='quantitative')\n)\nchart = chart.configure_mark(tooltip=alt.TooltipContent('encoding')) # Setting tooltip as non-null\nchart = chart.interactive() # Enable Zooming and Panning\n\nchart",
    "id": "1eedc53f98f24410b696df7c7197d2ab",
    "order_count": 15,
    "time": "2020-07-12T14:01:26.303Z",
    "type": "selectCodeCell"
   },
   {
    "code": "import altair as alt\n\nchart = alt.Chart(df).mark_circle().encode(\n    x=alt.X('GDPPerCapita',scale=alt.Scale(domain=(244, 105447)),type='quantitative'),\n    y=alt.Y('Footprint',scale=alt.Scale(domain=(0.6, 15.8)),type='quantitative')\n)\nchart = chart.configure_mark(tooltip=alt.TooltipContent('encoding')) # Setting tooltip as non-null\nchart = chart.interactive() # Enable Zooming and Panning\n\nchart",
    "id": "1eedc53f98f24410b696df7c7197d2ab",
    "order_count": 15,
    "time": "2020-07-12T14:01:26.311Z",
    "type": "editCodeCell"
   },
   {
    "code": "print (view.to_Altair())",
    "id": "6e307f1d840d4448b1f23af063960c2b",
    "order_count": 14,
    "time": "2020-07-12T14:01:27.469Z",
    "type": "selectCodeCell"
   },
   {
    "code": "print (view.to_Altair())",
    "id": "6e307f1d840d4448b1f23af063960c2b",
    "order_count": 14,
    "time": "2020-07-12T14:01:27.474Z",
    "type": "editCodeCell"
   },
   {
    "code": "### Exporting visualization as Code",
    "id": "2deba987e70b465f8da4bbdc2d56adea",
    "order_count": 13,
    "time": "2020-07-12T14:01:29.915Z",
    "type": "selectMarkdownCell"
   },
   {
    "code": "### Exporting visualization as Code",
    "id": "2deba987e70b465f8da4bbdc2d56adea",
    "order_count": 13,
    "time": "2020-07-12T14:01:30.644Z",
    "type": "selectMarkdownCell"
   },
   {
    "code": "### Exporting visualization as Code",
    "id": "2deba987e70b465f8da4bbdc2d56adea",
    "order_count": 13,
    "time": "2020-07-12T14:01:30.836Z",
    "type": "selectMarkdownCell"
   },
   {
    "code": "### Exporting visualization as Code",
    "id": "2deba987e70b465f8da4bbdc2d56adea",
    "order_count": 13,
    "time": "2020-07-12T14:01:32.330Z",
    "type": "editMarkdownCell"
   },
   {
    "code": "### Exporting visualization as Code",
    "id": "2deba987e70b465f8da4bbdc2d56adea",
    "order_count": 13,
    "time": "2020-07-12T14:01:33.971Z",
    "type": "selectMarkdownCell"
   },
   {
    "code": "### Exporting visualization as Code",
    "id": "2deba987e70b465f8da4bbdc2d56adea",
    "order_count": 13,
    "time": "2020-07-12T14:01:35.684Z",
    "type": "selectMarkdownCell"
   },
   {
    "code": "print (view.to_Altair())",
    "id": "6e307f1d840d4448b1f23af063960c2b",
    "order_count": 14,
    "time": "2020-07-12T14:01:36.997Z",
    "type": "selectCodeCell"
   },
   {
    "code": "### Exporting Vsualization as Code",
    "id": "2deba987e70b465f8da4bbdc2d56adea",
    "order_count": 13,
    "time": "2020-07-12T14:01:37.756Z",
    "type": "selectMarkdownCell"
   },
   {
    "code": "### Exporting Vsualization as Code",
    "id": "2deba987e70b465f8da4bbdc2d56adea",
    "order_count": 13,
    "time": "2020-07-12T14:01:38.169Z",
    "type": "editMarkdownCell"
   },
   {
    "code": "print (view.to_Altair())",
    "id": "6e307f1d840d4448b1f23af063960c2b",
    "order_count": 14,
    "time": "2020-07-12T14:01:39.558Z",
    "type": "selectCodeCell"
   },
   {
    "code": "",
    "id": "6294449a8aaa40c6824962368a9feda9",
    "order_count": 14,
    "time": "2020-07-12T14:01:41.369Z",
    "type": "selectCodeCell"
   },
   {
    "code": "",
    "id": "6294449a8aaa40c6824962368a9feda9",
    "order_count": 14,
    "time": "2020-07-12T14:01:41.546Z",
    "type": "editCodeCell"
   },
   {
    "code": "Views can be exported to A",
    "id": "b308be9bdde74c85b656868fff58f60d",
    "order_count": 14,
    "time": "2020-07-12T14:02:41.907Z",
    "type": "editMarkdownCell"
   },
   {
    "code": "Views can be exported to Altair",
    "id": "b308be9bdde74c85b656868fff58f60d",
    "order_count": 14,
    "time": "2020-07-12T14:02:48.407Z",
    "type": "editMarkdownCell"
   },
   {
    "code": "Views can be exported to Altair",
    "id": "b308be9bdde74c85b656868fff58f60d",
    "order_count": 14,
    "time": "2020-07-12T14:02:50.009Z",
    "type": "selectMarkdownCell"
   },
   {
    "code": "Views can be exported to code in [Altair](https://altair-viz.github.io/) or as Vega-Lite",
    "id": "b308be9bdde74c85b656868fff58f60d",
    "order_count": 14,
    "time": "2020-07-12T14:03:10.333Z",
    "type": "editMarkdownCell"
   },
   {
    "code": "Views can be exported to code in [Altair](https://altair-viz.github.io/) or as Vega-Lite",
    "id": "b308be9bdde74c85b656868fff58f60d",
    "order_count": 14,
    "time": "2020-07-12T14:03:12.199Z",
    "type": "selectMarkdownCell"
   },
   {
    "code": "print (view.to_Altair())",
    "id": "6e307f1d840d4448b1f23af063960c2b",
    "order_count": 15,
    "time": "2020-07-12T14:03:18.453Z",
    "type": "selectCodeCell"
   },
   {
    "code": "Views can be exported to code in [Altair](https://altair-viz.github.io/) or as [Vega-Lite](https://vega.github.io/vega-lite/) specification.",
    "id": "b308be9bdde74c85b656868fff58f60d",
    "order_count": 14,
    "time": "2020-07-12T14:03:21.168Z",
    "type": "selectMarkdownCell"
   },
   {
    "code": "Views can be exported to code in [Altair](https://altair-viz.github.io/) or as [Vega-Lite](https://vega.github.io/vega-lite/) specification.",
    "id": "b308be9bdde74c85b656868fff58f60d",
    "order_count": 14,
    "time": "2020-07-12T14:03:21.355Z",
    "type": "selectMarkdownCell"
   },
   {
    "code": "Views can be exported to code in [Altair](https://altair-viz.github.io/) or as [Vega-Lite](https://vega.github.io/vega-lite/) specification.",
    "id": "b308be9bdde74c85b656868fff58f60d",
    "order_count": 14,
    "time": "2020-07-12T14:03:22.031Z",
    "type": "editMarkdownCell"
   },
   {
    "code": "Views can be exported to code in [Altair](https://altair-viz.github.io/) or as [Vega-Lite](https://vega.github.io/vega-lite/) specification.",
    "id": "b308be9bdde74c85b656868fff58f60d",
    "order_count": 14,
    "time": "2020-07-12T14:03:22.191Z",
    "type": "selectMarkdownCell"
   },
   {
    "code": "print (view.to_Altair())",
    "id": "6e307f1d840d4448b1f23af063960c2b",
    "order_count": 15,
    "time": "2020-07-12T14:03:43.556Z",
    "type": "selectCodeCell"
   },
   {
    "time": "2020-07-12T14:04:20.711Z",
    "type": "kernelReady"
   },
   {
    "code": "print (view.to_Altair())",
    "id": "6e307f1d840d4448b1f23af063960c2b",
    "order_count": 15,
    "time": "2020-07-12T14:05:09.946Z",
    "type": "selectCodeCell"
   },
   {
    "code": "print (view.to_Altair())",
    "id": "6e307f1d840d4448b1f23af063960c2b",
    "order_count": 15,
    "time": "2020-07-12T14:05:10.189Z",
    "type": "editCodeCell"
   },
   {
    "code": "print (view.to_Altair())",
    "id": "6e307f1d840d4448b1f23af063960c2b",
    "order_count": 15,
    "time": "2020-07-12T14:05:13.780Z",
    "type": "executeCodeCell"
   },
   {
    "code": "import altair as alt\n\nchart = alt.Chart(df).mark_circle().encode(\n    x=alt.X('GDPPerCapita',scale=alt.Scale(domain=(244, 105447)),type='quantitative'),\n    y=alt.Y('Footprint',scale=alt.Scale(domain=(0.6, 15.8)),type='quantitative')\n)\nchart = chart.configure_mark(tooltip=alt.TooltipContent('encoding')) # Setting tooltip as non-null\nchart = chart.interactive() # Enable Zooming and Panning\n\nchart",
    "id": "1eedc53f98f24410b696df7c7197d2ab",
    "order_count": 16,
    "time": "2020-07-12T14:05:13.824Z",
    "type": "selectCodeCell"
   },
   {
    "id": "6e307f1d840d4448b1f23af063960c2b",
    "isPrintLuxDf": false,
    "isPrintPandasDf": false,
    "isPrintView": false,
    "isPrintViewCollection": false,
    "time": "2020-07-12T14:05:13.837Z",
    "type": "completeCodeCell"
   },
   {
    "code": "import altair as alt\n\nchart = alt.Chart(df).mark_circle().encode(\n    x=alt.X('GDPPerCapita',scale=alt.Scale(domain=(244, 105447)),type='quantitative'),\n    y=alt.Y('Footprint',scale=alt.Scale(domain=(0.6, 15.8)),type='quantitative')\n)\nchart = chart.configure_mark(tooltip=alt.TooltipContent('encoding')) # Setting tooltip as non-null\nchart = chart.interactive() # Enable Zooming and Panning\n\nchart",
    "id": "1eedc53f98f24410b696df7c7197d2ab",
    "order_count": 16,
    "time": "2020-07-12T14:05:15.351Z",
    "type": "executeCodeCell"
   },
   {
    "code": "Or you can ",
    "id": "22434fac350e44ee82b25c1ebaa95b77",
    "order_count": 17,
    "time": "2020-07-12T14:05:15.368Z",
    "type": "selectCodeCell"
   },
   {
    "id": "1eedc53f98f24410b696df7c7197d2ab",
    "isPrintLuxDf": false,
    "isPrintPandasDf": false,
    "isPrintView": false,
    "isPrintViewCollection": false,
    "time": "2020-07-12T14:05:15.530Z",
    "type": "completeCodeCell"
   },
   {
    "code": "Or you can ",
    "id": "22434fac350e44ee82b25c1ebaa95b77",
    "order_count": 17,
    "time": "2020-07-12T14:05:16.354Z",
    "type": "executeCodeCell"
   },
   {
    "code": "print (view.to_Altair())",
    "id": "019355ee3924488a8e0d43bff478b10b",
    "order_count": 18,
    "time": "2020-07-12T14:05:16.369Z",
    "type": "selectCodeCell"
   },
   {
    "id": "22434fac350e44ee82b25c1ebaa95b77",
    "isPrintLuxDf": false,
    "isPrintPandasDf": false,
    "isPrintView": false,
    "isPrintViewCollection": false,
    "time": "2020-07-12T14:05:16.379Z",
    "type": "completeCodeCell"
   },
   {
    "code": "Or you can ",
    "id": "22434fac350e44ee82b25c1ebaa95b77",
    "order_count": 17,
    "time": "2020-07-12T14:05:18.032Z",
    "type": "selectCodeCell"
   },
   {
    "code": "Or you can ",
    "id": "22434fac350e44ee82b25c1ebaa95b77",
    "order_count": 17,
    "time": "2020-07-12T14:05:18.440Z",
    "type": "editCodeCell"
   },
   {
    "code": "df.set_context_as_view(view)\ndf",
    "id": "e08b5df7007549379d93828434e743b1",
    "order_count": 12,
    "time": "2020-07-12T14:05:36.649Z",
    "type": "selectCodeCell"
   },
   {
    "param": "Filter",
    "time": "2020-07-12T14:05:36.651Z",
    "type": "switchTab"
   },
   {
    "code": "df.set_context_as_view(view)\ndf",
    "id": "e08b5df7007549379d93828434e743b1",
    "order_count": 12,
    "time": "2020-07-12T14:05:38.125Z",
    "type": "selectCodeCell"
   },
   {
    "param": "Enhance",
    "time": "2020-07-12T14:05:38.126Z",
    "type": "switchTab"
   },
   {
    "code": "print (view.to_Altair())",
    "id": "6e307f1d840d4448b1f23af063960c2b",
    "order_count": 15,
    "time": "2020-07-12T14:05:40.021Z",
    "type": "selectCodeCell"
   },
   {
    "code": "df",
    "id": "67a5374ba1594f8a96f71e1f4c6145a1",
    "order_count": 8,
    "time": "2020-07-12T14:05:49.812Z",
    "type": "selectCodeCell"
   },
   {
    "param": "Distribution",
    "time": "2020-07-12T14:05:49.814Z",
    "type": "switchTab"
   },
   {
    "code": "df",
    "id": "67a5374ba1594f8a96f71e1f4c6145a1",
    "order_count": 8,
    "time": "2020-07-12T14:05:51.268Z",
    "type": "selectCodeCell"
   },
   {
    "param": "Correlation",
    "time": "2020-07-12T14:05:51.269Z",
    "type": "switchTab"
   },
   {
    "code": "df.set_context_as_view(view)\ndf",
    "id": "e08b5df7007549379d93828434e743b1",
    "order_count": 12,
    "time": "2020-07-12T14:05:53.837Z",
    "type": "selectCodeCell"
   },
   {
    "code": "print (view.to_Altair())",
    "id": "6e307f1d840d4448b1f23af063960c2b",
    "order_count": 15,
    "time": "2020-07-12T14:05:55.976Z",
    "type": "selectCodeCell"
   },
   {
    "code": "import altair as alt\n\nchart = alt.Chart(df).mark_circle().encode(\n    x=alt.X('GDPPerCapita',scale=alt.Scale(domain=(244, 105447)),type='quantitative'),\n    y=alt.Y('Footprint',scale=alt.Scale(domain=(0.6, 15.8)),type='quantitative')\n)\nchart = chart.configure_mark(tooltip=alt.TooltipContent('encoding')) # Setting tooltip as non-null\nchart = chart.interactive() # Enable Zooming and Panning\n\nchart",
    "id": "1eedc53f98f24410b696df7c7197d2ab",
    "order_count": 16,
    "time": "2020-07-12T14:05:58.321Z",
    "type": "selectCodeCell"
   },
   {
    "code": "import altair as alt\n\nchart = alt.Chart(df).mark_circle().encode(\n    x=alt.X('GDPPerCapita',scale=alt.Scale(domain=(244, 105447)),type='quantitative'),\n    y=alt.Y('Footprint',scale=alt.Scale(domain=(0.6, 15.8)),type='quantitative')\n)\nchart = chart.configure_mark(tooltip=alt.TooltipContent('encoding')) # Setting tooltip as non-null\nchart = chart.interactive() # Enable Zooming and Panning\n\nchart",
    "id": "1eedc53f98f24410b696df7c7197d2ab",
    "order_count": 16,
    "time": "2020-07-12T14:05:58.332Z",
    "type": "editCodeCell"
   },
   {
    "code": "Or you can export this as Vega-Lite specification",
    "id": "22434fac350e44ee82b25c1ebaa95b77",
    "order_count": 17,
    "time": "2020-07-12T14:06:01.423Z",
    "type": "selectCodeCell"
   },
   {
    "code": "Or you can export this as Vega-Lite specification",
    "id": "22434fac350e44ee82b25c1ebaa95b77",
    "order_count": 17,
    "time": "2020-07-12T14:06:01.429Z",
    "type": "editCodeCell"
   },
   {
    "code": "print (view.to_Altair())",
    "id": "019355ee3924488a8e0d43bff478b10b",
    "order_count": 18,
    "time": "2020-07-12T14:06:03.339Z",
    "type": "selectCodeCell"
   },
   {
    "code": "Or you can export this as Vega-Lite specification",
    "id": "96c8e24c37f841e78281360b1a352d19",
    "order_count": 17,
    "time": "2020-07-12T14:06:03.882Z",
    "type": "selectMarkdownCell"
   },
   {
    "code": "Or you can export this as Vega-Lite specification",
    "id": "96c8e24c37f841e78281360b1a352d19",
    "order_count": 17,
    "time": "2020-07-12T14:06:04.403Z",
    "type": "editMarkdownCell"
   },
   {
    "code": "Or you can export this as Vega-Lite specification",
    "id": "96c8e24c37f841e78281360b1a352d19",
    "order_count": 17,
    "time": "2020-07-12T14:06:11.444Z",
    "type": "editMarkdownCell"
   },
   {
    "code": "Or you can export this as Vega-Lite specification\n\n",
    "id": "96c8e24c37f841e78281360b1a352d19",
    "order_count": 17,
    "time": "2020-07-12T14:06:19.683Z",
    "type": "selectMarkdownCell"
   },
   {
    "code": "Or you can export this as Vega-Lite specification\n\n",
    "id": "96c8e24c37f841e78281360b1a352d19",
    "order_count": 17,
    "time": "2020-07-12T14:06:27.806Z",
    "type": "selectMarkdownCell"
   },
   {
    "code": "Or you can export this as Vega-Lite specification and view an\n\n",
    "id": "96c8e24c37f841e78281360b1a352d19",
    "order_count": 17,
    "time": "2020-07-12T14:06:48.515Z",
    "type": "selectMarkdownCell"
   },
   {
    "code": "You can also export this as Vega-Lite specification and view/edit this on Vega Editor](https://vega.github.io/editor)\n\n",
    "id": "96c8e24c37f841e78281360b1a352d19",
    "order_count": 17,
    "time": "2020-07-12T14:07:11.777Z",
    "type": "selectMarkdownCell"
   },
   {
    "code": "print (view.to_Altair())",
    "id": "019355ee3924488a8e0d43bff478b10b",
    "order_count": 18,
    "time": "2020-07-12T14:07:15.668Z",
    "type": "selectCodeCell"
   },
   {
    "code": "You can also export this as Vega-Lite specification and view/edit this on [Vega Editor](https://vega.github.io/editor).\n\n",
    "id": "96c8e24c37f841e78281360b1a352d19",
    "order_count": 17,
    "time": "2020-07-12T14:07:43.208Z",
    "type": "selectMarkdownCell"
   },
   {
    "code": "You can also export this as Vega-Lite specification and view/edit this on [Vega Editor](https://vega.github.io/editor).\n\n",
    "id": "96c8e24c37f841e78281360b1a352d19",
    "order_count": 17,
    "time": "2020-07-12T14:07:43.895Z",
    "type": "selectMarkdownCell"
   },
   {
    "code": "You can also export this as Vega-Lite specification and view/edit this on [Vega Editor](https://vega.github.io/editor).\n\n",
    "id": "96c8e24c37f841e78281360b1a352d19",
    "order_count": 17,
    "time": "2020-07-12T14:07:44.120Z",
    "type": "selectMarkdownCell"
   },
   {
    "code": "You can also export this as Vega-Lite specification and view/edit this on [Vega Editor](https://vega.github.io/editor).\n\n",
    "id": "96c8e24c37f841e78281360b1a352d19",
    "order_count": 17,
    "time": "2020-07-12T14:07:45.033Z",
    "type": "editMarkdownCell"
   },
   {
    "code": "You can also export this as Vega-Lite specification and view/edit this on [Vega Editor](https://vega.github.io/editor).\n\n",
    "id": "96c8e24c37f841e78281360b1a352d19",
    "order_count": 17,
    "time": "2020-07-12T14:07:45.201Z",
    "type": "selectMarkdownCell"
   },
   {
    "code": "You can also export this as Vega-Lite specification and view/edit this on [Vega Editor](https://vega.github.io/editor).\n\n",
    "id": "96c8e24c37f841e78281360b1a352d19",
    "order_count": 17,
    "time": "2020-07-12T14:07:49.334Z",
    "type": "selectMarkdownCell"
   },
   {
    "code": "print (view.to_Altair())",
    "id": "019355ee3924488a8e0d43bff478b10b",
    "order_count": 18,
    "time": "2020-07-12T14:07:53.450Z",
    "type": "selectCodeCell"
   },
   {
    "code": "print (view.to_Altair())",
    "id": "019355ee3924488a8e0d43bff478b10b",
    "order_count": 18,
    "time": "2020-07-12T14:07:55.282Z",
    "type": "executeCodeCell"
   },
   {
    "code": "### Accessing Widget State",
    "id": "c930f0a57524480d9a71843dd5a4c6a4",
    "order_count": 19,
    "time": "2020-07-12T14:07:55.289Z",
    "type": "selectMarkdownCell"
   },
   {
    "id": "019355ee3924488a8e0d43bff478b10b",
    "isPrintLuxDf": false,
    "isPrintPandasDf": false,
    "isPrintView": false,
    "isPrintViewCollection": false,
    "time": "2020-07-12T14:07:55.301Z",
    "type": "completeCodeCell"
   },
   {
    "code": "print (view.to_Altair())",
    "id": "019355ee3924488a8e0d43bff478b10b",
    "order_count": 18,
    "time": "2020-07-12T14:08:00.540Z",
    "type": "selectCodeCell"
   },
   {
    "code": "print (view.to_Altair())",
    "id": "019355ee3924488a8e0d43bff478b10b",
    "order_count": 18,
    "time": "2020-07-12T14:08:00.547Z",
    "type": "editCodeCell"
   },
   {
    "code": "print (view.to_VegaLite())",
    "id": "019355ee3924488a8e0d43bff478b10b",
    "order_count": 18,
    "time": "2020-07-12T14:08:02.808Z",
    "type": "executeCodeCell"
   },
   {
    "code": "### Accessing Widget State",
    "id": "c930f0a57524480d9a71843dd5a4c6a4",
    "order_count": 19,
    "time": "2020-07-12T14:08:02.836Z",
    "type": "selectMarkdownCell"
   },
   {
    "id": "019355ee3924488a8e0d43bff478b10b",
    "isPrintLuxDf": false,
    "isPrintPandasDf": false,
    "isPrintView": false,
    "isPrintViewCollection": false,
    "time": "2020-07-12T14:08:02.851Z",
    "type": "completeCodeCell"
   },
   {
    "code": "print (view.to_VegaLite())",
    "id": "019355ee3924488a8e0d43bff478b10b",
    "order_count": 18,
    "time": "2020-07-12T14:08:13.849Z",
    "type": "selectCodeCell"
   },
   {
    "code": "print (view.to_VegaLite())",
    "id": "019355ee3924488a8e0d43bff478b10b",
    "order_count": 18,
    "time": "2020-07-12T14:08:13.858Z",
    "type": "editCodeCell"
   },
   {
    "code": "print (view.to_Altair())",
    "id": "6e307f1d840d4448b1f23af063960c2b",
    "order_count": 15,
    "time": "2020-07-12T14:08:20.878Z",
    "type": "selectCodeCell"
   },
   {
    "code": "",
    "id": "6ad65347465445f79f77dec9876b699f",
    "order_count": 15,
    "time": "2020-07-12T14:08:24.319Z",
    "type": "selectCodeCell"
   },
   {
    "code": "",
    "id": "6ad65347465445f79f77dec9876b699f",
    "order_count": 15,
    "time": "2020-07-12T14:08:24.604Z",
    "type": "editCodeCell"
   },
   {
    "code": "df",
    "id": "6ad65347465445f79f77dec9876b699f",
    "order_count": 15,
    "time": "2020-07-12T14:08:26.049Z",
    "type": "executeCodeCell"
   },
   {
    "code": "print (view.to_Altair())",
    "id": "6e307f1d840d4448b1f23af063960c2b",
    "order_count": 16,
    "time": "2020-07-12T14:08:26.084Z",
    "type": "selectCodeCell"
   },
   {
    "id": "6ad65347465445f79f77dec9876b699f",
    "isPrintLuxDf": true,
    "isPrintPandasDf": false,
    "isPrintView": false,
    "isPrintViewCollection": false,
    "time": "2020-07-12T14:08:26.601Z",
    "type": "completeCodeCell"
   },
   {
    "param": "",
    "time": "2020-07-12T14:08:26.617Z",
    "type": "initWidget"
   },
   {
    "param": "",
    "time": "2020-07-12T14:08:26.981Z",
    "type": "initWidget"
   },
   {
    "code": "df",
    "id": "6ad65347465445f79f77dec9876b699f",
    "order_count": 15,
    "time": "2020-07-12T14:08:29.844Z",
    "type": "selectCodeCell"
   },
   {
    "code": "df",
    "id": "6ad65347465445f79f77dec9876b699f",
    "order_count": 15,
    "time": "2020-07-12T14:08:29.852Z",
    "type": "editCodeCell"
   },
   {
    "code": "df.clearContext()\ndf",
    "id": "6ad65347465445f79f77dec9876b699f",
    "order_count": 15,
    "time": "2020-07-12T14:08:34.799Z",
    "type": "executeCodeCell"
   },
   {
    "code": "print (view.to_Altair())",
    "id": "6e307f1d840d4448b1f23af063960c2b",
    "order_count": 16,
    "time": "2020-07-12T14:08:34.836Z",
    "type": "selectCodeCell"
   },
   {
    "id": "6ad65347465445f79f77dec9876b699f",
    "isPrintLuxDf": false,
    "isPrintPandasDf": false,
    "isPrintView": false,
    "isPrintViewCollection": false,
    "time": "2020-07-12T14:08:34.945Z",
    "type": "completeCodeCell"
   },
   {
    "code": "df.clearContext()\ndf",
    "id": "6ad65347465445f79f77dec9876b699f",
    "order_count": 15,
    "time": "2020-07-12T14:08:36.893Z",
    "type": "selectCodeCell"
   },
   {
    "code": "df.clearContext()\ndf",
    "id": "6ad65347465445f79f77dec9876b699f",
    "order_count": 15,
    "time": "2020-07-12T14:08:36.900Z",
    "type": "editCodeCell"
   },
   {
    "code": "df.clear_context()\ndf",
    "id": "6ad65347465445f79f77dec9876b699f",
    "order_count": 15,
    "time": "2020-07-12T14:08:38.439Z",
    "type": "executeCodeCell"
   },
   {
    "code": "print (view.to_Altair())",
    "id": "6e307f1d840d4448b1f23af063960c2b",
    "order_count": 16,
    "time": "2020-07-12T14:08:38.474Z",
    "type": "selectCodeCell"
   },
   {
    "id": "6ad65347465445f79f77dec9876b699f",
    "isPrintLuxDf": true,
    "isPrintPandasDf": false,
    "isPrintView": false,
    "isPrintViewCollection": false,
    "time": "2020-07-12T14:08:39.124Z",
    "type": "completeCodeCell"
   },
   {
    "param": "",
    "time": "2020-07-12T14:08:39.147Z",
    "type": "initWidget"
   },
   {
    "param": "",
    "time": "2020-07-12T14:08:39.392Z",
    "type": "initWidget"
   },
   {
    "code": "df.clear_context()\ndf",
    "id": "6ad65347465445f79f77dec9876b699f",
    "order_count": 15,
    "time": "2020-07-12T14:08:41.035Z",
    "type": "selectCodeCell"
   },
   {
    "code": "df.clear_context()\ndf",
    "id": "6ad65347465445f79f77dec9876b699f",
    "order_count": 15,
    "time": "2020-07-12T14:08:41.349Z",
    "type": "selectCodeCell"
   },
   {
    "param": "Distribution",
    "time": "2020-07-12T14:08:41.351Z",
    "type": "switchTab"
   },
   {
    "code": "df.clear_context()\ndf",
    "id": "6ad65347465445f79f77dec9876b699f",
    "order_count": 15,
    "time": "2020-07-12T14:08:43.500Z",
    "type": "selectCodeCell"
   },
   {
    "code": "df.clear_context()\ndf",
    "id": "6ad65347465445f79f77dec9876b699f",
    "order_count": 14,
    "time": "2020-07-12T14:08:44.663Z",
    "type": "selectCodeCell"
   },
   {
    "code": "df.clear_context()\ndf",
    "id": "6ad65347465445f79f77dec9876b699f",
    "order_count": 14,
    "time": "2020-07-12T14:08:45.545Z",
    "type": "selectCodeCell"
   },
   {
    "code": "df.clear_context()\ndf",
    "id": "6ad65347465445f79f77dec9876b699f",
    "order_count": 14,
    "time": "2020-07-12T14:08:45.723Z",
    "type": "editCodeCell"
   },
   {
    "code": "df.clear_context()\ndf",
    "id": "6ad65347465445f79f77dec9876b699f",
    "order_count": 14,
    "time": "2020-07-12T14:08:51.346Z",
    "type": "selectCodeCell"
   },
   {
    "param": "Category",
    "time": "2020-07-12T14:08:51.348Z",
    "type": "switchTab"
   },
   {
    "code": "df.clear_context()\ndf",
    "id": "6ad65347465445f79f77dec9876b699f",
    "order_count": 14,
    "time": "2020-07-12T14:08:54.165Z",
    "type": "editCodeCell"
   },
   {
    "code": "### Exporting Visualization as Code",
    "id": "2deba987e70b465f8da4bbdc2d56adea",
    "order_count": 13,
    "time": "2020-07-12T14:09:01.665Z",
    "type": "selectMarkdownCell"
   },
   {
    "code": "### Exporting Visualization as Code",
    "id": "2deba987e70b465f8da4bbdc2d56adea",
    "order_count": 13,
    "time": "2020-07-12T14:09:02.126Z",
    "type": "selectMarkdownCell"
   },
   {
    "code": "### Exporting Visualization as Code",
    "id": "2deba987e70b465f8da4bbdc2d56adea",
    "order_count": 13,
    "time": "2020-07-12T14:09:02.302Z",
    "type": "selectMarkdownCell"
   },
   {
    "code": "### Exporting Visualization as Code",
    "id": "2deba987e70b465f8da4bbdc2d56adea",
    "order_count": 13,
    "time": "2020-07-12T14:09:03.094Z",
    "type": "editMarkdownCell"
   },
   {
    "code": "### Exporting Visualization as Code",
    "id": "2deba987e70b465f8da4bbdc2d56adea",
    "order_count": 13,
    "time": "2020-07-12T14:09:03.253Z",
    "type": "selectMarkdownCell"
   },
   {
    "code": "### Exporting Visualization as Code",
    "id": "2deba987e70b465f8da4bbdc2d56adea",
    "order_count": 13,
    "time": "2020-07-12T14:09:03.804Z",
    "type": "selectMarkdownCell"
   },
   {
    "code": "### Exporting Visualizations as Code",
    "id": "2deba987e70b465f8da4bbdc2d56adea",
    "order_count": 13,
    "time": "2020-07-12T14:09:05.850Z",
    "type": "selectMarkdownCell"
   },
   {
    "code": "### Exporting Visualizations as Code",
    "id": "2deba987e70b465f8da4bbdc2d56adea",
    "order_count": 13,
    "time": "2020-07-12T14:09:06.141Z",
    "type": "selectMarkdownCell"
   },
   {
    "code": "df.clear_context()\ndf",
    "id": "6ad65347465445f79f77dec9876b699f",
    "order_count": 14,
    "time": "2020-07-12T14:09:06.483Z",
    "type": "selectCodeCell"
   },
   {
    "code": "df.clear_context()\ndf",
    "id": "6ad65347465445f79f77dec9876b699f",
    "order_count": 14,
    "time": "2020-07-12T14:09:06.488Z",
    "type": "editCodeCell"
   },
   {
    "code": "df.clear_context()\ndf",
    "id": "6ad65347465445f79f77dec9876b699f",
    "order_count": 14,
    "time": "2020-07-12T14:09:07.263Z",
    "type": "executeCodeCell"
   },
   {
    "code": "To allow further edits of visualizations, views can be exported to code in [Altair](https://altair-viz.github.io/) or as [Vega-Lite](https://vega.github.io/vega-lite/) specification.",
    "id": "b308be9bdde74c85b656868fff58f60d",
    "order_count": 15,
    "time": "2020-07-12T14:09:07.291Z",
    "type": "selectMarkdownCell"
   },
   {
    "id": "6ad65347465445f79f77dec9876b699f",
    "isPrintLuxDf": true,
    "isPrintPandasDf": false,
    "isPrintView": false,
    "isPrintViewCollection": false,
    "time": "2020-07-12T14:09:07.926Z",
    "type": "completeCodeCell"
   },
   {
    "param": "",
    "time": "2020-07-12T14:09:07.943Z",
    "type": "initWidget"
   },
   {
    "param": "",
    "time": "2020-07-12T14:09:08.251Z",
    "type": "initWidget"
   },
   {
    "code": "df.clear_context()\ndf",
    "id": "6ad65347465445f79f77dec9876b699f",
    "order_count": 14,
    "time": "2020-07-12T14:09:08.581Z",
    "type": "selectCodeCell"
   },
   {
    "code": "df.clear_context()\ndf",
    "id": "6ad65347465445f79f77dec9876b699f",
    "order_count": 14,
    "time": "2020-07-12T14:09:08.589Z",
    "type": "editCodeCell"
   },
   {
    "code": "df.recommendation",
    "id": "6ad65347465445f79f77dec9876b699f",
    "order_count": 14,
    "time": "2020-07-12T14:09:13.903Z",
    "type": "executeCodeCell"
   },
   {
    "code": "To allow further edits of visualizations, views can be exported to code in [Altair](https://altair-viz.github.io/) or as [Vega-Lite](https://vega.github.io/vega-lite/) specification.",
    "id": "b308be9bdde74c85b656868fff58f60d",
    "order_count": 15,
    "time": "2020-07-12T14:09:13.936Z",
    "type": "selectMarkdownCell"
   },
   {
    "id": "6ad65347465445f79f77dec9876b699f",
    "isPrintLuxDf": false,
    "isPrintPandasDf": false,
    "isPrintView": true,
    "isPrintViewCollection": false,
    "time": "2020-07-12T14:09:13.964Z",
    "type": "completeCodeCell"
   },
   {
    "code": "df.recommendation",
    "id": "6ad65347465445f79f77dec9876b699f",
    "order_count": 14,
    "time": "2020-07-12T14:09:14.938Z",
    "type": "selectCodeCell"
   },
   {
    "code": "df.recommendation",
    "id": "6ad65347465445f79f77dec9876b699f",
    "order_count": 14,
    "time": "2020-07-12T14:09:14.944Z",
    "type": "editCodeCell"
   },
   {
    "code": "df.recommendation[\"Category\"]",
    "id": "6ad65347465445f79f77dec9876b699f",
    "order_count": 14,
    "time": "2020-07-12T14:09:18.730Z",
    "type": "executeCodeCell"
   },
   {
    "code": "To allow further edits of visualizations, views can be exported to code in [Altair](https://altair-viz.github.io/) or as [Vega-Lite](https://vega.github.io/vega-lite/) specification.",
    "id": "b308be9bdde74c85b656868fff58f60d",
    "order_count": 15,
    "time": "2020-07-12T14:09:18.761Z",
    "type": "selectMarkdownCell"
   },
   {
    "id": "6ad65347465445f79f77dec9876b699f",
    "isPrintLuxDf": false,
    "isPrintPandasDf": false,
    "isPrintView": true,
    "isPrintViewCollection": false,
    "time": "2020-07-12T14:09:18.785Z",
    "type": "completeCodeCell"
   },
   {
    "param": "",
    "time": "2020-07-12T14:09:18.794Z",
    "type": "initWidget"
   },
   {
    "code": "df.recommendation[\"Category\"]",
    "id": "6ad65347465445f79f77dec9876b699f",
    "order_count": 14,
    "time": "2020-07-12T14:09:19.675Z",
    "type": "selectCodeCell"
   },
   {
    "code": "df.recommendation[\"Category\"]",
    "id": "6ad65347465445f79f77dec9876b699f",
    "order_count": 14,
    "time": "2020-07-12T14:09:19.682Z",
    "type": "editCodeCell"
   },
   {
    "code": "df.recommendation[\"Category\"][0]",
    "id": "6ad65347465445f79f77dec9876b699f",
    "order_count": 14,
    "time": "2020-07-12T14:09:21.646Z",
    "type": "executeCodeCell"
   },
   {
    "code": "To allow further edits of visualizations, views can be exported to code in [Altair](https://altair-viz.github.io/) or as [Vega-Lite](https://vega.github.io/vega-lite/) specification.",
    "id": "b308be9bdde74c85b656868fff58f60d",
    "order_count": 15,
    "time": "2020-07-12T14:09:21.677Z",
    "type": "selectMarkdownCell"
   },
   {
    "id": "6ad65347465445f79f77dec9876b699f",
    "isPrintLuxDf": false,
    "isPrintPandasDf": false,
    "isPrintView": true,
    "isPrintViewCollection": false,
    "time": "2020-07-12T14:09:21.701Z",
    "type": "completeCodeCell"
   },
   {
    "param": "",
    "time": "2020-07-12T14:09:21.710Z",
    "type": "initWidget"
   },
   {
    "code": "df.recommendation[\"Category\"][0]",
    "id": "6ad65347465445f79f77dec9876b699f",
    "order_count": 14,
    "time": "2020-07-12T14:09:22.107Z",
    "type": "selectCodeCell"
   },
   {
    "code": "df.recommendation[\"Category\"][0]",
    "id": "6ad65347465445f79f77dec9876b699f",
    "order_count": 14,
    "time": "2020-07-12T14:09:22.409Z",
    "type": "editCodeCell"
   },
   {
    "code": "view = df.recommendation[\"Category\"][0]",
    "id": "6ad65347465445f79f77dec9876b699f",
    "order_count": 14,
    "time": "2020-07-12T14:09:25.981Z",
    "type": "selectCodeCell"
   },
   {
    "code": "",
    "id": "ecc571c410a84798807349cf64385b32",
    "order_count": 14,
    "time": "2020-07-12T14:09:26.075Z",
    "type": "selectCodeCell"
   },
   {
    "code": "",
    "id": "ecc571c410a84798807349cf64385b32",
    "order_count": 14,
    "time": "2020-07-12T14:09:26.207Z",
    "type": "editCodeCell"
   },
   {
    "code": "view = df.recommendation[\"Category\"][0]",
    "id": "6ad65347465445f79f77dec9876b699f",
    "order_count": 15,
    "time": "2020-07-12T14:09:38.954Z",
    "type": "selectCodeCell"
   },
   {
    "code": "Let's say that we are now interested in this bar chart",
    "id": "ac2538b482a94f9689e28b45b6f62118",
    "order_count": 14,
    "time": "2020-07-12T14:09:39.968Z",
    "type": "selectMarkdownCell"
   },
   {
    "code": "Let's say that we are now interested in this bar chart",
    "id": "ac2538b482a94f9689e28b45b6f62118",
    "order_count": 14,
    "time": "2020-07-12T14:09:40.145Z",
    "type": "selectMarkdownCell"
   },
   {
    "code": "Let's say that we are now interested in this bar chart",
    "id": "ac2538b482a94f9689e28b45b6f62118",
    "order_count": 14,
    "time": "2020-07-12T14:09:40.790Z",
    "type": "editMarkdownCell"
   },
   {
    "code": "Let's say that we are now interested in this bar chart",
    "id": "ac2538b482a94f9689e28b45b6f62118",
    "order_count": 14,
    "time": "2020-07-12T14:09:40.950Z",
    "type": "selectMarkdownCell"
   },
   {
    "code": "Let's say that we are now interested in this bar chart",
    "id": "ac2538b482a94f9689e28b45b6f62118",
    "order_count": 14,
    "time": "2020-07-12T14:09:42.634Z",
    "type": "selectMarkdownCell"
   },
   {
    "code": "view = df.recommendation[\"Category\"][0]",
    "id": "6ad65347465445f79f77dec9876b699f",
    "order_count": 15,
    "time": "2020-07-12T14:10:04.855Z",
    "type": "selectCodeCell"
   },
   {
    "code": "view = df.recommendation[\"Category\"][0]",
    "id": "6ad65347465445f79f77dec9876b699f",
    "order_count": 15,
    "time": "2020-07-12T14:10:05.891Z",
    "type": "executeCodeCell"
   },
   {
    "code": "To allow further edits of visualizations, views can be exported to code in [Altair](https://altair-viz.github.io/) or as [Vega-Lite](https://vega.github.io/vega-lite/) specification.",
    "id": "b308be9bdde74c85b656868fff58f60d",
    "order_count": 16,
    "time": "2020-07-12T14:10:05.901Z",
    "type": "selectMarkdownCell"
   },
   {
    "id": "6ad65347465445f79f77dec9876b699f",
    "isPrintLuxDf": false,
    "isPrintPandasDf": false,
    "isPrintView": false,
    "isPrintViewCollection": false,
    "time": "2020-07-12T14:10:05.920Z",
    "type": "completeCodeCell"
   },
   {
    "code": "To allow further edits of visualizations, views can be exported to code in [Altair](https://altair-viz.github.io/) or as [Vega-Lite](https://vega.github.io/vega-lite/) specification.",
    "id": "b308be9bdde74c85b656868fff58f60d",
    "order_count": 16,
    "time": "2020-07-12T14:10:07.576Z",
    "type": "editMarkdownCell"
   },
   {
    "code": "print (view.to_Altair())",
    "id": "6e307f1d840d4448b1f23af063960c2b",
    "order_count": 17,
    "time": "2020-07-12T14:10:09.333Z",
    "type": "selectCodeCell"
   },
   {
    "code": "To allow further edits of visualizations, views can be exported to code in [Altair](https://altair-viz.github.io/) or as [Vega-Lite](https://vega.github.io/vega-lite/) specification.",
    "id": "b308be9bdde74c85b656868fff58f60d",
    "order_count": 16,
    "time": "2020-07-12T14:10:09.783Z",
    "type": "selectMarkdownCell"
   },
   {
    "code": "",
    "id": "7ee38c0a9e55450eb556709346ad6e3f",
    "order_count": 16,
    "time": "2020-07-12T14:10:10.129Z",
    "type": "selectCodeCell"
   },
   {
    "code": "",
    "id": "7ee38c0a9e55450eb556709346ad6e3f",
    "order_count": 16,
    "time": "2020-07-12T14:10:10.237Z",
    "type": "editCodeCell"
   },
   {
    "code": "view = df.recommendation[\"Category\"][0]",
    "id": "6ad65347465445f79f77dec9876b699f",
    "order_count": 15,
    "time": "2020-07-12T14:10:12.322Z",
    "type": "selectCodeCell"
   },
   {
    "code": "view",
    "id": "7ee38c0a9e55450eb556709346ad6e3f",
    "order_count": null,
    "time": "2020-07-12T14:10:12.741Z",
    "type": "deleteCodeCell"
   },
   {
    "code": "view = df.recommendation[\"Category\"][0]\n\nview",
    "id": "6ad65347465445f79f77dec9876b699f",
    "order_count": 15,
    "time": "2020-07-12T14:10:13.045Z",
    "type": "editCodeCell"
   },
   {
    "code": "view = df.recommendation[\"Category\"][0]\nview",
    "id": "6ad65347465445f79f77dec9876b699f",
    "order_count": 15,
    "time": "2020-07-12T14:10:14.209Z",
    "type": "executeCodeCell"
   },
   {
    "code": "To allow further edits of visualizations, views can be exported to code in [Altair](https://altair-viz.github.io/) or as [Vega-Lite](https://vega.github.io/vega-lite/) specification.",
    "id": "b308be9bdde74c85b656868fff58f60d",
    "order_count": 16,
    "time": "2020-07-12T14:10:14.241Z",
    "type": "selectMarkdownCell"
   },
   {
    "id": "6ad65347465445f79f77dec9876b699f",
    "isPrintLuxDf": false,
    "isPrintPandasDf": false,
    "isPrintView": true,
    "isPrintViewCollection": false,
    "time": "2020-07-12T14:10:14.270Z",
    "type": "completeCodeCell"
   },
   {
    "param": "",
    "time": "2020-07-12T14:10:14.288Z",
    "type": "initWidget"
   },
   {
    "code": "print (view.to_Altair())",
    "id": "6e307f1d840d4448b1f23af063960c2b",
    "order_count": 17,
    "time": "2020-07-12T14:10:16.299Z",
    "type": "selectCodeCell"
   },
   {
    "code": "print (view.to_Altair())",
    "id": "6e307f1d840d4448b1f23af063960c2b",
    "order_count": 17,
    "time": "2020-07-12T14:10:16.306Z",
    "type": "editCodeCell"
   },
   {
    "code": "print (view.to_Altair())",
    "id": "6e307f1d840d4448b1f23af063960c2b",
    "order_count": 17,
    "time": "2020-07-12T14:10:16.665Z",
    "type": "executeCodeCell"
   },
   {
    "code": "import altair as alt\n\nchart = alt.Chart(df).mark_circle().encode(\n    x=alt.X('GDPPerCapita',scale=alt.Scale(domain=(244, 105447)),type='quantitative'),\n    y=alt.Y('Footprint',scale=alt.Scale(domain=(0.6, 15.8)),type='quantitative')\n)\nchart = chart.configure_mark(tooltip=alt.TooltipContent('encoding')) # Setting tooltip as non-null\nchart = chart.interactive() # Enable Zooming and Panning\n\nchart",
    "id": "1eedc53f98f24410b696df7c7197d2ab",
    "order_count": 18,
    "time": "2020-07-12T14:10:16.708Z",
    "type": "selectCodeCell"
   },
   {
    "id": "6e307f1d840d4448b1f23af063960c2b",
    "isPrintLuxDf": false,
    "isPrintPandasDf": false,
    "isPrintView": false,
    "isPrintViewCollection": false,
    "time": "2020-07-12T14:10:16.721Z",
    "type": "completeCodeCell"
   },
   {
    "code": "print (view.to_Altair())",
    "id": "6e307f1d840d4448b1f23af063960c2b",
    "order_count": 17,
    "time": "2020-07-12T14:10:19.811Z",
    "type": "selectCodeCell"
   },
   {
    "code": "import altair as alt\n\nchart = alt.Chart(df).mark_circle().encode(\n    x=alt.X('GDPPerCapita',scale=alt.Scale(domain=(244, 105447)),type='quantitative'),\n    y=alt.Y('Footprint',scale=alt.Scale(domain=(0.6, 15.8)),type='quantitative')\n)\nchart = chart.configure_mark(tooltip=alt.TooltipContent('encoding')) # Setting tooltip as non-null\nchart = chart.interactive() # Enable Zooming and Panning\n\nchart",
    "id": "1eedc53f98f24410b696df7c7197d2ab",
    "order_count": 18,
    "time": "2020-07-12T14:10:20.144Z",
    "type": "selectCodeCell"
   },
   {
    "code": "import altair as alt\n\nchart = alt.Chart(df).mark_circle().encode(\n    x=alt.X('GDPPerCapita',scale=alt.Scale(domain=(244, 105447)),type='quantitative'),\n    y=alt.Y('Footprint',scale=alt.Scale(domain=(0.6, 15.8)),type='quantitative')\n)\nchart = chart.configure_mark(tooltip=alt.TooltipContent('encoding')) # Setting tooltip as non-null\nchart = chart.interactive() # Enable Zooming and Panning\n\nchart",
    "id": "1eedc53f98f24410b696df7c7197d2ab",
    "order_count": 18,
    "time": "2020-07-12T14:10:20.156Z",
    "type": "editCodeCell"
   },
   {
    "code": "import altair as alt\nviewData = pd.DataFrame({'SubRegion': {0: 'Americas', 1: 'Asia Pacific', 2: 'Europe', 3: 'Middle East and North Africa', 4: 'Post-communist', 5: 'Sub Saharan Africa'}, 'Record': {0: 25, 1: 21, 2: 20, 3: 14, 4: 26, 5: 34}})\n\nchart = alt.Chart(viewData).mark_bar(size=12).encode(\n    y = alt.Y('SubRegion', type= 'nominal', axis=alt.Axis(labelOverlap=True), sort ='-x'),\n    x = alt.X('Record', type= 'quantitative', title='Count of Record'),\n)\nchart = chart.configure_mark(tooltip=alt.TooltipContent('encoding')) # Setting tooltip as non-null\n\nchart",
    "id": "1eedc53f98f24410b696df7c7197d2ab",
    "order_count": 18,
    "time": "2020-07-12T14:10:21.386Z",
    "type": "executeCodeCell"
   },
   {
    "code": "You can also export this as Vega-Lite specification and view/edit the specification on [Vega Editor](https://vega.github.io/editor).\n\n",
    "id": "96c8e24c37f841e78281360b1a352d19",
    "order_count": 19,
    "time": "2020-07-12T14:10:21.417Z",
    "type": "selectMarkdownCell"
   },
   {
    "id": "1eedc53f98f24410b696df7c7197d2ab",
    "isPrintLuxDf": false,
    "isPrintPandasDf": false,
    "isPrintView": false,
    "isPrintViewCollection": false,
    "time": "2020-07-12T14:10:21.441Z",
    "type": "completeCodeCell"
   },
   {
    "code": "print (view.to_VegaLite())",
    "id": "019355ee3924488a8e0d43bff478b10b",
    "order_count": 20,
    "time": "2020-07-12T14:10:24.785Z",
    "type": "selectCodeCell"
   },
   {
    "code": "print (view.to_VegaLite())",
    "id": "019355ee3924488a8e0d43bff478b10b",
    "order_count": 20,
    "time": "2020-07-12T14:10:25.105Z",
    "type": "executeCodeCell"
   },
   {
    "code": "### Accessing Widget State",
    "id": "c930f0a57524480d9a71843dd5a4c6a4",
    "order_count": 21,
    "time": "2020-07-12T14:10:25.113Z",
    "type": "selectMarkdownCell"
   },
   {
    "id": "019355ee3924488a8e0d43bff478b10b",
    "isPrintLuxDf": false,
    "isPrintPandasDf": false,
    "isPrintView": false,
    "isPrintViewCollection": false,
    "time": "2020-07-12T14:10:25.129Z",
    "type": "completeCodeCell"
   },
   {
    "code": "print (view.to_VegaLite())",
    "id": "019355ee3924488a8e0d43bff478b10b",
    "order_count": 20,
    "time": "2020-07-12T14:10:28.571Z",
    "type": "selectCodeCell"
   },
   {
    "code": "print (view.to_VegaLite())",
    "id": "019355ee3924488a8e0d43bff478b10b",
    "order_count": 20,
    "time": "2020-07-12T14:10:34.271Z",
    "type": "selectCodeCell"
   },
   {
    "code": "df.recommendation",
    "id": "441873581378413e82d31899069d949a",
    "order_count": 23,
    "time": "2020-07-12T14:11:04.445Z",
    "type": "selectCodeCell"
   },
   {
    "code": "df.recommendation",
    "id": "441873581378413e82d31899069d949a",
    "order_count": 23,
    "time": "2020-07-12T14:11:04.949Z",
    "type": "selectCodeCell"
   },
   {
    "code": "df.recommendation",
    "id": "441873581378413e82d31899069d949a",
    "order_count": 23,
    "time": "2020-07-12T14:11:06.165Z",
    "type": "selectCodeCell"
   },
   {
    "code": "df.current_view",
    "id": "d484539e4d094a5087ce070512dc05d6",
    "order_count": 27,
    "time": "2020-07-12T14:11:10.177Z",
    "type": "selectCodeCell"
   },
   {
    "code": "df.current_view",
    "id": "d484539e4d094a5087ce070512dc05d6",
    "order_count": 27,
    "time": "2020-07-12T14:11:10.183Z",
    "type": "editCodeCell"
   },
   {
    "code": "df.current_view",
    "id": "d484539e4d094a5087ce070512dc05d6",
    "order_count": 27,
    "time": "2020-07-12T14:11:10.337Z",
    "type": "selectCodeCell"
   },
   {
    "code": "df.current_view",
    "id": "d484539e4d094a5087ce070512dc05d6",
    "order_count": 27,
    "time": "2020-07-12T14:11:11.252Z",
    "type": "executeCodeCell"
   },
   {
    "code": "Users can access the Current View and recommendations programmatically through: \n\ndf.current_view\ndf.recommendations\n\n\n- df.get_exported()\n\nTo code: \n- view.to",
    "id": "23408ec1014b4f249d4042b68386c3b9",
    "order_count": 28,
    "time": "2020-07-12T14:11:11.284Z",
    "type": "selectMarkdownCell"
   },
   {
    "id": "d484539e4d094a5087ce070512dc05d6",
    "isPrintLuxDf": false,
    "isPrintPandasDf": false,
    "isPrintView": false,
    "isPrintViewCollection": false,
    "time": "2020-07-12T14:11:11.301Z",
    "type": "completeCodeCell"
   },
   {
    "code": "df.set_context_as_view(view)\ndf",
    "id": "e08b5df7007549379d93828434e743b1",
    "order_count": 12,
    "time": "2020-07-12T14:11:16.718Z",
    "type": "selectCodeCell"
   },
   {
    "code": "df.set_context_as_view(view)\ndf",
    "id": "e08b5df7007549379d93828434e743b1",
    "order_count": 12,
    "time": "2020-07-12T14:11:16.729Z",
    "type": "editCodeCell"
   },
   {
    "code": "### Setting Views as Context",
    "id": "433a4a78ea7e48c8983408162854d502",
    "order_count": 10,
    "time": "2020-07-12T14:11:17.880Z",
    "type": "selectMarkdownCell"
   },
   {
    "code": "Now that we have exported the view, we can set the new context of the dataframe to be the view to get more recommendations related to this visualization.",
    "id": "d32ae31d14954f8b88711fbb89056866",
    "order_count": 11,
    "time": "2020-07-12T14:11:21.355Z",
    "type": "selectMarkdownCell"
   },
   {
    "code": "df.set_context_as_view(view)\ndf",
    "id": "e08b5df7007549379d93828434e743b1",
    "order_count": 12,
    "time": "2020-07-12T14:11:21.625Z",
    "type": "selectCodeCell"
   },
   {
    "code": "df.set_context_as_view(view)\ndf",
    "id": "e08b5df7007549379d93828434e743b1",
    "order_count": 12,
    "time": "2020-07-12T14:11:21.634Z",
    "type": "editCodeCell"
   },
   {
    "code": "df.set_context_as_view(view)\ndf",
    "id": "e08b5df7007549379d93828434e743b1",
    "order_count": 12,
    "time": "2020-07-12T14:11:22.686Z",
    "type": "executeCodeCell"
   },
   {
    "code": "### Exporting Visualizations as Code",
    "id": "2deba987e70b465f8da4bbdc2d56adea",
    "order_count": 13,
    "time": "2020-07-12T14:11:22.715Z",
    "type": "selectMarkdownCell"
   },
   {
    "id": "e08b5df7007549379d93828434e743b1",
    "isPrintLuxDf": true,
    "isPrintPandasDf": false,
    "isPrintView": false,
    "isPrintViewCollection": false,
    "time": "2020-07-12T14:11:23.042Z",
    "type": "completeCodeCell"
   },
   {
    "param": "",
    "time": "2020-07-12T14:11:23.063Z",
    "type": "initWidget"
   },
   {
    "param": "",
    "time": "2020-07-12T14:11:23.159Z",
    "type": "initWidget"
   },
   {
    "code": "bookmarked_vis = df.get_exported()\nbookmarked_vis",
    "id": "a0843739aae2474e95eae3e889cd58c8",
    "order_count": 6,
    "time": "2020-07-12T14:11:50.090Z",
    "type": "selectCodeCell"
   },
   {
    "code": "bookmarked_vis = df.get_exported()\nbookmarked_vis",
    "id": "a0843739aae2474e95eae3e889cd58c8",
    "order_count": 6,
    "time": "2020-07-12T14:11:50.099Z",
    "type": "editCodeCell"
   },
   {
    "code": "bookmarked_vis = df.get_exported()\nbookmarked_vis",
    "id": "a0843739aae2474e95eae3e889cd58c8",
    "order_count": 6,
    "time": "2020-07-12T14:11:50.239Z",
    "type": "selectCodeCell"
   },
   {
    "code": "### Exporting Visualizations as Code",
    "id": "2deba987e70b465f8da4bbdc2d56adea",
    "order_count": 13,
    "time": "2020-07-12T14:11:53.815Z",
    "type": "selectMarkdownCell"
   },
   {
    "code": "### Exporting Visualizations as Code",
    "id": "2deba987e70b465f8da4bbdc2d56adea",
    "order_count": 13,
    "time": "2020-07-12T14:11:53.817Z",
    "type": "editMarkdownCell"
   },
   {
    "code": "### Exporting Visualizations as Code",
    "id": "2deba987e70b465f8da4bbdc2d56adea",
    "order_count": 13,
    "time": "2020-07-12T14:11:53.904Z",
    "type": "selectMarkdownCell"
   },
   {
    "code": "Let's say that we are now interested in the bar chart distribution of country `SubRegion`.",
    "id": "ac2538b482a94f9689e28b45b6f62118",
    "order_count": 14,
    "time": "2020-07-12T14:11:54.470Z",
    "type": "selectMarkdownCell"
   },
   {
    "code": "df.recommendation",
    "id": "441873581378413e82d31899069d949a",
    "order_count": 23,
    "time": "2020-07-12T14:11:59.256Z",
    "type": "selectCodeCell"
   },
   {
    "code": "df.recommendation",
    "id": "441873581378413e82d31899069d949a",
    "order_count": 23,
    "time": "2020-07-12T14:12:02.646Z",
    "type": "selectCodeCell"
   },
   {
    "code": "df.current_view",
    "id": "d484539e4d094a5087ce070512dc05d6",
    "order_count": 27,
    "time": "2020-07-12T14:12:06.509Z",
    "type": "selectCodeCell"
   },
   {
    "code": "Users can access the Current View and recommendations programmatically through: \n\ndf.current_view\ndf.recommendations\n\n\n- df.get_exported()\n\nTo code: \n- view.to",
    "id": "23408ec1014b4f249d4042b68386c3b9",
    "order_count": 28,
    "time": "2020-07-12T14:12:07.329Z",
    "type": "selectMarkdownCell"
   },
   {
    "code": "Users can access the Current View and recommendations programmatically through: \n\ndf.current_view\ndf.recommendations\n\n\n- df.get_exported()\n\nTo code: \n- view.to",
    "id": "23408ec1014b4f249d4042b68386c3b9",
    "order_count": null,
    "time": "2020-07-12T14:12:07.877Z",
    "type": "deleteMarkdownCell"
   },
   {
    "code": "df.recommendation[\"Distribution\"]",
    "id": "812475092c5e40bc95ce01334b6681ef",
    "order_count": 25,
    "time": "2020-07-12T14:12:08.539Z",
    "type": "selectCodeCell"
   },
   {
    "code": "df.recommendation[\"Distribution\"]",
    "id": "812475092c5e40bc95ce01334b6681ef",
    "order_count": 25,
    "time": "2020-07-12T14:12:11.162Z",
    "type": "selectCodeCell"
   },
   {
    "code": "df.recommendation[\"Distribution\"]",
    "id": "812475092c5e40bc95ce01334b6681ef",
    "order_count": 25,
    "time": "2020-07-12T14:12:12.188Z",
    "type": "selectCodeCell"
   },
   {
    "code": "df.recommendation[\"Distribution\"]",
    "id": "812475092c5e40bc95ce01334b6681ef",
    "order_count": 25,
    "time": "2020-07-12T14:12:13.086Z",
    "type": "selectCodeCell"
   },
   {
    "code": "df.recommendation[\"Distribution\"]",
    "id": "812475092c5e40bc95ce01334b6681ef",
    "order_count": 25,
    "time": "2020-07-12T14:12:13.910Z",
    "type": "selectCodeCell"
   },
   {
    "code": "cd ..",
    "id": "eb64dbe726c9440f8884b3f1484bab48",
    "order_count": 0,
    "time": "2020-07-12T14:12:18.763Z",
    "type": "selectCodeCell"
   },
   {
    "time": "2020-07-12T14:12:25.903Z",
    "type": "kernelRestart"
   },
   {
    "code": "cd ..",
    "id": "eb64dbe726c9440f8884b3f1484bab48",
    "order_count": 0,
    "time": "2020-07-12T14:12:26.730Z",
    "type": "editCodeCell"
   },
   {
    "time": "2020-07-12T14:12:26.870Z",
    "type": "kernelReady"
   },
   {
    "code": "cd ..",
    "id": "eb64dbe726c9440f8884b3f1484bab48",
    "order_count": 0,
    "time": "2020-07-12T14:12:27.932Z",
    "type": "executeCodeCell"
   },
   {
    "code": "import pandas as pd\nimport lux",
    "id": "36317fa004f84755901fb751d5e7974b",
    "order_count": 1,
    "time": "2020-07-12T14:12:27.967Z",
    "type": "selectCodeCell"
   },
   {
    "id": "eb64dbe726c9440f8884b3f1484bab48",
    "isPrintLuxDf": false,
    "isPrintPandasDf": false,
    "isPrintView": false,
    "isPrintViewCollection": false,
    "time": "2020-07-12T14:12:27.982Z",
    "type": "completeCodeCell"
   },
   {
    "code": "import pandas as pd\nimport lux",
    "id": "36317fa004f84755901fb751d5e7974b",
    "order_count": 1,
    "time": "2020-07-12T14:12:28.372Z",
    "type": "executeCodeCell"
   },
   {
    "code": "In this tutorial, we look at the [Happy Planet Index](http://happyplanetindex.org/) dataset, which contains metrics related to well-being for 140 countries around the world. We demonstrate how you can select visualizations of interest and export them for further analysis. ",
    "id": "2b4ef2b4027f49a68a2486039b0d5fee",
    "order_count": 2,
    "time": "2020-07-12T14:12:28.379Z",
    "type": "selectMarkdownCell"
   },
   {
    "id": "36317fa004f84755901fb751d5e7974b",
    "isPrintLuxDf": false,
    "isPrintPandasDf": false,
    "isPrintView": false,
    "isPrintViewCollection": false,
    "time": "2020-07-12T14:12:28.700Z",
    "type": "completeCodeCell"
   },
   {
    "code": "df = pd.read_csv(\"lux/data/hpi.csv\")\ndf.set_default_display(\"lux\") #set Lux as default view\ndf",
    "id": "12a1be56c9ae4abab0a1f946bd40bc68",
    "order_count": 3,
    "time": "2020-07-12T14:12:28.797Z",
    "type": "selectCodeCell"
   },
   {
    "code": "df = pd.read_csv(\"lux/data/hpi.csv\")\ndf.set_default_display(\"lux\") #set Lux as default view\ndf",
    "id": "12a1be56c9ae4abab0a1f946bd40bc68",
    "order_count": 3,
    "time": "2020-07-12T14:12:29.181Z",
    "type": "executeCodeCell"
   },
   {
    "code": "### Exporting one or more visualizations from recommendation widget",
    "id": "8e6114c3d53f46c9b0497f0fb8f18f08",
    "order_count": 4,
    "time": "2020-07-12T14:12:29.188Z",
    "type": "selectMarkdownCell"
   },
   {
    "id": "12a1be56c9ae4abab0a1f946bd40bc68",
    "isPrintLuxDf": true,
    "isPrintPandasDf": false,
    "isPrintView": false,
    "isPrintViewCollection": false,
    "time": "2020-07-12T14:12:30.107Z",
    "type": "completeCodeCell"
   },
   {
    "param": "",
    "time": "2020-07-12T14:12:30.130Z",
    "type": "initWidget"
   },
   {
    "param": "",
    "time": "2020-07-12T14:12:30.503Z",
    "type": "initWidget"
   },
   {
    "code": "df = pd.read_csv(\"lux/data/hpi.csv\")\ndf.set_default_display(\"lux\") #set Lux as default view\ndf",
    "id": "12a1be56c9ae4abab0a1f946bd40bc68",
    "order_count": 3,
    "time": "2020-07-12T14:12:33.139Z",
    "type": "selectCodeCell"
   },
   {
    "param": {
     "index": 1,
     "tabTitle": "Correlation",
     "vis": {
      "$schema": "https://vega.github.io/schema/vega-lite/v4.8.1.json",
      "config": {
       "mark": {
        "tooltip": {
         "content": "encoding"
        }
       },
       "view": {
        "continuousHeight": 300,
        "continuousWidth": 400
       }
      },
      "data": {
       "name": "data-c5bd87549771a1474928380fe42ed676"
      },
      "datasets": {
       "data-c5bd87549771a1474928380fe42ed676": [
        {
         "AverageWellBeing": 3.8,
         "InequalityAdjustedWellbeing": 3.4
        },
        {
         "AverageWellBeing": 5.5,
         "InequalityAdjustedWellbeing": 5.1
        },
        {
         "AverageWellBeing": 5.6,
         "InequalityAdjustedWellbeing": 5.2
        },
        {
         "AverageWellBeing": 6.5,
         "InequalityAdjustedWellbeing": 6
        },
        {
         "AverageWellBeing": 4.3,
         "InequalityAdjustedWellbeing": 3.7
        },
        {
         "AverageWellBeing": 7.2,
         "InequalityAdjustedWellbeing": 6.9
        },
        {
         "AverageWellBeing": 7.4,
         "InequalityAdjustedWellbeing": 7.1
        },
        {
         "AverageWellBeing": 4.7,
         "InequalityAdjustedWellbeing": 4.3
        },
        {
         "AverageWellBeing": 5.7,
         "InequalityAdjustedWellbeing": 5.3
        },
        {
         "AverageWellBeing": 6.9,
         "InequalityAdjustedWellbeing": 6.6
        },
        {
         "AverageWellBeing": 6.1,
         "InequalityAdjustedWellbeing": 5.7
        },
        {
         "AverageWellBeing": 3.2,
         "InequalityAdjustedWellbeing": 2.8
        },
        {
         "AverageWellBeing": 5.6,
         "InequalityAdjustedWellbeing": 5.2
        },
        {
         "AverageWellBeing": 6,
         "InequalityAdjustedWellbeing": 5.5
        },
        {
         "AverageWellBeing": 4.8,
         "InequalityAdjustedWellbeing": 4.2
        },
        {
         "AverageWellBeing": 4.8,
         "InequalityAdjustedWellbeing": 4.3
        },
        {
         "AverageWellBeing": 6.9,
         "InequalityAdjustedWellbeing": 6.3
        },
        {
         "AverageWellBeing": 4.2,
         "InequalityAdjustedWellbeing": 3.7
        },
        {
         "AverageWellBeing": 4,
         "InequalityAdjustedWellbeing": 3.6
        },
        {
         "AverageWellBeing": 3.4,
         "InequalityAdjustedWellbeing": 3
        },
        {
         "AverageWellBeing": 3.9,
         "InequalityAdjustedWellbeing": 3.5
        },
        {
         "AverageWellBeing": 4.2,
         "InequalityAdjustedWellbeing": 3.7
        },
        {
         "AverageWellBeing": 7.4,
         "InequalityAdjustedWellbeing": 7.1
        },
        {
         "AverageWellBeing": 4,
         "InequalityAdjustedWellbeing": 3.7
        },
        {
         "AverageWellBeing": 6.6,
         "InequalityAdjustedWellbeing": 6.1
        },
        {
         "AverageWellBeing": 5.1,
         "InequalityAdjustedWellbeing": 4.6
        },
        {
         "AverageWellBeing": 6.4,
         "InequalityAdjustedWellbeing": 5.7
        },
        {
         "AverageWellBeing": 4,
         "InequalityAdjustedWellbeing": 3.7
        },
        {
         "AverageWellBeing": 7.3,
         "InequalityAdjustedWellbeing": 6.8
        },
        {
         "AverageWellBeing": 3.8,
         "InequalityAdjustedWellbeing": 3.5
        },
        {
         "AverageWellBeing": 6,
         "InequalityAdjustedWellbeing": 5.5
        },
        {
         "AverageWellBeing": 6.2,
         "InequalityAdjustedWellbeing": 5.7
        },
        {
         "AverageWellBeing": 6.3,
         "InequalityAdjustedWellbeing": 5.9
        },
        {
         "AverageWellBeing": 7.5,
         "InequalityAdjustedWellbeing": 7.2
        },
        {
         "AverageWellBeing": 4.4,
         "InequalityAdjustedWellbeing": 3.8
        },
        {
         "AverageWellBeing": 4.8,
         "InequalityAdjustedWellbeing": 4.1
        },
        {
         "AverageWellBeing": 6,
         "InequalityAdjustedWellbeing": 5.5
        },
        {
         "AverageWellBeing": 4.2,
         "InequalityAdjustedWellbeing": 3.7
        },
        {
         "AverageWellBeing": 5.9,
         "InequalityAdjustedWellbeing": 5.3
        },
        {
         "AverageWellBeing": 5.4,
         "InequalityAdjustedWellbeing": 5
        },
        {
         "AverageWellBeing": 4.6,
         "InequalityAdjustedWellbeing": 4.2
        },
        {
         "AverageWellBeing": 7.4,
         "InequalityAdjustedWellbeing": 7.2
        },
        {
         "AverageWellBeing": 6.6,
         "InequalityAdjustedWellbeing": 6.3
        },
        {
         "AverageWellBeing": 4,
         "InequalityAdjustedWellbeing": 3.5
        },
        {
         "AverageWellBeing": 4.3,
         "InequalityAdjustedWellbeing": 3.8
        },
        {
         "AverageWellBeing": 6.7,
         "InequalityAdjustedWellbeing": 6.4
        },
        {
         "AverageWellBeing": 5.1,
         "InequalityAdjustedWellbeing": 4.6
        },
        {
         "AverageWellBeing": 5.1,
         "InequalityAdjustedWellbeing": 4.5
        },
        {
         "AverageWellBeing": 5.9,
         "InequalityAdjustedWellbeing": 5.2
        },
        {
         "AverageWellBeing": 3.7,
         "InequalityAdjustedWellbeing": 3.3
        },
        {
         "AverageWellBeing": 4.4,
         "InequalityAdjustedWellbeing": 4
        },
        {
         "AverageWellBeing": 4.6,
         "InequalityAdjustedWellbeing": 3.9
        },
        {
         "AverageWellBeing": 5.5,
         "InequalityAdjustedWellbeing": 5.1
        },
        {
         "AverageWellBeing": 4.7,
         "InequalityAdjustedWellbeing": 4.2
        },
        {
         "AverageWellBeing": 7.6,
         "InequalityAdjustedWellbeing": 7.4
        },
        {
         "AverageWellBeing": 4.6,
         "InequalityAdjustedWellbeing": 4.2
        },
        {
         "AverageWellBeing": 5.4,
         "InequalityAdjustedWellbeing": 5.1
        },
        {
         "AverageWellBeing": 4.6,
         "InequalityAdjustedWellbeing": 4
        },
        {
         "AverageWellBeing": 4.7,
         "InequalityAdjustedWellbeing": 4.3
        },
        {
         "AverageWellBeing": 7,
         "InequalityAdjustedWellbeing": 6.7
        },
        {
         "AverageWellBeing": 7.1,
         "InequalityAdjustedWellbeing": 6.8
        },
        {
         "AverageWellBeing": 5.8,
         "InequalityAdjustedWellbeing": 5.3
        },
        {
         "AverageWellBeing": 5.6,
         "InequalityAdjustedWellbeing": 5
        },
        {
         "AverageWellBeing": 6,
         "InequalityAdjustedWellbeing": 5.6
        },
        {
         "AverageWellBeing": 5.8,
         "InequalityAdjustedWellbeing": 5.4
        },
        {
         "AverageWellBeing": 4.5,
         "InequalityAdjustedWellbeing": 4.1
        },
        {
         "AverageWellBeing": 5.2,
         "InequalityAdjustedWellbeing": 4.9
        },
        {
         "AverageWellBeing": 5.1,
         "InequalityAdjustedWellbeing": 4.7
        },
        {
         "AverageWellBeing": 4.6,
         "InequalityAdjustedWellbeing": 4
        },
        {
         "AverageWellBeing": 4.9,
         "InequalityAdjustedWellbeing": 4.3
        },
        {
         "AverageWellBeing": 4.4,
         "InequalityAdjustedWellbeing": 4.1
        },
        {
         "AverageWellBeing": 5.8,
         "InequalityAdjustedWellbeing": 5.4
        },
        {
         "AverageWellBeing": 7,
         "InequalityAdjustedWellbeing": 6.7
        },
        {
         "AverageWellBeing": 4.6,
         "InequalityAdjustedWellbeing": 4.1
        },
        {
         "AverageWellBeing": 4.3,
         "InequalityAdjustedWellbeing": 3.5
        },
        {
         "AverageWellBeing": 5.9,
         "InequalityAdjustedWellbeing": 5.7
        },
        {
         "AverageWellBeing": 6,
         "InequalityAdjustedWellbeing": 5.5
        },
        {
         "AverageWellBeing": 4.7,
         "InequalityAdjustedWellbeing": 4.5
        },
        {
         "AverageWellBeing": 5.5,
         "InequalityAdjustedWellbeing": 5.1
        },
        {
         "AverageWellBeing": 7.3,
         "InequalityAdjustedWellbeing": 6.8
        },
        {
         "AverageWellBeing": 4.9,
         "InequalityAdjustedWellbeing": 4.6
        },
        {
         "AverageWellBeing": 5.2,
         "InequalityAdjustedWellbeing": 4.6
        },
        {
         "AverageWellBeing": 5,
         "InequalityAdjustedWellbeing": 4.5
        },
        {
         "AverageWellBeing": 5,
         "InequalityAdjustedWellbeing": 4.5
        },
        {
         "AverageWellBeing": 4.4,
         "InequalityAdjustedWellbeing": 4
        },
        {
         "AverageWellBeing": 4.7,
         "InequalityAdjustedWellbeing": 4.4
        },
        {
         "AverageWellBeing": 4.2,
         "InequalityAdjustedWellbeing": 3.8
        },
        {
         "AverageWellBeing": 7.5,
         "InequalityAdjustedWellbeing": 7.5
        },
        {
         "AverageWellBeing": 7.2,
         "InequalityAdjustedWellbeing": 6.9
        },
        {
         "AverageWellBeing": 5.4,
         "InequalityAdjustedWellbeing": 4.8
        },
        {
         "AverageWellBeing": 3.8,
         "InequalityAdjustedWellbeing": 3.5
        },
        {
         "AverageWellBeing": 5.5,
         "InequalityAdjustedWellbeing": 5.2
        },
        {
         "AverageWellBeing": 7.7,
         "InequalityAdjustedWellbeing": 7.4
        },
        {
         "AverageWellBeing": 6.9,
         "InequalityAdjustedWellbeing": 6.4
        },
        {
         "AverageWellBeing": 5.1,
         "InequalityAdjustedWellbeing": 4.6
        },
        {
         "AverageWellBeing": 4.6,
         "InequalityAdjustedWellbeing": 4.1
        },
        {
         "AverageWellBeing": 6.9,
         "InequalityAdjustedWellbeing": 6.3
        },
        {
         "AverageWellBeing": 5.8,
         "InequalityAdjustedWellbeing": 5.5
        },
        {
         "AverageWellBeing": 5.8,
         "InequalityAdjustedWellbeing": 5.3
        },
        {
         "AverageWellBeing": 5,
         "InequalityAdjustedWellbeing": 4.4
        },
        {
         "AverageWellBeing": 5.9,
         "InequalityAdjustedWellbeing": 5.5
        },
        {
         "AverageWellBeing": 5,
         "InequalityAdjustedWellbeing": 4.3
        },
        {
         "AverageWellBeing": 3.9,
         "InequalityAdjustedWellbeing": 3.4
        },
        {
         "AverageWellBeing": 5.2,
         "InequalityAdjustedWellbeing": 4.6
        },
        {
         "AverageWellBeing": 5.6,
         "InequalityAdjustedWellbeing": 5.2
        },
        {
         "AverageWellBeing": 3.3,
         "InequalityAdjustedWellbeing": 3
        },
        {
         "AverageWellBeing": 3.7,
         "InequalityAdjustedWellbeing": 3.3
        },
        {
         "AverageWellBeing": 5.2,
         "InequalityAdjustedWellbeing": 4.6
        },
        {
         "AverageWellBeing": 4.5,
         "InequalityAdjustedWellbeing": 4
        },
        {
         "AverageWellBeing": 5.9,
         "InequalityAdjustedWellbeing": 5.4
        },
        {
         "AverageWellBeing": 6.1,
         "InequalityAdjustedWellbeing": 5.7
        },
        {
         "AverageWellBeing": 5.1,
         "InequalityAdjustedWellbeing": 4.6
        },
        {
         "AverageWellBeing": 6,
         "InequalityAdjustedWellbeing": 5.5
        },
        {
         "AverageWellBeing": 6.3,
         "InequalityAdjustedWellbeing": 5.9
        },
        {
         "AverageWellBeing": 4.2,
         "InequalityAdjustedWellbeing": 3.8
        },
        {
         "AverageWellBeing": 6.3,
         "InequalityAdjustedWellbeing": 5.9
        },
        {
         "AverageWellBeing": 4.9,
         "InequalityAdjustedWellbeing": 4.4
        },
        {
         "AverageWellBeing": 7.6,
         "InequalityAdjustedWellbeing": 7.4
        },
        {
         "AverageWellBeing": 7.8,
         "InequalityAdjustedWellbeing": 7.6
        },
        {
         "AverageWellBeing": 3.2,
         "InequalityAdjustedWellbeing": 2.6
        },
        {
         "AverageWellBeing": 4.5,
         "InequalityAdjustedWellbeing": 4.3
        },
        {
         "AverageWellBeing": 4,
         "InequalityAdjustedWellbeing": 3.6
        },
        {
         "AverageWellBeing": 6.3,
         "InequalityAdjustedWellbeing": 6
        },
        {
         "AverageWellBeing": 2.9,
         "InequalityAdjustedWellbeing": 2.4
        },
        {
         "AverageWellBeing": 6.4,
         "InequalityAdjustedWellbeing": 6
        },
        {
         "AverageWellBeing": 4.5,
         "InequalityAdjustedWellbeing": 4
        },
        {
         "AverageWellBeing": 5.3,
         "InequalityAdjustedWellbeing": 4.9
        },
        {
         "AverageWellBeing": 5.5,
         "InequalityAdjustedWellbeing": 5.1
        },
        {
         "AverageWellBeing": 4.3,
         "InequalityAdjustedWellbeing": 3.9
        },
        {
         "AverageWellBeing": 5,
         "InequalityAdjustedWellbeing": 4.6
        },
        {
         "AverageWellBeing": 6.9,
         "InequalityAdjustedWellbeing": 6.6
        },
        {
         "AverageWellBeing": 7,
         "InequalityAdjustedWellbeing": 6.5
        },
        {
         "AverageWellBeing": 6.4,
         "InequalityAdjustedWellbeing": 5.8
        },
        {
         "AverageWellBeing": 6,
         "InequalityAdjustedWellbeing": 5.6
        },
        {
         "AverageWellBeing": 6.5,
         "InequalityAdjustedWellbeing": 5.9
        },
        {
         "AverageWellBeing": 7.1,
         "InequalityAdjustedWellbeing": 6.5
        },
        {
         "AverageWellBeing": 5.5,
         "InequalityAdjustedWellbeing": 5.2
        },
        {
         "AverageWellBeing": 4.1,
         "InequalityAdjustedWellbeing": 3.6
        },
        {
         "AverageWellBeing": 5,
         "InequalityAdjustedWellbeing": 4.5
        },
        {
         "AverageWellBeing": 5,
         "InequalityAdjustedWellbeing": 4.6
        }
       ]
      },
      "encoding": {
       "x": {
        "field": "InequalityAdjustedWellbeing",
        "scale": {
         "domain": [
          2.4,
          7.6
         ]
        },
        "type": "quantitative"
       },
       "y": {
        "field": "AverageWellBeing",
        "scale": {
         "domain": [
          2.9,
          7.8
         ]
        },
        "type": "quantitative"
       }
      },
      "height": 150,
      "mark": "circle",
      "selection": {
       "selector002": {
        "bind": "scales",
        "encodings": [
         "x",
         "y"
        ],
        "type": "interval"
       }
      },
      "width": 160
     }
    },
    "time": "2020-07-12T14:12:33.141Z",
    "type": "clickVis"
   },
   {
    "code": "df = pd.read_csv(\"lux/data/hpi.csv\")\ndf.set_default_display(\"lux\") #set Lux as default view\ndf",
    "id": "12a1be56c9ae4abab0a1f946bd40bc68",
    "order_count": 3,
    "time": "2020-07-12T14:12:33.644Z",
    "type": "selectCodeCell"
   },
   {
    "param": {
     "index": 2,
     "tabTitle": "Correlation",
     "vis": {
      "$schema": "https://vega.github.io/schema/vega-lite/v4.8.1.json",
      "config": {
       "mark": {
        "tooltip": {
         "content": "encoding"
        }
       },
       "view": {
        "continuousHeight": 300,
        "continuousWidth": 400
       }
      },
      "data": {
       "name": "data-1dbc478f1621a81afe9776f917f39e67"
      },
      "datasets": {
       "data-1dbc478f1621a81afe9776f917f39e67": [
        {
         "AverageLifeExpectancy": 59.7,
         "InequalityAdjustedLifeExpectancy": 38.3
        },
        {
         "AverageLifeExpectancy": 77.3,
         "InequalityAdjustedLifeExpectancy": 69.7
        },
        {
         "AverageLifeExpectancy": 74.3,
         "InequalityAdjustedLifeExpectancy": 60.5
        },
        {
         "AverageLifeExpectancy": 75.9,
         "InequalityAdjustedLifeExpectancy": 68.3
        },
        {
         "AverageLifeExpectancy": 74.4,
         "InequalityAdjustedLifeExpectancy": 66.9
        },
        {
         "AverageLifeExpectancy": 82.1,
         "InequalityAdjustedLifeExpectancy": 78.6
        },
        {
         "AverageLifeExpectancy": 81,
         "InequalityAdjustedLifeExpectancy": 78
        },
        {
         "AverageLifeExpectancy": 70.8,
         "InequalityAdjustedLifeExpectancy": 56.6
        },
        {
         "AverageLifeExpectancy": 70.9,
         "InequalityAdjustedLifeExpectancy": 66.7
        },
        {
         "AverageLifeExpectancy": 80.4,
         "InequalityAdjustedLifeExpectancy": 77.2
        },
        {
         "AverageLifeExpectancy": 69.8,
         "InequalityAdjustedLifeExpectancy": 61.7
        },
        {
         "AverageLifeExpectancy": 59.2,
         "InequalityAdjustedLifeExpectancy": 37.3
        },
        {
         "AverageLifeExpectancy": 68.7,
         "InequalityAdjustedLifeExpectancy": 54.5
        },
        {
         "AverageLifeExpectancy": 67.5,
         "InequalityAdjustedLifeExpectancy": 47.9
        },
        {
         "AverageLifeExpectancy": 76.2,
         "InequalityAdjustedLifeExpectancy": 71.1
        },
        {
         "AverageLifeExpectancy": 64.2,
         "InequalityAdjustedLifeExpectancy": 50.8
        },
        {
         "AverageLifeExpectancy": 73.9,
         "InequalityAdjustedLifeExpectancy": 63.3
        },
        {
         "AverageLifeExpectancy": 73.9,
         "InequalityAdjustedLifeExpectancy": 68.1
        },
        {
         "AverageLifeExpectancy": 58,
         "InequalityAdjustedLifeExpectancy": 36.5
        },
        {
         "AverageLifeExpectancy": 55.8,
         "InequalityAdjustedLifeExpectancy": 33
        },
        {
         "AverageLifeExpectancy": 67.5,
         "InequalityAdjustedLifeExpectancy": 54.2
        },
        {
         "AverageLifeExpectancy": 54.6,
         "InequalityAdjustedLifeExpectancy": 33.1
        },
        {
         "AverageLifeExpectancy": 81.7,
         "InequalityAdjustedLifeExpectancy": 77.8
        },
        {
         "AverageLifeExpectancy": 50.8,
         "InequalityAdjustedLifeExpectancy": 27.3
        },
        {
         "AverageLifeExpectancy": 81.1,
         "InequalityAdjustedLifeExpectancy": 74.9
        },
        {
         "AverageLifeExpectancy": 75.4,
         "InequalityAdjustedLifeExpectancy": 68.6
        },
        {
         "AverageLifeExpectancy": 73.7,
         "InequalityAdjustedLifeExpectancy": 63.1
        },
        {
         "AverageLifeExpectancy": 62.6,
         "InequalityAdjustedLifeExpectancy": 43.3
        },
        {
         "AverageLifeExpectancy": 79.1,
         "InequalityAdjustedLifeExpectancy": 72.6
        },
        {
         "AverageLifeExpectancy": 50.8,
         "InequalityAdjustedLifeExpectancy": 30.6
        },
        {
         "AverageLifeExpectancy": 77,
         "InequalityAdjustedLifeExpectancy": 73.5
        },
        {
         "AverageLifeExpectancy": 79.8,
         "InequalityAdjustedLifeExpectancy": 76.6
        },
        {
         "AverageLifeExpectancy": 78.2,
         "InequalityAdjustedLifeExpectancy": 75.5
        },
        {
         "AverageLifeExpectancy": 79.8,
         "InequalityAdjustedLifeExpectancy": 76.8
        },
        {
         "AverageLifeExpectancy": 61.3,
         "InequalityAdjustedLifeExpectancy": 41.4
        },
        {
         "AverageLifeExpectancy": 73.1,
         "InequalityAdjustedLifeExpectancy": 60.8
        },
        {
         "AverageLifeExpectancy": 75.4,
         "InequalityAdjustedLifeExpectancy": 64.1
        },
        {
         "AverageLifeExpectancy": 70.7,
         "InequalityAdjustedLifeExpectancy": 61.3
        },
        {
         "AverageLifeExpectancy": 72.5,
         "InequalityAdjustedLifeExpectancy": 62.5
        },
        {
         "AverageLifeExpectancy": 76.2,
         "InequalityAdjustedLifeExpectancy": 72.6
        },
        {
         "AverageLifeExpectancy": 62.8,
         "InequalityAdjustedLifeExpectancy": 43.8
        },
        {
         "AverageLifeExpectancy": 80.4,
         "InequalityAdjustedLifeExpectancy": 77.6
        },
        {
         "AverageLifeExpectancy": 81.8,
         "InequalityAdjustedLifeExpectancy": 78.5
        },
        {
         "AverageLifeExpectancy": 63.3,
         "InequalityAdjustedLifeExpectancy": 45.8
        },
        {
         "AverageLifeExpectancy": 74.6,
         "InequalityAdjustedLifeExpectancy": 66.9
        },
        {
         "AverageLifeExpectancy": 80.6,
         "InequalityAdjustedLifeExpectancy": 77.6
        },
        {
         "AverageLifeExpectancy": 61,
         "InequalityAdjustedLifeExpectancy": 42.2
        },
        {
         "AverageLifeExpectancy": 80.5,
         "InequalityAdjustedLifeExpectancy": 77.6
        },
        {
         "AverageLifeExpectancy": 71.4,
         "InequalityAdjustedLifeExpectancy": 59.2
        },
        {
         "AverageLifeExpectancy": 57.7,
         "InequalityAdjustedLifeExpectancy": 37.2
        },
        {
         "AverageLifeExpectancy": 62.1,
         "InequalityAdjustedLifeExpectancy": 42.9
        },
        {
         "AverageLifeExpectancy": 72.8,
         "InequalityAdjustedLifeExpectancy": 58.5
        },
        {
         "AverageLifeExpectancy": 83.6,
         "InequalityAdjustedLifeExpectancy": 81.3
        },
        {
         "AverageLifeExpectancy": 74.9,
         "InequalityAdjustedLifeExpectancy": 70.9
        },
        {
         "AverageLifeExpectancy": 82.2,
         "InequalityAdjustedLifeExpectancy": 79.8
        },
        {
         "AverageLifeExpectancy": 67.3,
         "InequalityAdjustedLifeExpectancy": 51.1
        },
        {
         "AverageLifeExpectancy": 68.5,
         "InequalityAdjustedLifeExpectancy": 57.2
        },
        {
         "AverageLifeExpectancy": 74.8,
         "InequalityAdjustedLifeExpectancy": 66.9
        },
        {
         "AverageLifeExpectancy": 69,
         "InequalityAdjustedLifeExpectancy": 55.6
        },
        {
         "AverageLifeExpectancy": 80.5,
         "InequalityAdjustedLifeExpectancy": 77.5
        },
        {
         "AverageLifeExpectancy": 81.9,
         "InequalityAdjustedLifeExpectancy": 78.7
        },
        {
         "AverageLifeExpectancy": 82.7,
         "InequalityAdjustedLifeExpectancy": 80.2
        },
        {
         "AverageLifeExpectancy": 75.3,
         "InequalityAdjustedLifeExpectancy": 66.3
        },
        {
         "AverageLifeExpectancy": 83.2,
         "InequalityAdjustedLifeExpectancy": 80.6
        },
        {
         "AverageLifeExpectancy": 68.6,
         "InequalityAdjustedLifeExpectancy": 60.7
        },
        {
         "AverageLifeExpectancy": 60.3,
         "InequalityAdjustedLifeExpectancy": 41
        },
        {
         "AverageLifeExpectancy": 69.7,
         "InequalityAdjustedLifeExpectancy": 60.2
        },
        {
         "AverageLifeExpectancy": 73.6,
         "InequalityAdjustedLifeExpectancy": 68.7
        },
        {
         "AverageLifeExpectancy": 78.8,
         "InequalityAdjustedLifeExpectancy": 73.1
        },
        {
         "AverageLifeExpectancy": 48.9,
         "InequalityAdjustedLifeExpectancy": 32.6
        },
        {
         "AverageLifeExpectancy": 60.2,
         "InequalityAdjustedLifeExpectancy": 40.3
        },
        {
         "AverageLifeExpectancy": 72.8,
         "InequalityAdjustedLifeExpectancy": 68.8
        },
        {
         "AverageLifeExpectancy": 81.1,
         "InequalityAdjustedLifeExpectancy": 79
        },
        {
         "AverageLifeExpectancy": 75.1,
         "InequalityAdjustedLifeExpectancy": 69.4
        },
        {
         "AverageLifeExpectancy": 60.1,
         "InequalityAdjustedLifeExpectancy": 40.4
        },
        {
         "AverageLifeExpectancy": 74.4,
         "InequalityAdjustedLifeExpectancy": 69.5
        },
        {
         "AverageLifeExpectancy": 80.2,
         "InequalityAdjustedLifeExpectancy": 76.6
        },
        {
         "AverageLifeExpectancy": 62.6,
         "InequalityAdjustedLifeExpectancy": 41.5
        },
        {
         "AverageLifeExpectancy": 74,
         "InequalityAdjustedLifeExpectancy": 66.7
        },
        {
         "AverageLifeExpectancy": 76.4,
         "InequalityAdjustedLifeExpectancy": 66.3
        },
        {
         "AverageLifeExpectancy": 68.6,
         "InequalityAdjustedLifeExpectancy": 56.9
        },
        {
         "AverageLifeExpectancy": 75.8,
         "InequalityAdjustedLifeExpectancy": 71.8
        },
        {
         "AverageLifeExpectancy": 73.4,
         "InequalityAdjustedLifeExpectancy": 61.6
        },
        {
         "AverageLifeExpectancy": 54.3,
         "InequalityAdjustedLifeExpectancy": 34.5
        },
        {
         "AverageLifeExpectancy": 65.5,
         "InequalityAdjustedLifeExpectancy": 48.4
        },
        {
         "AverageLifeExpectancy": 64,
         "InequalityAdjustedLifeExpectancy": 50.1
        },
        {
         "AverageLifeExpectancy": 68.8,
         "InequalityAdjustedLifeExpectancy": 55.3
        },
        {
         "AverageLifeExpectancy": 81.2,
         "InequalityAdjustedLifeExpectancy": 78.2
        },
        {
         "AverageLifeExpectancy": 81.4,
         "InequalityAdjustedLifeExpectancy": 77.7
        },
        {
         "AverageLifeExpectancy": 74.3,
         "InequalityAdjustedLifeExpectancy": 63.4
        },
        {
         "AverageLifeExpectancy": 60,
         "InequalityAdjustedLifeExpectancy": 38.9
        },
        {
         "AverageLifeExpectancy": 52.1,
         "InequalityAdjustedLifeExpectancy": 30.9
        },
        {
         "AverageLifeExpectancy": 81.3,
         "InequalityAdjustedLifeExpectancy": 78.6
        },
        {
         "AverageLifeExpectancy": 76.3,
         "InequalityAdjustedLifeExpectancy": 70.9
        },
        {
         "AverageLifeExpectancy": 65.7,
         "InequalityAdjustedLifeExpectancy": 44.1
        },
        {
         "AverageLifeExpectancy": 72.6,
         "InequalityAdjustedLifeExpectancy": 62.6
        },
        {
         "AverageLifeExpectancy": 77.2,
         "InequalityAdjustedLifeExpectancy": 68.3
        },
        {
         "AverageLifeExpectancy": 72.6,
         "InequalityAdjustedLifeExpectancy": 59.4
        },
        {
         "AverageLifeExpectancy": 74.1,
         "InequalityAdjustedLifeExpectancy": 63.5
        },
        {
         "AverageLifeExpectancy": 67.9,
         "InequalityAdjustedLifeExpectancy": 56.9
        },
        {
         "AverageLifeExpectancy": 76.9,
         "InequalityAdjustedLifeExpectancy": 72.9
        },
        {
         "AverageLifeExpectancy": 80.3,
         "InequalityAdjustedLifeExpectancy": 77.2
        },
        {
         "AverageLifeExpectancy": 61,
         "InequalityAdjustedLifeExpectancy": 42
        },
        {
         "AverageLifeExpectancy": 74.3,
         "InequalityAdjustedLifeExpectancy": 68.1
        },
        {
         "AverageLifeExpectancy": 69.5,
         "InequalityAdjustedLifeExpectancy": 63.4
        },
        {
         "AverageLifeExpectancy": 63.1,
         "InequalityAdjustedLifeExpectancy": 44.3
        },
        {
         "AverageLifeExpectancy": 65.4,
         "InequalityAdjustedLifeExpectancy": 49.1
        },
        {
         "AverageLifeExpectancy": 74.5,
         "InequalityAdjustedLifeExpectancy": 68.6
        },
        {
         "AverageLifeExpectancy": 49.8,
         "InequalityAdjustedLifeExpectancy": 28.2
        },
        {
         "AverageLifeExpectancy": 75.9,
         "InequalityAdjustedLifeExpectancy": 71.9
        },
        {
         "AverageLifeExpectancy": 80,
         "InequalityAdjustedLifeExpectancy": 77.1
        },
        {
         "AverageLifeExpectancy": 56.3,
         "InequalityAdjustedLifeExpectancy": 41.8
        },
        {
         "AverageLifeExpectancy": 81.3,
         "InequalityAdjustedLifeExpectancy": 78.3
        },
        {
         "AverageLifeExpectancy": 82.2,
         "InequalityAdjustedLifeExpectancy": 79.3
        },
        {
         "AverageLifeExpectancy": 74.6,
         "InequalityAdjustedLifeExpectancy": 68.6
        },
        {
         "AverageLifeExpectancy": 70.8,
         "InequalityAdjustedLifeExpectancy": 61.2
        },
        {
         "AverageLifeExpectancy": 48.9,
         "InequalityAdjustedLifeExpectancy": 31.8
        },
        {
         "AverageLifeExpectancy": 81.8,
         "InequalityAdjustedLifeExpectancy": 79.1
        },
        {
         "AverageLifeExpectancy": 82.6,
         "InequalityAdjustedLifeExpectancy": 79.4
        },
        {
         "AverageLifeExpectancy": 70.4,
         "InequalityAdjustedLifeExpectancy": 60.2
        },
        {
         "AverageLifeExpectancy": 69,
         "InequalityAdjustedLifeExpectancy": 53
        },
        {
         "AverageLifeExpectancy": 63.5,
         "InequalityAdjustedLifeExpectancy": 47.7
        },
        {
         "AverageLifeExpectancy": 74.1,
         "InequalityAdjustedLifeExpectancy": 66.3
        },
        {
         "AverageLifeExpectancy": 58.6,
         "InequalityAdjustedLifeExpectancy": 39.6
        },
        {
         "AverageLifeExpectancy": 70.1,
         "InequalityAdjustedLifeExpectancy": 58.4
        },
        {
         "AverageLifeExpectancy": 74.6,
         "InequalityAdjustedLifeExpectancy": 65.5
        },
        {
         "AverageLifeExpectancy": 74.7,
         "InequalityAdjustedLifeExpectancy": 66.2
        },
        {
         "AverageLifeExpectancy": 65.3,
         "InequalityAdjustedLifeExpectancy": 48.3
        },
        {
         "AverageLifeExpectancy": 57.1,
         "InequalityAdjustedLifeExpectancy": 36.8
        },
        {
         "AverageLifeExpectancy": 70.3,
         "InequalityAdjustedLifeExpectancy": 64.2
        },
        {
         "AverageLifeExpectancy": 80.4,
         "InequalityAdjustedLifeExpectancy": 76.8
        },
        {
         "AverageLifeExpectancy": 78.8,
         "InequalityAdjustedLifeExpectancy": 74
        },
        {
         "AverageLifeExpectancy": 76.9,
         "InequalityAdjustedLifeExpectancy": 69.6
        },
        {
         "AverageLifeExpectancy": 68.2,
         "InequalityAdjustedLifeExpectancy": 51.6
        },
        {
         "AverageLifeExpectancy": 71.3,
         "InequalityAdjustedLifeExpectancy": 60.3
        },
        {
         "AverageLifeExpectancy": 73.9,
         "InequalityAdjustedLifeExpectancy": 65.5
        },
        {
         "AverageLifeExpectancy": 75.5,
         "InequalityAdjustedLifeExpectancy": 64.8
        },
        {
         "AverageLifeExpectancy": 63.3,
         "InequalityAdjustedLifeExpectancy": 44.7
        },
        {
         "AverageLifeExpectancy": 58.4,
         "InequalityAdjustedLifeExpectancy": 38.7
        },
        {
         "AverageLifeExpectancy": 53.7,
         "InequalityAdjustedLifeExpectancy": 36.9
        }
       ]
      },
      "encoding": {
       "x": {
        "field": "AverageLifeExpectancy",
        "scale": {
         "domain": [
          48.9,
          83.6
         ]
        },
        "type": "quantitative"
       },
       "y": {
        "field": "InequalityAdjustedLifeExpectancy",
        "scale": {
         "domain": [
          27.3,
          81.3
         ]
        },
        "type": "quantitative"
       }
      },
      "height": 150,
      "mark": "circle",
      "selection": {
       "selector003": {
        "bind": "scales",
        "encodings": [
         "x",
         "y"
        ],
        "type": "interval"
       }
      },
      "width": 160
     }
    },
    "time": "2020-07-12T14:12:33.646Z",
    "type": "clickVis"
   },
   {
    "param": "Correlation",
    "time": "2020-07-12T14:12:34.156Z",
    "type": "startScroll"
   },
   {
    "param": "Correlation",
    "time": "2020-07-12T14:12:34.518Z",
    "type": "stopScroll"
   },
   {
    "code": "df = pd.read_csv(\"lux/data/hpi.csv\")\ndf.set_default_display(\"lux\") #set Lux as default view\ndf",
    "id": "12a1be56c9ae4abab0a1f946bd40bc68",
    "order_count": 3,
    "time": "2020-07-12T14:12:34.725Z",
    "type": "selectCodeCell"
   },
   {
    "param": {
     "index": 3,
     "tabTitle": "Correlation",
     "vis": {
      "$schema": "https://vega.github.io/schema/vega-lite/v4.8.1.json",
      "config": {
       "mark": {
        "tooltip": {
         "content": "encoding"
        }
       },
       "view": {
        "continuousHeight": 300,
        "continuousWidth": 400
       }
      },
      "data": {
       "name": "data-e7e34cde487c40c25a204bd11a5f13b1"
      },
      "datasets": {
       "data-e7e34cde487c40c25a204bd11a5f13b1": [
        {
         "InequalityAdjustedLifeExpectancy": 38.3,
         "InequalityOfOutcomes": 0.43
        },
        {
         "InequalityAdjustedLifeExpectancy": 69.7,
         "InequalityOfOutcomes": 0.17
        },
        {
         "InequalityAdjustedLifeExpectancy": 60.5,
         "InequalityOfOutcomes": 0.24
        },
        {
         "InequalityAdjustedLifeExpectancy": 68.3,
         "InequalityOfOutcomes": 0.16
        },
        {
         "InequalityAdjustedLifeExpectancy": 66.9,
         "InequalityOfOutcomes": 0.22
        },
        {
         "InequalityAdjustedLifeExpectancy": 78.6,
         "InequalityOfOutcomes": 0.08
        },
        {
         "InequalityAdjustedLifeExpectancy": 78,
         "InequalityOfOutcomes": 0.07
        },
        {
         "InequalityAdjustedLifeExpectancy": 56.6,
         "InequalityOfOutcomes": 0.27
        },
        {
         "InequalityAdjustedLifeExpectancy": 66.7,
         "InequalityOfOutcomes": 0.13
        },
        {
         "InequalityAdjustedLifeExpectancy": 77.2,
         "InequalityOfOutcomes": 0.09
        },
        {
         "InequalityAdjustedLifeExpectancy": 61.7,
         "InequalityOfOutcomes": 0.18
        },
        {
         "InequalityAdjustedLifeExpectancy": 37.3,
         "InequalityOfOutcomes": 0.44
        },
        {
         "InequalityAdjustedLifeExpectancy": 54.5,
         "InequalityOfOutcomes": 0.27
        },
        {
         "InequalityAdjustedLifeExpectancy": 47.9,
         "InequalityOfOutcomes": 0.35000000000000003
        },
        {
         "InequalityAdjustedLifeExpectancy": 71.1,
         "InequalityOfOutcomes": 0.19
        },
        {
         "InequalityAdjustedLifeExpectancy": 50.8,
         "InequalityOfOutcomes": 0.28
        },
        {
         "InequalityAdjustedLifeExpectancy": 63.3,
         "InequalityOfOutcomes": 0.22
        },
        {
         "InequalityAdjustedLifeExpectancy": 68.1,
         "InequalityOfOutcomes": 0.19
        },
        {
         "InequalityAdjustedLifeExpectancy": 36.5,
         "InequalityOfOutcomes": 0.43
        },
        {
         "InequalityAdjustedLifeExpectancy": 33,
         "InequalityOfOutcomes": 0.48
        },
        {
         "InequalityAdjustedLifeExpectancy": 54.2,
         "InequalityOfOutcomes": 0.28
        },
        {
         "InequalityAdjustedLifeExpectancy": 33.1,
         "InequalityOfOutcomes": 0.47
        },
        {
         "InequalityAdjustedLifeExpectancy": 77.8,
         "InequalityOfOutcomes": 0.09
        },
        {
         "InequalityAdjustedLifeExpectancy": 27.3,
         "InequalityOfOutcomes": 0.51
        },
        {
         "InequalityAdjustedLifeExpectancy": 74.9,
         "InequalityOfOutcomes": 0.14
        },
        {
         "InequalityAdjustedLifeExpectancy": 68.6,
         "InequalityOfOutcomes": 0.17
        },
        {
         "InequalityAdjustedLifeExpectancy": 63.1,
         "InequalityOfOutcomes": 0.24
        },
        {
         "InequalityAdjustedLifeExpectancy": 43.3,
         "InequalityOfOutcomes": 0.36
        },
        {
         "InequalityAdjustedLifeExpectancy": 72.6,
         "InequalityOfOutcomes": 0.15
        },
        {
         "InequalityAdjustedLifeExpectancy": 30.6,
         "InequalityOfOutcomes": 0.45
        },
        {
         "InequalityAdjustedLifeExpectancy": 73.5,
         "InequalityOfOutcomes": 0.12
        },
        {
         "InequalityAdjustedLifeExpectancy": 76.6,
         "InequalityOfOutcomes": 0.12
        },
        {
         "InequalityAdjustedLifeExpectancy": 75.5,
         "InequalityOfOutcomes": 0.09
        },
        {
         "InequalityAdjustedLifeExpectancy": 76.8,
         "InequalityOfOutcomes": 0.07
        },
        {
         "InequalityAdjustedLifeExpectancy": 41.4,
         "InequalityOfOutcomes": 0.42
        },
        {
         "InequalityAdjustedLifeExpectancy": 60.8,
         "InequalityOfOutcomes": 0.3
        },
        {
         "InequalityAdjustedLifeExpectancy": 64.1,
         "InequalityOfOutcomes": 0.22
        },
        {
         "InequalityAdjustedLifeExpectancy": 61.3,
         "InequalityOfOutcomes": 0.23
        },
        {
         "InequalityAdjustedLifeExpectancy": 62.5,
         "InequalityOfOutcomes": 0.22
        },
        {
         "InequalityAdjustedLifeExpectancy": 72.6,
         "InequalityOfOutcomes": 0.12
        },
        {
         "InequalityAdjustedLifeExpectancy": 43.8,
         "InequalityOfOutcomes": 0.36
        },
        {
         "InequalityAdjustedLifeExpectancy": 77.6,
         "InequalityOfOutcomes": 0.06
        },
        {
         "InequalityAdjustedLifeExpectancy": 78.5,
         "InequalityOfOutcomes": 0.09
        },
        {
         "InequalityAdjustedLifeExpectancy": 45.8,
         "InequalityOfOutcomes": 0.36
        },
        {
         "InequalityAdjustedLifeExpectancy": 66.9,
         "InequalityOfOutcomes": 0.2
        },
        {
         "InequalityAdjustedLifeExpectancy": 77.6,
         "InequalityOfOutcomes": 0.08
        },
        {
         "InequalityAdjustedLifeExpectancy": 42.2,
         "InequalityOfOutcomes": 0.38
        },
        {
         "InequalityAdjustedLifeExpectancy": 77.6,
         "InequalityOfOutcomes": 0.16
        },
        {
         "InequalityAdjustedLifeExpectancy": 59.2,
         "InequalityOfOutcomes": 0.27
        },
        {
         "InequalityAdjustedLifeExpectancy": 37.2,
         "InequalityOfOutcomes": 0.42
        },
        {
         "InequalityAdjustedLifeExpectancy": 42.9,
         "InequalityOfOutcomes": 0.37
        },
        {
         "InequalityAdjustedLifeExpectancy": 58.5,
         "InequalityOfOutcomes": 0.31
        },
        {
         "InequalityAdjustedLifeExpectancy": 81.3,
         "InequalityOfOutcomes": 0.1
        },
        {
         "InequalityAdjustedLifeExpectancy": 70.9,
         "InequalityOfOutcomes": 0.15
        },
        {
         "InequalityAdjustedLifeExpectancy": 79.8,
         "InequalityOfOutcomes": 0.05
        },
        {
         "InequalityAdjustedLifeExpectancy": 51.1,
         "InequalityOfOutcomes": 0.31
        },
        {
         "InequalityAdjustedLifeExpectancy": 57.2,
         "InequalityOfOutcomes": 0.21
        },
        {
         "InequalityAdjustedLifeExpectancy": 66.9,
         "InequalityOfOutcomes": 0.23
        },
        {
         "InequalityAdjustedLifeExpectancy": 55.6,
         "InequalityOfOutcomes": 0.27
        },
        {
         "InequalityAdjustedLifeExpectancy": 77.5,
         "InequalityOfOutcomes": 0.08
        },
        {
         "InequalityAdjustedLifeExpectancy": 78.7,
         "InequalityOfOutcomes": 0.08
        },
        {
         "InequalityAdjustedLifeExpectancy": 80.2,
         "InequalityOfOutcomes": 0.12
        },
        {
         "InequalityAdjustedLifeExpectancy": 66.3,
         "InequalityOfOutcomes": 0.21
        },
        {
         "InequalityAdjustedLifeExpectancy": 80.6,
         "InequalityOfOutcomes": 0.09
        },
        {
         "InequalityAdjustedLifeExpectancy": 60.7,
         "InequalityOfOutcomes": 0.18
        },
        {
         "InequalityAdjustedLifeExpectancy": 41,
         "InequalityOfOutcomes": 0.38
        },
        {
         "InequalityAdjustedLifeExpectancy": 60.2,
         "InequalityOfOutcomes": 0.18
        },
        {
         "InequalityAdjustedLifeExpectancy": 68.7,
         "InequalityOfOutcomes": 0.14
        },
        {
         "InequalityAdjustedLifeExpectancy": 73.1,
         "InequalityOfOutcomes": 0.19
        },
        {
         "InequalityAdjustedLifeExpectancy": 32.6,
         "InequalityOfOutcomes": 0.42
        },
        {
         "InequalityAdjustedLifeExpectancy": 40.3,
         "InequalityOfOutcomes": 0.38
        },
        {
         "InequalityAdjustedLifeExpectancy": 68.8,
         "InequalityOfOutcomes": 0.11
        },
        {
         "InequalityAdjustedLifeExpectancy": 79,
         "InequalityOfOutcomes": 0.07
        },
        {
         "InequalityAdjustedLifeExpectancy": 69.4,
         "InequalityOfOutcomes": 0.18
        },
        {
         "InequalityAdjustedLifeExpectancy": 40.4,
         "InequalityOfOutcomes": 0.45
        },
        {
         "InequalityAdjustedLifeExpectancy": 69.5,
         "InequalityOfOutcomes": 0.1
        },
        {
         "InequalityAdjustedLifeExpectancy": 76.6,
         "InequalityOfOutcomes": 0.13
        },
        {
         "InequalityAdjustedLifeExpectancy": 41.5,
         "InequalityOfOutcomes": 0.37
        },
        {
         "InequalityAdjustedLifeExpectancy": 66.7,
         "InequalityOfOutcomes": 0.17
        },
        {
         "InequalityAdjustedLifeExpectancy": 66.3,
         "InequalityOfOutcomes": 0.19
        },
        {
         "InequalityAdjustedLifeExpectancy": 56.9,
         "InequalityOfOutcomes": 0.22
        },
        {
         "InequalityAdjustedLifeExpectancy": 71.8,
         "InequalityOfOutcomes": 0.16
        },
        {
         "InequalityAdjustedLifeExpectancy": 61.6,
         "InequalityOfOutcomes": 0.25
        },
        {
         "InequalityAdjustedLifeExpectancy": 34.5,
         "InequalityOfOutcomes": 0.43
        },
        {
         "InequalityAdjustedLifeExpectancy": 48.4,
         "InequalityOfOutcomes": 0.32
        },
        {
         "InequalityAdjustedLifeExpectancy": 50.1,
         "InequalityOfOutcomes": 0.26
        },
        {
         "InequalityAdjustedLifeExpectancy": 55.3,
         "InequalityOfOutcomes": 0.27
        },
        {
         "InequalityAdjustedLifeExpectancy": 78.2,
         "InequalityOfOutcomes": 0.04
        },
        {
         "InequalityAdjustedLifeExpectancy": 77.7,
         "InequalityOfOutcomes": 0.08
        },
        {
         "InequalityAdjustedLifeExpectancy": 63.4,
         "InequalityOfOutcomes": 0.25
        },
        {
         "InequalityAdjustedLifeExpectancy": 38.9,
         "InequalityOfOutcomes": 0.4
        },
        {
         "InequalityAdjustedLifeExpectancy": 30.9,
         "InequalityOfOutcomes": 0.44
        },
        {
         "InequalityAdjustedLifeExpectancy": 78.6,
         "InequalityOfOutcomes": 0.07
        },
        {
         "InequalityAdjustedLifeExpectancy": 70.9,
         "InequalityOfOutcomes": 0.13
        },
        {
         "InequalityAdjustedLifeExpectancy": 44.1,
         "InequalityOfOutcomes": 0.4
        },
        {
         "InequalityAdjustedLifeExpectancy": 62.6,
         "InequalityOfOutcomes": 0.24
        },
        {
         "InequalityAdjustedLifeExpectancy": 68.3,
         "InequalityOfOutcomes": 0.19
        },
        {
         "InequalityAdjustedLifeExpectancy": 59.4,
         "InequalityOfOutcomes": 0.22
        },
        {
         "InequalityAdjustedLifeExpectancy": 63.5,
         "InequalityOfOutcomes": 0.21
        },
        {
         "InequalityAdjustedLifeExpectancy": 56.9,
         "InequalityOfOutcomes": 0.26
        },
        {
         "InequalityAdjustedLifeExpectancy": 72.9,
         "InequalityOfOutcomes": 0.11
        },
        {
         "InequalityAdjustedLifeExpectancy": 77.2,
         "InequalityOfOutcomes": 0.16
        },
        {
         "InequalityAdjustedLifeExpectancy": 42,
         "InequalityOfOutcomes": 0.4
        },
        {
         "InequalityAdjustedLifeExpectancy": 68.1,
         "InequalityOfOutcomes": 0.19
        },
        {
         "InequalityAdjustedLifeExpectancy": 63.4,
         "InequalityOfOutcomes": 0.16
        },
        {
         "InequalityAdjustedLifeExpectancy": 44.3,
         "InequalityOfOutcomes": 0.37
        },
        {
         "InequalityAdjustedLifeExpectancy": 49.1,
         "InequalityOfOutcomes": 0.33
        },
        {
         "InequalityAdjustedLifeExpectancy": 68.6,
         "InequalityOfOutcomes": 0.19
        },
        {
         "InequalityAdjustedLifeExpectancy": 28.2,
         "InequalityOfOutcomes": 0.5
        },
        {
         "InequalityAdjustedLifeExpectancy": 71.9,
         "InequalityOfOutcomes": 0.13
        },
        {
         "InequalityAdjustedLifeExpectancy": 77.1,
         "InequalityOfOutcomes": 0.1
        },
        {
         "InequalityAdjustedLifeExpectancy": 41.8,
         "InequalityOfOutcomes": 0.33
        },
        {
         "InequalityAdjustedLifeExpectancy": 78.3,
         "InequalityOfOutcomes": 0.11
        },
        {
         "InequalityAdjustedLifeExpectancy": 79.3,
         "InequalityOfOutcomes": 0.1
        },
        {
         "InequalityAdjustedLifeExpectancy": 68.6,
         "InequalityOfOutcomes": 0.17
        },
        {
         "InequalityAdjustedLifeExpectancy": 61.2,
         "InequalityOfOutcomes": 0.19
        },
        {
         "InequalityAdjustedLifeExpectancy": 31.8,
         "InequalityOfOutcomes": 0.41
        },
        {
         "InequalityAdjustedLifeExpectancy": 79.1,
         "InequalityOfOutcomes": 0.06
        },
        {
         "InequalityAdjustedLifeExpectancy": 79.4,
         "InequalityOfOutcomes": 0.06
        },
        {
         "InequalityAdjustedLifeExpectancy": 60.2,
         "InequalityOfOutcomes": 0.3
        },
        {
         "InequalityAdjustedLifeExpectancy": 53,
         "InequalityOfOutcomes": 0.26
        },
        {
         "InequalityAdjustedLifeExpectancy": 47.7,
         "InequalityOfOutcomes": 0.33
        },
        {
         "InequalityAdjustedLifeExpectancy": 66.3,
         "InequalityOfOutcomes": 0.15
        },
        {
         "InequalityAdjustedLifeExpectancy": 39.6,
         "InequalityOfOutcomes": 0.43
        },
        {
         "InequalityAdjustedLifeExpectancy": 58.4,
         "InequalityOfOutcomes": 0.21
        },
        {
         "InequalityAdjustedLifeExpectancy": 65.5,
         "InequalityOfOutcomes": 0.22
        },
        {
         "InequalityAdjustedLifeExpectancy": 66.2,
         "InequalityOfOutcomes": 0.19
        },
        {
         "InequalityAdjustedLifeExpectancy": 48.3,
         "InequalityOfOutcomes": 0.31
        },
        {
         "InequalityAdjustedLifeExpectancy": 36.8,
         "InequalityOfOutcomes": 0.41
        },
        {
         "InequalityAdjustedLifeExpectancy": 64.2,
         "InequalityOfOutcomes": 0.17
        },
        {
         "InequalityAdjustedLifeExpectancy": 76.8,
         "InequalityOfOutcomes": 0.09
        },
        {
         "InequalityAdjustedLifeExpectancy": 74,
         "InequalityOfOutcomes": 0.13
        },
        {
         "InequalityAdjustedLifeExpectancy": 69.6,
         "InequalityOfOutcomes": 0.18
        },
        {
         "InequalityAdjustedLifeExpectancy": 51.6,
         "InequalityOfOutcomes": 0.3
        },
        {
         "InequalityAdjustedLifeExpectancy": 60.3,
         "InequalityOfOutcomes": 0.22
        },
        {
         "InequalityAdjustedLifeExpectancy": 65.5,
         "InequalityOfOutcomes": 0.19
        },
        {
         "InequalityAdjustedLifeExpectancy": 64.8,
         "InequalityOfOutcomes": 0.19
        },
        {
         "InequalityAdjustedLifeExpectancy": 44.7,
         "InequalityOfOutcomes": 0.39
        },
        {
         "InequalityAdjustedLifeExpectancy": 38.7,
         "InequalityOfOutcomes": 0.41
        },
        {
         "InequalityAdjustedLifeExpectancy": 36.9,
         "InequalityOfOutcomes": 0.37
        }
       ]
      },
      "encoding": {
       "x": {
        "field": "InequalityOfOutcomes",
        "scale": {
         "domain": [
          0.04,
          0.51
         ]
        },
        "type": "quantitative"
       },
       "y": {
        "field": "InequalityAdjustedLifeExpectancy",
        "scale": {
         "domain": [
          27.3,
          81.3
         ]
        },
        "type": "quantitative"
       }
      },
      "height": 150,
      "mark": "circle",
      "selection": {
       "selector004": {
        "bind": "scales",
        "encodings": [
         "x",
         "y"
        ],
        "type": "interval"
       }
      },
      "width": 160
     }
    },
    "time": "2020-07-12T14:12:34.727Z",
    "type": "clickVis"
   },
   {
    "code": "df = pd.read_csv(\"lux/data/hpi.csv\")\ndf.set_default_display(\"lux\") #set Lux as default view\ndf",
    "id": "12a1be56c9ae4abab0a1f946bd40bc68",
    "order_count": 3,
    "time": "2020-07-12T14:12:37.072Z",
    "type": "selectCodeCell"
   },
   {
    "param": {
     "Correlation": [
      1,
      2,
      3
     ]
    },
    "time": "2020-07-12T14:12:37.074Z",
    "type": "exportBtnClick"
   },
   {
    "code": "We can click on visualizations of interest and export them into a separate widget.",
    "id": "f3f9136301e54bd19eac8eb55f9cc158",
    "order_count": 5,
    "time": "2020-07-12T14:12:39.738Z",
    "type": "selectMarkdownCell"
   },
   {
    "code": "bookmarked_vis = df.get_exported()\nbookmarked_vis",
    "id": "a0843739aae2474e95eae3e889cd58c8",
    "order_count": 6,
    "time": "2020-07-12T14:12:40.710Z",
    "type": "selectCodeCell"
   },
   {
    "code": "bookmarked_vis = df.get_exported()\nbookmarked_vis",
    "id": "a0843739aae2474e95eae3e889cd58c8",
    "order_count": 6,
    "time": "2020-07-12T14:12:41.101Z",
    "type": "executeCodeCell"
   },
   {
    "code": "From the dataframe recommendations, the visualization showing the relationship between `GDPPerCapita` and `Footprint` is very interesting. In particular, there is an outlier with extremely high ecological footprint as well as high GDP per capita. So we click on this visualization and click on the export button.",
    "id": "668eb7fb960e451eb57c681baf3de28f",
    "order_count": 7,
    "time": "2020-07-12T14:12:41.108Z",
    "type": "selectMarkdownCell"
   },
   {
    "id": "a0843739aae2474e95eae3e889cd58c8",
    "isPrintLuxDf": false,
    "isPrintPandasDf": false,
    "isPrintView": true,
    "isPrintViewCollection": false,
    "time": "2020-07-12T14:12:41.177Z",
    "type": "completeCodeCell"
   },
   {
    "param": "",
    "time": "2020-07-12T14:12:41.191Z",
    "type": "initWidget"
   },
   {
    "code": "df",
    "id": "67a5374ba1594f8a96f71e1f4c6145a1",
    "order_count": 8,
    "time": "2020-07-12T14:12:41.847Z",
    "type": "selectCodeCell"
   },
   {
    "code": "df",
    "id": "67a5374ba1594f8a96f71e1f4c6145a1",
    "order_count": 8,
    "time": "2020-07-12T14:12:43.186Z",
    "type": "executeCodeCell"
   },
   {
    "code": "view = df.get_exported()[0]\nview",
    "id": "186e1ccd2ef446cfac8da8d98b1a122c",
    "order_count": 9,
    "time": "2020-07-12T14:12:43.200Z",
    "type": "selectCodeCell"
   },
   {
    "id": "67a5374ba1594f8a96f71e1f4c6145a1",
    "isPrintLuxDf": true,
    "isPrintPandasDf": false,
    "isPrintView": false,
    "isPrintViewCollection": false,
    "time": "2020-07-12T14:12:43.823Z",
    "type": "completeCodeCell"
   },
   {
    "param": "",
    "time": "2020-07-12T14:12:43.839Z",
    "type": "initWidget"
   },
   {
    "param": "",
    "time": "2020-07-12T14:12:44.137Z",
    "type": "initWidget"
   },
   {
    "code": "df",
    "id": "67a5374ba1594f8a96f71e1f4c6145a1",
    "order_count": 8,
    "time": "2020-07-12T14:12:45.885Z",
    "type": "selectCodeCell"
   },
   {
    "param": {
     "index": 1,
     "tabTitle": "Correlation",
     "vis": {
      "$schema": "https://vega.github.io/schema/vega-lite/v4.8.1.json",
      "config": {
       "mark": {
        "tooltip": {
         "content": "encoding"
        }
       },
       "view": {
        "continuousHeight": 300,
        "continuousWidth": 400
       }
      },
      "data": {
       "name": "data-c5bd87549771a1474928380fe42ed676"
      },
      "datasets": {
       "data-c5bd87549771a1474928380fe42ed676": [
        {
         "AverageWellBeing": 3.8,
         "InequalityAdjustedWellbeing": 3.4
        },
        {
         "AverageWellBeing": 5.5,
         "InequalityAdjustedWellbeing": 5.1
        },
        {
         "AverageWellBeing": 5.6,
         "InequalityAdjustedWellbeing": 5.2
        },
        {
         "AverageWellBeing": 6.5,
         "InequalityAdjustedWellbeing": 6
        },
        {
         "AverageWellBeing": 4.3,
         "InequalityAdjustedWellbeing": 3.7
        },
        {
         "AverageWellBeing": 7.2,
         "InequalityAdjustedWellbeing": 6.9
        },
        {
         "AverageWellBeing": 7.4,
         "InequalityAdjustedWellbeing": 7.1
        },
        {
         "AverageWellBeing": 4.7,
         "InequalityAdjustedWellbeing": 4.3
        },
        {
         "AverageWellBeing": 5.7,
         "InequalityAdjustedWellbeing": 5.3
        },
        {
         "AverageWellBeing": 6.9,
         "InequalityAdjustedWellbeing": 6.6
        },
        {
         "AverageWellBeing": 6.1,
         "InequalityAdjustedWellbeing": 5.7
        },
        {
         "AverageWellBeing": 3.2,
         "InequalityAdjustedWellbeing": 2.8
        },
        {
         "AverageWellBeing": 5.6,
         "InequalityAdjustedWellbeing": 5.2
        },
        {
         "AverageWellBeing": 6,
         "InequalityAdjustedWellbeing": 5.5
        },
        {
         "AverageWellBeing": 4.8,
         "InequalityAdjustedWellbeing": 4.2
        },
        {
         "AverageWellBeing": 4.8,
         "InequalityAdjustedWellbeing": 4.3
        },
        {
         "AverageWellBeing": 6.9,
         "InequalityAdjustedWellbeing": 6.3
        },
        {
         "AverageWellBeing": 4.2,
         "InequalityAdjustedWellbeing": 3.7
        },
        {
         "AverageWellBeing": 4,
         "InequalityAdjustedWellbeing": 3.6
        },
        {
         "AverageWellBeing": 3.4,
         "InequalityAdjustedWellbeing": 3
        },
        {
         "AverageWellBeing": 3.9,
         "InequalityAdjustedWellbeing": 3.5
        },
        {
         "AverageWellBeing": 4.2,
         "InequalityAdjustedWellbeing": 3.7
        },
        {
         "AverageWellBeing": 7.4,
         "InequalityAdjustedWellbeing": 7.1
        },
        {
         "AverageWellBeing": 4,
         "InequalityAdjustedWellbeing": 3.7
        },
        {
         "AverageWellBeing": 6.6,
         "InequalityAdjustedWellbeing": 6.1
        },
        {
         "AverageWellBeing": 5.1,
         "InequalityAdjustedWellbeing": 4.6
        },
        {
         "AverageWellBeing": 6.4,
         "InequalityAdjustedWellbeing": 5.7
        },
        {
         "AverageWellBeing": 4,
         "InequalityAdjustedWellbeing": 3.7
        },
        {
         "AverageWellBeing": 7.3,
         "InequalityAdjustedWellbeing": 6.8
        },
        {
         "AverageWellBeing": 3.8,
         "InequalityAdjustedWellbeing": 3.5
        },
        {
         "AverageWellBeing": 6,
         "InequalityAdjustedWellbeing": 5.5
        },
        {
         "AverageWellBeing": 6.2,
         "InequalityAdjustedWellbeing": 5.7
        },
        {
         "AverageWellBeing": 6.3,
         "InequalityAdjustedWellbeing": 5.9
        },
        {
         "AverageWellBeing": 7.5,
         "InequalityAdjustedWellbeing": 7.2
        },
        {
         "AverageWellBeing": 4.4,
         "InequalityAdjustedWellbeing": 3.8
        },
        {
         "AverageWellBeing": 4.8,
         "InequalityAdjustedWellbeing": 4.1
        },
        {
         "AverageWellBeing": 6,
         "InequalityAdjustedWellbeing": 5.5
        },
        {
         "AverageWellBeing": 4.2,
         "InequalityAdjustedWellbeing": 3.7
        },
        {
         "AverageWellBeing": 5.9,
         "InequalityAdjustedWellbeing": 5.3
        },
        {
         "AverageWellBeing": 5.4,
         "InequalityAdjustedWellbeing": 5
        },
        {
         "AverageWellBeing": 4.6,
         "InequalityAdjustedWellbeing": 4.2
        },
        {
         "AverageWellBeing": 7.4,
         "InequalityAdjustedWellbeing": 7.2
        },
        {
         "AverageWellBeing": 6.6,
         "InequalityAdjustedWellbeing": 6.3
        },
        {
         "AverageWellBeing": 4,
         "InequalityAdjustedWellbeing": 3.5
        },
        {
         "AverageWellBeing": 4.3,
         "InequalityAdjustedWellbeing": 3.8
        },
        {
         "AverageWellBeing": 6.7,
         "InequalityAdjustedWellbeing": 6.4
        },
        {
         "AverageWellBeing": 5.1,
         "InequalityAdjustedWellbeing": 4.6
        },
        {
         "AverageWellBeing": 5.1,
         "InequalityAdjustedWellbeing": 4.5
        },
        {
         "AverageWellBeing": 5.9,
         "InequalityAdjustedWellbeing": 5.2
        },
        {
         "AverageWellBeing": 3.7,
         "InequalityAdjustedWellbeing": 3.3
        },
        {
         "AverageWellBeing": 4.4,
         "InequalityAdjustedWellbeing": 4
        },
        {
         "AverageWellBeing": 4.6,
         "InequalityAdjustedWellbeing": 3.9
        },
        {
         "AverageWellBeing": 5.5,
         "InequalityAdjustedWellbeing": 5.1
        },
        {
         "AverageWellBeing": 4.7,
         "InequalityAdjustedWellbeing": 4.2
        },
        {
         "AverageWellBeing": 7.6,
         "InequalityAdjustedWellbeing": 7.4
        },
        {
         "AverageWellBeing": 4.6,
         "InequalityAdjustedWellbeing": 4.2
        },
        {
         "AverageWellBeing": 5.4,
         "InequalityAdjustedWellbeing": 5.1
        },
        {
         "AverageWellBeing": 4.6,
         "InequalityAdjustedWellbeing": 4
        },
        {
         "AverageWellBeing": 4.7,
         "InequalityAdjustedWellbeing": 4.3
        },
        {
         "AverageWellBeing": 7,
         "InequalityAdjustedWellbeing": 6.7
        },
        {
         "AverageWellBeing": 7.1,
         "InequalityAdjustedWellbeing": 6.8
        },
        {
         "AverageWellBeing": 5.8,
         "InequalityAdjustedWellbeing": 5.3
        },
        {
         "AverageWellBeing": 5.6,
         "InequalityAdjustedWellbeing": 5
        },
        {
         "AverageWellBeing": 6,
         "InequalityAdjustedWellbeing": 5.6
        },
        {
         "AverageWellBeing": 5.8,
         "InequalityAdjustedWellbeing": 5.4
        },
        {
         "AverageWellBeing": 4.5,
         "InequalityAdjustedWellbeing": 4.1
        },
        {
         "AverageWellBeing": 5.2,
         "InequalityAdjustedWellbeing": 4.9
        },
        {
         "AverageWellBeing": 5.1,
         "InequalityAdjustedWellbeing": 4.7
        },
        {
         "AverageWellBeing": 4.6,
         "InequalityAdjustedWellbeing": 4
        },
        {
         "AverageWellBeing": 4.9,
         "InequalityAdjustedWellbeing": 4.3
        },
        {
         "AverageWellBeing": 4.4,
         "InequalityAdjustedWellbeing": 4.1
        },
        {
         "AverageWellBeing": 5.8,
         "InequalityAdjustedWellbeing": 5.4
        },
        {
         "AverageWellBeing": 7,
         "InequalityAdjustedWellbeing": 6.7
        },
        {
         "AverageWellBeing": 4.6,
         "InequalityAdjustedWellbeing": 4.1
        },
        {
         "AverageWellBeing": 4.3,
         "InequalityAdjustedWellbeing": 3.5
        },
        {
         "AverageWellBeing": 5.9,
         "InequalityAdjustedWellbeing": 5.7
        },
        {
         "AverageWellBeing": 6,
         "InequalityAdjustedWellbeing": 5.5
        },
        {
         "AverageWellBeing": 4.7,
         "InequalityAdjustedWellbeing": 4.5
        },
        {
         "AverageWellBeing": 5.5,
         "InequalityAdjustedWellbeing": 5.1
        },
        {
         "AverageWellBeing": 7.3,
         "InequalityAdjustedWellbeing": 6.8
        },
        {
         "AverageWellBeing": 4.9,
         "InequalityAdjustedWellbeing": 4.6
        },
        {
         "AverageWellBeing": 5.2,
         "InequalityAdjustedWellbeing": 4.6
        },
        {
         "AverageWellBeing": 5,
         "InequalityAdjustedWellbeing": 4.5
        },
        {
         "AverageWellBeing": 5,
         "InequalityAdjustedWellbeing": 4.5
        },
        {
         "AverageWellBeing": 4.4,
         "InequalityAdjustedWellbeing": 4
        },
        {
         "AverageWellBeing": 4.7,
         "InequalityAdjustedWellbeing": 4.4
        },
        {
         "AverageWellBeing": 4.2,
         "InequalityAdjustedWellbeing": 3.8
        },
        {
         "AverageWellBeing": 7.5,
         "InequalityAdjustedWellbeing": 7.5
        },
        {
         "AverageWellBeing": 7.2,
         "InequalityAdjustedWellbeing": 6.9
        },
        {
         "AverageWellBeing": 5.4,
         "InequalityAdjustedWellbeing": 4.8
        },
        {
         "AverageWellBeing": 3.8,
         "InequalityAdjustedWellbeing": 3.5
        },
        {
         "AverageWellBeing": 5.5,
         "InequalityAdjustedWellbeing": 5.2
        },
        {
         "AverageWellBeing": 7.7,
         "InequalityAdjustedWellbeing": 7.4
        },
        {
         "AverageWellBeing": 6.9,
         "InequalityAdjustedWellbeing": 6.4
        },
        {
         "AverageWellBeing": 5.1,
         "InequalityAdjustedWellbeing": 4.6
        },
        {
         "AverageWellBeing": 4.6,
         "InequalityAdjustedWellbeing": 4.1
        },
        {
         "AverageWellBeing": 6.9,
         "InequalityAdjustedWellbeing": 6.3
        },
        {
         "AverageWellBeing": 5.8,
         "InequalityAdjustedWellbeing": 5.5
        },
        {
         "AverageWellBeing": 5.8,
         "InequalityAdjustedWellbeing": 5.3
        },
        {
         "AverageWellBeing": 5,
         "InequalityAdjustedWellbeing": 4.4
        },
        {
         "AverageWellBeing": 5.9,
         "InequalityAdjustedWellbeing": 5.5
        },
        {
         "AverageWellBeing": 5,
         "InequalityAdjustedWellbeing": 4.3
        },
        {
         "AverageWellBeing": 3.9,
         "InequalityAdjustedWellbeing": 3.4
        },
        {
         "AverageWellBeing": 5.2,
         "InequalityAdjustedWellbeing": 4.6
        },
        {
         "AverageWellBeing": 5.6,
         "InequalityAdjustedWellbeing": 5.2
        },
        {
         "AverageWellBeing": 3.3,
         "InequalityAdjustedWellbeing": 3
        },
        {
         "AverageWellBeing": 3.7,
         "InequalityAdjustedWellbeing": 3.3
        },
        {
         "AverageWellBeing": 5.2,
         "InequalityAdjustedWellbeing": 4.6
        },
        {
         "AverageWellBeing": 4.5,
         "InequalityAdjustedWellbeing": 4
        },
        {
         "AverageWellBeing": 5.9,
         "InequalityAdjustedWellbeing": 5.4
        },
        {
         "AverageWellBeing": 6.1,
         "InequalityAdjustedWellbeing": 5.7
        },
        {
         "AverageWellBeing": 5.1,
         "InequalityAdjustedWellbeing": 4.6
        },
        {
         "AverageWellBeing": 6,
         "InequalityAdjustedWellbeing": 5.5
        },
        {
         "AverageWellBeing": 6.3,
         "InequalityAdjustedWellbeing": 5.9
        },
        {
         "AverageWellBeing": 4.2,
         "InequalityAdjustedWellbeing": 3.8
        },
        {
         "AverageWellBeing": 6.3,
         "InequalityAdjustedWellbeing": 5.9
        },
        {
         "AverageWellBeing": 4.9,
         "InequalityAdjustedWellbeing": 4.4
        },
        {
         "AverageWellBeing": 7.6,
         "InequalityAdjustedWellbeing": 7.4
        },
        {
         "AverageWellBeing": 7.8,
         "InequalityAdjustedWellbeing": 7.6
        },
        {
         "AverageWellBeing": 3.2,
         "InequalityAdjustedWellbeing": 2.6
        },
        {
         "AverageWellBeing": 4.5,
         "InequalityAdjustedWellbeing": 4.3
        },
        {
         "AverageWellBeing": 4,
         "InequalityAdjustedWellbeing": 3.6
        },
        {
         "AverageWellBeing": 6.3,
         "InequalityAdjustedWellbeing": 6
        },
        {
         "AverageWellBeing": 2.9,
         "InequalityAdjustedWellbeing": 2.4
        },
        {
         "AverageWellBeing": 6.4,
         "InequalityAdjustedWellbeing": 6
        },
        {
         "AverageWellBeing": 4.5,
         "InequalityAdjustedWellbeing": 4
        },
        {
         "AverageWellBeing": 5.3,
         "InequalityAdjustedWellbeing": 4.9
        },
        {
         "AverageWellBeing": 5.5,
         "InequalityAdjustedWellbeing": 5.1
        },
        {
         "AverageWellBeing": 4.3,
         "InequalityAdjustedWellbeing": 3.9
        },
        {
         "AverageWellBeing": 5,
         "InequalityAdjustedWellbeing": 4.6
        },
        {
         "AverageWellBeing": 6.9,
         "InequalityAdjustedWellbeing": 6.6
        },
        {
         "AverageWellBeing": 7,
         "InequalityAdjustedWellbeing": 6.5
        },
        {
         "AverageWellBeing": 6.4,
         "InequalityAdjustedWellbeing": 5.8
        },
        {
         "AverageWellBeing": 6,
         "InequalityAdjustedWellbeing": 5.6
        },
        {
         "AverageWellBeing": 6.5,
         "InequalityAdjustedWellbeing": 5.9
        },
        {
         "AverageWellBeing": 7.1,
         "InequalityAdjustedWellbeing": 6.5
        },
        {
         "AverageWellBeing": 5.5,
         "InequalityAdjustedWellbeing": 5.2
        },
        {
         "AverageWellBeing": 4.1,
         "InequalityAdjustedWellbeing": 3.6
        },
        {
         "AverageWellBeing": 5,
         "InequalityAdjustedWellbeing": 4.5
        },
        {
         "AverageWellBeing": 5,
         "InequalityAdjustedWellbeing": 4.6
        }
       ]
      },
      "encoding": {
       "x": {
        "field": "InequalityAdjustedWellbeing",
        "scale": {
         "domain": [
          2.4,
          7.6
         ]
        },
        "type": "quantitative"
       },
       "y": {
        "field": "AverageWellBeing",
        "scale": {
         "domain": [
          2.9,
          7.8
         ]
        },
        "type": "quantitative"
       }
      },
      "height": 150,
      "mark": "circle",
      "selection": {
       "selector020": {
        "bind": "scales",
        "encodings": [
         "x",
         "y"
        ],
        "type": "interval"
       }
      },
      "width": 160
     }
    },
    "time": "2020-07-12T14:12:45.887Z",
    "type": "clickVis"
   },
   {
    "code": "df",
    "id": "67a5374ba1594f8a96f71e1f4c6145a1",
    "order_count": 8,
    "time": "2020-07-12T14:12:46.493Z",
    "type": "selectCodeCell"
   },
   {
    "param": {
     "index": 1,
     "tabTitle": "Correlation",
     "vis": {
      "$schema": "https://vega.github.io/schema/vega-lite/v4.8.1.json",
      "config": {
       "mark": {
        "tooltip": {
         "content": "encoding"
        }
       },
       "view": {
        "continuousHeight": 300,
        "continuousWidth": 400
       }
      },
      "data": {
       "name": "data-c5bd87549771a1474928380fe42ed676"
      },
      "datasets": {
       "data-c5bd87549771a1474928380fe42ed676": [
        {
         "AverageWellBeing": 3.8,
         "InequalityAdjustedWellbeing": 3.4
        },
        {
         "AverageWellBeing": 5.5,
         "InequalityAdjustedWellbeing": 5.1
        },
        {
         "AverageWellBeing": 5.6,
         "InequalityAdjustedWellbeing": 5.2
        },
        {
         "AverageWellBeing": 6.5,
         "InequalityAdjustedWellbeing": 6
        },
        {
         "AverageWellBeing": 4.3,
         "InequalityAdjustedWellbeing": 3.7
        },
        {
         "AverageWellBeing": 7.2,
         "InequalityAdjustedWellbeing": 6.9
        },
        {
         "AverageWellBeing": 7.4,
         "InequalityAdjustedWellbeing": 7.1
        },
        {
         "AverageWellBeing": 4.7,
         "InequalityAdjustedWellbeing": 4.3
        },
        {
         "AverageWellBeing": 5.7,
         "InequalityAdjustedWellbeing": 5.3
        },
        {
         "AverageWellBeing": 6.9,
         "InequalityAdjustedWellbeing": 6.6
        },
        {
         "AverageWellBeing": 6.1,
         "InequalityAdjustedWellbeing": 5.7
        },
        {
         "AverageWellBeing": 3.2,
         "InequalityAdjustedWellbeing": 2.8
        },
        {
         "AverageWellBeing": 5.6,
         "InequalityAdjustedWellbeing": 5.2
        },
        {
         "AverageWellBeing": 6,
         "InequalityAdjustedWellbeing": 5.5
        },
        {
         "AverageWellBeing": 4.8,
         "InequalityAdjustedWellbeing": 4.2
        },
        {
         "AverageWellBeing": 4.8,
         "InequalityAdjustedWellbeing": 4.3
        },
        {
         "AverageWellBeing": 6.9,
         "InequalityAdjustedWellbeing": 6.3
        },
        {
         "AverageWellBeing": 4.2,
         "InequalityAdjustedWellbeing": 3.7
        },
        {
         "AverageWellBeing": 4,
         "InequalityAdjustedWellbeing": 3.6
        },
        {
         "AverageWellBeing": 3.4,
         "InequalityAdjustedWellbeing": 3
        },
        {
         "AverageWellBeing": 3.9,
         "InequalityAdjustedWellbeing": 3.5
        },
        {
         "AverageWellBeing": 4.2,
         "InequalityAdjustedWellbeing": 3.7
        },
        {
         "AverageWellBeing": 7.4,
         "InequalityAdjustedWellbeing": 7.1
        },
        {
         "AverageWellBeing": 4,
         "InequalityAdjustedWellbeing": 3.7
        },
        {
         "AverageWellBeing": 6.6,
         "InequalityAdjustedWellbeing": 6.1
        },
        {
         "AverageWellBeing": 5.1,
         "InequalityAdjustedWellbeing": 4.6
        },
        {
         "AverageWellBeing": 6.4,
         "InequalityAdjustedWellbeing": 5.7
        },
        {
         "AverageWellBeing": 4,
         "InequalityAdjustedWellbeing": 3.7
        },
        {
         "AverageWellBeing": 7.3,
         "InequalityAdjustedWellbeing": 6.8
        },
        {
         "AverageWellBeing": 3.8,
         "InequalityAdjustedWellbeing": 3.5
        },
        {
         "AverageWellBeing": 6,
         "InequalityAdjustedWellbeing": 5.5
        },
        {
         "AverageWellBeing": 6.2,
         "InequalityAdjustedWellbeing": 5.7
        },
        {
         "AverageWellBeing": 6.3,
         "InequalityAdjustedWellbeing": 5.9
        },
        {
         "AverageWellBeing": 7.5,
         "InequalityAdjustedWellbeing": 7.2
        },
        {
         "AverageWellBeing": 4.4,
         "InequalityAdjustedWellbeing": 3.8
        },
        {
         "AverageWellBeing": 4.8,
         "InequalityAdjustedWellbeing": 4.1
        },
        {
         "AverageWellBeing": 6,
         "InequalityAdjustedWellbeing": 5.5
        },
        {
         "AverageWellBeing": 4.2,
         "InequalityAdjustedWellbeing": 3.7
        },
        {
         "AverageWellBeing": 5.9,
         "InequalityAdjustedWellbeing": 5.3
        },
        {
         "AverageWellBeing": 5.4,
         "InequalityAdjustedWellbeing": 5
        },
        {
         "AverageWellBeing": 4.6,
         "InequalityAdjustedWellbeing": 4.2
        },
        {
         "AverageWellBeing": 7.4,
         "InequalityAdjustedWellbeing": 7.2
        },
        {
         "AverageWellBeing": 6.6,
         "InequalityAdjustedWellbeing": 6.3
        },
        {
         "AverageWellBeing": 4,
         "InequalityAdjustedWellbeing": 3.5
        },
        {
         "AverageWellBeing": 4.3,
         "InequalityAdjustedWellbeing": 3.8
        },
        {
         "AverageWellBeing": 6.7,
         "InequalityAdjustedWellbeing": 6.4
        },
        {
         "AverageWellBeing": 5.1,
         "InequalityAdjustedWellbeing": 4.6
        },
        {
         "AverageWellBeing": 5.1,
         "InequalityAdjustedWellbeing": 4.5
        },
        {
         "AverageWellBeing": 5.9,
         "InequalityAdjustedWellbeing": 5.2
        },
        {
         "AverageWellBeing": 3.7,
         "InequalityAdjustedWellbeing": 3.3
        },
        {
         "AverageWellBeing": 4.4,
         "InequalityAdjustedWellbeing": 4
        },
        {
         "AverageWellBeing": 4.6,
         "InequalityAdjustedWellbeing": 3.9
        },
        {
         "AverageWellBeing": 5.5,
         "InequalityAdjustedWellbeing": 5.1
        },
        {
         "AverageWellBeing": 4.7,
         "InequalityAdjustedWellbeing": 4.2
        },
        {
         "AverageWellBeing": 7.6,
         "InequalityAdjustedWellbeing": 7.4
        },
        {
         "AverageWellBeing": 4.6,
         "InequalityAdjustedWellbeing": 4.2
        },
        {
         "AverageWellBeing": 5.4,
         "InequalityAdjustedWellbeing": 5.1
        },
        {
         "AverageWellBeing": 4.6,
         "InequalityAdjustedWellbeing": 4
        },
        {
         "AverageWellBeing": 4.7,
         "InequalityAdjustedWellbeing": 4.3
        },
        {
         "AverageWellBeing": 7,
         "InequalityAdjustedWellbeing": 6.7
        },
        {
         "AverageWellBeing": 7.1,
         "InequalityAdjustedWellbeing": 6.8
        },
        {
         "AverageWellBeing": 5.8,
         "InequalityAdjustedWellbeing": 5.3
        },
        {
         "AverageWellBeing": 5.6,
         "InequalityAdjustedWellbeing": 5
        },
        {
         "AverageWellBeing": 6,
         "InequalityAdjustedWellbeing": 5.6
        },
        {
         "AverageWellBeing": 5.8,
         "InequalityAdjustedWellbeing": 5.4
        },
        {
         "AverageWellBeing": 4.5,
         "InequalityAdjustedWellbeing": 4.1
        },
        {
         "AverageWellBeing": 5.2,
         "InequalityAdjustedWellbeing": 4.9
        },
        {
         "AverageWellBeing": 5.1,
         "InequalityAdjustedWellbeing": 4.7
        },
        {
         "AverageWellBeing": 4.6,
         "InequalityAdjustedWellbeing": 4
        },
        {
         "AverageWellBeing": 4.9,
         "InequalityAdjustedWellbeing": 4.3
        },
        {
         "AverageWellBeing": 4.4,
         "InequalityAdjustedWellbeing": 4.1
        },
        {
         "AverageWellBeing": 5.8,
         "InequalityAdjustedWellbeing": 5.4
        },
        {
         "AverageWellBeing": 7,
         "InequalityAdjustedWellbeing": 6.7
        },
        {
         "AverageWellBeing": 4.6,
         "InequalityAdjustedWellbeing": 4.1
        },
        {
         "AverageWellBeing": 4.3,
         "InequalityAdjustedWellbeing": 3.5
        },
        {
         "AverageWellBeing": 5.9,
         "InequalityAdjustedWellbeing": 5.7
        },
        {
         "AverageWellBeing": 6,
         "InequalityAdjustedWellbeing": 5.5
        },
        {
         "AverageWellBeing": 4.7,
         "InequalityAdjustedWellbeing": 4.5
        },
        {
         "AverageWellBeing": 5.5,
         "InequalityAdjustedWellbeing": 5.1
        },
        {
         "AverageWellBeing": 7.3,
         "InequalityAdjustedWellbeing": 6.8
        },
        {
         "AverageWellBeing": 4.9,
         "InequalityAdjustedWellbeing": 4.6
        },
        {
         "AverageWellBeing": 5.2,
         "InequalityAdjustedWellbeing": 4.6
        },
        {
         "AverageWellBeing": 5,
         "InequalityAdjustedWellbeing": 4.5
        },
        {
         "AverageWellBeing": 5,
         "InequalityAdjustedWellbeing": 4.5
        },
        {
         "AverageWellBeing": 4.4,
         "InequalityAdjustedWellbeing": 4
        },
        {
         "AverageWellBeing": 4.7,
         "InequalityAdjustedWellbeing": 4.4
        },
        {
         "AverageWellBeing": 4.2,
         "InequalityAdjustedWellbeing": 3.8
        },
        {
         "AverageWellBeing": 7.5,
         "InequalityAdjustedWellbeing": 7.5
        },
        {
         "AverageWellBeing": 7.2,
         "InequalityAdjustedWellbeing": 6.9
        },
        {
         "AverageWellBeing": 5.4,
         "InequalityAdjustedWellbeing": 4.8
        },
        {
         "AverageWellBeing": 3.8,
         "InequalityAdjustedWellbeing": 3.5
        },
        {
         "AverageWellBeing": 5.5,
         "InequalityAdjustedWellbeing": 5.2
        },
        {
         "AverageWellBeing": 7.7,
         "InequalityAdjustedWellbeing": 7.4
        },
        {
         "AverageWellBeing": 6.9,
         "InequalityAdjustedWellbeing": 6.4
        },
        {
         "AverageWellBeing": 5.1,
         "InequalityAdjustedWellbeing": 4.6
        },
        {
         "AverageWellBeing": 4.6,
         "InequalityAdjustedWellbeing": 4.1
        },
        {
         "AverageWellBeing": 6.9,
         "InequalityAdjustedWellbeing": 6.3
        },
        {
         "AverageWellBeing": 5.8,
         "InequalityAdjustedWellbeing": 5.5
        },
        {
         "AverageWellBeing": 5.8,
         "InequalityAdjustedWellbeing": 5.3
        },
        {
         "AverageWellBeing": 5,
         "InequalityAdjustedWellbeing": 4.4
        },
        {
         "AverageWellBeing": 5.9,
         "InequalityAdjustedWellbeing": 5.5
        },
        {
         "AverageWellBeing": 5,
         "InequalityAdjustedWellbeing": 4.3
        },
        {
         "AverageWellBeing": 3.9,
         "InequalityAdjustedWellbeing": 3.4
        },
        {
         "AverageWellBeing": 5.2,
         "InequalityAdjustedWellbeing": 4.6
        },
        {
         "AverageWellBeing": 5.6,
         "InequalityAdjustedWellbeing": 5.2
        },
        {
         "AverageWellBeing": 3.3,
         "InequalityAdjustedWellbeing": 3
        },
        {
         "AverageWellBeing": 3.7,
         "InequalityAdjustedWellbeing": 3.3
        },
        {
         "AverageWellBeing": 5.2,
         "InequalityAdjustedWellbeing": 4.6
        },
        {
         "AverageWellBeing": 4.5,
         "InequalityAdjustedWellbeing": 4
        },
        {
         "AverageWellBeing": 5.9,
         "InequalityAdjustedWellbeing": 5.4
        },
        {
         "AverageWellBeing": 6.1,
         "InequalityAdjustedWellbeing": 5.7
        },
        {
         "AverageWellBeing": 5.1,
         "InequalityAdjustedWellbeing": 4.6
        },
        {
         "AverageWellBeing": 6,
         "InequalityAdjustedWellbeing": 5.5
        },
        {
         "AverageWellBeing": 6.3,
         "InequalityAdjustedWellbeing": 5.9
        },
        {
         "AverageWellBeing": 4.2,
         "InequalityAdjustedWellbeing": 3.8
        },
        {
         "AverageWellBeing": 6.3,
         "InequalityAdjustedWellbeing": 5.9
        },
        {
         "AverageWellBeing": 4.9,
         "InequalityAdjustedWellbeing": 4.4
        },
        {
         "AverageWellBeing": 7.6,
         "InequalityAdjustedWellbeing": 7.4
        },
        {
         "AverageWellBeing": 7.8,
         "InequalityAdjustedWellbeing": 7.6
        },
        {
         "AverageWellBeing": 3.2,
         "InequalityAdjustedWellbeing": 2.6
        },
        {
         "AverageWellBeing": 4.5,
         "InequalityAdjustedWellbeing": 4.3
        },
        {
         "AverageWellBeing": 4,
         "InequalityAdjustedWellbeing": 3.6
        },
        {
         "AverageWellBeing": 6.3,
         "InequalityAdjustedWellbeing": 6
        },
        {
         "AverageWellBeing": 2.9,
         "InequalityAdjustedWellbeing": 2.4
        },
        {
         "AverageWellBeing": 6.4,
         "InequalityAdjustedWellbeing": 6
        },
        {
         "AverageWellBeing": 4.5,
         "InequalityAdjustedWellbeing": 4
        },
        {
         "AverageWellBeing": 5.3,
         "InequalityAdjustedWellbeing": 4.9
        },
        {
         "AverageWellBeing": 5.5,
         "InequalityAdjustedWellbeing": 5.1
        },
        {
         "AverageWellBeing": 4.3,
         "InequalityAdjustedWellbeing": 3.9
        },
        {
         "AverageWellBeing": 5,
         "InequalityAdjustedWellbeing": 4.6
        },
        {
         "AverageWellBeing": 6.9,
         "InequalityAdjustedWellbeing": 6.6
        },
        {
         "AverageWellBeing": 7,
         "InequalityAdjustedWellbeing": 6.5
        },
        {
         "AverageWellBeing": 6.4,
         "InequalityAdjustedWellbeing": 5.8
        },
        {
         "AverageWellBeing": 6,
         "InequalityAdjustedWellbeing": 5.6
        },
        {
         "AverageWellBeing": 6.5,
         "InequalityAdjustedWellbeing": 5.9
        },
        {
         "AverageWellBeing": 7.1,
         "InequalityAdjustedWellbeing": 6.5
        },
        {
         "AverageWellBeing": 5.5,
         "InequalityAdjustedWellbeing": 5.2
        },
        {
         "AverageWellBeing": 4.1,
         "InequalityAdjustedWellbeing": 3.6
        },
        {
         "AverageWellBeing": 5,
         "InequalityAdjustedWellbeing": 4.5
        },
        {
         "AverageWellBeing": 5,
         "InequalityAdjustedWellbeing": 4.6
        }
       ]
      },
      "encoding": {
       "x": {
        "field": "InequalityAdjustedWellbeing",
        "scale": {
         "domain": [
          2.4,
          7.6
         ]
        },
        "type": "quantitative"
       },
       "y": {
        "field": "AverageWellBeing",
        "scale": {
         "domain": [
          2.9,
          7.8
         ]
        },
        "type": "quantitative"
       }
      },
      "height": 150,
      "mark": "circle",
      "selection": {
       "selector020": {
        "bind": "scales",
        "encodings": [
         "x",
         "y"
        ],
        "type": "interval"
       }
      },
      "width": 160
     }
    },
    "time": "2020-07-12T14:12:46.495Z",
    "type": "unclickVis"
   },
   {
    "param": "Correlation",
    "time": "2020-07-12T14:12:47.440Z",
    "type": "startScroll"
   },
   {
    "param": "Correlation",
    "time": "2020-07-12T14:12:48.268Z",
    "type": "stopScroll"
   },
   {
    "param": "Correlation",
    "time": "2020-07-12T14:12:48.306Z",
    "type": "startScroll"
   },
   {
    "param": "Correlation",
    "time": "2020-07-12T14:12:48.717Z",
    "type": "stopScroll"
   },
   {
    "param": "Correlation",
    "time": "2020-07-12T14:12:50.039Z",
    "type": "startScroll"
   },
   {
    "param": "Correlation",
    "time": "2020-07-12T14:12:50.600Z",
    "type": "stopScroll"
   },
   {
    "param": "Correlation",
    "time": "2020-07-12T14:12:51.339Z",
    "type": "startScroll"
   },
   {
    "param": "Correlation",
    "time": "2020-07-12T14:12:52.017Z",
    "type": "stopScroll"
   },
   {
    "param": "Correlation",
    "time": "2020-07-12T14:12:52.039Z",
    "type": "startScroll"
   },
   {
    "param": "Correlation",
    "time": "2020-07-12T14:12:52.335Z",
    "type": "stopScroll"
   },
   {
    "code": "df",
    "id": "67a5374ba1594f8a96f71e1f4c6145a1",
    "order_count": 8,
    "time": "2020-07-12T14:12:52.748Z",
    "type": "selectCodeCell"
   },
   {
    "param": {
     "index": 10,
     "tabTitle": "Correlation",
     "vis": {
      "$schema": "https://vega.github.io/schema/vega-lite/v4.8.1.json",
      "config": {
       "mark": {
        "tooltip": {
         "content": "encoding"
        }
       },
       "view": {
        "continuousHeight": 300,
        "continuousWidth": 400
       }
      },
      "data": {
       "name": "data-cffbaddba8d2091d19631c8240894572"
      },
      "datasets": {
       "data-cffbaddba8d2091d19631c8240894572": [
        {
         "Footprint": 0.8,
         "GDPPerCapita": 691
        },
        {
         "Footprint": 2.2,
         "GDPPerCapita": 4247
        },
        {
         "Footprint": 2.1,
         "GDPPerCapita": 5584
        },
        {
         "Footprint": 3.1,
         "GDPPerCapita": 14357
        },
        {
         "Footprint": 2.2,
         "GDPPerCapita": 3566
        },
        {
         "Footprint": 9.3,
         "GDPPerCapita": 67646
        },
        {
         "Footprint": 6.1,
         "GDPPerCapita": 48324
        },
        {
         "Footprint": 0.7,
         "GDPPerCapita": 859
        },
        {
         "Footprint": 5.1,
         "GDPPerCapita": 6722
        },
        {
         "Footprint": 7.4,
         "GDPPerCapita": 44731
        },
        {
         "Footprint": 2.5,
         "GDPPerCapita": 4674
        },
        {
         "Footprint": 1.4,
         "GDPPerCapita": 808
        },
        {
         "Footprint": 2.3,
         "GDPPerCapita": 2452
        },
        {
         "Footprint": 3,
         "GDPPerCapita": 2645
        },
        {
         "Footprint": 3.1,
         "GDPPerCapita": 4495
        },
        {
         "Footprint": 3.8,
         "GDPPerCapita": 6936
        },
        {
         "Footprint": 3.1,
         "GDPPerCapita": 12157
        },
        {
         "Footprint": 3.3,
         "GDPPerCapita": 7333
        },
        {
         "Footprint": 1.2,
         "GDPPerCapita": 673
        },
        {
         "Footprint": 0.8,
         "GDPPerCapita": 244
        },
        {
         "Footprint": 1.2,
         "GDPPerCapita": 946
        },
        {
         "Footprint": 1.2,
         "GDPPerCapita": 1222
        },
        {
         "Footprint": 8.2,
         "GDPPerCapita": 52738
        },
        {
         "Footprint": 1.5,
         "GDPPerCapita": 973
        },
        {
         "Footprint": 4.4,
         "GDPPerCapita": 15253
        },
        {
         "Footprint": 3.4,
         "GDPPerCapita": 6265
        },
        {
         "Footprint": 1.9,
         "GDPPerCapita": 7885
        },
        {
         "Footprint": 1,
         "GDPPerCapita": 750
        },
        {
         "Footprint": 2.8,
         "GDPPerCapita": 9733
        },
        {
         "Footprint": 1.3,
         "GDPPerCapita": 1281
        },
        {
         "Footprint": 3.9,
         "GDPPerCapita": 13236
        },
        {
         "Footprint": 4.2,
         "GDPPerCapita": 28868
        },
        {
         "Footprint": 5.2,
         "GDPPerCapita": 19641
        },
        {
         "Footprint": 5.5,
         "GDPPerCapita": 57636
        },
        {
         "Footprint": 2.2,
         "GDPPerCapita": 1587
        },
        {
         "Footprint": 1.5,
         "GDPPerCapita": 5967
        },
        {
         "Footprint": 2.2,
         "GDPPerCapita": 5702
        },
        {
         "Footprint": 2.2,
         "GDPPerCapita": 3226
        },
        {
         "Footprint": 2.1,
         "GDPPerCapita": 3922
        },
        {
         "Footprint": 6.9,
         "GDPPerCapita": 17491
        },
        {
         "Footprint": 1,
         "GDPPerCapita": 470
        },
        {
         "Footprint": 5.9,
         "GDPPerCapita": 47416
        },
        {
         "Footprint": 5.1,
         "GDPPerCapita": 40850
        },
        {
         "Footprint": 2,
         "GDPPerCapita": 10642
        },
        {
         "Footprint": 1.6,
         "GDPPerCapita": 4143
        },
        {
         "Footprint": 5.3,
         "GDPPerCapita": 44011
        },
        {
         "Footprint": 2,
         "GDPPerCapita": 1642
        },
        {
         "Footprint": 4.4,
         "GDPPerCapita": 22243
        },
        {
         "Footprint": 1.9,
         "GDPPerCapita": 3279
        },
        {
         "Footprint": 1.4,
         "GDPPerCapita": 487
        },
        {
         "Footprint": 0.6,
         "GDPPerCapita": 767
        },
        {
         "Footprint": 1.7,
         "GDPPerCapita": 2395
        },
        {
         "Footprint": 8.8,
         "GDPPerCapita": 36708
        },
        {
         "Footprint": 2.9,
         "GDPPerCapita": 12820
        },
        {
         "Footprint": 6.4,
         "GDPPerCapita": 44259
        },
        {
         "Footprint": 1.2,
         "GDPPerCapita": 1450
        },
        {
         "Footprint": 1.6,
         "GDPPerCapita": 3701
        },
        {
         "Footprint": 2.8,
         "GDPPerCapita": 7711
        },
        {
         "Footprint": 1.9,
         "GDPPerCapita": 6649
        },
        {
         "Footprint": 5.6,
         "GDPPerCapita": 48977
        },
        {
         "Footprint": 6.2,
         "GDPPerCapita": 32819
        },
        {
         "Footprint": 4.6,
         "GDPPerCapita": 34844
        },
        {
         "Footprint": 1.9,
         "GDPPerCapita": 5446
        },
        {
         "Footprint": 5,
         "GDPPerCapita": 46679
        },
        {
         "Footprint": 5.6,
         "GDPPerCapita": 12120
        },
        {
         "Footprint": 1,
         "GDPPerCapita": 1185
        },
        {
         "Footprint": 1.9,
         "GDPPerCapita": 1178
        },
        {
         "Footprint": 6.3,
         "GDPPerCapita": 13775
        },
        {
         "Footprint": 3.8,
         "GDPPerCapita": 9729
        },
        {
         "Footprint": 1.7,
         "GDPPerCapita": 1159
        },
        {
         "Footprint": 1.2,
         "GDPPerCapita": 414
        },
        {
         "Footprint": 5.8,
         "GDPPerCapita": 14343
        },
        {
         "Footprint": 15.8,
         "GDPPerCapita": 105447
        },
        {
         "Footprint": 3.3,
         "GDPPerCapita": 4710
        },
        {
         "Footprint": 0.8,
         "GDPPerCapita": 270
        },
        {
         "Footprint": 3.7,
         "GDPPerCapita": 10835
        },
        {
         "Footprint": 4.4,
         "GDPPerCapita": 21176
        },
        {
         "Footprint": 2.5,
         "GDPPerCapita": 1283
        },
        {
         "Footprint": 3.5,
         "GDPPerCapita": 9114
        },
        {
         "Footprint": 2.9,
         "GDPPerCapita": 9703
        },
        {
         "Footprint": 6.1,
         "GDPPerCapita": 4377
        },
        {
         "Footprint": 3.8,
         "GDPPerCapita": 6587
        },
        {
         "Footprint": 1.7,
         "GDPPerCapita": 2931
        },
        {
         "Footprint": 0.9,
         "GDPPerCapita": 565
        },
        {
         "Footprint": 1.4,
         "GDPPerCapita": 1421
        },
        {
         "Footprint": 2.5,
         "GDPPerCapita": 5680
        },
        {
         "Footprint": 1,
         "GDPPerCapita": 685
        },
        {
         "Footprint": 5.3,
         "GDPPerCapita": 49475
        },
        {
         "Footprint": 5.6,
         "GDPPerCapita": 39505
        },
        {
         "Footprint": 1.4,
         "GDPPerCapita": 1780
        },
        {
         "Footprint": 1.6,
         "GDPPerCapita": 394
        },
        {
         "Footprint": 1.2,
         "GDPPerCapita": 2740
        },
        {
         "Footprint": 5,
         "GDPPerCapita": 101564
        },
        {
         "Footprint": 7.5,
         "GDPPerCapita": 21534
        },
        {
         "Footprint": 0.8,
         "GDPPerCapita": 1266
        },
        {
         "Footprint": 1.2,
         "GDPPerCapita": 2783
        },
        {
         "Footprint": 2.8,
         "GDPPerCapita": 10139
        },
        {
         "Footprint": 4.2,
         "GDPPerCapita": 3858
        },
        {
         "Footprint": 2.3,
         "GDPPerCapita": 6389
        },
        {
         "Footprint": 1.1,
         "GDPPerCapita": 2605
        },
        {
         "Footprint": 4.4,
         "GDPPerCapita": 13142
        },
        {
         "Footprint": 3.9,
         "GDPPerCapita": 20577
        },
        {
         "Footprint": 1.3,
         "GDPPerCapita": 3191
        },
        {
         "Footprint": 2.7,
         "GDPPerCapita": 8577
        },
        {
         "Footprint": 5.7,
         "GDPPerCapita": 14079
        },
        {
         "Footprint": 0.9,
         "GDPPerCapita": 667
        },
        {
         "Footprint": 1.2,
         "GDPPerCapita": 1019
        },
        {
         "Footprint": 2.7,
         "GDPPerCapita": 5659
        },
        {
         "Footprint": 1.2,
         "GDPPerCapita": 619
        },
        {
         "Footprint": 4.1,
         "GDPPerCapita": 17207
        },
        {
         "Footprint": 5.8,
         "GDPPerCapita": 22478
        },
        {
         "Footprint": 3.3,
         "GDPPerCapita": 7592
        },
        {
         "Footprint": 5.7,
         "GDPPerCapita": 24454
        },
        {
         "Footprint": 3.7,
         "GDPPerCapita": 28648
        },
        {
         "Footprint": 1.3,
         "GDPPerCapita": 3351
        },
        {
         "Footprint": 4.3,
         "GDPPerCapita": 9422
        },
        {
         "Footprint": 2,
         "GDPPerCapita": 3989
        },
        {
         "Footprint": 7.3,
         "GDPPerCapita": 57134
        },
        {
         "Footprint": 5.8,
         "GDPPerCapita": 83209
        },
        {
         "Footprint": 1.5,
         "GDPPerCapita": 2080
        },
        {
         "Footprint": 0.9,
         "GDPPerCapita": 962
        },
        {
         "Footprint": 1.3,
         "GDPPerCapita": 828
        },
        {
         "Footprint": 2.7,
         "GDPPerCapita": 5918
        },
        {
         "Footprint": 1.1,
         "GDPPerCapita": 580
        },
        {
         "Footprint": 7.9,
         "GDPPerCapita": 18322
        },
        {
         "Footprint": 2.3,
         "GDPPerCapita": 4188
        },
        {
         "Footprint": 3.3,
         "GDPPerCapita": 10646
        },
        {
         "Footprint": 5.5,
         "GDPPerCapita": 6798
        },
        {
         "Footprint": 1.2,
         "GDPPerCapita": 656
        },
        {
         "Footprint": 2.8,
         "GDPPerCapita": 3855
        },
        {
         "Footprint": 4.9,
         "GDPPerCapita": 41295
        },
        {
         "Footprint": 8.2,
         "GDPPerCapita": 51457
        },
        {
         "Footprint": 2.9,
         "GDPPerCapita": 15128
        },
        {
         "Footprint": 2.3,
         "GDPPerCapita": 1719
        },
        {
         "Footprint": 1.9,
         "GDPPerCapita": 3158
        },
        {
         "Footprint": 3.6,
         "GDPPerCapita": 12772
        },
        {
         "Footprint": 1.7,
         "GDPPerCapita": 1755
        },
        {
         "Footprint": 1,
         "GDPPerCapita": 1289
        },
        {
         "Footprint": 1,
         "GDPPerCapita": 1687
        },
        {
         "Footprint": 1.4,
         "GDPPerCapita": 851
        }
       ]
      },
      "encoding": {
       "x": {
        "field": "GDPPerCapita",
        "scale": {
         "domain": [
          244,
          105447
         ]
        },
        "type": "quantitative"
       },
       "y": {
        "field": "Footprint",
        "scale": {
         "domain": [
          0.6,
          15.8
         ]
        },
        "type": "quantitative"
       }
      },
      "height": 150,
      "mark": "circle",
      "selection": {
       "selector029": {
        "bind": "scales",
        "encodings": [
         "x",
         "y"
        ],
        "type": "interval"
       }
      },
      "width": 160
     }
    },
    "time": "2020-07-12T14:12:52.750Z",
    "type": "clickVis"
   },
   {
    "code": "df",
    "id": "67a5374ba1594f8a96f71e1f4c6145a1",
    "order_count": 8,
    "time": "2020-07-12T14:12:53.694Z",
    "type": "selectCodeCell"
   },
   {
    "param": {
     "Correlation": [
      10
     ]
    },
    "time": "2020-07-12T14:12:53.695Z",
    "type": "exportBtnClick"
   },
   {
    "code": "view = df.get_exported()[0]\nview",
    "id": "186e1ccd2ef446cfac8da8d98b1a122c",
    "order_count": 9,
    "time": "2020-07-12T14:12:55.599Z",
    "type": "selectCodeCell"
   },
   {
    "code": "view = df.get_exported()[0]\nview",
    "id": "186e1ccd2ef446cfac8da8d98b1a122c",
    "order_count": 9,
    "time": "2020-07-12T14:12:56.058Z",
    "type": "executeCodeCell"
   },
   {
    "code": "### Setting Views as Context",
    "id": "433a4a78ea7e48c8983408162854d502",
    "order_count": 10,
    "time": "2020-07-12T14:12:56.066Z",
    "type": "selectMarkdownCell"
   },
   {
    "id": "186e1ccd2ef446cfac8da8d98b1a122c",
    "isPrintLuxDf": false,
    "isPrintPandasDf": false,
    "isPrintView": true,
    "isPrintViewCollection": false,
    "time": "2020-07-12T14:12:56.101Z",
    "type": "completeCodeCell"
   },
   {
    "param": "",
    "time": "2020-07-12T14:12:56.106Z",
    "type": "initWidget"
   },
   {
    "code": "Now that we have exported the view, we can set the new context of the dataframe to be the view to get more recommendations related to this visualization.",
    "id": "d32ae31d14954f8b88711fbb89056866",
    "order_count": 11,
    "time": "2020-07-12T14:12:57.016Z",
    "type": "selectMarkdownCell"
   },
   {
    "code": "df.set_context_as_view(view)\ndf",
    "id": "e08b5df7007549379d93828434e743b1",
    "order_count": 12,
    "time": "2020-07-12T14:12:57.425Z",
    "type": "selectCodeCell"
   },
   {
    "code": "df.set_context_as_view(view)\ndf",
    "id": "e08b5df7007549379d93828434e743b1",
    "order_count": 12,
    "time": "2020-07-12T14:12:57.963Z",
    "type": "executeCodeCell"
   },
   {
    "code": "### Exporting Visualizations as Code",
    "id": "2deba987e70b465f8da4bbdc2d56adea",
    "order_count": 13,
    "time": "2020-07-12T14:12:57.970Z",
    "type": "selectMarkdownCell"
   },
   {
    "id": "e08b5df7007549379d93828434e743b1",
    "isPrintLuxDf": true,
    "isPrintPandasDf": false,
    "isPrintView": false,
    "isPrintViewCollection": false,
    "time": "2020-07-12T14:12:58.453Z",
    "type": "completeCodeCell"
   },
   {
    "param": "",
    "time": "2020-07-12T14:12:58.469Z",
    "type": "initWidget"
   },
   {
    "param": "",
    "time": "2020-07-12T14:12:58.784Z",
    "type": "initWidget"
   },
   {
    "code": "### Exporting Visualizations as Code",
    "id": "2deba987e70b465f8da4bbdc2d56adea",
    "order_count": 13,
    "time": "2020-07-12T14:13:07.433Z",
    "type": "selectMarkdownCell"
   },
   {
    "code": "Let's say that we are now interested in the bar chart distribution of country `SubRegion`.",
    "id": "ac2538b482a94f9689e28b45b6f62118",
    "order_count": 14,
    "time": "2020-07-12T14:13:07.945Z",
    "type": "selectMarkdownCell"
   },
   {
    "code": "view = df.recommendation[\"Category\"][0]\nview",
    "id": "6ad65347465445f79f77dec9876b699f",
    "order_count": 15,
    "time": "2020-07-12T14:13:08.340Z",
    "type": "selectCodeCell"
   },
   {
    "code": "view = df.recommendation[\"Category\"][0]\nview",
    "id": "6ad65347465445f79f77dec9876b699f",
    "order_count": 15,
    "time": "2020-07-12T14:13:09.064Z",
    "type": "executeCodeCell"
   },
   {
    "code": "To allow further edits of visualizations, views can be exported to code in [Altair](https://altair-viz.github.io/) or as [Vega-Lite](https://vega.github.io/vega-lite/) specification.",
    "id": "b308be9bdde74c85b656868fff58f60d",
    "order_count": 16,
    "time": "2020-07-12T14:13:09.072Z",
    "type": "selectMarkdownCell"
   },
   {
    "id": "6ad65347465445f79f77dec9876b699f",
    "isPrintLuxDf": false,
    "isPrintPandasDf": false,
    "isPrintView": false,
    "isPrintViewCollection": false,
    "time": "2020-07-12T14:13:09.210Z",
    "type": "completeCodeCell"
   },
   {
    "code": "view = df.recommendation[\"Category\"][0]\nview",
    "id": "6ad65347465445f79f77dec9876b699f",
    "order_count": 15,
    "time": "2020-07-12T14:13:16.234Z",
    "type": "selectCodeCell"
   },
   {
    "code": "",
    "id": "99a11abeaff049658e06e301bb1d8ebe",
    "order_count": 15,
    "time": "2020-07-12T14:13:16.827Z",
    "type": "selectCodeCell"
   },
   {
    "code": "",
    "id": "99a11abeaff049658e06e301bb1d8ebe",
    "order_count": 15,
    "time": "2020-07-12T14:13:16.894Z",
    "type": "editCodeCell"
   },
   {
    "code": "df.cle",
    "id": "99a11abeaff049658e06e301bb1d8ebe",
    "order_count": 15,
    "time": "2020-07-12T14:13:21.178Z",
    "type": "selectCodeCell"
   },
   {
    "code": "df.cle",
    "id": "99a11abeaff049658e06e301bb1d8ebe",
    "order_count": null,
    "time": "2020-07-12T14:13:21.502Z",
    "type": "deleteCodeCell"
   },
   {
    "code": "view = df.get_exported()[0]\nview",
    "id": "186e1ccd2ef446cfac8da8d98b1a122c",
    "order_count": 9,
    "time": "2020-07-12T14:13:34.553Z",
    "type": "selectCodeCell"
   },
   {
    "code": "df.current_view",
    "id": "d484539e4d094a5087ce070512dc05d6",
    "order_count": 27,
    "time": "2020-07-12T14:13:54.647Z",
    "type": "selectCodeCell"
   },
   {
    "time": "2020-07-12T14:14:12.768Z",
    "type": "kernelReady"
   },
   {
    "time": "2020-07-12T14:24:29.506Z",
    "type": "kernelReady"
   },
   {
    "time": "2020-07-13T00:10:31.325Z",
    "type": "kernelReady"
   },
   {
    "code": "df = pd.read_csv(\"lux/data/hpi.csv\")\ndf.set_default_display(\"lux\") #set Lux as default view\ndf",
    "id": "12a1be56c9ae4abab0a1f946bd40bc68",
    "order_count": 3,
    "time": "2020-07-13T02:03:21.073Z",
    "type": "selectCodeCell"
   },
   {
    "param": {
     "Correlation": [
      1,
      2,
      3
     ]
    },
    "time": "2020-07-13T02:03:21.080Z",
    "type": "exportBtnClick"
   },
   {
    "code": "df = pd.read_csv(\"lux/data/hpi.csv\")\ndf.set_default_display(\"lux\") #set Lux as default view\ndf",
    "id": "12a1be56c9ae4abab0a1f946bd40bc68",
    "order_count": 3,
    "time": "2020-07-13T02:03:22.575Z",
    "type": "selectCodeCell"
   },
   {
    "code": "",
    "id": "528a4a5f052643b582b3b723d97580ec",
    "order_count": 4,
    "time": "2020-07-13T02:03:23.850Z",
    "type": "selectCodeCell"
   },
   {
    "code": "",
    "id": "528a4a5f052643b582b3b723d97580ec",
    "order_count": 4,
    "time": "2020-07-13T02:03:24.057Z",
    "type": "editCodeCell"
   },
   {
    "code": "bookmarked_vis = df.get_exported()\nbookmarked_vis",
    "id": "a0843739aae2474e95eae3e889cd58c8",
    "order_count": 7,
    "time": "2020-07-13T02:03:26.029Z",
    "type": "selectCodeCell"
   },
   {
    "code": "bookmarked_vis = df.get_exported()\nbookmarked_vis",
    "id": "a0843739aae2474e95eae3e889cd58c8",
    "order_count": 7,
    "time": "2020-07-13T02:03:26.035Z",
    "type": "editCodeCell"
   },
   {
    "code": "",
    "id": "528a4a5f052643b582b3b723d97580ec",
    "order_count": 4,
    "time": "2020-07-13T02:03:28.433Z",
    "type": "selectCodeCell"
   },
   {
    "code": "",
    "id": "528a4a5f052643b582b3b723d97580ec",
    "order_count": null,
    "time": "2020-07-13T02:03:28.903Z",
    "type": "deleteCodeCell"
   },
   {
    "code": "bookmarked_vis = df.get_exported()\nbookmarked_vis",
    "id": "a0843739aae2474e95eae3e889cd58c8",
    "order_count": 6,
    "time": "2020-07-13T02:03:29.818Z",
    "type": "selectCodeCell"
   },
   {
    "code": "bookmarked_vis = df.get_exported()\nbookmarked_vis",
    "id": "a0843739aae2474e95eae3e889cd58c8",
    "order_count": 6,
    "time": "2020-07-13T02:03:29.825Z",
    "type": "editCodeCell"
   },
   {
    "code": "bookmarked_vis = df.get_exported()\nbookmarked_vis",
    "id": "a0843739aae2474e95eae3e889cd58c8",
    "order_count": 6,
    "time": "2020-07-13T02:03:30.544Z",
    "type": "executeCodeCell"
   },
   {
    "code": "From the dataframe recommendations, the visualization showing the relationship between `GDPPerCapita` and `Footprint` is very interesting. In particular, there is an outlier with extremely high ecological footprint as well as high GDP per capita. So we click on this visualization and click on the export button.",
    "id": "668eb7fb960e451eb57c681baf3de28f",
    "order_count": 7,
    "time": "2020-07-13T02:03:30.573Z",
    "type": "selectMarkdownCell"
   },
   {
    "id": "a0843739aae2474e95eae3e889cd58c8",
    "isPrintLuxDf": false,
    "isPrintPandasDf": false,
    "isPrintView": false,
    "isPrintViewCollection": false,
    "time": "2020-07-13T02:03:30.591Z",
    "type": "completeCodeCell"
   },
   {
    "code": "df = pd.read_csv(\"lux/data/hpi.csv\")\ndf.set_default_display(\"lux\") #set Lux as default view\ndf",
    "id": "12a1be56c9ae4abab0a1f946bd40bc68",
    "order_count": 3,
    "time": "2020-07-13T02:03:33.100Z",
    "type": "selectCodeCell"
   },
   {
    "code": "df = pd.read_csv(\"lux/data/hpi.csv\")\ndf.set_default_display(\"lux\") #set Lux as default view\ndf",
    "id": "12a1be56c9ae4abab0a1f946bd40bc68",
    "order_count": 3,
    "time": "2020-07-13T02:03:33.111Z",
    "type": "editCodeCell"
   },
   {
    "code": "df = pd.read_csv(\"lux/data/hpi.csv\")\ndf.set_default_display(\"lux\") #set Lux as default view\ndf",
    "id": "12a1be56c9ae4abab0a1f946bd40bc68",
    "order_count": 3,
    "time": "2020-07-13T02:03:35.402Z",
    "type": "executeCodeCell"
   },
   {
    "code": "### Exporting one or more visualizations from recommendation widget",
    "id": "8e6114c3d53f46c9b0497f0fb8f18f08",
    "order_count": 4,
    "time": "2020-07-13T02:03:35.428Z",
    "type": "selectMarkdownCell"
   },
   {
    "id": "12a1be56c9ae4abab0a1f946bd40bc68",
    "isPrintLuxDf": true,
    "isPrintPandasDf": false,
    "isPrintView": false,
    "isPrintViewCollection": false,
    "time": "2020-07-13T02:03:36.058Z",
    "type": "completeCodeCell"
   },
   {
    "param": "",
    "time": "2020-07-13T02:03:36.074Z",
    "type": "initWidget"
   },
   {
    "param": "",
    "time": "2020-07-13T02:03:36.275Z",
    "type": "initWidget"
   },
   {
    "code": "df = pd.read_csv(\"lux/data/hpi.csv\")\ndf.set_default_display(\"lux\") #set Lux as default view\ndf",
    "id": "12a1be56c9ae4abab0a1f946bd40bc68",
    "order_count": 3,
    "time": "2020-07-13T02:03:37.837Z",
    "type": "selectCodeCell"
   },
   {
    "param": {
     "index": 2,
     "tabTitle": "Correlation",
     "vis": {
      "$schema": "https://vega.github.io/schema/vega-lite/v4.8.1.json",
      "config": {
       "mark": {
        "tooltip": {
         "content": "encoding"
        }
       },
       "view": {
        "continuousHeight": 300,
        "continuousWidth": 400
       }
      },
      "data": {
       "name": "data-1dbc478f1621a81afe9776f917f39e67"
      },
      "datasets": {
       "data-1dbc478f1621a81afe9776f917f39e67": [
        {
         "AverageLifeExpectancy": 59.7,
         "InequalityAdjustedLifeExpectancy": 38.3
        },
        {
         "AverageLifeExpectancy": 77.3,
         "InequalityAdjustedLifeExpectancy": 69.7
        },
        {
         "AverageLifeExpectancy": 74.3,
         "InequalityAdjustedLifeExpectancy": 60.5
        },
        {
         "AverageLifeExpectancy": 75.9,
         "InequalityAdjustedLifeExpectancy": 68.3
        },
        {
         "AverageLifeExpectancy": 74.4,
         "InequalityAdjustedLifeExpectancy": 66.9
        },
        {
         "AverageLifeExpectancy": 82.1,
         "InequalityAdjustedLifeExpectancy": 78.6
        },
        {
         "AverageLifeExpectancy": 81,
         "InequalityAdjustedLifeExpectancy": 78
        },
        {
         "AverageLifeExpectancy": 70.8,
         "InequalityAdjustedLifeExpectancy": 56.6
        },
        {
         "AverageLifeExpectancy": 70.9,
         "InequalityAdjustedLifeExpectancy": 66.7
        },
        {
         "AverageLifeExpectancy": 80.4,
         "InequalityAdjustedLifeExpectancy": 77.2
        },
        {
         "AverageLifeExpectancy": 69.8,
         "InequalityAdjustedLifeExpectancy": 61.7
        },
        {
         "AverageLifeExpectancy": 59.2,
         "InequalityAdjustedLifeExpectancy": 37.3
        },
        {
         "AverageLifeExpectancy": 68.7,
         "InequalityAdjustedLifeExpectancy": 54.5
        },
        {
         "AverageLifeExpectancy": 67.5,
         "InequalityAdjustedLifeExpectancy": 47.9
        },
        {
         "AverageLifeExpectancy": 76.2,
         "InequalityAdjustedLifeExpectancy": 71.1
        },
        {
         "AverageLifeExpectancy": 64.2,
         "InequalityAdjustedLifeExpectancy": 50.8
        },
        {
         "AverageLifeExpectancy": 73.9,
         "InequalityAdjustedLifeExpectancy": 63.3
        },
        {
         "AverageLifeExpectancy": 73.9,
         "InequalityAdjustedLifeExpectancy": 68.1
        },
        {
         "AverageLifeExpectancy": 58,
         "InequalityAdjustedLifeExpectancy": 36.5
        },
        {
         "AverageLifeExpectancy": 55.8,
         "InequalityAdjustedLifeExpectancy": 33
        },
        {
         "AverageLifeExpectancy": 67.5,
         "InequalityAdjustedLifeExpectancy": 54.2
        },
        {
         "AverageLifeExpectancy": 54.6,
         "InequalityAdjustedLifeExpectancy": 33.1
        },
        {
         "AverageLifeExpectancy": 81.7,
         "InequalityAdjustedLifeExpectancy": 77.8
        },
        {
         "AverageLifeExpectancy": 50.8,
         "InequalityAdjustedLifeExpectancy": 27.3
        },
        {
         "AverageLifeExpectancy": 81.1,
         "InequalityAdjustedLifeExpectancy": 74.9
        },
        {
         "AverageLifeExpectancy": 75.4,
         "InequalityAdjustedLifeExpectancy": 68.6
        },
        {
         "AverageLifeExpectancy": 73.7,
         "InequalityAdjustedLifeExpectancy": 63.1
        },
        {
         "AverageLifeExpectancy": 62.6,
         "InequalityAdjustedLifeExpectancy": 43.3
        },
        {
         "AverageLifeExpectancy": 79.1,
         "InequalityAdjustedLifeExpectancy": 72.6
        },
        {
         "AverageLifeExpectancy": 50.8,
         "InequalityAdjustedLifeExpectancy": 30.6
        },
        {
         "AverageLifeExpectancy": 77,
         "InequalityAdjustedLifeExpectancy": 73.5
        },
        {
         "AverageLifeExpectancy": 79.8,
         "InequalityAdjustedLifeExpectancy": 76.6
        },
        {
         "AverageLifeExpectancy": 78.2,
         "InequalityAdjustedLifeExpectancy": 75.5
        },
        {
         "AverageLifeExpectancy": 79.8,
         "InequalityAdjustedLifeExpectancy": 76.8
        },
        {
         "AverageLifeExpectancy": 61.3,
         "InequalityAdjustedLifeExpectancy": 41.4
        },
        {
         "AverageLifeExpectancy": 73.1,
         "InequalityAdjustedLifeExpectancy": 60.8
        },
        {
         "AverageLifeExpectancy": 75.4,
         "InequalityAdjustedLifeExpectancy": 64.1
        },
        {
         "AverageLifeExpectancy": 70.7,
         "InequalityAdjustedLifeExpectancy": 61.3
        },
        {
         "AverageLifeExpectancy": 72.5,
         "InequalityAdjustedLifeExpectancy": 62.5
        },
        {
         "AverageLifeExpectancy": 76.2,
         "InequalityAdjustedLifeExpectancy": 72.6
        },
        {
         "AverageLifeExpectancy": 62.8,
         "InequalityAdjustedLifeExpectancy": 43.8
        },
        {
         "AverageLifeExpectancy": 80.4,
         "InequalityAdjustedLifeExpectancy": 77.6
        },
        {
         "AverageLifeExpectancy": 81.8,
         "InequalityAdjustedLifeExpectancy": 78.5
        },
        {
         "AverageLifeExpectancy": 63.3,
         "InequalityAdjustedLifeExpectancy": 45.8
        },
        {
         "AverageLifeExpectancy": 74.6,
         "InequalityAdjustedLifeExpectancy": 66.9
        },
        {
         "AverageLifeExpectancy": 80.6,
         "InequalityAdjustedLifeExpectancy": 77.6
        },
        {
         "AverageLifeExpectancy": 61,
         "InequalityAdjustedLifeExpectancy": 42.2
        },
        {
         "AverageLifeExpectancy": 80.5,
         "InequalityAdjustedLifeExpectancy": 77.6
        },
        {
         "AverageLifeExpectancy": 71.4,
         "InequalityAdjustedLifeExpectancy": 59.2
        },
        {
         "AverageLifeExpectancy": 57.7,
         "InequalityAdjustedLifeExpectancy": 37.2
        },
        {
         "AverageLifeExpectancy": 62.1,
         "InequalityAdjustedLifeExpectancy": 42.9
        },
        {
         "AverageLifeExpectancy": 72.8,
         "InequalityAdjustedLifeExpectancy": 58.5
        },
        {
         "AverageLifeExpectancy": 83.6,
         "InequalityAdjustedLifeExpectancy": 81.3
        },
        {
         "AverageLifeExpectancy": 74.9,
         "InequalityAdjustedLifeExpectancy": 70.9
        },
        {
         "AverageLifeExpectancy": 82.2,
         "InequalityAdjustedLifeExpectancy": 79.8
        },
        {
         "AverageLifeExpectancy": 67.3,
         "InequalityAdjustedLifeExpectancy": 51.1
        },
        {
         "AverageLifeExpectancy": 68.5,
         "InequalityAdjustedLifeExpectancy": 57.2
        },
        {
         "AverageLifeExpectancy": 74.8,
         "InequalityAdjustedLifeExpectancy": 66.9
        },
        {
         "AverageLifeExpectancy": 69,
         "InequalityAdjustedLifeExpectancy": 55.6
        },
        {
         "AverageLifeExpectancy": 80.5,
         "InequalityAdjustedLifeExpectancy": 77.5
        },
        {
         "AverageLifeExpectancy": 81.9,
         "InequalityAdjustedLifeExpectancy": 78.7
        },
        {
         "AverageLifeExpectancy": 82.7,
         "InequalityAdjustedLifeExpectancy": 80.2
        },
        {
         "AverageLifeExpectancy": 75.3,
         "InequalityAdjustedLifeExpectancy": 66.3
        },
        {
         "AverageLifeExpectancy": 83.2,
         "InequalityAdjustedLifeExpectancy": 80.6
        },
        {
         "AverageLifeExpectancy": 68.6,
         "InequalityAdjustedLifeExpectancy": 60.7
        },
        {
         "AverageLifeExpectancy": 60.3,
         "InequalityAdjustedLifeExpectancy": 41
        },
        {
         "AverageLifeExpectancy": 69.7,
         "InequalityAdjustedLifeExpectancy": 60.2
        },
        {
         "AverageLifeExpectancy": 73.6,
         "InequalityAdjustedLifeExpectancy": 68.7
        },
        {
         "AverageLifeExpectancy": 78.8,
         "InequalityAdjustedLifeExpectancy": 73.1
        },
        {
         "AverageLifeExpectancy": 48.9,
         "InequalityAdjustedLifeExpectancy": 32.6
        },
        {
         "AverageLifeExpectancy": 60.2,
         "InequalityAdjustedLifeExpectancy": 40.3
        },
        {
         "AverageLifeExpectancy": 72.8,
         "InequalityAdjustedLifeExpectancy": 68.8
        },
        {
         "AverageLifeExpectancy": 81.1,
         "InequalityAdjustedLifeExpectancy": 79
        },
        {
         "AverageLifeExpectancy": 75.1,
         "InequalityAdjustedLifeExpectancy": 69.4
        },
        {
         "AverageLifeExpectancy": 60.1,
         "InequalityAdjustedLifeExpectancy": 40.4
        },
        {
         "AverageLifeExpectancy": 74.4,
         "InequalityAdjustedLifeExpectancy": 69.5
        },
        {
         "AverageLifeExpectancy": 80.2,
         "InequalityAdjustedLifeExpectancy": 76.6
        },
        {
         "AverageLifeExpectancy": 62.6,
         "InequalityAdjustedLifeExpectancy": 41.5
        },
        {
         "AverageLifeExpectancy": 74,
         "InequalityAdjustedLifeExpectancy": 66.7
        },
        {
         "AverageLifeExpectancy": 76.4,
         "InequalityAdjustedLifeExpectancy": 66.3
        },
        {
         "AverageLifeExpectancy": 68.6,
         "InequalityAdjustedLifeExpectancy": 56.9
        },
        {
         "AverageLifeExpectancy": 75.8,
         "InequalityAdjustedLifeExpectancy": 71.8
        },
        {
         "AverageLifeExpectancy": 73.4,
         "InequalityAdjustedLifeExpectancy": 61.6
        },
        {
         "AverageLifeExpectancy": 54.3,
         "InequalityAdjustedLifeExpectancy": 34.5
        },
        {
         "AverageLifeExpectancy": 65.5,
         "InequalityAdjustedLifeExpectancy": 48.4
        },
        {
         "AverageLifeExpectancy": 64,
         "InequalityAdjustedLifeExpectancy": 50.1
        },
        {
         "AverageLifeExpectancy": 68.8,
         "InequalityAdjustedLifeExpectancy": 55.3
        },
        {
         "AverageLifeExpectancy": 81.2,
         "InequalityAdjustedLifeExpectancy": 78.2
        },
        {
         "AverageLifeExpectancy": 81.4,
         "InequalityAdjustedLifeExpectancy": 77.7
        },
        {
         "AverageLifeExpectancy": 74.3,
         "InequalityAdjustedLifeExpectancy": 63.4
        },
        {
         "AverageLifeExpectancy": 60,
         "InequalityAdjustedLifeExpectancy": 38.9
        },
        {
         "AverageLifeExpectancy": 52.1,
         "InequalityAdjustedLifeExpectancy": 30.9
        },
        {
         "AverageLifeExpectancy": 81.3,
         "InequalityAdjustedLifeExpectancy": 78.6
        },
        {
         "AverageLifeExpectancy": 76.3,
         "InequalityAdjustedLifeExpectancy": 70.9
        },
        {
         "AverageLifeExpectancy": 65.7,
         "InequalityAdjustedLifeExpectancy": 44.1
        },
        {
         "AverageLifeExpectancy": 72.6,
         "InequalityAdjustedLifeExpectancy": 62.6
        },
        {
         "AverageLifeExpectancy": 77.2,
         "InequalityAdjustedLifeExpectancy": 68.3
        },
        {
         "AverageLifeExpectancy": 72.6,
         "InequalityAdjustedLifeExpectancy": 59.4
        },
        {
         "AverageLifeExpectancy": 74.1,
         "InequalityAdjustedLifeExpectancy": 63.5
        },
        {
         "AverageLifeExpectancy": 67.9,
         "InequalityAdjustedLifeExpectancy": 56.9
        },
        {
         "AverageLifeExpectancy": 76.9,
         "InequalityAdjustedLifeExpectancy": 72.9
        },
        {
         "AverageLifeExpectancy": 80.3,
         "InequalityAdjustedLifeExpectancy": 77.2
        },
        {
         "AverageLifeExpectancy": 61,
         "InequalityAdjustedLifeExpectancy": 42
        },
        {
         "AverageLifeExpectancy": 74.3,
         "InequalityAdjustedLifeExpectancy": 68.1
        },
        {
         "AverageLifeExpectancy": 69.5,
         "InequalityAdjustedLifeExpectancy": 63.4
        },
        {
         "AverageLifeExpectancy": 63.1,
         "InequalityAdjustedLifeExpectancy": 44.3
        },
        {
         "AverageLifeExpectancy": 65.4,
         "InequalityAdjustedLifeExpectancy": 49.1
        },
        {
         "AverageLifeExpectancy": 74.5,
         "InequalityAdjustedLifeExpectancy": 68.6
        },
        {
         "AverageLifeExpectancy": 49.8,
         "InequalityAdjustedLifeExpectancy": 28.2
        },
        {
         "AverageLifeExpectancy": 75.9,
         "InequalityAdjustedLifeExpectancy": 71.9
        },
        {
         "AverageLifeExpectancy": 80,
         "InequalityAdjustedLifeExpectancy": 77.1
        },
        {
         "AverageLifeExpectancy": 56.3,
         "InequalityAdjustedLifeExpectancy": 41.8
        },
        {
         "AverageLifeExpectancy": 81.3,
         "InequalityAdjustedLifeExpectancy": 78.3
        },
        {
         "AverageLifeExpectancy": 82.2,
         "InequalityAdjustedLifeExpectancy": 79.3
        },
        {
         "AverageLifeExpectancy": 74.6,
         "InequalityAdjustedLifeExpectancy": 68.6
        },
        {
         "AverageLifeExpectancy": 70.8,
         "InequalityAdjustedLifeExpectancy": 61.2
        },
        {
         "AverageLifeExpectancy": 48.9,
         "InequalityAdjustedLifeExpectancy": 31.8
        },
        {
         "AverageLifeExpectancy": 81.8,
         "InequalityAdjustedLifeExpectancy": 79.1
        },
        {
         "AverageLifeExpectancy": 82.6,
         "InequalityAdjustedLifeExpectancy": 79.4
        },
        {
         "AverageLifeExpectancy": 70.4,
         "InequalityAdjustedLifeExpectancy": 60.2
        },
        {
         "AverageLifeExpectancy": 69,
         "InequalityAdjustedLifeExpectancy": 53
        },
        {
         "AverageLifeExpectancy": 63.5,
         "InequalityAdjustedLifeExpectancy": 47.7
        },
        {
         "AverageLifeExpectancy": 74.1,
         "InequalityAdjustedLifeExpectancy": 66.3
        },
        {
         "AverageLifeExpectancy": 58.6,
         "InequalityAdjustedLifeExpectancy": 39.6
        },
        {
         "AverageLifeExpectancy": 70.1,
         "InequalityAdjustedLifeExpectancy": 58.4
        },
        {
         "AverageLifeExpectancy": 74.6,
         "InequalityAdjustedLifeExpectancy": 65.5
        },
        {
         "AverageLifeExpectancy": 74.7,
         "InequalityAdjustedLifeExpectancy": 66.2
        },
        {
         "AverageLifeExpectancy": 65.3,
         "InequalityAdjustedLifeExpectancy": 48.3
        },
        {
         "AverageLifeExpectancy": 57.1,
         "InequalityAdjustedLifeExpectancy": 36.8
        },
        {
         "AverageLifeExpectancy": 70.3,
         "InequalityAdjustedLifeExpectancy": 64.2
        },
        {
         "AverageLifeExpectancy": 80.4,
         "InequalityAdjustedLifeExpectancy": 76.8
        },
        {
         "AverageLifeExpectancy": 78.8,
         "InequalityAdjustedLifeExpectancy": 74
        },
        {
         "AverageLifeExpectancy": 76.9,
         "InequalityAdjustedLifeExpectancy": 69.6
        },
        {
         "AverageLifeExpectancy": 68.2,
         "InequalityAdjustedLifeExpectancy": 51.6
        },
        {
         "AverageLifeExpectancy": 71.3,
         "InequalityAdjustedLifeExpectancy": 60.3
        },
        {
         "AverageLifeExpectancy": 73.9,
         "InequalityAdjustedLifeExpectancy": 65.5
        },
        {
         "AverageLifeExpectancy": 75.5,
         "InequalityAdjustedLifeExpectancy": 64.8
        },
        {
         "AverageLifeExpectancy": 63.3,
         "InequalityAdjustedLifeExpectancy": 44.7
        },
        {
         "AverageLifeExpectancy": 58.4,
         "InequalityAdjustedLifeExpectancy": 38.7
        },
        {
         "AverageLifeExpectancy": 53.7,
         "InequalityAdjustedLifeExpectancy": 36.9
        }
       ]
      },
      "encoding": {
       "x": {
        "field": "AverageLifeExpectancy",
        "scale": {
         "domain": [
          48.9,
          83.6
         ]
        },
        "type": "quantitative"
       },
       "y": {
        "field": "InequalityAdjustedLifeExpectancy",
        "scale": {
         "domain": [
          27.3,
          81.3
         ]
        },
        "type": "quantitative"
       }
      },
      "height": 150,
      "mark": "circle",
      "selection": {
       "selector055": {
        "bind": "scales",
        "encodings": [
         "x",
         "y"
        ],
        "type": "interval"
       }
      },
      "width": 160
     }
    },
    "time": "2020-07-13T02:03:37.839Z",
    "type": "clickVis"
   },
   {
    "code": "df = pd.read_csv(\"lux/data/hpi.csv\")\ndf.set_default_display(\"lux\") #set Lux as default view\ndf",
    "id": "12a1be56c9ae4abab0a1f946bd40bc68",
    "order_count": 3,
    "time": "2020-07-13T02:03:38.168Z",
    "type": "selectCodeCell"
   },
   {
    "param": {
     "index": 1,
     "tabTitle": "Correlation",
     "vis": {
      "$schema": "https://vega.github.io/schema/vega-lite/v4.8.1.json",
      "config": {
       "mark": {
        "tooltip": {
         "content": "encoding"
        }
       },
       "view": {
        "continuousHeight": 300,
        "continuousWidth": 400
       }
      },
      "data": {
       "name": "data-c5bd87549771a1474928380fe42ed676"
      },
      "datasets": {
       "data-c5bd87549771a1474928380fe42ed676": [
        {
         "AverageWellBeing": 3.8,
         "InequalityAdjustedWellbeing": 3.4
        },
        {
         "AverageWellBeing": 5.5,
         "InequalityAdjustedWellbeing": 5.1
        },
        {
         "AverageWellBeing": 5.6,
         "InequalityAdjustedWellbeing": 5.2
        },
        {
         "AverageWellBeing": 6.5,
         "InequalityAdjustedWellbeing": 6
        },
        {
         "AverageWellBeing": 4.3,
         "InequalityAdjustedWellbeing": 3.7
        },
        {
         "AverageWellBeing": 7.2,
         "InequalityAdjustedWellbeing": 6.9
        },
        {
         "AverageWellBeing": 7.4,
         "InequalityAdjustedWellbeing": 7.1
        },
        {
         "AverageWellBeing": 4.7,
         "InequalityAdjustedWellbeing": 4.3
        },
        {
         "AverageWellBeing": 5.7,
         "InequalityAdjustedWellbeing": 5.3
        },
        {
         "AverageWellBeing": 6.9,
         "InequalityAdjustedWellbeing": 6.6
        },
        {
         "AverageWellBeing": 6.1,
         "InequalityAdjustedWellbeing": 5.7
        },
        {
         "AverageWellBeing": 3.2,
         "InequalityAdjustedWellbeing": 2.8
        },
        {
         "AverageWellBeing": 5.6,
         "InequalityAdjustedWellbeing": 5.2
        },
        {
         "AverageWellBeing": 6,
         "InequalityAdjustedWellbeing": 5.5
        },
        {
         "AverageWellBeing": 4.8,
         "InequalityAdjustedWellbeing": 4.2
        },
        {
         "AverageWellBeing": 4.8,
         "InequalityAdjustedWellbeing": 4.3
        },
        {
         "AverageWellBeing": 6.9,
         "InequalityAdjustedWellbeing": 6.3
        },
        {
         "AverageWellBeing": 4.2,
         "InequalityAdjustedWellbeing": 3.7
        },
        {
         "AverageWellBeing": 4,
         "InequalityAdjustedWellbeing": 3.6
        },
        {
         "AverageWellBeing": 3.4,
         "InequalityAdjustedWellbeing": 3
        },
        {
         "AverageWellBeing": 3.9,
         "InequalityAdjustedWellbeing": 3.5
        },
        {
         "AverageWellBeing": 4.2,
         "InequalityAdjustedWellbeing": 3.7
        },
        {
         "AverageWellBeing": 7.4,
         "InequalityAdjustedWellbeing": 7.1
        },
        {
         "AverageWellBeing": 4,
         "InequalityAdjustedWellbeing": 3.7
        },
        {
         "AverageWellBeing": 6.6,
         "InequalityAdjustedWellbeing": 6.1
        },
        {
         "AverageWellBeing": 5.1,
         "InequalityAdjustedWellbeing": 4.6
        },
        {
         "AverageWellBeing": 6.4,
         "InequalityAdjustedWellbeing": 5.7
        },
        {
         "AverageWellBeing": 4,
         "InequalityAdjustedWellbeing": 3.7
        },
        {
         "AverageWellBeing": 7.3,
         "InequalityAdjustedWellbeing": 6.8
        },
        {
         "AverageWellBeing": 3.8,
         "InequalityAdjustedWellbeing": 3.5
        },
        {
         "AverageWellBeing": 6,
         "InequalityAdjustedWellbeing": 5.5
        },
        {
         "AverageWellBeing": 6.2,
         "InequalityAdjustedWellbeing": 5.7
        },
        {
         "AverageWellBeing": 6.3,
         "InequalityAdjustedWellbeing": 5.9
        },
        {
         "AverageWellBeing": 7.5,
         "InequalityAdjustedWellbeing": 7.2
        },
        {
         "AverageWellBeing": 4.4,
         "InequalityAdjustedWellbeing": 3.8
        },
        {
         "AverageWellBeing": 4.8,
         "InequalityAdjustedWellbeing": 4.1
        },
        {
         "AverageWellBeing": 6,
         "InequalityAdjustedWellbeing": 5.5
        },
        {
         "AverageWellBeing": 4.2,
         "InequalityAdjustedWellbeing": 3.7
        },
        {
         "AverageWellBeing": 5.9,
         "InequalityAdjustedWellbeing": 5.3
        },
        {
         "AverageWellBeing": 5.4,
         "InequalityAdjustedWellbeing": 5
        },
        {
         "AverageWellBeing": 4.6,
         "InequalityAdjustedWellbeing": 4.2
        },
        {
         "AverageWellBeing": 7.4,
         "InequalityAdjustedWellbeing": 7.2
        },
        {
         "AverageWellBeing": 6.6,
         "InequalityAdjustedWellbeing": 6.3
        },
        {
         "AverageWellBeing": 4,
         "InequalityAdjustedWellbeing": 3.5
        },
        {
         "AverageWellBeing": 4.3,
         "InequalityAdjustedWellbeing": 3.8
        },
        {
         "AverageWellBeing": 6.7,
         "InequalityAdjustedWellbeing": 6.4
        },
        {
         "AverageWellBeing": 5.1,
         "InequalityAdjustedWellbeing": 4.6
        },
        {
         "AverageWellBeing": 5.1,
         "InequalityAdjustedWellbeing": 4.5
        },
        {
         "AverageWellBeing": 5.9,
         "InequalityAdjustedWellbeing": 5.2
        },
        {
         "AverageWellBeing": 3.7,
         "InequalityAdjustedWellbeing": 3.3
        },
        {
         "AverageWellBeing": 4.4,
         "InequalityAdjustedWellbeing": 4
        },
        {
         "AverageWellBeing": 4.6,
         "InequalityAdjustedWellbeing": 3.9
        },
        {
         "AverageWellBeing": 5.5,
         "InequalityAdjustedWellbeing": 5.1
        },
        {
         "AverageWellBeing": 4.7,
         "InequalityAdjustedWellbeing": 4.2
        },
        {
         "AverageWellBeing": 7.6,
         "InequalityAdjustedWellbeing": 7.4
        },
        {
         "AverageWellBeing": 4.6,
         "InequalityAdjustedWellbeing": 4.2
        },
        {
         "AverageWellBeing": 5.4,
         "InequalityAdjustedWellbeing": 5.1
        },
        {
         "AverageWellBeing": 4.6,
         "InequalityAdjustedWellbeing": 4
        },
        {
         "AverageWellBeing": 4.7,
         "InequalityAdjustedWellbeing": 4.3
        },
        {
         "AverageWellBeing": 7,
         "InequalityAdjustedWellbeing": 6.7
        },
        {
         "AverageWellBeing": 7.1,
         "InequalityAdjustedWellbeing": 6.8
        },
        {
         "AverageWellBeing": 5.8,
         "InequalityAdjustedWellbeing": 5.3
        },
        {
         "AverageWellBeing": 5.6,
         "InequalityAdjustedWellbeing": 5
        },
        {
         "AverageWellBeing": 6,
         "InequalityAdjustedWellbeing": 5.6
        },
        {
         "AverageWellBeing": 5.8,
         "InequalityAdjustedWellbeing": 5.4
        },
        {
         "AverageWellBeing": 4.5,
         "InequalityAdjustedWellbeing": 4.1
        },
        {
         "AverageWellBeing": 5.2,
         "InequalityAdjustedWellbeing": 4.9
        },
        {
         "AverageWellBeing": 5.1,
         "InequalityAdjustedWellbeing": 4.7
        },
        {
         "AverageWellBeing": 4.6,
         "InequalityAdjustedWellbeing": 4
        },
        {
         "AverageWellBeing": 4.9,
         "InequalityAdjustedWellbeing": 4.3
        },
        {
         "AverageWellBeing": 4.4,
         "InequalityAdjustedWellbeing": 4.1
        },
        {
         "AverageWellBeing": 5.8,
         "InequalityAdjustedWellbeing": 5.4
        },
        {
         "AverageWellBeing": 7,
         "InequalityAdjustedWellbeing": 6.7
        },
        {
         "AverageWellBeing": 4.6,
         "InequalityAdjustedWellbeing": 4.1
        },
        {
         "AverageWellBeing": 4.3,
         "InequalityAdjustedWellbeing": 3.5
        },
        {
         "AverageWellBeing": 5.9,
         "InequalityAdjustedWellbeing": 5.7
        },
        {
         "AverageWellBeing": 6,
         "InequalityAdjustedWellbeing": 5.5
        },
        {
         "AverageWellBeing": 4.7,
         "InequalityAdjustedWellbeing": 4.5
        },
        {
         "AverageWellBeing": 5.5,
         "InequalityAdjustedWellbeing": 5.1
        },
        {
         "AverageWellBeing": 7.3,
         "InequalityAdjustedWellbeing": 6.8
        },
        {
         "AverageWellBeing": 4.9,
         "InequalityAdjustedWellbeing": 4.6
        },
        {
         "AverageWellBeing": 5.2,
         "InequalityAdjustedWellbeing": 4.6
        },
        {
         "AverageWellBeing": 5,
         "InequalityAdjustedWellbeing": 4.5
        },
        {
         "AverageWellBeing": 5,
         "InequalityAdjustedWellbeing": 4.5
        },
        {
         "AverageWellBeing": 4.4,
         "InequalityAdjustedWellbeing": 4
        },
        {
         "AverageWellBeing": 4.7,
         "InequalityAdjustedWellbeing": 4.4
        },
        {
         "AverageWellBeing": 4.2,
         "InequalityAdjustedWellbeing": 3.8
        },
        {
         "AverageWellBeing": 7.5,
         "InequalityAdjustedWellbeing": 7.5
        },
        {
         "AverageWellBeing": 7.2,
         "InequalityAdjustedWellbeing": 6.9
        },
        {
         "AverageWellBeing": 5.4,
         "InequalityAdjustedWellbeing": 4.8
        },
        {
         "AverageWellBeing": 3.8,
         "InequalityAdjustedWellbeing": 3.5
        },
        {
         "AverageWellBeing": 5.5,
         "InequalityAdjustedWellbeing": 5.2
        },
        {
         "AverageWellBeing": 7.7,
         "InequalityAdjustedWellbeing": 7.4
        },
        {
         "AverageWellBeing": 6.9,
         "InequalityAdjustedWellbeing": 6.4
        },
        {
         "AverageWellBeing": 5.1,
         "InequalityAdjustedWellbeing": 4.6
        },
        {
         "AverageWellBeing": 4.6,
         "InequalityAdjustedWellbeing": 4.1
        },
        {
         "AverageWellBeing": 6.9,
         "InequalityAdjustedWellbeing": 6.3
        },
        {
         "AverageWellBeing": 5.8,
         "InequalityAdjustedWellbeing": 5.5
        },
        {
         "AverageWellBeing": 5.8,
         "InequalityAdjustedWellbeing": 5.3
        },
        {
         "AverageWellBeing": 5,
         "InequalityAdjustedWellbeing": 4.4
        },
        {
         "AverageWellBeing": 5.9,
         "InequalityAdjustedWellbeing": 5.5
        },
        {
         "AverageWellBeing": 5,
         "InequalityAdjustedWellbeing": 4.3
        },
        {
         "AverageWellBeing": 3.9,
         "InequalityAdjustedWellbeing": 3.4
        },
        {
         "AverageWellBeing": 5.2,
         "InequalityAdjustedWellbeing": 4.6
        },
        {
         "AverageWellBeing": 5.6,
         "InequalityAdjustedWellbeing": 5.2
        },
        {
         "AverageWellBeing": 3.3,
         "InequalityAdjustedWellbeing": 3
        },
        {
         "AverageWellBeing": 3.7,
         "InequalityAdjustedWellbeing": 3.3
        },
        {
         "AverageWellBeing": 5.2,
         "InequalityAdjustedWellbeing": 4.6
        },
        {
         "AverageWellBeing": 4.5,
         "InequalityAdjustedWellbeing": 4
        },
        {
         "AverageWellBeing": 5.9,
         "InequalityAdjustedWellbeing": 5.4
        },
        {
         "AverageWellBeing": 6.1,
         "InequalityAdjustedWellbeing": 5.7
        },
        {
         "AverageWellBeing": 5.1,
         "InequalityAdjustedWellbeing": 4.6
        },
        {
         "AverageWellBeing": 6,
         "InequalityAdjustedWellbeing": 5.5
        },
        {
         "AverageWellBeing": 6.3,
         "InequalityAdjustedWellbeing": 5.9
        },
        {
         "AverageWellBeing": 4.2,
         "InequalityAdjustedWellbeing": 3.8
        },
        {
         "AverageWellBeing": 6.3,
         "InequalityAdjustedWellbeing": 5.9
        },
        {
         "AverageWellBeing": 4.9,
         "InequalityAdjustedWellbeing": 4.4
        },
        {
         "AverageWellBeing": 7.6,
         "InequalityAdjustedWellbeing": 7.4
        },
        {
         "AverageWellBeing": 7.8,
         "InequalityAdjustedWellbeing": 7.6
        },
        {
         "AverageWellBeing": 3.2,
         "InequalityAdjustedWellbeing": 2.6
        },
        {
         "AverageWellBeing": 4.5,
         "InequalityAdjustedWellbeing": 4.3
        },
        {
         "AverageWellBeing": 4,
         "InequalityAdjustedWellbeing": 3.6
        },
        {
         "AverageWellBeing": 6.3,
         "InequalityAdjustedWellbeing": 6
        },
        {
         "AverageWellBeing": 2.9,
         "InequalityAdjustedWellbeing": 2.4
        },
        {
         "AverageWellBeing": 6.4,
         "InequalityAdjustedWellbeing": 6
        },
        {
         "AverageWellBeing": 4.5,
         "InequalityAdjustedWellbeing": 4
        },
        {
         "AverageWellBeing": 5.3,
         "InequalityAdjustedWellbeing": 4.9
        },
        {
         "AverageWellBeing": 5.5,
         "InequalityAdjustedWellbeing": 5.1
        },
        {
         "AverageWellBeing": 4.3,
         "InequalityAdjustedWellbeing": 3.9
        },
        {
         "AverageWellBeing": 5,
         "InequalityAdjustedWellbeing": 4.6
        },
        {
         "AverageWellBeing": 6.9,
         "InequalityAdjustedWellbeing": 6.6
        },
        {
         "AverageWellBeing": 7,
         "InequalityAdjustedWellbeing": 6.5
        },
        {
         "AverageWellBeing": 6.4,
         "InequalityAdjustedWellbeing": 5.8
        },
        {
         "AverageWellBeing": 6,
         "InequalityAdjustedWellbeing": 5.6
        },
        {
         "AverageWellBeing": 6.5,
         "InequalityAdjustedWellbeing": 5.9
        },
        {
         "AverageWellBeing": 7.1,
         "InequalityAdjustedWellbeing": 6.5
        },
        {
         "AverageWellBeing": 5.5,
         "InequalityAdjustedWellbeing": 5.2
        },
        {
         "AverageWellBeing": 4.1,
         "InequalityAdjustedWellbeing": 3.6
        },
        {
         "AverageWellBeing": 5,
         "InequalityAdjustedWellbeing": 4.5
        },
        {
         "AverageWellBeing": 5,
         "InequalityAdjustedWellbeing": 4.6
        }
       ]
      },
      "encoding": {
       "x": {
        "field": "InequalityAdjustedWellbeing",
        "scale": {
         "domain": [
          2.4,
          7.6
         ]
        },
        "type": "quantitative"
       },
       "y": {
        "field": "AverageWellBeing",
        "scale": {
         "domain": [
          2.9,
          7.8
         ]
        },
        "type": "quantitative"
       }
      },
      "height": 150,
      "mark": "circle",
      "selection": {
       "selector054": {
        "bind": "scales",
        "encodings": [
         "x",
         "y"
        ],
        "type": "interval"
       }
      },
      "width": 160
     }
    },
    "time": "2020-07-13T02:03:38.170Z",
    "type": "clickVis"
   },
   {
    "code": "df = pd.read_csv(\"lux/data/hpi.csv\")\ndf.set_default_display(\"lux\") #set Lux as default view\ndf",
    "id": "12a1be56c9ae4abab0a1f946bd40bc68",
    "order_count": 3,
    "time": "2020-07-13T02:03:38.645Z",
    "type": "selectCodeCell"
   },
   {
    "param": {
     "index": 3,
     "tabTitle": "Correlation",
     "vis": {
      "$schema": "https://vega.github.io/schema/vega-lite/v4.8.1.json",
      "config": {
       "mark": {
        "tooltip": {
         "content": "encoding"
        }
       },
       "view": {
        "continuousHeight": 300,
        "continuousWidth": 400
       }
      },
      "data": {
       "name": "data-e7e34cde487c40c25a204bd11a5f13b1"
      },
      "datasets": {
       "data-e7e34cde487c40c25a204bd11a5f13b1": [
        {
         "InequalityAdjustedLifeExpectancy": 38.3,
         "InequalityOfOutcomes": 0.43
        },
        {
         "InequalityAdjustedLifeExpectancy": 69.7,
         "InequalityOfOutcomes": 0.17
        },
        {
         "InequalityAdjustedLifeExpectancy": 60.5,
         "InequalityOfOutcomes": 0.24
        },
        {
         "InequalityAdjustedLifeExpectancy": 68.3,
         "InequalityOfOutcomes": 0.16
        },
        {
         "InequalityAdjustedLifeExpectancy": 66.9,
         "InequalityOfOutcomes": 0.22
        },
        {
         "InequalityAdjustedLifeExpectancy": 78.6,
         "InequalityOfOutcomes": 0.08
        },
        {
         "InequalityAdjustedLifeExpectancy": 78,
         "InequalityOfOutcomes": 0.07
        },
        {
         "InequalityAdjustedLifeExpectancy": 56.6,
         "InequalityOfOutcomes": 0.27
        },
        {
         "InequalityAdjustedLifeExpectancy": 66.7,
         "InequalityOfOutcomes": 0.13
        },
        {
         "InequalityAdjustedLifeExpectancy": 77.2,
         "InequalityOfOutcomes": 0.09
        },
        {
         "InequalityAdjustedLifeExpectancy": 61.7,
         "InequalityOfOutcomes": 0.18
        },
        {
         "InequalityAdjustedLifeExpectancy": 37.3,
         "InequalityOfOutcomes": 0.44
        },
        {
         "InequalityAdjustedLifeExpectancy": 54.5,
         "InequalityOfOutcomes": 0.27
        },
        {
         "InequalityAdjustedLifeExpectancy": 47.9,
         "InequalityOfOutcomes": 0.35000000000000003
        },
        {
         "InequalityAdjustedLifeExpectancy": 71.1,
         "InequalityOfOutcomes": 0.19
        },
        {
         "InequalityAdjustedLifeExpectancy": 50.8,
         "InequalityOfOutcomes": 0.28
        },
        {
         "InequalityAdjustedLifeExpectancy": 63.3,
         "InequalityOfOutcomes": 0.22
        },
        {
         "InequalityAdjustedLifeExpectancy": 68.1,
         "InequalityOfOutcomes": 0.19
        },
        {
         "InequalityAdjustedLifeExpectancy": 36.5,
         "InequalityOfOutcomes": 0.43
        },
        {
         "InequalityAdjustedLifeExpectancy": 33,
         "InequalityOfOutcomes": 0.48
        },
        {
         "InequalityAdjustedLifeExpectancy": 54.2,
         "InequalityOfOutcomes": 0.28
        },
        {
         "InequalityAdjustedLifeExpectancy": 33.1,
         "InequalityOfOutcomes": 0.47
        },
        {
         "InequalityAdjustedLifeExpectancy": 77.8,
         "InequalityOfOutcomes": 0.09
        },
        {
         "InequalityAdjustedLifeExpectancy": 27.3,
         "InequalityOfOutcomes": 0.51
        },
        {
         "InequalityAdjustedLifeExpectancy": 74.9,
         "InequalityOfOutcomes": 0.14
        },
        {
         "InequalityAdjustedLifeExpectancy": 68.6,
         "InequalityOfOutcomes": 0.17
        },
        {
         "InequalityAdjustedLifeExpectancy": 63.1,
         "InequalityOfOutcomes": 0.24
        },
        {
         "InequalityAdjustedLifeExpectancy": 43.3,
         "InequalityOfOutcomes": 0.36
        },
        {
         "InequalityAdjustedLifeExpectancy": 72.6,
         "InequalityOfOutcomes": 0.15
        },
        {
         "InequalityAdjustedLifeExpectancy": 30.6,
         "InequalityOfOutcomes": 0.45
        },
        {
         "InequalityAdjustedLifeExpectancy": 73.5,
         "InequalityOfOutcomes": 0.12
        },
        {
         "InequalityAdjustedLifeExpectancy": 76.6,
         "InequalityOfOutcomes": 0.12
        },
        {
         "InequalityAdjustedLifeExpectancy": 75.5,
         "InequalityOfOutcomes": 0.09
        },
        {
         "InequalityAdjustedLifeExpectancy": 76.8,
         "InequalityOfOutcomes": 0.07
        },
        {
         "InequalityAdjustedLifeExpectancy": 41.4,
         "InequalityOfOutcomes": 0.42
        },
        {
         "InequalityAdjustedLifeExpectancy": 60.8,
         "InequalityOfOutcomes": 0.3
        },
        {
         "InequalityAdjustedLifeExpectancy": 64.1,
         "InequalityOfOutcomes": 0.22
        },
        {
         "InequalityAdjustedLifeExpectancy": 61.3,
         "InequalityOfOutcomes": 0.23
        },
        {
         "InequalityAdjustedLifeExpectancy": 62.5,
         "InequalityOfOutcomes": 0.22
        },
        {
         "InequalityAdjustedLifeExpectancy": 72.6,
         "InequalityOfOutcomes": 0.12
        },
        {
         "InequalityAdjustedLifeExpectancy": 43.8,
         "InequalityOfOutcomes": 0.36
        },
        {
         "InequalityAdjustedLifeExpectancy": 77.6,
         "InequalityOfOutcomes": 0.06
        },
        {
         "InequalityAdjustedLifeExpectancy": 78.5,
         "InequalityOfOutcomes": 0.09
        },
        {
         "InequalityAdjustedLifeExpectancy": 45.8,
         "InequalityOfOutcomes": 0.36
        },
        {
         "InequalityAdjustedLifeExpectancy": 66.9,
         "InequalityOfOutcomes": 0.2
        },
        {
         "InequalityAdjustedLifeExpectancy": 77.6,
         "InequalityOfOutcomes": 0.08
        },
        {
         "InequalityAdjustedLifeExpectancy": 42.2,
         "InequalityOfOutcomes": 0.38
        },
        {
         "InequalityAdjustedLifeExpectancy": 77.6,
         "InequalityOfOutcomes": 0.16
        },
        {
         "InequalityAdjustedLifeExpectancy": 59.2,
         "InequalityOfOutcomes": 0.27
        },
        {
         "InequalityAdjustedLifeExpectancy": 37.2,
         "InequalityOfOutcomes": 0.42
        },
        {
         "InequalityAdjustedLifeExpectancy": 42.9,
         "InequalityOfOutcomes": 0.37
        },
        {
         "InequalityAdjustedLifeExpectancy": 58.5,
         "InequalityOfOutcomes": 0.31
        },
        {
         "InequalityAdjustedLifeExpectancy": 81.3,
         "InequalityOfOutcomes": 0.1
        },
        {
         "InequalityAdjustedLifeExpectancy": 70.9,
         "InequalityOfOutcomes": 0.15
        },
        {
         "InequalityAdjustedLifeExpectancy": 79.8,
         "InequalityOfOutcomes": 0.05
        },
        {
         "InequalityAdjustedLifeExpectancy": 51.1,
         "InequalityOfOutcomes": 0.31
        },
        {
         "InequalityAdjustedLifeExpectancy": 57.2,
         "InequalityOfOutcomes": 0.21
        },
        {
         "InequalityAdjustedLifeExpectancy": 66.9,
         "InequalityOfOutcomes": 0.23
        },
        {
         "InequalityAdjustedLifeExpectancy": 55.6,
         "InequalityOfOutcomes": 0.27
        },
        {
         "InequalityAdjustedLifeExpectancy": 77.5,
         "InequalityOfOutcomes": 0.08
        },
        {
         "InequalityAdjustedLifeExpectancy": 78.7,
         "InequalityOfOutcomes": 0.08
        },
        {
         "InequalityAdjustedLifeExpectancy": 80.2,
         "InequalityOfOutcomes": 0.12
        },
        {
         "InequalityAdjustedLifeExpectancy": 66.3,
         "InequalityOfOutcomes": 0.21
        },
        {
         "InequalityAdjustedLifeExpectancy": 80.6,
         "InequalityOfOutcomes": 0.09
        },
        {
         "InequalityAdjustedLifeExpectancy": 60.7,
         "InequalityOfOutcomes": 0.18
        },
        {
         "InequalityAdjustedLifeExpectancy": 41,
         "InequalityOfOutcomes": 0.38
        },
        {
         "InequalityAdjustedLifeExpectancy": 60.2,
         "InequalityOfOutcomes": 0.18
        },
        {
         "InequalityAdjustedLifeExpectancy": 68.7,
         "InequalityOfOutcomes": 0.14
        },
        {
         "InequalityAdjustedLifeExpectancy": 73.1,
         "InequalityOfOutcomes": 0.19
        },
        {
         "InequalityAdjustedLifeExpectancy": 32.6,
         "InequalityOfOutcomes": 0.42
        },
        {
         "InequalityAdjustedLifeExpectancy": 40.3,
         "InequalityOfOutcomes": 0.38
        },
        {
         "InequalityAdjustedLifeExpectancy": 68.8,
         "InequalityOfOutcomes": 0.11
        },
        {
         "InequalityAdjustedLifeExpectancy": 79,
         "InequalityOfOutcomes": 0.07
        },
        {
         "InequalityAdjustedLifeExpectancy": 69.4,
         "InequalityOfOutcomes": 0.18
        },
        {
         "InequalityAdjustedLifeExpectancy": 40.4,
         "InequalityOfOutcomes": 0.45
        },
        {
         "InequalityAdjustedLifeExpectancy": 69.5,
         "InequalityOfOutcomes": 0.1
        },
        {
         "InequalityAdjustedLifeExpectancy": 76.6,
         "InequalityOfOutcomes": 0.13
        },
        {
         "InequalityAdjustedLifeExpectancy": 41.5,
         "InequalityOfOutcomes": 0.37
        },
        {
         "InequalityAdjustedLifeExpectancy": 66.7,
         "InequalityOfOutcomes": 0.17
        },
        {
         "InequalityAdjustedLifeExpectancy": 66.3,
         "InequalityOfOutcomes": 0.19
        },
        {
         "InequalityAdjustedLifeExpectancy": 56.9,
         "InequalityOfOutcomes": 0.22
        },
        {
         "InequalityAdjustedLifeExpectancy": 71.8,
         "InequalityOfOutcomes": 0.16
        },
        {
         "InequalityAdjustedLifeExpectancy": 61.6,
         "InequalityOfOutcomes": 0.25
        },
        {
         "InequalityAdjustedLifeExpectancy": 34.5,
         "InequalityOfOutcomes": 0.43
        },
        {
         "InequalityAdjustedLifeExpectancy": 48.4,
         "InequalityOfOutcomes": 0.32
        },
        {
         "InequalityAdjustedLifeExpectancy": 50.1,
         "InequalityOfOutcomes": 0.26
        },
        {
         "InequalityAdjustedLifeExpectancy": 55.3,
         "InequalityOfOutcomes": 0.27
        },
        {
         "InequalityAdjustedLifeExpectancy": 78.2,
         "InequalityOfOutcomes": 0.04
        },
        {
         "InequalityAdjustedLifeExpectancy": 77.7,
         "InequalityOfOutcomes": 0.08
        },
        {
         "InequalityAdjustedLifeExpectancy": 63.4,
         "InequalityOfOutcomes": 0.25
        },
        {
         "InequalityAdjustedLifeExpectancy": 38.9,
         "InequalityOfOutcomes": 0.4
        },
        {
         "InequalityAdjustedLifeExpectancy": 30.9,
         "InequalityOfOutcomes": 0.44
        },
        {
         "InequalityAdjustedLifeExpectancy": 78.6,
         "InequalityOfOutcomes": 0.07
        },
        {
         "InequalityAdjustedLifeExpectancy": 70.9,
         "InequalityOfOutcomes": 0.13
        },
        {
         "InequalityAdjustedLifeExpectancy": 44.1,
         "InequalityOfOutcomes": 0.4
        },
        {
         "InequalityAdjustedLifeExpectancy": 62.6,
         "InequalityOfOutcomes": 0.24
        },
        {
         "InequalityAdjustedLifeExpectancy": 68.3,
         "InequalityOfOutcomes": 0.19
        },
        {
         "InequalityAdjustedLifeExpectancy": 59.4,
         "InequalityOfOutcomes": 0.22
        },
        {
         "InequalityAdjustedLifeExpectancy": 63.5,
         "InequalityOfOutcomes": 0.21
        },
        {
         "InequalityAdjustedLifeExpectancy": 56.9,
         "InequalityOfOutcomes": 0.26
        },
        {
         "InequalityAdjustedLifeExpectancy": 72.9,
         "InequalityOfOutcomes": 0.11
        },
        {
         "InequalityAdjustedLifeExpectancy": 77.2,
         "InequalityOfOutcomes": 0.16
        },
        {
         "InequalityAdjustedLifeExpectancy": 42,
         "InequalityOfOutcomes": 0.4
        },
        {
         "InequalityAdjustedLifeExpectancy": 68.1,
         "InequalityOfOutcomes": 0.19
        },
        {
         "InequalityAdjustedLifeExpectancy": 63.4,
         "InequalityOfOutcomes": 0.16
        },
        {
         "InequalityAdjustedLifeExpectancy": 44.3,
         "InequalityOfOutcomes": 0.37
        },
        {
         "InequalityAdjustedLifeExpectancy": 49.1,
         "InequalityOfOutcomes": 0.33
        },
        {
         "InequalityAdjustedLifeExpectancy": 68.6,
         "InequalityOfOutcomes": 0.19
        },
        {
         "InequalityAdjustedLifeExpectancy": 28.2,
         "InequalityOfOutcomes": 0.5
        },
        {
         "InequalityAdjustedLifeExpectancy": 71.9,
         "InequalityOfOutcomes": 0.13
        },
        {
         "InequalityAdjustedLifeExpectancy": 77.1,
         "InequalityOfOutcomes": 0.1
        },
        {
         "InequalityAdjustedLifeExpectancy": 41.8,
         "InequalityOfOutcomes": 0.33
        },
        {
         "InequalityAdjustedLifeExpectancy": 78.3,
         "InequalityOfOutcomes": 0.11
        },
        {
         "InequalityAdjustedLifeExpectancy": 79.3,
         "InequalityOfOutcomes": 0.1
        },
        {
         "InequalityAdjustedLifeExpectancy": 68.6,
         "InequalityOfOutcomes": 0.17
        },
        {
         "InequalityAdjustedLifeExpectancy": 61.2,
         "InequalityOfOutcomes": 0.19
        },
        {
         "InequalityAdjustedLifeExpectancy": 31.8,
         "InequalityOfOutcomes": 0.41
        },
        {
         "InequalityAdjustedLifeExpectancy": 79.1,
         "InequalityOfOutcomes": 0.06
        },
        {
         "InequalityAdjustedLifeExpectancy": 79.4,
         "InequalityOfOutcomes": 0.06
        },
        {
         "InequalityAdjustedLifeExpectancy": 60.2,
         "InequalityOfOutcomes": 0.3
        },
        {
         "InequalityAdjustedLifeExpectancy": 53,
         "InequalityOfOutcomes": 0.26
        },
        {
         "InequalityAdjustedLifeExpectancy": 47.7,
         "InequalityOfOutcomes": 0.33
        },
        {
         "InequalityAdjustedLifeExpectancy": 66.3,
         "InequalityOfOutcomes": 0.15
        },
        {
         "InequalityAdjustedLifeExpectancy": 39.6,
         "InequalityOfOutcomes": 0.43
        },
        {
         "InequalityAdjustedLifeExpectancy": 58.4,
         "InequalityOfOutcomes": 0.21
        },
        {
         "InequalityAdjustedLifeExpectancy": 65.5,
         "InequalityOfOutcomes": 0.22
        },
        {
         "InequalityAdjustedLifeExpectancy": 66.2,
         "InequalityOfOutcomes": 0.19
        },
        {
         "InequalityAdjustedLifeExpectancy": 48.3,
         "InequalityOfOutcomes": 0.31
        },
        {
         "InequalityAdjustedLifeExpectancy": 36.8,
         "InequalityOfOutcomes": 0.41
        },
        {
         "InequalityAdjustedLifeExpectancy": 64.2,
         "InequalityOfOutcomes": 0.17
        },
        {
         "InequalityAdjustedLifeExpectancy": 76.8,
         "InequalityOfOutcomes": 0.09
        },
        {
         "InequalityAdjustedLifeExpectancy": 74,
         "InequalityOfOutcomes": 0.13
        },
        {
         "InequalityAdjustedLifeExpectancy": 69.6,
         "InequalityOfOutcomes": 0.18
        },
        {
         "InequalityAdjustedLifeExpectancy": 51.6,
         "InequalityOfOutcomes": 0.3
        },
        {
         "InequalityAdjustedLifeExpectancy": 60.3,
         "InequalityOfOutcomes": 0.22
        },
        {
         "InequalityAdjustedLifeExpectancy": 65.5,
         "InequalityOfOutcomes": 0.19
        },
        {
         "InequalityAdjustedLifeExpectancy": 64.8,
         "InequalityOfOutcomes": 0.19
        },
        {
         "InequalityAdjustedLifeExpectancy": 44.7,
         "InequalityOfOutcomes": 0.39
        },
        {
         "InequalityAdjustedLifeExpectancy": 38.7,
         "InequalityOfOutcomes": 0.41
        },
        {
         "InequalityAdjustedLifeExpectancy": 36.9,
         "InequalityOfOutcomes": 0.37
        }
       ]
      },
      "encoding": {
       "x": {
        "field": "InequalityOfOutcomes",
        "scale": {
         "domain": [
          0.04,
          0.51
         ]
        },
        "type": "quantitative"
       },
       "y": {
        "field": "InequalityAdjustedLifeExpectancy",
        "scale": {
         "domain": [
          27.3,
          81.3
         ]
        },
        "type": "quantitative"
       }
      },
      "height": 150,
      "mark": "circle",
      "selection": {
       "selector056": {
        "bind": "scales",
        "encodings": [
         "x",
         "y"
        ],
        "type": "interval"
       }
      },
      "width": 160
     }
    },
    "time": "2020-07-13T02:03:38.649Z",
    "type": "clickVis"
   },
   {
    "code": "df = pd.read_csv(\"lux/data/hpi.csv\")\ndf.set_default_display(\"lux\") #set Lux as default view\ndf",
    "id": "12a1be56c9ae4abab0a1f946bd40bc68",
    "order_count": 3,
    "time": "2020-07-13T02:03:39.404Z",
    "type": "selectCodeCell"
   },
   {
    "param": {
     "Correlation": [
      2,
      1,
      3
     ]
    },
    "time": "2020-07-13T02:03:39.406Z",
    "type": "exportBtnClick"
   },
   {
    "code": "bookmarked_vis = df.get_exported()\nbookmarked_vis",
    "id": "a0843739aae2474e95eae3e889cd58c8",
    "order_count": 6,
    "time": "2020-07-13T02:03:40.389Z",
    "type": "selectCodeCell"
   },
   {
    "code": "bookmarked_vis = df.get_exported()\nbookmarked_vis",
    "id": "a0843739aae2474e95eae3e889cd58c8",
    "order_count": 6,
    "time": "2020-07-13T02:03:40.396Z",
    "type": "editCodeCell"
   },
   {
    "code": "bookmarked_vis = df.get_exported()\nbookmarked_vis",
    "id": "a0843739aae2474e95eae3e889cd58c8",
    "order_count": 6,
    "time": "2020-07-13T02:03:41.006Z",
    "type": "executeCodeCell"
   },
   {
    "code": "From the dataframe recommendations, the visualization showing the relationship between `GDPPerCapita` and `Footprint` is very interesting. In particular, there is an outlier with extremely high ecological footprint as well as high GDP per capita. So we click on this visualization and click on the export button.",
    "id": "668eb7fb960e451eb57c681baf3de28f",
    "order_count": 7,
    "time": "2020-07-13T02:03:41.036Z",
    "type": "selectMarkdownCell"
   },
   {
    "id": "a0843739aae2474e95eae3e889cd58c8",
    "isPrintLuxDf": false,
    "isPrintPandasDf": false,
    "isPrintView": true,
    "isPrintViewCollection": false,
    "time": "2020-07-13T02:03:41.083Z",
    "type": "completeCodeCell"
   },
   {
    "param": "",
    "time": "2020-07-13T02:03:41.096Z",
    "type": "initWidget"
   },
   {
    "code": "bookmarked_vis = df.get_exported()\nbookmarked_vis",
    "id": "a0843739aae2474e95eae3e889cd58c8",
    "order_count": 6,
    "time": "2020-07-13T02:03:43.206Z",
    "type": "selectCodeCell"
   },
   {
    "code": "",
    "id": "90b28b2851274582a9eaeb634183e181",
    "order_count": 7,
    "time": "2020-07-13T02:03:43.935Z",
    "type": "selectCodeCell"
   },
   {
    "code": "",
    "id": "90b28b2851274582a9eaeb634183e181",
    "order_count": 7,
    "time": "2020-07-13T02:03:44.147Z",
    "type": "editCodeCell"
   },
   {
    "code": "bookmarked_vis = df.get_exported()\nbookmarked_vis",
    "id": "a0843739aae2474e95eae3e889cd58c8",
    "order_count": 6,
    "time": "2020-07-13T02:03:55.539Z",
    "type": "selectCodeCell"
   },
   {
    "code": "bookmarked_vis = df.get_exported()\nbookmarked_vis",
    "id": "a0843739aae2474e95eae3e889cd58c8",
    "order_count": 6,
    "time": "2020-07-13T02:03:55.544Z",
    "type": "editCodeCell"
   },
   {
    "code": "bookmarked_charts = df.get_exported()\nbookmarked_charts",
    "id": "a0843739aae2474e95eae3e889cd58c8",
    "order_count": 6,
    "time": "2020-07-13T02:04:02.467Z",
    "type": "executeCodeCell"
   },
   {
    "code": "bookmarked_vis",
    "id": "90b28b2851274582a9eaeb634183e181",
    "order_count": 7,
    "time": "2020-07-13T02:04:02.504Z",
    "type": "selectCodeCell"
   },
   {
    "id": "a0843739aae2474e95eae3e889cd58c8",
    "isPrintLuxDf": false,
    "isPrintPandasDf": false,
    "isPrintView": true,
    "isPrintViewCollection": false,
    "time": "2020-07-13T02:04:02.545Z",
    "type": "completeCodeCell"
   },
   {
    "param": "",
    "time": "2020-07-13T02:04:02.554Z",
    "type": "initWidget"
   },
   {
    "code": "bookmarked_vis",
    "id": "90b28b2851274582a9eaeb634183e181",
    "order_count": 7,
    "time": "2020-07-13T02:04:03.034Z",
    "type": "editCodeCell"
   },
   {
    "code": "bookmarked_charts",
    "id": "90b28b2851274582a9eaeb634183e181",
    "order_count": 7,
    "time": "2020-07-13T02:04:05.861Z",
    "type": "executeCodeCell"
   },
   {
    "code": "From the dataframe recommendations, the visualization showing the relationship between `GDPPerCapita` and `Footprint` is very interesting. In particular, there is an outlier with extremely high ecological footprint as well as high GDP per capita. So we click on this visualization and click on the export button.",
    "id": "668eb7fb960e451eb57c681baf3de28f",
    "order_count": 8,
    "time": "2020-07-13T02:04:05.892Z",
    "type": "selectMarkdownCell"
   },
   {
    "id": "90b28b2851274582a9eaeb634183e181",
    "isPrintLuxDf": false,
    "isPrintPandasDf": false,
    "isPrintView": true,
    "isPrintViewCollection": false,
    "time": "2020-07-13T02:04:05.948Z",
    "type": "completeCodeCell"
   },
   {
    "param": "",
    "time": "2020-07-13T02:04:05.956Z",
    "type": "initWidget"
   },
   {
    "code": "bookmarked_charts",
    "id": "90b28b2851274582a9eaeb634183e181",
    "order_count": 7,
    "time": "2020-07-13T02:04:06.426Z",
    "type": "selectCodeCell"
   },
   {
    "code": "bookmarked_charts",
    "id": "90b28b2851274582a9eaeb634183e181",
    "order_count": 7,
    "time": "2020-07-13T02:04:06.649Z",
    "type": "editCodeCell"
   },
   {
    "code": "bookmarked_charts.load(df[df[\"SubRegion\"]==\"Europe\"])",
    "id": "90b28b2851274582a9eaeb634183e181",
    "order_count": 7,
    "time": "2020-07-13T02:04:30.530Z",
    "type": "executeCodeCell"
   },
   {
    "code": "From the dataframe recommendations, the visualization showing the relationship between `GDPPerCapita` and `Footprint` is very interesting. In particular, there is an outlier with extremely high ecological footprint as well as high GDP per capita. So we click on this visualization and click on the export button.",
    "id": "668eb7fb960e451eb57c681baf3de28f",
    "order_count": 8,
    "time": "2020-07-13T02:04:30.567Z",
    "type": "selectMarkdownCell"
   },
   {
    "id": "90b28b2851274582a9eaeb634183e181",
    "isPrintLuxDf": false,
    "isPrintPandasDf": false,
    "isPrintView": false,
    "isPrintViewCollection": false,
    "time": "2020-07-13T02:04:30.955Z",
    "type": "completeCodeCell"
   },
   {
    "code": "",
    "id": "c4244ef46440416c84200951bd8c5fcf",
    "order_count": 8,
    "time": "2020-07-13T02:04:31.901Z",
    "type": "selectCodeCell"
   },
   {
    "code": "",
    "id": "c4244ef46440416c84200951bd8c5fcf",
    "order_count": 8,
    "time": "2020-07-13T02:04:32.053Z",
    "type": "editCodeCell"
   },
   {
    "code": "bookmarked_charts.load(df[df[\"SubRegion\"]==\"Europe\"])",
    "id": "90b28b2851274582a9eaeb634183e181",
    "order_count": 7,
    "time": "2020-07-13T02:04:34.741Z",
    "type": "selectCodeCell"
   },
   {
    "code": "bookmarked_charts.load(df[df[\"SubRegion\"]==\"Europe\"])",
    "id": "90b28b2851274582a9eaeb634183e181",
    "order_count": 7,
    "time": "2020-07-13T02:04:34.757Z",
    "type": "editCodeCell"
   },
   {
    "code": "d",
    "id": "c4244ef46440416c84200951bd8c5fcf",
    "order_count": 8,
    "time": "2020-07-13T02:04:36.419Z",
    "type": "selectCodeCell"
   },
   {
    "code": "d",
    "id": "c4244ef46440416c84200951bd8c5fcf",
    "order_count": 8,
    "time": "2020-07-13T02:04:36.424Z",
    "type": "editCodeCell"
   },
   {
    "code": "d",
    "id": "c4244ef46440416c84200951bd8c5fcf",
    "order_count": 8,
    "time": "2020-07-13T02:04:36.472Z",
    "type": "selectCodeCell"
   },
   {
    "code": "df[df[\"SubRegion\"]==\"Europe\"]",
    "id": "c4244ef46440416c84200951bd8c5fcf",
    "order_count": 8,
    "time": "2020-07-13T02:04:38.582Z",
    "type": "executeCodeCell"
   },
   {
    "code": "From the dataframe recommendations, the visualization showing the relationship between `GDPPerCapita` and `Footprint` is very interesting. In particular, there is an outlier with extremely high ecological footprint as well as high GDP per capita. So we click on this visualization and click on the export button.",
    "id": "668eb7fb960e451eb57c681baf3de28f",
    "order_count": 9,
    "time": "2020-07-13T02:04:38.629Z",
    "type": "selectMarkdownCell"
   },
   {
    "id": "c4244ef46440416c84200951bd8c5fcf",
    "isPrintLuxDf": false,
    "isPrintPandasDf": true,
    "isPrintView": false,
    "isPrintViewCollection": false,
    "time": "2020-07-13T02:04:39.273Z",
    "type": "completeCodeCell"
   },
   {
    "code": "df[df[\"SubRegion\"]==\"Europe\"]",
    "id": "c4244ef46440416c84200951bd8c5fcf",
    "order_count": 8,
    "time": "2020-07-13T02:04:45.769Z",
    "type": "selectCodeCell"
   },
   {
    "code": "df[df[\"SubRegion\"]==\"Europe\"]",
    "id": "c4244ef46440416c84200951bd8c5fcf",
    "order_count": 8,
    "time": "2020-07-13T02:04:58.435Z",
    "type": "selectCodeCell"
   },
   {
    "code": "df[df[\"SubRegion\"]==\"Europe\"]",
    "id": "c4244ef46440416c84200951bd8c5fcf",
    "order_count": null,
    "time": "2020-07-13T02:05:00.117Z",
    "type": "deleteCodeCell"
   },
   {
    "code": "bookmarked_charts.load(df[df[\"SubRegion\"]==\"Europe\"])",
    "id": "90b28b2851274582a9eaeb634183e181",
    "order_count": 7,
    "time": "2020-07-13T02:34:03.429Z",
    "type": "selectCodeCell"
   },
   {
    "code": "bookmarked_charts.load(df[df[\"SubRegion\"]==\"Europe\"])",
    "id": "90b28b2851274582a9eaeb634183e181",
    "order_count": 7,
    "time": "2020-07-13T02:34:03.454Z",
    "type": "editCodeCell"
   },
   {
    "code": "",
    "id": "db76898871a442feae57b2d24370901a",
    "order_count": 7,
    "time": "2020-07-13T02:34:05.175Z",
    "type": "selectCodeCell"
   },
   {
    "code": "",
    "id": "db76898871a442feae57b2d24370901a",
    "order_count": 7,
    "time": "2020-07-13T02:34:05.254Z",
    "type": "editCodeCell"
   },
   {
    "code": "bookmarked_charts[0]",
    "id": "db76898871a442feae57b2d24370901a",
    "order_count": 7,
    "time": "2020-07-13T02:34:07.162Z",
    "type": "executeCodeCell"
   },
   {
    "code": "bookmarked_charts.load(df[df[\"SubRegion\"]==\"Europe\"])",
    "id": "90b28b2851274582a9eaeb634183e181",
    "order_count": 8,
    "time": "2020-07-13T02:34:07.232Z",
    "type": "selectCodeCell"
   },
   {
    "id": "db76898871a442feae57b2d24370901a",
    "isPrintLuxDf": false,
    "isPrintPandasDf": false,
    "isPrintView": true,
    "isPrintViewCollection": false,
    "time": "2020-07-13T02:34:07.258Z",
    "type": "completeCodeCell"
   },
   {
    "param": "",
    "time": "2020-07-13T02:34:07.277Z",
    "type": "initWidget"
   },
   {
    "code": "bookmarked_charts[0]",
    "id": "db76898871a442feae57b2d24370901a",
    "order_count": 7,
    "time": "2020-07-13T02:34:07.670Z",
    "type": "selectCodeCell"
   },
   {
    "code": "bookmarked_charts[0]",
    "id": "db76898871a442feae57b2d24370901a",
    "order_count": 7,
    "time": "2020-07-13T02:34:07.906Z",
    "type": "editCodeCell"
   },
   {
    "code": "bookmarked_charts.load(df[df[\"SubRegion\"]==\"Europe\"])",
    "id": "90b28b2851274582a9eaeb634183e181",
    "order_count": 8,
    "time": "2020-07-13T02:34:09.553Z",
    "type": "selectCodeCell"
   },
   {
    "code": "bookmarked_charts.load(df[df[\"SubRegion\"]==\"Europe\"])",
    "id": "90b28b2851274582a9eaeb634183e181",
    "order_count": 8,
    "time": "2020-07-13T02:34:09.570Z",
    "type": "editCodeCell"
   },
   {
    "code": "bookmarked_charts.load(df[df[\"SubRegion\"]==\"Europe\"])",
    "id": "90b28b2851274582a9eaeb634183e181",
    "order_count": 8,
    "time": "2020-07-13T02:34:09.665Z",
    "type": "editCodeCell"
   },
   {
    "code": "bookmarked_charts[0]",
    "id": "db76898871a442feae57b2d24370901a",
    "order_count": 7,
    "time": "2020-07-13T02:34:11.553Z",
    "type": "selectCodeCell"
   },
   {
    "code": "bookmarked_charts[0]",
    "id": "db76898871a442feae57b2d24370901a",
    "order_count": 7,
    "time": "2020-07-13T02:34:11.559Z",
    "type": "editCodeCell"
   },
   {
    "code": "bookmarked_charts[0].load(df[df[\"SubRegion\"]==\"Europe\"])",
    "id": "db76898871a442feae57b2d24370901a",
    "order_count": 7,
    "time": "2020-07-13T02:34:12.146Z",
    "type": "executeCodeCell"
   },
   {
    "code": "bookmarked_charts.load(df[df[\"SubRegion\"]==\"Europe\"])",
    "id": "90b28b2851274582a9eaeb634183e181",
    "order_count": 8,
    "time": "2020-07-13T02:34:12.214Z",
    "type": "selectCodeCell"
   },
   {
    "id": "db76898871a442feae57b2d24370901a",
    "isPrintLuxDf": false,
    "isPrintPandasDf": false,
    "isPrintView": true,
    "isPrintViewCollection": false,
    "time": "2020-07-13T02:34:12.233Z",
    "type": "completeCodeCell"
   },
   {
    "param": "",
    "time": "2020-07-13T02:34:12.241Z",
    "type": "initWidget"
   },
   {
    "code": "bookmarked_charts.load(df[df[\"SubRegion\"]==\"Europe\"])",
    "id": "90b28b2851274582a9eaeb634183e181",
    "order_count": 8,
    "time": "2020-07-13T02:38:54.296Z",
    "type": "editCodeCell"
   },
   {
    "code": "bookmarked_charts.load(df[df[\"SubRegion\"]==\"Europe\"])",
    "id": "90b28b2851274582a9eaeb634183e181",
    "order_count": 8,
    "time": "2020-07-13T02:38:54.370Z",
    "type": "selectCodeCell"
   },
   {
    "code": "bookmarked_charts.load(df[df[\"SubRegion\"]==\"Europe\"])",
    "id": "90b28b2851274582a9eaeb634183e181",
    "order_count": 8,
    "time": "2020-07-13T02:38:55.355Z",
    "type": "selectCodeCell"
   },
   {
    "code": "",
    "id": "a9263985e0934627a42a63b163c31030",
    "order_count": 8,
    "time": "2020-07-13T02:38:57.820Z",
    "type": "selectCodeCell"
   },
   {
    "code": "",
    "id": "a9263985e0934627a42a63b163c31030",
    "order_count": 8,
    "time": "2020-07-13T02:38:57.923Z",
    "type": "editCodeCell"
   },
   {
    "code": "",
    "id": "a9263985e0934627a42a63b163c31030",
    "order_count": 8,
    "time": "2020-07-13T02:41:01.767Z",
    "type": "editCodeCell"
   },
   {
    "code": "",
    "id": "a9263985e0934627a42a63b163c31030",
    "order_count": 8,
    "time": "2020-07-13T02:44:56.774Z",
    "type": "editCodeCell"
   },
   {
    "code": "",
    "id": "a9263985e0934627a42a63b163c31030",
    "order_count": 8,
    "time": "2020-07-13T02:44:59.298Z",
    "type": "selectCodeCell"
   },
   {
    "code": "bookmarked_charts.load(df[df[\"SubRegion\"]==\"Europe\"])",
    "id": "90b28b2851274582a9eaeb634183e181",
    "order_count": 9,
    "time": "2020-07-13T02:44:59.696Z",
    "type": "selectCodeCell"
   },
   {
    "code": "bookmarked_charts[0].load(df[df[\"SubRegion\"]==\"Europe\"])",
    "id": "db76898871a442feae57b2d24370901a",
    "order_count": 7,
    "time": "2020-07-13T02:47:21.130Z",
    "type": "selectCodeCell"
   },
   {
    "time": "2020-07-13T02:47:22.311Z",
    "type": "kernelRestart"
   },
   {
    "time": "2020-07-13T02:47:22.455Z",
    "type": "kernelRestart"
   },
   {
    "code": "bookmarked_charts = df.get_exported()\nbookmarked_charts",
    "id": "a0843739aae2474e95eae3e889cd58c8",
    "order_count": 6,
    "time": "2020-07-13T02:47:22.844Z",
    "type": "selectCodeCell"
   },
   {
    "code": "We can click on visualizations of interest and export them into a separate widget.",
    "id": "f3f9136301e54bd19eac8eb55f9cc158",
    "order_count": 5,
    "time": "2020-07-13T02:47:22.974Z",
    "type": "selectMarkdownCell"
   },
   {
    "code": "### Exporting one or more visualizations from recommendation widget",
    "id": "8e6114c3d53f46c9b0497f0fb8f18f08",
    "order_count": 4,
    "time": "2020-07-13T02:47:23.117Z",
    "type": "selectMarkdownCell"
   },
   {
    "code": "df = pd.read_csv(\"lux/data/hpi.csv\")\ndf.set_default_display(\"lux\") #set Lux as default view\ndf",
    "id": "12a1be56c9ae4abab0a1f946bd40bc68",
    "order_count": 3,
    "time": "2020-07-13T02:47:23.277Z",
    "type": "selectCodeCell"
   },
   {
    "code": "In this tutorial, we look at the [Happy Planet Index](http://happyplanetindex.org/) dataset, which contains metrics related to well-being for 140 countries around the world. We demonstrate how you can select visualizations of interest and export them for further analysis. ",
    "id": "2b4ef2b4027f49a68a2486039b0d5fee",
    "order_count": 2,
    "time": "2020-07-13T02:47:23.412Z",
    "type": "selectMarkdownCell"
   },
   {
    "code": "import pandas as pd\nimport lux",
    "id": "36317fa004f84755901fb751d5e7974b",
    "order_count": 1,
    "time": "2020-07-13T02:47:23.646Z",
    "type": "selectCodeCell"
   },
   {
    "code": "cd ..",
    "id": "eb64dbe726c9440f8884b3f1484bab48",
    "order_count": 0,
    "time": "2020-07-13T02:47:23.836Z",
    "type": "selectCodeCell"
   },
   {
    "time": "2020-07-13T02:47:24.032Z",
    "type": "kernelReady"
   },
   {
    "code": "cd ..",
    "id": "eb64dbe726c9440f8884b3f1484bab48",
    "order_count": 0,
    "time": "2020-07-13T02:47:24.131Z",
    "type": "executeCodeCell"
   },
   {
    "code": "import pandas as pd\nimport lux",
    "id": "36317fa004f84755901fb751d5e7974b",
    "order_count": 1,
    "time": "2020-07-13T02:47:24.147Z",
    "type": "selectCodeCell"
   },
   {
    "id": "eb64dbe726c9440f8884b3f1484bab48",
    "isPrintLuxDf": false,
    "isPrintPandasDf": false,
    "isPrintView": false,
    "isPrintViewCollection": false,
    "time": "2020-07-13T02:47:24.160Z",
    "type": "completeCodeCell"
   },
   {
    "code": "cd ..",
    "id": "eb64dbe726c9440f8884b3f1484bab48",
    "order_count": 0,
    "time": "2020-07-13T02:47:24.934Z",
    "type": "selectCodeCell"
   },
   {
    "code": "cd ..",
    "id": "eb64dbe726c9440f8884b3f1484bab48",
    "order_count": 0,
    "time": "2020-07-13T02:47:25.371Z",
    "type": "executeCodeCell"
   },
   {
    "code": "import pandas as pd\nimport lux",
    "id": "36317fa004f84755901fb751d5e7974b",
    "order_count": 1,
    "time": "2020-07-13T02:47:25.387Z",
    "type": "selectCodeCell"
   },
   {
    "id": "eb64dbe726c9440f8884b3f1484bab48",
    "isPrintLuxDf": false,
    "isPrintPandasDf": false,
    "isPrintView": false,
    "isPrintViewCollection": false,
    "time": "2020-07-13T02:47:25.399Z",
    "type": "completeCodeCell"
   },
   {
    "code": "import pandas as pd\nimport lux",
    "id": "36317fa004f84755901fb751d5e7974b",
    "order_count": 1,
    "time": "2020-07-13T02:47:25.531Z",
    "type": "executeCodeCell"
   },
   {
    "code": "In this tutorial, we look at the [Happy Planet Index](http://happyplanetindex.org/) dataset, which contains metrics related to well-being for 140 countries around the world. We demonstrate how you can select visualizations of interest and export them for further analysis. ",
    "id": "2b4ef2b4027f49a68a2486039b0d5fee",
    "order_count": 2,
    "time": "2020-07-13T02:47:25.539Z",
    "type": "selectMarkdownCell"
   },
   {
    "code": "df = pd.read_csv(\"lux/data/hpi.csv\")\ndf.set_default_display(\"lux\") #set Lux as default view\ndf",
    "id": "12a1be56c9ae4abab0a1f946bd40bc68",
    "order_count": 3,
    "time": "2020-07-13T02:47:25.679Z",
    "type": "selectCodeCell"
   },
   {
    "id": "36317fa004f84755901fb751d5e7974b",
    "isPrintLuxDf": false,
    "isPrintPandasDf": false,
    "isPrintView": false,
    "isPrintViewCollection": false,
    "time": "2020-07-13T02:47:25.878Z",
    "type": "completeCodeCell"
   },
   {
    "code": "df = pd.read_csv(\"lux/data/hpi.csv\")\ndf.set_default_display(\"lux\") #set Lux as default view\ndf",
    "id": "12a1be56c9ae4abab0a1f946bd40bc68",
    "order_count": 3,
    "time": "2020-07-13T02:47:26.741Z",
    "type": "executeCodeCell"
   },
   {
    "code": "### Exporting one or more visualizations from recommendation widget",
    "id": "8e6114c3d53f46c9b0497f0fb8f18f08",
    "order_count": 4,
    "time": "2020-07-13T02:47:26.750Z",
    "type": "selectMarkdownCell"
   },
   {
    "id": "12a1be56c9ae4abab0a1f946bd40bc68",
    "isPrintLuxDf": false,
    "isPrintPandasDf": false,
    "isPrintView": false,
    "isPrintViewCollection": false,
    "time": "2020-07-13T02:47:26.871Z",
    "type": "completeCodeCell"
   },
   {
    "time": "2020-07-13T02:47:28.754Z",
    "type": "kernelRestart"
   },
   {
    "code": "df = pd.read_csv(\"lux/data/hpi.csv\")\ndf.set_default_display(\"lux\") #set Lux as default view\ndf",
    "id": "12a1be56c9ae4abab0a1f946bd40bc68",
    "order_count": 3,
    "time": "2020-07-13T02:47:29.348Z",
    "type": "selectCodeCell"
   },
   {
    "code": "In this tutorial, we look at the [Happy Planet Index](http://happyplanetindex.org/) dataset, which contains metrics related to well-being for 140 countries around the world. We demonstrate how you can select visualizations of interest and export them for further analysis. ",
    "id": "2b4ef2b4027f49a68a2486039b0d5fee",
    "order_count": 2,
    "time": "2020-07-13T02:47:29.489Z",
    "type": "selectMarkdownCell"
   },
   {
    "time": "2020-07-13T02:47:29.541Z",
    "type": "kernelReady"
   },
   {
    "code": "import pandas as pd\nimport lux",
    "id": "36317fa004f84755901fb751d5e7974b",
    "order_count": 1,
    "time": "2020-07-13T02:47:29.974Z",
    "type": "selectCodeCell"
   },
   {
    "code": "cd ..",
    "id": "eb64dbe726c9440f8884b3f1484bab48",
    "order_count": 0,
    "time": "2020-07-13T02:47:30.116Z",
    "type": "selectCodeCell"
   },
   {
    "code": "cd ..",
    "id": "eb64dbe726c9440f8884b3f1484bab48",
    "order_count": 0,
    "time": "2020-07-13T02:47:30.876Z",
    "type": "executeCodeCell"
   },
   {
    "code": "import pandas as pd\nimport lux",
    "id": "36317fa004f84755901fb751d5e7974b",
    "order_count": 1,
    "time": "2020-07-13T02:47:30.891Z",
    "type": "selectCodeCell"
   },
   {
    "id": "eb64dbe726c9440f8884b3f1484bab48",
    "isPrintLuxDf": false,
    "isPrintPandasDf": false,
    "isPrintView": false,
    "isPrintViewCollection": false,
    "time": "2020-07-13T02:47:30.904Z",
    "type": "completeCodeCell"
   },
   {
    "code": "import pandas as pd\nimport lux",
    "id": "36317fa004f84755901fb751d5e7974b",
    "order_count": 1,
    "time": "2020-07-13T02:47:31.013Z",
    "type": "executeCodeCell"
   },
   {
    "code": "In this tutorial, we look at the [Happy Planet Index](http://happyplanetindex.org/) dataset, which contains metrics related to well-being for 140 countries around the world. We demonstrate how you can select visualizations of interest and export them for further analysis. ",
    "id": "2b4ef2b4027f49a68a2486039b0d5fee",
    "order_count": 2,
    "time": "2020-07-13T02:47:31.021Z",
    "type": "selectMarkdownCell"
   },
   {
    "code": "df = pd.read_csv(\"lux/data/hpi.csv\")\ndf.set_default_display(\"lux\") #set Lux as default view\ndf",
    "id": "12a1be56c9ae4abab0a1f946bd40bc68",
    "order_count": 3,
    "time": "2020-07-13T02:47:31.159Z",
    "type": "selectCodeCell"
   },
   {
    "code": "df = pd.read_csv(\"lux/data/hpi.csv\")\ndf.set_default_display(\"lux\") #set Lux as default view\ndf",
    "id": "12a1be56c9ae4abab0a1f946bd40bc68",
    "order_count": 3,
    "time": "2020-07-13T02:47:31.273Z",
    "type": "executeCodeCell"
   },
   {
    "code": "### Exporting one or more visualizations from recommendation widget",
    "id": "8e6114c3d53f46c9b0497f0fb8f18f08",
    "order_count": 4,
    "time": "2020-07-13T02:47:31.279Z",
    "type": "selectMarkdownCell"
   },
   {
    "id": "36317fa004f84755901fb751d5e7974b",
    "isPrintLuxDf": false,
    "isPrintPandasDf": false,
    "isPrintView": false,
    "isPrintViewCollection": false,
    "time": "2020-07-13T02:47:31.352Z",
    "type": "completeCodeCell"
   },
   {
    "code": "We can click on visualizations of interest and export them into a separate widget.",
    "id": "f3f9136301e54bd19eac8eb55f9cc158",
    "order_count": 5,
    "time": "2020-07-13T02:47:31.867Z",
    "type": "selectMarkdownCell"
   },
   {
    "id": "12a1be56c9ae4abab0a1f946bd40bc68",
    "isPrintLuxDf": true,
    "isPrintPandasDf": false,
    "isPrintView": false,
    "isPrintViewCollection": false,
    "time": "2020-07-13T02:47:32.263Z",
    "type": "completeCodeCell"
   },
   {
    "param": "",
    "time": "2020-07-13T02:47:32.286Z",
    "type": "initWidget"
   },
   {
    "param": "",
    "time": "2020-07-13T02:47:32.592Z",
    "type": "initWidget"
   },
   {
    "code": "df = pd.read_csv(\"lux/data/hpi.csv\")\ndf.set_default_display(\"lux\") #set Lux as default view\ndf",
    "id": "12a1be56c9ae4abab0a1f946bd40bc68",
    "order_count": 3,
    "time": "2020-07-13T02:47:35.176Z",
    "type": "selectCodeCell"
   },
   {
    "param": {
     "index": 1,
     "tabTitle": "Correlation",
     "vis": {
      "$schema": "https://vega.github.io/schema/vega-lite/v4.8.1.json",
      "config": {
       "mark": {
        "tooltip": {
         "content": "encoding"
        }
       },
       "view": {
        "continuousHeight": 300,
        "continuousWidth": 400
       }
      },
      "data": {
       "name": "data-c5bd87549771a1474928380fe42ed676"
      },
      "datasets": {
       "data-c5bd87549771a1474928380fe42ed676": [
        {
         "AverageWellBeing": 3.8,
         "InequalityAdjustedWellbeing": 3.4
        },
        {
         "AverageWellBeing": 5.5,
         "InequalityAdjustedWellbeing": 5.1
        },
        {
         "AverageWellBeing": 5.6,
         "InequalityAdjustedWellbeing": 5.2
        },
        {
         "AverageWellBeing": 6.5,
         "InequalityAdjustedWellbeing": 6
        },
        {
         "AverageWellBeing": 4.3,
         "InequalityAdjustedWellbeing": 3.7
        },
        {
         "AverageWellBeing": 7.2,
         "InequalityAdjustedWellbeing": 6.9
        },
        {
         "AverageWellBeing": 7.4,
         "InequalityAdjustedWellbeing": 7.1
        },
        {
         "AverageWellBeing": 4.7,
         "InequalityAdjustedWellbeing": 4.3
        },
        {
         "AverageWellBeing": 5.7,
         "InequalityAdjustedWellbeing": 5.3
        },
        {
         "AverageWellBeing": 6.9,
         "InequalityAdjustedWellbeing": 6.6
        },
        {
         "AverageWellBeing": 6.1,
         "InequalityAdjustedWellbeing": 5.7
        },
        {
         "AverageWellBeing": 3.2,
         "InequalityAdjustedWellbeing": 2.8
        },
        {
         "AverageWellBeing": 5.6,
         "InequalityAdjustedWellbeing": 5.2
        },
        {
         "AverageWellBeing": 6,
         "InequalityAdjustedWellbeing": 5.5
        },
        {
         "AverageWellBeing": 4.8,
         "InequalityAdjustedWellbeing": 4.2
        },
        {
         "AverageWellBeing": 4.8,
         "InequalityAdjustedWellbeing": 4.3
        },
        {
         "AverageWellBeing": 6.9,
         "InequalityAdjustedWellbeing": 6.3
        },
        {
         "AverageWellBeing": 4.2,
         "InequalityAdjustedWellbeing": 3.7
        },
        {
         "AverageWellBeing": 4,
         "InequalityAdjustedWellbeing": 3.6
        },
        {
         "AverageWellBeing": 3.4,
         "InequalityAdjustedWellbeing": 3
        },
        {
         "AverageWellBeing": 3.9,
         "InequalityAdjustedWellbeing": 3.5
        },
        {
         "AverageWellBeing": 4.2,
         "InequalityAdjustedWellbeing": 3.7
        },
        {
         "AverageWellBeing": 7.4,
         "InequalityAdjustedWellbeing": 7.1
        },
        {
         "AverageWellBeing": 4,
         "InequalityAdjustedWellbeing": 3.7
        },
        {
         "AverageWellBeing": 6.6,
         "InequalityAdjustedWellbeing": 6.1
        },
        {
         "AverageWellBeing": 5.1,
         "InequalityAdjustedWellbeing": 4.6
        },
        {
         "AverageWellBeing": 6.4,
         "InequalityAdjustedWellbeing": 5.7
        },
        {
         "AverageWellBeing": 4,
         "InequalityAdjustedWellbeing": 3.7
        },
        {
         "AverageWellBeing": 7.3,
         "InequalityAdjustedWellbeing": 6.8
        },
        {
         "AverageWellBeing": 3.8,
         "InequalityAdjustedWellbeing": 3.5
        },
        {
         "AverageWellBeing": 6,
         "InequalityAdjustedWellbeing": 5.5
        },
        {
         "AverageWellBeing": 6.2,
         "InequalityAdjustedWellbeing": 5.7
        },
        {
         "AverageWellBeing": 6.3,
         "InequalityAdjustedWellbeing": 5.9
        },
        {
         "AverageWellBeing": 7.5,
         "InequalityAdjustedWellbeing": 7.2
        },
        {
         "AverageWellBeing": 4.4,
         "InequalityAdjustedWellbeing": 3.8
        },
        {
         "AverageWellBeing": 4.8,
         "InequalityAdjustedWellbeing": 4.1
        },
        {
         "AverageWellBeing": 6,
         "InequalityAdjustedWellbeing": 5.5
        },
        {
         "AverageWellBeing": 4.2,
         "InequalityAdjustedWellbeing": 3.7
        },
        {
         "AverageWellBeing": 5.9,
         "InequalityAdjustedWellbeing": 5.3
        },
        {
         "AverageWellBeing": 5.4,
         "InequalityAdjustedWellbeing": 5
        },
        {
         "AverageWellBeing": 4.6,
         "InequalityAdjustedWellbeing": 4.2
        },
        {
         "AverageWellBeing": 7.4,
         "InequalityAdjustedWellbeing": 7.2
        },
        {
         "AverageWellBeing": 6.6,
         "InequalityAdjustedWellbeing": 6.3
        },
        {
         "AverageWellBeing": 4,
         "InequalityAdjustedWellbeing": 3.5
        },
        {
         "AverageWellBeing": 4.3,
         "InequalityAdjustedWellbeing": 3.8
        },
        {
         "AverageWellBeing": 6.7,
         "InequalityAdjustedWellbeing": 6.4
        },
        {
         "AverageWellBeing": 5.1,
         "InequalityAdjustedWellbeing": 4.6
        },
        {
         "AverageWellBeing": 5.1,
         "InequalityAdjustedWellbeing": 4.5
        },
        {
         "AverageWellBeing": 5.9,
         "InequalityAdjustedWellbeing": 5.2
        },
        {
         "AverageWellBeing": 3.7,
         "InequalityAdjustedWellbeing": 3.3
        },
        {
         "AverageWellBeing": 4.4,
         "InequalityAdjustedWellbeing": 4
        },
        {
         "AverageWellBeing": 4.6,
         "InequalityAdjustedWellbeing": 3.9
        },
        {
         "AverageWellBeing": 5.5,
         "InequalityAdjustedWellbeing": 5.1
        },
        {
         "AverageWellBeing": 4.7,
         "InequalityAdjustedWellbeing": 4.2
        },
        {
         "AverageWellBeing": 7.6,
         "InequalityAdjustedWellbeing": 7.4
        },
        {
         "AverageWellBeing": 4.6,
         "InequalityAdjustedWellbeing": 4.2
        },
        {
         "AverageWellBeing": 5.4,
         "InequalityAdjustedWellbeing": 5.1
        },
        {
         "AverageWellBeing": 4.6,
         "InequalityAdjustedWellbeing": 4
        },
        {
         "AverageWellBeing": 4.7,
         "InequalityAdjustedWellbeing": 4.3
        },
        {
         "AverageWellBeing": 7,
         "InequalityAdjustedWellbeing": 6.7
        },
        {
         "AverageWellBeing": 7.1,
         "InequalityAdjustedWellbeing": 6.8
        },
        {
         "AverageWellBeing": 5.8,
         "InequalityAdjustedWellbeing": 5.3
        },
        {
         "AverageWellBeing": 5.6,
         "InequalityAdjustedWellbeing": 5
        },
        {
         "AverageWellBeing": 6,
         "InequalityAdjustedWellbeing": 5.6
        },
        {
         "AverageWellBeing": 5.8,
         "InequalityAdjustedWellbeing": 5.4
        },
        {
         "AverageWellBeing": 4.5,
         "InequalityAdjustedWellbeing": 4.1
        },
        {
         "AverageWellBeing": 5.2,
         "InequalityAdjustedWellbeing": 4.9
        },
        {
         "AverageWellBeing": 5.1,
         "InequalityAdjustedWellbeing": 4.7
        },
        {
         "AverageWellBeing": 4.6,
         "InequalityAdjustedWellbeing": 4
        },
        {
         "AverageWellBeing": 4.9,
         "InequalityAdjustedWellbeing": 4.3
        },
        {
         "AverageWellBeing": 4.4,
         "InequalityAdjustedWellbeing": 4.1
        },
        {
         "AverageWellBeing": 5.8,
         "InequalityAdjustedWellbeing": 5.4
        },
        {
         "AverageWellBeing": 7,
         "InequalityAdjustedWellbeing": 6.7
        },
        {
         "AverageWellBeing": 4.6,
         "InequalityAdjustedWellbeing": 4.1
        },
        {
         "AverageWellBeing": 4.3,
         "InequalityAdjustedWellbeing": 3.5
        },
        {
         "AverageWellBeing": 5.9,
         "InequalityAdjustedWellbeing": 5.7
        },
        {
         "AverageWellBeing": 6,
         "InequalityAdjustedWellbeing": 5.5
        },
        {
         "AverageWellBeing": 4.7,
         "InequalityAdjustedWellbeing": 4.5
        },
        {
         "AverageWellBeing": 5.5,
         "InequalityAdjustedWellbeing": 5.1
        },
        {
         "AverageWellBeing": 7.3,
         "InequalityAdjustedWellbeing": 6.8
        },
        {
         "AverageWellBeing": 4.9,
         "InequalityAdjustedWellbeing": 4.6
        },
        {
         "AverageWellBeing": 5.2,
         "InequalityAdjustedWellbeing": 4.6
        },
        {
         "AverageWellBeing": 5,
         "InequalityAdjustedWellbeing": 4.5
        },
        {
         "AverageWellBeing": 5,
         "InequalityAdjustedWellbeing": 4.5
        },
        {
         "AverageWellBeing": 4.4,
         "InequalityAdjustedWellbeing": 4
        },
        {
         "AverageWellBeing": 4.7,
         "InequalityAdjustedWellbeing": 4.4
        },
        {
         "AverageWellBeing": 4.2,
         "InequalityAdjustedWellbeing": 3.8
        },
        {
         "AverageWellBeing": 7.5,
         "InequalityAdjustedWellbeing": 7.5
        },
        {
         "AverageWellBeing": 7.2,
         "InequalityAdjustedWellbeing": 6.9
        },
        {
         "AverageWellBeing": 5.4,
         "InequalityAdjustedWellbeing": 4.8
        },
        {
         "AverageWellBeing": 3.8,
         "InequalityAdjustedWellbeing": 3.5
        },
        {
         "AverageWellBeing": 5.5,
         "InequalityAdjustedWellbeing": 5.2
        },
        {
         "AverageWellBeing": 7.7,
         "InequalityAdjustedWellbeing": 7.4
        },
        {
         "AverageWellBeing": 6.9,
         "InequalityAdjustedWellbeing": 6.4
        },
        {
         "AverageWellBeing": 5.1,
         "InequalityAdjustedWellbeing": 4.6
        },
        {
         "AverageWellBeing": 4.6,
         "InequalityAdjustedWellbeing": 4.1
        },
        {
         "AverageWellBeing": 6.9,
         "InequalityAdjustedWellbeing": 6.3
        },
        {
         "AverageWellBeing": 5.8,
         "InequalityAdjustedWellbeing": 5.5
        },
        {
         "AverageWellBeing": 5.8,
         "InequalityAdjustedWellbeing": 5.3
        },
        {
         "AverageWellBeing": 5,
         "InequalityAdjustedWellbeing": 4.4
        },
        {
         "AverageWellBeing": 5.9,
         "InequalityAdjustedWellbeing": 5.5
        },
        {
         "AverageWellBeing": 5,
         "InequalityAdjustedWellbeing": 4.3
        },
        {
         "AverageWellBeing": 3.9,
         "InequalityAdjustedWellbeing": 3.4
        },
        {
         "AverageWellBeing": 5.2,
         "InequalityAdjustedWellbeing": 4.6
        },
        {
         "AverageWellBeing": 5.6,
         "InequalityAdjustedWellbeing": 5.2
        },
        {
         "AverageWellBeing": 3.3,
         "InequalityAdjustedWellbeing": 3
        },
        {
         "AverageWellBeing": 3.7,
         "InequalityAdjustedWellbeing": 3.3
        },
        {
         "AverageWellBeing": 5.2,
         "InequalityAdjustedWellbeing": 4.6
        },
        {
         "AverageWellBeing": 4.5,
         "InequalityAdjustedWellbeing": 4
        },
        {
         "AverageWellBeing": 5.9,
         "InequalityAdjustedWellbeing": 5.4
        },
        {
         "AverageWellBeing": 6.1,
         "InequalityAdjustedWellbeing": 5.7
        },
        {
         "AverageWellBeing": 5.1,
         "InequalityAdjustedWellbeing": 4.6
        },
        {
         "AverageWellBeing": 6,
         "InequalityAdjustedWellbeing": 5.5
        },
        {
         "AverageWellBeing": 6.3,
         "InequalityAdjustedWellbeing": 5.9
        },
        {
         "AverageWellBeing": 4.2,
         "InequalityAdjustedWellbeing": 3.8
        },
        {
         "AverageWellBeing": 6.3,
         "InequalityAdjustedWellbeing": 5.9
        },
        {
         "AverageWellBeing": 4.9,
         "InequalityAdjustedWellbeing": 4.4
        },
        {
         "AverageWellBeing": 7.6,
         "InequalityAdjustedWellbeing": 7.4
        },
        {
         "AverageWellBeing": 7.8,
         "InequalityAdjustedWellbeing": 7.6
        },
        {
         "AverageWellBeing": 3.2,
         "InequalityAdjustedWellbeing": 2.6
        },
        {
         "AverageWellBeing": 4.5,
         "InequalityAdjustedWellbeing": 4.3
        },
        {
         "AverageWellBeing": 4,
         "InequalityAdjustedWellbeing": 3.6
        },
        {
         "AverageWellBeing": 6.3,
         "InequalityAdjustedWellbeing": 6
        },
        {
         "AverageWellBeing": 2.9,
         "InequalityAdjustedWellbeing": 2.4
        },
        {
         "AverageWellBeing": 6.4,
         "InequalityAdjustedWellbeing": 6
        },
        {
         "AverageWellBeing": 4.5,
         "InequalityAdjustedWellbeing": 4
        },
        {
         "AverageWellBeing": 5.3,
         "InequalityAdjustedWellbeing": 4.9
        },
        {
         "AverageWellBeing": 5.5,
         "InequalityAdjustedWellbeing": 5.1
        },
        {
         "AverageWellBeing": 4.3,
         "InequalityAdjustedWellbeing": 3.9
        },
        {
         "AverageWellBeing": 5,
         "InequalityAdjustedWellbeing": 4.6
        },
        {
         "AverageWellBeing": 6.9,
         "InequalityAdjustedWellbeing": 6.6
        },
        {
         "AverageWellBeing": 7,
         "InequalityAdjustedWellbeing": 6.5
        },
        {
         "AverageWellBeing": 6.4,
         "InequalityAdjustedWellbeing": 5.8
        },
        {
         "AverageWellBeing": 6,
         "InequalityAdjustedWellbeing": 5.6
        },
        {
         "AverageWellBeing": 6.5,
         "InequalityAdjustedWellbeing": 5.9
        },
        {
         "AverageWellBeing": 7.1,
         "InequalityAdjustedWellbeing": 6.5
        },
        {
         "AverageWellBeing": 5.5,
         "InequalityAdjustedWellbeing": 5.2
        },
        {
         "AverageWellBeing": 4.1,
         "InequalityAdjustedWellbeing": 3.6
        },
        {
         "AverageWellBeing": 5,
         "InequalityAdjustedWellbeing": 4.5
        },
        {
         "AverageWellBeing": 5,
         "InequalityAdjustedWellbeing": 4.6
        }
       ]
      },
      "encoding": {
       "x": {
        "field": "InequalityAdjustedWellbeing",
        "scale": {
         "domain": [
          2.4,
          7.6
         ]
        },
        "type": "quantitative"
       },
       "y": {
        "field": "AverageWellBeing",
        "scale": {
         "domain": [
          2.9,
          7.8
         ]
        },
        "type": "quantitative"
       }
      },
      "height": 150,
      "mark": "circle",
      "selection": {
       "selector002": {
        "bind": "scales",
        "encodings": [
         "x",
         "y"
        ],
        "type": "interval"
       }
      },
      "width": 160
     }
    },
    "time": "2020-07-13T02:47:35.179Z",
    "type": "clickVis"
   },
   {
    "code": "df = pd.read_csv(\"lux/data/hpi.csv\")\ndf.set_default_display(\"lux\") #set Lux as default view\ndf",
    "id": "12a1be56c9ae4abab0a1f946bd40bc68",
    "order_count": 3,
    "time": "2020-07-13T02:47:35.730Z",
    "type": "selectCodeCell"
   },
   {
    "param": {
     "index": 0,
     "tabTitle": "Correlation",
     "vis": {
      "$schema": "https://vega.github.io/schema/vega-lite/v4.8.1.json",
      "config": {
       "mark": {
        "tooltip": {
         "content": "encoding"
        }
       },
       "view": {
        "continuousHeight": 300,
        "continuousWidth": 400
       }
      },
      "data": {
       "name": "data-19c57e4fc493cc6c62adde4bfea95236"
      },
      "datasets": {
       "data-19c57e4fc493cc6c62adde4bfea95236": [
        {
         "HPIRank": 110,
         "HappyPlanetIndex": 20.2
        },
        {
         "HPIRank": 13,
         "HappyPlanetIndex": 36.8
        },
        {
         "HPIRank": 30,
         "HappyPlanetIndex": 33.3
        },
        {
         "HPIRank": 19,
         "HappyPlanetIndex": 35.2
        },
        {
         "HPIRank": 73,
         "HappyPlanetIndex": 25.7
        },
        {
         "HPIRank": 105,
         "HappyPlanetIndex": 21.2
        },
        {
         "HPIRank": 43,
         "HappyPlanetIndex": 30.5
        },
        {
         "HPIRank": 8,
         "HappyPlanetIndex": 38.4
        },
        {
         "HPIRank": 102,
         "HappyPlanetIndex": 21.7
        },
        {
         "HPIRank": 87,
         "HappyPlanetIndex": 23.7
        },
        {
         "HPIRank": 27,
         "HappyPlanetIndex": 33.8
        },
        {
         "HPIRank": 137,
         "HappyPlanetIndex": 13.4
        },
        {
         "HPIRank": 56,
         "HappyPlanetIndex": 28.6
        },
        {
         "HPIRank": 92,
         "HappyPlanetIndex": 23.3
        },
        {
         "HPIRank": 76,
         "HappyPlanetIndex": 25.3
        },
        {
         "HPIRank": 126,
         "HappyPlanetIndex": 16.6
        },
        {
         "HPIRank": 23,
         "HappyPlanetIndex": 34.3
        },
        {
         "HPIRank": 109,
         "HappyPlanetIndex": 20.4
        },
        {
         "HPIRank": 119,
         "HappyPlanetIndex": 17.9
        },
        {
         "HPIRank": 131,
         "HappyPlanetIndex": 15.6
        },
        {
         "HPIRank": 74,
         "HappyPlanetIndex": 25.6
        },
        {
         "HPIRank": 124,
         "HappyPlanetIndex": 16.7
        },
        {
         "HPIRank": 85,
         "HappyPlanetIndex": 23.9
        },
        {
         "HPIRank": 140,
         "HappyPlanetIndex": 12.8
        },
        {
         "HPIRank": 35,
         "HappyPlanetIndex": 31.7
        },
        {
         "HPIRank": 72,
         "HappyPlanetIndex": 25.7
        },
        {
         "HPIRank": 3,
         "HappyPlanetIndex": 40.7
        },
        {
         "HPIRank": 93,
         "HappyPlanetIndex": 23.1
        },
        {
         "HPIRank": 1,
         "HappyPlanetIndex": 44.7
        },
        {
         "HPIRank": 135,
         "HappyPlanetIndex": 14.4
        },
        {
         "HPIRank": 47,
         "HappyPlanetIndex": 30.2
        },
        {
         "HPIRank": 41,
         "HappyPlanetIndex": 30.7
        },
        {
         "HPIRank": 64,
         "HappyPlanetIndex": 27.3
        },
        {
         "HPIRank": 32,
         "HappyPlanetIndex": 32.7
        },
        {
         "HPIRank": 127,
         "HappyPlanetIndex": 16.4
        },
        {
         "HPIRank": 45,
         "HappyPlanetIndex": 30.3
        },
        {
         "HPIRank": 10,
         "HappyPlanetIndex": 37
        },
        {
         "HPIRank": 86,
         "HappyPlanetIndex": 23.8
        },
        {
         "HPIRank": 17,
         "HappyPlanetIndex": 35.6
        },
        {
         "HPIRank": 118,
         "HappyPlanetIndex": 17.9
        },
        {
         "HPIRank": 66,
         "HappyPlanetIndex": 26.7
        },
        {
         "HPIRank": 37,
         "HappyPlanetIndex": 31.3
        },
        {
         "HPIRank": 44,
         "HappyPlanetIndex": 30.4
        },
        {
         "HPIRank": 120,
         "HappyPlanetIndex": 17.5
        },
        {
         "HPIRank": 40,
         "HappyPlanetIndex": 31.1
        },
        {
         "HPIRank": 49,
         "HappyPlanetIndex": 29.8
        },
        {
         "HPIRank": 104,
         "HappyPlanetIndex": 21.4
        },
        {
         "HPIRank": 89,
         "HappyPlanetIndex": 23.6
        },
        {
         "HPIRank": 26,
         "HappyPlanetIndex": 34.2
        },
        {
         "HPIRank": 129,
         "HappyPlanetIndex": 15.9
        },
        {
         "HPIRank": 57,
         "HappyPlanetIndex": 28.6
        },
        {
         "HPIRank": 65,
         "HappyPlanetIndex": 27.2
        },
        {
         "HPIRank": 123,
         "HappyPlanetIndex": 16.8
        },
        {
         "HPIRank": 69,
         "HappyPlanetIndex": 26.4
        },
        {
         "HPIRank": 39,
         "HappyPlanetIndex": 31.1
        },
        {
         "HPIRank": 50,
         "HappyPlanetIndex": 29.2
        },
        {
         "HPIRank": 16,
         "HappyPlanetIndex": 35.7
        },
        {
         "HPIRank": 84,
         "HappyPlanetIndex": 24
        },
        {
         "HPIRank": 67,
         "HappyPlanetIndex": 26.5
        },
        {
         "HPIRank": 48,
         "HappyPlanetIndex": 30
        },
        {
         "HPIRank": 54,
         "HappyPlanetIndex": 28.8
        },
        {
         "HPIRank": 60,
         "HappyPlanetIndex": 28.1
        },
        {
         "HPIRank": 11,
         "HappyPlanetIndex": 36.9
        },
        {
         "HPIRank": 58,
         "HappyPlanetIndex": 28.3
        },
        {
         "HPIRank": 114,
         "HappyPlanetIndex": 19.1
        },
        {
         "HPIRank": 83,
         "HappyPlanetIndex": 24.2
        },
        {
         "HPIRank": 31,
         "HappyPlanetIndex": 33.1
        },
        {
         "HPIRank": 121,
         "HappyPlanetIndex": 17.1
        },
        {
         "HPIRank": 100,
         "HappyPlanetIndex": 21.9
        },
        {
         "HPIRank": 125,
         "HappyPlanetIndex": 16.7
        },
        {
         "HPIRank": 96,
         "HappyPlanetIndex": 22.2
        },
        {
         "HPIRank": 107,
         "HappyPlanetIndex": 21
        },
        {
         "HPIRank": 139,
         "HappyPlanetIndex": 13.2
        },
        {
         "HPIRank": 90,
         "HappyPlanetIndex": 23.4
        },
        {
         "HPIRank": 98,
         "HappyPlanetIndex": 22.1
        },
        {
         "HPIRank": 46,
         "HappyPlanetIndex": 30.3
        },
        {
         "HPIRank": 53,
         "HappyPlanetIndex": 29
        },
        {
         "HPIRank": 117,
         "HappyPlanetIndex": 18
        },
        {
         "HPIRank": 63,
         "HappyPlanetIndex": 27.4
        },
        {
         "HPIRank": 2,
         "HappyPlanetIndex": 40.7
        },
        {
         "HPIRank": 136,
         "HappyPlanetIndex": 14.3
        },
        {
         "HPIRank": 78,
         "HappyPlanetIndex": 25.1
        },
        {
         "HPIRank": 33,
         "HappyPlanetIndex": 32.7
        },
        {
         "HPIRank": 88,
         "HappyPlanetIndex": 23.7
        },
        {
         "HPIRank": 81,
         "HappyPlanetIndex": 24.7
        },
        {
         "HPIRank": 103,
         "HappyPlanetIndex": 21.6
        },
        {
         "HPIRank": 42,
         "HappyPlanetIndex": 30.5
        },
        {
         "HPIRank": 18,
         "HappyPlanetIndex": 35.3
        },
        {
         "HPIRank": 38,
         "HappyPlanetIndex": 31.3
        },
        {
         "HPIRank": 7,
         "HappyPlanetIndex": 38.7
        },
        {
         "HPIRank": 122,
         "HappyPlanetIndex": 16.8
        },
        {
         "HPIRank": 95,
         "HappyPlanetIndex": 22.2
        },
        {
         "HPIRank": 12,
         "HappyPlanetIndex": 36.8
        },
        {
         "HPIRank": 106,
         "HappyPlanetIndex": 21.1
        },
        {
         "HPIRank": 36,
         "HappyPlanetIndex": 31.5
        },
        {
         "HPIRank": 22,
         "HappyPlanetIndex": 34.5
        },
        {
         "HPIRank": 6,
         "HappyPlanetIndex": 39.5
        },
        {
         "HPIRank": 91,
         "HappyPlanetIndex": 23.3
        },
        {
         "HPIRank": 21,
         "HappyPlanetIndex": 34.6
        },
        {
         "HPIRank": 20,
         "HappyPlanetIndex": 35
        },
        {
         "HPIRank": 62,
         "HappyPlanetIndex": 27.5
        },
        {
         "HPIRank": 79,
         "HappyPlanetIndex": 24.8
        },
        {
         "HPIRank": 115,
         "HappyPlanetIndex": 18.8
        },
        {
         "HPIRank": 55,
         "HappyPlanetIndex": 28.8
        },
        {
         "HPIRank": 116,
         "HappyPlanetIndex": 18.7
        },
        {
         "HPIRank": 111,
         "HappyPlanetIndex": 19.6
        },
        {
         "HPIRank": 101,
         "HappyPlanetIndex": 21.9
        },
        {
         "HPIRank": 52,
         "HappyPlanetIndex": 29
        },
        {
         "HPIRank": 133,
         "HappyPlanetIndex": 15.3
        },
        {
         "HPIRank": 59,
         "HappyPlanetIndex": 28.2
        },
        {
         "HPIRank": 82,
         "HappyPlanetIndex": 24.6
        },
        {
         "HPIRank": 128,
         "HappyPlanetIndex": 15.9
        },
        {
         "HPIRank": 80,
         "HappyPlanetIndex": 24.8
        },
        {
         "HPIRank": 15,
         "HappyPlanetIndex": 36
        },
        {
         "HPIRank": 28,
         "HappyPlanetIndex": 33.8
        },
        {
         "HPIRank": 75,
         "HappyPlanetIndex": 25.4
        },
        {
         "HPIRank": 132,
         "HappyPlanetIndex": 15.5
        },
        {
         "HPIRank": 61,
         "HappyPlanetIndex": 28
        },
        {
         "HPIRank": 24,
         "HappyPlanetIndex": 34.3
        },
        {
         "HPIRank": 113,
         "HappyPlanetIndex": 19.1
        },
        {
         "HPIRank": 25,
         "HappyPlanetIndex": 34.2
        },
        {
         "HPIRank": 97,
         "HappyPlanetIndex": 22.1
        },
        {
         "HPIRank": 9,
         "HappyPlanetIndex": 37.3
        },
        {
         "HPIRank": 138,
         "HappyPlanetIndex": 13.2
        },
        {
         "HPIRank": 130,
         "HappyPlanetIndex": 15.7
        },
        {
         "HPIRank": 71,
         "HappyPlanetIndex": 26.2
        },
        {
         "HPIRank": 68,
         "HappyPlanetIndex": 26.4
        },
        {
         "HPIRank": 134,
         "HappyPlanetIndex": 14.6
        },
        {
         "HPIRank": 112,
         "HappyPlanetIndex": 19.4
        },
        {
         "HPIRank": 70,
         "HappyPlanetIndex": 26.4
        },
        {
         "HPIRank": 34,
         "HappyPlanetIndex": 31.9
        },
        {
         "HPIRank": 108,
         "HappyPlanetIndex": 20.7
        },
        {
         "HPIRank": 14,
         "HappyPlanetIndex": 36.1
        },
        {
         "HPIRank": 51,
         "HappyPlanetIndex": 29.1
        },
        {
         "HPIRank": 4,
         "HappyPlanetIndex": 40.6
        },
        {
         "HPIRank": 29,
         "HappyPlanetIndex": 33.6
        },
        {
         "HPIRank": 5,
         "HappyPlanetIndex": 40.3
        },
        {
         "HPIRank": 94,
         "HappyPlanetIndex": 22.8
        },
        {
         "HPIRank": 77,
         "HappyPlanetIndex": 25.2
        },
        {
         "HPIRank": 99,
         "HappyPlanetIndex": 22.1
        }
       ]
      },
      "encoding": {
       "x": {
        "field": "HappyPlanetIndex",
        "scale": {
         "domain": [
          12.8,
          44.7
         ]
        },
        "type": "quantitative"
       },
       "y": {
        "field": "HPIRank",
        "scale": {
         "domain": [
          1,
          140
         ]
        },
        "type": "quantitative"
       }
      },
      "height": 150,
      "mark": "circle",
      "selection": {
       "selector001": {
        "bind": "scales",
        "encodings": [
         "x",
         "y"
        ],
        "type": "interval"
       }
      },
      "width": 160
     }
    },
    "time": "2020-07-13T02:47:35.732Z",
    "type": "clickVis"
   },
   {
    "code": "df = pd.read_csv(\"lux/data/hpi.csv\")\ndf.set_default_display(\"lux\") #set Lux as default view\ndf",
    "id": "12a1be56c9ae4abab0a1f946bd40bc68",
    "order_count": 3,
    "time": "2020-07-13T02:47:36.256Z",
    "type": "selectCodeCell"
   },
   {
    "param": {
     "index": 2,
     "tabTitle": "Correlation",
     "vis": {
      "$schema": "https://vega.github.io/schema/vega-lite/v4.8.1.json",
      "config": {
       "mark": {
        "tooltip": {
         "content": "encoding"
        }
       },
       "view": {
        "continuousHeight": 300,
        "continuousWidth": 400
       }
      },
      "data": {
       "name": "data-1dbc478f1621a81afe9776f917f39e67"
      },
      "datasets": {
       "data-1dbc478f1621a81afe9776f917f39e67": [
        {
         "AverageLifeExpectancy": 59.7,
         "InequalityAdjustedLifeExpectancy": 38.3
        },
        {
         "AverageLifeExpectancy": 77.3,
         "InequalityAdjustedLifeExpectancy": 69.7
        },
        {
         "AverageLifeExpectancy": 74.3,
         "InequalityAdjustedLifeExpectancy": 60.5
        },
        {
         "AverageLifeExpectancy": 75.9,
         "InequalityAdjustedLifeExpectancy": 68.3
        },
        {
         "AverageLifeExpectancy": 74.4,
         "InequalityAdjustedLifeExpectancy": 66.9
        },
        {
         "AverageLifeExpectancy": 82.1,
         "InequalityAdjustedLifeExpectancy": 78.6
        },
        {
         "AverageLifeExpectancy": 81,
         "InequalityAdjustedLifeExpectancy": 78
        },
        {
         "AverageLifeExpectancy": 70.8,
         "InequalityAdjustedLifeExpectancy": 56.6
        },
        {
         "AverageLifeExpectancy": 70.9,
         "InequalityAdjustedLifeExpectancy": 66.7
        },
        {
         "AverageLifeExpectancy": 80.4,
         "InequalityAdjustedLifeExpectancy": 77.2
        },
        {
         "AverageLifeExpectancy": 69.8,
         "InequalityAdjustedLifeExpectancy": 61.7
        },
        {
         "AverageLifeExpectancy": 59.2,
         "InequalityAdjustedLifeExpectancy": 37.3
        },
        {
         "AverageLifeExpectancy": 68.7,
         "InequalityAdjustedLifeExpectancy": 54.5
        },
        {
         "AverageLifeExpectancy": 67.5,
         "InequalityAdjustedLifeExpectancy": 47.9
        },
        {
         "AverageLifeExpectancy": 76.2,
         "InequalityAdjustedLifeExpectancy": 71.1
        },
        {
         "AverageLifeExpectancy": 64.2,
         "InequalityAdjustedLifeExpectancy": 50.8
        },
        {
         "AverageLifeExpectancy": 73.9,
         "InequalityAdjustedLifeExpectancy": 63.3
        },
        {
         "AverageLifeExpectancy": 73.9,
         "InequalityAdjustedLifeExpectancy": 68.1
        },
        {
         "AverageLifeExpectancy": 58,
         "InequalityAdjustedLifeExpectancy": 36.5
        },
        {
         "AverageLifeExpectancy": 55.8,
         "InequalityAdjustedLifeExpectancy": 33
        },
        {
         "AverageLifeExpectancy": 67.5,
         "InequalityAdjustedLifeExpectancy": 54.2
        },
        {
         "AverageLifeExpectancy": 54.6,
         "InequalityAdjustedLifeExpectancy": 33.1
        },
        {
         "AverageLifeExpectancy": 81.7,
         "InequalityAdjustedLifeExpectancy": 77.8
        },
        {
         "AverageLifeExpectancy": 50.8,
         "InequalityAdjustedLifeExpectancy": 27.3
        },
        {
         "AverageLifeExpectancy": 81.1,
         "InequalityAdjustedLifeExpectancy": 74.9
        },
        {
         "AverageLifeExpectancy": 75.4,
         "InequalityAdjustedLifeExpectancy": 68.6
        },
        {
         "AverageLifeExpectancy": 73.7,
         "InequalityAdjustedLifeExpectancy": 63.1
        },
        {
         "AverageLifeExpectancy": 62.6,
         "InequalityAdjustedLifeExpectancy": 43.3
        },
        {
         "AverageLifeExpectancy": 79.1,
         "InequalityAdjustedLifeExpectancy": 72.6
        },
        {
         "AverageLifeExpectancy": 50.8,
         "InequalityAdjustedLifeExpectancy": 30.6
        },
        {
         "AverageLifeExpectancy": 77,
         "InequalityAdjustedLifeExpectancy": 73.5
        },
        {
         "AverageLifeExpectancy": 79.8,
         "InequalityAdjustedLifeExpectancy": 76.6
        },
        {
         "AverageLifeExpectancy": 78.2,
         "InequalityAdjustedLifeExpectancy": 75.5
        },
        {
         "AverageLifeExpectancy": 79.8,
         "InequalityAdjustedLifeExpectancy": 76.8
        },
        {
         "AverageLifeExpectancy": 61.3,
         "InequalityAdjustedLifeExpectancy": 41.4
        },
        {
         "AverageLifeExpectancy": 73.1,
         "InequalityAdjustedLifeExpectancy": 60.8
        },
        {
         "AverageLifeExpectancy": 75.4,
         "InequalityAdjustedLifeExpectancy": 64.1
        },
        {
         "AverageLifeExpectancy": 70.7,
         "InequalityAdjustedLifeExpectancy": 61.3
        },
        {
         "AverageLifeExpectancy": 72.5,
         "InequalityAdjustedLifeExpectancy": 62.5
        },
        {
         "AverageLifeExpectancy": 76.2,
         "InequalityAdjustedLifeExpectancy": 72.6
        },
        {
         "AverageLifeExpectancy": 62.8,
         "InequalityAdjustedLifeExpectancy": 43.8
        },
        {
         "AverageLifeExpectancy": 80.4,
         "InequalityAdjustedLifeExpectancy": 77.6
        },
        {
         "AverageLifeExpectancy": 81.8,
         "InequalityAdjustedLifeExpectancy": 78.5
        },
        {
         "AverageLifeExpectancy": 63.3,
         "InequalityAdjustedLifeExpectancy": 45.8
        },
        {
         "AverageLifeExpectancy": 74.6,
         "InequalityAdjustedLifeExpectancy": 66.9
        },
        {
         "AverageLifeExpectancy": 80.6,
         "InequalityAdjustedLifeExpectancy": 77.6
        },
        {
         "AverageLifeExpectancy": 61,
         "InequalityAdjustedLifeExpectancy": 42.2
        },
        {
         "AverageLifeExpectancy": 80.5,
         "InequalityAdjustedLifeExpectancy": 77.6
        },
        {
         "AverageLifeExpectancy": 71.4,
         "InequalityAdjustedLifeExpectancy": 59.2
        },
        {
         "AverageLifeExpectancy": 57.7,
         "InequalityAdjustedLifeExpectancy": 37.2
        },
        {
         "AverageLifeExpectancy": 62.1,
         "InequalityAdjustedLifeExpectancy": 42.9
        },
        {
         "AverageLifeExpectancy": 72.8,
         "InequalityAdjustedLifeExpectancy": 58.5
        },
        {
         "AverageLifeExpectancy": 83.6,
         "InequalityAdjustedLifeExpectancy": 81.3
        },
        {
         "AverageLifeExpectancy": 74.9,
         "InequalityAdjustedLifeExpectancy": 70.9
        },
        {
         "AverageLifeExpectancy": 82.2,
         "InequalityAdjustedLifeExpectancy": 79.8
        },
        {
         "AverageLifeExpectancy": 67.3,
         "InequalityAdjustedLifeExpectancy": 51.1
        },
        {
         "AverageLifeExpectancy": 68.5,
         "InequalityAdjustedLifeExpectancy": 57.2
        },
        {
         "AverageLifeExpectancy": 74.8,
         "InequalityAdjustedLifeExpectancy": 66.9
        },
        {
         "AverageLifeExpectancy": 69,
         "InequalityAdjustedLifeExpectancy": 55.6
        },
        {
         "AverageLifeExpectancy": 80.5,
         "InequalityAdjustedLifeExpectancy": 77.5
        },
        {
         "AverageLifeExpectancy": 81.9,
         "InequalityAdjustedLifeExpectancy": 78.7
        },
        {
         "AverageLifeExpectancy": 82.7,
         "InequalityAdjustedLifeExpectancy": 80.2
        },
        {
         "AverageLifeExpectancy": 75.3,
         "InequalityAdjustedLifeExpectancy": 66.3
        },
        {
         "AverageLifeExpectancy": 83.2,
         "InequalityAdjustedLifeExpectancy": 80.6
        },
        {
         "AverageLifeExpectancy": 68.6,
         "InequalityAdjustedLifeExpectancy": 60.7
        },
        {
         "AverageLifeExpectancy": 60.3,
         "InequalityAdjustedLifeExpectancy": 41
        },
        {
         "AverageLifeExpectancy": 69.7,
         "InequalityAdjustedLifeExpectancy": 60.2
        },
        {
         "AverageLifeExpectancy": 73.6,
         "InequalityAdjustedLifeExpectancy": 68.7
        },
        {
         "AverageLifeExpectancy": 78.8,
         "InequalityAdjustedLifeExpectancy": 73.1
        },
        {
         "AverageLifeExpectancy": 48.9,
         "InequalityAdjustedLifeExpectancy": 32.6
        },
        {
         "AverageLifeExpectancy": 60.2,
         "InequalityAdjustedLifeExpectancy": 40.3
        },
        {
         "AverageLifeExpectancy": 72.8,
         "InequalityAdjustedLifeExpectancy": 68.8
        },
        {
         "AverageLifeExpectancy": 81.1,
         "InequalityAdjustedLifeExpectancy": 79
        },
        {
         "AverageLifeExpectancy": 75.1,
         "InequalityAdjustedLifeExpectancy": 69.4
        },
        {
         "AverageLifeExpectancy": 60.1,
         "InequalityAdjustedLifeExpectancy": 40.4
        },
        {
         "AverageLifeExpectancy": 74.4,
         "InequalityAdjustedLifeExpectancy": 69.5
        },
        {
         "AverageLifeExpectancy": 80.2,
         "InequalityAdjustedLifeExpectancy": 76.6
        },
        {
         "AverageLifeExpectancy": 62.6,
         "InequalityAdjustedLifeExpectancy": 41.5
        },
        {
         "AverageLifeExpectancy": 74,
         "InequalityAdjustedLifeExpectancy": 66.7
        },
        {
         "AverageLifeExpectancy": 76.4,
         "InequalityAdjustedLifeExpectancy": 66.3
        },
        {
         "AverageLifeExpectancy": 68.6,
         "InequalityAdjustedLifeExpectancy": 56.9
        },
        {
         "AverageLifeExpectancy": 75.8,
         "InequalityAdjustedLifeExpectancy": 71.8
        },
        {
         "AverageLifeExpectancy": 73.4,
         "InequalityAdjustedLifeExpectancy": 61.6
        },
        {
         "AverageLifeExpectancy": 54.3,
         "InequalityAdjustedLifeExpectancy": 34.5
        },
        {
         "AverageLifeExpectancy": 65.5,
         "InequalityAdjustedLifeExpectancy": 48.4
        },
        {
         "AverageLifeExpectancy": 64,
         "InequalityAdjustedLifeExpectancy": 50.1
        },
        {
         "AverageLifeExpectancy": 68.8,
         "InequalityAdjustedLifeExpectancy": 55.3
        },
        {
         "AverageLifeExpectancy": 81.2,
         "InequalityAdjustedLifeExpectancy": 78.2
        },
        {
         "AverageLifeExpectancy": 81.4,
         "InequalityAdjustedLifeExpectancy": 77.7
        },
        {
         "AverageLifeExpectancy": 74.3,
         "InequalityAdjustedLifeExpectancy": 63.4
        },
        {
         "AverageLifeExpectancy": 60,
         "InequalityAdjustedLifeExpectancy": 38.9
        },
        {
         "AverageLifeExpectancy": 52.1,
         "InequalityAdjustedLifeExpectancy": 30.9
        },
        {
         "AverageLifeExpectancy": 81.3,
         "InequalityAdjustedLifeExpectancy": 78.6
        },
        {
         "AverageLifeExpectancy": 76.3,
         "InequalityAdjustedLifeExpectancy": 70.9
        },
        {
         "AverageLifeExpectancy": 65.7,
         "InequalityAdjustedLifeExpectancy": 44.1
        },
        {
         "AverageLifeExpectancy": 72.6,
         "InequalityAdjustedLifeExpectancy": 62.6
        },
        {
         "AverageLifeExpectancy": 77.2,
         "InequalityAdjustedLifeExpectancy": 68.3
        },
        {
         "AverageLifeExpectancy": 72.6,
         "InequalityAdjustedLifeExpectancy": 59.4
        },
        {
         "AverageLifeExpectancy": 74.1,
         "InequalityAdjustedLifeExpectancy": 63.5
        },
        {
         "AverageLifeExpectancy": 67.9,
         "InequalityAdjustedLifeExpectancy": 56.9
        },
        {
         "AverageLifeExpectancy": 76.9,
         "InequalityAdjustedLifeExpectancy": 72.9
        },
        {
         "AverageLifeExpectancy": 80.3,
         "InequalityAdjustedLifeExpectancy": 77.2
        },
        {
         "AverageLifeExpectancy": 61,
         "InequalityAdjustedLifeExpectancy": 42
        },
        {
         "AverageLifeExpectancy": 74.3,
         "InequalityAdjustedLifeExpectancy": 68.1
        },
        {
         "AverageLifeExpectancy": 69.5,
         "InequalityAdjustedLifeExpectancy": 63.4
        },
        {
         "AverageLifeExpectancy": 63.1,
         "InequalityAdjustedLifeExpectancy": 44.3
        },
        {
         "AverageLifeExpectancy": 65.4,
         "InequalityAdjustedLifeExpectancy": 49.1
        },
        {
         "AverageLifeExpectancy": 74.5,
         "InequalityAdjustedLifeExpectancy": 68.6
        },
        {
         "AverageLifeExpectancy": 49.8,
         "InequalityAdjustedLifeExpectancy": 28.2
        },
        {
         "AverageLifeExpectancy": 75.9,
         "InequalityAdjustedLifeExpectancy": 71.9
        },
        {
         "AverageLifeExpectancy": 80,
         "InequalityAdjustedLifeExpectancy": 77.1
        },
        {
         "AverageLifeExpectancy": 56.3,
         "InequalityAdjustedLifeExpectancy": 41.8
        },
        {
         "AverageLifeExpectancy": 81.3,
         "InequalityAdjustedLifeExpectancy": 78.3
        },
        {
         "AverageLifeExpectancy": 82.2,
         "InequalityAdjustedLifeExpectancy": 79.3
        },
        {
         "AverageLifeExpectancy": 74.6,
         "InequalityAdjustedLifeExpectancy": 68.6
        },
        {
         "AverageLifeExpectancy": 70.8,
         "InequalityAdjustedLifeExpectancy": 61.2
        },
        {
         "AverageLifeExpectancy": 48.9,
         "InequalityAdjustedLifeExpectancy": 31.8
        },
        {
         "AverageLifeExpectancy": 81.8,
         "InequalityAdjustedLifeExpectancy": 79.1
        },
        {
         "AverageLifeExpectancy": 82.6,
         "InequalityAdjustedLifeExpectancy": 79.4
        },
        {
         "AverageLifeExpectancy": 70.4,
         "InequalityAdjustedLifeExpectancy": 60.2
        },
        {
         "AverageLifeExpectancy": 69,
         "InequalityAdjustedLifeExpectancy": 53
        },
        {
         "AverageLifeExpectancy": 63.5,
         "InequalityAdjustedLifeExpectancy": 47.7
        },
        {
         "AverageLifeExpectancy": 74.1,
         "InequalityAdjustedLifeExpectancy": 66.3
        },
        {
         "AverageLifeExpectancy": 58.6,
         "InequalityAdjustedLifeExpectancy": 39.6
        },
        {
         "AverageLifeExpectancy": 70.1,
         "InequalityAdjustedLifeExpectancy": 58.4
        },
        {
         "AverageLifeExpectancy": 74.6,
         "InequalityAdjustedLifeExpectancy": 65.5
        },
        {
         "AverageLifeExpectancy": 74.7,
         "InequalityAdjustedLifeExpectancy": 66.2
        },
        {
         "AverageLifeExpectancy": 65.3,
         "InequalityAdjustedLifeExpectancy": 48.3
        },
        {
         "AverageLifeExpectancy": 57.1,
         "InequalityAdjustedLifeExpectancy": 36.8
        },
        {
         "AverageLifeExpectancy": 70.3,
         "InequalityAdjustedLifeExpectancy": 64.2
        },
        {
         "AverageLifeExpectancy": 80.4,
         "InequalityAdjustedLifeExpectancy": 76.8
        },
        {
         "AverageLifeExpectancy": 78.8,
         "InequalityAdjustedLifeExpectancy": 74
        },
        {
         "AverageLifeExpectancy": 76.9,
         "InequalityAdjustedLifeExpectancy": 69.6
        },
        {
         "AverageLifeExpectancy": 68.2,
         "InequalityAdjustedLifeExpectancy": 51.6
        },
        {
         "AverageLifeExpectancy": 71.3,
         "InequalityAdjustedLifeExpectancy": 60.3
        },
        {
         "AverageLifeExpectancy": 73.9,
         "InequalityAdjustedLifeExpectancy": 65.5
        },
        {
         "AverageLifeExpectancy": 75.5,
         "InequalityAdjustedLifeExpectancy": 64.8
        },
        {
         "AverageLifeExpectancy": 63.3,
         "InequalityAdjustedLifeExpectancy": 44.7
        },
        {
         "AverageLifeExpectancy": 58.4,
         "InequalityAdjustedLifeExpectancy": 38.7
        },
        {
         "AverageLifeExpectancy": 53.7,
         "InequalityAdjustedLifeExpectancy": 36.9
        }
       ]
      },
      "encoding": {
       "x": {
        "field": "AverageLifeExpectancy",
        "scale": {
         "domain": [
          48.9,
          83.6
         ]
        },
        "type": "quantitative"
       },
       "y": {
        "field": "InequalityAdjustedLifeExpectancy",
        "scale": {
         "domain": [
          27.3,
          81.3
         ]
        },
        "type": "quantitative"
       }
      },
      "height": 150,
      "mark": "circle",
      "selection": {
       "selector003": {
        "bind": "scales",
        "encodings": [
         "x",
         "y"
        ],
        "type": "interval"
       }
      },
      "width": 160
     }
    },
    "time": "2020-07-13T02:47:36.258Z",
    "type": "clickVis"
   },
   {
    "code": "df = pd.read_csv(\"lux/data/hpi.csv\")\ndf.set_default_display(\"lux\") #set Lux as default view\ndf",
    "id": "12a1be56c9ae4abab0a1f946bd40bc68",
    "order_count": 3,
    "time": "2020-07-13T02:47:37.724Z",
    "type": "selectCodeCell"
   },
   {
    "param": {
     "Correlation": [
      1,
      0,
      2
     ]
    },
    "time": "2020-07-13T02:47:37.726Z",
    "type": "exportBtnClick"
   },
   {
    "code": "We can click on visualizations of interest and export them into a separate widget.",
    "id": "f3f9136301e54bd19eac8eb55f9cc158",
    "order_count": 5,
    "time": "2020-07-13T02:47:38.491Z",
    "type": "selectMarkdownCell"
   },
   {
    "code": "bookmarked_charts = df.get_exported()\nbookmarked_charts",
    "id": "a0843739aae2474e95eae3e889cd58c8",
    "order_count": 6,
    "time": "2020-07-13T02:47:39.293Z",
    "type": "selectCodeCell"
   },
   {
    "code": "bookmarked_charts = df.get_exported()\nbookmarked_charts",
    "id": "a0843739aae2474e95eae3e889cd58c8",
    "order_count": 6,
    "time": "2020-07-13T02:47:39.446Z",
    "type": "executeCodeCell"
   },
   {
    "code": "bookmarked_charts[0].load(df[df[\"SubRegion\"]==\"Europe\"])",
    "id": "db76898871a442feae57b2d24370901a",
    "order_count": 7,
    "time": "2020-07-13T02:47:39.462Z",
    "type": "selectCodeCell"
   },
   {
    "id": "a0843739aae2474e95eae3e889cd58c8",
    "isPrintLuxDf": false,
    "isPrintPandasDf": false,
    "isPrintView": true,
    "isPrintViewCollection": false,
    "time": "2020-07-13T02:47:39.523Z",
    "type": "completeCodeCell"
   },
   {
    "param": "",
    "time": "2020-07-13T02:47:39.531Z",
    "type": "initWidget"
   },
   {
    "code": "bookmarked_charts[0].load(df[df[\"SubRegion\"]==\"Europe\"])",
    "id": "db76898871a442feae57b2d24370901a",
    "order_count": 7,
    "time": "2020-07-13T02:47:40.916Z",
    "type": "executeCodeCell"
   },
   {
    "code": "",
    "id": "a9263985e0934627a42a63b163c31030",
    "order_count": 8,
    "time": "2020-07-13T02:47:40.931Z",
    "type": "selectCodeCell"
   },
   {
    "id": "db76898871a442feae57b2d24370901a",
    "isPrintLuxDf": false,
    "isPrintPandasDf": false,
    "isPrintView": true,
    "isPrintViewCollection": false,
    "time": "2020-07-13T02:47:40.974Z",
    "type": "completeCodeCell"
   },
   {
    "param": "",
    "time": "2020-07-13T02:47:40.976Z",
    "type": "initWidget"
   },
   {
    "code": "bookmarked_charts.load(df[df[\"SubRegion\"]==\"Europe\"])",
    "id": "90b28b2851274582a9eaeb634183e181",
    "order_count": 9,
    "time": "2020-07-13T02:47:42.686Z",
    "type": "selectCodeCell"
   },
   {
    "code": "bookmarked_charts.load(df[df[\"SubRegion\"]==\"Europe\"])",
    "id": "90b28b2851274582a9eaeb634183e181",
    "order_count": 9,
    "time": "2020-07-13T02:47:44.065Z",
    "type": "executeCodeCell"
   },
   {
    "code": "From the dataframe recommendations, the visualization showing the relationship between `GDPPerCapita` and `Footprint` is very interesting. In particular, there is an outlier with extremely high ecological footprint as well as high GDP per capita. So we click on this visualization and click on the export button.",
    "id": "668eb7fb960e451eb57c681baf3de28f",
    "order_count": 10,
    "time": "2020-07-13T02:47:44.073Z",
    "type": "selectMarkdownCell"
   },
   {
    "id": "90b28b2851274582a9eaeb634183e181",
    "isPrintLuxDf": false,
    "isPrintPandasDf": false,
    "isPrintView": true,
    "isPrintViewCollection": false,
    "time": "2020-07-13T02:47:44.145Z",
    "type": "completeCodeCell"
   },
   {
    "param": "",
    "time": "2020-07-13T02:47:44.160Z",
    "type": "initWidget"
   },
   {
    "code": "",
    "id": "a9263985e0934627a42a63b163c31030",
    "order_count": 8,
    "time": "2020-07-13T02:47:54.404Z",
    "type": "selectCodeCell"
   },
   {
    "code": "",
    "id": "a9263985e0934627a42a63b163c31030",
    "order_count": 8,
    "time": "2020-07-13T02:47:54.411Z",
    "type": "editCodeCell"
   },
   {
    "code": "",
    "id": "a9263985e0934627a42a63b163c31030",
    "order_count": 8,
    "time": "2020-07-13T02:47:54.788Z",
    "type": "selectCodeCell"
   },
   {
    "code": "",
    "id": "a9263985e0934627a42a63b163c31030",
    "order_count": null,
    "time": "2020-07-13T02:47:55.740Z",
    "type": "deleteCodeCell"
   },
   {
    "code": "bookmarked_charts.load(df[df[\"SubRegion\"]==\"Europe\"])",
    "id": "90b28b2851274582a9eaeb634183e181",
    "order_count": 8,
    "time": "2020-07-13T02:47:57.682Z",
    "type": "editCodeCell"
   },
   {
    "code": "bookmarked_charts.load(df[df[\"SubRegion\"]==\"Europe\"])",
    "id": "90b28b2851274582a9eaeb634183e181",
    "order_count": 8,
    "time": "2020-07-13T02:47:57.741Z",
    "type": "editCodeCell"
   },
   {
    "code": "bookmarked_charts.load(df[df[\"SubRegion\"]==\"Europe\"])",
    "id": "90b28b2851274582a9eaeb634183e181",
    "order_count": 8,
    "time": "2020-07-13T02:48:12.511Z",
    "type": "editCodeCell"
   },
   {
    "code": "df.set_context_as_view(view)\ndf",
    "id": "e08b5df7007549379d93828434e743b1",
    "order_count": 14,
    "time": "2020-07-13T02:48:16.299Z",
    "type": "selectCodeCell"
   },
   {
    "code": "df.set_context_as_view(view)\ndf",
    "id": "e08b5df7007549379d93828434e743b1",
    "order_count": 14,
    "time": "2020-07-13T02:48:16.305Z",
    "type": "editCodeCell"
   },
   {
    "code": "df.set_context_as_view(view)\ndf",
    "id": "e08b5df7007549379d93828434e743b1",
    "order_count": 14,
    "time": "2020-07-13T02:48:19.139Z",
    "type": "executeCodeCell"
   },
   {
    "code": "### Exporting Visualizations as Code",
    "id": "2deba987e70b465f8da4bbdc2d56adea",
    "order_count": 15,
    "time": "2020-07-13T02:48:19.170Z",
    "type": "selectMarkdownCell"
   },
   {
    "id": "e08b5df7007549379d93828434e743b1",
    "isPrintLuxDf": false,
    "isPrintPandasDf": false,
    "isPrintView": false,
    "isPrintViewCollection": false,
    "time": "2020-07-13T02:48:19.279Z",
    "type": "completeCodeCell"
   },
   {
    "code": "view = df.get_exported()[0]\nview",
    "id": "186e1ccd2ef446cfac8da8d98b1a122c",
    "order_count": 11,
    "time": "2020-07-13T02:48:20.743Z",
    "type": "selectCodeCell"
   },
   {
    "code": "view = df.get_exported()[0]\nview",
    "id": "186e1ccd2ef446cfac8da8d98b1a122c",
    "order_count": 11,
    "time": "2020-07-13T02:48:21.495Z",
    "type": "executeCodeCell"
   },
   {
    "code": "### Setting Views as Context",
    "id": "433a4a78ea7e48c8983408162854d502",
    "order_count": 12,
    "time": "2020-07-13T02:48:21.507Z",
    "type": "selectMarkdownCell"
   },
   {
    "id": "186e1ccd2ef446cfac8da8d98b1a122c",
    "isPrintLuxDf": false,
    "isPrintPandasDf": false,
    "isPrintView": true,
    "isPrintViewCollection": false,
    "time": "2020-07-13T02:48:21.540Z",
    "type": "completeCodeCell"
   },
   {
    "param": "",
    "time": "2020-07-13T02:48:21.549Z",
    "type": "initWidget"
   },
   {
    "code": "Now that we have exported the view, we can set the new context of the dataframe to be the view to get more recommendations related to this visualization.",
    "id": "d32ae31d14954f8b88711fbb89056866",
    "order_count": 13,
    "time": "2020-07-13T02:48:22.241Z",
    "type": "selectMarkdownCell"
   },
   {
    "code": "df.set_context_as_view(view)\ndf",
    "id": "e08b5df7007549379d93828434e743b1",
    "order_count": 14,
    "time": "2020-07-13T02:48:22.770Z",
    "type": "selectCodeCell"
   },
   {
    "time": "2020-07-13T02:48:22.851Z",
    "type": "kernelKilled"
   },
   {
    "code": "df.set_context_as_view(view)\ndf",
    "id": "e08b5df7007549379d93828434e743b1",
    "order_count": 14,
    "time": "2020-07-13T02:48:22.963Z",
    "type": "executeCodeCell"
   },
   {
    "code": "### Exporting Visualizations as Code",
    "id": "2deba987e70b465f8da4bbdc2d56adea",
    "order_count": 15,
    "time": "2020-07-13T02:48:22.971Z",
    "type": "selectMarkdownCell"
   },
   {
    "id": "e08b5df7007549379d93828434e743b1",
    "isPrintLuxDf": false,
    "isPrintPandasDf": false,
    "isPrintView": false,
    "isPrintViewCollection": false,
    "time": "2020-07-13T02:48:24.044Z",
    "type": "completeCodeCell"
   },
   {
    "time": "2020-07-13T02:48:24.048Z",
    "type": "kernelReady"
   },
   {
    "code": "view = df.get_exported()[0]\nview",
    "id": "186e1ccd2ef446cfac8da8d98b1a122c",
    "order_count": 11,
    "time": "2020-07-13T02:48:28.642Z",
    "type": "selectCodeCell"
   },
   {
    "code": "view = df.get_exported()[0]\nview",
    "id": "186e1ccd2ef446cfac8da8d98b1a122c",
    "order_count": 11,
    "time": "2020-07-13T02:48:28.649Z",
    "type": "editCodeCell"
   },
   {
    "code": "view = df.get_exported()[0]\nview",
    "id": "186e1ccd2ef446cfac8da8d98b1a122c",
    "order_count": 11,
    "time": "2020-07-13T02:48:29.429Z",
    "type": "executeCodeCell"
   },
   {
    "code": "### Setting Views as Context",
    "id": "433a4a78ea7e48c8983408162854d502",
    "order_count": 12,
    "time": "2020-07-13T02:48:29.460Z",
    "type": "selectMarkdownCell"
   },
   {
    "id": "186e1ccd2ef446cfac8da8d98b1a122c",
    "isPrintLuxDf": false,
    "isPrintPandasDf": false,
    "isPrintView": false,
    "isPrintViewCollection": false,
    "time": "2020-07-13T02:48:29.473Z",
    "type": "completeCodeCell"
   },
   {
    "code": "view = df.get_exported()[0]\nview",
    "id": "186e1ccd2ef446cfac8da8d98b1a122c",
    "order_count": 11,
    "time": "2020-07-13T02:48:30.697Z",
    "type": "selectCodeCell"
   },
   {
    "code": "df",
    "id": "67a5374ba1594f8a96f71e1f4c6145a1",
    "order_count": 10,
    "time": "2020-07-13T02:48:31.246Z",
    "type": "selectCodeCell"
   },
   {
    "time": "2020-07-13T02:48:33.196Z",
    "type": "kernelRestart"
   },
   {
    "time": "2020-07-13T02:48:33.337Z",
    "type": "kernelRestart"
   },
   {
    "code": "From the dataframe recommendations, the visualization showing the relationship between `GDPPerCapita` and `Footprint` is very interesting. In particular, there is an outlier with extremely high ecological footprint as well as high GDP per capita. So we click on this visualization and click on the export button.",
    "id": "668eb7fb960e451eb57c681baf3de28f",
    "order_count": 9,
    "time": "2020-07-13T02:48:33.736Z",
    "type": "selectMarkdownCell"
   },
   {
    "code": "bookmarked_charts.load(df[df[\"SubRegion\"]==\"Europe\"])",
    "id": "90b28b2851274582a9eaeb634183e181",
    "order_count": 8,
    "time": "2020-07-13T02:48:33.946Z",
    "type": "selectCodeCell"
   },
   {
    "code": "bookmarked_charts[0].load(df[df[\"SubRegion\"]==\"Europe\"])",
    "id": "db76898871a442feae57b2d24370901a",
    "order_count": 7,
    "time": "2020-07-13T02:48:34.101Z",
    "type": "selectCodeCell"
   },
   {
    "code": "bookmarked_charts = df.get_exported()\nbookmarked_charts",
    "id": "a0843739aae2474e95eae3e889cd58c8",
    "order_count": 6,
    "time": "2020-07-13T02:48:34.260Z",
    "type": "selectCodeCell"
   },
   {
    "code": "We can click on visualizations of interest and export them into a separate widget.",
    "id": "f3f9136301e54bd19eac8eb55f9cc158",
    "order_count": 5,
    "time": "2020-07-13T02:48:34.391Z",
    "type": "selectMarkdownCell"
   },
   {
    "time": "2020-07-13T02:48:34.454Z",
    "type": "kernelReady"
   },
   {
    "time": "2020-07-13T02:48:34.457Z",
    "type": "kernelReady"
   },
   {
    "time": "2020-07-13T02:48:34.460Z",
    "type": "kernelReady"
   },
   {
    "code": "### Exporting one or more visualizations from recommendation widget",
    "id": "8e6114c3d53f46c9b0497f0fb8f18f08",
    "order_count": 4,
    "time": "2020-07-13T02:48:34.546Z",
    "type": "selectMarkdownCell"
   },
   {
    "code": "df = pd.read_csv(\"lux/data/hpi.csv\")\ndf.set_default_display(\"lux\") #set Lux as default view\ndf",
    "id": "12a1be56c9ae4abab0a1f946bd40bc68",
    "order_count": 3,
    "time": "2020-07-13T02:48:34.719Z",
    "type": "selectCodeCell"
   },
   {
    "code": "In this tutorial, we look at the [Happy Planet Index](http://happyplanetindex.org/) dataset, which contains metrics related to well-being for 140 countries around the world. We demonstrate how you can select visualizations of interest and export them for further analysis. ",
    "id": "2b4ef2b4027f49a68a2486039b0d5fee",
    "order_count": 2,
    "time": "2020-07-13T02:48:34.820Z",
    "type": "selectMarkdownCell"
   },
   {
    "code": "import pandas as pd\nimport lux",
    "id": "36317fa004f84755901fb751d5e7974b",
    "order_count": 1,
    "time": "2020-07-13T02:48:34.984Z",
    "type": "selectCodeCell"
   },
   {
    "code": "cd ..",
    "id": "eb64dbe726c9440f8884b3f1484bab48",
    "order_count": 0,
    "time": "2020-07-13T02:48:35.122Z",
    "type": "selectCodeCell"
   },
   {
    "code": "cd ..",
    "id": "eb64dbe726c9440f8884b3f1484bab48",
    "order_count": 0,
    "time": "2020-07-13T02:48:38.004Z",
    "type": "executeCodeCell"
   },
   {
    "code": "import pandas as pd\nimport lux",
    "id": "36317fa004f84755901fb751d5e7974b",
    "order_count": 1,
    "time": "2020-07-13T02:48:38.025Z",
    "type": "selectCodeCell"
   },
   {
    "id": "eb64dbe726c9440f8884b3f1484bab48",
    "isPrintLuxDf": false,
    "isPrintPandasDf": false,
    "isPrintView": false,
    "isPrintViewCollection": false,
    "time": "2020-07-13T02:48:38.043Z",
    "type": "completeCodeCell"
   },
   {
    "code": "import pandas as pd\nimport lux",
    "id": "36317fa004f84755901fb751d5e7974b",
    "order_count": 1,
    "time": "2020-07-13T02:48:38.371Z",
    "type": "executeCodeCell"
   },
   {
    "code": "In this tutorial, we look at the [Happy Planet Index](http://happyplanetindex.org/) dataset, which contains metrics related to well-being for 140 countries around the world. We demonstrate how you can select visualizations of interest and export them for further analysis. ",
    "id": "2b4ef2b4027f49a68a2486039b0d5fee",
    "order_count": 2,
    "time": "2020-07-13T02:48:38.380Z",
    "type": "selectMarkdownCell"
   },
   {
    "code": "df = pd.read_csv(\"lux/data/hpi.csv\")\ndf.set_default_display(\"lux\") #set Lux as default view\ndf",
    "id": "12a1be56c9ae4abab0a1f946bd40bc68",
    "order_count": 3,
    "time": "2020-07-13T02:48:38.698Z",
    "type": "selectCodeCell"
   },
   {
    "id": "36317fa004f84755901fb751d5e7974b",
    "isPrintLuxDf": false,
    "isPrintPandasDf": false,
    "isPrintView": false,
    "isPrintViewCollection": false,
    "time": "2020-07-13T02:48:38.706Z",
    "type": "completeCodeCell"
   },
   {
    "code": "df = pd.read_csv(\"lux/data/hpi.csv\")\ndf.set_default_display(\"lux\") #set Lux as default view\ndf",
    "id": "12a1be56c9ae4abab0a1f946bd40bc68",
    "order_count": 3,
    "time": "2020-07-13T02:48:39.000Z",
    "type": "executeCodeCell"
   },
   {
    "code": "### Exporting one or more visualizations from recommendation widget",
    "id": "8e6114c3d53f46c9b0497f0fb8f18f08",
    "order_count": 4,
    "time": "2020-07-13T02:48:39.008Z",
    "type": "selectMarkdownCell"
   },
   {
    "code": "We can click on visualizations of interest and export them into a separate widget.",
    "id": "f3f9136301e54bd19eac8eb55f9cc158",
    "order_count": 5,
    "time": "2020-07-13T02:48:39.358Z",
    "type": "selectMarkdownCell"
   },
   {
    "code": "bookmarked_charts = df.get_exported()\nbookmarked_charts",
    "id": "a0843739aae2474e95eae3e889cd58c8",
    "order_count": 6,
    "time": "2020-07-13T02:48:39.823Z",
    "type": "selectCodeCell"
   },
   {
    "id": "12a1be56c9ae4abab0a1f946bd40bc68",
    "isPrintLuxDf": true,
    "isPrintPandasDf": false,
    "isPrintView": false,
    "isPrintViewCollection": false,
    "time": "2020-07-13T02:48:39.996Z",
    "type": "completeCodeCell"
   },
   {
    "param": "",
    "time": "2020-07-13T02:48:40.004Z",
    "type": "initWidget"
   },
   {
    "param": "",
    "time": "2020-07-13T02:48:40.224Z",
    "type": "initWidget"
   },
   {
    "code": "df = pd.read_csv(\"lux/data/hpi.csv\")\ndf.set_default_display(\"lux\") #set Lux as default view\ndf",
    "id": "12a1be56c9ae4abab0a1f946bd40bc68",
    "order_count": 3,
    "time": "2020-07-13T02:48:42.468Z",
    "type": "selectCodeCell"
   },
   {
    "param": {
     "index": 1,
     "tabTitle": "Correlation",
     "vis": {
      "$schema": "https://vega.github.io/schema/vega-lite/v4.8.1.json",
      "config": {
       "mark": {
        "tooltip": {
         "content": "encoding"
        }
       },
       "view": {
        "continuousHeight": 300,
        "continuousWidth": 400
       }
      },
      "data": {
       "name": "data-c5bd87549771a1474928380fe42ed676"
      },
      "datasets": {
       "data-c5bd87549771a1474928380fe42ed676": [
        {
         "AverageWellBeing": 3.8,
         "InequalityAdjustedWellbeing": 3.4
        },
        {
         "AverageWellBeing": 5.5,
         "InequalityAdjustedWellbeing": 5.1
        },
        {
         "AverageWellBeing": 5.6,
         "InequalityAdjustedWellbeing": 5.2
        },
        {
         "AverageWellBeing": 6.5,
         "InequalityAdjustedWellbeing": 6
        },
        {
         "AverageWellBeing": 4.3,
         "InequalityAdjustedWellbeing": 3.7
        },
        {
         "AverageWellBeing": 7.2,
         "InequalityAdjustedWellbeing": 6.9
        },
        {
         "AverageWellBeing": 7.4,
         "InequalityAdjustedWellbeing": 7.1
        },
        {
         "AverageWellBeing": 4.7,
         "InequalityAdjustedWellbeing": 4.3
        },
        {
         "AverageWellBeing": 5.7,
         "InequalityAdjustedWellbeing": 5.3
        },
        {
         "AverageWellBeing": 6.9,
         "InequalityAdjustedWellbeing": 6.6
        },
        {
         "AverageWellBeing": 6.1,
         "InequalityAdjustedWellbeing": 5.7
        },
        {
         "AverageWellBeing": 3.2,
         "InequalityAdjustedWellbeing": 2.8
        },
        {
         "AverageWellBeing": 5.6,
         "InequalityAdjustedWellbeing": 5.2
        },
        {
         "AverageWellBeing": 6,
         "InequalityAdjustedWellbeing": 5.5
        },
        {
         "AverageWellBeing": 4.8,
         "InequalityAdjustedWellbeing": 4.2
        },
        {
         "AverageWellBeing": 4.8,
         "InequalityAdjustedWellbeing": 4.3
        },
        {
         "AverageWellBeing": 6.9,
         "InequalityAdjustedWellbeing": 6.3
        },
        {
         "AverageWellBeing": 4.2,
         "InequalityAdjustedWellbeing": 3.7
        },
        {
         "AverageWellBeing": 4,
         "InequalityAdjustedWellbeing": 3.6
        },
        {
         "AverageWellBeing": 3.4,
         "InequalityAdjustedWellbeing": 3
        },
        {
         "AverageWellBeing": 3.9,
         "InequalityAdjustedWellbeing": 3.5
        },
        {
         "AverageWellBeing": 4.2,
         "InequalityAdjustedWellbeing": 3.7
        },
        {
         "AverageWellBeing": 7.4,
         "InequalityAdjustedWellbeing": 7.1
        },
        {
         "AverageWellBeing": 4,
         "InequalityAdjustedWellbeing": 3.7
        },
        {
         "AverageWellBeing": 6.6,
         "InequalityAdjustedWellbeing": 6.1
        },
        {
         "AverageWellBeing": 5.1,
         "InequalityAdjustedWellbeing": 4.6
        },
        {
         "AverageWellBeing": 6.4,
         "InequalityAdjustedWellbeing": 5.7
        },
        {
         "AverageWellBeing": 4,
         "InequalityAdjustedWellbeing": 3.7
        },
        {
         "AverageWellBeing": 7.3,
         "InequalityAdjustedWellbeing": 6.8
        },
        {
         "AverageWellBeing": 3.8,
         "InequalityAdjustedWellbeing": 3.5
        },
        {
         "AverageWellBeing": 6,
         "InequalityAdjustedWellbeing": 5.5
        },
        {
         "AverageWellBeing": 6.2,
         "InequalityAdjustedWellbeing": 5.7
        },
        {
         "AverageWellBeing": 6.3,
         "InequalityAdjustedWellbeing": 5.9
        },
        {
         "AverageWellBeing": 7.5,
         "InequalityAdjustedWellbeing": 7.2
        },
        {
         "AverageWellBeing": 4.4,
         "InequalityAdjustedWellbeing": 3.8
        },
        {
         "AverageWellBeing": 4.8,
         "InequalityAdjustedWellbeing": 4.1
        },
        {
         "AverageWellBeing": 6,
         "InequalityAdjustedWellbeing": 5.5
        },
        {
         "AverageWellBeing": 4.2,
         "InequalityAdjustedWellbeing": 3.7
        },
        {
         "AverageWellBeing": 5.9,
         "InequalityAdjustedWellbeing": 5.3
        },
        {
         "AverageWellBeing": 5.4,
         "InequalityAdjustedWellbeing": 5
        },
        {
         "AverageWellBeing": 4.6,
         "InequalityAdjustedWellbeing": 4.2
        },
        {
         "AverageWellBeing": 7.4,
         "InequalityAdjustedWellbeing": 7.2
        },
        {
         "AverageWellBeing": 6.6,
         "InequalityAdjustedWellbeing": 6.3
        },
        {
         "AverageWellBeing": 4,
         "InequalityAdjustedWellbeing": 3.5
        },
        {
         "AverageWellBeing": 4.3,
         "InequalityAdjustedWellbeing": 3.8
        },
        {
         "AverageWellBeing": 6.7,
         "InequalityAdjustedWellbeing": 6.4
        },
        {
         "AverageWellBeing": 5.1,
         "InequalityAdjustedWellbeing": 4.6
        },
        {
         "AverageWellBeing": 5.1,
         "InequalityAdjustedWellbeing": 4.5
        },
        {
         "AverageWellBeing": 5.9,
         "InequalityAdjustedWellbeing": 5.2
        },
        {
         "AverageWellBeing": 3.7,
         "InequalityAdjustedWellbeing": 3.3
        },
        {
         "AverageWellBeing": 4.4,
         "InequalityAdjustedWellbeing": 4
        },
        {
         "AverageWellBeing": 4.6,
         "InequalityAdjustedWellbeing": 3.9
        },
        {
         "AverageWellBeing": 5.5,
         "InequalityAdjustedWellbeing": 5.1
        },
        {
         "AverageWellBeing": 4.7,
         "InequalityAdjustedWellbeing": 4.2
        },
        {
         "AverageWellBeing": 7.6,
         "InequalityAdjustedWellbeing": 7.4
        },
        {
         "AverageWellBeing": 4.6,
         "InequalityAdjustedWellbeing": 4.2
        },
        {
         "AverageWellBeing": 5.4,
         "InequalityAdjustedWellbeing": 5.1
        },
        {
         "AverageWellBeing": 4.6,
         "InequalityAdjustedWellbeing": 4
        },
        {
         "AverageWellBeing": 4.7,
         "InequalityAdjustedWellbeing": 4.3
        },
        {
         "AverageWellBeing": 7,
         "InequalityAdjustedWellbeing": 6.7
        },
        {
         "AverageWellBeing": 7.1,
         "InequalityAdjustedWellbeing": 6.8
        },
        {
         "AverageWellBeing": 5.8,
         "InequalityAdjustedWellbeing": 5.3
        },
        {
         "AverageWellBeing": 5.6,
         "InequalityAdjustedWellbeing": 5
        },
        {
         "AverageWellBeing": 6,
         "InequalityAdjustedWellbeing": 5.6
        },
        {
         "AverageWellBeing": 5.8,
         "InequalityAdjustedWellbeing": 5.4
        },
        {
         "AverageWellBeing": 4.5,
         "InequalityAdjustedWellbeing": 4.1
        },
        {
         "AverageWellBeing": 5.2,
         "InequalityAdjustedWellbeing": 4.9
        },
        {
         "AverageWellBeing": 5.1,
         "InequalityAdjustedWellbeing": 4.7
        },
        {
         "AverageWellBeing": 4.6,
         "InequalityAdjustedWellbeing": 4
        },
        {
         "AverageWellBeing": 4.9,
         "InequalityAdjustedWellbeing": 4.3
        },
        {
         "AverageWellBeing": 4.4,
         "InequalityAdjustedWellbeing": 4.1
        },
        {
         "AverageWellBeing": 5.8,
         "InequalityAdjustedWellbeing": 5.4
        },
        {
         "AverageWellBeing": 7,
         "InequalityAdjustedWellbeing": 6.7
        },
        {
         "AverageWellBeing": 4.6,
         "InequalityAdjustedWellbeing": 4.1
        },
        {
         "AverageWellBeing": 4.3,
         "InequalityAdjustedWellbeing": 3.5
        },
        {
         "AverageWellBeing": 5.9,
         "InequalityAdjustedWellbeing": 5.7
        },
        {
         "AverageWellBeing": 6,
         "InequalityAdjustedWellbeing": 5.5
        },
        {
         "AverageWellBeing": 4.7,
         "InequalityAdjustedWellbeing": 4.5
        },
        {
         "AverageWellBeing": 5.5,
         "InequalityAdjustedWellbeing": 5.1
        },
        {
         "AverageWellBeing": 7.3,
         "InequalityAdjustedWellbeing": 6.8
        },
        {
         "AverageWellBeing": 4.9,
         "InequalityAdjustedWellbeing": 4.6
        },
        {
         "AverageWellBeing": 5.2,
         "InequalityAdjustedWellbeing": 4.6
        },
        {
         "AverageWellBeing": 5,
         "InequalityAdjustedWellbeing": 4.5
        },
        {
         "AverageWellBeing": 5,
         "InequalityAdjustedWellbeing": 4.5
        },
        {
         "AverageWellBeing": 4.4,
         "InequalityAdjustedWellbeing": 4
        },
        {
         "AverageWellBeing": 4.7,
         "InequalityAdjustedWellbeing": 4.4
        },
        {
         "AverageWellBeing": 4.2,
         "InequalityAdjustedWellbeing": 3.8
        },
        {
         "AverageWellBeing": 7.5,
         "InequalityAdjustedWellbeing": 7.5
        },
        {
         "AverageWellBeing": 7.2,
         "InequalityAdjustedWellbeing": 6.9
        },
        {
         "AverageWellBeing": 5.4,
         "InequalityAdjustedWellbeing": 4.8
        },
        {
         "AverageWellBeing": 3.8,
         "InequalityAdjustedWellbeing": 3.5
        },
        {
         "AverageWellBeing": 5.5,
         "InequalityAdjustedWellbeing": 5.2
        },
        {
         "AverageWellBeing": 7.7,
         "InequalityAdjustedWellbeing": 7.4
        },
        {
         "AverageWellBeing": 6.9,
         "InequalityAdjustedWellbeing": 6.4
        },
        {
         "AverageWellBeing": 5.1,
         "InequalityAdjustedWellbeing": 4.6
        },
        {
         "AverageWellBeing": 4.6,
         "InequalityAdjustedWellbeing": 4.1
        },
        {
         "AverageWellBeing": 6.9,
         "InequalityAdjustedWellbeing": 6.3
        },
        {
         "AverageWellBeing": 5.8,
         "InequalityAdjustedWellbeing": 5.5
        },
        {
         "AverageWellBeing": 5.8,
         "InequalityAdjustedWellbeing": 5.3
        },
        {
         "AverageWellBeing": 5,
         "InequalityAdjustedWellbeing": 4.4
        },
        {
         "AverageWellBeing": 5.9,
         "InequalityAdjustedWellbeing": 5.5
        },
        {
         "AverageWellBeing": 5,
         "InequalityAdjustedWellbeing": 4.3
        },
        {
         "AverageWellBeing": 3.9,
         "InequalityAdjustedWellbeing": 3.4
        },
        {
         "AverageWellBeing": 5.2,
         "InequalityAdjustedWellbeing": 4.6
        },
        {
         "AverageWellBeing": 5.6,
         "InequalityAdjustedWellbeing": 5.2
        },
        {
         "AverageWellBeing": 3.3,
         "InequalityAdjustedWellbeing": 3
        },
        {
         "AverageWellBeing": 3.7,
         "InequalityAdjustedWellbeing": 3.3
        },
        {
         "AverageWellBeing": 5.2,
         "InequalityAdjustedWellbeing": 4.6
        },
        {
         "AverageWellBeing": 4.5,
         "InequalityAdjustedWellbeing": 4
        },
        {
         "AverageWellBeing": 5.9,
         "InequalityAdjustedWellbeing": 5.4
        },
        {
         "AverageWellBeing": 6.1,
         "InequalityAdjustedWellbeing": 5.7
        },
        {
         "AverageWellBeing": 5.1,
         "InequalityAdjustedWellbeing": 4.6
        },
        {
         "AverageWellBeing": 6,
         "InequalityAdjustedWellbeing": 5.5
        },
        {
         "AverageWellBeing": 6.3,
         "InequalityAdjustedWellbeing": 5.9
        },
        {
         "AverageWellBeing": 4.2,
         "InequalityAdjustedWellbeing": 3.8
        },
        {
         "AverageWellBeing": 6.3,
         "InequalityAdjustedWellbeing": 5.9
        },
        {
         "AverageWellBeing": 4.9,
         "InequalityAdjustedWellbeing": 4.4
        },
        {
         "AverageWellBeing": 7.6,
         "InequalityAdjustedWellbeing": 7.4
        },
        {
         "AverageWellBeing": 7.8,
         "InequalityAdjustedWellbeing": 7.6
        },
        {
         "AverageWellBeing": 3.2,
         "InequalityAdjustedWellbeing": 2.6
        },
        {
         "AverageWellBeing": 4.5,
         "InequalityAdjustedWellbeing": 4.3
        },
        {
         "AverageWellBeing": 4,
         "InequalityAdjustedWellbeing": 3.6
        },
        {
         "AverageWellBeing": 6.3,
         "InequalityAdjustedWellbeing": 6
        },
        {
         "AverageWellBeing": 2.9,
         "InequalityAdjustedWellbeing": 2.4
        },
        {
         "AverageWellBeing": 6.4,
         "InequalityAdjustedWellbeing": 6
        },
        {
         "AverageWellBeing": 4.5,
         "InequalityAdjustedWellbeing": 4
        },
        {
         "AverageWellBeing": 5.3,
         "InequalityAdjustedWellbeing": 4.9
        },
        {
         "AverageWellBeing": 5.5,
         "InequalityAdjustedWellbeing": 5.1
        },
        {
         "AverageWellBeing": 4.3,
         "InequalityAdjustedWellbeing": 3.9
        },
        {
         "AverageWellBeing": 5,
         "InequalityAdjustedWellbeing": 4.6
        },
        {
         "AverageWellBeing": 6.9,
         "InequalityAdjustedWellbeing": 6.6
        },
        {
         "AverageWellBeing": 7,
         "InequalityAdjustedWellbeing": 6.5
        },
        {
         "AverageWellBeing": 6.4,
         "InequalityAdjustedWellbeing": 5.8
        },
        {
         "AverageWellBeing": 6,
         "InequalityAdjustedWellbeing": 5.6
        },
        {
         "AverageWellBeing": 6.5,
         "InequalityAdjustedWellbeing": 5.9
        },
        {
         "AverageWellBeing": 7.1,
         "InequalityAdjustedWellbeing": 6.5
        },
        {
         "AverageWellBeing": 5.5,
         "InequalityAdjustedWellbeing": 5.2
        },
        {
         "AverageWellBeing": 4.1,
         "InequalityAdjustedWellbeing": 3.6
        },
        {
         "AverageWellBeing": 5,
         "InequalityAdjustedWellbeing": 4.5
        },
        {
         "AverageWellBeing": 5,
         "InequalityAdjustedWellbeing": 4.6
        }
       ]
      },
      "encoding": {
       "x": {
        "field": "AverageWellBeing",
        "scale": {
         "domain": [
          2.9,
          7.8
         ]
        },
        "type": "quantitative"
       },
       "y": {
        "field": "InequalityAdjustedWellbeing",
        "scale": {
         "domain": [
          2.4,
          7.6
         ]
        },
        "type": "quantitative"
       }
      },
      "height": 150,
      "mark": "circle",
      "selection": {
       "selector002": {
        "bind": "scales",
        "encodings": [
         "x",
         "y"
        ],
        "type": "interval"
       }
      },
      "width": 160
     }
    },
    "time": "2020-07-13T02:48:42.470Z",
    "type": "clickVis"
   },
   {
    "code": "df = pd.read_csv(\"lux/data/hpi.csv\")\ndf.set_default_display(\"lux\") #set Lux as default view\ndf",
    "id": "12a1be56c9ae4abab0a1f946bd40bc68",
    "order_count": 3,
    "time": "2020-07-13T02:48:43.260Z",
    "type": "selectCodeCell"
   },
   {
    "param": {
     "index": 3,
     "tabTitle": "Correlation",
     "vis": {
      "$schema": "https://vega.github.io/schema/vega-lite/v4.8.1.json",
      "config": {
       "mark": {
        "tooltip": {
         "content": "encoding"
        }
       },
       "view": {
        "continuousHeight": 300,
        "continuousWidth": 400
       }
      },
      "data": {
       "name": "data-e7e34cde487c40c25a204bd11a5f13b1"
      },
      "datasets": {
       "data-e7e34cde487c40c25a204bd11a5f13b1": [
        {
         "InequalityAdjustedLifeExpectancy": 38.3,
         "InequalityOfOutcomes": 0.43
        },
        {
         "InequalityAdjustedLifeExpectancy": 69.7,
         "InequalityOfOutcomes": 0.17
        },
        {
         "InequalityAdjustedLifeExpectancy": 60.5,
         "InequalityOfOutcomes": 0.24
        },
        {
         "InequalityAdjustedLifeExpectancy": 68.3,
         "InequalityOfOutcomes": 0.16
        },
        {
         "InequalityAdjustedLifeExpectancy": 66.9,
         "InequalityOfOutcomes": 0.22
        },
        {
         "InequalityAdjustedLifeExpectancy": 78.6,
         "InequalityOfOutcomes": 0.08
        },
        {
         "InequalityAdjustedLifeExpectancy": 78,
         "InequalityOfOutcomes": 0.07
        },
        {
         "InequalityAdjustedLifeExpectancy": 56.6,
         "InequalityOfOutcomes": 0.27
        },
        {
         "InequalityAdjustedLifeExpectancy": 66.7,
         "InequalityOfOutcomes": 0.13
        },
        {
         "InequalityAdjustedLifeExpectancy": 77.2,
         "InequalityOfOutcomes": 0.09
        },
        {
         "InequalityAdjustedLifeExpectancy": 61.7,
         "InequalityOfOutcomes": 0.18
        },
        {
         "InequalityAdjustedLifeExpectancy": 37.3,
         "InequalityOfOutcomes": 0.44
        },
        {
         "InequalityAdjustedLifeExpectancy": 54.5,
         "InequalityOfOutcomes": 0.27
        },
        {
         "InequalityAdjustedLifeExpectancy": 47.9,
         "InequalityOfOutcomes": 0.35000000000000003
        },
        {
         "InequalityAdjustedLifeExpectancy": 71.1,
         "InequalityOfOutcomes": 0.19
        },
        {
         "InequalityAdjustedLifeExpectancy": 50.8,
         "InequalityOfOutcomes": 0.28
        },
        {
         "InequalityAdjustedLifeExpectancy": 63.3,
         "InequalityOfOutcomes": 0.22
        },
        {
         "InequalityAdjustedLifeExpectancy": 68.1,
         "InequalityOfOutcomes": 0.19
        },
        {
         "InequalityAdjustedLifeExpectancy": 36.5,
         "InequalityOfOutcomes": 0.43
        },
        {
         "InequalityAdjustedLifeExpectancy": 33,
         "InequalityOfOutcomes": 0.48
        },
        {
         "InequalityAdjustedLifeExpectancy": 54.2,
         "InequalityOfOutcomes": 0.28
        },
        {
         "InequalityAdjustedLifeExpectancy": 33.1,
         "InequalityOfOutcomes": 0.47
        },
        {
         "InequalityAdjustedLifeExpectancy": 77.8,
         "InequalityOfOutcomes": 0.09
        },
        {
         "InequalityAdjustedLifeExpectancy": 27.3,
         "InequalityOfOutcomes": 0.51
        },
        {
         "InequalityAdjustedLifeExpectancy": 74.9,
         "InequalityOfOutcomes": 0.14
        },
        {
         "InequalityAdjustedLifeExpectancy": 68.6,
         "InequalityOfOutcomes": 0.17
        },
        {
         "InequalityAdjustedLifeExpectancy": 63.1,
         "InequalityOfOutcomes": 0.24
        },
        {
         "InequalityAdjustedLifeExpectancy": 43.3,
         "InequalityOfOutcomes": 0.36
        },
        {
         "InequalityAdjustedLifeExpectancy": 72.6,
         "InequalityOfOutcomes": 0.15
        },
        {
         "InequalityAdjustedLifeExpectancy": 30.6,
         "InequalityOfOutcomes": 0.45
        },
        {
         "InequalityAdjustedLifeExpectancy": 73.5,
         "InequalityOfOutcomes": 0.12
        },
        {
         "InequalityAdjustedLifeExpectancy": 76.6,
         "InequalityOfOutcomes": 0.12
        },
        {
         "InequalityAdjustedLifeExpectancy": 75.5,
         "InequalityOfOutcomes": 0.09
        },
        {
         "InequalityAdjustedLifeExpectancy": 76.8,
         "InequalityOfOutcomes": 0.07
        },
        {
         "InequalityAdjustedLifeExpectancy": 41.4,
         "InequalityOfOutcomes": 0.42
        },
        {
         "InequalityAdjustedLifeExpectancy": 60.8,
         "InequalityOfOutcomes": 0.3
        },
        {
         "InequalityAdjustedLifeExpectancy": 64.1,
         "InequalityOfOutcomes": 0.22
        },
        {
         "InequalityAdjustedLifeExpectancy": 61.3,
         "InequalityOfOutcomes": 0.23
        },
        {
         "InequalityAdjustedLifeExpectancy": 62.5,
         "InequalityOfOutcomes": 0.22
        },
        {
         "InequalityAdjustedLifeExpectancy": 72.6,
         "InequalityOfOutcomes": 0.12
        },
        {
         "InequalityAdjustedLifeExpectancy": 43.8,
         "InequalityOfOutcomes": 0.36
        },
        {
         "InequalityAdjustedLifeExpectancy": 77.6,
         "InequalityOfOutcomes": 0.06
        },
        {
         "InequalityAdjustedLifeExpectancy": 78.5,
         "InequalityOfOutcomes": 0.09
        },
        {
         "InequalityAdjustedLifeExpectancy": 45.8,
         "InequalityOfOutcomes": 0.36
        },
        {
         "InequalityAdjustedLifeExpectancy": 66.9,
         "InequalityOfOutcomes": 0.2
        },
        {
         "InequalityAdjustedLifeExpectancy": 77.6,
         "InequalityOfOutcomes": 0.08
        },
        {
         "InequalityAdjustedLifeExpectancy": 42.2,
         "InequalityOfOutcomes": 0.38
        },
        {
         "InequalityAdjustedLifeExpectancy": 77.6,
         "InequalityOfOutcomes": 0.16
        },
        {
         "InequalityAdjustedLifeExpectancy": 59.2,
         "InequalityOfOutcomes": 0.27
        },
        {
         "InequalityAdjustedLifeExpectancy": 37.2,
         "InequalityOfOutcomes": 0.42
        },
        {
         "InequalityAdjustedLifeExpectancy": 42.9,
         "InequalityOfOutcomes": 0.37
        },
        {
         "InequalityAdjustedLifeExpectancy": 58.5,
         "InequalityOfOutcomes": 0.31
        },
        {
         "InequalityAdjustedLifeExpectancy": 81.3,
         "InequalityOfOutcomes": 0.1
        },
        {
         "InequalityAdjustedLifeExpectancy": 70.9,
         "InequalityOfOutcomes": 0.15
        },
        {
         "InequalityAdjustedLifeExpectancy": 79.8,
         "InequalityOfOutcomes": 0.05
        },
        {
         "InequalityAdjustedLifeExpectancy": 51.1,
         "InequalityOfOutcomes": 0.31
        },
        {
         "InequalityAdjustedLifeExpectancy": 57.2,
         "InequalityOfOutcomes": 0.21
        },
        {
         "InequalityAdjustedLifeExpectancy": 66.9,
         "InequalityOfOutcomes": 0.23
        },
        {
         "InequalityAdjustedLifeExpectancy": 55.6,
         "InequalityOfOutcomes": 0.27
        },
        {
         "InequalityAdjustedLifeExpectancy": 77.5,
         "InequalityOfOutcomes": 0.08
        },
        {
         "InequalityAdjustedLifeExpectancy": 78.7,
         "InequalityOfOutcomes": 0.08
        },
        {
         "InequalityAdjustedLifeExpectancy": 80.2,
         "InequalityOfOutcomes": 0.12
        },
        {
         "InequalityAdjustedLifeExpectancy": 66.3,
         "InequalityOfOutcomes": 0.21
        },
        {
         "InequalityAdjustedLifeExpectancy": 80.6,
         "InequalityOfOutcomes": 0.09
        },
        {
         "InequalityAdjustedLifeExpectancy": 60.7,
         "InequalityOfOutcomes": 0.18
        },
        {
         "InequalityAdjustedLifeExpectancy": 41,
         "InequalityOfOutcomes": 0.38
        },
        {
         "InequalityAdjustedLifeExpectancy": 60.2,
         "InequalityOfOutcomes": 0.18
        },
        {
         "InequalityAdjustedLifeExpectancy": 68.7,
         "InequalityOfOutcomes": 0.14
        },
        {
         "InequalityAdjustedLifeExpectancy": 73.1,
         "InequalityOfOutcomes": 0.19
        },
        {
         "InequalityAdjustedLifeExpectancy": 32.6,
         "InequalityOfOutcomes": 0.42
        },
        {
         "InequalityAdjustedLifeExpectancy": 40.3,
         "InequalityOfOutcomes": 0.38
        },
        {
         "InequalityAdjustedLifeExpectancy": 68.8,
         "InequalityOfOutcomes": 0.11
        },
        {
         "InequalityAdjustedLifeExpectancy": 79,
         "InequalityOfOutcomes": 0.07
        },
        {
         "InequalityAdjustedLifeExpectancy": 69.4,
         "InequalityOfOutcomes": 0.18
        },
        {
         "InequalityAdjustedLifeExpectancy": 40.4,
         "InequalityOfOutcomes": 0.45
        },
        {
         "InequalityAdjustedLifeExpectancy": 69.5,
         "InequalityOfOutcomes": 0.1
        },
        {
         "InequalityAdjustedLifeExpectancy": 76.6,
         "InequalityOfOutcomes": 0.13
        },
        {
         "InequalityAdjustedLifeExpectancy": 41.5,
         "InequalityOfOutcomes": 0.37
        },
        {
         "InequalityAdjustedLifeExpectancy": 66.7,
         "InequalityOfOutcomes": 0.17
        },
        {
         "InequalityAdjustedLifeExpectancy": 66.3,
         "InequalityOfOutcomes": 0.19
        },
        {
         "InequalityAdjustedLifeExpectancy": 56.9,
         "InequalityOfOutcomes": 0.22
        },
        {
         "InequalityAdjustedLifeExpectancy": 71.8,
         "InequalityOfOutcomes": 0.16
        },
        {
         "InequalityAdjustedLifeExpectancy": 61.6,
         "InequalityOfOutcomes": 0.25
        },
        {
         "InequalityAdjustedLifeExpectancy": 34.5,
         "InequalityOfOutcomes": 0.43
        },
        {
         "InequalityAdjustedLifeExpectancy": 48.4,
         "InequalityOfOutcomes": 0.32
        },
        {
         "InequalityAdjustedLifeExpectancy": 50.1,
         "InequalityOfOutcomes": 0.26
        },
        {
         "InequalityAdjustedLifeExpectancy": 55.3,
         "InequalityOfOutcomes": 0.27
        },
        {
         "InequalityAdjustedLifeExpectancy": 78.2,
         "InequalityOfOutcomes": 0.04
        },
        {
         "InequalityAdjustedLifeExpectancy": 77.7,
         "InequalityOfOutcomes": 0.08
        },
        {
         "InequalityAdjustedLifeExpectancy": 63.4,
         "InequalityOfOutcomes": 0.25
        },
        {
         "InequalityAdjustedLifeExpectancy": 38.9,
         "InequalityOfOutcomes": 0.4
        },
        {
         "InequalityAdjustedLifeExpectancy": 30.9,
         "InequalityOfOutcomes": 0.44
        },
        {
         "InequalityAdjustedLifeExpectancy": 78.6,
         "InequalityOfOutcomes": 0.07
        },
        {
         "InequalityAdjustedLifeExpectancy": 70.9,
         "InequalityOfOutcomes": 0.13
        },
        {
         "InequalityAdjustedLifeExpectancy": 44.1,
         "InequalityOfOutcomes": 0.4
        },
        {
         "InequalityAdjustedLifeExpectancy": 62.6,
         "InequalityOfOutcomes": 0.24
        },
        {
         "InequalityAdjustedLifeExpectancy": 68.3,
         "InequalityOfOutcomes": 0.19
        },
        {
         "InequalityAdjustedLifeExpectancy": 59.4,
         "InequalityOfOutcomes": 0.22
        },
        {
         "InequalityAdjustedLifeExpectancy": 63.5,
         "InequalityOfOutcomes": 0.21
        },
        {
         "InequalityAdjustedLifeExpectancy": 56.9,
         "InequalityOfOutcomes": 0.26
        },
        {
         "InequalityAdjustedLifeExpectancy": 72.9,
         "InequalityOfOutcomes": 0.11
        },
        {
         "InequalityAdjustedLifeExpectancy": 77.2,
         "InequalityOfOutcomes": 0.16
        },
        {
         "InequalityAdjustedLifeExpectancy": 42,
         "InequalityOfOutcomes": 0.4
        },
        {
         "InequalityAdjustedLifeExpectancy": 68.1,
         "InequalityOfOutcomes": 0.19
        },
        {
         "InequalityAdjustedLifeExpectancy": 63.4,
         "InequalityOfOutcomes": 0.16
        },
        {
         "InequalityAdjustedLifeExpectancy": 44.3,
         "InequalityOfOutcomes": 0.37
        },
        {
         "InequalityAdjustedLifeExpectancy": 49.1,
         "InequalityOfOutcomes": 0.33
        },
        {
         "InequalityAdjustedLifeExpectancy": 68.6,
         "InequalityOfOutcomes": 0.19
        },
        {
         "InequalityAdjustedLifeExpectancy": 28.2,
         "InequalityOfOutcomes": 0.5
        },
        {
         "InequalityAdjustedLifeExpectancy": 71.9,
         "InequalityOfOutcomes": 0.13
        },
        {
         "InequalityAdjustedLifeExpectancy": 77.1,
         "InequalityOfOutcomes": 0.1
        },
        {
         "InequalityAdjustedLifeExpectancy": 41.8,
         "InequalityOfOutcomes": 0.33
        },
        {
         "InequalityAdjustedLifeExpectancy": 78.3,
         "InequalityOfOutcomes": 0.11
        },
        {
         "InequalityAdjustedLifeExpectancy": 79.3,
         "InequalityOfOutcomes": 0.1
        },
        {
         "InequalityAdjustedLifeExpectancy": 68.6,
         "InequalityOfOutcomes": 0.17
        },
        {
         "InequalityAdjustedLifeExpectancy": 61.2,
         "InequalityOfOutcomes": 0.19
        },
        {
         "InequalityAdjustedLifeExpectancy": 31.8,
         "InequalityOfOutcomes": 0.41
        },
        {
         "InequalityAdjustedLifeExpectancy": 79.1,
         "InequalityOfOutcomes": 0.06
        },
        {
         "InequalityAdjustedLifeExpectancy": 79.4,
         "InequalityOfOutcomes": 0.06
        },
        {
         "InequalityAdjustedLifeExpectancy": 60.2,
         "InequalityOfOutcomes": 0.3
        },
        {
         "InequalityAdjustedLifeExpectancy": 53,
         "InequalityOfOutcomes": 0.26
        },
        {
         "InequalityAdjustedLifeExpectancy": 47.7,
         "InequalityOfOutcomes": 0.33
        },
        {
         "InequalityAdjustedLifeExpectancy": 66.3,
         "InequalityOfOutcomes": 0.15
        },
        {
         "InequalityAdjustedLifeExpectancy": 39.6,
         "InequalityOfOutcomes": 0.43
        },
        {
         "InequalityAdjustedLifeExpectancy": 58.4,
         "InequalityOfOutcomes": 0.21
        },
        {
         "InequalityAdjustedLifeExpectancy": 65.5,
         "InequalityOfOutcomes": 0.22
        },
        {
         "InequalityAdjustedLifeExpectancy": 66.2,
         "InequalityOfOutcomes": 0.19
        },
        {
         "InequalityAdjustedLifeExpectancy": 48.3,
         "InequalityOfOutcomes": 0.31
        },
        {
         "InequalityAdjustedLifeExpectancy": 36.8,
         "InequalityOfOutcomes": 0.41
        },
        {
         "InequalityAdjustedLifeExpectancy": 64.2,
         "InequalityOfOutcomes": 0.17
        },
        {
         "InequalityAdjustedLifeExpectancy": 76.8,
         "InequalityOfOutcomes": 0.09
        },
        {
         "InequalityAdjustedLifeExpectancy": 74,
         "InequalityOfOutcomes": 0.13
        },
        {
         "InequalityAdjustedLifeExpectancy": 69.6,
         "InequalityOfOutcomes": 0.18
        },
        {
         "InequalityAdjustedLifeExpectancy": 51.6,
         "InequalityOfOutcomes": 0.3
        },
        {
         "InequalityAdjustedLifeExpectancy": 60.3,
         "InequalityOfOutcomes": 0.22
        },
        {
         "InequalityAdjustedLifeExpectancy": 65.5,
         "InequalityOfOutcomes": 0.19
        },
        {
         "InequalityAdjustedLifeExpectancy": 64.8,
         "InequalityOfOutcomes": 0.19
        },
        {
         "InequalityAdjustedLifeExpectancy": 44.7,
         "InequalityOfOutcomes": 0.39
        },
        {
         "InequalityAdjustedLifeExpectancy": 38.7,
         "InequalityOfOutcomes": 0.41
        },
        {
         "InequalityAdjustedLifeExpectancy": 36.9,
         "InequalityOfOutcomes": 0.37
        }
       ]
      },
      "encoding": {
       "x": {
        "field": "InequalityOfOutcomes",
        "scale": {
         "domain": [
          0.04,
          0.51
         ]
        },
        "type": "quantitative"
       },
       "y": {
        "field": "InequalityAdjustedLifeExpectancy",
        "scale": {
         "domain": [
          27.3,
          81.3
         ]
        },
        "type": "quantitative"
       }
      },
      "height": 150,
      "mark": "circle",
      "selection": {
       "selector004": {
        "bind": "scales",
        "encodings": [
         "x",
         "y"
        ],
        "type": "interval"
       }
      },
      "width": 160
     }
    },
    "time": "2020-07-13T02:48:43.262Z",
    "type": "clickVis"
   },
   {
    "code": "df = pd.read_csv(\"lux/data/hpi.csv\")\ndf.set_default_display(\"lux\") #set Lux as default view\ndf",
    "id": "12a1be56c9ae4abab0a1f946bd40bc68",
    "order_count": 3,
    "time": "2020-07-13T02:48:43.721Z",
    "type": "selectCodeCell"
   },
   {
    "param": {
     "index": 2,
     "tabTitle": "Correlation",
     "vis": {
      "$schema": "https://vega.github.io/schema/vega-lite/v4.8.1.json",
      "config": {
       "mark": {
        "tooltip": {
         "content": "encoding"
        }
       },
       "view": {
        "continuousHeight": 300,
        "continuousWidth": 400
       }
      },
      "data": {
       "name": "data-1dbc478f1621a81afe9776f917f39e67"
      },
      "datasets": {
       "data-1dbc478f1621a81afe9776f917f39e67": [
        {
         "AverageLifeExpectancy": 59.7,
         "InequalityAdjustedLifeExpectancy": 38.3
        },
        {
         "AverageLifeExpectancy": 77.3,
         "InequalityAdjustedLifeExpectancy": 69.7
        },
        {
         "AverageLifeExpectancy": 74.3,
         "InequalityAdjustedLifeExpectancy": 60.5
        },
        {
         "AverageLifeExpectancy": 75.9,
         "InequalityAdjustedLifeExpectancy": 68.3
        },
        {
         "AverageLifeExpectancy": 74.4,
         "InequalityAdjustedLifeExpectancy": 66.9
        },
        {
         "AverageLifeExpectancy": 82.1,
         "InequalityAdjustedLifeExpectancy": 78.6
        },
        {
         "AverageLifeExpectancy": 81,
         "InequalityAdjustedLifeExpectancy": 78
        },
        {
         "AverageLifeExpectancy": 70.8,
         "InequalityAdjustedLifeExpectancy": 56.6
        },
        {
         "AverageLifeExpectancy": 70.9,
         "InequalityAdjustedLifeExpectancy": 66.7
        },
        {
         "AverageLifeExpectancy": 80.4,
         "InequalityAdjustedLifeExpectancy": 77.2
        },
        {
         "AverageLifeExpectancy": 69.8,
         "InequalityAdjustedLifeExpectancy": 61.7
        },
        {
         "AverageLifeExpectancy": 59.2,
         "InequalityAdjustedLifeExpectancy": 37.3
        },
        {
         "AverageLifeExpectancy": 68.7,
         "InequalityAdjustedLifeExpectancy": 54.5
        },
        {
         "AverageLifeExpectancy": 67.5,
         "InequalityAdjustedLifeExpectancy": 47.9
        },
        {
         "AverageLifeExpectancy": 76.2,
         "InequalityAdjustedLifeExpectancy": 71.1
        },
        {
         "AverageLifeExpectancy": 64.2,
         "InequalityAdjustedLifeExpectancy": 50.8
        },
        {
         "AverageLifeExpectancy": 73.9,
         "InequalityAdjustedLifeExpectancy": 63.3
        },
        {
         "AverageLifeExpectancy": 73.9,
         "InequalityAdjustedLifeExpectancy": 68.1
        },
        {
         "AverageLifeExpectancy": 58,
         "InequalityAdjustedLifeExpectancy": 36.5
        },
        {
         "AverageLifeExpectancy": 55.8,
         "InequalityAdjustedLifeExpectancy": 33
        },
        {
         "AverageLifeExpectancy": 67.5,
         "InequalityAdjustedLifeExpectancy": 54.2
        },
        {
         "AverageLifeExpectancy": 54.6,
         "InequalityAdjustedLifeExpectancy": 33.1
        },
        {
         "AverageLifeExpectancy": 81.7,
         "InequalityAdjustedLifeExpectancy": 77.8
        },
        {
         "AverageLifeExpectancy": 50.8,
         "InequalityAdjustedLifeExpectancy": 27.3
        },
        {
         "AverageLifeExpectancy": 81.1,
         "InequalityAdjustedLifeExpectancy": 74.9
        },
        {
         "AverageLifeExpectancy": 75.4,
         "InequalityAdjustedLifeExpectancy": 68.6
        },
        {
         "AverageLifeExpectancy": 73.7,
         "InequalityAdjustedLifeExpectancy": 63.1
        },
        {
         "AverageLifeExpectancy": 62.6,
         "InequalityAdjustedLifeExpectancy": 43.3
        },
        {
         "AverageLifeExpectancy": 79.1,
         "InequalityAdjustedLifeExpectancy": 72.6
        },
        {
         "AverageLifeExpectancy": 50.8,
         "InequalityAdjustedLifeExpectancy": 30.6
        },
        {
         "AverageLifeExpectancy": 77,
         "InequalityAdjustedLifeExpectancy": 73.5
        },
        {
         "AverageLifeExpectancy": 79.8,
         "InequalityAdjustedLifeExpectancy": 76.6
        },
        {
         "AverageLifeExpectancy": 78.2,
         "InequalityAdjustedLifeExpectancy": 75.5
        },
        {
         "AverageLifeExpectancy": 79.8,
         "InequalityAdjustedLifeExpectancy": 76.8
        },
        {
         "AverageLifeExpectancy": 61.3,
         "InequalityAdjustedLifeExpectancy": 41.4
        },
        {
         "AverageLifeExpectancy": 73.1,
         "InequalityAdjustedLifeExpectancy": 60.8
        },
        {
         "AverageLifeExpectancy": 75.4,
         "InequalityAdjustedLifeExpectancy": 64.1
        },
        {
         "AverageLifeExpectancy": 70.7,
         "InequalityAdjustedLifeExpectancy": 61.3
        },
        {
         "AverageLifeExpectancy": 72.5,
         "InequalityAdjustedLifeExpectancy": 62.5
        },
        {
         "AverageLifeExpectancy": 76.2,
         "InequalityAdjustedLifeExpectancy": 72.6
        },
        {
         "AverageLifeExpectancy": 62.8,
         "InequalityAdjustedLifeExpectancy": 43.8
        },
        {
         "AverageLifeExpectancy": 80.4,
         "InequalityAdjustedLifeExpectancy": 77.6
        },
        {
         "AverageLifeExpectancy": 81.8,
         "InequalityAdjustedLifeExpectancy": 78.5
        },
        {
         "AverageLifeExpectancy": 63.3,
         "InequalityAdjustedLifeExpectancy": 45.8
        },
        {
         "AverageLifeExpectancy": 74.6,
         "InequalityAdjustedLifeExpectancy": 66.9
        },
        {
         "AverageLifeExpectancy": 80.6,
         "InequalityAdjustedLifeExpectancy": 77.6
        },
        {
         "AverageLifeExpectancy": 61,
         "InequalityAdjustedLifeExpectancy": 42.2
        },
        {
         "AverageLifeExpectancy": 80.5,
         "InequalityAdjustedLifeExpectancy": 77.6
        },
        {
         "AverageLifeExpectancy": 71.4,
         "InequalityAdjustedLifeExpectancy": 59.2
        },
        {
         "AverageLifeExpectancy": 57.7,
         "InequalityAdjustedLifeExpectancy": 37.2
        },
        {
         "AverageLifeExpectancy": 62.1,
         "InequalityAdjustedLifeExpectancy": 42.9
        },
        {
         "AverageLifeExpectancy": 72.8,
         "InequalityAdjustedLifeExpectancy": 58.5
        },
        {
         "AverageLifeExpectancy": 83.6,
         "InequalityAdjustedLifeExpectancy": 81.3
        },
        {
         "AverageLifeExpectancy": 74.9,
         "InequalityAdjustedLifeExpectancy": 70.9
        },
        {
         "AverageLifeExpectancy": 82.2,
         "InequalityAdjustedLifeExpectancy": 79.8
        },
        {
         "AverageLifeExpectancy": 67.3,
         "InequalityAdjustedLifeExpectancy": 51.1
        },
        {
         "AverageLifeExpectancy": 68.5,
         "InequalityAdjustedLifeExpectancy": 57.2
        },
        {
         "AverageLifeExpectancy": 74.8,
         "InequalityAdjustedLifeExpectancy": 66.9
        },
        {
         "AverageLifeExpectancy": 69,
         "InequalityAdjustedLifeExpectancy": 55.6
        },
        {
         "AverageLifeExpectancy": 80.5,
         "InequalityAdjustedLifeExpectancy": 77.5
        },
        {
         "AverageLifeExpectancy": 81.9,
         "InequalityAdjustedLifeExpectancy": 78.7
        },
        {
         "AverageLifeExpectancy": 82.7,
         "InequalityAdjustedLifeExpectancy": 80.2
        },
        {
         "AverageLifeExpectancy": 75.3,
         "InequalityAdjustedLifeExpectancy": 66.3
        },
        {
         "AverageLifeExpectancy": 83.2,
         "InequalityAdjustedLifeExpectancy": 80.6
        },
        {
         "AverageLifeExpectancy": 68.6,
         "InequalityAdjustedLifeExpectancy": 60.7
        },
        {
         "AverageLifeExpectancy": 60.3,
         "InequalityAdjustedLifeExpectancy": 41
        },
        {
         "AverageLifeExpectancy": 69.7,
         "InequalityAdjustedLifeExpectancy": 60.2
        },
        {
         "AverageLifeExpectancy": 73.6,
         "InequalityAdjustedLifeExpectancy": 68.7
        },
        {
         "AverageLifeExpectancy": 78.8,
         "InequalityAdjustedLifeExpectancy": 73.1
        },
        {
         "AverageLifeExpectancy": 48.9,
         "InequalityAdjustedLifeExpectancy": 32.6
        },
        {
         "AverageLifeExpectancy": 60.2,
         "InequalityAdjustedLifeExpectancy": 40.3
        },
        {
         "AverageLifeExpectancy": 72.8,
         "InequalityAdjustedLifeExpectancy": 68.8
        },
        {
         "AverageLifeExpectancy": 81.1,
         "InequalityAdjustedLifeExpectancy": 79
        },
        {
         "AverageLifeExpectancy": 75.1,
         "InequalityAdjustedLifeExpectancy": 69.4
        },
        {
         "AverageLifeExpectancy": 60.1,
         "InequalityAdjustedLifeExpectancy": 40.4
        },
        {
         "AverageLifeExpectancy": 74.4,
         "InequalityAdjustedLifeExpectancy": 69.5
        },
        {
         "AverageLifeExpectancy": 80.2,
         "InequalityAdjustedLifeExpectancy": 76.6
        },
        {
         "AverageLifeExpectancy": 62.6,
         "InequalityAdjustedLifeExpectancy": 41.5
        },
        {
         "AverageLifeExpectancy": 74,
         "InequalityAdjustedLifeExpectancy": 66.7
        },
        {
         "AverageLifeExpectancy": 76.4,
         "InequalityAdjustedLifeExpectancy": 66.3
        },
        {
         "AverageLifeExpectancy": 68.6,
         "InequalityAdjustedLifeExpectancy": 56.9
        },
        {
         "AverageLifeExpectancy": 75.8,
         "InequalityAdjustedLifeExpectancy": 71.8
        },
        {
         "AverageLifeExpectancy": 73.4,
         "InequalityAdjustedLifeExpectancy": 61.6
        },
        {
         "AverageLifeExpectancy": 54.3,
         "InequalityAdjustedLifeExpectancy": 34.5
        },
        {
         "AverageLifeExpectancy": 65.5,
         "InequalityAdjustedLifeExpectancy": 48.4
        },
        {
         "AverageLifeExpectancy": 64,
         "InequalityAdjustedLifeExpectancy": 50.1
        },
        {
         "AverageLifeExpectancy": 68.8,
         "InequalityAdjustedLifeExpectancy": 55.3
        },
        {
         "AverageLifeExpectancy": 81.2,
         "InequalityAdjustedLifeExpectancy": 78.2
        },
        {
         "AverageLifeExpectancy": 81.4,
         "InequalityAdjustedLifeExpectancy": 77.7
        },
        {
         "AverageLifeExpectancy": 74.3,
         "InequalityAdjustedLifeExpectancy": 63.4
        },
        {
         "AverageLifeExpectancy": 60,
         "InequalityAdjustedLifeExpectancy": 38.9
        },
        {
         "AverageLifeExpectancy": 52.1,
         "InequalityAdjustedLifeExpectancy": 30.9
        },
        {
         "AverageLifeExpectancy": 81.3,
         "InequalityAdjustedLifeExpectancy": 78.6
        },
        {
         "AverageLifeExpectancy": 76.3,
         "InequalityAdjustedLifeExpectancy": 70.9
        },
        {
         "AverageLifeExpectancy": 65.7,
         "InequalityAdjustedLifeExpectancy": 44.1
        },
        {
         "AverageLifeExpectancy": 72.6,
         "InequalityAdjustedLifeExpectancy": 62.6
        },
        {
         "AverageLifeExpectancy": 77.2,
         "InequalityAdjustedLifeExpectancy": 68.3
        },
        {
         "AverageLifeExpectancy": 72.6,
         "InequalityAdjustedLifeExpectancy": 59.4
        },
        {
         "AverageLifeExpectancy": 74.1,
         "InequalityAdjustedLifeExpectancy": 63.5
        },
        {
         "AverageLifeExpectancy": 67.9,
         "InequalityAdjustedLifeExpectancy": 56.9
        },
        {
         "AverageLifeExpectancy": 76.9,
         "InequalityAdjustedLifeExpectancy": 72.9
        },
        {
         "AverageLifeExpectancy": 80.3,
         "InequalityAdjustedLifeExpectancy": 77.2
        },
        {
         "AverageLifeExpectancy": 61,
         "InequalityAdjustedLifeExpectancy": 42
        },
        {
         "AverageLifeExpectancy": 74.3,
         "InequalityAdjustedLifeExpectancy": 68.1
        },
        {
         "AverageLifeExpectancy": 69.5,
         "InequalityAdjustedLifeExpectancy": 63.4
        },
        {
         "AverageLifeExpectancy": 63.1,
         "InequalityAdjustedLifeExpectancy": 44.3
        },
        {
         "AverageLifeExpectancy": 65.4,
         "InequalityAdjustedLifeExpectancy": 49.1
        },
        {
         "AverageLifeExpectancy": 74.5,
         "InequalityAdjustedLifeExpectancy": 68.6
        },
        {
         "AverageLifeExpectancy": 49.8,
         "InequalityAdjustedLifeExpectancy": 28.2
        },
        {
         "AverageLifeExpectancy": 75.9,
         "InequalityAdjustedLifeExpectancy": 71.9
        },
        {
         "AverageLifeExpectancy": 80,
         "InequalityAdjustedLifeExpectancy": 77.1
        },
        {
         "AverageLifeExpectancy": 56.3,
         "InequalityAdjustedLifeExpectancy": 41.8
        },
        {
         "AverageLifeExpectancy": 81.3,
         "InequalityAdjustedLifeExpectancy": 78.3
        },
        {
         "AverageLifeExpectancy": 82.2,
         "InequalityAdjustedLifeExpectancy": 79.3
        },
        {
         "AverageLifeExpectancy": 74.6,
         "InequalityAdjustedLifeExpectancy": 68.6
        },
        {
         "AverageLifeExpectancy": 70.8,
         "InequalityAdjustedLifeExpectancy": 61.2
        },
        {
         "AverageLifeExpectancy": 48.9,
         "InequalityAdjustedLifeExpectancy": 31.8
        },
        {
         "AverageLifeExpectancy": 81.8,
         "InequalityAdjustedLifeExpectancy": 79.1
        },
        {
         "AverageLifeExpectancy": 82.6,
         "InequalityAdjustedLifeExpectancy": 79.4
        },
        {
         "AverageLifeExpectancy": 70.4,
         "InequalityAdjustedLifeExpectancy": 60.2
        },
        {
         "AverageLifeExpectancy": 69,
         "InequalityAdjustedLifeExpectancy": 53
        },
        {
         "AverageLifeExpectancy": 63.5,
         "InequalityAdjustedLifeExpectancy": 47.7
        },
        {
         "AverageLifeExpectancy": 74.1,
         "InequalityAdjustedLifeExpectancy": 66.3
        },
        {
         "AverageLifeExpectancy": 58.6,
         "InequalityAdjustedLifeExpectancy": 39.6
        },
        {
         "AverageLifeExpectancy": 70.1,
         "InequalityAdjustedLifeExpectancy": 58.4
        },
        {
         "AverageLifeExpectancy": 74.6,
         "InequalityAdjustedLifeExpectancy": 65.5
        },
        {
         "AverageLifeExpectancy": 74.7,
         "InequalityAdjustedLifeExpectancy": 66.2
        },
        {
         "AverageLifeExpectancy": 65.3,
         "InequalityAdjustedLifeExpectancy": 48.3
        },
        {
         "AverageLifeExpectancy": 57.1,
         "InequalityAdjustedLifeExpectancy": 36.8
        },
        {
         "AverageLifeExpectancy": 70.3,
         "InequalityAdjustedLifeExpectancy": 64.2
        },
        {
         "AverageLifeExpectancy": 80.4,
         "InequalityAdjustedLifeExpectancy": 76.8
        },
        {
         "AverageLifeExpectancy": 78.8,
         "InequalityAdjustedLifeExpectancy": 74
        },
        {
         "AverageLifeExpectancy": 76.9,
         "InequalityAdjustedLifeExpectancy": 69.6
        },
        {
         "AverageLifeExpectancy": 68.2,
         "InequalityAdjustedLifeExpectancy": 51.6
        },
        {
         "AverageLifeExpectancy": 71.3,
         "InequalityAdjustedLifeExpectancy": 60.3
        },
        {
         "AverageLifeExpectancy": 73.9,
         "InequalityAdjustedLifeExpectancy": 65.5
        },
        {
         "AverageLifeExpectancy": 75.5,
         "InequalityAdjustedLifeExpectancy": 64.8
        },
        {
         "AverageLifeExpectancy": 63.3,
         "InequalityAdjustedLifeExpectancy": 44.7
        },
        {
         "AverageLifeExpectancy": 58.4,
         "InequalityAdjustedLifeExpectancy": 38.7
        },
        {
         "AverageLifeExpectancy": 53.7,
         "InequalityAdjustedLifeExpectancy": 36.9
        }
       ]
      },
      "encoding": {
       "x": {
        "field": "AverageLifeExpectancy",
        "scale": {
         "domain": [
          48.9,
          83.6
         ]
        },
        "type": "quantitative"
       },
       "y": {
        "field": "InequalityAdjustedLifeExpectancy",
        "scale": {
         "domain": [
          27.3,
          81.3
         ]
        },
        "type": "quantitative"
       }
      },
      "height": 150,
      "mark": "circle",
      "selection": {
       "selector003": {
        "bind": "scales",
        "encodings": [
         "x",
         "y"
        ],
        "type": "interval"
       }
      },
      "width": 160
     }
    },
    "time": "2020-07-13T02:48:43.723Z",
    "type": "clickVis"
   },
   {
    "code": "df = pd.read_csv(\"lux/data/hpi.csv\")\ndf.set_default_display(\"lux\") #set Lux as default view\ndf",
    "id": "12a1be56c9ae4abab0a1f946bd40bc68",
    "order_count": 3,
    "time": "2020-07-13T02:48:44.691Z",
    "type": "selectCodeCell"
   },
   {
    "param": {
     "Correlation": [
      1,
      3,
      2
     ]
    },
    "time": "2020-07-13T02:48:44.692Z",
    "type": "exportBtnClick"
   },
   {
    "code": "bookmarked_charts = df.get_exported()\nbookmarked_charts",
    "id": "a0843739aae2474e95eae3e889cd58c8",
    "order_count": 6,
    "time": "2020-07-13T02:48:46.091Z",
    "type": "selectCodeCell"
   },
   {
    "code": "bookmarked_charts = df.get_exported()\nbookmarked_charts",
    "id": "a0843739aae2474e95eae3e889cd58c8",
    "order_count": 6,
    "time": "2020-07-13T02:48:46.099Z",
    "type": "editCodeCell"
   },
   {
    "code": "bookmarked_charts = df.get_exported()\nbookmarked_charts",
    "id": "a0843739aae2474e95eae3e889cd58c8",
    "order_count": 6,
    "time": "2020-07-13T02:48:46.200Z",
    "type": "selectCodeCell"
   },
   {
    "code": "bookmarked_charts = df.get_exported()\nbookmarked_charts",
    "id": "a0843739aae2474e95eae3e889cd58c8",
    "order_count": 6,
    "time": "2020-07-13T02:48:46.914Z",
    "type": "executeCodeCell"
   },
   {
    "code": "bookmarked_charts[0].load(df[df[\"SubRegion\"]==\"Europe\"])",
    "id": "db76898871a442feae57b2d24370901a",
    "order_count": 7,
    "time": "2020-07-13T02:48:46.952Z",
    "type": "selectCodeCell"
   },
   {
    "id": "a0843739aae2474e95eae3e889cd58c8",
    "isPrintLuxDf": false,
    "isPrintPandasDf": false,
    "isPrintView": true,
    "isPrintViewCollection": false,
    "time": "2020-07-13T02:48:46.992Z",
    "type": "completeCodeCell"
   },
   {
    "param": "",
    "time": "2020-07-13T02:48:47.003Z",
    "type": "initWidget"
   },
   {
    "code": "bookmarked_charts[0].load(df[df[\"SubRegion\"]==\"Europe\"])",
    "id": "db76898871a442feae57b2d24370901a",
    "order_count": 7,
    "time": "2020-07-13T02:48:47.520Z",
    "type": "executeCodeCell"
   },
   {
    "code": "bookmarked_charts.load(df[df[\"SubRegion\"]==\"Europe\"])",
    "id": "90b28b2851274582a9eaeb634183e181",
    "order_count": 8,
    "time": "2020-07-13T02:48:47.537Z",
    "type": "selectCodeCell"
   },
   {
    "id": "db76898871a442feae57b2d24370901a",
    "isPrintLuxDf": false,
    "isPrintPandasDf": false,
    "isPrintView": true,
    "isPrintViewCollection": false,
    "time": "2020-07-13T02:48:47.563Z",
    "type": "completeCodeCell"
   },
   {
    "param": "",
    "time": "2020-07-13T02:48:47.572Z",
    "type": "initWidget"
   },
   {
    "code": "bookmarked_charts[0].load(df[df[\"SubRegion\"]==\"Europe\"])",
    "id": "db76898871a442feae57b2d24370901a",
    "order_count": 7,
    "time": "2020-07-13T02:48:49.384Z",
    "type": "selectCodeCell"
   },
   {
    "code": "bookmarked_charts[0].load(df[df[\"SubRegion\"]==\"Europe\"])",
    "id": "db76898871a442feae57b2d24370901a",
    "order_count": 7,
    "time": "2020-07-13T02:48:50.774Z",
    "type": "executeCodeCell"
   },
   {
    "code": "bookmarked_charts.load(df[df[\"SubRegion\"]==\"Europe\"])",
    "id": "90b28b2851274582a9eaeb634183e181",
    "order_count": 8,
    "time": "2020-07-13T02:48:50.790Z",
    "type": "selectCodeCell"
   },
   {
    "id": "db76898871a442feae57b2d24370901a",
    "isPrintLuxDf": false,
    "isPrintPandasDf": false,
    "isPrintView": true,
    "isPrintViewCollection": false,
    "time": "2020-07-13T02:48:50.819Z",
    "type": "completeCodeCell"
   },
   {
    "param": "",
    "time": "2020-07-13T02:48:50.827Z",
    "type": "initWidget"
   },
   {
    "code": "bookmarked_charts.load(df[df[\"SubRegion\"]==\"Europe\"])",
    "id": "90b28b2851274582a9eaeb634183e181",
    "order_count": 8,
    "time": "2020-07-13T02:48:51.372Z",
    "type": "executeCodeCell"
   },
   {
    "code": "From the dataframe recommendations, the visualization showing the relationship between `GDPPerCapita` and `Footprint` is very interesting. In particular, there is an outlier with extremely high ecological footprint as well as high GDP per capita. So we click on this visualization and click on the export button.",
    "id": "668eb7fb960e451eb57c681baf3de28f",
    "order_count": 9,
    "time": "2020-07-13T02:48:51.380Z",
    "type": "selectMarkdownCell"
   },
   {
    "id": "90b28b2851274582a9eaeb634183e181",
    "isPrintLuxDf": false,
    "isPrintPandasDf": false,
    "isPrintView": true,
    "isPrintViewCollection": false,
    "time": "2020-07-13T02:48:51.450Z",
    "type": "completeCodeCell"
   },
   {
    "param": "",
    "time": "2020-07-13T02:48:51.455Z",
    "type": "initWidget"
   },
   {
    "code": "bookmarked_charts[0].load(df[df[\"SubRegion\"]==\"Europe\"])",
    "id": "db76898871a442feae57b2d24370901a",
    "order_count": 7,
    "time": "2020-07-13T03:17:33.811Z",
    "type": "selectCodeCell"
   },
   {
    "code": "bookmarked_charts[0].load(df[df[\"SubRegion\"]==\"Europe\"])",
    "id": "db76898871a442feae57b2d24370901a",
    "order_count": null,
    "time": "2020-07-13T03:17:36.391Z",
    "type": "deleteCodeCell"
   },
   {
    "code": "bookmarked_charts = df.get_exported()\nbookmarked_charts",
    "id": "a0843739aae2474e95eae3e889cd58c8",
    "order_count": 6,
    "time": "2020-07-13T03:17:37.203Z",
    "type": "selectCodeCell"
   },
   {
    "code": "bookmarked_charts = df.get_exported()\nbookmarked_charts",
    "id": "a0843739aae2474e95eae3e889cd58c8",
    "order_count": null,
    "time": "2020-07-13T03:17:39.090Z",
    "type": "deleteCodeCell"
   },
   {
    "code": "bookmarked_charts.load(df[df[\"SubRegion\"]==\"Europe\"])",
    "id": "90b28b2851274582a9eaeb634183e181",
    "order_count": null,
    "time": "2020-07-13T03:17:40.804Z",
    "type": "deleteCodeCell"
   },
   {
    "code": "bookmarked_charts.load(df[df[\"SubRegion\"]==\"Europe\"])",
    "id": "2f0aa3fb488341caa352893b1a100f56",
    "order_count": 7,
    "time": "2020-07-13T03:17:47.304Z",
    "type": "selectCodeCell"
   },
   {
    "code": "bookmarked_charts.load(df[df[\"SubRegion\"]==\"Europe\"])",
    "id": "2f0aa3fb488341caa352893b1a100f56",
    "order_count": null,
    "time": "2020-07-13T03:17:47.798Z",
    "type": "deleteCodeCell"
   },
   {
    "code": "bookmarked_charts[0].load(df[df[\"SubRegion\"]==\"Europe\"])",
    "id": "4c987cfa9e2e4cc79c10a45ecaaa5679",
    "order_count": 8,
    "time": "2020-07-13T03:17:50.066Z",
    "type": "selectCodeCell"
   },
   {
    "code": "bookmarked_charts[0].load(df[df[\"SubRegion\"]==\"Europe\"])",
    "id": "4c987cfa9e2e4cc79c10a45ecaaa5679",
    "order_count": null,
    "time": "2020-07-13T03:17:50.551Z",
    "type": "deleteCodeCell"
   },
   {
    "code": "df",
    "id": "67a5374ba1594f8a96f71e1f4c6145a1",
    "order_count": 8,
    "time": "2020-07-13T03:17:51.323Z",
    "type": "selectCodeCell"
   },
   {
    "time": "2020-07-13T03:17:56.892Z",
    "type": "kernelRestart"
   },
   {
    "time": "2020-07-13T03:17:57.971Z",
    "type": "kernelReady"
   }
  ],
  "kernelspec": {
   "display_name": "Python 3",
   "language": "python",
   "name": "python3"
  },
  "language_info": {
   "codemirror_mode": {
    "name": "ipython",
    "version": 3
   },
   "file_extension": ".py",
   "mimetype": "text/x-python",
   "name": "python",
   "nbconvert_exporter": "python",
   "pygments_lexer": "ipython3",
   "version": "3.7.7"
  }
 },
 "nbformat": 4,
 "nbformat_minor": 4
}
